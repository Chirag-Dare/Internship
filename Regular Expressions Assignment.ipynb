{
 "cells": [
  {
   "cell_type": "markdown",
   "id": "0c911911",
   "metadata": {},
   "source": [
    "Regular Expressions Assignment\n",
    "-----"
   ]
  },
  {
   "cell_type": "code",
   "execution_count": 1,
   "id": "59044568",
   "metadata": {},
   "outputs": [],
   "source": [
    "import re"
   ]
  },
  {
   "cell_type": "markdown",
   "id": "de91d90e",
   "metadata": {},
   "source": [
    "1. Write a Python program to check that a string contains only a certain set of characters (in this case a-z, A-Z and 0-9)."
   ]
  },
  {
   "cell_type": "code",
   "execution_count": 2,
   "id": "124f3289",
   "metadata": {},
   "outputs": [],
   "source": [
    "def check_string(test_string):\n",
    "    \n",
    "    pattern = r'^[a-zA-Z0-9]+$' # Define pattern\n",
    "    string = re.search(pattern,test_string) # Search for the pattern in the given test string\n",
    "    \n",
    "    if string:\n",
    "        return True # Return True if the string matches the pattern\n",
    "    else:\n",
    "        return False # Return False if the string does not match the pattern"
   ]
  },
  {
   "cell_type": "code",
   "execution_count": 3,
   "id": "35978e42",
   "metadata": {},
   "outputs": [
    {
     "data": {
      "text/plain": [
       "True"
      ]
     },
     "execution_count": 3,
     "metadata": {},
     "output_type": "execute_result"
    }
   ],
   "source": [
    "check_string('DataScience123')"
   ]
  },
  {
   "cell_type": "code",
   "execution_count": 4,
   "id": "abdf9c30",
   "metadata": {},
   "outputs": [
    {
     "data": {
      "text/plain": [
       "False"
      ]
     },
     "execution_count": 4,
     "metadata": {},
     "output_type": "execute_result"
    }
   ],
   "source": [
    "check_string('Data_Science123')"
   ]
  },
  {
   "cell_type": "markdown",
   "id": "76196b7f",
   "metadata": {},
   "source": [
    "2. Create a function in python that matches a string that has an a followed by zero or more b's."
   ]
  },
  {
   "cell_type": "code",
   "execution_count": 5,
   "id": "952ea725",
   "metadata": {
    "scrolled": true
   },
   "outputs": [],
   "source": [
    "def match_string(test_string):\n",
    "    \n",
    "    pattern = r'ab*' # Define pattern\n",
    "    string = re.search(pattern,test_string) # Search for the pattern in the given test string\n",
    "    \n",
    "    if string:\n",
    "        return True # Return True if the string matches the pattern\n",
    "    else:\n",
    "        return False # Return False if the string does not match the pattern"
   ]
  },
  {
   "cell_type": "code",
   "execution_count": 6,
   "id": "ae185162",
   "metadata": {},
   "outputs": [
    {
     "data": {
      "text/plain": [
       "True"
      ]
     },
     "execution_count": 6,
     "metadata": {},
     "output_type": "execute_result"
    }
   ],
   "source": [
    "match_string(\"a\")"
   ]
  },
  {
   "cell_type": "code",
   "execution_count": 7,
   "id": "ff339505",
   "metadata": {},
   "outputs": [
    {
     "data": {
      "text/plain": [
       "True"
      ]
     },
     "execution_count": 7,
     "metadata": {},
     "output_type": "execute_result"
    }
   ],
   "source": [
    "match_string(\"ab\")"
   ]
  },
  {
   "cell_type": "code",
   "execution_count": 8,
   "id": "77a4df80",
   "metadata": {},
   "outputs": [
    {
     "data": {
      "text/plain": [
       "True"
      ]
     },
     "execution_count": 8,
     "metadata": {},
     "output_type": "execute_result"
    }
   ],
   "source": [
    "match_string(\"abbbbb\")"
   ]
  },
  {
   "cell_type": "markdown",
   "id": "afc1df96",
   "metadata": {},
   "source": [
    "3. Create a function in python that matches a string that has an a followed by one or more b's."
   ]
  },
  {
   "cell_type": "code",
   "execution_count": 9,
   "id": "83c171aa",
   "metadata": {},
   "outputs": [],
   "source": [
    "def match_string(test_string):\n",
    "    \n",
    "    pattern = r'ab+' # Define pattern \n",
    "    string = re.search(pattern,test_string) # Search for the pattern in the given test string\n",
    "    \n",
    "    if string:\n",
    "        return True # Return True if the string matches the pattern\n",
    "    else:\n",
    "        return False # Return False if the string does not match the pattern"
   ]
  },
  {
   "cell_type": "code",
   "execution_count": 10,
   "id": "daf0a575",
   "metadata": {},
   "outputs": [
    {
     "data": {
      "text/plain": [
       "True"
      ]
     },
     "execution_count": 10,
     "metadata": {},
     "output_type": "execute_result"
    }
   ],
   "source": [
    "match_string(\"ab\")"
   ]
  },
  {
   "cell_type": "code",
   "execution_count": 11,
   "id": "ec0fcd35",
   "metadata": {},
   "outputs": [
    {
     "data": {
      "text/plain": [
       "True"
      ]
     },
     "execution_count": 11,
     "metadata": {},
     "output_type": "execute_result"
    }
   ],
   "source": [
    "match_string(\"abb\")"
   ]
  },
  {
   "cell_type": "code",
   "execution_count": 12,
   "id": "16893854",
   "metadata": {},
   "outputs": [
    {
     "data": {
      "text/plain": [
       "False"
      ]
     },
     "execution_count": 12,
     "metadata": {},
     "output_type": "execute_result"
    }
   ],
   "source": [
    "match_string(\"a\")"
   ]
  },
  {
   "cell_type": "markdown",
   "id": "27259f47",
   "metadata": {},
   "source": [
    "4. Create a function in Python and use RegEx that matches a string that has an a followed by zero or one 'b'."
   ]
  },
  {
   "cell_type": "code",
   "execution_count": 13,
   "id": "3886d197",
   "metadata": {},
   "outputs": [],
   "source": [
    "def match_string(test_string):\n",
    "    \n",
    "    pattern = r'ab?' # Define pattern\n",
    "    string = re.search(pattern,test_string) # Search for the pattern in the given test string\n",
    "    \n",
    "    if string:\n",
    "        return True # Return True if the string matches the pattern\n",
    "    else:\n",
    "        return False # Return False if the string does not match the pattern"
   ]
  },
  {
   "cell_type": "code",
   "execution_count": 14,
   "id": "91e7efd8",
   "metadata": {},
   "outputs": [
    {
     "data": {
      "text/plain": [
       "True"
      ]
     },
     "execution_count": 14,
     "metadata": {},
     "output_type": "execute_result"
    }
   ],
   "source": [
    "match_string(\"a\")"
   ]
  },
  {
   "cell_type": "code",
   "execution_count": 15,
   "id": "5c7c2091",
   "metadata": {
    "scrolled": true
   },
   "outputs": [
    {
     "data": {
      "text/plain": [
       "True"
      ]
     },
     "execution_count": 15,
     "metadata": {},
     "output_type": "execute_result"
    }
   ],
   "source": [
    "match_string(\"ab\")"
   ]
  },
  {
   "cell_type": "markdown",
   "id": "5d8aac36",
   "metadata": {},
   "source": [
    "5. Write a Python program that matches a string that has an a followed by three 'b'."
   ]
  },
  {
   "cell_type": "code",
   "execution_count": 16,
   "id": "7c2a587d",
   "metadata": {},
   "outputs": [],
   "source": [
    " def match_string(test_string):\n",
    "    \n",
    "    pattern = r'ab{3}' # Define pattern \n",
    "    string = re.search(pattern,test_string) # Search for the pattern in the given test string\n",
    "    \n",
    "    if string:\n",
    "        return True # Return True if the string matches the pattern\n",
    "    else:\n",
    "        return False # Return False if the string does not match the pattern"
   ]
  },
  {
   "cell_type": "code",
   "execution_count": 17,
   "id": "4b8269b9",
   "metadata": {},
   "outputs": [
    {
     "data": {
      "text/plain": [
       "True"
      ]
     },
     "execution_count": 17,
     "metadata": {},
     "output_type": "execute_result"
    }
   ],
   "source": [
    "match_string(\"abbb\")"
   ]
  },
  {
   "cell_type": "code",
   "execution_count": 18,
   "id": "a12053d9",
   "metadata": {},
   "outputs": [
    {
     "data": {
      "text/plain": [
       "False"
      ]
     },
     "execution_count": 18,
     "metadata": {},
     "output_type": "execute_result"
    }
   ],
   "source": [
    "match_string(\"ab\")"
   ]
  },
  {
   "cell_type": "code",
   "execution_count": 19,
   "id": "af9a5569",
   "metadata": {},
   "outputs": [
    {
     "data": {
      "text/plain": [
       "False"
      ]
     },
     "execution_count": 19,
     "metadata": {},
     "output_type": "execute_result"
    }
   ],
   "source": [
    "match_string(\"a\")"
   ]
  },
  {
   "cell_type": "markdown",
   "id": "0155a693",
   "metadata": {},
   "source": [
    "6. Write a regular expression in Python to split a string into uppercase letters.\n",
    "   \n",
    "   Sample text: “ImportanceOfRegularExpressionsInPython”"
   ]
  },
  {
   "cell_type": "code",
   "execution_count": 20,
   "id": "dab81186",
   "metadata": {},
   "outputs": [],
   "source": [
    "def split_string(sample_text):\n",
    "    \n",
    "    pattern = r'[A-Z][a-z]*' # Define pattern\n",
    "    string = re.findall(pattern,sample_text) # Find all the strings which follow pattern in the given sample text\n",
    "    \n",
    "    print(string)"
   ]
  },
  {
   "cell_type": "code",
   "execution_count": 21,
   "id": "f9b65651",
   "metadata": {},
   "outputs": [
    {
     "name": "stdout",
     "output_type": "stream",
     "text": [
      "['Importance', 'Of', 'Regular', 'Expressions', 'In', 'Python']\n"
     ]
    }
   ],
   "source": [
    "split_string(\"ImportanceOfRegularExpressionsInPython\")"
   ]
  },
  {
   "cell_type": "markdown",
   "id": "5a097f64",
   "metadata": {},
   "source": [
    "7. Write a Python program that matches a string that has an a followed by two to three 'b'."
   ]
  },
  {
   "cell_type": "code",
   "execution_count": 22,
   "id": "90b189cc",
   "metadata": {},
   "outputs": [],
   "source": [
    "def match_string(test_string):\n",
    "    \n",
    "    pattern = r'ab{2,3}' # Define pattern\n",
    "    string = re.search(pattern,test_string) # Search for the pattern in the given test string\n",
    "    \n",
    "    if string:\n",
    "        return True # Return True if the string matches the pattern\n",
    "    else:\n",
    "        return False # Return False if the string does not match the pattern"
   ]
  },
  {
   "cell_type": "code",
   "execution_count": 23,
   "id": "56e8ac4b",
   "metadata": {},
   "outputs": [
    {
     "data": {
      "text/plain": [
       "True"
      ]
     },
     "execution_count": 23,
     "metadata": {},
     "output_type": "execute_result"
    }
   ],
   "source": [
    "match_string(\"abb\")"
   ]
  },
  {
   "cell_type": "code",
   "execution_count": 24,
   "id": "1f9d48c6",
   "metadata": {},
   "outputs": [
    {
     "data": {
      "text/plain": [
       "True"
      ]
     },
     "execution_count": 24,
     "metadata": {},
     "output_type": "execute_result"
    }
   ],
   "source": [
    "match_string(\"abbb\")"
   ]
  },
  {
   "cell_type": "code",
   "execution_count": 25,
   "id": "b3649208",
   "metadata": {
    "scrolled": true
   },
   "outputs": [
    {
     "data": {
      "text/plain": [
       "False"
      ]
     },
     "execution_count": 25,
     "metadata": {},
     "output_type": "execute_result"
    }
   ],
   "source": [
    "match_string(\"a\")"
   ]
  },
  {
   "cell_type": "markdown",
   "id": "dfdb7568",
   "metadata": {},
   "source": [
    "8. Write a Python program to find sequences of lowercase letters joined with a underscore."
   ]
  },
  {
   "cell_type": "code",
   "execution_count": 26,
   "id": "7cf70264",
   "metadata": {},
   "outputs": [],
   "source": [
    "def find_sequences(test_string):\n",
    "    \n",
    "    pattern = '^[a-z]+_[a-z]+$' # Define pattern \n",
    "    string = re.search(pattern,test_string) # Search for the pattern in the given test string\n",
    "    \n",
    "    if string:\n",
    "        return True # Return True if the string matches the pattern\n",
    "    else:\n",
    "        return False # Return False if the string does not match the pattern"
   ]
  },
  {
   "cell_type": "code",
   "execution_count": 27,
   "id": "3330b4cf",
   "metadata": {},
   "outputs": [
    {
     "data": {
      "text/plain": [
       "True"
      ]
     },
     "execution_count": 27,
     "metadata": {},
     "output_type": "execute_result"
    }
   ],
   "source": [
    "find_sequences(\"aa_bb\")"
   ]
  },
  {
   "cell_type": "code",
   "execution_count": 28,
   "id": "590b0cb7",
   "metadata": {},
   "outputs": [
    {
     "data": {
      "text/plain": [
       "False"
      ]
     },
     "execution_count": 28,
     "metadata": {},
     "output_type": "execute_result"
    }
   ],
   "source": [
    "find_sequences(\"aab#@bcc\")"
   ]
  },
  {
   "cell_type": "markdown",
   "id": "e83c6c77",
   "metadata": {},
   "source": [
    "9. Write a Python program that matches a string that has an 'a' followed by anything, ending in 'b'."
   ]
  },
  {
   "cell_type": "code",
   "execution_count": 29,
   "id": "cc3ee178",
   "metadata": {
    "scrolled": true
   },
   "outputs": [],
   "source": [
    "def match_string(test_string):\n",
    "    \n",
    "    pattern = r'a.*?b$'  # Define pattern\n",
    "    string = re.search(pattern,test_string) # Search for the pattern in the given test string\n",
    "    \n",
    "    if string:\n",
    "        return True # Return True if the string matches the pattern\n",
    "    else:\n",
    "        return False # Return False if the string does not match the pattern"
   ]
  },
  {
   "cell_type": "code",
   "execution_count": 30,
   "id": "8ce21390",
   "metadata": {},
   "outputs": [
    {
     "data": {
      "text/plain": [
       "True"
      ]
     },
     "execution_count": 30,
     "metadata": {},
     "output_type": "execute_result"
    }
   ],
   "source": [
    "match_string('acb')"
   ]
  },
  {
   "cell_type": "code",
   "execution_count": 31,
   "id": "4ea3f4d2",
   "metadata": {},
   "outputs": [
    {
     "data": {
      "text/plain": [
       "True"
      ]
     },
     "execution_count": 31,
     "metadata": {},
     "output_type": "execute_result"
    }
   ],
   "source": [
    "match_string('ac#@b')"
   ]
  },
  {
   "cell_type": "code",
   "execution_count": 32,
   "id": "45e3c2db",
   "metadata": {},
   "outputs": [
    {
     "data": {
      "text/plain": [
       "False"
      ]
     },
     "execution_count": 32,
     "metadata": {},
     "output_type": "execute_result"
    }
   ],
   "source": [
    "match_string('ac')"
   ]
  },
  {
   "cell_type": "markdown",
   "id": "5362a1e6",
   "metadata": {},
   "source": [
    "10. Write a Python program that matches a word at the beginning of a string."
   ]
  },
  {
   "cell_type": "code",
   "execution_count": 33,
   "id": "bcfcc874",
   "metadata": {},
   "outputs": [],
   "source": [
    "def match_string(test_string):\n",
    "    \n",
    "    pattern = r'^[a-zA-Z]+' # Define pattern\n",
    "    string = re.match(pattern,test_string) # Match for the pattern in the given test string\n",
    "    \n",
    "    if string:\n",
    "        return True # Return True if the string matches the pattern\n",
    "    else:\n",
    "        return False # Return False if the string does not match the pattern"
   ]
  },
  {
   "cell_type": "code",
   "execution_count": 34,
   "id": "8a653bb6",
   "metadata": {},
   "outputs": [
    {
     "data": {
      "text/plain": [
       "True"
      ]
     },
     "execution_count": 34,
     "metadata": {},
     "output_type": "execute_result"
    }
   ],
   "source": [
    "match_string('abc123@3')"
   ]
  },
  {
   "cell_type": "code",
   "execution_count": 35,
   "id": "d3e64c25",
   "metadata": {},
   "outputs": [
    {
     "data": {
      "text/plain": [
       "True"
      ]
     },
     "execution_count": 35,
     "metadata": {},
     "output_type": "execute_result"
    }
   ],
   "source": [
    "match_string('ABC123@#')"
   ]
  },
  {
   "cell_type": "code",
   "execution_count": 36,
   "id": "5b1b3594",
   "metadata": {},
   "outputs": [
    {
     "data": {
      "text/plain": [
       "False"
      ]
     },
     "execution_count": 36,
     "metadata": {},
     "output_type": "execute_result"
    }
   ],
   "source": [
    "match_string('123Abc#@')"
   ]
  },
  {
   "cell_type": "code",
   "execution_count": 37,
   "id": "e8bb1130",
   "metadata": {},
   "outputs": [
    {
     "data": {
      "text/plain": [
       "False"
      ]
     },
     "execution_count": 37,
     "metadata": {},
     "output_type": "execute_result"
    }
   ],
   "source": [
    "match_string('*abc123')"
   ]
  },
  {
   "cell_type": "markdown",
   "id": "0e6e79e8",
   "metadata": {},
   "source": [
    "11. Write a Python program to match a string that contains only upper and lowercase letters, numbers, and underscores."
   ]
  },
  {
   "cell_type": "code",
   "execution_count": 38,
   "id": "7090a6a5",
   "metadata": {},
   "outputs": [],
   "source": [
    "def match_string(test_string):\n",
    "    \n",
    "    pattern = r'^[a-zA-Z0-9_]*$' # Define pattern\n",
    "    string = re.search(pattern,test_string) # Search for the pattern in the given test string\n",
    "    \n",
    "    if string:\n",
    "        return True # Return True if the string matches the pattern\n",
    "    else:\n",
    "        return False # Return False if the string does not match the pattern"
   ]
  },
  {
   "cell_type": "code",
   "execution_count": 39,
   "id": "d74480c2",
   "metadata": {},
   "outputs": [
    {
     "data": {
      "text/plain": [
       "True"
      ]
     },
     "execution_count": 39,
     "metadata": {},
     "output_type": "execute_result"
    }
   ],
   "source": [
    "match_string('Abc123_')"
   ]
  },
  {
   "cell_type": "code",
   "execution_count": 40,
   "id": "6d056e97",
   "metadata": {},
   "outputs": [
    {
     "data": {
      "text/plain": [
       "False"
      ]
     },
     "execution_count": 40,
     "metadata": {},
     "output_type": "execute_result"
    }
   ],
   "source": [
    "match_string('Abc123#')"
   ]
  },
  {
   "cell_type": "code",
   "execution_count": 41,
   "id": "77b05a83",
   "metadata": {},
   "outputs": [
    {
     "data": {
      "text/plain": [
       "False"
      ]
     },
     "execution_count": 41,
     "metadata": {},
     "output_type": "execute_result"
    }
   ],
   "source": [
    "match_string('abc_123_ABC_*#')"
   ]
  },
  {
   "cell_type": "markdown",
   "id": "580cede9",
   "metadata": {},
   "source": [
    "12. Write a Python program where a string will start with a specific number. "
   ]
  },
  {
   "cell_type": "code",
   "execution_count": 42,
   "id": "6149aa25",
   "metadata": {},
   "outputs": [],
   "source": [
    "def match_string(test_string):\n",
    "    \n",
    "    pattern = r'^[0-9]+' # Define pattern \n",
    "    string = re.match(pattern,test_string) # Match for the pattern in the given test string\n",
    "    \n",
    "    if string:\n",
    "        return True # Return True if the string matches the pattern\n",
    "    else:\n",
    "        return False # Return False if the string does not match the pattern"
   ]
  },
  {
   "cell_type": "code",
   "execution_count": 43,
   "id": "70a6040d",
   "metadata": {},
   "outputs": [
    {
     "data": {
      "text/plain": [
       "True"
      ]
     },
     "execution_count": 43,
     "metadata": {},
     "output_type": "execute_result"
    }
   ],
   "source": [
    "match_string('123abc')"
   ]
  },
  {
   "cell_type": "code",
   "execution_count": 44,
   "id": "dcd08fee",
   "metadata": {},
   "outputs": [
    {
     "data": {
      "text/plain": [
       "False"
      ]
     },
     "execution_count": 44,
     "metadata": {},
     "output_type": "execute_result"
    }
   ],
   "source": [
    "match_string('abc123')"
   ]
  },
  {
   "cell_type": "markdown",
   "id": "2c5e356c",
   "metadata": {},
   "source": [
    "13. Write a Python program to remove leading zeros from an IP address."
   ]
  },
  {
   "cell_type": "code",
   "execution_count": 45,
   "id": "8edb6390",
   "metadata": {},
   "outputs": [],
   "source": [
    "def remove_leading_zeros_from_ip_address(ip_address):\n",
    "    \n",
    "    pattern = r'\\b0+'  # Define pattern\n",
    "    modified_ip_address = re.sub(pattern,'',ip_address) # Substitute all matches for the pattern with an empty string\n",
    "\n",
    "    print(\"Original IP Address:\", ip_address)\n",
    "    print(\"Modified IP Address:\", modified_ip_address)"
   ]
  },
  {
   "cell_type": "code",
   "execution_count": 46,
   "id": "c71b5af4",
   "metadata": {},
   "outputs": [
    {
     "name": "stdout",
     "output_type": "stream",
     "text": [
      "Original IP Address: 192.168.001.001\n",
      "Modified IP Address: 192.168.1.1\n"
     ]
    }
   ],
   "source": [
    "remove_leading_zeros_from_ip_address(\"192.168.001.001\")"
   ]
  },
  {
   "cell_type": "markdown",
   "id": "bb8e0bb4",
   "metadata": {},
   "source": [
    "14. Write a regular expression in python to match a date string in the form of Month name followed by day number and year stored in a text file.\n",
    "    \n",
    "    Sample text : 'On August 15th 1947 that India was declared independent from British colonialism, and the reins of control were handed over to the leaders of the Country.’\n",
    "\n",
    "    Output- August 15th 1947\n",
    "    \n",
    "    Hint- Use re.match() method here"
   ]
  },
  {
   "cell_type": "code",
   "execution_count": 47,
   "id": "e37bd2cf",
   "metadata": {},
   "outputs": [],
   "source": [
    "# Creating file and storing smaple text in it\n",
    "sample_text = \"On August 15th 1947 that India was declared independent from British colonialism, and the reins of control were handed over to the leaders of the Country.\"\n",
    "file_path = \"test.txt\"\n",
    "\n",
    "with open(file_path,'w') as file:\n",
    "    file.write(sample_text) \n",
    "    \n",
    "with open(file_path,'r') as file:\n",
    "    text = file.read() "
   ]
  },
  {
   "cell_type": "code",
   "execution_count": 48,
   "id": "5fa9b16d",
   "metadata": {},
   "outputs": [],
   "source": [
    "def extract_date(text):\n",
    "    \n",
    "    pattern = r\".*(\\s[A-Za-z]+\\s\\d{1,2}\\w{2}\\s\\d{4})\"  # Define pattern\n",
    "    date_string = re.match(pattern,text) # Match for the pattern in the given text\n",
    "    \n",
    "    if date_string:\n",
    "        date = date_string.group(1) # Store 1st match for date in date\n",
    "        print(date)\n",
    "    else:\n",
    "        print(\"Date not found\")"
   ]
  },
  {
   "cell_type": "code",
   "execution_count": 49,
   "id": "cea08976",
   "metadata": {},
   "outputs": [
    {
     "name": "stdout",
     "output_type": "stream",
     "text": [
      " August 15th 1947\n"
     ]
    }
   ],
   "source": [
    "extract_date(text)"
   ]
  },
  {
   "cell_type": "markdown",
   "id": "ad0bfc34",
   "metadata": {},
   "source": [
    "15. Write a Python program to search some literals strings in a string.\n",
    "    \n",
    "    Sample text : 'The quick brown fox jumps over the lazy dog.'\n",
    "    \n",
    "    Searched words : 'fox', 'dog', 'horse'"
   ]
  },
  {
   "cell_type": "code",
   "execution_count": 50,
   "id": "84cbd98a",
   "metadata": {},
   "outputs": [
    {
     "name": "stdout",
     "output_type": "stream",
     "text": [
      "fox found!\n",
      "dog found!\n",
      "horse not found!\n"
     ]
    }
   ],
   "source": [
    "sample_text = \"The quick brown fox jumps over the lazy dog.\" \n",
    "words = ['fox','dog','horse'] # String literals to be searched\n",
    "\n",
    "for word in words:\n",
    "    \n",
    "    if re.search(word,sample_text): # Search for the string literal in the sample text\n",
    "        print(word,\"found!\") # If string literal found\n",
    "    else:\n",
    "        print(word,\"not found!\") # If string literal not found"
   ]
  },
  {
   "cell_type": "markdown",
   "id": "42777436",
   "metadata": {},
   "source": [
    "16. Write a Python program to search a literals string in a string and also find the location within the original string where the pattern occurs.\n",
    "\n",
    "    Sample text : 'The quick brown fox jumps over the lazy dog.'\n",
    "    \n",
    "    Searched words : 'fox'"
   ]
  },
  {
   "cell_type": "code",
   "execution_count": 51,
   "id": "2a2abffd",
   "metadata": {},
   "outputs": [
    {
     "name": "stdout",
     "output_type": "stream",
     "text": [
      "fox found! at index 16 : 19\n"
     ]
    }
   ],
   "source": [
    "sample_text = \"The quick brown fox jumps over the lazy dog.\"\n",
    "word = 'fox' # String literal to be searched\n",
    "\n",
    "string_literal = re.search(word,sample_text) # Search for the string literal in the sample text\n",
    "\n",
    "if string_literal: # Search for the string literal in the sample text   \n",
    "    start_index = string_literal.start() # Extract and store starting index of the string literal\n",
    "    end_index = string_literal.end() # Extract and stor ending index of the word literal\n",
    "    print(word,\"found! at index\",start_index,\":\",end_index) # If strig literal found\n",
    "else:\n",
    "    print(word,\"not found!\") # If string literal not found"
   ]
  },
  {
   "cell_type": "markdown",
   "id": "e2938043",
   "metadata": {},
   "source": [
    "17. Write a Python program to find the substrings within a string.\n",
    "    \n",
    "    Sample text : 'Python exercises, PHP exercises, C# exercises'\n",
    "    \n",
    "    Pattern : 'exercises'"
   ]
  },
  {
   "cell_type": "code",
   "execution_count": 52,
   "id": "ed4bebb6",
   "metadata": {},
   "outputs": [
    {
     "name": "stdout",
     "output_type": "stream",
     "text": [
      "exercises found!\n",
      "exercises found!\n",
      "exercises found!\n"
     ]
    }
   ],
   "source": [
    "sample_text = \"Python exercises, PHP exercises, C# exercises\"\n",
    "pattern = 'exercises' # Substring to be searched\n",
    "\n",
    "substrings = re.findall(pattern,sample_text) # Find all the substrings in the sample text\n",
    "\n",
    "for substring in substrings: \n",
    "    \n",
    "    print(substring,\"found!\") "
   ]
  },
  {
   "cell_type": "markdown",
   "id": "3d2a3ec9",
   "metadata": {},
   "source": [
    "18.  Write a Python program to find the occurrence and position of the substrings within a string."
   ]
  },
  {
   "cell_type": "code",
   "execution_count": 53,
   "id": "f9d3ad6f",
   "metadata": {},
   "outputs": [
    {
     "name": "stdout",
     "output_type": "stream",
     "text": [
      "exercises at index 7 : 16\n",
      "exercises at index 22 : 31\n",
      "exercises at index 36 : 45\n"
     ]
    }
   ],
   "source": [
    "string = \"Python exercises, PHP exercises, C# exercises\"\n",
    "substring = 'exercises' # Substring to be searched\n",
    "\n",
    "substrings = re.finditer(substring,string) # Find all the substrings in the string\n",
    "\n",
    "for substr in substrings:\n",
    "    \n",
    "    sub_string = substr.group() # Store match for the substring in sub_string\n",
    "    start_index, end_index = substr.span() # Extract and store start index and end index of substring\n",
    "    print(sub_string,\"at index\",start_index,\":\",end_index)"
   ]
  },
  {
   "cell_type": "markdown",
   "id": "c2c69e4d",
   "metadata": {},
   "source": [
    "19. Write a Python program to convert a date of yyyy-mm-dd format to dd-mm-yyyy format."
   ]
  },
  {
   "cell_type": "code",
   "execution_count": 54,
   "id": "5c7022b2",
   "metadata": {},
   "outputs": [],
   "source": [
    "def convert_date_format(date):\n",
    "    \n",
    "    pattern = r'(\\d{4})-(\\d{2})-(\\d{2})' # Define pattern \n",
    "    converted_date_format = re.sub(pattern,r'\\3-\\2-\\1',date) # Substitute all matches for the pattern with backreferences\n",
    "    \n",
    "    print(converted_date_format)"
   ]
  },
  {
   "cell_type": "code",
   "execution_count": 55,
   "id": "4879884d",
   "metadata": {},
   "outputs": [
    {
     "name": "stdout",
     "output_type": "stream",
     "text": [
      "15-07-2022\n"
     ]
    }
   ],
   "source": [
    "convert_date_format(\"2022-07-15\")"
   ]
  },
  {
   "cell_type": "markdown",
   "id": "e37e80bf",
   "metadata": {},
   "source": [
    "20. Write a Python program to find all words starting with 'a' or 'e' in a given string."
   ]
  },
  {
   "cell_type": "code",
   "execution_count": 56,
   "id": "381a2320",
   "metadata": {},
   "outputs": [],
   "source": [
    "def words_start_with_a_or_e(test_string):\n",
    "    \n",
    "    pattern = r'(\\b[aAeE]\\b|\\b[aAeE]\\w+\\b)' # Define pattern\n",
    "    words = re.findall(pattern,test_string) # Find all the strings which follow pattern in the given test string\n",
    "    \n",
    "    print(words)"
   ]
  },
  {
   "cell_type": "code",
   "execution_count": 57,
   "id": "0d9f243a",
   "metadata": {},
   "outputs": [
    {
     "name": "stdout",
     "output_type": "stream",
     "text": [
      "['A', 'an', 'eager', 'artist', 'admired', 'everyone']\n"
     ]
    }
   ],
   "source": [
    "words_start_with_a_or_e(\"A quick brown fox jumped over an eager dog. The artist's work is admired by everyone.\")"
   ]
  },
  {
   "cell_type": "markdown",
   "id": "55c406bc",
   "metadata": {},
   "source": [
    "21. Write a Python program to separate and print the numbers and their position of a given string."
   ]
  },
  {
   "cell_type": "code",
   "execution_count": 58,
   "id": "5e50a0b8",
   "metadata": {},
   "outputs": [],
   "source": [
    "def separate_numbers(test_string):\n",
    "    \n",
    "    pattern = r'\\d+' # Define pattern\n",
    "    numbers = re.finditer(pattern,test_string) # Find all the strings which follow pattern in the given test string\n",
    "    \n",
    "    for number in numbers:\n",
    "        \n",
    "        numbers = number.group() # Store match for the pattern in numbers\n",
    "        start_index, end_index = number.span() # Extract and store start index and end index of number\n",
    "        \n",
    "        print(numbers,\"at index\",start_index,\":\",end_index)"
   ]
  },
  {
   "cell_type": "code",
   "execution_count": 59,
   "id": "b1e967d3",
   "metadata": {},
   "outputs": [
    {
     "name": "stdout",
     "output_type": "stream",
     "text": [
      "12 at index 7 : 9\n",
      "20 at index 21 : 23\n",
      "15 at index 35 : 37\n"
     ]
    }
   ],
   "source": [
    "separate_numbers(\"Apples 12 kg Mangoes 20 kg Oranges 15 kg\")"
   ]
  },
  {
   "cell_type": "markdown",
   "id": "f4c516d8",
   "metadata": {},
   "source": [
    "22. Write a regular expression in python program to extract maximum numeric value from a string."
   ]
  },
  {
   "cell_type": "code",
   "execution_count": 60,
   "id": "59eb9d65",
   "metadata": {},
   "outputs": [],
   "source": [
    "def extract_maximum_number(test_string):\n",
    "    \n",
    "    pattern = r'\\d+' # Define pattern\n",
    "    numbers = re.findall(pattern,test_string) # Find all the strings which follow pattern in the given test string\n",
    "    \n",
    "    numbers = map(int,numbers) # Convert datatype of values into int datatye\n",
    "    \n",
    "    print(\"Maximum number:\",max(numbers)) # Display maximum number"
   ]
  },
  {
   "cell_type": "code",
   "execution_count": 61,
   "id": "42837702",
   "metadata": {},
   "outputs": [
    {
     "name": "stdout",
     "output_type": "stream",
     "text": [
      "Maximum number: 200\n"
     ]
    }
   ],
   "source": [
    "extract_maximum_number(\"Apple125Mangoes200Oranges190\")"
   ]
  },
  {
   "cell_type": "markdown",
   "id": "f08009ff",
   "metadata": {},
   "source": [
    "23. Write a Regex in Python to put spaces between words starting with capital letters."
   ]
  },
  {
   "cell_type": "code",
   "execution_count": 62,
   "id": "9d472bb4",
   "metadata": {},
   "outputs": [],
   "source": [
    "def add_spaces_between_capital_words(test_string):\n",
    "    \n",
    "    pattern = r'[A-Z][a-z]*' # Define pattern\n",
    "    words = re.findall(pattern,test_string) # Find all the strings which follow pattern in the given test string\n",
    "    \n",
    "    print(' '.join(words)) # Put space between words"
   ]
  },
  {
   "cell_type": "code",
   "execution_count": 63,
   "id": "4c0244eb",
   "metadata": {},
   "outputs": [
    {
     "name": "stdout",
     "output_type": "stream",
     "text": [
      "Data Science Is An Emerging Career\n"
     ]
    }
   ],
   "source": [
    "add_spaces_between_capital_words(\"DataScienceIsAnEmergingCareer\")"
   ]
  },
  {
   "cell_type": "markdown",
   "id": "965ea8ad",
   "metadata": {},
   "source": [
    "24. Write regex in Python to find sequences of one upper case letter followed by lower case letters."
   ]
  },
  {
   "cell_type": "code",
   "execution_count": 64,
   "id": "b8dc7ad1",
   "metadata": {},
   "outputs": [],
   "source": [
    "def find_sequence(test_string):\n",
    "    \n",
    "    pattern = r'[A-Z][a-z]*' # Define pattern\n",
    "    words = re.findall(pattern,test_string) # Find all the strings which follow pattern in the given test string\n",
    "    \n",
    "    print(words)"
   ]
  },
  {
   "cell_type": "code",
   "execution_count": 65,
   "id": "578d57ff",
   "metadata": {
    "scrolled": true
   },
   "outputs": [
    {
     "name": "stdout",
     "output_type": "stream",
     "text": [
      "['Data', 'Science', 'Is', 'An', 'Emerging', 'Career']\n"
     ]
    }
   ],
   "source": [
    "find_sequence(\"DataScienceIsAnEmergingCareer\")"
   ]
  },
  {
   "cell_type": "markdown",
   "id": "a90e9180",
   "metadata": {},
   "source": [
    "25. Write a Python program to remove duplicate words from Sentence using Regular Expression."
   ]
  },
  {
   "cell_type": "code",
   "execution_count": 66,
   "id": "b6c3932a",
   "metadata": {},
   "outputs": [],
   "source": [
    "def remove_duplicate_words(sentence):\n",
    "    \n",
    "    pattern = r'\\b(\\w+)\\b\\s(?=.*\\b\\1\\b)' # Define pattern\n",
    "    modified_sentence = re.sub(pattern,'',sentence) # Substitute the matches for pattern with empty string\n",
    "    \n",
    "    print(modified_sentence)"
   ]
  },
  {
   "cell_type": "code",
   "execution_count": 67,
   "id": "16729825",
   "metadata": {},
   "outputs": [
    {
     "name": "stdout",
     "output_type": "stream",
     "text": [
      "Data Science is an emerging career\n"
     ]
    }
   ],
   "source": [
    "remove_duplicate_words(\"Data Science Data Science is is an an emerging emerging career career\")"
   ]
  },
  {
   "cell_type": "markdown",
   "id": "8d3076a7",
   "metadata": {},
   "source": [
    "26. Write a python program using RegEx to accept string ending with alphanumeric character."
   ]
  },
  {
   "cell_type": "code",
   "execution_count": 68,
   "id": "1c35d057",
   "metadata": {},
   "outputs": [],
   "source": [
    "def check_string(test_string):\n",
    "    \n",
    "    pattern = '[a-zA-z0-9]$' # Define pattern\n",
    "    string = re.search(pattern,test_string) # Search string which follows pattern in given test string\n",
    "    \n",
    "    if string:\n",
    "        print(\"String accepted\") # If string ends with alphanumeric character\n",
    "    else:\n",
    "        print(\"String not accepted\") # If string does not end with alphanumeric character"
   ]
  },
  {
   "cell_type": "code",
   "execution_count": 69,
   "id": "8556b6c1",
   "metadata": {},
   "outputs": [
    {
     "name": "stdout",
     "output_type": "stream",
     "text": [
      "String accepted\n"
     ]
    }
   ],
   "source": [
    "check_string('Abc123')"
   ]
  },
  {
   "cell_type": "code",
   "execution_count": 70,
   "id": "5ba29438",
   "metadata": {},
   "outputs": [
    {
     "name": "stdout",
     "output_type": "stream",
     "text": [
      "String not accepted\n"
     ]
    }
   ],
   "source": [
    "check_string('Abc123#')"
   ]
  },
  {
   "cell_type": "code",
   "execution_count": 71,
   "id": "7e357490",
   "metadata": {},
   "outputs": [
    {
     "name": "stdout",
     "output_type": "stream",
     "text": [
      "String accepted\n"
     ]
    }
   ],
   "source": [
    "check_string('123Abc')"
   ]
  },
  {
   "cell_type": "markdown",
   "id": "7571ca34",
   "metadata": {},
   "source": [
    "27. Python program to extract the hashtags using regular expression.\n",
    "    \n",
    "    Sample Text: \"\"\"RT @kapil_kausik: #Doltiwal I mean #xyzabc is \"hurt\" by #Demonetization as the same has rendered USELESS         <ed><U+00A0><U+00BD><ed><U+00B1><U+0089> \"acquired funds\" No wo\"\"\"\n",
    "\n",
    "    Output: ['#Doltiwal', '#xyzabc', '#Demonetization']"
   ]
  },
  {
   "cell_type": "code",
   "execution_count": 72,
   "id": "2446a7c2",
   "metadata": {},
   "outputs": [],
   "source": [
    "def extract_hashtags(text):\n",
    "    \n",
    "    pattern = r'#\\w+' # Define pattern\n",
    "    words_with_hashtags = re.findall(pattern,text) # Find all the strings which follow pattern in the given text\n",
    "    \n",
    "    print(words_with_hashtags)"
   ]
  },
  {
   "cell_type": "code",
   "execution_count": 73,
   "id": "a8fee9a8",
   "metadata": {},
   "outputs": [
    {
     "name": "stdout",
     "output_type": "stream",
     "text": [
      "['#Doltiwal', '#xyzabc', '#Demonetization']\n"
     ]
    }
   ],
   "source": [
    "sample_text = \"\"\"RT @kapil_kausik: #Doltiwal I mean #xyzabc is \"hurt\" by #Demonetization as the same has rendered USELESS <U+00A0><U+00BD><U+00B1><U+0089> \"acquired funds\" No wo\"\"\"\n",
    "extract_hashtags(sample_text)"
   ]
  },
  {
   "cell_type": "markdown",
   "id": "fcd55ef0",
   "metadata": {},
   "source": [
    "28. Python program to remove <U+..> like symbols using regular expression.\n",
    "\n",
    "    Check the below sample text, there are strange symbols something of the sort <U+..> all over the place.\n",
    "    You need to come up with a general Regex expression that will cover all such symbols.\n",
    "    \n",
    "    Sample Text: \"@Jags123456 Bharat band on 28??<ed><U+00A0><U+00BD><ed><U+00B8><U+0082>Those who are protesting                   #demonetization areall different party leaders\"              \n",
    "\n",
    "    Output: @Jags123456 Bharat band on 28??<ed><ed>Those who are protesting #demonetization are all\n",
    "    different party leaders"
   ]
  },
  {
   "cell_type": "code",
   "execution_count": 74,
   "id": "37f1e806",
   "metadata": {},
   "outputs": [],
   "source": [
    "def remove_U_symbols(text):\n",
    "    \n",
    "    pattern = r'<U\\+[0-9A-Fa-f]{4}>' # Define pattern\n",
    "    modified_text = re.sub(pattern,'',text) # Substitue matches for pattern with empty string\n",
    "    \n",
    "    print(modified_text)"
   ]
  },
  {
   "cell_type": "code",
   "execution_count": 75,
   "id": "cfe88c95",
   "metadata": {},
   "outputs": [
    {
     "name": "stdout",
     "output_type": "stream",
     "text": [
      "@Jags123456 Bharat band on 28??<ed><ed>Those who are protesting #demonetization are all different party leaders\n"
     ]
    }
   ],
   "source": [
    "sample_text = \"@Jags123456 Bharat band on 28??<ed><U+00A0><U+00BD><ed><U+00B8><U+0082>Those who are protesting #demonetization are all different party leaders\"\n",
    "remove_U_symbols(sample_text)"
   ]
  },
  {
   "cell_type": "markdown",
   "id": "1ab4cfcd",
   "metadata": {},
   "source": [
    "29. Write a python program to extract dates from the text stored in the text file.\n",
    "    \n",
    "    Sample Text: Ron was born on 12-09-1992 and he was admitted to school 15-12-1999.\n",
    "    \n",
    "    Store this sample text in the file and then extract dates."
   ]
  },
  {
   "cell_type": "code",
   "execution_count": 76,
   "id": "b7c9e273",
   "metadata": {},
   "outputs": [],
   "source": [
    "file_text = \"Ron was born on 12-09-1992 and he was admitted to school 15-12-1999\"\n",
    "file_path = \"test.txt\"\n",
    "\n",
    "with open(file_path,'w') as file:\n",
    "    file.write(file_text)\n",
    "    \n",
    "with open(file_path,'r') as file:\n",
    "    text = file.read()"
   ]
  },
  {
   "cell_type": "code",
   "execution_count": 77,
   "id": "dec4971d",
   "metadata": {},
   "outputs": [],
   "source": [
    "def extract_dates(text):\n",
    "    \n",
    "    pattern = r'\\b\\d{2}-\\d{2}-\\d{4}\\b' # Define pattern\n",
    "    dates = re.findall(pattern,text) # Find all the strings which follow pattern in the given text\n",
    "     \n",
    "    print(dates)"
   ]
  },
  {
   "cell_type": "code",
   "execution_count": 78,
   "id": "d7ecdca2",
   "metadata": {},
   "outputs": [
    {
     "name": "stdout",
     "output_type": "stream",
     "text": [
      "['12-09-1992', '15-12-1999']\n"
     ]
    }
   ],
   "source": [
    "extract_dates(text)"
   ]
  },
  {
   "cell_type": "markdown",
   "id": "4ef3fae3",
   "metadata": {},
   "source": [
    "30. Write a Python program to replace all occurrences of a space, comma, or dot with a colon.\n",
    "    \n",
    "    Sample Text- 'Python Exercises, PHP exercises.'\n",
    "    \n",
    "    Output: Python:Exercises::PHP:exercises:"
   ]
  },
  {
   "cell_type": "code",
   "execution_count": 79,
   "id": "6f1081c0",
   "metadata": {},
   "outputs": [],
   "source": [
    "def replace_with_colon(text):\n",
    "    \n",
    "    pattern = r'[ ,.]' # Define pattern\n",
    "    modified_text = re.sub(pattern,':',text) # Substitute the matches for pattern with colon \n",
    "    \n",
    "    print(modified_text)"
   ]
  },
  {
   "cell_type": "code",
   "execution_count": 80,
   "id": "6d7725d8",
   "metadata": {},
   "outputs": [
    {
     "name": "stdout",
     "output_type": "stream",
     "text": [
      "Python:Exercises::PHP:exercises:\n"
     ]
    }
   ],
   "source": [
    "sample_text = 'Python Exercises, PHP exercises.'\n",
    "replace_with_colon(sample_text)"
   ]
  }
 ],
 "metadata": {
  "kernelspec": {
   "display_name": "Python 3 (ipykernel)",
   "language": "python",
   "name": "python3"
  },
  "language_info": {
   "codemirror_mode": {
    "name": "ipython",
    "version": 3
   },
   "file_extension": ".py",
   "mimetype": "text/x-python",
   "name": "python",
   "nbconvert_exporter": "python",
   "pygments_lexer": "ipython3",
   "version": "3.9.13"
  }
 },
 "nbformat": 4,
 "nbformat_minor": 5
}
