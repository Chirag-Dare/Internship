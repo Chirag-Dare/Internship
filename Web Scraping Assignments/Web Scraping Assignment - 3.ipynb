{
 "cells": [
  {
   "cell_type": "markdown",
   "id": "9d1751bb",
   "metadata": {},
   "source": [
    "Web Scraping Assignment - 3\n",
    "---"
   ]
  },
  {
   "cell_type": "code",
   "execution_count": 1,
   "id": "f73c522c",
   "metadata": {},
   "outputs": [],
   "source": [
    "import selenium\n",
    "import requests\n",
    "import pandas as pd\n",
    "from selenium import webdriver\n",
    "import warnings \n",
    "warnings.filterwarnings('ignore')\n",
    "from selenium.webdriver.common.by import By\n",
    "from selenium.common.exceptions import NoSuchElementException,ElementClickInterceptedException,StaleElementReferenceException\n",
    "import time"
   ]
  },
  {
   "cell_type": "markdown",
   "id": "b6b96768",
   "metadata": {},
   "source": [
    "1. Write a python program which searches all the product under a particular product from www.amazon.in. The product to be searched will be taken as input from user. For e.g. If user input is ‘guitar’. Then search for guitars."
   ]
  },
  {
   "cell_type": "code",
   "execution_count": 3,
   "id": "561d0b61",
   "metadata": {},
   "outputs": [
    {
     "data": {
      "text/plain": [
       "<Response [200]>"
      ]
     },
     "execution_count": 3,
     "metadata": {},
     "output_type": "execute_result"
    }
   ],
   "source": [
    "# Sending a request to a website for scraping data\n",
    "page = requests.get(\"https://www.amazon.in/\")\n",
    "page"
   ]
  },
  {
   "cell_type": "code",
   "execution_count": 4,
   "id": "83da1b87",
   "metadata": {},
   "outputs": [],
   "source": [
    "# Creating WebDriver instance for controlling the Chrome browser using Selenium\n",
    "driver = webdriver.Chrome(r\"chromedriver.exe\")"
   ]
  },
  {
   "cell_type": "code",
   "execution_count": 5,
   "id": "9841799a",
   "metadata": {},
   "outputs": [],
   "source": [
    "# Opening webpage in the browser window controlled by the WebDriver instance\n",
    "driver.get(\"https://www.amazon.in/\")"
   ]
  },
  {
   "cell_type": "code",
   "execution_count": 6,
   "id": "e4fcf978",
   "metadata": {},
   "outputs": [],
   "source": [
    "# Function for taking input from user\n",
    "def product():\n",
    "    \n",
    "    # Clicking the search bar\n",
    "    search_bar = driver.find_element(By.ID,\"twotabsearchtextbox\")\n",
    "    search_bar.click()\n",
    "    \n",
    "    # Clearing text in search bar\n",
    "    search_bar.clear()\n",
    "    \n",
    "    # Asking for input from user\n",
    "    product_name = input(\"Enter product name:\")\n",
    "\n",
    "    # Entering product name in search bar\n",
    "    search_bar.send_keys(product_name)\n",
    "\n",
    "    # Clicking the search button\n",
    "    search_btn = driver.find_element(By.ID,\"nav-search-submit-button\")\n",
    "    search_btn.click()"
   ]
  },
  {
   "cell_type": "code",
   "execution_count": 7,
   "id": "a4b6753b",
   "metadata": {
    "scrolled": true
   },
   "outputs": [
    {
     "name": "stdout",
     "output_type": "stream",
     "text": [
      "Enter product name:guitar\n"
     ]
    }
   ],
   "source": [
    "product()"
   ]
  },
  {
   "cell_type": "markdown",
   "id": "dae4a919",
   "metadata": {},
   "source": [
    "2. In the above question, now scrape the following details of each product listed in first 3 pages of your search results and save it in a data frame and csv. In case if any product has less than 3 pages in search results then scrape all the products available under that product name. Details to be scraped are: \"Brand Name\", \"Name of the Product\", \"Price\", \"Return/Exchange\", \"Expected Delivery\", \"Availability\" and “Product URL”. In case, if any of the details are missing for any of the product then replace it by “-“. "
   ]
  },
  {
   "cell_type": "code",
   "execution_count": 8,
   "id": "32785a93",
   "metadata": {},
   "outputs": [],
   "source": [
    "# Lists for storing product details\n",
    "brand_name = []\n",
    "product_name = []\n",
    "product_price = []\n",
    "return_exchange = []\n",
    "expected_delivery = []\n",
    "product_availability = []\n",
    "product_urls = []"
   ]
  },
  {
   "cell_type": "code",
   "execution_count": 9,
   "id": "d27f4320",
   "metadata": {
    "scrolled": true
   },
   "outputs": [],
   "source": [
    "start = 0\n",
    "end = 3\n",
    "\n",
    "for page in range(start,end):\n",
    "    \n",
    "    # Fetching and storing all the product urls in product_urls list\n",
    "    urls = driver.find_elements(By.XPATH,\"//div[contains(@class,'a-section a-spacing-small puis-padding-left-small puis-padding-right-small') or contains(@class,'a-section a-spacing-none puis-padding-right-small s-title-instructions-style faceout-product-title')]//a[@class='a-link-normal s-underline-text s-underline-link-text s-link-style a-text-normal']\")\n",
    "    \n",
    "    for i in urls:\n",
    "        product_urls.append(i.get_attribute('href'))\n",
    "    \n",
    "    try:\n",
    "        next_page = driver.find_element(By.XPATH,\"//a[@class='s-pagination-item s-pagination-next s-pagination-button s-pagination-separator']\")\n",
    "        next_page.click()\n",
    "        time.sleep(3)\n",
    "    except NoSuchElementException:\n",
    "        break"
   ]
  },
  {
   "cell_type": "code",
   "execution_count": 10,
   "id": "f449092a",
   "metadata": {},
   "outputs": [
    {
     "data": {
      "text/plain": [
       "156"
      ]
     },
     "execution_count": 10,
     "metadata": {},
     "output_type": "execute_result"
    }
   ],
   "source": [
    "len(product_urls)"
   ]
  },
  {
   "cell_type": "code",
   "execution_count": 11,
   "id": "4932425e",
   "metadata": {
    "scrolled": true
   },
   "outputs": [],
   "source": [
    "for url in product_urls:\n",
    "    \n",
    "    driver.get(url)\n",
    "       \n",
    "    # Fetching and storing brand names of all the products in brand_name list\n",
    "    try:\n",
    "        brand = driver.find_element(By.XPATH,\"//tr[@class='a-spacing-small po-brand']//span[@class='a-size-base po-break-word']\")\n",
    "        brand_name.append(brand.text)\n",
    "    except NoSuchElementException:\n",
    "        brand_name.append('-')\n",
    "        \n",
    "    # Fetching and storing names of all the products in product_name list\n",
    "    try:\n",
    "        product = driver.find_element(By.ID,\"productTitle\")\n",
    "        product_name.append(product.text)\n",
    "    except NoSuchElementException:\n",
    "        product_name.append('-')\n",
    "        \n",
    "    # Fetching and storing prices of all the products in product_price list\n",
    "    try:\n",
    "        price = driver.find_element(By.XPATH,\"//span[@class='a-price-whole']\")\n",
    "        product_price.append(price.text)\n",
    "    except NoSuchElementException:\n",
    "        product_price.append('-')\n",
    "    \n",
    "    # Fetching and storing expected delivery details of all the products in expected_delivery list\n",
    "    try:\n",
    "        delivery = driver.find_element(By.XPATH,\"//div[@id='deliveryBlockMessage']//span[@class='a-text-bold']\")\n",
    "        expected_delivery.append(delivery.text)\n",
    "    except NoSuchElementException:\n",
    "        expected_delivery.append('-')\n",
    "    \n",
    "    # Fetching and storing return/exchange details of all the products in return_exchange list\n",
    "    try:\n",
    "        ret_ex = driver.find_element(By.XPATH,\"//div[@id='RETURNS_POLICY']//span[@class='a-size-small a-color-link a-text-normal']\")\n",
    "        return_exchange.append(ret_ex.text)\n",
    "    except NoSuchElementException:\n",
    "        return_exchange.append('-')\n",
    "    \n",
    "    # Fetching and storing product availability details of all the products in product_availability list\n",
    "    try:\n",
    "        availability = driver.find_element(By.XPATH,\"//div[@id='availability']//span[@class='a-size-medium a-color-success']\")\n",
    "        product_availability.append(availability.text)\n",
    "    except NoSuchElementException:\n",
    "        product_availability.append('-')\n",
    "\n",
    "    time.sleep(1)"
   ]
  },
  {
   "cell_type": "code",
   "execution_count": 12,
   "id": "0182f9a5",
   "metadata": {
    "scrolled": true
   },
   "outputs": [
    {
     "name": "stdout",
     "output_type": "stream",
     "text": [
      "['Kadence', 'Kadence', 'VAULT', 'VAULT', 'JUAREZ', 'Intern', 'JUAREZ', 'Kadence', 'YAMAHA', 'JUAREZ', 'Intern', 'Kadence', 'JUAREZ', 'Henrix', 'Kadence', 'Intern', 'REVEL', 'Ibanez', 'Kadence', 'Medellin', 'YAMAHA', 'HOVNER', 'HOVNER', 'Kordz', 'ESH Creations', 'JUAREZ', 'blueberry', 'YAMAHA', 'JUAREZ', 'Intern', 'YAMAHA', 'Intern', 'Intern', 'Fender', 'Fender', 'JUAREZ', 'JUAREZ', 'Sterling', 'Kadence', 'KUBERPATI', 'Ibanez', 'YAMAHA', 'YAMAHA', 'Intern', 'VAULT', 'YAMAHA', '-', 'JUAREZ', 'Kadence', 'Intern', 'Kadence', 'HOVNER', 'YAMAHA', 'VAULT', 'Fender', 'Fender', 'Ibanez', 'Cort', 'DEVICE OF URBAN INFOTECH', 'Sichumaria', 'Kadence', 'Fender', 'REVEL', 'Fender', 'HOVNER', 'Sterling by Music Man', 'Intern', 'Ibanez', 'Kadence', 'Fender', 'Intern', 'Martin Smith', 'YAMAHA', 'JUAREZ', 'MUSTANG', 'YAMAHA', 'JUAREZ', 'JUAREZ', 'Henrix', 'Medellin', 'BigPlayer', 'Intern', 'Intern', 'Intern', 'Fender', 'Kadence', 'blueberry', 'Epiphone', 'Epiphone', 'YAMAHA', 'Intern', 'Intern', 'JUAREZ', 'JUAREZ', 'Fender', 'YAMAHA', 'Pluto', 'JUAREZ', 'Medellin', 'Intern', 'YAMAHA', 'VAULT', 'YAMAHA', 'VAULT', 'YAMAHA', 'JUAREZ', 'JUAREZ', 'blueberry', 'VAULT', 'Cort', 'YAMAHA', 'VAULT', 'Epiphone', 'Medellin', 'blueberry', 'Fender', 'Fender', 'Kordz', 'Kordz', 'JUAREZ', 'Cort', 'Medellin', 'blueberry', 'Fender', 'JUAREZ', 'Neowood', 'HOVNER', 'blueberry', 'JUAREZ', 'Fabater', 'YAMAHA', 'JUAREZ', 'YAMAHA', 'JUAREZ', 'YAMAHA', 'Fender', 'Cort', 'Kadence', 'COOLOOK', 'Fender', 'YAMAHA', 'JUAREZ', 'Kadence', 'KETOSTICS', 'ORANGEWOOD GUITARS', 'JUAREZ', 'Cort', 'JUAREZ', 'Fender', 'Intern', 'ROZZBY', 'Pluto', 'Kadence', 'Fender', 'KETOSTICS', 'Fender']\n"
     ]
    }
   ],
   "source": [
    "print(brand_name)"
   ]
  },
  {
   "cell_type": "code",
   "execution_count": 13,
   "id": "fbc6c820",
   "metadata": {
    "scrolled": true
   },
   "outputs": [
    {
     "name": "stdout",
     "output_type": "stream",
     "text": [
      "['Kadence Frontier Jumbo Semi Acoustic Guitar With Die Cast Keys, Super Combo (Bag, 1 pack Strings, Strap, Picks, Capo (Black)', 'Kadence Frontier guitar with Online Guitar learning course , Wine Red Acoustic Guitar with Die Cast Keys, Set of Strings, Strap, Picks and Bag (Wine Red, Acoustic)', 'Vault DA40 41 Inch Premium Solid Spruce-Top Dreadnought Acoustic Guitar With Allen Key', 'Vault Traveller 34 Inch Acoustic Guitar With Truss Rod, Gig-Bag, Strap, Strings, Polishing Cloth, String Winder, Picks & E-Book - Natural Gloss', 'Juârez Acoustic Guitar, 38 Inch Cutaway, 038C with Bag, Strings, Pick and Strap, Black', 'Intern INT-38C Right hand Acoustic Guitar Kit, With Bag, Strings, Pick And Strap, Black, small', 'Juarez Lindenwood Acoustic Guitar Kit, 38 Inches Cutaway, 38C With Bag, Strings, Pick And Strap, 3TS Sunburst', 'Kadence Guitar Acoustica Series, Electric Acoustic Guitar, Ash Wood with Pickup and Inbuilt tuner (Ash Wood, Electro Acoustic) with bag.', 'Yamaha F280 Acoustic Rosewood Guitar (Natural, Beige)', 'Juarez Lindenwood Acoustic Guitar Kit, 38 Inches Cutaway, 38C With Bag, Strings, Pick And Strap, TBS Transparent (Blue Sunburst)', 'Intern 38C Acoustic Steel-string Guitar Premium White Cutaway Design with carry bag, strings, guitar strap and plectrums (INT-38C-WH)', 'Kadence Frontier Series, Acoustic Guitar With/Wihtout EQ Die Cast Keys Combo (Bag,strap,strings and 3 picks) (Natural, Semi/Electro Acoustic)', 'Juarez Lindenwood Acoustic Guitar, 38 Inches Curved Body Cutaway, 38CUR With Bag, Strings, Pick And Strap (Black)', 'Henrix 38C 38 Inch Cutaway Acoustic Guitar With Dual Action Truss Rod, Gigbag, Picks, String Set, String Winder, Strap, Polishing Cloth & Ebook - Black', 'Kadence Frontier Jumbo Semi Acoustic Guitar With Die Cast Keys, Super Combo (Bag, 1 pack Strings, Strap, Picks, Capo (Black)', 'Intern INT-38C Acoustic Guitar Kit (Blue)', 'Revel 38 Inches Cutaway Design Acoustic Guitar with Carry bag and Plectrums. Great tone and Beginner/Learners standard size configuration for all age groups (Sunburst)', 'Ibanez MD39C-NT Rose Wood Acoustic Guitar (Natural), Designed in Japan and Made Specially for India', 'Kadence rosewood Guitar Frontier Series, Electric Acoustic Black Guitar With EQ, Die Cast Keys, Set Of Strings, Strap, Picks And Bag (Black EQ, Electric Acoustic)', 'Medellin 38\" Acoustic Guitar premium wood with adjustable Truss-rod, free online learning course, Set Of Strings, Strap, Bag and 3 Picks (Sunburst Truss Rod)…… (white)', 'Yamaha FS100C Acoustic Guitar, Black', 'Hovner Royal Metallic Black F-Cut Rosewood Fretboard Acoustic Guitar With Bag,Strap,1 Set of Extra Strings and 2 Picks V2', 'Hovner Carlton Special Quality Rosewood Fretboard Blue Semi Acoustic Guitar With Bag,Strap,1 Set of Extra Strings and 2 Picks By K-Retail (Blue)', 'Kordz Luana Black Matt Rosewood Fretboard Acoustic Guitar With Bag,Strap,1 Set of Extra Strings and 2 Picks V5', 'ESH Creations E40CHEQ High Gloss Semi Acoustic Guitar with Foam Padded Bag, Tuner, Pro Capo, Strings Set, Belt, 3 Picks (Brown)', 'Juarez JRZ-ST01 38 Inches Wood 6-String Electric Guitar, Right Handed, Full Black, With Case/Bag And Picks (Black)', 'Blueberry 38C, 38\" Acoustic Guitar Kit with Bag, Strap, One Pack Strings And Picks (Black)', 'Yamaha 22.8 Inches Merantiwood Classical Guitar C40//02 (Brown)', 'Juârez JRZ38C/MAH 6 Strings Acoustic Guitar 38 Inch Cutaway, Right Handed, Mahogany with Bag, Strings, Picks and Strap', 'Intern 38C Ebony Wood Cutaway Design Acoustic Guitar with Picks And Carry Bag (Black)', 'Yamaha FSX80C Semi acoustic cutaway guitar (Black)', 'Intern INT-38C Lindenwood Acoustic Guitar Kit (Sunburst) With Carry Bag, Picks, Strings Set And Guitar Strap (Small)', 'Intern INT-38C Acoustic Guitar Kit (Purple)', 'Fender Acoustic Guitar Dreadnought Cd60 V3 Natural 970110521 Right-Hand One Of The Most Reputed Guitar Brands In The World', 'Fender 0930307021 SA-105CE Dreadnought Cutaway Electric Guitar - Natural', 'Juârez JRZ38C/ZEB 6 Strings Acoustic Guitar 38 Inch Cutaway, Right Handed, Zebrawood with Bag, Strings, Picks and Strap', 'JUAREZ Wood Acoustic Guitar, [Left Handed] 96.52 Cm (38 Inch) Cutaway, 38Cl/Tbls With Bag, Strings, Pick And Strap, Blue Sunburst', 'Sterling By Music Man JP60 John Petrucci Signature Electric Guitar Mystic Dream (JP60 MDR2)', 'Kadence Concert Sized Ukulele 24inch (Built in Equalizer) With Bag and Tuner (Saple Wood With Binding)', 'KUBERPATI 4-String Kids Guitar | Musical Instrument for Boys Girls | Learning Toy Guitar for Kids | (17 Inches) Pack of 1', 'Ibanez V50NJP-VS Dreadnought Acoustic Guitar Pre Pack (Vintage Sunburst)', 'Yamaha F280 Acoustic Guitar, Tobacco Brown Sunburst', 'Yamaha FX280 Tobacco Brown Sunburst Electro Acoustic Guitar', 'Intern INT-38C-NT-G 38 Incheses lindenwood Right HAnded Acoustic Guitar Kit With Bag, Strings, Pick And Strap (Natural, 6-Strings)', 'Vault DA40 41 Inch Premium Solid Spruce-Top Dreadnought Acoustic Guitar With Allen Key', 'YAMAHA FX280 Natural Electro Acoustic Guitar', 'JUAREZ Acoustic Guitar 3xE 1st String & 2 Pick Set JRGSE32', 'Juarez Acoustic Guitar, [ LEFT HANDED] 38 Inch Cutaway, 38CL/BK with Bag, Strings, Pick and Strap, Black', 'Kadence Acoustica Series Semi Acoustic Ash Wood with Equlizer A-06 (Guitar Super Combo with Accessories)', 'INTERN Cutaway Design Acoustic Guitar Pack -Humidity Proof, Bend resistance, Durable Action, Natural tone & bright resonance. Black Carbon Fibre/Fiber Guitar with Bag, Strap, Strings set & Plectrums.', 'Kadence Guitar Acoustica Series A05, Electric Acoustic Guitar, Zebra Wood with Pickup, Inbuilt tuner and Bag (Zebra Wood, Electro Acoustic)', 'Hovner 215 Black F-Cut Rosewood Fretboard Acoustic Guitar With Bag,Strap,1 Set of Extra Strings and 2 Picks By K-Retail', 'YAMAHA F310, 6-Strings Rose Wood Acoustic Guitar, Natural', 'Vault EA20 Left handed Acoustic Guitar with Learn to Play Ebook, Bag, Strings, Straps, Picks, String winder & Polishing Cloth - 40 inch Cutaway Acoustic Guitar', 'Fender Squier 39 Inch 6 String Cutaway Acoustic Guitar Hardwood Fretboard-Natural Sa 135C Right-Hand One Of The Most Reputed Guitar Brands In The World', 'Fender Acoustic Guitar with Cutaway Electronics CD60SCE Black 970113006 Right-Handed One of The Most reputed Guitar Brands in the World', 'Ibanez MD39C-NT 39 Inches Rose Wood Cutaway Acoustic Guitar With Gig-Bag, Polishing Cloth And E-Book', 'Cort AD810 Dreadnought Acoustic Guitar with Gig Bag,Tuner,Picks and Strap (Natural Bundle)', 'DEVICE OF URBAN INFOTECH 41 inch Acoustic Guitar Professional Acoustic Guitar Premium Wood Sunburst Curved Cutaway Design Acoustic Guitar Kit with Carry Bag Guitar for Beginners Students Adults', 'Sichumaria 9 PCS Assorted Pearl Celluloid Guitar Picks 1.00mm', 'Kadence Slowhand Premium Jumbo Semi Acoustic Guitar with Heavy Padded Bag, guitar cable, Pro Capo (Black Spruce Wood)', 'Fender 6 String CC-60S Concert Acoustic Guitar Natural', 'Revel 38 Inches Cutaway Design Acoustic Guitar with Carry bag and Plectrums. Great tone and Beginner/Learners standard size configuration for all age groups (Black)…', 'Fender Acoustic Guitar Auditorium Cutaway Electronics FA345CE 971343021 Natural Right Handed One of The Most reputed Guitar Brands in the World', 'Hovner 215 Black Left Handed F-Cut Rosewood Fretboard Acoustic Guitar With Bag,Strap,1 Set of Extra Strings and 2 Picks (Left Handed)', 'Sterling By Music Man 7-string John Petrucci Signature JP70 Electric Guitar - Mystic Dream', 'Intern INT-38C Natural Linden Wood Acoustic Guitar Kit with Carry Bag & Picks', 'Ibanez MD39C Cutaway Acoustic Guitar - Sunburst, MD-39CDB (IBA-MD39CSB)', 'Kadence Frontier 34inch guitar for Kids, Travel Guitar for Adult Acoustic Guitar with Die Cast Keys, Set of Strings, Strap, Picks and Bag (Black Guitar)', 'Fender Acoustic Guitar with Cutaway Electronics CD60SCE Black 970113006 Right-Hand One of The Most reputed Guitar Brands in the World', 'Intern INT-38C Acoustic Guitar Kit (Red)', 'Martin Smith W-101-SB-PK Acoustic Guitar Super Kit with Stand (Sun Burst)', 'YAMAHA FS80C NATURAL CONCERT CUTAWAY GUITAR', 'Juarez Acoustic Guitar, 38 Inch Cutaway with Pick Guard, 38CPG with Bag, Strings, Pick and Strap, Black', 'Tagima Junior 30 Inch Acoustic Guitar for Kids', 'Yamaha FS80C 25 Incheses sprucewood The Ultimate Concert Body Cutaway Acoustic Guitar (Black) With Bajaao Gig-Bag', 'Juârez Acoustic Guitar, 38 Inch Cutaway, JRZ38C with Bag, Strings, Pick and Strap, Red', 'Juârez JRZ38C/VTS 6 Strings Acoustic Guitar 38 Inch Cutaway, Right Handed, Violet/Purple with Bag, Strings, Picks and Strap', 'Henrix 38C 38 Inch Left Handed Cutaway Acoustic Guitar with Dual Action Truss Rod, Gigbag, Picks, String Set, Strap, Cloth & Ebook- Natural', 'Medellin M38 carbon fiber body 38 Incheses Acoustic Guitar (Blue Burst) Durable Matt finish With hAndrest, strings, strap, bag, 3 Picks, capo, stAnd', 'BigPlayer gitar listrik elektrik cheap kit acoustic electric guitar meccaniche chitarra elettrica giutar, White-Blue', 'Intern INT-38C Acoustic Guitar Kit (Natural)', 'Intern Int-38c Sunburst Linden Wood Acoustic Guitar Kit with Carry Bag and Picks', 'Intern INT-38C 38 Incheses basswood-BLS-G Cutaway Right HAnded Acoustic Guitar Kit, With Bag, Strings, Pick And Strap (Blue, 6 Strings)', 'Fender Acoustic Guitar with Cutaway Electronics CD60SCE Mahogany Right-Hand 970113022 One of The Most reputed Guitar Brands in the World', 'Kadence AstroMan Electric Guitar, 21 FRETS, ROSEWOOD FRETBOARD, H - S - S PICK UPS Black combo with Bag, Guitar strap,guitar cable and Picks', 'Blueberry, VlP-405, 40Inch TrussRod Acoustic Guitar With Bag, Belt, String Set And 2 Picks (Classic Brown)', 'Epiphone AJ-220SCE Acoustic-Electric Guitar, Mahogany Burst', 'Epiphone Les Paul SL 6 Strings Right Handed Electric Guitar, Color Sunset Yellow', 'YAMAHA F310-TBS Right Handed Spruce, Back/Side/Rib, Meranti Acoustic Guitar (Tobacco Sunburst, 6-Strings)', 'INTERN 40 inches Acoustic Guitar with Pick-up & truss rod, carry bag, strings pack, strap & picks. Premium Wooden durable built, Best tonal stability with professional sound amplificaiton. (ASH).', 'Intern INT-38C-L-SB Left Hand Acoustic Guitar Kit, With Bag, Strings, Pick And Strap (Sunburst)', 'JUAREZ JRZ38C 38 Inches Lindenwood Right Handed Acoustic Guitar With Bag, Strings, Pick And Strap (Natural, Brown, 6 Strings)', 'Juârez Acoustic Guitar, 38 Inch Cutaway, JRZ38CT, Hippie Funky Design, with Bag, Picks, Strap & Extra String set', 'Fender 0971210521 (FA-125 Dreadnought w/bag, Walnut Fingerboard, Natural)', 'Yamaha FS100C Acoustic Guitar, Natural', 'Pluto HW34-101 86.36 cm (34-inch) Acoustic Guitar (Black)', 'Juârez JRZ38C/WH 6 Strings Acoustic Guitar 38 Inch Cutaway, Right Handed, White with Bag, Strings, Picks and Strap', 'Medellin 38\" Acoustic Guitar Carbon Fiber body+(Free Online Learning Course) - Durable Matt finish with handrest, strings, strap, bag, 3 Picks, capo, stand. (sun brust)', 'INTERN 41 inches Acoustic Guitar with truss rod. Includes carry bag, strings pack, strap & plectrums. Premium Wooden durable built, tonal stability & for all age-groups (Jamming Black).…', 'Yamaha F280 Acoustic Guitar, Natural With Bajaao Gig Bag', 'Vault Traveller 34 Inch Acoustic Guitar With Truss Rod, Gig-Bag, Strap, Strings, Polishing Cloth, String Winder, Picks & E-Book - Natural Gloss', 'YAMAHA FS80C BLACK CONCERT CUTAWAY GUITAR', 'Vault TL1 Tele Style Electric Guitar - Sunburst', 'Yamaha APX600 NA Thin Body Acoustic-Electric Guitar, Natural', 'JUAREZ JRZ-ST01, 6 Strings Linden Wood Electric Guitar, Right Handed with Bag/Case, 2 x Picks (3TS Sunburst)', 'Juarez Acoustic Guitar, 38 Inch Cutaway, 38CMB with Bag, Strings, Pick and Strap, Matte Black', 'Blueberry B-D38, 38\" Acoustic Guitar Kit inbuilt Truss Rod with Bag, Strap, One Pack Strings And Picks', 'Vault Junior 30 Inch Acoustic Guitar for Kids with Truss Rod, Gig-Bag, Strings, Straps, Picks, String winder, Polishing Cloth & E-Book - Natural Gloss', 'Cort AF500C Standard Series Open Pore Cutaway Acoustic Guitar with Bajaao Gig-Bag, Polishing Cloth & E-Book', 'Yamaha F310, 6-Strings Acoustic Guitar, Natural', 'Vault EA40-CE 41 inch Premium Solid Spruce-Top Cutaway Electro Acoustic Guitar (Natural)', 'Epiphone Hummingbird Pro Acoustic-Electric Guitar, Faded Cherry', 'Medellin M38 carbon fiber body 38 Incheses Acoustic Guitar (Black) Durable Matt finish With hAndrest, strings, strap, bag, 3 Picks, capo, stAnd', 'Blueberry B40, 40 Inch Acoustic Guitar Kit inbuilt Truss Rod, with Bag, Strap, One Pack Strings and Picks (Natural)', \"Fender 0374080572 (Classic Vibe '60s Mustang, Laurel Fingerboard Guitar - Sonic Blue)\", 'Fender 0930307032 SA-105CE Dreadnought Cutaway Electric Guitar - Sunburst', 'Kordz Jean Paul Dual Tone Black Yellow 41 Inch Rosewood Fretboard Acoustic Guitar With Bag,Strap,1 Set of Extra Strings and 2 Picks (Black Yellow)', 'Kordz Luana Black Matt Rosewood Fretboard Acoustic Guitar With Bag,Strap,1 Set of Extra Strings and 2 Picks V5', 'JUAREZ Arpeggio 99.06 cm (39 Inch) Acoustic Guitar Kit, Spruce Top, Rosewood Fretboard & Bridge, Truss Rod, Chrome Die Cast Machine Tuners, Black', 'Cort 6 Strings Acoustic Guitar, Spruce Top Brown With Padded Bag, Belt, Mahogany Back & Sides, Plectrums & Guitar Tuner Complete Pack AD810-OP', 'Medellin 38\" Acoustic Guitar Carbon Fiber body+(Free Online Learning Course) - Durable Matt finish with handrest, strings, strap, bag, 3 Picks, capo, stand. (natural)', 'Blueberry, VIP-385, 38Inch Acoustic Guitar Basswood, Ash With Bag, Belt, String Set and 2 Picks', 'Fender CD-60SCE Electro-Acoustic Guitar With Gig- Bag- Black', 'JUAREZ Arpeggio Guitar JRA41SP-RD-K, red', 'Neowood FLY-SM, Acoustic Guitar with Touch Pickup, Bag, Plectrums, finger Protectors & Neowood String Set (Wine red)', 'Hovner Carlton Silver Special Quality Rosewood Fretboard Blue Semi Acoustic Guitar With Bag,Strap,1 Set of Extra Strings and 2 Picks V2(Silver)', 'Blueberry 38C, 38\" Acoustic Guitar Kit with Bag, Strap, One Pack Strings And Picks (Natural)', 'Juârez Lindenwood Acoustic Guitar, 38 Inches Cutaway, JRZ38C With Bag, Strings, Pick And Strap, Blue', 'Wooden Miniature Guitar, Electric Guitar Model Mini Guitar Musical Instrument Mini Musical Instrument for Desk for Office(13cm Cutaway Guitar)', 'Yamaha FSX80C Semi acoustic cutaway guitar (natural)', 'JUAREZ JRZ38CTR/BK 38 Inch Acoustic Guitar with Dual Action Truss Rod, Bag, Picks, Allen Key, Extra String Set, Black', 'Yamaha Electric-Acoustic Guitar FSX80C Dreadnought With With Mexa Sponge Bag, Guitar Belt, Guitar Stand, String Set & Plectrums.(NT)', 'JUAREZ 96.52 cm (38 Inch) Acoustic Guitar with Dual Action Truss Rod, Bag, Picks, Allen Key, Extra String Set, 3TS Sunburst', 'YAMAHA Pacifica012 Electric Guitar, Red Metallic', 'Fender Acoustic Guitar Dreadnought Cutaway Electronics FA-125CE Natural Right-Hand 0971113221 One of The Most reputed Guitar Brands in the World', 'Cort AF515CE 6-String Electro Acoustic Guitar - Open Pore, AF515CEOP', 'Medellin 38\" Acoustic Guitar premium wood with adjustable Truss-rod, free online learning course, Set Of Strings, Strap, Bag and 3 Picks', 'Pocket Guitar Practice Neck, 6 Fret Portable Guitar Chord Practice Tool for Beginner', 'Fender SA105CE Electric Acoustic Guitar With Bag, Belt & Plectrums Combo Pack (BK)', 'Yamaha F370 Acoustic Guitar, Natural', 'Juârez ST38 Electric Guitar Kit/Set, Right Handed, Red Sunburst RDS, With Case/Bag & Picks', 'Kadence Astro Man Electric Guitar, with Free learning course 24 FRETS, H- S - S PICK UPS Walnut Top with Alder wood Back and Sides (white) With Amplifier', 'Ketostics Givson Venus Super Special Cutaway Rosewood 41 Inch Acoustic Semi Electric Guitar Kit with Bag, Rhythm String Set, Strap and 5 Plectrums, (Black)', 'ORANGEWOOD OLIVER-S SPRUCE GRAND CONCERT ACOUSTIC GUITAR', 'Juârez JRZ38C/ASH 6 Strings Acoustic Guitar 38 Inch Cutaway, Right Handed, Ash with Bag, Strings, Picks and Strap', 'Cort AF510E Semi-Acoustic Guitar - Black', 'Juarez JRZ-ST02 6-String 38 Inches Wood Electric Guitar, Right Handed, Red With Case/Bag And Picks', 'Fender Squier Acoustic Guitar Cutaway Electronics SA-105CE 930307006 Black Right-Handed', 'Intern INT-38C-SB-G Linden Wood Cutaway Right Handed Acoustic Guitar Kit, With Bag, Strings, Pick And Strap (Sunburst, 6 Strings)', 'ROZZBY 4-String Kids Guitar | Musical Instrument for Boys Girls | Learning Toy Guitar for Kids | (17 Inches) Pack of 1', 'Pluto HW39C-201 39-inch Cutaway Acoustic Guitar (Natural)', 'Kadence Guitar Acoustica Series, Electric Acoustic Guitar, Ash Wood with Pickup and Inbuilt tuner (Ash Wood, Electro Acoustic) with bag.', 'Fender Acoustic Guitar Dreadnought Solid CD60S Black 970110006', 'Ketostics™ Venus Special Cutaway Rosewood 41 Inch Givson Acoustic Guitar Kit with Bag, Rhythm String Set, Strap and 5 Plectrums, (Red)', 'Fender Acoustic Guitar 3/4 Size FA-15 Matt Natural with Bag 971170135 One of The Most reputed Guitar Brands in the World.']\n"
     ]
    }
   ],
   "source": [
    "print(product_name)"
   ]
  },
  {
   "cell_type": "code",
   "execution_count": 14,
   "id": "25c52891",
   "metadata": {},
   "outputs": [
    {
     "name": "stdout",
     "output_type": "stream",
     "text": [
      "['6,899', '4,999', '6,934', '4,084', '1,994', '1,994', '1,994', '6,999', '4,999', '1,994', '2,249', '4,999', '2,640', '2,849', '6,899', '2,099', '1,817', '7,249', '5,799', '2,968', '9,879', '4,256', '4,636', '3,695', '5,897', '5,271', '2,303', '7,722', '2,792', '2,184', '12,290', '2,327', '2,369', '12,400', '11,900', '2,944', '2,640', '92,290', '3,999', '499', '10,245', '-', '10,980', '2,393', '6,934', '10,713', '75', '2,630', '8,499', '2,616', '7,399', '4,351', '9,965', '4,701', '7,400', '78,375', '7,899', '10,790', '5,448', '299', '11,999', '18,200', '2,119', '31,709', '4,390', '1,06,853', '2,625', '8,048', '2,999', '23,999', '2,345', '5,339', '9,879.', '2,640', '1,290', '8,749', '2,602', '2,640', '2,849', '2,349', '12,439', '2,792', '2,227', '2,393', '25,900', '7,999', '4,590', '38,039', '15,394', '10,790', '5,306', '2,839', '2,640', '2,478', '12,399', '9,689', '4,606', '2,640', '2,499', '3,335', '8,479', '4,084', '-', '9,784', '27,990', '5,737', '2,640', '2,655', '3,799', '8,999', '9,650', '9,024', '42,900', '2,349', '4,080', '48,491', '12,251', '2,980', '3,695', '5,965', '10,950', '2,499', '3,290', '24,799', '6,715', '4,979', '4,880', '2,560', '2,640', '885', '12,669', '3,203', '13,790', '3,224', '16,490', '18,115', '14,190', '2,499', '2,898', '12,989', '13,290', '5,737', '9,999', '4,499', '20,716', '2,792', '12,870', '5,737', '12,124', '2,149', '449', '5,905', '6,999', '14,784', '4,199', '16,350']\n"
     ]
    }
   ],
   "source": [
    "print(product_price)"
   ]
  },
  {
   "cell_type": "code",
   "execution_count": 15,
   "id": "8ab294fc",
   "metadata": {
    "scrolled": true
   },
   "outputs": [
    {
     "name": "stdout",
     "output_type": "stream",
     "text": [
      "['Friday, 23 June', 'Friday, 23 June', 'Friday, 23 June', 'Friday, 23 June', 'Monday, 26 June', 'Friday, 23 June', 'Friday, 23 June', 'Sunday, 25 June', '-', 'Friday, 23 June', 'Friday, 23 June', 'Friday, 23 June', 'Thursday, 22 June', '-', 'Friday, 23 June', 'Friday, 23 June', 'Thursday, 22 June', 'Friday, 23 June', 'Friday, 23 June', 'Thursday, 22 June', 'Sunday, 25 June', 'Tuesday, 27 June', 'Tuesday, 27 June', 'Tuesday, 27 June', 'Friday, 23 June', 'Friday, 23 June', 'Saturday, 24 June', 'Sunday, 25 June', 'Friday, 23 June', 'Friday, 23 June', 'Sunday, 25 June', '24 - 27 June', 'Friday, 23 June', 'Friday, 23 June', 'Friday, 23 June', 'Friday, 23 June', 'Friday, 23 June', 'Friday, 23 June', 'Friday, 23 June', 'Saturday, 24 June', 'Tuesday, 27 June', '-', 'Thursday, 22 June', 'Friday, 23 June', 'Friday, 23 June', 'Friday, 23 June', 'Thursday, 22 June', 'Friday, 23 June', 'Friday, 23 June', 'Thursday, 22 June', 'Friday, 23 June', 'Tuesday, 27 June', 'Saturday, 24 June', 'Friday, 23 June', 'Friday, 23 June', 'Friday, 23 June', 'Friday, 23 June', 'Tuesday, 27 June', 'Friday, 23 June', 'Friday, 23 June', 'Friday, 23 June', 'Friday, 23 June', 'Friday, 23 June', 'Friday, 23 June', 'Tuesday, 27 June', 'Friday, 23 June', 'Tuesday, 27 June', 'Friday, 23 June', 'Sunday, 25 June', 'Saturday, 24 June', 'Friday, 23 June', 'Thursday, 22 June', '-', 'Friday, 23 June', 'Friday, 23 June', 'Saturday, 24 June', 'Friday, 23 June', 'Friday, 23 June', 'Friday, 23 June', '22 - 25 June', 'Friday, 23 June', 'Friday, 23 June', 'Friday, 23 June', 'Friday, 23 June', 'Friday, 23 June', 'Friday, 23 June', 'Saturday, 24 June', 'Friday, 23 June', 'Friday, 23 June', 'Saturday, 24 June', 'Thursday, 22 June', 'Friday, 23 June', 'Friday, 23 June', 'Friday, 23 June', 'Saturday, 24 June', 'Thursday, 22 June', 'Friday, 23 June', 'Friday, 23 June', 'Sunday, 25 June', '-', 'Saturday, 24 June', 'Friday, 23 June', '-', 'Friday, 23 June', '27 - 29 June', 'Friday, 23 June', 'Friday, 23 June', 'Saturday, 24 June', 'Friday, 23 June', 'Friday, 23 June', 'Thursday, 22 June', 'Friday, 23 June', 'Friday, 23 June', 'Sunday, 25 June', 'Saturday, 24 June', 'Friday, 23 June', 'Saturday, 24 June', 'Tuesday, 27 June', 'Tuesday, 27 June', 'Thursday, 22 June', 'Thursday, 22 June', 'Sunday, 25 June', 'Saturday, 24 June', 'Saturday, 24 June', 'Thursday, 22 June', 'Friday, 23 June', 'Tuesday, 27 June', 'Saturday, 24 June', 'Friday, 23 June', '4 - 7 July', 'Sunday, 25 June', '24 June - 3 July', 'Saturday, 24 June', 'Friday, 23 June', '27 - 29 June', 'Thursday, 22 June', 'Thursday, 22 June', 'Sunday, 25 June', '1 - 5 July', 'Saturday, 24 June', 'Thursday, 22 June', 'Friday, 23 June', 'Sunday, 25 June', 'Friday, 23 June', 'Friday, 23 June', 'Friday, 23 June', 'Thursday, 22 June', 'Friday, 23 June', 'Saturday, 24 June', 'Monday, 26 June', 'Saturday, 24 June', 'Friday, 23 June', 'Sunday, 25 June', 'Friday, 23 June', 'Friday, 23 June', 'Friday, 23 June']\n"
     ]
    }
   ],
   "source": [
    "print(expected_delivery)"
   ]
  },
  {
   "cell_type": "code",
   "execution_count": 16,
   "id": "8a0df987",
   "metadata": {
    "scrolled": false
   },
   "outputs": [
    {
     "name": "stdout",
     "output_type": "stream",
     "text": [
      "['7 days Replacement', '7 days Replacement', '7 days Replacement', '7 days Replacement', '7 days Replacement', '7 days Replacement', '7 days Replacement', '7 days Replacement', 'Returns Policy', '7 days Replacement', '7 days Replacement', '7 days Replacement', '7 days Replacement', 'Returns Policy', '7 days Replacement', '7 days Replacement', '7 days Replacement', '7 days Replacement', '7 days Replacement', '7 days Replacement', '7 days Replacement', '7 days Replacement', '7 days Replacement', '7 days Replacement', '7 days Replacement', '7 days Replacement', '7 days Replacement', '7 days Replacement', '7 days Replacement', '7 days Replacement', '7 days Replacement', '7 days Replacement', '7 days Replacement', '7 days Replacement', '7 days Replacement', '7 days Replacement', '7 days Replacement', '7 days Replacement', '7 days Replacement', '7 days Replacement', '7 days Replacement', 'Returns Policy', '7 days Replacement', '7 days Replacement', '7 days Replacement', '7 days Replacement', '7 days Replacement', '7 days Replacement', '7 days Replacement', '7 days Replacement', '7 days Replacement', '7 days Replacement', '7 days Replacement', '7 days Replacement', '7 days Replacement', '7 days Replacement', '7 days Replacement', '7 days Replacement', '7 days Returnable', '7 days Replacement', '7 days Replacement', '7 days Replacement', '7 days Replacement', '7 days Replacement', '7 days Returnable', '7 days Replacement', '7 days Replacement', '7 days Replacement', '7 days Replacement', '7 days Replacement', '7 days Replacement', '7 days Replacement', 'Returns Policy', '7 days Replacement', '7 days Returnable', '7 days Replacement', '7 days Replacement', '7 days Replacement', '7 days Replacement', '7 days Replacement', '7 days Replacement', '7 days Replacement', '7 days Replacement', '7 days Replacement', '7 days Replacement', '7 days Replacement', '7 days Returnable', '7 days Replacement', '7 days Replacement', '7 days Replacement', '7 days Replacement', '7 days Replacement', '7 days Replacement', '7 days Replacement', '7 days Replacement', '7 days Replacement', '7 days Replacement', '7 days Replacement', '7 days Replacement', 'Returns Policy', '7 days Replacement', '7 days Replacement', 'Returns Policy', '7 days Replacement', '7 days Replacement', '7 days Replacement', '7 days Replacement', '7 days Replacement', '7 days Replacement', '7 days Returnable', '7 days Replacement', '7 days Replacement', '7 days Replacement', '7 days Replacement', '7 days Replacement', '7 days Replacement', '7 days Replacement', '7 days Returnable', '7 days Replacement', '7 days Replacement', '7 days Replacement', '7 days Replacement', '7 days Returnable', '7 days Replacement', '7 days Replacement', '7 days Returnable', '7 days Replacement', '7 days Replacement', '7 days Replacement', '7 days Returnable', '7 days Replacement', '7 days Replacement', '7 days Replacement', '7 days Replacement', '7 days Replacement', '7 days Replacement', '7 days Replacement', '7 days Returnable', '7 days Replacement', '7 days Replacement', '7 days Replacement', '7 days Replacement', '7 days Replacement', '7 days Replacement', '7 days Replacement', '7 days Replacement', '7 days Replacement', '7 days Replacement', '7 days Replacement', '7 days Replacement', '7 days Replacement', '7 days Replacement', '7 days Replacement', '7 days Replacement', '7 days Replacement', '7 days Replacement']\n"
     ]
    }
   ],
   "source": [
    "print(return_exchange)"
   ]
  },
  {
   "cell_type": "code",
   "execution_count": 17,
   "id": "b864848f",
   "metadata": {
    "scrolled": true
   },
   "outputs": [
    {
     "name": "stdout",
     "output_type": "stream",
     "text": [
      "['In stock', 'In stock', 'In stock', 'In stock', 'In stock', 'In stock', 'In stock', 'In stock', '', 'In stock', '-', 'In stock', 'In stock', '', 'In stock', 'In stock', 'In stock', 'In stock', 'In stock', 'In stock', 'In stock', '-', 'In stock', '-', '-', 'In stock', 'In stock', 'In stock', 'In stock', 'In stock', '-', '-', '-', 'In stock', 'In stock', 'In stock', 'In stock', '-', 'In stock', 'In stock', '-', '', 'In stock', 'In stock', 'In stock', 'In stock', 'In stock', 'In stock', 'In stock', 'In stock', 'In stock', 'In stock', 'In stock', 'In stock', 'In stock', '-', 'In stock', 'In stock', 'In stock', 'In stock', 'In stock', 'In stock', 'In stock', '-', '-', '-', '-', 'In stock', 'In stock', 'In stock', 'In stock', 'In stock', '', 'In stock', 'In stock', '-', 'In stock', 'In stock', 'In stock', 'Available to ship in 1-2 days', '-', 'In stock', 'In stock', 'In stock', '-', 'In stock', 'In stock', 'In stock', '-', '-', 'In stock', 'In stock', 'In stock', 'In stock', 'In stock', 'In stock', '-', 'In stock', 'In stock', '', 'In stock', 'In stock', '', 'In stock', '-', 'In stock', 'In stock', 'In stock', 'In stock', 'In stock', '-', 'In stock', 'In stock', 'In stock', 'In stock', '-', '-', '-', '-', 'In stock', 'In stock', 'In stock', 'In stock', 'In stock', 'In stock', 'In stock', '-', 'In stock', 'In stock', 'In stock', 'In stock', '-', '-', 'In stock', '-', 'In stock', 'In stock', 'In stock', '-', 'In stock', '-', 'In stock', 'In stock', 'In stock', '-', 'In stock', 'In stock', 'In stock', 'In stock', 'In stock', 'In stock', '-', 'In stock', 'In stock', 'In stock', 'In stock']\n"
     ]
    }
   ],
   "source": [
    "print(product_availability)"
   ]
  },
  {
   "cell_type": "code",
   "execution_count": 18,
   "id": "a8c75857",
   "metadata": {},
   "outputs": [
    {
     "name": "stdout",
     "output_type": "stream",
     "text": [
      "['https://www.amazon.in/sspa/click?ie=UTF8&spc=MTo0MTQwOTU0NTY4MTQxMzIwOjE2ODcxOTIyODA6c3BfYXRmOjIwMTIxNzg0MjQwOTk4OjowOjo&url=%2FKadence-Frontier-Acoustic-Guitar-Equalizer%2Fdp%2FB01HRIHJWY%2Fref%3Dsr_1_1_sspa%3Fcrid%3D122SP6DYEA4CN%26keywords%3Dguitar%26qid%3D1687192280%26sprefix%3D%252Caps%252C200%26sr%3D8-1-spons%26sp_csd%3Dd2lkZ2V0TmFtZT1zcF9hdGY%26psc%3D1', 'https://www.amazon.in/sspa/click?ie=UTF8&spc=MTo0MTQwOTU0NTY4MTQxMzIwOjE2ODcxOTIyODA6c3BfYXRmOjIwMDk2NjA4NzUwNDk4OjowOjo&url=%2FKadence-Frontier-Acoustic-Guitar-Strings%2Fdp%2FB01GDZ46AA%2Fref%3Dsr_1_2_sspa%3Fcrid%3D122SP6DYEA4CN%26keywords%3Dguitar%26qid%3D1687192280%26sprefix%3D%252Caps%252C200%26sr%3D8-2-spons%26sp_csd%3Dd2lkZ2V0TmFtZT1zcF9hdGY%26psc%3D1', 'https://www.amazon.in/sspa/click?ie=UTF8&spc=MTo0MTQwOTU0NTY4MTQxMzIwOjE2ODcxOTIyODA6c3BfYXRmOjIwMDkyNjI0MDIxNDk4OjowOjo&url=%2FPremium-Spruce-Top-Dreadnought-Acoustic-Guitar%2Fdp%2FB0BJK1CWSN%2Fref%3Dsr_1_3_sspa%3Fcrid%3D122SP6DYEA4CN%26keywords%3Dguitar%26qid%3D1687192280%26sprefix%3D%252Caps%252C200%26sr%3D8-3-spons%26sp_csd%3Dd2lkZ2V0TmFtZT1zcF9hdGY%26psc%3D1', 'https://www.amazon.in/sspa/click?ie=UTF8&spc=MTo0MTQwOTU0NTY4MTQxMzIwOjE2ODcxOTIyODA6c3BfYXRmOjIwMDM2MjI1NzQxMDk4OjowOjo&url=%2FTraveller-Acoustic-Guitar-Strings-Polishing%2Fdp%2FB07RK9962M%2Fref%3Dsr_1_4_sspa%3Fcrid%3D122SP6DYEA4CN%26keywords%3Dguitar%26qid%3D1687192280%26sprefix%3D%252Caps%252C200%26sr%3D8-4-spons%26sp_csd%3Dd2lkZ2V0TmFtZT1zcF9hdGY%26psc%3D1', 'https://www.amazon.in/Juarez-Acoustic-Cutaway-038C-Strings/dp/B017NPCSLI/ref=sr_1_5?crid=122SP6DYEA4CN&keywords=guitar&qid=1687192280&sprefix=%2Caps%2C200&sr=8-5', 'https://www.amazon.in/Intern-INT-38C-Acoustic-Guitar-Black/dp/B073B6TQQY/ref=sr_1_6?crid=122SP6DYEA4CN&keywords=guitar&qid=1687192280&sprefix=%2Caps%2C200&sr=8-6', 'https://www.amazon.in/JUAREZ-JRZ38C-Acoustic-Sunburst-Strings/dp/B01FYYTDTU/ref=sr_1_7?crid=122SP6DYEA4CN&keywords=guitar&qid=1687192280&sprefix=%2Caps%2C200&sr=8-7', 'https://aax-eu.amazon.in/x/c/RJm7PE2Xfv2ef0zmeOnSVbEAAAGI1H8fYgMAAAH2AQBvbm9fdHhuX2JpZDMgICBvbm9fdHhuX2ltcDEgICDwJqyJ/https://www.amazon.in/Kadence-Acoustica-Ash-Wood-Equlizer/dp/B0757H5P13/ref=sxin_16_sbv_search_btf?content-id=amzn1.sym.ea7f11f8-e26c-4b10-84ad-15aa33ea30ac%3Aamzn1.sym.ea7f11f8-e26c-4b10-84ad-15aa33ea30ac&crid=122SP6DYEA4CN&cv_ct_cx=guitar&keywords=guitar&pd_rd_i=B0757H5P13&pd_rd_r=05aa79f8-152f-4389-8666-81ef7064a9cd&pd_rd_w=HmWUt&pd_rd_wg=G9Irv&pf_rd_p=ea7f11f8-e26c-4b10-84ad-15aa33ea30ac&pf_rd_r=3751HSBCHM315P1AW1ZC&qid=1687192280&sprefix=%2Caps%2C200&sr=1-1-9131241a-a358-4619-a7b8-0f5a65d91d81', 'https://www.amazon.in/Yamaha-F280-Acoustic-Guitar-Natural/dp/B08317Y4VP/ref=sr_1_8?crid=122SP6DYEA4CN&keywords=guitar&qid=1687192280&sprefix=%2Caps%2C200&sr=8-8', 'https://www.amazon.in/JUAREZ-JRZ38C-Acoustic-Sunburst-Strings/dp/B01FYYTDS6/ref=sr_1_9?crid=122SP6DYEA4CN&keywords=guitar&qid=1687192280&sprefix=%2Caps%2C200&sr=8-9', 'https://www.amazon.in/Intern-Acoustic-Steel-string-plectrums-INT-38C-WH/dp/B09LR94Z2X/ref=sr_1_10?crid=122SP6DYEA4CN&keywords=guitar&qid=1687192280&sprefix=%2Caps%2C200&sr=8-10', 'https://www.amazon.in/Kadence-Frontier-Acoustic-Natural-Equalizer/dp/B01I50UJG6/ref=sr_1_11?crid=122SP6DYEA4CN&keywords=guitar&qid=1687192280&sprefix=%2Caps%2C200&sr=8-11', 'https://www.amazon.in/Juarez-Acoustic-Guitar-Cutaway-Strings/dp/B076QHZ4HZ/ref=sr_1_12?crid=122SP6DYEA4CN&keywords=guitar&qid=1687192280&sprefix=%2Caps%2C200&sr=8-12', 'https://www.amazon.in/Henrix-Acoustic-Guitar-Die-cast-Dual-action/dp/B07VNDW6QF/ref=sr_1_13?crid=122SP6DYEA4CN&keywords=guitar&qid=1687192280&sprefix=%2Caps%2C200&sr=8-13', 'https://www.amazon.in/Kadence-Frontier-Acoustic-Guitar-Equalizer/dp/B01HRIHJWY/ref=sr_1_14?crid=122SP6DYEA4CN&keywords=guitar&qid=1687192280&sprefix=%2Caps%2C200&sr=8-14', 'https://www.amazon.in/Intern-INT-38C-Acoustic-Guitar-Blue/dp/B073B5RZBV/ref=sr_1_15?crid=122SP6DYEA4CN&keywords=guitar&qid=1687192280&sprefix=%2Caps%2C200&sr=8-15', 'https://www.amazon.in/Revel-RVL-38C-LGP-3TS-Linden-Acoustic-Sunburst/dp/B085HV4YW7/ref=sr_1_16?crid=122SP6DYEA4CN&keywords=guitar&qid=1687192280&sprefix=%2Caps%2C200&sr=8-16', 'https://www.amazon.in/Ibanez-IBA-MD39CNT-Acoustic-Guitar-MD39C-NT/dp/B07G4CCMYL/ref=sr_1_17?crid=122SP6DYEA4CN&keywords=guitar&qid=1687192280&sprefix=%2Caps%2C200&sr=8-17', 'https://www.amazon.in/Kadence-Frontier-Acoustic-Guitar-Strings/dp/B078GTJP5Y/ref=sr_1_18?crid=122SP6DYEA4CN&keywords=guitar&qid=1687192280&sprefix=%2Caps%2C200&sr=8-18', 'https://www.amazon.in/Medellin-Acoustic-adjustable-Truss-rod-learning/dp/B0BMKX4HNP/ref=sr_1_19?crid=122SP6DYEA4CN&keywords=guitar&qid=1687192280&sprefix=%2Caps%2C200&sr=8-19', 'https://www.amazon.in/Yamaha-FS-100C-6-String-Acoustic-without/dp/B00PAS9CK6/ref=sr_1_20?crid=122SP6DYEA4CN&keywords=guitar&qid=1687192280&sprefix=%2Caps%2C200&sr=8-20', 'https://www.amazon.in/sspa/click?ie=UTF8&spc=MTo0MTQwOTU0NTY4MTQxMzIwOjE2ODcxOTIyODA6c3BfbXRmOjMwMDAwMjUwMjA4MDkzMjo6MDo6&url=%2FHovner-Royal-Metallic-Rosewood-Fretboard%2Fdp%2FB099ZF445W%2Fref%3Dsr_1_21_sspa%3Fcrid%3D122SP6DYEA4CN%26keywords%3Dguitar%26qid%3D1687192280%26sprefix%3D%252Caps%252C200%26sr%3D8-21-spons%26sp_csd%3Dd2lkZ2V0TmFtZT1zcF9tdGY%26psc%3D1', 'https://www.amazon.in/sspa/click?ie=UTF8&spc=MTo0MTQwOTU0NTY4MTQxMzIwOjE2ODcxOTIyODA6c3BfbXRmOjMwMDAwMjUwMjA4MTQzMjo6MDo6&url=%2FCarlton-Rosewood-Fretboard-Acoustic-K-Retail%2Fdp%2FB07KK8P9VB%2Fref%3Dsr_1_22_sspa%3Fcrid%3D122SP6DYEA4CN%26keywords%3Dguitar%26qid%3D1687192280%26sprefix%3D%252Caps%252C200%26sr%3D8-22-spons%26sp_csd%3Dd2lkZ2V0TmFtZT1zcF9tdGY%26psc%3D1', 'https://www.amazon.in/sspa/click?ie=UTF8&spc=MTo0MTQwOTU0NTY4MTQxMzIwOjE2ODcxOTIyODA6c3BfbXRmOjMwMDAwMjUwMjA4MDczMjo6MDo6&url=%2FKordz-Rosewood-Fretboard-Acoustic-Strings%2Fdp%2FB09KGH7M5Q%2Fref%3Dsr_1_23_sspa%3Fcrid%3D122SP6DYEA4CN%26keywords%3Dguitar%26qid%3D1687192280%26sprefix%3D%252Caps%252C200%26sr%3D8-23-spons%26sp_csd%3Dd2lkZ2V0TmFtZT1zcF9tdGY%26psc%3D1', 'https://www.amazon.in/sspa/click?ie=UTF8&spc=MTo0MTQwOTU0NTY4MTQxMzIwOjE2ODcxOTIyODA6c3BfbXRmOjIwMTYxNTg4NTEwMjk4OjowOjo&url=%2FESH-Creations-E40CHEQ-Acoustic-Strings%2Fdp%2FB0BMG8M5GV%2Fref%3Dsr_1_24_sspa%3Fcrid%3D122SP6DYEA4CN%26keywords%3Dguitar%26qid%3D1687192280%26sprefix%3D%252Caps%252C200%26sr%3D8-24-spons%26sp_csd%3Dd2lkZ2V0TmFtZT1zcF9tdGY%26psc%3D1', 'https://www.amazon.in/Juarez-JRZ-ST01-6-String-Electric-Without/dp/B01FYZSOGM/ref=sr_1_25?crid=122SP6DYEA4CN&keywords=guitar&qid=1687192280&sprefix=%2Caps%2C200&sr=8-25', 'https://www.amazon.in/Blueberry-38C-Acoustic-Guitar-Strings/dp/B08KLMV4XX/ref=sr_1_26?crid=122SP6DYEA4CN&keywords=guitar&qid=1687192280&sprefix=%2Caps%2C200&sr=8-26', 'https://www.amazon.in/Yamaha-Classical-Guitar-C40-02/dp/B003UGCUFE/ref=sr_1_27?crid=122SP6DYEA4CN&keywords=guitar&qid=1687192280&sprefix=%2Caps%2C200&sr=8-27', 'https://www.amazon.in/JRZ38C-Strings-Acoustic-Cutaway-Mahogany/dp/B071JM8C6T/ref=sr_1_28?crid=122SP6DYEA4CN&keywords=guitar&qid=1687192280&sprefix=%2Caps%2C200&sr=8-28', 'https://www.amazon.in/Intern-38-inch-Cutaway-Design-Acoustic/dp/B07X4PN85R/ref=sr_1_29?crid=122SP6DYEA4CN&keywords=guitar&qid=1687192280&sprefix=%2Caps%2C200&sr=8-29', 'https://www.amazon.in/Yamaha-FSX80C-Acoustic-Cutaway-Guitar/dp/B09HL5WFDX/ref=sr_1_30?crid=122SP6DYEA4CN&keywords=guitar&qid=1687192280&sprefix=%2Caps%2C200&sr=8-30', 'https://www.amazon.in/Intern-INT-38C-Acoustic-Guitar-Sunburst/dp/B073B5MJRM/ref=sr_1_31?crid=122SP6DYEA4CN&keywords=guitar&qid=1687192280&sprefix=%2Caps%2C200&sr=8-31', 'https://www.amazon.in/Intern-INT-38C-Acoustic-Guitar-Purple/dp/B073B4CT2F/ref=sr_1_32?crid=122SP6DYEA4CN&keywords=guitar&qid=1687192280&sprefix=%2Caps%2C200&sr=8-32', 'https://www.amazon.in/Fender-Dread-String-Acoustic-Guitar/dp/B07RL6VG3H/ref=sr_1_33?crid=122SP6DYEA4CN&keywords=guitar&qid=1687192280&sprefix=%2Caps%2C200&sr=8-33', 'https://www.amazon.in/Fender-0930307021-SA-105CE-Dreadnought-Electric/dp/B009X3PLRC/ref=sr_1_34?crid=122SP6DYEA4CN&keywords=guitar&qid=1687192280&sprefix=%2Caps%2C200&sr=8-34', 'https://www.amazon.in/Juarez-Strings-Acoustic-Cutaway-Zebrawood/dp/B072Q9L8DG/ref=sr_1_35?crid=122SP6DYEA4CN&keywords=guitar&qid=1687192280&sprefix=%2Caps%2C200&sr=8-35', 'https://www.amazon.in/Acoustic-Cutaway-TBLS-Strings-Sunburst/dp/B098BCCY75/ref=sr_1_36?crid=122SP6DYEA4CN&keywords=guitar&qid=1687192280&sprefix=%2Caps%2C200&sr=8-36', 'https://www.amazon.in/Sterling-JP60-Petrucci-Signature-MDR2/dp/B08JHYJ37Y/ref=sr_1_37?crid=122SP6DYEA4CN&keywords=guitar&qid=1687192280&sprefix=%2Caps%2C200&sr=8-37', 'https://www.amazon.in/Kadence-Concert-Ukulele-Equalizer-Binding/dp/B08PNSGQBL/ref=sr_1_38?crid=122SP6DYEA4CN&keywords=guitar&qid=1687192280&sprefix=%2Caps%2C200&sr=8-38', 'https://www.amazon.in/KUBERPATI-4-String-Musical-Instrument-Learning/dp/B0C24KBCS5/ref=sr_1_39?crid=122SP6DYEA4CN&keywords=guitar&qid=1687192280&sprefix=%2Caps%2C200&sr=8-39', 'https://www.amazon.in/Ibanez-V50NJP-VS-Acoustic-Dreadnought-Sunburst/dp/B00775TDU4/ref=sr_1_40?crid=122SP6DYEA4CN&keywords=guitar&qid=1687192280&sprefix=%2Caps%2C200&sr=8-40', 'https://www.amazon.in/Yamaha-Acoustic-Guitar-Tobacco-Sunburst/dp/B08VXR74Q2/ref=sr_1_41?crid=122SP6DYEA4CN&keywords=guitar&qid=1687192280&sprefix=%2Caps%2C200&sr=8-41', 'https://www.amazon.in/FX280-acoustic-Dreadnought-Tobacco-Sunburst/dp/B09HR7BXGW/ref=sr_1_42?crid=122SP6DYEA4CN&keywords=guitar&qid=1687192280&sprefix=%2Caps%2C200&sr=8-42', 'https://www.amazon.in/Intern-INT-38C-NT-G-Guitar-Kit-Natural/dp/B07K9MZZH9/ref=sr_1_43?crid=122SP6DYEA4CN&keywords=guitar&qid=1687192280&sprefix=%2Caps%2C200&sr=8-43', 'https://www.amazon.in/Premium-Spruce-Top-Dreadnought-Acoustic-Guitar/dp/B0BJK1CWSN/ref=sr_1_44?crid=122SP6DYEA4CN&keywords=guitar&qid=1687192280&sprefix=%2Caps%2C200&sr=8-44', 'https://www.amazon.in/Yamaha-FX280-acoustic-Dreadnought-Natural/dp/B09HR6BNFQ/ref=sr_1_45?crid=122SP6DYEA4CN&keywords=guitar&qid=1687192280&sprefix=%2Caps%2C200&sr=8-45', 'https://www.amazon.in/JUAREZ-Acoustic-Guitar-String-JRGSE32/dp/B08MW1WPW5/ref=sr_1_46?crid=122SP6DYEA4CN&keywords=guitar&qid=1687192280&sprefix=%2Caps%2C200&sr=8-46', 'https://www.amazon.in/Juarez-Acoustic-Cutaway-BK-Strings/dp/B076T3RHMG/ref=sr_1_47?crid=122SP6DYEA4CN&keywords=guitar&qid=1687192280&sprefix=%2Caps%2C200&sr=8-47', 'https://www.amazon.in/Kadence-Acoustica-Acoustic-Equlizer-Accessories/dp/B09BVH7BMJ/ref=sr_1_48?crid=122SP6DYEA4CN&keywords=guitar&qid=1687192280&sprefix=%2Caps%2C200&sr=8-48', 'https://www.amazon.in/Acoustic-Humidity-resistance-resonance-Plectrums/dp/B09RQZ6HM2/ref=sr_1_49?crid=122SP6DYEA4CN&keywords=guitar&qid=1687192280&sprefix=%2Caps%2C200&sr=8-49', 'https://www.amazon.in/Kadence-Acoustica-Acoustic-Guitar-Zebra/dp/B07KXNKLJ2/ref=sr_1_50?crid=122SP6DYEA4CN&keywords=guitar&qid=1687192280&sprefix=%2Caps%2C200&sr=8-50', 'https://www.amazon.in/Rosewood-Fretboard-Acoustic-Strings-K-Retail/dp/B07KLG8C4P/ref=sr_1_51?crid=122SP6DYEA4CN&keywords=guitar&qid=1687192280&sprefix=%2Caps%2C200&sr=8-51', 'https://www.amazon.in/Yamaha-F310-6-Strings-Acoustic-Natural/dp/B000RVYW7E/ref=sr_1_52?crid=122SP6DYEA4CN&keywords=guitar&qid=1687192280&sprefix=%2Caps%2C200&sr=8-52', 'https://www.amazon.in/Vault-Cutaway-acoustic-Guitar-Natural/dp/B08WHGGSH9/ref=sr_1_53?crid=122SP6DYEA4CN&keywords=guitar&qid=1687192280&sprefix=%2Caps%2C200&sr=8-53', 'https://www.amazon.in/Fender-String-Cutaway-Acoustic-Guitar/dp/B07YX5W8MV/ref=sr_1_54?crid=122SP6DYEA4CN&keywords=guitar&qid=1687192280&sprefix=%2Caps%2C200&sr=8-54', 'https://www.amazon.in/Fender-Player-Telecaster-Electric-Guitar/dp/B07CXKKB1W/ref=sr_1_55?crid=122SP6DYEA4CN&keywords=guitar&qid=1687192280&sprefix=%2Caps%2C200&sr=8-55', 'https://www.amazon.in/Ibanez-MD39C-NT-Cutaway-Acoustic-Polishing/dp/B084BQJCP8/ref=sr_1_56?crid=122SP6DYEA4CN&keywords=guitar&qid=1687192280&sprefix=%2Caps%2C200&sr=8-56', 'https://www.amazon.in/sspa/click?ie=UTF8&spc=MTo0MTQwOTU0NTY4MTQxMzIwOjE2ODcxOTIyODA6c3BfYnRmOjIwMDE5NjI1NTkyMTA0OjowOjo&url=%2FCort-AD810-Dreadnought-Acoustic-Guitar%2Fdp%2FB07KMBVR6V%2Fref%3Dsr_1_57_sspa%3Fcrid%3D122SP6DYEA4CN%26keywords%3Dguitar%26qid%3D1687192280%26sprefix%3D%252Caps%252C200%26sr%3D8-57-spons%26sp_csd%3Dd2lkZ2V0TmFtZT1zcF9idGY%26psc%3D1', 'https://www.amazon.in/sspa/click?ie=UTF8&spc=MTo0MTQwOTU0NTY4MTQxMzIwOjE2ODcxOTIyODA6c3BfYnRmOjIwMTYzOTEzMDU5MDk4OjowOjo&url=%2FDEVICE-URBAN-INFOTECH-Professional-Beginners%2Fdp%2FB0C6DVVVCC%2Fref%3Dsr_1_58_sspa%3Fcrid%3D122SP6DYEA4CN%26keywords%3Dguitar%26qid%3D1687192280%26sprefix%3D%252Caps%252C200%26sr%3D8-58-spons%26sp_csd%3Dd2lkZ2V0TmFtZT1zcF9idGY%26psc%3D1', 'https://aax-eu.amazon.in/x/c/RHeptwj6rSQZb9Bs7CfyV64AAAGI1H8fWAMAAAH2AQBvbm9fdHhuX2JpZDMgICBvbm9fdHhuX2ltcDEgICAN1-YP/https://www.amazon.in/Sichumaria-Assorted-Celluloid-Guitar-1-00mm/dp/B0B59PJ7CX/ref=sxbs_sxbs_sb_mbv?content-id=amzn1.sym.3e384963-724e-4997-beb7-97abc7361dc0%3Aamzn1.sym.3e384963-724e-4997-beb7-97abc7361dc0&crid=122SP6DYEA4CN&cv_ct_cx=guitar&keywords=guitar&pd_rd_i=B0B59PJ7CX&pd_rd_r=0c92a2a6-4799-4ad1-b0e0-97060b9f7aa8&pd_rd_w=E8b1C&pd_rd_wg=NXmpQ&pf_rd_p=3e384963-724e-4997-beb7-97abc7361dc0&pf_rd_r=3751HSBCHM315P1AW1ZC&qid=1687192280&sprefix=%2Caps%2C200&sr=1-1-b825b195-5d9b-4aab-9ae8-a1f7210b3f57', 'https://www.amazon.in/Kadence-Slowhand-Premium-Acoustic-Instrument/dp/B077SZ667X/ref=sr_1_49?crid=122SP6DYEA4CN&keywords=guitar&qid=1687192290&sprefix=%2Caps%2C200&sr=8-49', 'https://www.amazon.in/Fender-CC-60S-Concert-Acoustic-Natural/dp/B07FYW9M4Q/ref=sr_1_50?crid=122SP6DYEA4CN&keywords=guitar&qid=1687192290&sprefix=%2Caps%2C200&sr=8-50', 'https://www.amazon.in/Acoustic-Plectrums-Beginner-Learners-configuration/dp/B0B4SSB8BJ/ref=sr_1_51?crid=122SP6DYEA4CN&keywords=guitar&qid=1687192290&sprefix=%2Caps%2C200&sr=8-51', 'https://www.amazon.in/Fender-FA-345CE-Auditorium-Bodied-Acoustic/dp/B07BCN55VP/ref=sr_1_52?crid=122SP6DYEA4CN&keywords=guitar&qid=1687192290&sprefix=%2Caps%2C200&sr=8-52', 'https://www.amazon.in/Hovner-215-Rosewood-Fretboard-Acoustic/dp/B0BZJXS8HK/ref=sr_1_53?crid=122SP6DYEA4CN&keywords=guitar&qid=1687192290&sprefix=%2Caps%2C200&sr=8-53', 'https://www.amazon.in/Sterling-Music-Man-7-string-Signature/dp/B079RMNL73/ref=sr_1_54?crid=122SP6DYEA4CN&keywords=guitar&qid=1687192290&sprefix=%2Caps%2C200&sr=8-54', 'https://www.amazon.in/Intern-INT-38C-Natural-Acoustic-Guitar/dp/B07X4LPJ6H/ref=sr_1_55?crid=122SP6DYEA4CN&keywords=guitar&qid=1687192290&sprefix=%2Caps%2C200&sr=8-55', 'https://www.amazon.in/Ibanez-MD39C-NT-Cutaway-Acoustic-MD39CSB/dp/B07KYKTRKX/ref=sr_1_56?crid=122SP6DYEA4CN&keywords=guitar&qid=1687192290&sprefix=%2Caps%2C200&sr=8-56', 'https://www.amazon.in/Kadence-Professional-Guitar-Years-Strings/dp/B07YZK5B2Z/ref=sr_1_57?crid=122SP6DYEA4CN&keywords=guitar&qid=1687192290&sprefix=%2Caps%2C200&sr=8-57', 'https://www.amazon.in/Fender-0970113006-CD-60SCE-Dreadnought-Fingerboard/dp/B07F39CHRZ/ref=sr_1_58?crid=122SP6DYEA4CN&keywords=guitar&qid=1687192290&sprefix=%2Caps%2C200&sr=8-58', 'https://www.amazon.in/Intern-INT-38C-Acoustic-Guitar-Kit/dp/B073B6TF31/ref=sr_1_59?crid=122SP6DYEA4CN&keywords=guitar&qid=1687192290&sprefix=%2Caps%2C200&sr=8-59', 'https://www.amazon.in/Martin-Smith-W-101-SB-PK-Acoustic-Guitar/dp/B019MY0ZGI/ref=sr_1_60?crid=122SP6DYEA4CN&keywords=guitar&qid=1687192290&sprefix=%2Caps%2C200&sr=8-60', 'https://www.amazon.in/YAMAHA-NATURAL-CONCERT-CUTAWAY-GUITAR/dp/B08KW4DRKL/ref=sr_1_61?crid=122SP6DYEA4CN&keywords=guitar&qid=1687192290&sprefix=%2Caps%2C200&sr=8-61', 'https://www.amazon.in/Juarez-Acoustic-Guitar-Cutaway-Strings/dp/B075XMRKMY/ref=sr_1_62?crid=122SP6DYEA4CN&keywords=guitar&qid=1687192290&sprefix=%2Caps%2C200&sr=8-62', 'https://www.amazon.in/Tagima-Junior-Inch-Acoustic-Guitar/dp/B0BTBWJTGH/ref=sr_1_63?crid=122SP6DYEA4CN&keywords=guitar&qid=1687192290&sprefix=%2Caps%2C200&sr=8-63', 'https://www.amazon.in/Ultimate-Concert-Cutaway-Acoustic-Bajaao/dp/B08WHWKKV5/ref=sr_1_64?crid=122SP6DYEA4CN&keywords=guitar&qid=1687192290&sprefix=%2Caps%2C200&sr=8-64', 'https://www.amazon.in/JUAREZ-JRZ38C-Handed-Acoustic-Strings/dp/B01FYYTDW2/ref=sr_1_65?crid=122SP6DYEA4CN&keywords=guitar&qid=1687192290&sprefix=%2Caps%2C200&sr=8-65', 'https://www.amazon.in/JRZ38C-VTS-Strings-Acoustic-Cutaway/dp/B072MFLQC9/ref=sr_1_66?crid=122SP6DYEA4CN&keywords=guitar&qid=1687192290&sprefix=%2Caps%2C200&sr=8-66', 'https://www.amazon.in/Henrix-Handed-Cutway-Acoustic-Polishing/dp/B08R3DKYGM/ref=sr_1_67?crid=122SP6DYEA4CN&keywords=guitar&qid=1687192290&sprefix=%2Caps%2C200&sr=8-67', 'https://www.amazon.in/Medellin-Acoustic-Guitar-Carbon-Learning/dp/B09MSGMQ3Y/ref=sr_1_68?crid=122SP6DYEA4CN&keywords=guitar&qid=1687192290&sprefix=%2Caps%2C200&sr=8-68', 'https://www.amazon.in/BigPlayer-gitar-listrik-elektrik-meccaniche/dp/B08XQSLZVB/ref=sr_1_69?crid=122SP6DYEA4CN&keywords=guitar&qid=1687192290&sprefix=%2Caps%2C200&sr=8-69', 'https://www.amazon.in/Intern-INT-38C-Acoustic-Guitar-Natural/dp/B073B4D22T/ref=sr_1_70?crid=122SP6DYEA4CN&keywords=guitar&qid=1687192290&sprefix=%2Caps%2C200&sr=8-70', 'https://www.amazon.in/Intern-INT-38C-Sunburst-Acoustic-Guitar/dp/B07X1J4D3Z/ref=sr_1_71?crid=122SP6DYEA4CN&keywords=guitar&qid=1687192290&sprefix=%2Caps%2C200&sr=8-71', 'https://www.amazon.in/Intern-INT-38C-BLS-G-Guitar-Kit-Blue/dp/B07K8YXTNW/ref=sr_1_72?crid=122SP6DYEA4CN&keywords=guitar&qid=1687192290&sprefix=%2Caps%2C200&sr=8-72', 'https://www.amazon.in/Fender-CD-60SCE-Dreadnought-Acoustic-Guitar/dp/B07FYQP9ML/ref=sr_1_73?crid=122SP6DYEA4CN&keywords=guitar&qid=1687192290&sprefix=%2Caps%2C200&sr=8-73', 'https://www.amazon.in/Kadence-Electric-Guitar-Rosewood-Fretboard/dp/B07BGW6JVL/ref=sr_1_74?crid=122SP6DYEA4CN&keywords=guitar&qid=1687192290&sprefix=%2Caps%2C200&sr=8-74', 'https://www.amazon.in/Blueberry-VlP-405-TrussRod-Acoustic-Classic/dp/B0BVZBL1VJ/ref=sr_1_75?crid=122SP6DYEA4CN&keywords=guitar&qid=1687192290&sprefix=%2Caps%2C200&sr=8-75', 'https://www.amazon.in/AJ-220SCE-Acoustic-Electric-Guitar-Mahogany-Burst/dp/B07KJLLZLY/ref=sr_1_76?crid=122SP6DYEA4CN&keywords=guitar&qid=1687192290&sprefix=%2Caps%2C200&sr=8-76', 'https://www.amazon.in/Les-Paul-SL-Sunset-Yellow/dp/B075BVT6Q1/ref=sr_1_77?crid=122SP6DYEA4CN&keywords=guitar&qid=1687192290&sprefix=%2Caps%2C200&sr=8-77', 'https://www.amazon.in/Yamaha-6-String-Acoustic-Right-Handed-Sunburst/dp/B000WITGQO/ref=sr_1_78?crid=122SP6DYEA4CN&keywords=guitar&qid=1687192290&sprefix=%2Caps%2C200&sr=8-78', 'https://www.amazon.in/Acoustic-Pick-up-stability-professional-amplificaiton/dp/B09YH8X5CL/ref=sr_1_79?crid=122SP6DYEA4CN&keywords=guitar&qid=1687192290&sprefix=%2Caps%2C200&sr=8-79', 'https://www.amazon.in/Intern-INT-38C-L-SB-Acoustic-Guitar-Sunburst/dp/B07J5B69MB/ref=sr_1_80?crid=122SP6DYEA4CN&keywords=guitar&qid=1687192290&sprefix=%2Caps%2C200&sr=8-80', 'https://www.amazon.in/JUAREZ-JRZ38C-Acoustic-Natural-Strings/dp/B01FYYTDWC/ref=sr_1_81?crid=122SP6DYEA4CN&keywords=guitar&qid=1687192290&sprefix=%2Caps%2C200&sr=8-81', 'https://www.amazon.in/Juarez-Acoustic-Guitar-Cutaway-JRZ38CT/dp/B01N3TTYJQ/ref=sr_1_82?crid=122SP6DYEA4CN&keywords=guitar&qid=1687192290&sprefix=%2Caps%2C200&sr=8-82', 'https://www.amazon.in/Fender-Alternative-String-Acoustic-971210521/dp/B07LD8RZVR/ref=sr_1_83?crid=122SP6DYEA4CN&keywords=guitar&qid=1687192290&sprefix=%2Caps%2C200&sr=8-83', 'https://www.amazon.in/Yamaha-FS100C-Acoustic-Guitar-Natural/dp/B08Z3DVN8N/ref=sr_1_84?crid=122SP6DYEA4CN&keywords=guitar&qid=1687192290&sprefix=%2Caps%2C200&sr=8-84', 'https://www.amazon.in/Pluto-HW34-101-Acoustic-Guitar-Kids/dp/B00PNDAQOY/ref=sr_1_85?crid=122SP6DYEA4CN&keywords=guitar&qid=1687192290&sprefix=%2Caps%2C200&sr=8-85', 'https://www.amazon.in/Ju%C3%A2rez-JRZ38C-WH-Strings-Acoustic/dp/B072MFK4L6/ref=sr_1_86?crid=122SP6DYEA4CN&keywords=guitar&qid=1687192290&sprefix=%2Caps%2C200&sr=8-86', 'https://www.amazon.in/Medellin-Acoustic-specailized-learning-beginners/dp/B09MSGN39M/ref=sr_1_87?crid=122SP6DYEA4CN&keywords=guitar&qid=1687192290&sprefix=%2Caps%2C200&sr=8-87', 'https://www.amazon.in/Acoustic-strings-plectrums-stability-age-groups/dp/B09YHC3LX6/ref=sr_1_88?crid=122SP6DYEA4CN&keywords=guitar&qid=1687192290&sprefix=%2Caps%2C200&sr=8-88', 'https://www.amazon.in/Yamaha-Acoustic-Guitar-Natural-Bajaao/dp/B08RMP2F6Z/ref=sr_1_89?crid=122SP6DYEA4CN&keywords=guitar&qid=1687192290&sprefix=%2Caps%2C200&sr=8-89', 'https://www.amazon.in/Traveller-Acoustic-Guitar-Strings-Polishing/dp/B07RK9962M/ref=sr_1_90?crid=122SP6DYEA4CN&keywords=guitar&qid=1687192290&sprefix=%2Caps%2C200&sr=8-90', 'https://www.amazon.in/YAMAHA-FS80C-CONCERT-CUTAWAY-GUITAR/dp/B08WBBVMVJ/ref=sr_1_91?crid=122SP6DYEA4CN&keywords=guitar&qid=1687192290&sprefix=%2Caps%2C200&sr=8-91', 'https://www.amazon.in/Vault-Tele-Style-Electric-Guitar/dp/B09ZJ61TXF/ref=sr_1_92?crid=122SP6DYEA4CN&keywords=guitar&qid=1687192290&sprefix=%2Caps%2C200&sr=8-92', 'https://www.amazon.in/Yamaha-APX600-NA-Acoustic-Electric-Natural/dp/B078WYGGHS/ref=sr_1_93?crid=122SP6DYEA4CN&keywords=guitar&qid=1687192290&sprefix=%2Caps%2C200&sr=8-93', 'https://www.amazon.in/JRZ-ST01-6-String-Electric-Sunburst-Without/dp/B01FYZSOEE/ref=sr_1_94?crid=122SP6DYEA4CN&keywords=guitar&qid=1687192290&sprefix=%2Caps%2C200&sr=8-94', 'https://www.amazon.in/Juarez-Acoustic-Guitar-Cutaway-Strings/dp/B084VRCCN7/ref=sr_1_95?crid=122SP6DYEA4CN&keywords=guitar&qid=1687192290&sprefix=%2Caps%2C200&sr=8-95', 'https://www.amazon.in/Blueberry-B-D38-Acoustic-inbuilt-Strings/dp/B07PCRZ1CD/ref=sr_1_96?crid=122SP6DYEA4CN&keywords=guitar&qid=1687192290&sprefix=%2Caps%2C200&sr=8-96', 'https://www.amazon.in/Junior-Acoustic-Guitar-Strings-Polishing/dp/B07RMJ88G2/ref=sr_1_97?crid=122SP6DYEA4CN&keywords=guitar&qid=1687192293&sprefix=%2Caps%2C200&sr=8-97', 'https://www.amazon.in/Cort-AF500C-Gig-Bag-Polishing-Cloth/dp/B0C494C1FV/ref=sr_1_98?crid=122SP6DYEA4CN&keywords=guitar&qid=1687192293&sprefix=%2Caps%2C200&sr=8-98', 'https://www.amazon.in/Yamaha-F310-Acoustic-Guitar-Natural/dp/B08Z3C1GRM/ref=sr_1_99?crid=122SP6DYEA4CN&keywords=guitar&qid=1687192293&sprefix=%2Caps%2C200&sr=8-99', 'https://www.amazon.in/EA40-CE-Premium-Spruce-Top-Cutaway-Acoustic/dp/B08WHV1NN8/ref=sr_1_100?crid=122SP6DYEA4CN&keywords=guitar&qid=1687192293&sprefix=%2Caps%2C200&sr=8-100', 'https://www.amazon.in/Epiphone-Acoustic-EEHBFCNH1-Acoustic-Electric-Guitar/dp/B00AFOMX7O/ref=sr_1_101?crid=122SP6DYEA4CN&keywords=guitar&qid=1687192293&sprefix=%2Caps%2C200&sr=8-101', 'https://www.amazon.in/Medellin-Acoustic-Guitar-Carbon-Learning/dp/B09MSGQQWX/ref=sr_1_102?crid=122SP6DYEA4CN&keywords=guitar&qid=1687192293&sprefix=%2Caps%2C200&sr=8-102', 'https://www.amazon.in/Blueberry-Acoustic-inbuilt-Strings-Natural/dp/B07PLK46LR/ref=sr_1_103?crid=122SP6DYEA4CN&keywords=guitar&qid=1687192293&sprefix=%2Caps%2C200&sr=8-103', 'https://www.amazon.in/Squier-Fender-Classic-Mustang-Electric/dp/B07N2939RC/ref=sr_1_104?crid=122SP6DYEA4CN&keywords=guitar&qid=1687192293&sprefix=%2Caps%2C200&sr=8-104', 'https://www.amazon.in/Fender-0930307032-SA-105CE-Dreadnought-Electric/dp/B009X3PM08/ref=sr_1_105?crid=122SP6DYEA4CN&keywords=guitar&qid=1687192293&sprefix=%2Caps%2C200&sr=8-105', 'https://www.amazon.in/Kordz-Rosewood-Fretboard-Acoustic-Strings/dp/B0C6GKS3SK/ref=sr_1_106?crid=122SP6DYEA4CN&keywords=guitar&qid=1687192293&sprefix=%2Caps%2C200&sr=8-106', 'https://www.amazon.in/Kordz-Rosewood-Fretboard-Acoustic-Strings/dp/B09KGH7M5Q/ref=sr_1_97?crid=122SP6DYEA4CN&keywords=guitar&qid=1687192293&sprefix=%2Caps%2C200&sr=8-97', 'https://www.amazon.in/JUAREZ-Arpeggio-Acoustic-Rosewood-Fretboard/dp/B08LBHB547/ref=sr_1_98?crid=122SP6DYEA4CN&keywords=guitar&qid=1687192293&sprefix=%2Caps%2C200&sr=8-98', 'https://www.amazon.in/Cort-CAP810-OP-Acoustic-Plectrums-Complete/dp/B08D7SWGG5/ref=sr_1_99?crid=122SP6DYEA4CN&keywords=guitar&qid=1687192293&sprefix=%2Caps%2C200&sr=8-99', 'https://www.amazon.in/Medellin-carbn-guitar-38inch-NATURAL/dp/B09MSHD6TS/ref=sr_1_100?crid=122SP6DYEA4CN&keywords=guitar&qid=1687192293&sprefix=%2Caps%2C200&sr=8-100', 'https://www.amazon.in/Blueberry-VIP-385-38Inch-Acoustic-Basswood/dp/B0BVW7QCNC/ref=sr_1_101?crid=122SP6DYEA4CN&keywords=guitar&qid=1687192293&sprefix=%2Caps%2C200&sr=8-101', 'https://www.amazon.in/Fender-CD-60SCE-Electro-Acoustic-Guitar-black/dp/B09BVZ57LM/ref=sr_1_102?crid=122SP6DYEA4CN&keywords=guitar&qid=1687192293&sprefix=%2Caps%2C200&sr=8-102', 'https://www.amazon.in/JUAREZ-Arpeggio-Guitar-JRA41SP-RD-K-red/dp/B08MW8CWG8/ref=sr_1_103?crid=122SP6DYEA4CN&keywords=guitar&qid=1687192293&sprefix=%2Caps%2C200&sr=8-103', 'https://www.amazon.in/Neowood-FLY-SM-Acoustic-Plectrums-Protectors/dp/B0C7LD8HT6/ref=sr_1_104?crid=122SP6DYEA4CN&keywords=guitar&qid=1687192293&sprefix=%2Caps%2C200&sr=8-104', 'https://www.amazon.in/Carlton-Special-Rosewood-Fretboard-Acoustic/dp/B08T94SPP5/ref=sr_1_105?crid=122SP6DYEA4CN&keywords=guitar&qid=1687192293&sprefix=%2Caps%2C200&sr=8-105', 'https://www.amazon.in/Blueberry-38C-Acoustic-Strings-Natural/dp/B08KLNFL2Y/ref=sr_1_106?crid=122SP6DYEA4CN&keywords=guitar&qid=1687192293&sprefix=%2Caps%2C200&sr=8-106', 'https://www.amazon.in/JUAREZ-JRZ38C-Handed-Acoustic-Strings/dp/B01FYYTDX6/ref=sr_1_107?crid=122SP6DYEA4CN&keywords=guitar&qid=1687192293&sprefix=%2Caps%2C200&sr=8-107', 'https://www.amazon.in/Miniature-Electric-Musical-Instrument-Cutaway/dp/B097CG7GMM/ref=sr_1_108?crid=122SP6DYEA4CN&keywords=guitar&qid=1687192293&sprefix=%2Caps%2C200&sr=8-108', 'https://www.amazon.in/Yamaha-FSX80C-Acoustic-Cutaway-Natural/dp/B09HL3GFZF/ref=sr_1_109?crid=122SP6DYEA4CN&keywords=guitar&qid=1687192293&sprefix=%2Caps%2C200&sr=8-109', 'https://www.amazon.in/JUAREZ-JRZ38CTR-BK-Acoustic-Guitar/dp/B08FTZK7H8/ref=sr_1_110?crid=122SP6DYEA4CN&keywords=guitar&qid=1687192293&sprefix=%2Caps%2C200&sr=8-110', 'https://www.amazon.in/Yamaha-Electric-Acoustic-FSX80C-Dreadnought-Plectrums/dp/B09HSJ6GPQ/ref=sr_1_111?crid=122SP6DYEA4CN&keywords=guitar&qid=1687192293&sprefix=%2Caps%2C200&sr=8-111', 'https://www.amazon.in/JUAREZ-Acoustic-Guitar-3TS-Sunburst/dp/B08FV1KHTT/ref=sr_1_112?crid=122SP6DYEA4CN&keywords=guitar&qid=1687192293&sprefix=%2Caps%2C200&sr=8-112', 'https://www.amazon.in/Yamaha-PAC012-Electric-Guitar-Metallic/dp/B000MLY7XS/ref=sr_1_113?crid=122SP6DYEA4CN&keywords=guitar&qid=1687192293&sprefix=%2Caps%2C200&sr=8-113', 'https://www.amazon.in/Fender-FA-125CE-Dreadnought-Fingerboard-Natural/dp/B07R16NMKH/ref=sr_1_114?crid=122SP6DYEA4CN&keywords=guitar&qid=1687192293&sprefix=%2Caps%2C200&sr=8-114', 'https://www.amazon.in/Cort-AF515CE-6-String-Electro-Acoustic/dp/B07P6XSHQC/ref=sr_1_115?crid=122SP6DYEA4CN&keywords=guitar&qid=1687192293&sprefix=%2Caps%2C200&sr=8-115', 'https://www.amazon.in/Medellin-Acoustic-adjustable-Truss-rod-learning/dp/B0BRPZMPYN/ref=sr_1_116?crid=122SP6DYEA4CN&keywords=guitar&qid=1687192293&sprefix=%2Caps%2C200&sr=8-116', 'https://www.amazon.in/Pocket-Guitar-Practice-Portable-Beginner/dp/B07TYK1N1P/ref=sr_1_117?crid=122SP6DYEA4CN&keywords=guitar&qid=1687192293&sprefix=%2Caps%2C200&sr=8-117', 'https://www.amazon.in/Fender-SA105CE-Electric-Acoustic-Plectrums/dp/B08P8KQ87F/ref=sr_1_118?crid=122SP6DYEA4CN&keywords=guitar&qid=1687192293&sprefix=%2Caps%2C200&sr=8-118', 'https://www.amazon.in/Yamaha-F370-Acoustic-Guitar-Natural/dp/B000WITPJM/ref=sr_1_119?crid=122SP6DYEA4CN&keywords=guitar&qid=1687192293&sprefix=%2Caps%2C200&sr=8-119', 'https://www.amazon.in/JUAREZ-Electric-Guitar-Handed-Sunburst/dp/B0758HTV7R/ref=sr_1_120?crid=122SP6DYEA4CN&keywords=guitar&qid=1687192293&sprefix=%2Caps%2C200&sr=8-120', 'https://www.amazon.in/Kadence-Astro-Electric-Guitar-FRETS/dp/B09YHPH1MZ/ref=sr_1_121?crid=122SP6DYEA4CN&keywords=guitar&qid=1687192293&sprefix=%2Caps%2C200&sr=8-121', 'https://www.amazon.in/Ketostics-Rosewood-Acoustic-Electric-Plectrums/dp/B09NSXPV1P/ref=sr_1_122?crid=122SP6DYEA4CN&keywords=guitar&qid=1687192293&sprefix=%2Caps%2C200&sr=8-122', 'https://www.amazon.in/ORANGEWOOD-OLIVER-S-SPRUCE-CONCERT-ACOUSTIC/dp/B0B6PT8JGD/ref=sr_1_123?crid=122SP6DYEA4CN&keywords=guitar&qid=1687192293&sprefix=%2Caps%2C200&sr=8-123', 'https://www.amazon.in/Juarez-JRZ38C-ASH-Strings-Acoustic/dp/B072JTPNZC/ref=sr_1_124?crid=122SP6DYEA4CN&keywords=guitar&qid=1687192293&sprefix=%2Caps%2C200&sr=8-124', 'https://www.amazon.in/Cort-AF510E-Semi-Acoustic-Guitar-Black/dp/B00L5F93DE/ref=sr_1_125?crid=122SP6DYEA4CN&keywords=guitar&qid=1687192293&sprefix=%2Caps%2C200&sr=8-125', 'https://www.amazon.in/Juarez-JRZ-ST01-6-String-Electric-Without/dp/B01FYZSOHG/ref=sr_1_126?crid=122SP6DYEA4CN&keywords=guitar&qid=1687192293&sprefix=%2Caps%2C200&sr=8-126', 'https://www.amazon.in/Fender-SA105CEBK-Acoustic-Guitar/dp/B01N6KME9M/ref=sr_1_127?crid=122SP6DYEA4CN&keywords=guitar&qid=1687192293&sprefix=%2Caps%2C200&sr=8-127', 'https://www.amazon.in/Intern-INT-38C-SB-G-Guitar-Kit-Sunburst/dp/B07K8WLPLH/ref=sr_1_128?crid=122SP6DYEA4CN&keywords=guitar&qid=1687192293&sprefix=%2Caps%2C200&sr=8-128', 'https://www.amazon.in/ROZZBY-4-String-Musical-Instrument-Learning/dp/B0C33B55N9/ref=sr_1_129?crid=122SP6DYEA4CN&keywords=guitar&qid=1687192293&sprefix=%2Caps%2C200&sr=8-129', 'https://www.amazon.in/Pluto-HW39C-201-Medium-Cutaway-Acoustic/dp/B014R94EE2/ref=sr_1_130?crid=122SP6DYEA4CN&keywords=guitar&qid=1687192293&sprefix=%2Caps%2C200&sr=8-130', 'https://www.amazon.in/Kadence-Acoustica-Ash-Wood-Equlizer/dp/B0757H5P13/ref=sr_1_131?crid=122SP6DYEA4CN&keywords=guitar&qid=1687192293&sprefix=%2Caps%2C200&sr=8-131', 'https://www.amazon.in/Fender-091170170-Acoustic-Guitar/dp/B08PMT53X7/ref=sr_1_132?crid=122SP6DYEA4CN&keywords=guitar&qid=1687192293&sprefix=%2Caps%2C200&sr=8-132', 'https://www.amazon.in/Ketostics-Givson-Special-Acoustic-Plectrums/dp/B08HWHCFDG/ref=sr_1_133?crid=122SP6DYEA4CN&keywords=guitar&qid=1687192293&sprefix=%2Caps%2C200&sr=8-133', 'https://www.amazon.in/Fender-0971170135-Acoustic-Guitar/dp/B08PJRGZ98/ref=sr_1_134?crid=122SP6DYEA4CN&keywords=guitar&qid=1687192293&sprefix=%2Caps%2C200&sr=8-134']\n"
     ]
    }
   ],
   "source": [
    "print(product_urls)"
   ]
  },
  {
   "cell_type": "code",
   "execution_count": 19,
   "id": "1ede588d",
   "metadata": {
    "scrolled": true
   },
   "outputs": [
    {
     "name": "stdout",
     "output_type": "stream",
     "text": [
      "156 156 156 156 156 156 156\n"
     ]
    }
   ],
   "source": [
    "# Checking lengths of all the lists\n",
    "print(len(brand_name),len(product_name),len(product_price),len(expected_delivery),len(return_exchange),len(product_availability),len(product_urls))"
   ]
  },
  {
   "cell_type": "code",
   "execution_count": 25,
   "id": "625b2fc3",
   "metadata": {
    "scrolled": false
   },
   "outputs": [
    {
     "data": {
      "text/html": [
       "<div>\n",
       "<style scoped>\n",
       "    .dataframe tbody tr th:only-of-type {\n",
       "        vertical-align: middle;\n",
       "    }\n",
       "\n",
       "    .dataframe tbody tr th {\n",
       "        vertical-align: top;\n",
       "    }\n",
       "\n",
       "    .dataframe thead th {\n",
       "        text-align: right;\n",
       "    }\n",
       "</style>\n",
       "<table border=\"1\" class=\"dataframe\">\n",
       "  <thead>\n",
       "    <tr style=\"text-align: right;\">\n",
       "      <th></th>\n",
       "      <th>Brand Name</th>\n",
       "      <th>Product Name</th>\n",
       "      <th>Price</th>\n",
       "      <th>Expected Delivery</th>\n",
       "      <th>Return/Exchange</th>\n",
       "      <th>Availability</th>\n",
       "      <th>Product URLs</th>\n",
       "    </tr>\n",
       "  </thead>\n",
       "  <tbody>\n",
       "    <tr>\n",
       "      <th>0</th>\n",
       "      <td>Kadence</td>\n",
       "      <td>Kadence Frontier Jumbo Semi Acoustic Guitar Wi...</td>\n",
       "      <td>6,899</td>\n",
       "      <td>Friday, 23 June</td>\n",
       "      <td>7 days Replacement</td>\n",
       "      <td>In stock</td>\n",
       "      <td>https://www.amazon.in/sspa/click?ie=UTF8&amp;spc=M...</td>\n",
       "    </tr>\n",
       "    <tr>\n",
       "      <th>1</th>\n",
       "      <td>Kadence</td>\n",
       "      <td>Kadence Frontier guitar with Online Guitar lea...</td>\n",
       "      <td>4,999</td>\n",
       "      <td>Friday, 23 June</td>\n",
       "      <td>7 days Replacement</td>\n",
       "      <td>In stock</td>\n",
       "      <td>https://www.amazon.in/sspa/click?ie=UTF8&amp;spc=M...</td>\n",
       "    </tr>\n",
       "    <tr>\n",
       "      <th>2</th>\n",
       "      <td>VAULT</td>\n",
       "      <td>Vault DA40 41 Inch Premium Solid Spruce-Top Dr...</td>\n",
       "      <td>6,934</td>\n",
       "      <td>Friday, 23 June</td>\n",
       "      <td>7 days Replacement</td>\n",
       "      <td>In stock</td>\n",
       "      <td>https://www.amazon.in/sspa/click?ie=UTF8&amp;spc=M...</td>\n",
       "    </tr>\n",
       "    <tr>\n",
       "      <th>3</th>\n",
       "      <td>VAULT</td>\n",
       "      <td>Vault Traveller 34 Inch Acoustic Guitar With T...</td>\n",
       "      <td>4,084</td>\n",
       "      <td>Friday, 23 June</td>\n",
       "      <td>7 days Replacement</td>\n",
       "      <td>In stock</td>\n",
       "      <td>https://www.amazon.in/sspa/click?ie=UTF8&amp;spc=M...</td>\n",
       "    </tr>\n",
       "    <tr>\n",
       "      <th>4</th>\n",
       "      <td>JUAREZ</td>\n",
       "      <td>Juârez Acoustic Guitar, 38 Inch Cutaway, 038C ...</td>\n",
       "      <td>1,994</td>\n",
       "      <td>Monday, 26 June</td>\n",
       "      <td>7 days Replacement</td>\n",
       "      <td>In stock</td>\n",
       "      <td>https://www.amazon.in/Juarez-Acoustic-Cutaway-...</td>\n",
       "    </tr>\n",
       "    <tr>\n",
       "      <th>...</th>\n",
       "      <td>...</td>\n",
       "      <td>...</td>\n",
       "      <td>...</td>\n",
       "      <td>...</td>\n",
       "      <td>...</td>\n",
       "      <td>...</td>\n",
       "      <td>...</td>\n",
       "    </tr>\n",
       "    <tr>\n",
       "      <th>151</th>\n",
       "      <td>Pluto</td>\n",
       "      <td>Pluto HW39C-201 39-inch Cutaway Acoustic Guita...</td>\n",
       "      <td>5,905</td>\n",
       "      <td>Friday, 23 June</td>\n",
       "      <td>7 days Replacement</td>\n",
       "      <td>-</td>\n",
       "      <td>https://www.amazon.in/Pluto-HW39C-201-Medium-C...</td>\n",
       "    </tr>\n",
       "    <tr>\n",
       "      <th>152</th>\n",
       "      <td>Kadence</td>\n",
       "      <td>Kadence Guitar Acoustica Series, Electric Acou...</td>\n",
       "      <td>6,999</td>\n",
       "      <td>Sunday, 25 June</td>\n",
       "      <td>7 days Replacement</td>\n",
       "      <td>In stock</td>\n",
       "      <td>https://www.amazon.in/Kadence-Acoustica-Ash-Wo...</td>\n",
       "    </tr>\n",
       "    <tr>\n",
       "      <th>153</th>\n",
       "      <td>Fender</td>\n",
       "      <td>Fender Acoustic Guitar Dreadnought Solid CD60S...</td>\n",
       "      <td>14,784</td>\n",
       "      <td>Friday, 23 June</td>\n",
       "      <td>7 days Replacement</td>\n",
       "      <td>In stock</td>\n",
       "      <td>https://www.amazon.in/Fender-091170170-Acousti...</td>\n",
       "    </tr>\n",
       "    <tr>\n",
       "      <th>154</th>\n",
       "      <td>KETOSTICS</td>\n",
       "      <td>Ketostics™ Venus Special Cutaway Rosewood 41 I...</td>\n",
       "      <td>4,199</td>\n",
       "      <td>Friday, 23 June</td>\n",
       "      <td>7 days Replacement</td>\n",
       "      <td>In stock</td>\n",
       "      <td>https://www.amazon.in/Ketostics-Givson-Special...</td>\n",
       "    </tr>\n",
       "    <tr>\n",
       "      <th>155</th>\n",
       "      <td>Fender</td>\n",
       "      <td>Fender Acoustic Guitar 3/4 Size FA-15 Matt Nat...</td>\n",
       "      <td>16,350</td>\n",
       "      <td>Friday, 23 June</td>\n",
       "      <td>7 days Replacement</td>\n",
       "      <td>In stock</td>\n",
       "      <td>https://www.amazon.in/Fender-0971170135-Acoust...</td>\n",
       "    </tr>\n",
       "  </tbody>\n",
       "</table>\n",
       "<p>156 rows × 7 columns</p>\n",
       "</div>"
      ],
      "text/plain": [
       "    Brand Name                                       Product Name   Price  \\\n",
       "0      Kadence  Kadence Frontier Jumbo Semi Acoustic Guitar Wi...   6,899   \n",
       "1      Kadence  Kadence Frontier guitar with Online Guitar lea...   4,999   \n",
       "2        VAULT  Vault DA40 41 Inch Premium Solid Spruce-Top Dr...   6,934   \n",
       "3        VAULT  Vault Traveller 34 Inch Acoustic Guitar With T...   4,084   \n",
       "4       JUAREZ  Juârez Acoustic Guitar, 38 Inch Cutaway, 038C ...   1,994   \n",
       "..         ...                                                ...     ...   \n",
       "151      Pluto  Pluto HW39C-201 39-inch Cutaway Acoustic Guita...   5,905   \n",
       "152    Kadence  Kadence Guitar Acoustica Series, Electric Acou...   6,999   \n",
       "153     Fender  Fender Acoustic Guitar Dreadnought Solid CD60S...  14,784   \n",
       "154  KETOSTICS  Ketostics™ Venus Special Cutaway Rosewood 41 I...   4,199   \n",
       "155     Fender  Fender Acoustic Guitar 3/4 Size FA-15 Matt Nat...  16,350   \n",
       "\n",
       "    Expected Delivery     Return/Exchange Availability  \\\n",
       "0     Friday, 23 June  7 days Replacement     In stock   \n",
       "1     Friday, 23 June  7 days Replacement     In stock   \n",
       "2     Friday, 23 June  7 days Replacement     In stock   \n",
       "3     Friday, 23 June  7 days Replacement     In stock   \n",
       "4     Monday, 26 June  7 days Replacement     In stock   \n",
       "..                ...                 ...          ...   \n",
       "151   Friday, 23 June  7 days Replacement            -   \n",
       "152   Sunday, 25 June  7 days Replacement     In stock   \n",
       "153   Friday, 23 June  7 days Replacement     In stock   \n",
       "154   Friday, 23 June  7 days Replacement     In stock   \n",
       "155   Friday, 23 June  7 days Replacement     In stock   \n",
       "\n",
       "                                          Product URLs  \n",
       "0    https://www.amazon.in/sspa/click?ie=UTF8&spc=M...  \n",
       "1    https://www.amazon.in/sspa/click?ie=UTF8&spc=M...  \n",
       "2    https://www.amazon.in/sspa/click?ie=UTF8&spc=M...  \n",
       "3    https://www.amazon.in/sspa/click?ie=UTF8&spc=M...  \n",
       "4    https://www.amazon.in/Juarez-Acoustic-Cutaway-...  \n",
       "..                                                 ...  \n",
       "151  https://www.amazon.in/Pluto-HW39C-201-Medium-C...  \n",
       "152  https://www.amazon.in/Kadence-Acoustica-Ash-Wo...  \n",
       "153  https://www.amazon.in/Fender-091170170-Acousti...  \n",
       "154  https://www.amazon.in/Ketostics-Givson-Special...  \n",
       "155  https://www.amazon.in/Fender-0971170135-Acoust...  \n",
       "\n",
       "[156 rows x 7 columns]"
      ]
     },
     "execution_count": 25,
     "metadata": {},
     "output_type": "execute_result"
    }
   ],
   "source": [
    "# Creating dataframe\n",
    "df = pd.DataFrame({'Brand Name':brand_name,'Product Name':product_name,'Price in Rs.':product_price,'Expected Delivery':expected_delivery,'Return/Exchange':return_exchange,'Availability':product_availability,'Product URLs':product_urls})\n",
    "\n",
    "# Displaying dataframe\n",
    "df"
   ]
  },
  {
   "cell_type": "code",
   "execution_count": 27,
   "id": "9be08433",
   "metadata": {
    "scrolled": false
   },
   "outputs": [],
   "source": [
    "# Creating CSV file\n",
    "df.to_csv('D:/CSV files/products.csv',index = False)"
   ]
  },
  {
   "cell_type": "markdown",
   "id": "07b83ea2",
   "metadata": {},
   "source": [
    "3. Write a python program to access the search bar and search button on images.google.com and scrape 10 images each for keywords ‘fruits’, ‘cars’ and ‘Machine Learning’, ‘Guitar’, ‘Cakes’. "
   ]
  },
  {
   "cell_type": "code",
   "execution_count": 28,
   "id": "9df3c6b1",
   "metadata": {},
   "outputs": [
    {
     "data": {
      "text/plain": [
       "<Response [200]>"
      ]
     },
     "execution_count": 28,
     "metadata": {},
     "output_type": "execute_result"
    }
   ],
   "source": [
    "# Sending a request to the website for scraping data\n",
    "page = requests.get(\"https://images.google.com/\")\n",
    "page"
   ]
  },
  {
   "cell_type": "code",
   "execution_count": 29,
   "id": "4d17888f",
   "metadata": {},
   "outputs": [],
   "source": [
    "# Creating WebDriver instance for controlling the Chrome browser using Selenium\n",
    "driver = webdriver.Chrome(r\"chromedriver.exe\")"
   ]
  },
  {
   "cell_type": "code",
   "execution_count": 30,
   "id": "051cfa62",
   "metadata": {},
   "outputs": [],
   "source": [
    "# Opening webpage in the browser window controlled by the WebDriver instance\n",
    "driver.get(\"https://images.google.com/\")"
   ]
  },
  {
   "cell_type": "code",
   "execution_count": 31,
   "id": "61ee9bed",
   "metadata": {},
   "outputs": [],
   "source": [
    "# List of keywords whose images are to be scrapped\n",
    "keywords = ['fruits','cars','Machine Learning','Guitar','Cakes']\n",
    "\n",
    "# List for storing urls of given keywords\n",
    "fruits_img_urls = []\n",
    "cars_img_urls = []\n",
    "ML_img_urls = []\n",
    "guitar_img_urls = []\n",
    "cakes_img_urls = []"
   ]
  },
  {
   "cell_type": "code",
   "execution_count": 32,
   "id": "6823af6b",
   "metadata": {},
   "outputs": [],
   "source": [
    "for i in range(len(keywords)):\n",
    "    \n",
    "    # Accessing the search bar\n",
    "    search_bar = driver.find_element(By.XPATH,\"//textarea[@class='gLFyf'] | //input[@class='og3lId']\")\n",
    "    \n",
    "    # Clearing the search bar\n",
    "    search_bar.clear()\n",
    "    \n",
    "    # Entering keyword in search bar\n",
    "    search_bar.send_keys(keywords[i])\n",
    "    \n",
    "    # Clicking the search button\n",
    "    search_button = driver.find_element(By.XPATH,\"//button[@class='Tg7LZd'] | //button[@class='rCGXm']\") \n",
    "    try:\n",
    "        search_button.click()\n",
    "    except ElementClickInterceptedException:\n",
    "        search_bar.submit()\n",
    "    \n",
    "    time.sleep(1)\n",
    "    \n",
    "    # Accessing scroll bar and scrolling it vertically\n",
    "    for j in range(10):\n",
    "        driver.execute_script(\"window.scrollBy(0,500)\")\n",
    "        time.sleep(1)\n",
    "    \n",
    "    # Fetching urls of images for each keyword\n",
    "    image_urls = driver.find_elements(By.XPATH,\"//img[@class='rg_i Q4LuWd']\")\n",
    "    \n",
    "    for image in image_urls:      \n",
    "        image_url = image.get_attribute('src')\n",
    "        \n",
    "        if image_url is not None:\n",
    "            \n",
    "            if(image_url[0:4] == 'http'):\n",
    "                \n",
    "                # Storing urls of given keywords in their respective lists\n",
    "                if (keywords[i] == 'fruits'):\n",
    "                    fruits_img_urls.append(image_url)\n",
    "                elif (keywords[i] == 'cars'):\n",
    "                    cars_img_urls.append(image_url)\n",
    "                elif (keywords[i] == 'Machine Learning'):\n",
    "                    ML_img_urls.append(image_url)\n",
    "                elif (keywords[i] == 'Guitar'):\n",
    "                    guitar_img_urls.append(image_url)\n",
    "                elif (keywords[i] == 'Cakes'):\n",
    "                    cakes_img_urls.append(image_url)\n",
    "                    \n",
    "    time.sleep(1)"
   ]
  },
  {
   "cell_type": "code",
   "execution_count": 38,
   "id": "6066c584",
   "metadata": {
    "scrolled": false
   },
   "outputs": [
    {
     "name": "stdout",
     "output_type": "stream",
     "text": [
      "Downloading fruits images-\n",
      "Downloading 0 of 10 images\n",
      "Downloading 1 of 10 images\n",
      "Downloading 2 of 10 images\n",
      "Downloading 3 of 10 images\n",
      "Downloading 4 of 10 images\n",
      "Downloading 5 of 10 images\n",
      "Downloading 6 of 10 images\n",
      "Downloading 7 of 10 images\n",
      "Downloading 8 of 10 images\n",
      "Downloading 9 of 10 images\n"
     ]
    }
   ],
   "source": [
    "# Fruits images\n",
    "print(\"Downloading fruits images-\")\n",
    "for i in range(10):\n",
    "    print(\"Downloading\",i,\"of\",\"10\",\"images\")\n",
    "    response = requests.get(fruits_img_urls[i])\n",
    "    file = open(\"D:/Product images/Fruits/img\"+str(i)+\".jpg\",\"wb\")\n",
    "    file.write(response.content)"
   ]
  },
  {
   "cell_type": "code",
   "execution_count": 39,
   "id": "5924d757",
   "metadata": {
    "scrolled": false
   },
   "outputs": [
    {
     "name": "stdout",
     "output_type": "stream",
     "text": [
      "Downloading cars images-\n",
      "Downloading 0 of 10 images\n",
      "Downloading 1 of 10 images\n",
      "Downloading 2 of 10 images\n",
      "Downloading 3 of 10 images\n",
      "Downloading 4 of 10 images\n",
      "Downloading 5 of 10 images\n",
      "Downloading 6 of 10 images\n",
      "Downloading 7 of 10 images\n",
      "Downloading 8 of 10 images\n",
      "Downloading 9 of 10 images\n"
     ]
    }
   ],
   "source": [
    "# Cars images- \n",
    "print(\"Downloading cars images-\")\n",
    "for i in range(0,10):\n",
    "    print(\"Downloading\",i,\"of\",\"10\",\"images\")\n",
    "    response = requests.get(cars_img_urls[i])\n",
    "    file = open(\"D:/Product images/Cars/img\"+str(i)+\".jpg\",\"wb\")\n",
    "    file.write(response.content)"
   ]
  },
  {
   "cell_type": "code",
   "execution_count": 41,
   "id": "df96c91a",
   "metadata": {
    "scrolled": false
   },
   "outputs": [
    {
     "name": "stdout",
     "output_type": "stream",
     "text": [
      "Downloading Machine Learning images-\n",
      "Downloading 0 of 10 images\n",
      "Downloading 1 of 10 images\n",
      "Downloading 2 of 10 images\n",
      "Downloading 3 of 10 images\n",
      "Downloading 4 of 10 images\n",
      "Downloading 5 of 10 images\n",
      "Downloading 6 of 10 images\n",
      "Downloading 7 of 10 images\n",
      "Downloading 8 of 10 images\n",
      "Downloading 9 of 10 images\n"
     ]
    }
   ],
   "source": [
    "# Machine Learning images-\n",
    "print(\"Downloading Machine Learning images-\")\n",
    "for i in range(0,10):\n",
    "    print(\"Downloading\",i,\"of\",\"10\",\"images\")\n",
    "    response = requests.get(ML_img_urls[i])\n",
    "    file = open(\"D:/Product images/Machine Learning/img\"+str(i)+\".jpg\",\"wb\")\n",
    "    file.write(response.content)"
   ]
  },
  {
   "cell_type": "code",
   "execution_count": 42,
   "id": "d0e4540c",
   "metadata": {},
   "outputs": [
    {
     "name": "stdout",
     "output_type": "stream",
     "text": [
      "Downloading Guitar images-\n",
      "Downloading 0 of 10 images\n",
      "Downloading 1 of 10 images\n",
      "Downloading 2 of 10 images\n",
      "Downloading 3 of 10 images\n",
      "Downloading 4 of 10 images\n",
      "Downloading 5 of 10 images\n",
      "Downloading 6 of 10 images\n",
      "Downloading 7 of 10 images\n",
      "Downloading 8 of 10 images\n",
      "Downloading 9 of 10 images\n"
     ]
    }
   ],
   "source": [
    "# Guitar images- \n",
    "print(\"Downloading Guitar images-\")\n",
    "for i in range(0,10):\n",
    "    print(\"Downloading\",i,\"of\",\"10\",\"images\")\n",
    "    response = requests.get(guitar_img_urls[i])\n",
    "    file = open(\"D:/Product images/Guitar/img\"+str(i)+\".jpg\",\"wb\")\n",
    "    file.write(response.content)"
   ]
  },
  {
   "cell_type": "code",
   "execution_count": 43,
   "id": "f98151f1",
   "metadata": {},
   "outputs": [
    {
     "name": "stdout",
     "output_type": "stream",
     "text": [
      "Downloading cakes images-\n",
      "Downloading 0 of 10 images\n",
      "Downloading 1 of 10 images\n",
      "Downloading 2 of 10 images\n",
      "Downloading 3 of 10 images\n",
      "Downloading 4 of 10 images\n",
      "Downloading 5 of 10 images\n",
      "Downloading 6 of 10 images\n",
      "Downloading 7 of 10 images\n",
      "Downloading 8 of 10 images\n",
      "Downloading 9 of 10 images\n"
     ]
    }
   ],
   "source": [
    "# Cakes images- \n",
    "print(\"Downloading cakes images-\")\n",
    "for i in range(0,10):\n",
    "    print(\"Downloading\",i,\"of\",\"10\",\"images\")\n",
    "    response = requests.get(guitar_img_urls[i])\n",
    "    file = open(\"D:/Product images/Cakes/img\"+str(i)+\".jpg\",\"wb\")\n",
    "    file.write(response.content)"
   ]
  },
  {
   "cell_type": "markdown",
   "id": "bd57dd06",
   "metadata": {},
   "source": [
    "4. Write a python program to search for a smartphone(e.g.: Oneplus Nord, pixel 4A, etc.) on www.flipkart.com and scrape following details for all the search results displayed on 1st page. Details to be scraped: “Brand Name”, “Smartphone name”, “Colour”, “RAM”, “Storage(ROM)”, “Primary Camera”, “Secondary Camera”, “Display Size”, “Battery Capacity”, “Price”, “Product URL”. Incase if any of the details is missing then replace it by “- “. Save your results in a dataframe and CSV."
   ]
  },
  {
   "cell_type": "code",
   "execution_count": 44,
   "id": "0ff0d6cd",
   "metadata": {},
   "outputs": [
    {
     "data": {
      "text/plain": [
       "<Response [200]>"
      ]
     },
     "execution_count": 44,
     "metadata": {},
     "output_type": "execute_result"
    }
   ],
   "source": [
    "# Sending a request to a website for scraping data\n",
    "page = requests.get(\"https://www.flipkart.com/\")\n",
    "page"
   ]
  },
  {
   "cell_type": "code",
   "execution_count": 45,
   "id": "d7841ecc",
   "metadata": {},
   "outputs": [],
   "source": [
    "# Creating WebDriver instance for controlling the Chrome browser using Selenium\n",
    "driver = webdriver.Chrome(r\"chromedriver.exe\")"
   ]
  },
  {
   "cell_type": "code",
   "execution_count": 46,
   "id": "f774979f",
   "metadata": {},
   "outputs": [],
   "source": [
    "# Opening webpage in the browser window controlled by the WebDriver instance\n",
    "driver.get(\"https://www.flipkart.com/\")"
   ]
  },
  {
   "cell_type": "code",
   "execution_count": 47,
   "id": "323fdbdb",
   "metadata": {},
   "outputs": [],
   "source": [
    "# Cancelling login prompt\n",
    "cancel_login_prompt = driver.find_element(By.XPATH,\"//button[@class='_2KpZ6l _2doB4z']\")\n",
    "cancel_login_prompt.click()"
   ]
  },
  {
   "cell_type": "code",
   "execution_count": 48,
   "id": "e4ecc53d",
   "metadata": {},
   "outputs": [],
   "source": [
    "def smartphone():\n",
    "    \n",
    "    # Asking for name of smartphone from user\n",
    "    smartphone_name = input(\"Please enter smartphone name:\")\n",
    "    \n",
    "    # Accessing search bar\n",
    "    search_bar = driver.find_element(By.XPATH,\"//input[@class='_3704LK']\")\n",
    "    search_bar.click()\n",
    "    \n",
    "    # Clearing search bar text\n",
    "    search_bar.clear()\n",
    "    \n",
    "    # Entering smartphone name in search bar\n",
    "    search_bar.send_keys(smartphone_name)\n",
    "\n",
    "    # Clicking the search button\n",
    "    search_button = driver.find_element(By.CLASS_NAME,\"L0Z3Pu\")\n",
    "    search_button.click()"
   ]
  },
  {
   "cell_type": "code",
   "execution_count": 49,
   "id": "1e748926",
   "metadata": {
    "scrolled": true
   },
   "outputs": [
    {
     "name": "stdout",
     "output_type": "stream",
     "text": [
      "Please enter smartphone name:Oneplus Nord\n"
     ]
    }
   ],
   "source": [
    "smartphone()"
   ]
  },
  {
   "cell_type": "code",
   "execution_count": 50,
   "id": "ae928e4c",
   "metadata": {},
   "outputs": [],
   "source": [
    "# Lists for storing details of smartphones\n",
    "smartphone_brand = []\n",
    "smartphone_name = []\n",
    "smartphone_color = []\n",
    "smartphone_details = []\n",
    "RAM_ROM = []\n",
    "display = []\n",
    "camera = []\n",
    "battery_capacity = []\n",
    "smartphone_price = []\n",
    "product_url = []"
   ]
  },
  {
   "cell_type": "code",
   "execution_count": 51,
   "id": "bdefd517",
   "metadata": {},
   "outputs": [],
   "source": [
    "# Fetching and storing all the listed products urls in respective list\n",
    "url=driver.find_elements(By.XPATH,\"//a[@class='_1fQZEK']\")\n",
    "for i in url:\n",
    "    product_url.append(i.get_attribute('href'))   "
   ]
  },
  {
   "cell_type": "code",
   "execution_count": 52,
   "id": "12beef82",
   "metadata": {},
   "outputs": [
    {
     "data": {
      "text/plain": [
       "24"
      ]
     },
     "execution_count": 52,
     "metadata": {},
     "output_type": "execute_result"
    }
   ],
   "source": [
    "len(product_url)"
   ]
  },
  {
   "cell_type": "code",
   "execution_count": 53,
   "id": "31c037e7",
   "metadata": {},
   "outputs": [],
   "source": [
    "for i in product_url:\n",
    "    \n",
    "    driver.get(i)\n",
    "    \n",
    "    # Scraping and storing brand names of smartphones in smartphone_brand list\n",
    "    try:\n",
    "        brand = driver.find_element(By.XPATH,\"//span[@class='B_NuCI']\")\n",
    "        smartphone_brand.append(brand.text.split(' ')[0])\n",
    "    except NoSuchElementException:\n",
    "        smartphone_brand.append('-')\n",
    "    \n",
    "    # Scraping and storing names of smartphones in smartphone_name list\n",
    "    try:\n",
    "        name = driver.find_element(By.XPATH,\"//span[@class='B_NuCI']\")\n",
    "        smartphone_name.append(name.text.split('(')[0])\n",
    "    except NoSuchElementException:\n",
    "        smartphone_name.append('-')\n",
    "    \n",
    "    # Scraping and storing colors of smartphones in smartphone_color list\n",
    "    try:\n",
    "        color = driver.find_element(By.XPATH,\"//span[@class='B_NuCI']\")\n",
    "        smartphone_color.append(color.text.split('(')[1].split(',')[0])\n",
    "    except NoSuchElementException:\n",
    "        smartphone_color.append('-')\n",
    "    \n",
    "    # Scraping and storing details of smartphones in smartphone_deatails list\n",
    "    try:\n",
    "        details = driver.find_element(By.XPATH,\"//div[@class='_2418kt']\")\n",
    "        smartphone_details.append(details.text.split('\\n'))\n",
    "    except NoSuchElementException:\n",
    "        smartphone_details.append('-')\n",
    "    \n",
    "    # Scraping and storing prices of smartphones in smartphone_name list\n",
    "    try:\n",
    "        price = driver.find_element(By.XPATH,\"//div[@class='_30jeq3 _16Jk6d']\")\n",
    "        smartphone_price.append(price.text)\n",
    "    except NoSuchElementException:\n",
    "        smartphone_price.append('-')\n",
    "    \n",
    "time.sleep(1)"
   ]
  },
  {
   "cell_type": "code",
   "execution_count": 54,
   "id": "db59056c",
   "metadata": {
    "scrolled": false
   },
   "outputs": [],
   "source": [
    "# Extracting and storing RAM, ROM, display, camera and battery capacity details from smartphone_details list and storing them in their respective lists\n",
    "for i in range(len(smartphone_details)):\n",
    "    RAM_ROM.append(smartphone_details[i][0])\n",
    "    display.append(smartphone_details[i][1])\n",
    "    camera.append(smartphone_details[i][2])\n",
    "    battery_capacity.append(smartphone_details[i][3])"
   ]
  },
  {
   "cell_type": "code",
   "execution_count": 55,
   "id": "f60d62e1",
   "metadata": {
    "scrolled": true
   },
   "outputs": [
    {
     "name": "stdout",
     "output_type": "stream",
     "text": [
      "['OnePlus', 'OnePlus', 'OnePlus', 'OnePlus', 'OnePlus', 'OnePlus', 'OnePlus', 'OnePlus', 'OnePlus', 'OnePlus', 'OnePlus', 'OnePlus', 'OnePlus', 'OnePlus', 'OnePlus', 'OnePlus', 'OnePlus', 'OnePlus', 'OnePlus', 'OnePlus', 'OnePlus', 'OnePlus', 'OnePlus', 'OnePlus']\n"
     ]
    }
   ],
   "source": [
    "print(smartphone_brand)"
   ]
  },
  {
   "cell_type": "code",
   "execution_count": 56,
   "id": "4b35eacf",
   "metadata": {},
   "outputs": [
    {
     "name": "stdout",
     "output_type": "stream",
     "text": [
      "['OnePlus Nord CE 2 Lite 5G ', 'OnePlus Nord CE 2 Lite 5G ', 'OnePlus Nord 2T 5G ', 'OnePlus Nord 2T 5G ', 'OnePlus Nord 2T 5G ', 'OnePlus Nord 2T 5G ', 'OnePlus Nord ', 'OnePlus Nord ', 'OnePlus Nord ', 'OnePlus Nord ', 'OnePlus Nord ', 'OnePlus Nord CE 2 Lite 5G ', 'OnePlus Nord 2 5G ', 'OnePlus Nord 2 5G ', 'OnePlus Nord 2 5G ', 'OnePlus Nord 2 5G ', 'OnePlus Nord CE 5G ', 'OnePlus Nord CE 3 Lite 5G ', 'OnePlus Nord 2 5G ', 'OnePlus Nord CE 5G ', 'OnePlus Nord 2 5G ', 'OnePlus Nord 2 5G ', 'OnePlus Nord 2T 5G ', 'OnePlus Nord 2T 5G ']\n"
     ]
    }
   ],
   "source": [
    "print(smartphone_name)"
   ]
  },
  {
   "cell_type": "code",
   "execution_count": 57,
   "id": "9cdc4118",
   "metadata": {},
   "outputs": [
    {
     "name": "stdout",
     "output_type": "stream",
     "text": [
      "['Blue Tide', 'Black Dusk', 'Jade Fog', 'Gray Shadow', 'Gray Shadow', 'Jade Fog', 'Blue Marble', 'Gray Onyx', 'Blue Marble', 'Gray Onyx', 'Gray Onyx', 'Black Dusk', 'Gray Sierra', 'Blue Haze', 'Gray Sierra', 'Blue Haze', 'Charcoal Ink', 'Chromatic Gray', 'Blue Haze', 'Blue Void', 'PAC-MAN', 'Blue Haze', 'Gray Shadow', 'Gray Shadow']\n"
     ]
    }
   ],
   "source": [
    "print(smartphone_color)"
   ]
  },
  {
   "cell_type": "code",
   "execution_count": 58,
   "id": "bf05f07e",
   "metadata": {
    "scrolled": true
   },
   "outputs": [
    {
     "name": "stdout",
     "output_type": "stream",
     "text": [
      "['6 GB RAM | 128 GB ROM', '6 GB RAM | 128 GB ROM', '8 GB RAM | 128 GB ROM', '8 GB RAM | 128 GB ROM', '8 GB RAM | 128 GB ROM', '8 GB RAM | 128 GB ROM', '12 GB RAM | 256 GB ROM', '6 GB RAM | 64 GB ROM', '8 GB RAM | 128 GB ROM', '8 GB RAM | 128 GB ROM', '12 GB RAM | 256 GB ROM', '8 GB RAM | 128 GB ROM', '12 GB RAM | 256 GB ROM', '12 GB RAM | 256 GB ROM', '8 GB RAM | 128 GB ROM', '8 GB RAM | 128 GB ROM', '6 GB RAM | 128 GB ROM', '8 GB RAM | 128 GB ROM', '6 GB RAM | 128 GB ROM', '8 GB RAM | 128 GB ROM', '12 GB RAM | 256 GB ROM', '8 GB RAM | 128 GB ROM', '8 GB RAM | 128 GB ROM', '8 GB RAM | 128 GB ROM']\n"
     ]
    }
   ],
   "source": [
    "print(RAM_ROM)"
   ]
  },
  {
   "cell_type": "code",
   "execution_count": 59,
   "id": "3e28a1c6",
   "metadata": {
    "scrolled": false
   },
   "outputs": [
    {
     "name": "stdout",
     "output_type": "stream",
     "text": [
      "['16.74 cm (6.59 inch) Display', '16.74 cm (6.59 inch) Display', '17.02 cm (6.7 inch) Display', '17.02 cm (6.7 inch) Display', '17.02 cm (6.7 inch) Display', '17.02 cm (6.7 inch) Display', '16.36 cm (6.44 inch) Full HD+ Display', '16.36 cm (6.44 inch) Full HD+ Display', '16.36 cm (6.44 inch) Full HD+ Display', '16.36 cm (6.44 inch) Full HD+ Display', '16.36 cm (6.44 inch) Full HD+ Display', '16.74 cm (6.59 inch) Display', '16.33 cm (6.43 inch) Display', '16.33 cm (6.43 inch) Display', '16.33 cm (6.43 inch) Display', '16.33 cm (6.43 inch) Display', '16.33 cm (6.43 inch) Display', '17.07 cm (6.72 inch) Display', '16.33 cm (6.43 inch) Display', '16.33 cm (6.43 inch) Display', '16.33 cm (6.43 inch) Display', '16.33 cm (6.43 inch) Display', '17.02 cm (6.7 inch) Display', '17.02 cm (6.7 inch) Display']\n"
     ]
    }
   ],
   "source": [
    "print(display)"
   ]
  },
  {
   "cell_type": "code",
   "execution_count": 60,
   "id": "f8afc4f3",
   "metadata": {},
   "outputs": [
    {
     "name": "stdout",
     "output_type": "stream",
     "text": [
      "['64MP Rear Camera', '64MP Rear Camera', '50MP Rear Camera', '50MP Rear Camera', '50MP Rear Camera', '50MP Rear Camera', '48MP + 8MP | 32MP + 8MP Dual Front Camera', '48MP + 8MP | 32MP + 8MP Dual Front Camera', '48MP + 8MP | 32MP + 8MP Dual Front Camera', '48MP + 8MP | 32MP + 8MP Dual Front Camera', '48MP + 8MP | 32MP + 8MP Dual Front Camera', '64MP Rear Camera', '50MP Rear Camera', '50MP Rear Camera', '50MP Rear Camera', '50MP Rear Camera', '64MP Rear Camera', '108MP Rear Camera', '50MP Rear Camera', '64MP Rear Camera', '50MP Rear Camera', '50MP Rear Camera', '50MP Rear Camera', '50MP Rear Camera']\n"
     ]
    }
   ],
   "source": [
    "print(camera)"
   ]
  },
  {
   "cell_type": "code",
   "execution_count": 61,
   "id": "b968e685",
   "metadata": {},
   "outputs": [
    {
     "name": "stdout",
     "output_type": "stream",
     "text": [
      "['5000 mAh Battery', '5000 mAh Battery', '4500 mAh Battery', '4500 mAh Battery', '4500 mAh Battery', '4500 mAh Battery', '4115 mAh Battery', '4115 mAh Battery', '4115 mAh Battery', '4115 mAh Battery', '4115 mAh Battery', '5000 mAh Battery', '4500 mAh Battery', '4500 mAh Battery', '4500 mAh Battery', '4500 mAh Battery', '4500 mAh Battery', '5000 mAh Battery', '4500 mAh Battery', '4500 mAh Battery', '4500 mAh Battery', '4500 mAh Battery', '4500 mAh Battery', '4500 mAh Battery']\n"
     ]
    }
   ],
   "source": [
    "print(battery_capacity)"
   ]
  },
  {
   "cell_type": "code",
   "execution_count": 62,
   "id": "172b6282",
   "metadata": {
    "scrolled": false
   },
   "outputs": [
    {
     "name": "stdout",
     "output_type": "stream",
     "text": [
      "['₹17,991', '₹18,031', '₹28,010', '₹27,760', '₹27,699', '₹27,899', '₹26,990', '₹22,891', '₹24,990', '₹24,990', '₹26,990', '₹21,999', '₹34,999', '₹34,999', '₹29,999', '₹29,999', '₹22,990', '₹22,999', '₹25,990', '₹24,990', '₹32,990', '₹29,990', '₹28,045', '₹28,050']\n"
     ]
    }
   ],
   "source": [
    "print(smartphone_price)"
   ]
  },
  {
   "cell_type": "code",
   "execution_count": 63,
   "id": "6461bd1a",
   "metadata": {},
   "outputs": [
    {
     "name": "stdout",
     "output_type": "stream",
     "text": [
      "24 24 24 24 24 24 24 24 24\n"
     ]
    }
   ],
   "source": [
    "# Checking lengths of all the lists \n",
    "print(len(smartphone_brand),len(smartphone_name),len(smartphone_color),len(RAM_ROM),len(camera),len(display),len(battery_capacity),len(smartphone_price),len(product_url))"
   ]
  },
  {
   "cell_type": "code",
   "execution_count": 64,
   "id": "2d0d0b72",
   "metadata": {
    "scrolled": false
   },
   "outputs": [
    {
     "data": {
      "text/html": [
       "<div>\n",
       "<style scoped>\n",
       "    .dataframe tbody tr th:only-of-type {\n",
       "        vertical-align: middle;\n",
       "    }\n",
       "\n",
       "    .dataframe tbody tr th {\n",
       "        vertical-align: top;\n",
       "    }\n",
       "\n",
       "    .dataframe thead th {\n",
       "        text-align: right;\n",
       "    }\n",
       "</style>\n",
       "<table border=\"1\" class=\"dataframe\">\n",
       "  <thead>\n",
       "    <tr style=\"text-align: right;\">\n",
       "      <th></th>\n",
       "      <th>Brand Name</th>\n",
       "      <th>Smartphone Name</th>\n",
       "      <th>Color</th>\n",
       "      <th>RAM | ROM</th>\n",
       "      <th>Primary Camera | Secondary Camera</th>\n",
       "      <th>Display Size</th>\n",
       "      <th>Battery Capacity</th>\n",
       "      <th>Price</th>\n",
       "      <th>Product URL</th>\n",
       "    </tr>\n",
       "  </thead>\n",
       "  <tbody>\n",
       "    <tr>\n",
       "      <th>0</th>\n",
       "      <td>OnePlus</td>\n",
       "      <td>OnePlus Nord CE 2 Lite 5G</td>\n",
       "      <td>Blue Tide</td>\n",
       "      <td>6 GB RAM | 128 GB ROM</td>\n",
       "      <td>64MP Rear Camera</td>\n",
       "      <td>16.74 cm (6.59 inch) Display</td>\n",
       "      <td>5000 mAh Battery</td>\n",
       "      <td>₹17,991</td>\n",
       "      <td>https://www.flipkart.com/oneplus-nord-ce-2-lit...</td>\n",
       "    </tr>\n",
       "    <tr>\n",
       "      <th>1</th>\n",
       "      <td>OnePlus</td>\n",
       "      <td>OnePlus Nord CE 2 Lite 5G</td>\n",
       "      <td>Black Dusk</td>\n",
       "      <td>6 GB RAM | 128 GB ROM</td>\n",
       "      <td>64MP Rear Camera</td>\n",
       "      <td>16.74 cm (6.59 inch) Display</td>\n",
       "      <td>5000 mAh Battery</td>\n",
       "      <td>₹18,031</td>\n",
       "      <td>https://www.flipkart.com/oneplus-nord-ce-2-lit...</td>\n",
       "    </tr>\n",
       "    <tr>\n",
       "      <th>2</th>\n",
       "      <td>OnePlus</td>\n",
       "      <td>OnePlus Nord 2T 5G</td>\n",
       "      <td>Jade Fog</td>\n",
       "      <td>8 GB RAM | 128 GB ROM</td>\n",
       "      <td>50MP Rear Camera</td>\n",
       "      <td>17.02 cm (6.7 inch) Display</td>\n",
       "      <td>4500 mAh Battery</td>\n",
       "      <td>₹28,010</td>\n",
       "      <td>https://www.flipkart.com/oneplus-nord-2t-5g-ja...</td>\n",
       "    </tr>\n",
       "    <tr>\n",
       "      <th>3</th>\n",
       "      <td>OnePlus</td>\n",
       "      <td>OnePlus Nord 2T 5G</td>\n",
       "      <td>Gray Shadow</td>\n",
       "      <td>8 GB RAM | 128 GB ROM</td>\n",
       "      <td>50MP Rear Camera</td>\n",
       "      <td>17.02 cm (6.7 inch) Display</td>\n",
       "      <td>4500 mAh Battery</td>\n",
       "      <td>₹27,760</td>\n",
       "      <td>https://www.flipkart.com/oneplus-nord-2t-5g-gr...</td>\n",
       "    </tr>\n",
       "    <tr>\n",
       "      <th>4</th>\n",
       "      <td>OnePlus</td>\n",
       "      <td>OnePlus Nord 2T 5G</td>\n",
       "      <td>Gray Shadow</td>\n",
       "      <td>8 GB RAM | 128 GB ROM</td>\n",
       "      <td>50MP Rear Camera</td>\n",
       "      <td>17.02 cm (6.7 inch) Display</td>\n",
       "      <td>4500 mAh Battery</td>\n",
       "      <td>₹27,699</td>\n",
       "      <td>https://www.flipkart.com/oneplus-nord-2t-5g-gr...</td>\n",
       "    </tr>\n",
       "    <tr>\n",
       "      <th>5</th>\n",
       "      <td>OnePlus</td>\n",
       "      <td>OnePlus Nord 2T 5G</td>\n",
       "      <td>Jade Fog</td>\n",
       "      <td>8 GB RAM | 128 GB ROM</td>\n",
       "      <td>50MP Rear Camera</td>\n",
       "      <td>17.02 cm (6.7 inch) Display</td>\n",
       "      <td>4500 mAh Battery</td>\n",
       "      <td>₹27,899</td>\n",
       "      <td>https://www.flipkart.com/oneplus-nord-2t-5g-ja...</td>\n",
       "    </tr>\n",
       "    <tr>\n",
       "      <th>6</th>\n",
       "      <td>OnePlus</td>\n",
       "      <td>OnePlus Nord</td>\n",
       "      <td>Blue Marble</td>\n",
       "      <td>12 GB RAM | 256 GB ROM</td>\n",
       "      <td>48MP + 8MP | 32MP + 8MP Dual Front Camera</td>\n",
       "      <td>16.36 cm (6.44 inch) Full HD+ Display</td>\n",
       "      <td>4115 mAh Battery</td>\n",
       "      <td>₹26,990</td>\n",
       "      <td>https://www.flipkart.com/oneplus-nord-blue-mar...</td>\n",
       "    </tr>\n",
       "    <tr>\n",
       "      <th>7</th>\n",
       "      <td>OnePlus</td>\n",
       "      <td>OnePlus Nord</td>\n",
       "      <td>Gray Onyx</td>\n",
       "      <td>6 GB RAM | 64 GB ROM</td>\n",
       "      <td>48MP + 8MP | 32MP + 8MP Dual Front Camera</td>\n",
       "      <td>16.36 cm (6.44 inch) Full HD+ Display</td>\n",
       "      <td>4115 mAh Battery</td>\n",
       "      <td>₹22,891</td>\n",
       "      <td>https://www.flipkart.com/oneplus-nord-gray-ony...</td>\n",
       "    </tr>\n",
       "    <tr>\n",
       "      <th>8</th>\n",
       "      <td>OnePlus</td>\n",
       "      <td>OnePlus Nord</td>\n",
       "      <td>Blue Marble</td>\n",
       "      <td>8 GB RAM | 128 GB ROM</td>\n",
       "      <td>48MP + 8MP | 32MP + 8MP Dual Front Camera</td>\n",
       "      <td>16.36 cm (6.44 inch) Full HD+ Display</td>\n",
       "      <td>4115 mAh Battery</td>\n",
       "      <td>₹24,990</td>\n",
       "      <td>https://www.flipkart.com/oneplus-nord-blue-mar...</td>\n",
       "    </tr>\n",
       "    <tr>\n",
       "      <th>9</th>\n",
       "      <td>OnePlus</td>\n",
       "      <td>OnePlus Nord</td>\n",
       "      <td>Gray Onyx</td>\n",
       "      <td>8 GB RAM | 128 GB ROM</td>\n",
       "      <td>48MP + 8MP | 32MP + 8MP Dual Front Camera</td>\n",
       "      <td>16.36 cm (6.44 inch) Full HD+ Display</td>\n",
       "      <td>4115 mAh Battery</td>\n",
       "      <td>₹24,990</td>\n",
       "      <td>https://www.flipkart.com/oneplus-nord-gray-ony...</td>\n",
       "    </tr>\n",
       "    <tr>\n",
       "      <th>10</th>\n",
       "      <td>OnePlus</td>\n",
       "      <td>OnePlus Nord</td>\n",
       "      <td>Gray Onyx</td>\n",
       "      <td>12 GB RAM | 256 GB ROM</td>\n",
       "      <td>48MP + 8MP | 32MP + 8MP Dual Front Camera</td>\n",
       "      <td>16.36 cm (6.44 inch) Full HD+ Display</td>\n",
       "      <td>4115 mAh Battery</td>\n",
       "      <td>₹26,990</td>\n",
       "      <td>https://www.flipkart.com/oneplus-nord-gray-ony...</td>\n",
       "    </tr>\n",
       "    <tr>\n",
       "      <th>11</th>\n",
       "      <td>OnePlus</td>\n",
       "      <td>OnePlus Nord CE 2 Lite 5G</td>\n",
       "      <td>Black Dusk</td>\n",
       "      <td>8 GB RAM | 128 GB ROM</td>\n",
       "      <td>64MP Rear Camera</td>\n",
       "      <td>16.74 cm (6.59 inch) Display</td>\n",
       "      <td>5000 mAh Battery</td>\n",
       "      <td>₹21,999</td>\n",
       "      <td>https://www.flipkart.com/oneplus-nord-ce-2-lit...</td>\n",
       "    </tr>\n",
       "    <tr>\n",
       "      <th>12</th>\n",
       "      <td>OnePlus</td>\n",
       "      <td>OnePlus Nord 2 5G</td>\n",
       "      <td>Gray Sierra</td>\n",
       "      <td>12 GB RAM | 256 GB ROM</td>\n",
       "      <td>50MP Rear Camera</td>\n",
       "      <td>16.33 cm (6.43 inch) Display</td>\n",
       "      <td>4500 mAh Battery</td>\n",
       "      <td>₹34,999</td>\n",
       "      <td>https://www.flipkart.com/oneplus-nord-2-5g-gra...</td>\n",
       "    </tr>\n",
       "    <tr>\n",
       "      <th>13</th>\n",
       "      <td>OnePlus</td>\n",
       "      <td>OnePlus Nord 2 5G</td>\n",
       "      <td>Blue Haze</td>\n",
       "      <td>12 GB RAM | 256 GB ROM</td>\n",
       "      <td>50MP Rear Camera</td>\n",
       "      <td>16.33 cm (6.43 inch) Display</td>\n",
       "      <td>4500 mAh Battery</td>\n",
       "      <td>₹34,999</td>\n",
       "      <td>https://www.flipkart.com/oneplus-nord-2-5g-blu...</td>\n",
       "    </tr>\n",
       "    <tr>\n",
       "      <th>14</th>\n",
       "      <td>OnePlus</td>\n",
       "      <td>OnePlus Nord 2 5G</td>\n",
       "      <td>Gray Sierra</td>\n",
       "      <td>8 GB RAM | 128 GB ROM</td>\n",
       "      <td>50MP Rear Camera</td>\n",
       "      <td>16.33 cm (6.43 inch) Display</td>\n",
       "      <td>4500 mAh Battery</td>\n",
       "      <td>₹29,999</td>\n",
       "      <td>https://www.flipkart.com/oneplus-nord-2-5g-gra...</td>\n",
       "    </tr>\n",
       "    <tr>\n",
       "      <th>15</th>\n",
       "      <td>OnePlus</td>\n",
       "      <td>OnePlus Nord 2 5G</td>\n",
       "      <td>Blue Haze</td>\n",
       "      <td>8 GB RAM | 128 GB ROM</td>\n",
       "      <td>50MP Rear Camera</td>\n",
       "      <td>16.33 cm (6.43 inch) Display</td>\n",
       "      <td>4500 mAh Battery</td>\n",
       "      <td>₹29,999</td>\n",
       "      <td>https://www.flipkart.com/oneplus-nord-2-5g-blu...</td>\n",
       "    </tr>\n",
       "    <tr>\n",
       "      <th>16</th>\n",
       "      <td>OnePlus</td>\n",
       "      <td>OnePlus Nord CE 5G</td>\n",
       "      <td>Charcoal Ink</td>\n",
       "      <td>6 GB RAM | 128 GB ROM</td>\n",
       "      <td>64MP Rear Camera</td>\n",
       "      <td>16.33 cm (6.43 inch) Display</td>\n",
       "      <td>4500 mAh Battery</td>\n",
       "      <td>₹22,990</td>\n",
       "      <td>https://www.flipkart.com/oneplus-nord-ce-5g-ch...</td>\n",
       "    </tr>\n",
       "    <tr>\n",
       "      <th>17</th>\n",
       "      <td>OnePlus</td>\n",
       "      <td>OnePlus Nord CE 3 Lite 5G</td>\n",
       "      <td>Chromatic Gray</td>\n",
       "      <td>8 GB RAM | 128 GB ROM</td>\n",
       "      <td>108MP Rear Camera</td>\n",
       "      <td>17.07 cm (6.72 inch) Display</td>\n",
       "      <td>5000 mAh Battery</td>\n",
       "      <td>₹22,999</td>\n",
       "      <td>https://www.flipkart.com/oneplus-nord-ce-3-lit...</td>\n",
       "    </tr>\n",
       "    <tr>\n",
       "      <th>18</th>\n",
       "      <td>OnePlus</td>\n",
       "      <td>OnePlus Nord 2 5G</td>\n",
       "      <td>Blue Haze</td>\n",
       "      <td>6 GB RAM | 128 GB ROM</td>\n",
       "      <td>50MP Rear Camera</td>\n",
       "      <td>16.33 cm (6.43 inch) Display</td>\n",
       "      <td>4500 mAh Battery</td>\n",
       "      <td>₹25,990</td>\n",
       "      <td>https://www.flipkart.com/oneplus-nord-2-5g-blu...</td>\n",
       "    </tr>\n",
       "    <tr>\n",
       "      <th>19</th>\n",
       "      <td>OnePlus</td>\n",
       "      <td>OnePlus Nord CE 5G</td>\n",
       "      <td>Blue Void</td>\n",
       "      <td>8 GB RAM | 128 GB ROM</td>\n",
       "      <td>64MP Rear Camera</td>\n",
       "      <td>16.33 cm (6.43 inch) Display</td>\n",
       "      <td>4500 mAh Battery</td>\n",
       "      <td>₹24,990</td>\n",
       "      <td>https://www.flipkart.com/oneplus-nord-ce-5g-bl...</td>\n",
       "    </tr>\n",
       "    <tr>\n",
       "      <th>20</th>\n",
       "      <td>OnePlus</td>\n",
       "      <td>OnePlus Nord 2 5G</td>\n",
       "      <td>PAC-MAN</td>\n",
       "      <td>12 GB RAM | 256 GB ROM</td>\n",
       "      <td>50MP Rear Camera</td>\n",
       "      <td>16.33 cm (6.43 inch) Display</td>\n",
       "      <td>4500 mAh Battery</td>\n",
       "      <td>₹32,990</td>\n",
       "      <td>https://www.flipkart.com/oneplus-nord-2-5g-pac...</td>\n",
       "    </tr>\n",
       "    <tr>\n",
       "      <th>21</th>\n",
       "      <td>OnePlus</td>\n",
       "      <td>OnePlus Nord 2 5G</td>\n",
       "      <td>Blue Haze</td>\n",
       "      <td>8 GB RAM | 128 GB ROM</td>\n",
       "      <td>50MP Rear Camera</td>\n",
       "      <td>16.33 cm (6.43 inch) Display</td>\n",
       "      <td>4500 mAh Battery</td>\n",
       "      <td>₹29,990</td>\n",
       "      <td>https://www.flipkart.com/oneplus-nord-2-5g-blu...</td>\n",
       "    </tr>\n",
       "    <tr>\n",
       "      <th>22</th>\n",
       "      <td>OnePlus</td>\n",
       "      <td>OnePlus Nord 2T 5G</td>\n",
       "      <td>Gray Shadow</td>\n",
       "      <td>8 GB RAM | 128 GB ROM</td>\n",
       "      <td>50MP Rear Camera</td>\n",
       "      <td>17.02 cm (6.7 inch) Display</td>\n",
       "      <td>4500 mAh Battery</td>\n",
       "      <td>₹28,045</td>\n",
       "      <td>https://www.flipkart.com/oneplus-nord-2t-5g-gr...</td>\n",
       "    </tr>\n",
       "    <tr>\n",
       "      <th>23</th>\n",
       "      <td>OnePlus</td>\n",
       "      <td>OnePlus Nord 2T 5G</td>\n",
       "      <td>Gray Shadow</td>\n",
       "      <td>8 GB RAM | 128 GB ROM</td>\n",
       "      <td>50MP Rear Camera</td>\n",
       "      <td>17.02 cm (6.7 inch) Display</td>\n",
       "      <td>4500 mAh Battery</td>\n",
       "      <td>₹28,050</td>\n",
       "      <td>https://www.flipkart.com/oneplus-nord-2t-5g-gr...</td>\n",
       "    </tr>\n",
       "  </tbody>\n",
       "</table>\n",
       "</div>"
      ],
      "text/plain": [
       "   Brand Name             Smartphone Name           Color  \\\n",
       "0     OnePlus  OnePlus Nord CE 2 Lite 5G        Blue Tide   \n",
       "1     OnePlus  OnePlus Nord CE 2 Lite 5G       Black Dusk   \n",
       "2     OnePlus         OnePlus Nord 2T 5G         Jade Fog   \n",
       "3     OnePlus         OnePlus Nord 2T 5G      Gray Shadow   \n",
       "4     OnePlus         OnePlus Nord 2T 5G      Gray Shadow   \n",
       "5     OnePlus         OnePlus Nord 2T 5G         Jade Fog   \n",
       "6     OnePlus               OnePlus Nord      Blue Marble   \n",
       "7     OnePlus               OnePlus Nord        Gray Onyx   \n",
       "8     OnePlus               OnePlus Nord      Blue Marble   \n",
       "9     OnePlus               OnePlus Nord        Gray Onyx   \n",
       "10    OnePlus               OnePlus Nord        Gray Onyx   \n",
       "11    OnePlus  OnePlus Nord CE 2 Lite 5G       Black Dusk   \n",
       "12    OnePlus          OnePlus Nord 2 5G      Gray Sierra   \n",
       "13    OnePlus          OnePlus Nord 2 5G        Blue Haze   \n",
       "14    OnePlus          OnePlus Nord 2 5G      Gray Sierra   \n",
       "15    OnePlus          OnePlus Nord 2 5G        Blue Haze   \n",
       "16    OnePlus         OnePlus Nord CE 5G     Charcoal Ink   \n",
       "17    OnePlus  OnePlus Nord CE 3 Lite 5G   Chromatic Gray   \n",
       "18    OnePlus          OnePlus Nord 2 5G        Blue Haze   \n",
       "19    OnePlus         OnePlus Nord CE 5G        Blue Void   \n",
       "20    OnePlus          OnePlus Nord 2 5G          PAC-MAN   \n",
       "21    OnePlus          OnePlus Nord 2 5G        Blue Haze   \n",
       "22    OnePlus         OnePlus Nord 2T 5G      Gray Shadow   \n",
       "23    OnePlus         OnePlus Nord 2T 5G      Gray Shadow   \n",
       "\n",
       "                 RAM | ROM          Primary Camera | Secondary Camera  \\\n",
       "0    6 GB RAM | 128 GB ROM                           64MP Rear Camera   \n",
       "1    6 GB RAM | 128 GB ROM                           64MP Rear Camera   \n",
       "2    8 GB RAM | 128 GB ROM                           50MP Rear Camera   \n",
       "3    8 GB RAM | 128 GB ROM                           50MP Rear Camera   \n",
       "4    8 GB RAM | 128 GB ROM                           50MP Rear Camera   \n",
       "5    8 GB RAM | 128 GB ROM                           50MP Rear Camera   \n",
       "6   12 GB RAM | 256 GB ROM  48MP + 8MP | 32MP + 8MP Dual Front Camera   \n",
       "7     6 GB RAM | 64 GB ROM  48MP + 8MP | 32MP + 8MP Dual Front Camera   \n",
       "8    8 GB RAM | 128 GB ROM  48MP + 8MP | 32MP + 8MP Dual Front Camera   \n",
       "9    8 GB RAM | 128 GB ROM  48MP + 8MP | 32MP + 8MP Dual Front Camera   \n",
       "10  12 GB RAM | 256 GB ROM  48MP + 8MP | 32MP + 8MP Dual Front Camera   \n",
       "11   8 GB RAM | 128 GB ROM                           64MP Rear Camera   \n",
       "12  12 GB RAM | 256 GB ROM                           50MP Rear Camera   \n",
       "13  12 GB RAM | 256 GB ROM                           50MP Rear Camera   \n",
       "14   8 GB RAM | 128 GB ROM                           50MP Rear Camera   \n",
       "15   8 GB RAM | 128 GB ROM                           50MP Rear Camera   \n",
       "16   6 GB RAM | 128 GB ROM                           64MP Rear Camera   \n",
       "17   8 GB RAM | 128 GB ROM                          108MP Rear Camera   \n",
       "18   6 GB RAM | 128 GB ROM                           50MP Rear Camera   \n",
       "19   8 GB RAM | 128 GB ROM                           64MP Rear Camera   \n",
       "20  12 GB RAM | 256 GB ROM                           50MP Rear Camera   \n",
       "21   8 GB RAM | 128 GB ROM                           50MP Rear Camera   \n",
       "22   8 GB RAM | 128 GB ROM                           50MP Rear Camera   \n",
       "23   8 GB RAM | 128 GB ROM                           50MP Rear Camera   \n",
       "\n",
       "                             Display Size  Battery Capacity    Price  \\\n",
       "0            16.74 cm (6.59 inch) Display  5000 mAh Battery  ₹17,991   \n",
       "1            16.74 cm (6.59 inch) Display  5000 mAh Battery  ₹18,031   \n",
       "2             17.02 cm (6.7 inch) Display  4500 mAh Battery  ₹28,010   \n",
       "3             17.02 cm (6.7 inch) Display  4500 mAh Battery  ₹27,760   \n",
       "4             17.02 cm (6.7 inch) Display  4500 mAh Battery  ₹27,699   \n",
       "5             17.02 cm (6.7 inch) Display  4500 mAh Battery  ₹27,899   \n",
       "6   16.36 cm (6.44 inch) Full HD+ Display  4115 mAh Battery  ₹26,990   \n",
       "7   16.36 cm (6.44 inch) Full HD+ Display  4115 mAh Battery  ₹22,891   \n",
       "8   16.36 cm (6.44 inch) Full HD+ Display  4115 mAh Battery  ₹24,990   \n",
       "9   16.36 cm (6.44 inch) Full HD+ Display  4115 mAh Battery  ₹24,990   \n",
       "10  16.36 cm (6.44 inch) Full HD+ Display  4115 mAh Battery  ₹26,990   \n",
       "11           16.74 cm (6.59 inch) Display  5000 mAh Battery  ₹21,999   \n",
       "12           16.33 cm (6.43 inch) Display  4500 mAh Battery  ₹34,999   \n",
       "13           16.33 cm (6.43 inch) Display  4500 mAh Battery  ₹34,999   \n",
       "14           16.33 cm (6.43 inch) Display  4500 mAh Battery  ₹29,999   \n",
       "15           16.33 cm (6.43 inch) Display  4500 mAh Battery  ₹29,999   \n",
       "16           16.33 cm (6.43 inch) Display  4500 mAh Battery  ₹22,990   \n",
       "17           17.07 cm (6.72 inch) Display  5000 mAh Battery  ₹22,999   \n",
       "18           16.33 cm (6.43 inch) Display  4500 mAh Battery  ₹25,990   \n",
       "19           16.33 cm (6.43 inch) Display  4500 mAh Battery  ₹24,990   \n",
       "20           16.33 cm (6.43 inch) Display  4500 mAh Battery  ₹32,990   \n",
       "21           16.33 cm (6.43 inch) Display  4500 mAh Battery  ₹29,990   \n",
       "22            17.02 cm (6.7 inch) Display  4500 mAh Battery  ₹28,045   \n",
       "23            17.02 cm (6.7 inch) Display  4500 mAh Battery  ₹28,050   \n",
       "\n",
       "                                          Product URL  \n",
       "0   https://www.flipkart.com/oneplus-nord-ce-2-lit...  \n",
       "1   https://www.flipkart.com/oneplus-nord-ce-2-lit...  \n",
       "2   https://www.flipkart.com/oneplus-nord-2t-5g-ja...  \n",
       "3   https://www.flipkart.com/oneplus-nord-2t-5g-gr...  \n",
       "4   https://www.flipkart.com/oneplus-nord-2t-5g-gr...  \n",
       "5   https://www.flipkart.com/oneplus-nord-2t-5g-ja...  \n",
       "6   https://www.flipkart.com/oneplus-nord-blue-mar...  \n",
       "7   https://www.flipkart.com/oneplus-nord-gray-ony...  \n",
       "8   https://www.flipkart.com/oneplus-nord-blue-mar...  \n",
       "9   https://www.flipkart.com/oneplus-nord-gray-ony...  \n",
       "10  https://www.flipkart.com/oneplus-nord-gray-ony...  \n",
       "11  https://www.flipkart.com/oneplus-nord-ce-2-lit...  \n",
       "12  https://www.flipkart.com/oneplus-nord-2-5g-gra...  \n",
       "13  https://www.flipkart.com/oneplus-nord-2-5g-blu...  \n",
       "14  https://www.flipkart.com/oneplus-nord-2-5g-gra...  \n",
       "15  https://www.flipkart.com/oneplus-nord-2-5g-blu...  \n",
       "16  https://www.flipkart.com/oneplus-nord-ce-5g-ch...  \n",
       "17  https://www.flipkart.com/oneplus-nord-ce-3-lit...  \n",
       "18  https://www.flipkart.com/oneplus-nord-2-5g-blu...  \n",
       "19  https://www.flipkart.com/oneplus-nord-ce-5g-bl...  \n",
       "20  https://www.flipkart.com/oneplus-nord-2-5g-pac...  \n",
       "21  https://www.flipkart.com/oneplus-nord-2-5g-blu...  \n",
       "22  https://www.flipkart.com/oneplus-nord-2t-5g-gr...  \n",
       "23  https://www.flipkart.com/oneplus-nord-2t-5g-gr...  "
      ]
     },
     "execution_count": 64,
     "metadata": {},
     "output_type": "execute_result"
    }
   ],
   "source": [
    "# Creating dataframe\n",
    "df = pd.DataFrame({'Brand Name':smartphone_brand,'Smartphone Name':smartphone_name,'Color':smartphone_color,'RAM | ROM':RAM_ROM,'Primary Camera | Secondary Camera':camera,'Display Size':display,'Battery Capacity':battery_capacity,'Price':smartphone_price,'Product URL':product_url})\n",
    "\n",
    "# Displaying dataframe\n",
    "df"
   ]
  },
  {
   "cell_type": "code",
   "execution_count": 65,
   "id": "7d4e559c",
   "metadata": {
    "scrolled": true
   },
   "outputs": [],
   "source": [
    "# Creating CSV file\n",
    "df.to_csv('D:/CSV files/smartphones.csv',index = False)"
   ]
  },
  {
   "cell_type": "markdown",
   "id": "e071b602",
   "metadata": {},
   "source": [
    "5. Write a program to scrap geospatial coordinates (latitude, longitude) of a city searched on google maps. "
   ]
  },
  {
   "cell_type": "code",
   "execution_count": 66,
   "id": "ab7829af",
   "metadata": {},
   "outputs": [
    {
     "data": {
      "text/plain": [
       "<Response [200]>"
      ]
     },
     "execution_count": 66,
     "metadata": {},
     "output_type": "execute_result"
    }
   ],
   "source": [
    "# Sending a request to a website for scraping data\n",
    "page = requests.get(\"https://www.google.com/maps\")\n",
    "page"
   ]
  },
  {
   "cell_type": "code",
   "execution_count": 67,
   "id": "1b43b861",
   "metadata": {},
   "outputs": [],
   "source": [
    "# Creating WebDriver instance for controlling the Chrome browser using Selenium\n",
    "driver = webdriver.Chrome(r\"chromedriver.exe\")"
   ]
  },
  {
   "cell_type": "code",
   "execution_count": 68,
   "id": "35e1e066",
   "metadata": {},
   "outputs": [],
   "source": [
    "# Opening webpage in the browser window controlled by the WebDriver instance\n",
    "driver.get(\"https://www.google.com/maps\")"
   ]
  },
  {
   "cell_type": "code",
   "execution_count": 69,
   "id": "21d61ef3",
   "metadata": {},
   "outputs": [],
   "source": [
    "def city():\n",
    "    \n",
    "    # Asking city name as an input\n",
    "    city_name = input(\"Please enter city name:\")\n",
    "    \n",
    "    # Accessing and clearing search bar\n",
    "    search_bar = driver.find_element(By.ID,\"searchboxinput\")\n",
    "    search_bar.clear()\n",
    "    \n",
    "    # Entering city name in search bar\n",
    "    search_bar.send_keys(city_name)\n",
    "    \n",
    "    # Clicking search button\n",
    "    search_btn = driver.find_element(By.ID,\"searchbox-searchbutton\")\n",
    "    search_btn.click()"
   ]
  },
  {
   "cell_type": "code",
   "execution_count": 70,
   "id": "31d56276",
   "metadata": {},
   "outputs": [
    {
     "name": "stdout",
     "output_type": "stream",
     "text": [
      "Please enter city name:Bhopal\n"
     ]
    }
   ],
   "source": [
    "city()"
   ]
  },
  {
   "cell_type": "code",
   "execution_count": 71,
   "id": "748605d5",
   "metadata": {
    "scrolled": true
   },
   "outputs": [
    {
     "data": {
      "text/plain": [
       "'https://www.google.com/maps/place/Bhopal,+Madhya+Pradesh/@23.8353104,78.7152896,15z/data=!4m6!3m5!1s0x397c428f8fd68fbd:0x2155716d572d4f8!8m2!3d23.2599333!4d77.412615!16zL20vMGN3NTE?entry=ttu'"
      ]
     },
     "execution_count": 71,
     "metadata": {},
     "output_type": "execute_result"
    }
   ],
   "source": [
    "# Fetching current url\n",
    "url = driver.current_url\n",
    "url"
   ]
  },
  {
   "cell_type": "code",
   "execution_count": 73,
   "id": "979a62e4",
   "metadata": {},
   "outputs": [
    {
     "name": "stdout",
     "output_type": "stream",
     "text": [
      "Latitude: 23.8353104\n",
      "Longitude: 78.7152896\n"
     ]
    }
   ],
   "source": [
    "# Extracting latitude and longitude from current url\n",
    "start_index = url.index(\"@\")+1\n",
    "end_index = url.index(\"/data\")\n",
    "\n",
    "lat_lang = url[start_index:end_index]\n",
    "latitude = lat_lang.split(\",\")[0]\n",
    "longitude = lat_lang.split(\",\")[1]\n",
    "\n",
    "print(\"Latitude:\",latitude)\n",
    "print(\"Longitude:\",longitude)"
   ]
  },
  {
   "cell_type": "markdown",
   "id": "55298eb3",
   "metadata": {},
   "source": [
    "6. Write a program to scrap all the available details of best gaming laptops from digit.in."
   ]
  },
  {
   "cell_type": "code",
   "execution_count": 74,
   "id": "3d208bd4",
   "metadata": {},
   "outputs": [
    {
     "data": {
      "text/plain": [
       "<Response [200]>"
      ]
     },
     "execution_count": 74,
     "metadata": {},
     "output_type": "execute_result"
    }
   ],
   "source": [
    "# Sending a request to a website for scraping data\n",
    "page = requests.get(\"https://www.digit.in/top-products/best-gaming-laptops-40.html\")\n",
    "page"
   ]
  },
  {
   "cell_type": "code",
   "execution_count": 75,
   "id": "dd6b8672",
   "metadata": {},
   "outputs": [],
   "source": [
    "# Creating WebDriver instance for controlling the Chrome browser using Selenium\n",
    "driver = webdriver.Chrome(r\"chromedriver.exe\")"
   ]
  },
  {
   "cell_type": "code",
   "execution_count": 76,
   "id": "e2ec587f",
   "metadata": {},
   "outputs": [],
   "source": [
    "# Opening webpage in the browser window controlled by the WebDriver instance\n",
    "driver.get(\"https://www.digit.in/top-products/best-gaming-laptops-40.html\")"
   ]
  },
  {
   "cell_type": "code",
   "execution_count": 77,
   "id": "1b10bfcb",
   "metadata": {},
   "outputs": [],
   "source": [
    "# lists for storing details of gaming laptops\n",
    "laptop_name = []\n",
    "processor = []\n",
    "display = []\n",
    "os = []\n",
    "memory = []\n",
    "graphic_processor = []\n",
    "body = []\n",
    "price = []"
   ]
  },
  {
   "cell_type": "code",
   "execution_count": 78,
   "id": "3606b7aa",
   "metadata": {},
   "outputs": [],
   "source": [
    "# Scraping and storing names of best gaming laptops in laptop_name list\n",
    "name = driver.find_elements(By.XPATH,\"//*[span[@class='datahreflink']/h3/text()]\")\n",
    "for i in name:\n",
    "    laptop_name.append(i.text.split(\"\\n\")[1])"
   ]
  },
  {
   "cell_type": "code",
   "execution_count": 79,
   "id": "c132f2c1",
   "metadata": {
    "scrolled": false
   },
   "outputs": [],
   "source": [
    "# Scraping and storing other details of gaming laptops in laptop_details list\n",
    "laptop_details = []\n",
    "d = driver.find_elements(By.XPATH,\"//div[@class='Spcs-details']\")\n",
    "for i in d:\n",
    "    laptop_details.append(i.text.split(\"\\n\"))"
   ]
  },
  {
   "cell_type": "code",
   "execution_count": 80,
   "id": "b9c3bc4e",
   "metadata": {
    "scrolled": true
   },
   "outputs": [],
   "source": [
    "# Extracting processor,display,operating system, memory, graphic processor, body and price details from laptop_details list and storing in respective lists\n",
    "for i in range(0,len(laptop_details)):\n",
    "    processor.append(laptop_details[i][1].split(\":\")[1])\n",
    "    display.append(laptop_details[i][2].split(\":\")[1])\n",
    "    os.append(laptop_details[i][3].split(\":\")[1])\n",
    "    memory.append(laptop_details[i][4].split(\":\")[1])\n",
    "    graphic_processor.append(laptop_details[i][5].split(\":\")[1])\n",
    "    body.append(laptop_details[i][6].split(\":\")[1])\n",
    "    price.append(laptop_details[i][7].split(\":\")[1])"
   ]
  },
  {
   "cell_type": "code",
   "execution_count": 81,
   "id": "2a5fd889",
   "metadata": {},
   "outputs": [
    {
     "name": "stdout",
     "output_type": "stream",
     "text": [
      "['HP OMEN 17 (2023)', 'MSI Titan GT77 12UHS', 'Lenovo Legion 5i Pro', 'ASUS ROG Strix Scar 18 2023', 'Acer Predator Helios Neo 16', 'ASUS ROG Zephyrus G14', 'MSI Cyborg 15']\n"
     ]
    }
   ],
   "source": [
    "print(laptop_name)"
   ]
  },
  {
   "cell_type": "code",
   "execution_count": 82,
   "id": "1c081005",
   "metadata": {},
   "outputs": [
    {
     "name": "stdout",
     "output_type": "stream",
     "text": [
      "[' 13th Gen Intel Core i7-13700HX 16 core processor with 5.0 GHz clock speed', ' 12th Gen Intel Core i9-12900HX 16 core processor with 3.6 GHz clock speed', ' 12th Gen Intel Core i7-12700H 14 core processor with 4.7 GHz clock speed', ' 13th Gen Intel Core i9-13980HX 24 core processor with 2.2 GHz clock speed', ' 13th Gen Intel Core i7-13700HX processor', ' AMD Ryzen 9-6900HS 8 core processor with 4.9 GHz clock speed', ' 12th Gen Intel Core i7-12650H 10 core processor with 4.7 GHz clock speed']\n"
     ]
    }
   ],
   "source": [
    "print(processor)"
   ]
  },
  {
   "cell_type": "code",
   "execution_count": 83,
   "id": "60f5e522",
   "metadata": {},
   "outputs": [
    {
     "name": "stdout",
     "output_type": "stream",
     "text": [
      "[' 17.3″ (2560 x 1440) screen, 165 Hz refresh rate', ' 17.3″ (3840 x 2160) screen, 120 Hz refresh rate', ' 16″ (2560 x 1600) screen', ' 18″ (1920 x 1200) screen, 165 Hz refresh rate', ' 16″ (2560 x 1600) screen, 165 Hz refresh rate', ' 14″ (1920 x 1200) screen, 144 Hz refresh rate', ' 15.6″ (1920 x 1080) screen, 144 Hz refresh rate']\n"
     ]
    }
   ],
   "source": [
    "print(display)"
   ]
  },
  {
   "cell_type": "code",
   "execution_count": 84,
   "id": "cf3a47f3",
   "metadata": {},
   "outputs": [
    {
     "name": "stdout",
     "output_type": "stream",
     "text": [
      "[' Windows 11 Home', ' Windows 11 Home', ' Windows 11 Home', ' Windows 11 Home', ' Windows 11 Home', ' Windows 11 Home', ' Windows 11 Home']\n"
     ]
    }
   ],
   "source": [
    "print(os)"
   ]
  },
  {
   "cell_type": "code",
   "execution_count": 85,
   "id": "b88fbf60",
   "metadata": {},
   "outputs": [
    {
     "name": "stdout",
     "output_type": "stream",
     "text": [
      "[' 16 GB DDR5GB RAM & 1 TB SSD', ' 64 GB DDR5GB RAM & 2 TB SSD', ' 32 GB DDR5GB RAM & 1 TB SSD', ' 32 GB DDR5GB RAM & 1 TB SSD', ' 16 GB DDR5GB RAM & 1 TB SSD', ' 16 GB DDR5GB RAM & 1 TB SSD', ' 16 GB DDR5GB RAM & 1 TB SSD']\n"
     ]
    }
   ],
   "source": [
    "print(memory)"
   ]
  },
  {
   "cell_type": "code",
   "execution_count": 86,
   "id": "0faf5817",
   "metadata": {},
   "outputs": [
    {
     "name": "stdout",
     "output_type": "stream",
     "text": [
      "[' 12 GB DDR6 NVIDIA GeForce RTX 4080 Graphics card', ' 16 GB DDR6 NVIDIA GeForce RTX 3080Ti Graphics card', ' NVIDIA GeForce RTX 3070 Ti Graphics card', ' 12 GB DDR6 NVIDIA GeForce RTX 4080 Graphics card', ' 8 GB DDR6 NVIDIA GeForce RTX 4060 Graphics card', ' 8 GB DDR6 AMD Radeon RX 6700S Graphics card', ' 8 GB DDR6 NVIDIA GeForce RTX 4060 Graphics card']\n"
     ]
    }
   ],
   "source": [
    "print(graphic_processor)"
   ]
  },
  {
   "cell_type": "code",
   "execution_count": 87,
   "id": "0c425939",
   "metadata": {},
   "outputs": [
    {
     "name": "stdout",
     "output_type": "stream",
     "text": [
      "[' 397.1 x 262 x 27 mm dimension & 2.78 kg weight', ' 397 x 330 x 23 mm dimension & 3.3 kg weight', ' 359.9 x 264.4 x 19.9 mm dimension & 3.6 kg weight', ' 294 x 399 x 23 mm dimension & 3.1 kg weight', ' 360 x 279 x 28 mm dimension & 2.6 kg weight', ' 312 x 227 x 19 mm dimension & 1.65 kg weight', ' & 1.98 kg weight']\n"
     ]
    }
   ],
   "source": [
    "print(body)"
   ]
  },
  {
   "cell_type": "code",
   "execution_count": 88,
   "id": "2ba0c97b",
   "metadata": {},
   "outputs": [
    {
     "name": "stdout",
     "output_type": "stream",
     "text": [
      "[' ₹ 269,777', ' ₹ 499,990', ' ₹ 211,990', ' ₹ 279,990', ' ₹ 149,990', ' ₹ 156,990', ' ₹ 130,990']\n"
     ]
    }
   ],
   "source": [
    "print(price)"
   ]
  },
  {
   "cell_type": "code",
   "execution_count": 131,
   "id": "9a38ff4a",
   "metadata": {
    "scrolled": false
   },
   "outputs": [
    {
     "name": "stdout",
     "output_type": "stream",
     "text": [
      "7 7 7 7 7 7 7 7\n"
     ]
    }
   ],
   "source": [
    "# Checking lengths of all the lists\n",
    "print(len(laptop_name),len(processor),len(display),len(os),len(memory),len(graphic_processor),len(body),len(price))"
   ]
  },
  {
   "cell_type": "code",
   "execution_count": 89,
   "id": "7595cf69",
   "metadata": {},
   "outputs": [
    {
     "name": "stdout",
     "output_type": "stream",
     "text": [
      "Best gaming laptops-\n"
     ]
    },
    {
     "data": {
      "text/html": [
       "<div>\n",
       "<style scoped>\n",
       "    .dataframe tbody tr th:only-of-type {\n",
       "        vertical-align: middle;\n",
       "    }\n",
       "\n",
       "    .dataframe tbody tr th {\n",
       "        vertical-align: top;\n",
       "    }\n",
       "\n",
       "    .dataframe thead th {\n",
       "        text-align: right;\n",
       "    }\n",
       "</style>\n",
       "<table border=\"1\" class=\"dataframe\">\n",
       "  <thead>\n",
       "    <tr style=\"text-align: right;\">\n",
       "      <th></th>\n",
       "      <th>Laptop</th>\n",
       "      <th>Processor</th>\n",
       "      <th>Display</th>\n",
       "      <th>Operating System</th>\n",
       "      <th>Memory</th>\n",
       "      <th>Graphic Processor</th>\n",
       "      <th>Body</th>\n",
       "      <th>Price</th>\n",
       "    </tr>\n",
       "  </thead>\n",
       "  <tbody>\n",
       "    <tr>\n",
       "      <th>0</th>\n",
       "      <td>HP OMEN 17 (2023)</td>\n",
       "      <td>13th Gen Intel Core i7-13700HX 16 core proces...</td>\n",
       "      <td>17.3″ (2560 x 1440) screen, 165 Hz refresh rate</td>\n",
       "      <td>Windows 11 Home</td>\n",
       "      <td>16 GB DDR5GB RAM &amp; 1 TB SSD</td>\n",
       "      <td>12 GB DDR6 NVIDIA GeForce RTX 4080 Graphics card</td>\n",
       "      <td>397.1 x 262 x 27 mm dimension &amp; 2.78 kg weight</td>\n",
       "      <td>₹ 269,777</td>\n",
       "    </tr>\n",
       "    <tr>\n",
       "      <th>1</th>\n",
       "      <td>MSI Titan GT77 12UHS</td>\n",
       "      <td>12th Gen Intel Core i9-12900HX 16 core proces...</td>\n",
       "      <td>17.3″ (3840 x 2160) screen, 120 Hz refresh rate</td>\n",
       "      <td>Windows 11 Home</td>\n",
       "      <td>64 GB DDR5GB RAM &amp; 2 TB SSD</td>\n",
       "      <td>16 GB DDR6 NVIDIA GeForce RTX 3080Ti Graphics...</td>\n",
       "      <td>397 x 330 x 23 mm dimension &amp; 3.3 kg weight</td>\n",
       "      <td>₹ 499,990</td>\n",
       "    </tr>\n",
       "    <tr>\n",
       "      <th>2</th>\n",
       "      <td>Lenovo Legion 5i Pro</td>\n",
       "      <td>12th Gen Intel Core i7-12700H 14 core process...</td>\n",
       "      <td>16″ (2560 x 1600) screen</td>\n",
       "      <td>Windows 11 Home</td>\n",
       "      <td>32 GB DDR5GB RAM &amp; 1 TB SSD</td>\n",
       "      <td>NVIDIA GeForce RTX 3070 Ti Graphics card</td>\n",
       "      <td>359.9 x 264.4 x 19.9 mm dimension &amp; 3.6 kg we...</td>\n",
       "      <td>₹ 211,990</td>\n",
       "    </tr>\n",
       "    <tr>\n",
       "      <th>3</th>\n",
       "      <td>ASUS ROG Strix Scar 18 2023</td>\n",
       "      <td>13th Gen Intel Core i9-13980HX 24 core proces...</td>\n",
       "      <td>18″ (1920 x 1200) screen, 165 Hz refresh rate</td>\n",
       "      <td>Windows 11 Home</td>\n",
       "      <td>32 GB DDR5GB RAM &amp; 1 TB SSD</td>\n",
       "      <td>12 GB DDR6 NVIDIA GeForce RTX 4080 Graphics card</td>\n",
       "      <td>294 x 399 x 23 mm dimension &amp; 3.1 kg weight</td>\n",
       "      <td>₹ 279,990</td>\n",
       "    </tr>\n",
       "    <tr>\n",
       "      <th>4</th>\n",
       "      <td>Acer Predator Helios Neo 16</td>\n",
       "      <td>13th Gen Intel Core i7-13700HX processor</td>\n",
       "      <td>16″ (2560 x 1600) screen, 165 Hz refresh rate</td>\n",
       "      <td>Windows 11 Home</td>\n",
       "      <td>16 GB DDR5GB RAM &amp; 1 TB SSD</td>\n",
       "      <td>8 GB DDR6 NVIDIA GeForce RTX 4060 Graphics card</td>\n",
       "      <td>360 x 279 x 28 mm dimension &amp; 2.6 kg weight</td>\n",
       "      <td>₹ 149,990</td>\n",
       "    </tr>\n",
       "    <tr>\n",
       "      <th>5</th>\n",
       "      <td>ASUS ROG Zephyrus G14</td>\n",
       "      <td>AMD Ryzen 9-6900HS 8 core processor with 4.9 ...</td>\n",
       "      <td>14″ (1920 x 1200) screen, 144 Hz refresh rate</td>\n",
       "      <td>Windows 11 Home</td>\n",
       "      <td>16 GB DDR5GB RAM &amp; 1 TB SSD</td>\n",
       "      <td>8 GB DDR6 AMD Radeon RX 6700S Graphics card</td>\n",
       "      <td>312 x 227 x 19 mm dimension &amp; 1.65 kg weight</td>\n",
       "      <td>₹ 156,990</td>\n",
       "    </tr>\n",
       "    <tr>\n",
       "      <th>6</th>\n",
       "      <td>MSI Cyborg 15</td>\n",
       "      <td>12th Gen Intel Core i7-12650H 10 core process...</td>\n",
       "      <td>15.6″ (1920 x 1080) screen, 144 Hz refresh rate</td>\n",
       "      <td>Windows 11 Home</td>\n",
       "      <td>16 GB DDR5GB RAM &amp; 1 TB SSD</td>\n",
       "      <td>8 GB DDR6 NVIDIA GeForce RTX 4060 Graphics card</td>\n",
       "      <td>&amp; 1.98 kg weight</td>\n",
       "      <td>₹ 130,990</td>\n",
       "    </tr>\n",
       "  </tbody>\n",
       "</table>\n",
       "</div>"
      ],
      "text/plain": [
       "                        Laptop  \\\n",
       "0            HP OMEN 17 (2023)   \n",
       "1         MSI Titan GT77 12UHS   \n",
       "2         Lenovo Legion 5i Pro   \n",
       "3  ASUS ROG Strix Scar 18 2023   \n",
       "4  Acer Predator Helios Neo 16   \n",
       "5        ASUS ROG Zephyrus G14   \n",
       "6                MSI Cyborg 15   \n",
       "\n",
       "                                           Processor  \\\n",
       "0   13th Gen Intel Core i7-13700HX 16 core proces...   \n",
       "1   12th Gen Intel Core i9-12900HX 16 core proces...   \n",
       "2   12th Gen Intel Core i7-12700H 14 core process...   \n",
       "3   13th Gen Intel Core i9-13980HX 24 core proces...   \n",
       "4           13th Gen Intel Core i7-13700HX processor   \n",
       "5   AMD Ryzen 9-6900HS 8 core processor with 4.9 ...   \n",
       "6   12th Gen Intel Core i7-12650H 10 core process...   \n",
       "\n",
       "                                            Display  Operating System  \\\n",
       "0   17.3″ (2560 x 1440) screen, 165 Hz refresh rate   Windows 11 Home   \n",
       "1   17.3″ (3840 x 2160) screen, 120 Hz refresh rate   Windows 11 Home   \n",
       "2                          16″ (2560 x 1600) screen   Windows 11 Home   \n",
       "3     18″ (1920 x 1200) screen, 165 Hz refresh rate   Windows 11 Home   \n",
       "4     16″ (2560 x 1600) screen, 165 Hz refresh rate   Windows 11 Home   \n",
       "5     14″ (1920 x 1200) screen, 144 Hz refresh rate   Windows 11 Home   \n",
       "6   15.6″ (1920 x 1080) screen, 144 Hz refresh rate   Windows 11 Home   \n",
       "\n",
       "                         Memory  \\\n",
       "0   16 GB DDR5GB RAM & 1 TB SSD   \n",
       "1   64 GB DDR5GB RAM & 2 TB SSD   \n",
       "2   32 GB DDR5GB RAM & 1 TB SSD   \n",
       "3   32 GB DDR5GB RAM & 1 TB SSD   \n",
       "4   16 GB DDR5GB RAM & 1 TB SSD   \n",
       "5   16 GB DDR5GB RAM & 1 TB SSD   \n",
       "6   16 GB DDR5GB RAM & 1 TB SSD   \n",
       "\n",
       "                                   Graphic Processor  \\\n",
       "0   12 GB DDR6 NVIDIA GeForce RTX 4080 Graphics card   \n",
       "1   16 GB DDR6 NVIDIA GeForce RTX 3080Ti Graphics...   \n",
       "2           NVIDIA GeForce RTX 3070 Ti Graphics card   \n",
       "3   12 GB DDR6 NVIDIA GeForce RTX 4080 Graphics card   \n",
       "4    8 GB DDR6 NVIDIA GeForce RTX 4060 Graphics card   \n",
       "5        8 GB DDR6 AMD Radeon RX 6700S Graphics card   \n",
       "6    8 GB DDR6 NVIDIA GeForce RTX 4060 Graphics card   \n",
       "\n",
       "                                                Body       Price  \n",
       "0     397.1 x 262 x 27 mm dimension & 2.78 kg weight   ₹ 269,777  \n",
       "1        397 x 330 x 23 mm dimension & 3.3 kg weight   ₹ 499,990  \n",
       "2   359.9 x 264.4 x 19.9 mm dimension & 3.6 kg we...   ₹ 211,990  \n",
       "3        294 x 399 x 23 mm dimension & 3.1 kg weight   ₹ 279,990  \n",
       "4        360 x 279 x 28 mm dimension & 2.6 kg weight   ₹ 149,990  \n",
       "5       312 x 227 x 19 mm dimension & 1.65 kg weight   ₹ 156,990  \n",
       "6                                   & 1.98 kg weight   ₹ 130,990  "
      ]
     },
     "execution_count": 89,
     "metadata": {},
     "output_type": "execute_result"
    }
   ],
   "source": [
    "# Creating dataframe\n",
    "df = pd.DataFrame({'Laptop':laptop_name,'Processor':processor,'Display':display,'Operating System':os,'Memory':memory,'Graphic Processor':graphic_processor,'Body':body,'Price':price})\n",
    "\n",
    "# Displaying dataframe\n",
    "print(\"Best gaming laptops-\")\n",
    "df"
   ]
  },
  {
   "cell_type": "markdown",
   "id": "47dff30d",
   "metadata": {},
   "source": [
    "7. Write a python program to scrape the details for all billionaires from www.forbes.com. Details to be scrapped: “Rank”, “Name”, “Net worth”, “Age”, “Citizenship”, “Source”, “Industry”."
   ]
  },
  {
   "cell_type": "code",
   "execution_count": 115,
   "id": "72c97953",
   "metadata": {},
   "outputs": [
    {
     "data": {
      "text/plain": [
       "<Response [200]>"
      ]
     },
     "execution_count": 115,
     "metadata": {},
     "output_type": "execute_result"
    }
   ],
   "source": [
    "# Sending a request to a website for scraping data\n",
    "page = requests.get(\"https://www.forbes.com/billionaires/\")\n",
    "page"
   ]
  },
  {
   "cell_type": "code",
   "execution_count": 116,
   "id": "89fca471",
   "metadata": {},
   "outputs": [],
   "source": [
    "# Creating WebDriver instance for controlling the Chrome browser using Selenium\n",
    "driver = webdriver.Chrome(r\"chromedriver.exe\")"
   ]
  },
  {
   "cell_type": "code",
   "execution_count": 117,
   "id": "13e161d2",
   "metadata": {},
   "outputs": [],
   "source": [
    "# Opening webpage in the browser window controlled by the WebDriver instance\n",
    "driver.get(\"https://www.forbes.com/billionaires/\")"
   ]
  },
  {
   "cell_type": "code",
   "execution_count": 118,
   "id": "259b1e1f",
   "metadata": {},
   "outputs": [],
   "source": [
    "# Lists for storing details of all billionaries\n",
    "billionaries_details = []\n",
    "\n",
    "rank = []\n",
    "name = []\n",
    "networth= []\n",
    "age = []\n",
    "citizenship = []\n",
    "source = []\n",
    "industry = []"
   ]
  },
  {
   "cell_type": "code",
   "execution_count": 119,
   "id": "36a95cac",
   "metadata": {
    "scrolled": true
   },
   "outputs": [],
   "source": [
    "# Scraping details of all billionaries\n",
    "start = 0\n",
    "end = 15 # There are total 14 pages containing all billionaries details\n",
    "\n",
    "for page in range(start,end):\n",
    "    \n",
    "    details = driver.find_elements(By.XPATH,\"//*[div[@class='TableRow_cell__db-hv Table_cell__houv9']//div[text()]]\")\n",
    "    for i in details:\n",
    "        billionaries_details.append(i.text.split('\\n'))\n",
    "    \n",
    "    try:\n",
    "        next_btn = driver.find_element(By.XPATH,\"/html/body/div[1]/div[2]/div[3]/div[2]/div[2]/div[2]/div[2]/div[2]/div[1]/button[2]\")\n",
    "        next_btn.click()\n",
    "    except ElementClickInterceptedException:\n",
    "        break\n",
    "    \n",
    "    time.sleep(3)"
   ]
  },
  {
   "cell_type": "code",
   "execution_count": 120,
   "id": "b2e1a18c",
   "metadata": {},
   "outputs": [],
   "source": [
    "# Extracting rank, name, networth, age, citizenship, source and industry details of billionaries from billionaries list and storing them in respective lists\n",
    "for i in range(0,len(billionaries_details)):\n",
    "    rank.append(billionaries_details[i][0])\n",
    "    name.append(billionaries_details[i][1])\n",
    "    networth.append(billionaries_details[i][2])\n",
    "    age.append(billionaries_details[i][3])\n",
    "    citizenship.append(billionaries_details[i][4])\n",
    "    source.append(billionaries_details[i][5])\n",
    "    industry.append(billionaries_details[i][6])"
   ]
  },
  {
   "cell_type": "code",
   "execution_count": 121,
   "id": "d3d3a9df",
   "metadata": {},
   "outputs": [
    {
     "name": "stdout",
     "output_type": "stream",
     "text": [
      "['1', '2', '3', '4', '5', '6', '7', '8', '9', '10', '11', '12', '13', '14', '15', '16', '17', '17', '19', '20', '21', '22', '23', '24', '25', '26', '27', '28', '29', '30', '31', '31', '33', '34', '35', '35', '37', '38', '39', '40', '41', '41', '43', '43', '45', '46', '47', '48', '49', '50', '51', '52', '53', '54', '55', '56', '57', '58', '59', '60', '61', '62', '63', '64', '65', '65', '67', '68', '69', '70', '71', '72', '72', '74', '74', '76', '77', '77', '79', '80', '81', '82', '83', '84', '84', '86', '86', '88', '89', '89', '89', '92', '93', '94', '94', '94', '97', '97', '99', '100', '101', '101', '103', '104', '104', '106', '107', '108', '108', '108', '108', '112', '113', '114', '115', '116', '116', '118', '119', '120', '121', '122', '123', '124', '124', '126', '127', '128', '128', '130', '130', '130', '133', '133', '133', '136', '137', '138', '138', '140', '141', '142', '142', '144', '145', '146', '147', '148', '148', '148', '151', '151', '153', '153', '153', '153', '157', '157', '159', '159', '161', '161', '161', '164', '165', '165', '167', '167', '167', '170', '171', '171', '171', '171', '171', '171', '171', '171', '179', '179', '179', '182', '183', '184', '184', '184', '184', '184', '184', '190', '190', '190', '190', '190', '195', '195', '195', '195', '195', '195', '195', '202', '202', '204', '204', '206', '206', '208', '208', '208', '208', '208', '208', '208', '215', '215', '215', '215', '215', '220', '220', '220', '223', '223', '223', '223', '223', '223', '223', '230', '230', '232', '232', '232', '232', '232', '232', '232', '239', '239', '239', '242', '242', '242', '242', '246', '246', '246', '249', '249', '249', '249', '249', '249', '249', '256', '256', '256', '256', '256', '261', '261', '261', '261', '261', '261', '261', '268', '268', '268', '268', '268', '268', '268', '268', '276', '276', '276', '276', '276', '276', '282', '282', '282', '282', '282', '282', '282', '282', '290', '290', '290', '290', '290', '290', '290', '290', '290', '299', '299', '299', '299', '299', '299', '305', '305', '305', '305', '305', '305', '305', '312', '312', '312', '312', '312', '317', '317', '317', '317', '317', '317', '317', '317', '325', '325', '325', '325', '325', '325', '325', '332', '332', '332', '332', '332', '332', '332', '332', '332', '332', '332', '332', '344', '344', '344', '344', '344', '344', '344', '344', '352', '352', '352', '352', '352', '352', '352', '352', '352', '352', '352', '352', '352', '365', '365', '365', '365', '365', '365', '365', '365', '365', '365', '365', '365', '365', '365', '365', '365', '365', '365', '383', '383', '383', '383', '383', '383', '383', '390', '390', '390', '390', '390', '390', '390', '397', '397', '397', '397', '397', '397', '397', '397', '405', '405', '405', '405', '405', '405', '411', '411', '411', '411', '411', '411', '411', '418', '418', '418', '418', '418', '418', '418', '425', '425', '425', '425', '425', '425', '425', '425', '425', '425', '425', '425', '437', '437', '437', '437', '437', '442', '442', '442', '445', '445', '445', '445', '445', '445', '445', '445', '445', '445', '455', '455', '455', '455', '455', '455', '455', '455', '455', '455', '455', '466', '466', '466', '466', '466', '466', '466', '466', '466', '466', '466', '466', '466', '466', '466', '466', '466', '466', '466', '466', '486', '486', '486', '486', '486', '486', '486', '486', '486', '486', '486', '497', '497', '497', '497', '497', '497', '497', '497', '497', '497', '497', '497', '497', '497', '511', '511', '511', '511', '511', '511', '511', '511', '511', '511', '511', '511', '523', '523', '523', '523', '523', '523', '523', '523', '523', '523', '523', '534', '534', '534', '534', '534', '534', '534', '534', '534', '534', '534', '534', '534', '534', '534', '534', '534', '534', '552', '552', '552', '552', '552', '552', '552', '552', '552', '552', '552', '552', '552', '552', '552', '567', '567', '567', '567', '567', '567', '567', '567', '567', '567', '567', '567', '567', '580', '580', '580', '580', '580', '580', '580', '580', '580', '580', '580', '591', '591', '591', '591', '591', '591', '591', '591', '591', '591', '591', '591', '591', '591', '591', '591', '591', '591', '591', '591', '611', '611', '611', '611', '611', '611', '611', '611', '611', '611', '611', '611', '611', '624', '624', '624', '624', '624', '624', '624', '624', '624', '624', '624', '624', '636', '636', '636', '636', '636', '636', '636', '636', '636', '636', '636', '636', '636', '636', '636', '636', '636', '636', '636', '636', '636', '636', '636', '659', '659', '659', '659', '659', '659', '659', '659', '659', '659', '659', '659', '659', '659', '659', '659', '659', '659', '659', '659', '679', '679', '679', '679', '679', '679', '679', '679', '679', '679', '679', '679', '679', '679', '679', '679', '679', '679', '679', '679', '699', '699', '699', '699', '699', '699', '699', '699', '699', '699', '699', '699', '699', '699', '699', '699', '699', '699', '699', '699', '699', '699', '721', '721', '721', '721', '721', '721', '721', '721', '721', '721', '721', '721', '721', '721', '721', '721', '721', '721', '721', '721', '721', '721', '721', '721', '721', '721', '721', '748', '748', '748', '748', '748', '748', '748', '748', '748', '748', '748', '748', '748', '748', '748', '748', '748', '748', '766', '766', '766', '766', '766', '766', '766', '766', '766', '766', '766', '766', '766', '766', '766', '766', '766', '766', '766', '766', '766', '787', '787', '787', '787', '787', '787', '787', '787', '787', '787', '787', '787', '787', '787', '787', '787', '787', '787', '787', '787', '787', '787', '787', '787', '787', '787', '787', '787', '787', '787', '787', '818', '818', '818', '818', '818', '818', '818', '818', '818', '818', '818', '818', '818', '818', '818', '818', '818', '818', '818', '818', '818', '818', '818', '818', '818', '818', '818', '818', '818', '818', '818', '818', '818', '818', '852', '852', '852', '852', '852', '852', '852', '852', '852', '852', '852', '852', '852', '852', '852', '852', '852', '852', '852', '852', '852', '852', '852', '852', '852', '852', '878', '878', '878', '878', '878', '878', '878', '878', '878', '878', '878', '878', '878', '878', '878', '878', '878', '878', '878', '878', '878', '878', '878', '878', '878', '878', '878', '905', '905', '905', '905', '905', '905', '905', '905', '905', '905', '905', '905', '905', '905', '905', '905', '905', '905', '905', '905', '905', '905', '905', '905', '905', '905', '905', '905', '905', '905', '905', '905', '905', '905', '905', '905', '905', '905', '905', '905', '905', '905', '905', '905', '949', '949', '949', '949', '949', '949', '949', '949', '949', '949', '949', '949', '949', '949', '949', '949', '949', '949', '949', '949', '949', '949', '949', '949', '949', '949', '949', '949', '949', '949', '949', '949', '949', '982', '982', '982', '982', '982', '982', '982', '982', '982', '982', '982', '982', '982', '982', '982', '982', '982', '982', '982', '982', '982', '982', '982', '982', '982', '982', '982', '982', '982', '982', '982', '982', '982', '982', '982', '982', '982', '982', '982', '982', '982', '982', '982', '982', '982', '1027', '1027', '1027', '1027', '1027', '1027', '1027', '1027', '1027', '1027', '1027', '1027', '1027', '1027', '1027', '1027', '1027', '1027', '1027', '1027', '1027', '1027', '1027', '1027', '1027', '1027', '1027', '1027', '1027', '1027', '1027', '1027', '1027', '1027', '1027', '1027', '1027', '1027', '1027', '1027', '1067', '1067', '1067', '1067', '1067', '1067', '1067', '1067', '1067', '1067', '1067', '1067', '1067', '1067', '1067', '1067', '1067', '1067', '1067', '1067', '1067', '1067', '1067', '1067', '1067', '1067', '1067', '1067', '1067', '1067', '1067', '1067', '1067', '1067', '1067', '1067', '1067', '1104', '1104', '1104', '1104', '1104', '1104', '1104', '1104', '1104', '1104', '1104', '1104', '1104', '1104', '1104', '1104', '1104', '1104', '1104', '1104', '1104', '1104', '1104', '1104', '1104', '1104', '1104', '1104', '1104', '1104', '1104', '1104', '1104', '1104', '1104', '1104', '1104', '1104', '1104', '1104', '1104', '1104', '1104', '1104', '1104', '1104', '1104', '1104', '1104', '1104', '1104', '1104', '1104', '1104', '1104', '1104', '1104', '1104', '1104', '1104', '1164', '1164', '1164', '1164', '1164', '1164', '1164', '1164', '1164', '1164', '1164', '1164', '1164', '1164', '1164', '1164', '1164', '1164', '1164', '1164', '1164', '1164', '1164', '1164', '1164', '1164', '1164', '1164', '1164', '1164', '1164', '1164', '1164', '1164', '1164', '1164', '1164', '1164', '1164', '1164', '1164', '1164', '1164', '1164', '1164', '1164', '1164', '1164', '1164', '1164', '1164', '1164', '1164', '1217', '1217', '1217', '1217', '1217', '1217', '1217', '1217', '1217', '1217', '1217', '1217', '1217', '1217', '1217', '1217', '1217', '1217', '1217', '1217', '1217', '1217', '1217', '1217', '1217', '1217', '1217', '1217', '1217', '1217', '1217', '1217', '1217', '1217', '1217', '1217', '1217', '1217', '1217', '1217', '1217', '1217', '1217', '1217', '1217', '1217', '1217', '1217', '1217', '1217', '1217', '1217', '1217', '1217', '1217', '1272', '1272', '1272', '1272', '1272', '1272', '1272', '1272', '1272', '1272', '1272', '1272', '1272', '1272', '1272', '1272', '1272', '1272', '1272', '1272', '1272', '1272', '1272', '1272', '1272', '1272', '1272', '1272', '1272', '1272', '1272', '1272', '1272', '1272', '1272', '1272', '1272', '1272', '1272', '1272', '1312', '1312', '1312', '1312', '1312', '1312', '1312', '1312', '1312', '1312', '1312', '1312', '1312', '1312', '1312', '1312', '1312', '1312', '1312', '1312', '1312', '1312', '1312', '1312', '1312', '1312', '1312', '1312', '1312', '1312', '1312', '1312', '1312', '1312', '1312', '1312', '1312', '1312', '1312', '1312', '1312', '1312', '1312', '1312', '1312', '1312', '1312', '1312', '1312', '1312', '1312', '1312', '1312', '1312', '1312', '1312', '1368', '1368', '1368', '1368', '1368', '1368', '1368', '1368', '1368', '1368', '1368', '1368', '1368', '1368', '1368', '1368', '1368', '1368', '1368', '1368', '1368', '1368', '1368', '1368', '1368', '1368', '1368', '1368', '1368', '1368', '1368', '1368', '1368', '1368', '1368', '1368', '1368', '1368', '1368', '1368', '1368', '1368', '1368', '1368', '1368', '1368', '1368', '1368', '1368', '1368', '1368', '1368', '1368', '1368', '1368', '1368', '1368', '1368', '1368', '1368', '1368', '1368', '1368', '1368', '1368', '1368', '1434', '1434', '1434', '1434', '1434', '1434', '1434', '1434', '1434', '1434', '1434', '1434', '1434', '1434', '1434', '1434', '1434', '1434', '1434', '1434', '1434', '1434', '1434', '1434', '1434', '1434', '1434', '1434', '1434', '1434', '1434', '1434', '1434', '1434', '1434', '1434', '1434', '1434', '1434', '1434', '1434', '1434', '1434', '1434', '1434', '1434', '1434', '1434', '1434', '1434', '1434', '1434', '1434', '1434', '1434', '1434', '1434', '1434', '1434', '1434', '1434', '1434', '1434', '1434', '1434', '1434', '1434', '1434', '1434', '1434', '1434', '1434', '1434', '1434', '1434', '1434', '1434', '1434', '1434', '1434', '1434', '1434', '1516', '1516', '1516', '1516', '1516', '1516', '1516', '1516', '1516', '1516', '1516', '1516', '1516', '1516', '1516', '1516', '1516', '1516', '1516', '1516', '1516', '1516', '1516', '1516', '1516', '1516', '1516', '1516', '1516', '1516', '1516', '1516', '1516', '1516', '1516', '1516', '1516', '1516', '1516', '1516', '1516', '1516', '1516', '1516', '1516', '1516', '1516', '1516', '1516', '1516', '1516', '1516', '1516', '1516', '1516', '1516', '1516', '1516', '1516', '1575', '1575', '1575', '1575', '1575', '1575', '1575', '1575', '1575', '1575', '1575', '1575', '1575', '1575', '1575', '1575', '1575', '1575', '1575', '1575', '1575', '1575', '1575', '1575', '1575', '1575', '1575', '1575', '1575', '1575', '1575', '1575', '1575', '1575', '1575', '1575', '1575', '1575', '1575', '1575', '1575', '1575', '1575', '1575', '1575', '1575', '1575', '1575', '1575', '1575', '1575', '1575', '1575', '1575', '1575', '1575', '1575', '1575', '1575', '1575', '1575', '1575', '1575', '1575', '1575', '1575', '1575', '1575', '1575', '1575', '1575', '1575', '1647', '1647', '1647', '1647', '1647', '1647', '1647', '1647', '1647', '1647', '1647', '1647', '1647', '1647', '1647', '1647', '1647', '1647', '1647', '1647', '1647', '1647', '1647', '1647', '1647', '1647', '1647', '1647', '1647', '1647', '1647', '1647', '1647', '1647', '1647', '1647', '1647', '1647', '1647', '1647', '1647', '1647', '1647', '1647', '1647', '1647', '1647', '1647', '1647', '1647', '1647', '1647', '1647', '1647', '1647', '1647', '1647', '1647', '1647', '1647', '1647', '1647', '1647', '1647', '1647', '1647', '1647', '1647', '1647', '1647', '1647', '1647', '1647', '1647', '1647', '1647', '1647', '1647', '1725', '1725', '1725', '1725', '1725', '1725', '1725', '1725', '1725', '1725', '1725', '1725', '1725', '1725', '1725', '1725', '1725', '1725', '1725', '1725', '1725', '1725', '1725', '1725', '1725', '1725', '1725', '1725', '1725', '1725', '1725', '1725', '1725', '1725', '1725', '1725', '1725', '1725', '1725', '1725', '1725', '1725', '1725', '1725', '1725', '1725', '1725', '1725', '1725', '1725', '1725', '1725', '1725', '1725', '1725', '1725', '1725', '1725', '1725', '1725', '1725', '1725', '1725', '1725', '1725', '1725', '1725', '1725', '1725', '1725', '1725', '1725', '1725', '1725', '1725', '1725', '1725', '1725', '1725', '1804', '1804', '1804', '1804', '1804', '1804', '1804', '1804', '1804', '1804', '1804', '1804', '1804', '1804', '1804', '1804', '1804', '1804', '1804', '1804', '1804', '1804', '1804', '1804', '1804', '1804', '1804', '1804', '1804', '1804', '1804', '1804', '1804', '1804', '1804', '1804', '1804', '1804', '1804', '1804', '1804', '1804', '1804', '1804', '1804', '1804', '1804', '1804', '1804', '1804', '1804', '1804', '1804', '1804', '1804', '1804', '1804', '1804', '1804', '1804', '1804', '1804', '1804', '1804', '1804', '1804', '1804', '1804', '1804', '1804', '1804', '1804', '1804', '1804', '1804', '1804', '1804', '1804', '1804', '1804', '1804', '1804', '1804', '1804', '1804', '1804', '1804', '1804', '1804', '1804', '1804', '1804', '1804', '1804', '1804', '1804', '1804', '1804', '1804', '1804', '1804', '1905', '1905', '1905', '1905', '1905', '1905', '1905', '1905', '1905', '1905', '1905', '1905', '1905', '1905', '1905', '1905', '1905', '1905', '1905', '1905', '1905', '1905', '1905', '1905', '1905', '1905', '1905', '1905', '1905', '1905', '1905', '1905', '1905', '1905', '1905', '1905', '1905', '1905', '1905', '1905', '1905', '1905', '1905', '1905', '1905', '1905', '1905', '1905', '1905', '1905', '1905', '1905', '1905', '1905', '1905', '1905', '1905', '1905', '1905', '1905', '1905', '1905', '1905', '1905', '1905', '1905', '1905', '1905', '1905', '1905', '1905', '1905', '1905', '1905', '1905', '1905', '1905', '1905', '1905', '1905', '1905', '1905', '1905', '1905', '1905', '1905', '1905', '1905', '1905', '1905', '1905', '1905', '1905', '1905', '1905', '1905', '1905', '1905', '1905', '1905', '1905', '1905', '1905', '1905', '1905', '1905', '1905', '1905', '1905', '1905', '1905', '1905', '1905', '1905', '1905', '2020', '2020', '2020', '2020', '2020', '2020', '2020', '2020', '2020', '2020', '2020', '2020', '2020', '2020', '2020', '2020', '2020', '2020', '2020', '2020', '2020', '2020', '2020', '2020', '2020', '2020', '2020', '2020', '2020', '2020', '2020', '2020', '2020', '2020', '2020', '2020', '2020', '2020', '2020', '2020', '2020', '2020', '2020', '2020', '2020', '2020', '2020', '2020', '2020', '2020', '2020', '2020', '2020', '2020', '2020', '2020', '2020', '2020', '2020', '2020', '2020', '2020', '2020', '2020', '2020', '2020', '2020', '2020', '2020', '2020', '2020', '2020', '2020', '2020', '2020', '2020', '2020', '2020', '2020', '2020', '2020', '2020', '2020', '2020', '2020', '2020', '2020', '2020', '2020', '2020', '2020', '2020', '2020', '2020', '2020', '2020', '2020', '2020', '2020', '2020', '2020', '2020', '2020', '2020', '2020', '2020', '2020', '2020', '2020', '2020', '2020', '2020', '2020', '2133', '2133', '2133', '2133', '2133', '2133', '2133', '2133', '2133', '2133', '2133', '2133', '2133', '2133', '2133', '2133', '2133', '2133', '2133', '2133', '2133', '2133', '2133', '2133', '2133', '2133', '2133', '2133', '2133', '2133', '2133', '2133', '2133', '2133', '2133', '2133', '2133', '2133', '2133', '2133', '2133', '2133', '2133', '2133', '2133', '2133', '2133', '2133', '2133', '2133', '2133', '2133', '2133', '2133', '2133', '2133', '2133', '2133', '2133', '2133', '2133', '2133', '2133', '2133', '2133', '2133', '2133', '2133', '2133', '2133', '2133', '2133', '2133', '2133', '2133', '2133', '2133', '2133', '2133', '2133', '2133', '2133', '2133', '2133', '2133', '2133', '2133', '2133', '2133', '2133', '2133', '2133', '2133', '2133', '2133', '2133', '2133', '2133', '2133', '2133', '2133', '2133', '2133', '2133', '2133', '2133', '2133', '2133', '2133', '2133', '2133', '2133', '2133', '2133', '2133', '2133', '2133', '2133', '2133', '2133', '2133', '2133', '2133', '2133', '2133', '2133', '2259', '2259', '2259', '2259', '2259', '2259', '2259', '2259', '2259', '2259', '2259', '2259', '2259', '2259', '2259', '2259', '2259', '2259', '2259', '2259', '2259', '2259', '2259', '2259', '2259', '2259', '2259', '2259', '2259', '2259', '2259', '2259', '2259', '2259', '2259', '2259', '2259', '2259', '2259', '2259', '2259', '2259', '2259', '2259', '2259', '2259', '2259', '2259', '2259', '2259', '2259', '2259', '2259', '2259', '2259', '2259', '2259', '2259', '2259', '2259', '2259', '2259', '2259', '2259', '2259', '2259', '2259', '2259', '2259', '2259', '2259', '2259', '2259', '2259', '2259', '2259', '2259', '2259', '2259', '2259', '2259', '2259', '2259', '2259', '2259', '2259', '2259', '2259', '2259', '2259', '2259', '2259', '2259', '2259', '2259', '2259', '2259', '2259', '2259', '2259', '2259', '2259', '2259', '2259', '2259', '2259', '2259', '2259', '2259', '2259', '2259', '2259', '2259', '2259', '2259', '2259', '2259', '2259', '2259', '2259', '2259', '2259', '2259', '2259', '2259', '2259', '2259', '2259', '2259', '2259', '2259', '2259', '2259', '2259', '2259', '2259', '2259', '2259', '2259', '2259', '2259', '2259', '2259', '2259', '2259', '2259', '2405', '2405', '2405', '2405', '2405', '2405', '2405', '2405', '2405', '2405', '2405', '2405', '2405', '2405', '2405', '2405', '2405', '2405', '2405', '2405', '2405', '2405', '2405', '2405', '2405', '2405', '2405', '2405', '2405', '2405', '2405', '2405', '2405', '2405', '2405', '2405', '2405', '2405', '2405', '2405', '2405', '2405', '2405', '2405', '2405', '2405', '2405', '2405', '2405', '2405', '2405', '2405', '2405', '2405', '2405', '2405', '2405', '2405', '2405', '2405', '2405', '2405', '2405', '2405', '2405', '2405', '2405', '2405', '2405', '2405', '2405', '2405', '2405', '2405', '2405', '2405', '2405', '2405', '2405', '2405', '2405', '2405', '2405', '2405', '2405', '2405', '2405', '2405', '2405', '2405', '2405', '2405', '2405', '2405', '2405', '2405', '2405', '2405', '2405', '2405', '2405', '2405', '2405', '2405', '2405', '2405', '2405', '2405', '2405', '2405', '2405', '2405', '2405', '2405', '2405', '2405', '2405', '2405', '2405', '2405', '2405', '2405', '2405', '2405', '2405', '2405', '2405', '2405', '2405', '2405', '2405', '2405', '2405', '2405', '2405', '2540', '2540', '2540', '2540', '2540', '2540', '2540', '2540', '2540', '2540', '2540', '2540', '2540', '2540', '2540', '2540', '2540', '2540', '2540', '2540', '2540', '2540', '2540', '2540', '2540', '2540', '2540', '2540', '2540', '2540', '2540', '2540', '2540', '2540', '2540', '2540', '2540', '2540', '2540', '2540', '2540', '2540', '2540', '2540', '2540', '2540', '2540', '2540', '2540', '2540', '2540', '2540', '2540', '2540', '2540', '2540', '2540', '2540', '2540', '2540', '2540', '2540', '2540', '2540', '2540', '2540', '2540', '2540', '2540', '2540', '2540', '2540', '2540', '2540', '2540', '2540', '2540', '2540', '2540', '2540', '2540', '2540', '2540', '2540', '2540', '2540', '2540', '2540', '2540', '2540', '2540', '2540', '2540', '2540', '2540', '2540', '2540', '2540', '2540', '2540', '2540']\n"
     ]
    }
   ],
   "source": [
    "print(rank)"
   ]
  },
  {
   "cell_type": "code",
   "execution_count": 122,
   "id": "e4c0cc50",
   "metadata": {},
   "outputs": [
    {
     "name": "stdout",
     "output_type": "stream",
     "text": [
      "['Bernard Arnault & family', 'Elon Musk', 'Jeff Bezos', 'Larry Ellison', 'Warren Buffett', 'Bill Gates', 'Michael Bloomberg', 'Carlos Slim Helu & family', 'Mukesh Ambani', 'Steve Ballmer', 'Francoise Bettencourt Meyers & family', 'Larry Page', 'Amancio Ortega', 'Sergey Brin', 'Zhong Shanshan', 'Mark Zuckerberg', 'Charles Koch', 'Julia Koch & family', 'Jim Walton', 'Rob Walton', 'Alice Walton', 'David Thomson & family', 'Michael Dell', 'Gautam Adani', 'Phil Knight & family', 'Zhang Yiming', 'Dieter Schwarz', 'François Pinault & family', 'Klaus-Michael Kuehne', 'Giovanni Ferrero', 'Jacqueline Mars', 'John Mars', 'Li Ka-shing', 'Ma Huateng', 'Miriam Adelson & family', 'Ken Griffin', 'Mark Mateschitz', 'Robin Zeng', 'Tadashi Yanai & family', 'Len Blavatnik', 'Alain Wertheimer', 'Gerard Wertheimer', 'Gianluigi Aponte', 'Rafaela Aponte-Diamant', 'Colin Zheng Huang', 'Reinhold Wuerth & family', 'Lee Shau Kee', 'Jeff Yass', 'Jim Simons', 'Stephen Schwarzman', 'Susanne Klatten', 'Gina Rinehart', 'William Lei Ding', 'Germán Larrea Mota Velasco & family', 'Shiv Nadar', 'Low Tuck Kwong', 'Thomas Peterffy', 'Andrey Melnichenko & family', 'Stefan Quandt', 'MacKenzie Scott', 'R. Budi Hartono', 'Vladimir Potanin', 'Jack Ma', 'He Xiangjian & family', 'Iris Fontbona & family', 'Michael Hartono', 'James Ratcliffe', 'Cyrus Poonawalla', 'Masayoshi Son', 'Vladimir Lisin', 'Emmanuel Besnier', 'Abigail Johnson', 'Leonid Mikhelson & family', 'Lukas Walton', 'Wang Wei', 'Jensen Huang', 'Leonard Lauder', 'Takemitsu Takizaki', 'Alexey Mordashov & family', 'Vagit Alekperov', 'Thomas Frist, Jr. & family', 'Andrew Forrest', 'Ray Dalio', 'Li Shufu', 'Wang Wenyin', 'Eyal Ofer', 'Qin Yinglin', 'Wang Chuanfu', 'Harold Hamm & family', 'David Tepper', 'Gennady Timchenko', 'Daniel Gilbert', 'Lakshmi Mittal', 'Steve Cohen', 'Carl Icahn', 'Savitri Jindal & family', 'Donald Bren', 'John Menard, Jr.', 'Rupert Murdoch & family', 'Vicky Safra & family', 'Theo Albrecht, Jr. & family', 'Renata Kellnerova & family', 'Li Xiting', 'Stefan Persson', 'Eric Schmidt', 'Michael Platt', 'Pang Kang', 'Karl Albrecht Jr. & family', 'Beate Heister', 'Jorge Paulo Lemann & family', 'Peter Woo', 'Dilip Shanghvi', 'Robert Pera', 'Radhakishan Damani', 'Huang Shilin', 'Dhanin Chearavanont', 'David Green & family', 'Charoen Sirivadhanabhakdi', 'Charlene de Carvalho-Heineken & family', 'Xu Hang', 'Wei Jianjun & family', 'Alisher Usmanov', 'Goh Cheng Liang', 'Kumar Birla', 'Aliko Dangote', 'Kwong Siu-hing', 'Idan Ofer', 'Chen Bang', 'Lui Che Woo', 'John Fredriksen', 'Diane Hendricks', 'Jan Koum', 'Jerry Jones', 'George Kaiser', 'Joseph Lau', 'Lu Xiangyang', 'Harry Triguboff', 'Uday Kotak', 'Stanley Kroenke', 'Mikhail Fridman', 'Sarath Ratanavadi', 'Dang Yanbao', 'Jiang Rensheng & family', 'Shahid Khan', 'Laurene Powell Jobs & family', 'Robert Kuok', 'Stephen Ross', 'Pavel Durov', 'Andreas Struengmann & family', 'Thomas Struengmann & family', 'Liu Hanyuan', 'Michael Rubin', 'Israel Englander', 'Viatcheslav Kantor', 'Anthony Pratt', 'Mikhail Prokhorov', 'Giorgio Armani', 'Johann Rupert & family', 'Gong Hongjia & family', 'Zhang Zhidong', 'Philip Anschutz', 'Judy Love & family', 'Ricardo Salinas Pliego & family', 'Donald Newhouse', 'Robert Kraft', 'Marcel Herrmann Telles', 'Suleiman Kerimov & family', 'Chris Xu', 'Changpeng Zhao', 'Andrew Beal', 'Mike Cannon-Brookes', 'Carl Cook', 'David Duffield', 'Jeffery Hildebrand', 'Viktor Rashnikov', 'Eduardo Saverin', 'Georg Schaeffler', 'Christy Walton', 'Scott Farquhar', 'Quek Leng Chan', 'Wu Yajun', 'Autry Stephens', 'Liu Yongxing', 'Vinod Adani', 'Nicolas Puech', 'Jacques Saadé, Jr.', 'Rodolphe Saadé', 'Tanya Saadé Zeenny', 'Melker Schorling & family', 'Andrei Guriev & family', 'Michael Kim', 'Lei Jun', 'Friedhelm Loh', 'Sun Piaoyang', 'Rick Cohen & family', 'Jin Baofang', 'Luo Liguo & family', 'Marijke Mars', 'Pamela Mars', 'Valerie Mars', 'Victoria Mars', 'Vincent Bolloré & family', 'Jim Pattison', 'Ernesto Bertarelli', 'Wang Xing', 'Brian Chesky', 'James Dyson', 'Roman Abramovich & family', 'Antonia Ax:son Johnson & family', 'Daniel Kretinsky', 'John Malone', 'Azim Premji', 'Charles Schwab', 'Eric Smidt', 'David Cheriton', 'Ivan Glasenberg', 'Alexander Otto', 'Anthony von Mandl', 'Wang Liping & family', 'Finn Rausing', 'Jorn Rausing', 'Kirsten Rausing', 'Tatyana Bakalchuk', 'John Doerr', 'Richard Liu', 'Dustin Moskovitz', 'Pierre Omidyar', 'Pei Zhenhua', 'Carrie Perrodo & family', 'Chen Jianhua', 'Michael Otto', 'Leon Black', 'Graeme Hart', 'Ravi Jaipuria', 'Hasso Plattner & family', 'Carlos Alberto Sicupira & family', 'Manuel Villar', 'Andreas von Bechtolsheim & family', 'Chase Coleman, III.', 'Ann Walton Kroenke', 'Li Zhenguo & family', 'Jim Kennedy', 'Nicky Oppenheimer & family', 'Blair Parry-Okeden', 'Zheng Shuliang & family', 'John Morris', 'Stefano Pessina', 'Francine von Finck & family', 'Francis Choi', 'German Khan', 'Abdulsamad Rabiu', 'George Roberts', 'Kushal Pal Singh', 'Wang Jianlin', 'Yang Huiyan & family', 'Laurent Dassault', 'Thierry Dassault', 'Tilman Fertitta', 'Marie-Hélène Habert-Dassault', 'Karel Komarek', 'Nathan Blecharczyk', 'Leonid Fedun', 'Bernard Marcus', 'Patrick Ryan', 'Robert F. Smith', 'Pavel Tykac', 'Eric Wittouck', 'Orlando Bravo', 'Ding Shizhong & family', 'Nancy Walton Laurie', 'Jay Y. Lee', 'Ramzi Musallam', 'David Shaw', 'Andrei Skoch & family', 'Georg Stumpf', 'Rocco Commisso', 'Li Shuirong', 'Lin Shu-hong', 'Qi Shi & family', 'Yao Liangsong', 'Zhang Congyuan', 'Jean-Michel Besnier', 'Marie Besnier Beauvalot', 'David Geffen', 'Robin Li', 'Liu Yonghao & family', 'Henry Samueli', 'Reinhold Schmieding', 'Ivar Tollefsen', 'Cao Renxian', 'Hasmukh Chudgar & family', 'Andrew Currie', 'Joe Gebbia', 'Philip Ng', 'John Reece', 'Leonard Stern', 'Joseph Tsai', 'Zhong Huijuan', 'Arthur Blank', 'Charles Butt', 'Ding Shijia', 'Paul Tudor Jones, II.', 'Henry Kravis', 'Zhang Yong', 'James Goodnight', 'Sri Prakash Lohia', 'Ma Jianrong & family', 'Robert Ng', 'Steven Rales', 'Nassef Sawiris', 'Harry Stine', 'Benu Gopal Bangur', 'Iskander Makhmudov', 'Anders Holch Povlsen', 'Enrique Razon Jr.', 'Wang Laichun', 'Arthur Dantchik', 'Terry Gou', 'Jeff Greene', 'Don Hankey', 'Richard Kinder', 'Guillaume Pousaz', 'Takahisa Takahara', 'Zong Qinghou', 'Judy Faulkner', 'Johann Graf', 'Tamara Gustavson', 'Liang Wengen', 'Frederik Paulsen', 'Wee Cho Yaw', 'Zhang Hejun', 'Marc Benioff', 'Dmitri Bukhman', 'Igor Bukhman', 'Jack Dangermond', 'Ashwin Dani & family', 'Ralph Lauren', 'Law Kar Po', 'Rohiqa Cyrus Mistry', 'Shapoor Mistry', 'J. Christopher Reyes', 'Jude Reyes', 'Don Vultaggio & family', 'Alejandro Bailleres Gual & family', 'Edythe Broad & family', 'Pauline MacMillan Keinath', 'Philippe Laffont', 'Liu Jincheng & family', 'Igor Olenicoff', 'Sandra Ortega Mera', 'Ronda Stryker', 'Dannine Avara', 'Silvio Berlusconi & family', 'Denise Coates', 'Scott Duncan', 'Milane Frantz', 'Edward Johnson, IV.', 'Yuri Milner', 'Gordon Moore', 'John Overdeck', 'David Siegel', 'Viktor Vekselberg', 'Wang Laisheng', 'Randa Duncan Williams', 'Ken Fisher', 'Christopher Hohn', 'Kjeld Kirk Kristiansen', 'Sofie Kirk Kristiansen', 'Thomas Kirk Kristiansen', 'Massimiliana Landini Aleotti & family', 'Li Ping', 'Lin Jianhua', 'Magdalena Martullo-Blocher', 'Xavier Niel', 'Terrence Pegula', 'Edward Roski, Jr.', 'John A. Sobrato & family', 'George Soros', 'David Sun', 'Agnete Kirk Thinggaard', 'John Tu', 'Xu Shihui', 'Rahel Blocher', 'Bubba Cathy', 'Dan Cathy', 'Trudy Cathy White', 'Bruce Kovner', 'Henry Nicholas, III.', 'Nadia Thiele', 'David Bonderman', 'Melinda French Gates', 'Nathan Kirsh', 'Annette Lerner & family', 'David Reuben', 'Simon Reuben', 'Radovan Vitek', 'Carl Bennet', 'Stephen Bisciotti', 'Stanley Druckenmiller', 'Jian Jun', 'Alexei Kuzmichev', 'Dmitry Rybolovlev & family', 'Luis Carlos Sarmiento', 'Dennis Washington', 'Anthony Bamford & family', 'Gao Jifan & family', 'John Grayken', 'Alain Merieux & family', 'Wang Yusuo & family', 'Stef Wertheimer & family', 'Maria Asuncion Aramburuzabala & family', 'Gustaf Douglas', 'Frits Goldschmeding', 'Lin Muqin & family', 'Ruan Liping', 'Ruan Xueping', 'Michal Solowow', 'Mike Adenuga', 'Tom Gores', 'Michael Herz', 'Wolfgang Herz', 'Michael Kadoorie', 'Sunil Mittal', 'Zhou Qunfei', 'Alexander Abramov', 'Rene Benko', 'Neil Bluhm', 'Alain Bouchard', 'Jay Chaudhry', 'Gopikishan Damani', 'Sumet Jiaravanon', 'Joe Lewis', 'Frank Lowy', 'Michael Milken', 'David Steward', 'Les Wexner & family', 'Cai Kui', 'Jaran Chiaravanont', 'Andreas Halvorsen', 'Antony Ressler', 'Tsai Eng-meng', 'Josh Harris', 'Niels Peter Louis-Hansen', 'Patrick Soon-Shiong', 'Rinat Akhmetov', 'John Brown', 'Clive Calder', 'Arthur Irving', 'Fredrik Lundberg', 'Thomas Schmidheiny', 'Helmut Sohmen', 'Daniel Ziff', 'Dirk Ziff', 'Robert Ziff', 'Maria Angelicoussis', 'Ray Lee Hunt', 'Lai Meisong', 'Vikram Lal & family', 'Ken Langone', 'Li Ge', 'Karen Pritzker', 'Robert Rowling', 'Teddy Sagi', 'Seo Jung-jin', 'Wu Jianshu', 'Micky Arison', 'James Chambers', 'Pierre Chen', 'John Collison', 'Patrick Collison', 'Archie Aldis Emmerson & family', 'Piero Ferrari', 'Dan Friedkin', 'James Irving', 'Jiang Weiping & family', 'Wolfgang Marguerre & family', 'Ludwig Merckle', 'Mitchell Rales', 'Katharine Rayner', 'Jean Salata', 'Paul Singer', 'Sergio Stevanato & family', 'Margaretta Taylor', 'Richard White', 'Zhao Yan', 'Patrizio Bertelli', 'Mahendra Choksi & family', 'Mat Ishbia', 'Leo Koguan', 'Miao Hangen', 'Michael Pieper', 'Miuccia Prada', 'Wolfgang Reimann', 'Matthias Reimann-Andersen', 'Stefan Reimann-Andersen', 'Renate Reimann-Haas', 'Todd Boehly', 'Rick Caruso', 'Ibrahim Erdemoglu', 'Elizabeth Johnson', 'Douglas Leone', 'Prajogo Pangestu', 'Thomas Pritzker', 'Lynda Resnick', 'Stewart Resnick', 'Gary Rollins', 'Mark Walter', 'Ronald Wanek', 'Erich Wesjohann & family', 'M.A. Yusuff Ali', 'Alexandre Behring', 'Cheng Xue', 'Robert Faith', 'Gao Dekang & family', 'Micky Jagtiani', 'Ananda Krishnan', 'Barry Lam', 'Robert Rich, Jr.', 'Mark Scheinberg', 'Charles Simonyi', 'Ty Warner', 'Sam Zell', 'Wei Fang', 'Rekha Jhunjhunwala', 'Charles B. Johnson', 'Kwon Hyuk-bin', 'Sami Mnaymneh', 'Kjell Inge Rokke', 'Tony Tamer', 'Tse Ping & family', 'Romesh T. Wadhwani', 'Hansjoerg Wyss', 'Denise York & family', 'Ron Baron', 'Robert Bass', 'Dona Bertarelli', 'Alexander Gerko', 'Martin Haefner', 'Robert Hale, Jr.', 'Viktor Kharitonin', 'Kim Beom-su', 'Jane Lauder', 'Michel Leclercq & family', 'George Lucas', 'Janice McNair', 'Ugur Sahin', 'Alexandra Schoerghuber & family', 'Thomas Straumann', 'Murat Ulker', 'Chip Wilson', 'Zhu Yan & family', 'Jim Davis & family', 'Murali Divi & family', 'Dagmar Dolby & family', 'Marcos Galperin', 'Tom Golisano', 'Jonathan Gray', 'Bidzina Ivanishvili', 'Lim Hariyanto Wijaya Sarwono', 'Rudolf Maag', 'Emanuele (Lino) Saputo & family', 'Mark Shoen', 'Dan Snyder', 'Chairul Tanjung', 'Kelcy Warren', 'Zhang Tao', 'Michael Ashley', 'Tomasz Biernacki', 'Bernard Broermann', 'Jimmy Haslam', 'H. Fisk Johnson', 'S. Curtis Johnson', 'Helen Johnson-Leipold', 'Vinod Khosla', 'Thai Lee', 'Winifred J. Marquart', 'Pankaj Patel', 'Horst Julius Pudwill', 'Yu Yong', 'Maria Fernanda Amorim & family', 'Gayle Benson', 'Jason Chang', 'Ali Erdemoglu', 'Andre Esteves', 'Carlo Fidani', 'Hong Ra-hee', 'Li Gaiteng', 'Thomas Secunda', 'Zuowen Song', 'Tim Sweeney', 'Bert Beveridge', 'Mark Cuban', 'Charles Dolan & family', 'Jack Dorsey', 'Fan Hongwei', 'Vladimir Kim', 'Andre Koo, Sr.', 'Ronald Lauder', 'Li Chunan', 'Forrest Li', 'Richard Li', 'Doug Meijer & family', 'Hank Meijer & family', 'Mark Meijer & family', 'Issad Rebrab & family', 'Fred Smith', 'Barry Sternlicht', 'Maximilian Viessmann', 'Russ Weiner', 'Xue Min', 'Juan Domingo Beckmann Legorreta & family', 'Dietmar Hopp & family', 'Jiang Bin', 'Joseph Liemandt', 'Theo Mueller', 'N.R. Narayana Murthy', 'Odd Reitan & family', 'Marc Rowan', 'Hussain Sajwani', 'David Velez & family', 'Xu Jinfu', 'Samuel Yin', 'You Xiaoping', 'Stéphane Bancel', 'Margot Birmingham Perot', 'Neal Blue & family', 'Jim Davis', 'Rafael Del Pino', 'Peter Grogg', 'Christian Haub', 'Mangal Prabhat Lodha', 'Jeffrey Lurie & family', 'Joe Mansueto', 'Qian Dongqi & family', 'Mikhail Shelkov', 'Patrick Drahi', 'Behdad Eghbali', 'Juan Carlos Escotet', 'Jose E. Feliciano', 'Hu Kaijun', 'Johnelle Hunt', 'Marian Ilitch', 'Daryl Katz', 'Andrei Kozitsyn', 'Timur Kulibaev', 'Dinara Kulibaeva', 'Ian Livingstone', 'Richard Livingstone', 'Gwendolyn Sontheim Meyer', 'Jay Paul', 'Pham Nhat Vuong', 'Jon Stryker', 'Daniel Tsai', 'Richard Tsai', 'Frank Wang', 'Wang Junshi & family', 'Wang Wenjing', 'Herbert Wertheim', 'Shari Arison', 'Pyotr Aven', 'Chan Laiwa & family', 'Chen Hua', 'Thomas Hagen', 'Rupert Johnson, Jr.', 'Dewi Kam', 'Min Kao & family', 'Marc Ladreit de Lacharriere', 'Eric Lefkofsky', 'Lin Bin', 'Lin Li', 'Michael Moritz', 'Jean (Gigi) Pritzker', 'E. Joe Shoen', 'Jeff Skoll', 'Lynsi Snyder', 'Djoko Susanto', 'Tahir & family', 'Peter Thiel', 'Andrej Babis', 'Danielle Bellon & family', 'Hubert Burda', 'Nick Caporella', 'John Catsimatidis', 'Scott Cook', 'Luca Garavoglia', 'Antti Herlin', 'Hong Jie', 'Jeremy Jacobs, Sr. & family', 'Igor Kesaev', 'Mary Alice Dorrance Malone', 'Joao Moreira Salles', 'Walther Moreira Salles Junior', 'Arturo Moreno', 'Peter Spuhler', 'Donald Sterling', 'Kerry Stokes', 'Ken Xie', 'Liangzhi Xie & family', 'Sid Bass', 'Ben Chestnut', 'Elisabeth DeLuca & family', 'Guangchang Guo', 'Vinod Rai Gupta', 'John Henry', 'Travis Kalanick', 'Koon Poh Keong', 'Dan Kurzius', 'Paul Lee', 'Tobi Lutke', 'Gail Miller', 'Rajan Mittal', 'Rakesh Mittal', 'Isaac Perlmutter', 'Bernard Saul, II.', 'Shaul Shani', 'Steven Spielberg', 'Jerzy Starak', 'Torbjorn Tornqvist', 'Rufino Vigil Gonzalez', 'Zhang Daocai', 'Juergen Blickle', 'Austen Cargill, II.', 'James Cargill, II.', 'Vanich Chaiyawan', 'Dongsheng Chen', 'Mong-Koo Chung', 'Kenneth Dart', \"Giuseppe De'Longhi & family\", 'Guenther Fielmann & family', 'W. Herbert Hunt', 'James Irsay', 'Somurai Jaruphnit', 'Marianne Liebmann', 'Jorge Moll Filho & family', 'Fernando Roberto Moreira Salles', 'Pedro Moreira Salles', 'Gabe Newell', 'Alfred Oetker', 'Carl Ferdinand Oetker', 'Julia Oetker', 'Ruan Hongliang & family', 'Mark Stevens', 'Tsai Hong-tu', 'Nusli Wadia', 'Wu Yiling', 'Yu Renrong', 'Zhu Baoguo & family', 'Rahul Bhatia', 'Francesco Gaetano Caltagirone', 'Barry Diller', 'Wesley Edens', 'Stephen Feinberg', 'Rakesh Gangwal', 'Joseph Grendys', 'Martha Ingram & family', 'Li Xiang', 'H. Ross Perot, Jr.', 'Chandru Raheja', 'Trevor Rees-Jones', 'Yasumitsu Shigeta', 'Su Qingcan', 'Tsai Cheng-ta', 'Steven Udvar-Hazy', 'Elizabeth Uihlein', 'Richard Uihlein', 'Hayes Barnard', 'William Berkley', 'Charles Cohen', 'Yakir Gabay', 'Huang Li', 'Brad Jacobs', 'Ji Qi', 'Jason Jiang', 'Jim Kavanaugh', 'Richard LeFrak & family', 'Mikhail Lomtadze', 'Tom Morris', 'Shigenobu Nagamori', 'Daniel Och', 'Horst Paulmann & family', 'Anthony Pritzker', 'John Sall', 'Howard Schultz', 'Richard Schulze', 'Yitzhak Tshuva', 'Wang Yanqing & family', 'Rajiv Bajaj', 'Sanjiv Bajaj', 'Leonid Boguslavsky', 'Jim Coulter', \"Nicolas D'Ieteren\", 'Beatriz Davila de Santo Domingo', 'Bob Gaglardi', 'Jaime Gilinski Bacal', 'Pansy Ho', 'Alan Howard', 'Huang Yi', 'Peter Kellogg', 'Vyacheslav Kim', 'Josh Kushner', 'Samuel Tak Lee', 'Edwin Leong', 'Stephen Mandel, Jr.', 'Mohamed Mansour', 'Masahiro Miki', 'Masahiro Noda', 'Cliff Obrecht', 'Melanie Perkins', 'J.B. Pritzker', 'Juan Roig', 'Jerry Speyer', 'Lawrence Stroll', 'Tung Chee Chen', 'Wang Junlin', 'Xia Zuoquan', 'Zeng Fangqin', 'Zhang Jian', 'Rocco Basilico', 'Maurizio Billi', 'Fashu Chen', 'Giuseppe Crippa & family', \"Daniel D'Aniello\", 'Claudio Del Vecchio', 'Clemente Del Vecchio', 'Leonardo Maria Del Vecchio', 'Luca Del Vecchio', 'Marisa Del Vecchio', 'Paola Del Vecchio', 'Walter P.J. Droege', 'Fan Daidi', 'Peter Gassner', 'Mikhail Gutseriev', 'Patrick Lee', 'Leng Youbin', 'Daniel Loeb', 'Margarita Louis-Dreyfus & family', 'Prasert Prasarttong-Osoth', 'Ira Rennert', 'Dirk Rossmann & family', 'Arkady Rotenberg', 'Remo Ruffini', 'Karin Sartorius-Herbst', 'Vivek Chaand Sehgal', 'Scott Shleifer', 'Thomas Siebel', 'Wim van der Leegte & family', 'Xiao Yongming & family', 'Michael Xie', 'Yang Shaopeng', 'Nicoletta Zampillo', 'Barry Zekelman', 'William Ackman', 'Somphote Ahunai', 'Igor Altushkin', 'Ramon Ang', 'Acharya Balkrishna', 'Markus Blocher', 'Richard Branson', 'Cho Jung-ho', 'Alessandra Garavoglia', 'Laurence Graff & family', 'Amos Hostetter, Jr.', 'Robert \"Woody\" Johnson', 'Steven Klinsky', 'William Lauder', 'John Middleton', 'Hiroshi Mikitani', 'Bob Parsons', 'J. Joe Ricketts & family', 'Herb Simon', 'Leena Tewari', 'Stefan von Holtzbrinck', 'Hans Peter Wild', 'Wu Guanjiang & family', 'Yi Zheng', 'Eric Yuan & family', 'Charles Zegar', 'Mohed Altrad', 'John Arnold', 'Bill Austin', 'Chen Shibin', 'Bennett Dorrance', 'Walter Faria', 'Walter Frey', 'Fu Liquan & family', 'John Gandel', 'Peter Gilgan', 'Kwek Leng Beng', 'Pablo Legorreta', 'Arnon Milchan', 'Akio Nitori', 'Julio Ponce Lerou', 'Rodger Riney & family', 'Phil Ruffin', 'Naguib Sawiris', 'Neil Shen', 'Gil Shwed', 'Stephen Smith', 'Nik Storonsky', 'Jeffrey Talpins', 'Carl Thoma', 'Todd Wanek', 'Xue Hua', 'Takao Yasuda', 'Karen Virginia Beckmann Legoretta', 'Giuliana Benetton', 'Luciano Benetton', 'Arun Bharat Ram', 'Ron Burkle', 'Chen Kaixuan', 'Brunello Cucinelli & family', 'Antonio Del Valle Ruiz & family', 'Gustavo Denegri & family', 'Dong Jinggui', 'Charles Ergen', 'David Filo', 'Lindsay Fox', 'Sergei Galitsky', 'Senapathy Gopalakrishnan', 'Luciano Hang', 'Michael Hintze', 'Hu Baifan', 'Hamilton James & family', 'Lee Boo-jin', 'Li Liangbin', 'Liang Feng', 'Samir Mehta', 'Sudhir Mehta', 'Aristotelis Mistakidis', 'Geoffrey Palmer', 'Roger Penske', 'Ravi Pillai', 'David Rubenstein', 'Hilton Schlosberg', 'Klaus-Peter Schulenberg', 'Lynn Schusterman', 'Isabella Seràgnoli', 'Shen Guojun', 'Warren Stephens', 'Pat Stryker', 'Roman Trotsenko', 'Harald Tschira', 'Udo Tschira', 'Vincent Viola', 'Wu Shaoxun', 'Steve Wynn', 'Jon Yarbrough', 'Zhou Bajin', 'Cho Tak Wong', 'John Coates', 'Ryan Cohen', 'Deng Wen', 'Gurbachan Singh Dhingra', 'Kuldip Singh Dhingra', 'Martin Ebner', 'Charles Edelstenne', 'Sergei Gordeev', 'Jeff T. Green', 'Reed Hastings', 'Bertil Hult', 'Miguel Krigsner', 'Kuok Khoon Hong', 'Aerin Lauder', 'Sheldon Lavin', 'Yin Yee Lee', 'Vladimir Litvinenko & family', 'Daniel Mate', 'Ravi Modi', 'Farhad Moshiri', 'Jonathan Nelson', 'Or Wai Sheun', 'Katharina Otto-Bernstein', 'Sergei Popov', 'Penny Pritzker', 'Theodore Rachmat', 'Renzo Rosso & family', 'Friede Springer', 'Rita Tong Liu', 'Timur Turlov', 'Frank VanderSloot', 'Yoo Jung-hyun', 'Abdulla bin Ahmad Al Ghurair & family', 'Semahat Sevim Arsel', 'Nicolas Berggruen', 'George Bishop', 'Norman Braman', 'Eva Maria Bucher-Haefner', 'Cai Dongchen', 'Jean-Pierre Cayard', 'Chan Tan Ching-fen', 'Todd Christopher', 'Mang Yee Chu & family', 'William Conway, Jr.', 'Jean Coutu & family', \"Catheline Perier D'Ieteren\", 'Edward DeBartolo, Jr.', 'Stephen Deckoff', 'Feng Hailiang', 'Ernest Garcia, II.', 'Sam Goi', 'Carlos Hank Rhon', 'Susan Carol Holland', 'Hui Ka Yan', 'Vivek Jain', 'Friedrich Knapp', 'Egor Kulkov', 'Lin Ming-hsiung', 'Lin Xiucheng & family', 'Harsh Mariwala', 'Gilles Martin', 'Maja Oeri', 'John Paulson', 'Ajay Piramal', 'Guanghe Qiu & family', 'Stephen Rubin', 'Robert Sands', 'Erik Selin', 'Yonghong Shi & family', 'Martua Sitorus', 'Guangxin Sun', 'Sukanto Tanoto', 'Sunny Varkey', 'Gang Ye', 'Ye Xiaoping', 'Lei Zhang', 'Zhu Gongshan & family', 'Isak Andic & family', 'Alberto Bombassei', 'Cao Longxiang & family', 'Roy Carroll, II.', 'John Caudwell', 'James Clark', \"Jacques D'Amours\", 'John Paul DeJoria', 'Bernard Ecclestone & family', 'Michael Federmann & family', 'Kenneth Feld & family', 'Gu Yuhua & family', 'Otto Happel', 'Gudrun Heine', 'Donald Horton & family', 'Zarakh Iliev', 'Ipek Kirac', 'Lee Seo-hyun', 'Li Jianquan & family', 'Li Li', 'Li Xiaohua & family', 'Liu Xiaodong', 'Martin Lorentzon', 'Ronald McAulay', 'Erwin Franz Mueller', 'Georg Nemetschek & family', 'God Nisanov', 'Vikas Oberoi', 'Gregorio Perez Companc & family', 'Sebastian Piñera & family', 'Arvind Poddar', 'Alexey Repik', 'Haim Saban', 'Rodney Sacks', 'Karthik Sarma', 'Sybill Storz', 'Daniel Sundheim', 'William Wrigley, Jr.', 'Zhang Wenzhong', 'Zhou Jianping', 'Joy Alukkas', 'Kang An', 'Garrett Camp', 'Chen Lip Keong', 'Choo Chong Ngen', 'Euisun Chung', 'Smita Crishna-Godrej', 'Eleanor Butt Crook & family', 'Du Jiangtao & family', 'Lorenzo Fertitta', 'Sebastian Glaser', 'Adi Godrej', 'Jamshyd Godrej', 'Lee Yeow Chor', 'Li Weiguo', 'Dmitry Mazepin', 'Drayton McLane, Jr.', 'Najib Mikati', 'Taha Mikati', 'Akira Mori & family', 'Rishad Naoroji', 'Philip Niarchos', 'Nandan Nilekani', 'Benjamin Otto', 'Maren Otto', 'Ranjan Pai', 'Madhukar Parekh', 'Sean Parker', 'Stewart Rahr', 'Su Hua', 'Sun Shoukuan', 'Tseng Cheng', 'Tung Chee Hwa', 'Meg Whitman', 'Wong Luen Hei', 'Chenghai Ye & family', 'Zhu Xingming', 'Jose Joao Abdalla Filho', 'Juan Abello', 'Suhail Bahwan', 'Madhur Bajaj', 'Niraj Bajaj', 'Shekhar Bajaj', 'Harindarpal Banga', 'Ulrike Baro', 'Anne Beaufour', 'Henri Beaufour', 'Andrei Bokarev', 'Jack Cowin', 'Glenn Dubin', 'N. Murray Edwards', 'Frank Fertitta, III.', 'Abhay Firodia', 'Bruce Flatt', 'Miguel Fluxa Rossello', 'Robert Friedland', 'Alexander Frolov', 'Nadir Godrej', 'Maggie Hardy Knox', 'Nithin Kamath', 'Samvel Karapetyan', 'Kei Hoi Pang', 'Mustafa Rahmi Koc', 'Yuri Kovalchuk & family', 'Geoffrey Kwok', 'Jonathan Kwok', 'Hans Langer', 'Frank Laukien', 'Maritsa Lazari & family', 'Angela Leong', 'Li Zhongchu', 'Liang Yunchao', 'Vincent McMahon', 'Patrice Motsepe', \"Denis O'Brien\", 'Timm Oberwelland', 'Dan Olsson', 'Yuji Otsuka', 'Pan Dong', 'Karsanbhai Patel', 'Richard Peery', 'Gianfelice Rocca', 'Paolo Rocca', 'Wayne Rothbaum', 'Jeff Rothschild', 'Raj Sardana', 'Christiane Schoeller', 'Salil Singhal', 'Alexander Skorobogatko', 'Evan Spiegel', 'Glen Taylor', 'Thomas Tull', 'Bulat Utemuratov', 'Gustav Magnar Witzoe', 'Wong Man Li', 'Guangming Wu', 'Zhu Yi', 'Ben Ashkenazy', 'Felix Baker', 'Julian Baker', 'David Baszucki', 'Joesley Batista', 'Wesley Batista', 'Yvonne Bauer', 'Miriam Baumann-Blocher', 'Cen Junda', 'Richard Chandler', 'Chen Zhiping', 'Fernando Chico Pardo', 'Ray Davis', 'Maria Del Pino', 'Deng Weiming & family', 'John Dorrance, III.', 'Carl Douglas', 'Eric Douglas', 'Fiona Geminder', 'Stewart Horejsi & family', 'Hou Juncheng', 'Zhenda Huang & family', 'Dmitry Kamenshchik', 'Alicia Koplowitz', 'Adam Kwok', 'Henry Laufer', 'Louis Le Duff', 'Mark Leonard & family', 'Li Guoqiang', 'Li Yongxin', 'Peter Lim', 'Lu Weiding', 'Sergio Mantegazza', 'Hans Melchers', 'C. Dean Metropoulos', 'Hans Georg Naeder', 'Falguni Nayar', 'James Packer', 'Alexander Ponomarenko', 'Nicholas Pritzker', 'Alejandro Santo Domingo', 'Steven Sarowitz', 'Maria-Elisabeth Schaeffler-Thumann', 'Leonard Schleifer', 'Dieter Schnabel', 'Michael S. Smith', 'Julia Thiele-Schuerhoff', 'John Tyson & family', 'Anna Katharina Viessmann', 'Jurgen Wirtgen', 'Stefan Wirtgen', 'Zhao Lixin', 'Hongyi Zhou', 'S. Daniel Abraham', 'Bill Alfond', 'Susan Alfond', 'Ted Alfond', 'Riley Bechtel & family', 'Thor Bjorgolfsson', 'Charles Bronfman', 'Vivek Chand Burman', 'Herb Chambers', 'Cheng Yixiao', 'Andrew Cherng', 'Peggy Cherng', 'Leon G. Cooperman', 'Yadu Hari Dalmia & family', 'Henry Davis', 'Oleg Deripaska', 'Sergey Dmitriev', 'Joseph Edelman', 'Sandeep Engineer', 'Alceu Elias Feldmann & family', 'Serge Godin', 'Alec Gores', 'Bill Haslam', 'J. Tomilson Hill', 'Jay-Z', 'Baba Kalyani', 'Saban Cemil Kazanci', 'Brad Kelley', 'Wolfgang Leitner', 'Li Hongxin & family', 'Lin Chen-hai', 'Lu Yiwen', 'Prayudh Mahagitsiri', 'Willy Michel', 'Lachhman Das Mittal', 'Bobby Murphy', 'Tomas Olivo Lopez', 'Eren Ozmen', 'John Pritzker', 'Qiu Minxiu', 'Ferit Faik Sahenk', 'Wenrong Shen', 'Yuzhu Shi', 'Jeff Sutton', 'Henry Sy, Jr.', 'Andrew Tan', 'Arvind Tiku', 'Byron Trott', 'Donald Trump', 'Peter Unger', 'Roger Wang', 'Oprah Winfrey', 'Wu Zhigang & family', 'Xie Weitong', 'Ye Guofu', 'Brian Acton', 'Abdulla Al Futtaim & family', 'Edward Bass', 'Koos Bekker', 'Otto Philipp Braun', 'Chen Tei-fu', 'Abilio dos Santos Diniz', 'Marcel Erni', 'Doris Fisher', 'Gerald Ford', 'Bernard Fraisse & family', 'Alfred Gantner', 'Paul Gauselmann & family', 'Mitchell Goldhar', 'Peter Hargreaves', 'Xuande Hua & family', 'Kwek Leng Kee', 'Catherine Lozick', 'Kalanithi Maran', 'Jed McCaleb', 'Fatih Ozmen', 'Pan Laican', 'Tor Peterson', 'Daniel Pritzker', 'Jinxing Qi', 'Qiu Jianping & family', 'Rajan Raheja & family', 'Matthias Reinhart', 'Arnout Schuijff', 'Hans Sy', 'Herbert Sy', 'Lucio Tan', 'Tsai Ming-kai', 'Ted Turner', 'David Walentas', 'Urs Wietlisbach', 'Jerry Yang', 'Yang Jianliang & family', 'Yang Weidong & family', 'Mortimer Zuckerman', 'John Armitage', 'Lee Bass', 'John Bicket', 'Sanjit Biswas', 'Timothy Boyle', 'Morris Chang', 'Chao Teng-hsiung', 'Samuel Chen', 'Chu Lam Yiu', 'K. Dinesh', 'James Duff', 'Thomas Duff', 'Daniel Ek', 'John Fisher', 'Georg Haub', 'Erman Ilicak', 'Justin Ishbia', 'Long Jiang', 'Bruce Karsh', 'Bom Kim', 'Jianping Lai', 'Lam Kong', 'Stephen Lansdown', 'Kevin David Lehmann', 'Li Haiyan', 'Hua Li', 'Lim Kok Thay', 'Kishore Mariwala', 'Clayton Mathile', 'Mi Enhua', 'Vadim Moshkovich', 'David Murdock', 'David Nahmad', 'Lirio Parisotto', 'Augusto Perfetti', 'Giorgio Perfetti', 'Alberto Prada', 'Marina Prada', 'Filiz Sahenk', 'Richard Sands', 'Stephan Schmidheiny', 'Alberto Siccardi & family', 'Stefan Soloviev', 'Tang Yiu', 'Tian Ming', 'T.Y. Tsai', 'Jayshree Ullal', 'Georg von Opel', 'Lang Walker', 'Xicheng Wang & family', 'Wang Zhenhua', 'Paul-Heinz Wesjohann & family', 'Xie Bingkun & family', 'Xu Shugen', 'Christoph Zeller', 'Zhang Jingzhang & family', 'George Argyros & family', 'Brian Armstrong', 'Albert Avdolyan', 'Sezai Bacaksiz', 'Aneel Bhusri', 'Brett Blundy', 'J. Hyatt Brown', 'Chen Jinxia', 'Chen Xueli', 'Dermot Desmond', 'Dong Wei', 'Tom Ford', 'Fu Guangming & family', 'Noam Gottesman', 'Jeffrey Gundlach', 'Hao Hong', 'Shmuel Harlap', 'Hans-Werner Hector', 'Lutz Mario Helmig & family', 'Chulong Huang', 'Thomas James', 'James Jannard', 'Willis Johnson', 'Lai Shixian', 'Chris Larsen', 'Solomon Lew', 'Liang Xinjun', 'Harald Link', 'Max Lytvyn', 'Igor Makarov', 'Howard Marks', 'Charles Munger', 'Adam Neumann', 'Thi Phuong Thao Nguyen', 'Ni Yongpei & family', 'Heloise Pratt', 'Qi Xiangdong', 'Phillip T. (Terry) Ragon', 'Prathap Reddy', 'Jerry Reinsdorf', 'Chad Richison', 'Karl Scheufele, III. & family', 'Alice Schwartz', 'Alex Shevchenko', 'Kavitark Ram Shriram', 'Jeffrey Soffer', 'William Stone', 'Henry Swieca', 'Harley Sy', 'Teresita Sy-Coson', 'Katsumi Tada', 'Tang Jinkui & family', \"Tang Xiao'ou\", 'Lottie Tham & family', 'Shamsheer Vayalil', 'Radha Vembu', 'Wang Wenmo', 'Wang Zhenghua', 'David Wertheim', 'Kai Wu', 'Xu Yingzhuo', 'Yeung Kin-man', 'Huijiao Yu', 'Oren Zeev', 'Clayton Zekelman', 'Zhao Fenggang', 'Alex Beard', 'Travis Boersma', 'Martin Bouygues', 'Olivier Bouygues', 'William Boyd & family', 'Anand Burman', 'Cao Ji', 'Bruce Cheng', 'Chi Yufeng', 'Daniel Chiu', 'Beda Diethelm', 'Domenico Dolce', 'Ralph Dommermuth', 'Georgi Domuschiev', 'Kiril Domuschiev', 'Bob Ell', 'Paul Foster', 'Stefano Gabbana', 'Xingjiang Gao', 'Gordon Getty', 'Kamal Ghaffarian', 'Dennis Gillings', 'Harsh Goenka', 'Sanjiv Goenka', 'Jane Goldman', 'Stein Erik Hagen', 'Bahaa Hariri', 'Hortensia Herrero', 'Douglas Hsu', 'Huang Min', 'Jared Isaacman', 'Eugene Kaspersky', 'Artem Khachatryan', 'Andrei Krivenko', 'Thomas Kwok', 'Lam Wai-ying', 'Marc Lasry', 'Christian Latouche & family', 'Theodore Leonsis', 'Lin Chang Su-O', 'Liu Chengyu & family', 'Sergey Lomakin', 'Daniel Lubetzky', 'Melissa Ma', 'Anand Mahindra', 'Rafique Malik', 'Katarina Martinson', 'Kiran Mazumdar-Shaw', 'Nirmal Minda', 'Mu Rongjun', 'Eugene Murtagh', 'Alexander Nesis', 'Zugen Ni', 'Florentino Perez', 'Victor Pinchuk', 'Leonid Radvinsky', 'Raveendran Byju', 'P.P. Reddy', 'Richard Saghian', 'Shi Yifeng', 'Thaksin Shinawatra', 'Shu Ping', 'Timothy Springer', 'Venu Srinivasan', 'Edward Stack', 'Sun Mengquan & family', 'Alexander Svetakov', 'Torsten Toeller', 'Barbara Tyson', 'Hamdi Ulukaya', 'Wang Linpeng', 'Wei Ing-Chou', 'Wei Yin-Chun', 'Wei Yin-Heng', 'Wei Ying-Chiao', 'Elaine Wynn', 'Xu Xudong & family', 'Michael Ying', 'Yu Qibing & family', 'Yuan Fugen & family', 'Zhang Ning & family', 'Zhao Tao', 'Anu Aga', 'Mohamed Al Fayed', 'Andrey Andreev', 'Michael Ashcroft', 'Pavel Baudis', 'Wilhelm Beier & family', 'Cao Jianwei', 'Huwen Chen', 'Phongthep Chiaravanont', 'Dou Zhenggang', 'Maria Franca Fissolo', 'William Franke', 'Mario Germano Giuliani', 'Amy Goldman Fowler', 'John Hancock', 'Hu Yangzhong', 'Huang Dawen', 'Huang Qiaoling', 'Rajiv Jain', 'Michael Jordan', 'Diane Kemper', 'Shlomo Kramer', 'Heikki Kyostila', 'Martin Lau', 'Li Min', 'Liang Rubo', 'Liang Zhaoxian', 'Lin Fanlian', 'Aloke Lohia', 'Bill Malhotra', 'Alexander Mamut', 'Craig McCaw', 'Cunhui Nan', 'Tengyun Nie & family', 'Oei Hong Leong', 'Clive Palmer', 'Matthew Prince', 'Linda Pritzker', 'P.V. Krishna Reddy', 'Bianca Rinehart', 'Ginia Rinehart', 'T. Denny Sanford', 'Bhadresh Shah', 'Zygmunt Solorz-Zak', 'Michal Strnad', 'Sylvia Stroeher', 'Otto Toto Sugiri', 'Larry Tanenbaum', 'Wichai Thongtang', 'Ion Tiriac', 'Hope Welker', 'William Young', 'Ales Zavoral', 'Zhang Fan', 'Shilong Zhang & family', 'Zhang Wanzhen', 'Hongfei Zhao', 'Zhou Jian', 'Zhu Yiwen & family', 'Roberto Angelini Rossi', 'Mika Anttonen', 'David Blitzer', 'Julio Bozano', 'Nikolai Buinov', 'Nicola Bulgari', 'Howard Butt, III. & family', 'Stephen Butt & family', 'Jianxing Che', 'Huxiong Chen', 'Chen Qiongxiang', 'Chen Zhisong', 'Manas Chiaravanond', 'Prathip Chiravanond', 'Alexandra Daitch', 'Sol Daurella', 'Mark Davis', 'James Dinan', 'Dong Fan', 'Fritz Draexlmaier', 'Bulent Eczacibasi', 'Faruk Eczacibasi', 'Eduardo Eurnekian', 'David Fong', 'Guo Zhenyu & family', 'Surjit Kumar Gupta', 'Caroline Hagen Kjos', 'Roberto Hernandez Ramirez', 'Reid Hoffman', 'Hu Rongda & family', 'B. Wayne Hughes, Jr.', 'Hui Wing Mau', 'Scott Kapnick', 'Richard Kayne', 'Dominika Kulczyk', 'Edward Lampert', 'Somsri Lamsam', 'James Leprino', 'David Lichtenstein', 'Lin Dingqiang & family', 'Sarah MacMillan', 'Strive Masiyiwa', 'Robert Miller', 'Simon Nixon', 'Kentaro Ogawa', 'Ajay Parekh', 'Narendrakumar Parekh', 'Jennifer Pritzker', 'G. Rajendran', 'Ren Jianhua', 'Larry Robbins', 'Dwight Schar', 'Shao Jianxiong', 'Qinxiang Shao', 'Hua Shen', 'Shi Wen-long', 'Peter Sondakh', 'Lucy Stitzer', 'Elizabeth Sy', 'Hermanto Tanoko', 'Mehmet Sinan Tara', 'Masateru Uno & family', 'Vardis Vardinoyannis & family', 'Jitendra Virwani', 'Wang Chaobin', 'Wang Ren-sheng', 'Charlotte Colket Weber', 'Xie Juhua & family', 'Chuanhua Xu & family', 'Gavril Yushvaev & family', 'Zhang Hongwei', 'Anita Zucker', 'Cameron Adams', 'Will Adderley', 'Faisal Bin Qassim Al Thani', 'Leslie Alexander', 'Masaaki Arai', 'Sabrina Benetton', 'Sanjeev Bikhchandani', 'O. Francis Biondi', 'Alejandro Bulgheroni', 'R.G. Chandramogan', 'Binod Chaudhary', 'Parker Conrad', 'Tim Cook', 'Mark Coombs', 'John de Mol', 'D. Leopoldo Del Pino', 'Diao Zhizhong', 'Robert Duggan', 'James France', 'Phillip Frost', 'Jayme Garfinkel & family', 'Christopher Goldsbury', 'Yusuf Hamied', 'Brian Higgins', 'Wei Huang', 'Yintai Jiang & family', 'Lei Jin', 'Jin Lei & family', 'Valentin Kipyatkov', 'Koo Kwang-mo', 'George Kurtz', 'Joe Lacob', 'Joe Lau', 'Louise Lindh', 'Luo Yangyong & family', 'Joao Roberto Marinho', 'Jose Roberto Marinho', 'Roberto Irineu Marinho', 'Gary Michelson', 'Robert G. Miller', 'David Mindus', 'Adriaan Mol', 'Mofatraj Munot', 'Ezra Nahmad', 'Satyanarayan Nuwal', 'Maike Oberwelland-Height', 'Nihat Ozdemir', 'Benjamin Zhengmin Pan & family', 'Pierre Karl Péladeau', 'Ronald Perelman', 'Olivier Pomel', 'Krit Ratanarak', 'Vinod Saraf', 'Karin Schick', 'Anatoly Sedykh', 'Genhuo Shao', 'Shen Xiqiang & family', 'S.D. Shibulal', 'Suh Kyung-bae', 'Bambang Sutantio', 'Sze Man Bok', 'Jim Thompson', 'Tran Dinh Long', 'Alan Trefler', 'Riaz Valani', 'Pieter van der Does', 'Martin Viessmann', 'Nikil Viswanathan', 'Todd Wagner', 'Evan Williams', 'Kie Chie Wong', 'Thomas Wu', 'Wu Yingming', 'Amy Wyss', 'Yan Zhi', 'Yoshiaki Yoshida', 'Alan Zekelman', 'Zhang Li', 'Amy Adams Strunk', 'Marc Andreessen', 'Giovanni Arvedi', 'Lesley Bamberger', 'Bang Si-hyuk', 'David Booth', 'Jim Breyer', 'Chen Kaichen', 'Kommer Damen', 'Carl DeSantis', 'Marek Dospiva', 'Keith Dunleavy & family', 'John Elkann', 'Francois Feuillet & family', 'Yasuhiro Fukushima', 'Mario Gabelli', 'Rolf Gerling', 'John Goff', 'Alexandre Grendene Bartelle', 'Gerry Harvey', 'He Zhaoxi', 'William Heinecke', 'Jay Hennick', 'Ilkka Herlin', 'Asok Kumar Hiranandani', 'Hal Jackman', 'Pavan Jain', 'Keeree Kanjanapas', 'Osman Kibar', 'Kim Chang-soo', 'Kim Jung-min', 'Kim Jung-youn', 'Mustafa Kucuk', 'Christopher Kwok', 'Edward Kwok', 'Lai Jianfa', 'Lau Cho Kun', 'Alexis Lê-Quôc', 'Lei Jufang', 'James Leininger', 'Xuhui Li', 'Jimmy John Liautaud', 'Lin Lairong & family', 'Lu Di', 'Palmer Luckey', 'Duncan MacMillan', 'Yusaku Maezawa', 'Ilson Mateus & family', 'Meng Qingshan & family', 'Alberto Palatchi', 'Mrudula Parekh', 'Dragos Paval', 'Jorge Perez', 'Dmitry Pumpyansky', 'Jinsheng Ren & family', 'Brian Roberts', 'Joe Rogers, Jr.', 'Ruan Shuilong & family', 'Paul Saville', 'Ivan Savvidis & family', 'Keiichi Shibahara', 'Rajju Shroff', 'Sun Huaiqing & family', 'Alain Taravella', 'Jonathan Tisch', 'Kenneth Tuchman', 'Wang Chou-hsiong', 'Wang Minwen', 'Tom Werner', 'Stephen Winn', 'Ian Wood & family', 'Wu Lanlan & family', 'Xu Bingzhong', 'Yang Xuegang', 'Vladimir Yevtushenkov', 'David Zalik', 'Zhang Xiaojuan', 'Zheng Xiaodong', 'Zhong Ruonong & family', 'Noubar Afeyan', 'Syed Mokhtar AlBukhary', 'Herbert Allen, Jr. & family', 'Vasily Anisimov', 'Clifford Asness', 'Louis Bacon', 'Bai Baokun', 'Alex Birkenstock', 'Christian Birkenstock', 'Josef Boquoi & family', 'Cai Huabo', 'Chen Tianshi', 'Chen Yung-tai', 'Chey Tae-won', 'Ivan Chrenko', 'Robert Clark', 'Jack Cockwell', 'Tench Coxe', 'Jim Crane', 'Norbert Dentressangle', 'Jamie Dimon', 'Daniel Dines', 'Alfredo Egydio Arruda Villela Filho', 'Gary Fegel', 'William Foley, II.', 'Richard Fortin', 'Gao Yi & family', 'Giammaria Giuliani', 'Bill Gross', 'Sue Gross', 'Irving Grousbeck & family', 'Timothy Headington', 'Ilona Herlin', 'David Hoffmann', 'Stanley Hubbard', 'Hui Lin Chit', 'Tianjiang Jia & family', 'Zhaobai Jiang', 'Sergei Katsiev', 'Kim Jae-young', 'Randal J. Kirk', 'William Koch', 'Pyotr Kondrashev', 'Eiichi Kuriwada', 'Robert Langer', 'Anthony Langley', 'Marianna Latsis & family', 'Lee Yeow Seng', 'Li Sze Lim', 'Li Wa', 'Li Weiwei', 'Liang Qin & family', 'Vincent Lo', 'Terence (Terry) Matthews', 'Jim McKelvey', 'P.N.C. Menon', 'Massimo Moratti', 'Liora Ofer', 'Stefan Pierer', 'Andreas Pohl', 'Reinfried Pohl, Jr.', 'Michael Polsky', 'Francisco Jose Riberas Mera', 'Juan Maria Riberas Mera', 'Andres Santo Domingo', 'Sathien Sathientham', 'Shang Xiaobo & family', 'Yuri Shefler', 'Evgeny (Eugene) Shvidler', 'Ryan Smith', 'Zakhar Smushkin', 'Peter Sperling', 'Laurie Tisch', 'Steven Tisch', 'Michael Tojner', 'August Troendle', 'Tseng Sing-ai', 'Sekar Vembu', 'Chris Wallin', 'Wang Changtian', 'Ning Wang & family', 'Scott Watterson', 'Dan Wilks', 'Alan Wilson', 'Bruce Wilson', 'John Wilson', 'Anthony Wood', 'Wu Ying', 'Wu Yulan', 'Zhongyi Wu', 'Xiang Guangming & family', 'Xue Xiangdong & family', 'George Yancopoulos', 'Steven Meng Yang & family', 'Ye Fan & family', 'Yi Dasheng', 'Yu Lili', 'Zeng Kaitian', 'Zhang Xuexin & family', 'Yubai Zhang', 'Fredrik Österberg', 'Shiv Kishan Agrawal', 'Aziz Akhannouch & family', 'Hamdi Akin & family', 'Nerio Alessandri', 'Alexandra Andresen', 'Katharina Andresen', 'Patricia Angelini Rossi', 'Mori Arkin', 'Barbara Benetton', 'Angela Bennett', 'Zadik Bino & family', 'Paolo Bulgari', 'Saket Burman', 'Ahmet Calik', 'Safra Catz', 'Chang Kuo-Hua', 'Chu Jian', 'Sandor Csanyi', 'Ana Lucia de Mattos Barretto Villela', 'Federico De Nora', 'Bharat Desai', 'Mohammed Dewji', 'Egon Durban', 'Fu Mingkang & family', 'Alan Gerry', 'Philippe Ginestet & family', 'G. Gnanalingam', 'Esther Grether', 'Wei Gu', 'Patrick Hanrahan', 'Kenneth Hao', 'Jaroslav Hascak & family', 'He Zhenggang', 'Niranjan Hiranandani', 'Ho Hung Anh', 'Archie Hwang', 'Peter Jackson', 'Stephen Jarislowsky', 'Rajeev Juneja', 'Ramesh Juneja', 'Ke Xiping & family', 'Kim Jun-ki', 'Sidney Kimmel', 'Jim Koch', 'Raj Kumar', 'Spiro Latsis & family', 'Peter Leibinger', 'Regine Leibinger', 'Nicola Leibinger-Kammueller', 'Li Jianli', 'Li Jiaquan', 'Li Rucheng', 'Li Shui-po', 'Scott Lin', 'Liu Xiucai & family', 'Lu Zhongfang', 'Lu Zongjun', 'Youssef Mansour', 'Bruce Mathieson', 'Romano Minozzi', 'Greg Mondre', 'Mario Moretti Polegato & family', 'Robert Mouawad', 'Jerry Moyes & family', 'John Ocampo', 'Stefan Olsson', 'Rubens Ometto Silveira Mello', 'Anne Marie See Pastor', 'George Pastor', 'Nelson Peltz', 'David Penaloza Alanis', 'Karl-Johan Persson', 'Mike Repole', 'Duke Reyes', 'Kishin RK', 'Carlos Rodriguez-Pastor', 'Christopher Rokos', 'John Ruiz', 'Sheryl Sandberg', 'Amnon Shashua', 'Ben Silbermann', 'Ron Sim', 'Leonid Simanovsky', 'Basudeo Singh', 'Frank Slootman', 'Terry Snow', 'Axel Stawski', 'Thomas Steyer', 'Sergei Studennikov & family', 'Su Suyu & family', 'Kevin Systrom', 'Tan Lili', 'Tang Binsen', 'Tang Rui', 'Prachak Tangkaravakoon', 'Jeff Tangney', 'Yuequn Tao', 'David Teoh', 'Carmen Thyssen', 'Tran Ba Duong & family', 'Kenny Troutt', 'Jens von Bahr', 'Wang Junmin', 'Weng Xianding', 'Farris Wilks', 'Gordon Wu', 'Xiong Wu', 'Xu Zhenhua', 'Xu Zhihan', 'Tingdong Yang', 'Michael Minhong Yu', 'Justin Yuan', 'Zhang Bangxin', 'Zhang Hong', 'Zhou Zongwen & family', 'Antti Aarnio-Wihuri', 'Alberto Alcocer', 'Nigel Austin', 'Binny Bansal', 'Girdhari Lal Bawri', 'John Bloor', 'Vladimir Bogdanov', 'Amit Burman', 'Cai Jianyong', 'Steve Case', 'Chen Wenyuan & family', 'Chua Thian Poh', 'Sasson Dayan & family', 'Chris Ellison', 'John Farber', 'J. Christopher Flowers', 'Reinold Geiger', 'Ali Ghodsi', 'Lance Gokongwei', 'Guan Yihong', 'Rajinder Gupta', 'Torstein Hagen', 'Ayman Hariri', 'Alfredo Harp Helu & family', 'He Xiaopeng', 'Christoph Henkel', 'Daniel Hirschfeld', 'Drew Houston', 'Huang Jinxiang & family', 'Rameshchandra Jain', 'Ke Zunhong & family', 'Kim Taek-jin', 'Koh Wee Meng', 'Sergei Kolesnikov', 'Hemendra Kothari', 'Sebastian Kulczyk', 'Kwee Liong Keng', 'Kwee Liong Phing', 'Kwee Liong Seen', 'Kwee Liong Tek', 'Kwek Leng Keow', 'Kwek Leng Peck', 'Raymond Kwok', 'Lee Ho-jin', 'Michael Lee-Chin', \"Manfredi Lefebvre d'Ovidio & family\", 'Bernard Lewis & family', 'Li Jinyang', 'William Li', 'Jenny Lindén Urnes', 'Liu Fangyi', 'K.C. Liu', 'Liu Ming Chung', 'Anatoly Lomakin', 'Brandt Louie', 'Lucia Maggi & family', 'Gary Magness', 'Mao Lixiang & family', 'David McMurtry', 'Deepak Mehta', 'Miao Shouliang', 'Miao Yongjun', 'Yoshiko Mori', 'Marius Nacht', 'Tadako Nakatani', 'Vadim Novinsky', 'Niti Osathanugrah', 'Gretel Packer', 'Pan Longquan', 'Pan Shiyi', 'David Paul', 'Tom Persson', 'Qian Jinghong', 'Qin Long', 'M.Satyanarayana Reddy', 'Mochtar Riady & family', 'Rihanna', 'Boris Rotenberg', 'Subhash Runwal', 'Igor Rybakov', 'Carlos Sanchez', 'Martin Selig', 'Airat Shaimiev', 'Radik Shaimiev', 'Nobutoshi Shimamura', 'Jared Smith', 'Charlotte Soderstrom', 'Anand Surana', 'Dilip Surana', 'Wilma Tisch', 'Jianyi Wang', 'Wang Jilei', 'Shuifu Wang', 'Wang Yanqing & family', 'Wang Zelong', 'Werner O. Weber', 'Anne Werninghaus', 'Alfred West, Jr.', 'Bo Wu', 'Wu Chaoqun', 'Swift Xie', 'Xu Guozhong & family', 'Yao Kuizhang', 'Yu Peidi', 'Yuan Liping', 'Zhang Chuanwei & family', 'Zhang Keqiang', 'Zhang Xin', 'Xinghai Zhang & family', 'Zheng Jianjiang & family', 'Zhong Sheng Jian', 'Zhou Chengjian', 'Boris Zingarevich', 'A. Jayson Adair', 'Soegiarto Adikoesoemo', 'Rajendra Agarwal', 'Chirayu Amin', 'Anant Asavabhokhin', 'Roman Avdeev', 'Ziv Aviram', 'Sachin Bansal', 'Kiki Barki', 'Elena Baturina', 'Banwari Lal Bawri', 'Othman Benjelloun & family', 'Hari Bhartia', 'Shyam Bhartia', 'Stewart Butterfield', 'Cai Mingtong', 'Anthony Casalena', 'Chang Jianming & family', 'Richard Chang', 'Chen Xuehua', 'Chen Yin', 'Chin Jong Hwa', 'R. Marcelo Claure', 'Alberto Cortina', 'Eduardo Costantini', 'Wenjun Dai', 'Anand Deshpande', 'Aydin Dogan', 'Annalisa Doris', 'Massimo Doris', 'Weimin Du', 'Timothy Dunn & family', 'Keiko Erikawa', 'Yoichi Erikawa', 'Philip Fayer', 'Marvy Finger', 'Simona Giorgetta', 'Joel Greenberg', 'He Zhiping', 'Heikki Herlin', 'Hoi Kin Hong', 'Lillyn Teh Li Hua', 'Gregg Hymowitz', 'Mitchell Jacobson', 'Anurang Jain', 'Jiang Guiting & family', 'Jin Xin', 'Conni Jonsson', 'George Joseph', 'Laurent Junique', 'Zbigniew Juroszek & family', 'Alexander Karp', 'Joe Kiani', 'Seth Klarman', 'Kagemasa Kozuki', 'Michael Krasny', 'Eduard Kucera', 'Kristo Käärmann', 'Gary Lauder', 'Lee Hae-jin', 'Art Levinson', 'Li Denghai', 'Fengluan Li', 'Li Yongqing', 'Li Zhigang', 'Liu Gexin & family', 'Itamar Locks & family', 'Lu Hongyan', 'Lv Jianming', 'Blairo Maggi', 'Yasseen Mansour', 'Charlwin Mao', 'George Marcus', 'Yves-Loic Martin', 'Carsten Maschmeyer', 'Lillian Teh Li Ming', 'Martin Moller Nielsen', 'Jahm Najafi', 'Randal Nardone', 'Nguyen Dang Quang', 'Kazuo Okada', 'John Oyler', 'William Teh Lee Pang', 'George Pedersen & family', 'Qu Miranda', 'Jupally Rameshwar Rao', 'G. M. Rao', 'P.V. Ramprasad Reddy', 'Satish Reddy', 'Fernando Roig', 'Igor Rotenberg', 'Seifeddin Rustamov', 'Deniz Sahenk', 'Nobutada Saji', 'Hajime Satomi', 'James Scapa', 'Stephan Schnabel', 'Devi Shetty', 'Albert Shigaboutdinov', 'Diana Teh Li Shing', 'Denis Shtengelov', 'Fei Song', 'Hal Steinbrenner', 'Jessica Steinbrenner', 'Jennifer Steinbrenner Swindal', 'Konstantin Strukov & family', 'Rustem Sulteev', 'Clemens Toennies', 'Robert Toennies', 'John Van Lieshout', 'Pongsak Viddayakorn', 'Wang Jianguo', 'Junjin Wang', 'Wang Mingwang', 'Wei Lidong & family', 'Myron Wentz', 'Wu Xiaoge', 'Wu Xushun & family', 'Xiong Xiaochuan', 'Xu Shaochun', 'Yan Jane & family', 'Zeng Chaoyi', 'Peng Zhao', 'Zhao Tongtong', 'Kostyantin Zhevago', 'Zong Yanmin', 'Sanjay Agarwal', 'Hamad bin Jassim bin Jaber Al Thani', 'Joao Alves de Queiroz Filho', 'Jose Maria Aristrain', 'Michael Arougheti', 'Tope Awotona', 'Mehmet Aydinlar', 'Danna Azrieli', 'Naomi Azrieli', 'Sharon Azrieli', 'Bai Houshan', 'Thomas Bailey', 'Bernhard Braun-Luedicke', 'Eva Maria Braun-Luedicke', 'Friederike Braun-Luedicke', 'Jeffrey Cheah', 'Chen Xianbao & family', 'Cheng Xianfeng', 'Chung Yong-jin', 'Darwin Deason', 'Diego Della Valle', 'Ashwin Desai', 'Richard Desmond', 'Ding Shui Po', 'Sefik Yilmaz Dizdar', 'Mathias Doepfner', 'Farhad Ebrahimi', 'Jose Roberto Ermirio de Moraes', 'Jose Ermirio de Moraes Neto', 'Fang Hongbo', 'David Feffer', 'Zsolt Felcsuti', 'Ben Francis', 'Gary Friedman', 'Dan Gertler', 'Balkrishan Goenka', 'Lawrence Golub', 'Saroj Rani Gupta', 'Anthony Hall', 'Fahed Hariri', 'Richard Hayne', 'Michael Heine', 'Orion Hindawi', 'Lawrence Ho', 'Huang Guanlin', 'Sam Hupert', 'Mohammed Ibrahim', 'Shirley Kao', 'David Kaplan', 'Kim Kardashian', 'Ke Guihua', 'Ke Yunfeng & family', 'Alexander Klyachin', 'Christine Knauf', 'Karl Knauf', 'Suresh Krishna', 'Guy Laliberté', 'Lee Su-jin', 'Li Guoqing', 'Li Li', 'Li Ruiqiang', 'Zhen Li & family', 'Guangwei Liang', 'Liu Ming Hui', 'Frederic Luddy', 'Cargill MacMillan, III.', 'John MacMillan', 'Martha MacMillan', 'William MacMillan', 'Keshub Mahindra', 'Mao Zhongwu', 'Jorge Mas', 'Lorinc Meszaros', 'Jeffrey Michael & family', 'Alan Miller & family', 'Ulrich Mommert & family', 'Neide Helena de Moraes', 'Scott Nuttall', 'Kailashchandra Nuwal', 'Axel Oberwelland & family', 'Jonathan Oringer', 'Vitaly Orlov', 'Jose Isaac Peres & family', 'Markus Persson', 'Mark Pincus', 'Murdaya Poo', 'Forrest Preston', 'Qian Ying', 'Jimmy Rane', 'Andrei Rappoport', 'Hugo Ribeiro & family', 'Bennett Rosenthal', 'Atul Ruia', 'Thomas Sandell', 'Francesco Saputo', 'Dhruv Sawhney', 'Gerald Schwartz', 'Antonio Luiz Seabra', 'Eric Ya Shen', \"Sytse 'Sid' Sijbrandij\", 'Alexander Sixt', 'Konstantin Sixt', 'Edwin Soeryadjaya', 'Abhay Soi', 'Mike Speiser', 'Marco Squinzi', 'Veronica Squinzi', 'Michael Steinhardt', 'Ion Stoica', 'Eddy Sugianto', 'Luc Tack', 'Tony Tan Caktiong', 'Xiuguo Tang', 'Sam Tarascio', 'Lina Tombolato', 'Ching Bor Tung', 'Joop van den Ende', 'Ruben Vardanyan & family', 'Sandro Veronesi & family', 'Thongma Vijitpongpun', 'Thomas von Koch', 'Wang Fuji', 'Wang Shih-Chung', 'Wang Xiaoshen', 'J. Wayne Weaver', 'Drorit Wertheim', 'Cameron Winklevoss', 'Tyler Winklevoss', 'Wu Chung-yi', 'Eugene Wu', 'Wu Yonghua', 'Xia Xinde', 'Wenbo Xiang', 'Xu Jin', 'Xu Shijun & family', 'Wanmao Xu', 'Xu Yuejuan', 'Vadim Yakunin', 'Yang Yunyun', 'Matei Zaharia', 'Zan Shengda', 'Zhang Xuezheng', 'Zhang Yin', 'Ning Zhao', 'Zhou Wen & family', 'Zhu Xingliang', 'Hari Krishan Agarwal', 'Farkhad Akhmedov', 'Prem Kumar Arora', 'Joseph Bae', 'Abigail Bennett', 'Sara Blakely', 'Lloyd Blankfein', 'Henadiy Boholyubov', 'Stephane Bonvin', 'Oleg Boyko', 'Ryan Breslow', 'Thomas Bruch', 'Marina Budiman', 'Pradip Burman', 'Cai Hongbin', 'Cao Kejian', 'Giuliana Caprotti', 'Marina Caprotti', 'Chang Jing', 'Chen Baohua', 'Gang Chen', 'Liying Chen', 'Tony Chen', 'Chen Xueling', 'Cheng Lili', 'Cho Jyh-jer', 'Weili Dai', 'Carmen Daurella Aguilera', 'Deng Yingzhong', 'Shlomo Eliahu', 'Henry Engelhardt', 'Gabriel Escarrer', 'Daniel Feffer', 'Ruben Feffer', 'Gleb Fetisov', 'Paul Fireman', 'Robert Fisher', 'Bernd Freier', 'Donald Friese', 'Gan Zhongru', 'Rahul Gautam', 'David Golub', 'Pavel Golubkov', 'Cristina Green', 'Philip Green', 'Said Gutseriev', 'Polys Haji-Ioannou', 'He Zuxun', 'Christian Herz', 'Michaela Herz', 'David Hindawi', 'Huang Shan', 'Huang Xiaofen & family', 'Hiroshi Ishibashi', 'Masayuki Ishihara', 'Chatchai Kaewbootta', 'Nikhil Kamath', 'Jonas Kamprad', 'Mathias Kamprad', 'Peter Kamprad', 'Fumio Kaneko', 'Sunjay Kapur', 'Ali Metin Kazanci', 'Kangbao Ke & family', 'Carsten Koerl', 'Koo Bon-sik', 'Andrei Kosogov', 'Yogesh Kothari', 'Arvind Lal', 'Manuel Lao Hernández', 'Lee Joong-keun', 'Nancy Lerner', 'Norma Lerner', 'Randolph Lerner', 'Lin Zhijun', 'Lin Zhixiong & family', 'Jeffrey Lorberbaum', 'Lu Rongfu', 'Lyu Yixiong', 'Soichiro Minami', 'Pawan Munjal', 'Renu Munjal', 'Suman Munjal', 'Dmitry Nikolaev', 'Sjamsul Nursalim', 'Adrian Paval', 'Antonio Percassi', 'Kevin Plank', 'G.V. Prasad', 'Pu Zhongjie & family', 'Rao Wei & family', 'Helena Revoredo', 'Matthew Roszak', 'Paul Sciarra', 'Rajesh Sharma', 'Dean Solon', 'Michael Spencer', 'Joseph Steinberg', 'Zachary Stern', 'Manny Stul', 'Sun Hongjun', 'Sun Weijie', 'Sehat Sutardja', 'Min-Liang Tan', 'Tan Yu Yeh', 'Tang Aoqi & family', 'Vonnarat Tangkaravakoon', 'Tsao Ter-fung', 'Tung Ching Sai', 'Arkady Volozh', 'Peter-Alexander Wacker', 'Wan Long', 'Wang Han', 'Lars Wingefors', 'Allan Wong', 'Tiger Woods', 'Horst Wortmann', 'Wu Kaiting', 'Wu Li-gann', 'Wu Xiangdong', 'Xiu Laigui', 'Xu Jiangnan', 'Xue Jiping', 'Yao Hsiao Tung', 'Ye Qiongjiu', 'Yanqiao Ye', 'Yeh Kuo-I', 'Yu Faxiang', 'Zeng Chaolin', 'Kapeng Zhang', 'Zhang Xuansong', 'Zhang Xuewu', 'Zhu Yiming', 'Zhu Zhaojiang', 'Zhuo Jun', 'Manohar Lal Agarwal', 'Christian Angermayer', 'Ryuji Arai', 'Anna Maria Braun', 'Johanna Braun', 'Karl Friedrich Braun', 'Ludwig Theodor Braun', 'Ana Maria Brescia Cafferata', 'Jimmy Buffett', 'Hideyuki Busujima', 'Edouard Carmignac', 'Chang Kuo-Ming', 'Chen Jiancheng', 'Rui Chen', 'Chen Shiliang', 'Tianqiao Chen', 'Yuantai Chen', 'Cheng Antares', 'Kochouseph Chittilappilly', 'John Christodoulou', 'Pollyanna Chu', 'Turgay Ciner', 'Benoit Dageville', 'Mark Dixon', 'Du Yulin & family', 'Feng Yuxia', 'Benedicte Find', 'William Fisher', 'Gao Yunfeng', 'Jianming Geng', 'Sven Hagströmer', 'Clelia Haji-Ioannou', 'Stelios Haji-Ioannou', 'Hang Hong', 'He Yamin & family', 'Ghan Djoe Hiang', 'Hong Feng', 'Hong Seok-joh', 'Hu Gengxi & family', 'Danilo Iervolino', 'Hedda im Brahm-Droege', 'Inder Jaisinghani', 'LeBron James', 'Johan Johannson', 'Morris Kahn', 'Ashok Kajaria', 'Marcelo Kalim', 'Ken Kendrick', 'Brad Keywell', 'Muhammed Aziz Khan', 'Kim Jung-woong', 'Ihor Kolomoyskyy', 'Kong Jian Min', 'Koo Bon-neung', 'Michael Kum', 'Richard Kurtz', 'Lev Kvetnoi', 'Michiel Le Roux', 'Li Wanqiang', 'Liu Baolin', 'Loo Choon Yong', 'Lu Yonghua & family', 'Ma Xiuhui', 'Apoorva Mehta', 'Gabriella Meister', 'Ulrike Meister', 'Andrei Molchanov', 'Fulvio Montipò & family', 'Stanley Motta', 'Tyler Perry', 'Réal Plourde', 'Vera Rechulski Santo Domingo', 'George Sakellaris', 'Eddy Kusnadi Sariaatmadja', 'Neerja Sethi', 'Scott Smith', 'Petter Stordalen & family', 'Ivan Streshinsky', 'Sergei Sudarikov', 'Wijono Tanoko', 'Haryanto Tjiptodihardjo', 'David Tran & family', 'Kenzo Tsujimoto', 'Murat Vargi', 'Shigefumi Wada', 'Wan Feng & family', 'Wang Jianfeng & family', 'Masaru Wasami', 'V. Prem Watsa', 'Wen Pengcheng & family', 'Toto Wolff', 'Franziska Wuerbser', 'Xie Bingzheng & family', 'Xu Gang', 'Yan Junxu', 'Yi Xianzhong & family', 'Yu Rong', 'Richard Yuengling, Jr.', 'Zhang Gongyun', 'Zhang Guiping & family', 'Inigo Zobel']\n"
     ]
    }
   ],
   "source": [
    "print(name)"
   ]
  },
  {
   "cell_type": "code",
   "execution_count": 123,
   "id": "e7bc4267",
   "metadata": {},
   "outputs": [
    {
     "name": "stdout",
     "output_type": "stream",
     "text": [
      "['$211 B', '$180 B', '$114 B', '$107 B', '$106 B', '$104 B', '$94.5 B', '$93 B', '$83.4 B', '$80.7 B', '$80.5 B', '$79.2 B', '$77.3 B', '$76 B', '$68 B', '$64.4 B', '$59 B', '$59 B', '$58.8 B', '$57.6 B', '$56.7 B', '$54.4 B', '$50.1 B', '$47.2 B', '$45.1 B', '$45 B', '$42.9 B', '$40.1 B', '$39.1 B', '$38.9 B', '$38.3 B', '$38.3 B', '$38 B', '$35.3 B', '$35 B', '$35 B', '$34.7 B', '$33.4 B', '$32.6 B', '$32.1 B', '$31.6 B', '$31.6 B', '$31.2 B', '$31.2 B', '$30.2 B', '$29.7 B', '$29.5 B', '$28.5 B', '$28.1 B', '$27.8 B', '$27.4 B', '$27 B', '$26.7 B', '$26.6 B', '$25.6 B', '$25.5 B', '$25.3 B', '$25.2 B', '$24.6 B', '$24.4 B', '$24.2 B', '$23.7 B', '$23.5 B', '$23.4 B', '$23.1 B', '$23.1 B', '$22.9 B', '$22.6 B', '$22.4 B', '$22.1 B', '$22 B', '$21.6 B', '$21.6 B', '$21.2 B', '$21.2 B', '$21.1 B', '$21 B', '$21 B', '$20.9 B', '$20.5 B', '$20.2 B', '$19.6 B', '$19.1 B', '$19 B', '$19 B', '$18.9 B', '$18.9 B', '$18.7 B', '$18.5 B', '$18.5 B', '$18.5 B', '$18 B', '$17.7 B', '$17.5 B', '$17.5 B', '$17.5 B', '$17.4 B', '$17.4 B', '$17.1 B', '$16.7 B', '$16.5 B', '$16.5 B', '$16.3 B', '$16.2 B', '$16.2 B', '$16 B', '$15.9 B', '$15.8 B', '$15.8 B', '$15.8 B', '$15.8 B', '$15.6 B', '$15.5 B', '$15.3 B', '$15.2 B', '$14.9 B', '$14.9 B', '$14.8 B', '$14.7 B', '$14.6 B', '$14.5 B', '$14.4 B', '$14.3 B', '$14.2 B', '$14.2 B', '$14.1 B', '$14 B', '$13.9 B', '$13.9 B', '$13.7 B', '$13.7 B', '$13.7 B', '$13.3 B', '$13.3 B', '$13.3 B', '$13.2 B', '$13.1 B', '$12.9 B', '$12.9 B', '$12.6 B', '$12.3 B', '$12.2 B', '$12.2 B', '$12.1 B', '$12 B', '$11.8 B', '$11.6 B', '$11.5 B', '$11.5 B', '$11.5 B', '$11.4 B', '$11.4 B', '$11.3 B', '$11.3 B', '$11.3 B', '$11.3 B', '$11.1 B', '$11.1 B', '$11 B', '$11 B', '$10.9 B', '$10.9 B', '$10.9 B', '$10.7 B', '$10.6 B', '$10.6 B', '$10.5 B', '$10.5 B', '$10.5 B', '$10.3 B', '$10.2 B', '$10.2 B', '$10.2 B', '$10.2 B', '$10.2 B', '$10.2 B', '$10.2 B', '$10.2 B', '$10.1 B', '$10.1 B', '$10.1 B', '$10 B', '$9.9 B', '$9.8 B', '$9.8 B', '$9.8 B', '$9.8 B', '$9.8 B', '$9.8 B', '$9.7 B', '$9.7 B', '$9.7 B', '$9.7 B', '$9.7 B', '$9.6 B', '$9.6 B', '$9.6 B', '$9.6 B', '$9.6 B', '$9.6 B', '$9.6 B', '$9.5 B', '$9.5 B', '$9.4 B', '$9.4 B', '$9.3 B', '$9.3 B', '$9.2 B', '$9.2 B', '$9.2 B', '$9.2 B', '$9.2 B', '$9.2 B', '$9.2 B', '$9 B', '$9 B', '$9 B', '$9 B', '$9 B', '$8.9 B', '$8.9 B', '$8.9 B', '$8.8 B', '$8.8 B', '$8.8 B', '$8.8 B', '$8.8 B', '$8.8 B', '$8.8 B', '$8.7 B', '$8.7 B', '$8.6 B', '$8.6 B', '$8.6 B', '$8.6 B', '$8.6 B', '$8.6 B', '$8.6 B', '$8.5 B', '$8.5 B', '$8.5 B', '$8.4 B', '$8.4 B', '$8.4 B', '$8.4 B', '$8.3 B', '$8.3 B', '$8.3 B', '$8.2 B', '$8.2 B', '$8.2 B', '$8.2 B', '$8.2 B', '$8.2 B', '$8.2 B', '$8.1 B', '$8.1 B', '$8.1 B', '$8.1 B', '$8.1 B', '$8 B', '$8 B', '$8 B', '$8 B', '$8 B', '$8 B', '$8 B', '$7.9 B', '$7.9 B', '$7.9 B', '$7.9 B', '$7.9 B', '$7.9 B', '$7.9 B', '$7.9 B', '$7.8 B', '$7.8 B', '$7.8 B', '$7.8 B', '$7.8 B', '$7.8 B', '$7.7 B', '$7.7 B', '$7.7 B', '$7.7 B', '$7.7 B', '$7.7 B', '$7.7 B', '$7.7 B', '$7.6 B', '$7.6 B', '$7.6 B', '$7.6 B', '$7.6 B', '$7.6 B', '$7.6 B', '$7.6 B', '$7.6 B', '$7.5 B', '$7.5 B', '$7.5 B', '$7.5 B', '$7.5 B', '$7.5 B', '$7.4 B', '$7.4 B', '$7.4 B', '$7.4 B', '$7.4 B', '$7.4 B', '$7.4 B', '$7.3 B', '$7.3 B', '$7.3 B', '$7.3 B', '$7.3 B', '$7.2 B', '$7.2 B', '$7.2 B', '$7.2 B', '$7.2 B', '$7.2 B', '$7.2 B', '$7.2 B', '$7.1 B', '$7.1 B', '$7.1 B', '$7.1 B', '$7.1 B', '$7.1 B', '$7.1 B', '$7 B', '$7 B', '$7 B', '$7 B', '$7 B', '$7 B', '$7 B', '$7 B', '$7 B', '$7 B', '$7 B', '$7 B', '$6.9 B', '$6.9 B', '$6.9 B', '$6.9 B', '$6.9 B', '$6.9 B', '$6.9 B', '$6.9 B', '$6.8 B', '$6.8 B', '$6.8 B', '$6.8 B', '$6.8 B', '$6.8 B', '$6.8 B', '$6.8 B', '$6.8 B', '$6.8 B', '$6.8 B', '$6.8 B', '$6.8 B', '$6.7 B', '$6.7 B', '$6.7 B', '$6.7 B', '$6.7 B', '$6.7 B', '$6.7 B', '$6.7 B', '$6.7 B', '$6.7 B', '$6.7 B', '$6.7 B', '$6.7 B', '$6.7 B', '$6.7 B', '$6.7 B', '$6.7 B', '$6.7 B', '$6.6 B', '$6.6 B', '$6.6 B', '$6.6 B', '$6.6 B', '$6.6 B', '$6.6 B', '$6.5 B', '$6.5 B', '$6.5 B', '$6.5 B', '$6.5 B', '$6.5 B', '$6.5 B', '$6.4 B', '$6.4 B', '$6.4 B', '$6.4 B', '$6.4 B', '$6.4 B', '$6.4 B', '$6.4 B', '$6.3 B', '$6.3 B', '$6.3 B', '$6.3 B', '$6.3 B', '$6.3 B', '$6.2 B', '$6.2 B', '$6.2 B', '$6.2 B', '$6.2 B', '$6.2 B', '$6.2 B', '$6.1 B', '$6.1 B', '$6.1 B', '$6.1 B', '$6.1 B', '$6.1 B', '$6.1 B', '$6 B', '$6 B', '$6 B', '$6 B', '$6 B', '$6 B', '$6 B', '$6 B', '$6 B', '$6 B', '$6 B', '$6 B', '$5.9 B', '$5.9 B', '$5.9 B', '$5.9 B', '$5.9 B', '$5.8 B', '$5.8 B', '$5.8 B', '$5.7 B', '$5.7 B', '$5.7 B', '$5.7 B', '$5.7 B', '$5.7 B', '$5.7 B', '$5.7 B', '$5.7 B', '$5.7 B', '$5.6 B', '$5.6 B', '$5.6 B', '$5.6 B', '$5.6 B', '$5.6 B', '$5.6 B', '$5.6 B', '$5.6 B', '$5.6 B', '$5.6 B', '$5.5 B', '$5.5 B', '$5.5 B', '$5.5 B', '$5.5 B', '$5.5 B', '$5.5 B', '$5.5 B', '$5.5 B', '$5.5 B', '$5.5 B', '$5.5 B', '$5.5 B', '$5.5 B', '$5.5 B', '$5.5 B', '$5.5 B', '$5.5 B', '$5.5 B', '$5.5 B', '$5.4 B', '$5.4 B', '$5.4 B', '$5.4 B', '$5.4 B', '$5.4 B', '$5.4 B', '$5.4 B', '$5.4 B', '$5.4 B', '$5.4 B', '$5.3 B', '$5.3 B', '$5.3 B', '$5.3 B', '$5.3 B', '$5.3 B', '$5.3 B', '$5.3 B', '$5.3 B', '$5.3 B', '$5.3 B', '$5.3 B', '$5.3 B', '$5.3 B', '$5.2 B', '$5.2 B', '$5.2 B', '$5.2 B', '$5.2 B', '$5.2 B', '$5.2 B', '$5.2 B', '$5.2 B', '$5.2 B', '$5.2 B', '$5.2 B', '$5.1 B', '$5.1 B', '$5.1 B', '$5.1 B', '$5.1 B', '$5.1 B', '$5.1 B', '$5.1 B', '$5.1 B', '$5.1 B', '$5.1 B', '$5 B', '$5 B', '$5 B', '$5 B', '$5 B', '$5 B', '$5 B', '$5 B', '$5 B', '$5 B', '$5 B', '$5 B', '$5 B', '$5 B', '$5 B', '$5 B', '$5 B', '$5 B', '$4.9 B', '$4.9 B', '$4.9 B', '$4.9 B', '$4.9 B', '$4.9 B', '$4.9 B', '$4.9 B', '$4.9 B', '$4.9 B', '$4.9 B', '$4.9 B', '$4.9 B', '$4.9 B', '$4.9 B', '$4.8 B', '$4.8 B', '$4.8 B', '$4.8 B', '$4.8 B', '$4.8 B', '$4.8 B', '$4.8 B', '$4.8 B', '$4.8 B', '$4.8 B', '$4.8 B', '$4.8 B', '$4.7 B', '$4.7 B', '$4.7 B', '$4.7 B', '$4.7 B', '$4.7 B', '$4.7 B', '$4.7 B', '$4.7 B', '$4.7 B', '$4.7 B', '$4.6 B', '$4.6 B', '$4.6 B', '$4.6 B', '$4.6 B', '$4.6 B', '$4.6 B', '$4.6 B', '$4.6 B', '$4.6 B', '$4.6 B', '$4.6 B', '$4.6 B', '$4.6 B', '$4.6 B', '$4.6 B', '$4.6 B', '$4.6 B', '$4.6 B', '$4.6 B', '$4.5 B', '$4.5 B', '$4.5 B', '$4.5 B', '$4.5 B', '$4.5 B', '$4.5 B', '$4.5 B', '$4.5 B', '$4.5 B', '$4.5 B', '$4.5 B', '$4.5 B', '$4.4 B', '$4.4 B', '$4.4 B', '$4.4 B', '$4.4 B', '$4.4 B', '$4.4 B', '$4.4 B', '$4.4 B', '$4.4 B', '$4.4 B', '$4.4 B', '$4.3 B', '$4.3 B', '$4.3 B', '$4.3 B', '$4.3 B', '$4.3 B', '$4.3 B', '$4.3 B', '$4.3 B', '$4.3 B', '$4.3 B', '$4.3 B', '$4.3 B', '$4.3 B', '$4.3 B', '$4.3 B', '$4.3 B', '$4.3 B', '$4.3 B', '$4.3 B', '$4.3 B', '$4.3 B', '$4.3 B', '$4.2 B', '$4.2 B', '$4.2 B', '$4.2 B', '$4.2 B', '$4.2 B', '$4.2 B', '$4.2 B', '$4.2 B', '$4.2 B', '$4.2 B', '$4.2 B', '$4.2 B', '$4.2 B', '$4.2 B', '$4.2 B', '$4.2 B', '$4.2 B', '$4.2 B', '$4.2 B', '$4.1 B', '$4.1 B', '$4.1 B', '$4.1 B', '$4.1 B', '$4.1 B', '$4.1 B', '$4.1 B', '$4.1 B', '$4.1 B', '$4.1 B', '$4.1 B', '$4.1 B', '$4.1 B', '$4.1 B', '$4.1 B', '$4.1 B', '$4.1 B', '$4.1 B', '$4.1 B', '$4 B', '$4 B', '$4 B', '$4 B', '$4 B', '$4 B', '$4 B', '$4 B', '$4 B', '$4 B', '$4 B', '$4 B', '$4 B', '$4 B', '$4 B', '$4 B', '$4 B', '$4 B', '$4 B', '$4 B', '$4 B', '$4 B', '$3.9 B', '$3.9 B', '$3.9 B', '$3.9 B', '$3.9 B', '$3.9 B', '$3.9 B', '$3.9 B', '$3.9 B', '$3.9 B', '$3.9 B', '$3.9 B', '$3.9 B', '$3.9 B', '$3.9 B', '$3.9 B', '$3.9 B', '$3.9 B', '$3.9 B', '$3.9 B', '$3.9 B', '$3.9 B', '$3.9 B', '$3.9 B', '$3.9 B', '$3.9 B', '$3.9 B', '$3.8 B', '$3.8 B', '$3.8 B', '$3.8 B', '$3.8 B', '$3.8 B', '$3.8 B', '$3.8 B', '$3.8 B', '$3.8 B', '$3.8 B', '$3.8 B', '$3.8 B', '$3.8 B', '$3.8 B', '$3.8 B', '$3.8 B', '$3.8 B', '$3.7 B', '$3.7 B', '$3.7 B', '$3.7 B', '$3.7 B', '$3.7 B', '$3.7 B', '$3.7 B', '$3.7 B', '$3.7 B', '$3.7 B', '$3.7 B', '$3.7 B', '$3.7 B', '$3.7 B', '$3.7 B', '$3.7 B', '$3.7 B', '$3.7 B', '$3.7 B', '$3.7 B', '$3.6 B', '$3.6 B', '$3.6 B', '$3.6 B', '$3.6 B', '$3.6 B', '$3.6 B', '$3.6 B', '$3.6 B', '$3.6 B', '$3.6 B', '$3.6 B', '$3.6 B', '$3.6 B', '$3.6 B', '$3.6 B', '$3.6 B', '$3.6 B', '$3.6 B', '$3.6 B', '$3.6 B', '$3.6 B', '$3.6 B', '$3.6 B', '$3.6 B', '$3.6 B', '$3.6 B', '$3.6 B', '$3.6 B', '$3.6 B', '$3.6 B', '$3.5 B', '$3.5 B', '$3.5 B', '$3.5 B', '$3.5 B', '$3.5 B', '$3.5 B', '$3.5 B', '$3.5 B', '$3.5 B', '$3.5 B', '$3.5 B', '$3.5 B', '$3.5 B', '$3.5 B', '$3.5 B', '$3.5 B', '$3.5 B', '$3.5 B', '$3.5 B', '$3.5 B', '$3.5 B', '$3.5 B', '$3.5 B', '$3.5 B', '$3.5 B', '$3.5 B', '$3.5 B', '$3.5 B', '$3.5 B', '$3.5 B', '$3.5 B', '$3.5 B', '$3.5 B', '$3.4 B', '$3.4 B', '$3.4 B', '$3.4 B', '$3.4 B', '$3.4 B', '$3.4 B', '$3.4 B', '$3.4 B', '$3.4 B', '$3.4 B', '$3.4 B', '$3.4 B', '$3.4 B', '$3.4 B', '$3.4 B', '$3.4 B', '$3.4 B', '$3.4 B', '$3.4 B', '$3.4 B', '$3.4 B', '$3.4 B', '$3.4 B', '$3.4 B', '$3.4 B', '$3.3 B', '$3.3 B', '$3.3 B', '$3.3 B', '$3.3 B', '$3.3 B', '$3.3 B', '$3.3 B', '$3.3 B', '$3.3 B', '$3.3 B', '$3.3 B', '$3.3 B', '$3.3 B', '$3.3 B', '$3.3 B', '$3.3 B', '$3.3 B', '$3.3 B', '$3.3 B', '$3.3 B', '$3.3 B', '$3.3 B', '$3.3 B', '$3.3 B', '$3.3 B', '$3.3 B', '$3.2 B', '$3.2 B', '$3.2 B', '$3.2 B', '$3.2 B', '$3.2 B', '$3.2 B', '$3.2 B', '$3.2 B', '$3.2 B', '$3.2 B', '$3.2 B', '$3.2 B', '$3.2 B', '$3.2 B', '$3.2 B', '$3.2 B', '$3.2 B', '$3.2 B', '$3.2 B', '$3.2 B', '$3.2 B', '$3.2 B', '$3.2 B', '$3.2 B', '$3.2 B', '$3.2 B', '$3.2 B', '$3.2 B', '$3.2 B', '$3.2 B', '$3.2 B', '$3.2 B', '$3.2 B', '$3.2 B', '$3.2 B', '$3.2 B', '$3.2 B', '$3.2 B', '$3.2 B', '$3.2 B', '$3.2 B', '$3.2 B', '$3.2 B', '$3.1 B', '$3.1 B', '$3.1 B', '$3.1 B', '$3.1 B', '$3.1 B', '$3.1 B', '$3.1 B', '$3.1 B', '$3.1 B', '$3.1 B', '$3.1 B', '$3.1 B', '$3.1 B', '$3.1 B', '$3.1 B', '$3.1 B', '$3.1 B', '$3.1 B', '$3.1 B', '$3.1 B', '$3.1 B', '$3.1 B', '$3.1 B', '$3.1 B', '$3.1 B', '$3.1 B', '$3.1 B', '$3.1 B', '$3.1 B', '$3.1 B', '$3.1 B', '$3.1 B', '$3 B', '$3 B', '$3 B', '$3 B', '$3 B', '$3 B', '$3 B', '$3 B', '$3 B', '$3 B', '$3 B', '$3 B', '$3 B', '$3 B', '$3 B', '$3 B', '$3 B', '$3 B', '$3 B', '$3 B', '$3 B', '$3 B', '$3 B', '$3 B', '$3 B', '$3 B', '$3 B', '$3 B', '$3 B', '$3 B', '$3 B', '$3 B', '$3 B', '$3 B', '$3 B', '$3 B', '$3 B', '$3 B', '$3 B', '$3 B', '$3 B', '$3 B', '$3 B', '$3 B', '$3 B', '$2.9 B', '$2.9 B', '$2.9 B', '$2.9 B', '$2.9 B', '$2.9 B', '$2.9 B', '$2.9 B', '$2.9 B', '$2.9 B', '$2.9 B', '$2.9 B', '$2.9 B', '$2.9 B', '$2.9 B', '$2.9 B', '$2.9 B', '$2.9 B', '$2.9 B', '$2.9 B', '$2.9 B', '$2.9 B', '$2.9 B', '$2.9 B', '$2.9 B', '$2.9 B', '$2.9 B', '$2.9 B', '$2.9 B', '$2.9 B', '$2.9 B', '$2.9 B', '$2.9 B', '$2.9 B', '$2.9 B', '$2.9 B', '$2.9 B', '$2.9 B', '$2.9 B', '$2.9 B', '$2.8 B', '$2.8 B', '$2.8 B', '$2.8 B', '$2.8 B', '$2.8 B', '$2.8 B', '$2.8 B', '$2.8 B', '$2.8 B', '$2.8 B', '$2.8 B', '$2.8 B', '$2.8 B', '$2.8 B', '$2.8 B', '$2.8 B', '$2.8 B', '$2.8 B', '$2.8 B', '$2.8 B', '$2.8 B', '$2.8 B', '$2.8 B', '$2.8 B', '$2.8 B', '$2.8 B', '$2.8 B', '$2.8 B', '$2.8 B', '$2.8 B', '$2.8 B', '$2.8 B', '$2.8 B', '$2.8 B', '$2.8 B', '$2.8 B', '$2.7 B', '$2.7 B', '$2.7 B', '$2.7 B', '$2.7 B', '$2.7 B', '$2.7 B', '$2.7 B', '$2.7 B', '$2.7 B', '$2.7 B', '$2.7 B', '$2.7 B', '$2.7 B', '$2.7 B', '$2.7 B', '$2.7 B', '$2.7 B', '$2.7 B', '$2.7 B', '$2.7 B', '$2.7 B', '$2.7 B', '$2.7 B', '$2.7 B', '$2.7 B', '$2.7 B', '$2.7 B', '$2.7 B', '$2.7 B', '$2.7 B', '$2.7 B', '$2.7 B', '$2.7 B', '$2.7 B', '$2.7 B', '$2.7 B', '$2.7 B', '$2.7 B', '$2.7 B', '$2.7 B', '$2.7 B', '$2.7 B', '$2.7 B', '$2.7 B', '$2.7 B', '$2.7 B', '$2.7 B', '$2.7 B', '$2.7 B', '$2.7 B', '$2.7 B', '$2.7 B', '$2.7 B', '$2.7 B', '$2.7 B', '$2.7 B', '$2.7 B', '$2.7 B', '$2.7 B', '$2.6 B', '$2.6 B', '$2.6 B', '$2.6 B', '$2.6 B', '$2.6 B', '$2.6 B', '$2.6 B', '$2.6 B', '$2.6 B', '$2.6 B', '$2.6 B', '$2.6 B', '$2.6 B', '$2.6 B', '$2.6 B', '$2.6 B', '$2.6 B', '$2.6 B', '$2.6 B', '$2.6 B', '$2.6 B', '$2.6 B', '$2.6 B', '$2.6 B', '$2.6 B', '$2.6 B', '$2.6 B', '$2.6 B', '$2.6 B', '$2.6 B', '$2.6 B', '$2.6 B', '$2.6 B', '$2.6 B', '$2.6 B', '$2.6 B', '$2.6 B', '$2.6 B', '$2.6 B', '$2.6 B', '$2.6 B', '$2.6 B', '$2.6 B', '$2.6 B', '$2.6 B', '$2.6 B', '$2.6 B', '$2.6 B', '$2.6 B', '$2.6 B', '$2.6 B', '$2.6 B', '$2.5 B', '$2.5 B', '$2.5 B', '$2.5 B', '$2.5 B', '$2.5 B', '$2.5 B', '$2.5 B', '$2.5 B', '$2.5 B', '$2.5 B', '$2.5 B', '$2.5 B', '$2.5 B', '$2.5 B', '$2.5 B', '$2.5 B', '$2.5 B', '$2.5 B', '$2.5 B', '$2.5 B', '$2.5 B', '$2.5 B', '$2.5 B', '$2.5 B', '$2.5 B', '$2.5 B', '$2.5 B', '$2.5 B', '$2.5 B', '$2.5 B', '$2.5 B', '$2.5 B', '$2.5 B', '$2.5 B', '$2.5 B', '$2.5 B', '$2.5 B', '$2.5 B', '$2.5 B', '$2.5 B', '$2.5 B', '$2.5 B', '$2.5 B', '$2.5 B', '$2.5 B', '$2.5 B', '$2.5 B', '$2.5 B', '$2.5 B', '$2.5 B', '$2.5 B', '$2.5 B', '$2.5 B', '$2.5 B', '$2.4 B', '$2.4 B', '$2.4 B', '$2.4 B', '$2.4 B', '$2.4 B', '$2.4 B', '$2.4 B', '$2.4 B', '$2.4 B', '$2.4 B', '$2.4 B', '$2.4 B', '$2.4 B', '$2.4 B', '$2.4 B', '$2.4 B', '$2.4 B', '$2.4 B', '$2.4 B', '$2.4 B', '$2.4 B', '$2.4 B', '$2.4 B', '$2.4 B', '$2.4 B', '$2.4 B', '$2.4 B', '$2.4 B', '$2.4 B', '$2.4 B', '$2.4 B', '$2.4 B', '$2.4 B', '$2.4 B', '$2.4 B', '$2.4 B', '$2.4 B', '$2.4 B', '$2.4 B', '$2.3 B', '$2.3 B', '$2.3 B', '$2.3 B', '$2.3 B', '$2.3 B', '$2.3 B', '$2.3 B', '$2.3 B', '$2.3 B', '$2.3 B', '$2.3 B', '$2.3 B', '$2.3 B', '$2.3 B', '$2.3 B', '$2.3 B', '$2.3 B', '$2.3 B', '$2.3 B', '$2.3 B', '$2.3 B', '$2.3 B', '$2.3 B', '$2.3 B', '$2.3 B', '$2.3 B', '$2.3 B', '$2.3 B', '$2.3 B', '$2.3 B', '$2.3 B', '$2.3 B', '$2.3 B', '$2.3 B', '$2.3 B', '$2.3 B', '$2.3 B', '$2.3 B', '$2.3 B', '$2.3 B', '$2.3 B', '$2.3 B', '$2.3 B', '$2.3 B', '$2.3 B', '$2.3 B', '$2.3 B', '$2.3 B', '$2.3 B', '$2.3 B', '$2.3 B', '$2.3 B', '$2.3 B', '$2.3 B', '$2.3 B', '$2.2 B', '$2.2 B', '$2.2 B', '$2.2 B', '$2.2 B', '$2.2 B', '$2.2 B', '$2.2 B', '$2.2 B', '$2.2 B', '$2.2 B', '$2.2 B', '$2.2 B', '$2.2 B', '$2.2 B', '$2.2 B', '$2.2 B', '$2.2 B', '$2.2 B', '$2.2 B', '$2.2 B', '$2.2 B', '$2.2 B', '$2.2 B', '$2.2 B', '$2.2 B', '$2.2 B', '$2.2 B', '$2.2 B', '$2.2 B', '$2.2 B', '$2.2 B', '$2.2 B', '$2.2 B', '$2.2 B', '$2.2 B', '$2.2 B', '$2.2 B', '$2.2 B', '$2.2 B', '$2.2 B', '$2.2 B', '$2.2 B', '$2.2 B', '$2.2 B', '$2.2 B', '$2.2 B', '$2.2 B', '$2.2 B', '$2.2 B', '$2.2 B', '$2.2 B', '$2.2 B', '$2.2 B', '$2.2 B', '$2.2 B', '$2.2 B', '$2.2 B', '$2.2 B', '$2.2 B', '$2.2 B', '$2.2 B', '$2.2 B', '$2.2 B', '$2.2 B', '$2.2 B', '$2.1 B', '$2.1 B', '$2.1 B', '$2.1 B', '$2.1 B', '$2.1 B', '$2.1 B', '$2.1 B', '$2.1 B', '$2.1 B', '$2.1 B', '$2.1 B', '$2.1 B', '$2.1 B', '$2.1 B', '$2.1 B', '$2.1 B', '$2.1 B', '$2.1 B', '$2.1 B', '$2.1 B', '$2.1 B', '$2.1 B', '$2.1 B', '$2.1 B', '$2.1 B', '$2.1 B', '$2.1 B', '$2.1 B', '$2.1 B', '$2.1 B', '$2.1 B', '$2.1 B', '$2.1 B', '$2.1 B', '$2.1 B', '$2.1 B', '$2.1 B', '$2.1 B', '$2.1 B', '$2.1 B', '$2.1 B', '$2.1 B', '$2.1 B', '$2.1 B', '$2.1 B', '$2.1 B', '$2.1 B', '$2.1 B', '$2.1 B', '$2.1 B', '$2.1 B', '$2.1 B', '$2.1 B', '$2.1 B', '$2.1 B', '$2.1 B', '$2.1 B', '$2.1 B', '$2.1 B', '$2.1 B', '$2.1 B', '$2.1 B', '$2.1 B', '$2.1 B', '$2.1 B', '$2.1 B', '$2.1 B', '$2.1 B', '$2.1 B', '$2.1 B', '$2.1 B', '$2.1 B', '$2.1 B', '$2.1 B', '$2.1 B', '$2.1 B', '$2.1 B', '$2.1 B', '$2.1 B', '$2.1 B', '$2.1 B', '$2 B', '$2 B', '$2 B', '$2 B', '$2 B', '$2 B', '$2 B', '$2 B', '$2 B', '$2 B', '$2 B', '$2 B', '$2 B', '$2 B', '$2 B', '$2 B', '$2 B', '$2 B', '$2 B', '$2 B', '$2 B', '$2 B', '$2 B', '$2 B', '$2 B', '$2 B', '$2 B', '$2 B', '$2 B', '$2 B', '$2 B', '$2 B', '$2 B', '$2 B', '$2 B', '$2 B', '$2 B', '$2 B', '$2 B', '$2 B', '$2 B', '$2 B', '$2 B', '$2 B', '$2 B', '$2 B', '$2 B', '$2 B', '$2 B', '$2 B', '$2 B', '$2 B', '$2 B', '$2 B', '$2 B', '$2 B', '$2 B', '$2 B', '$2 B', '$1.9 B', '$1.9 B', '$1.9 B', '$1.9 B', '$1.9 B', '$1.9 B', '$1.9 B', '$1.9 B', '$1.9 B', '$1.9 B', '$1.9 B', '$1.9 B', '$1.9 B', '$1.9 B', '$1.9 B', '$1.9 B', '$1.9 B', '$1.9 B', '$1.9 B', '$1.9 B', '$1.9 B', '$1.9 B', '$1.9 B', '$1.9 B', '$1.9 B', '$1.9 B', '$1.9 B', '$1.9 B', '$1.9 B', '$1.9 B', '$1.9 B', '$1.9 B', '$1.9 B', '$1.9 B', '$1.9 B', '$1.9 B', '$1.9 B', '$1.9 B', '$1.9 B', '$1.9 B', '$1.9 B', '$1.9 B', '$1.9 B', '$1.9 B', '$1.9 B', '$1.9 B', '$1.9 B', '$1.9 B', '$1.9 B', '$1.9 B', '$1.9 B', '$1.9 B', '$1.9 B', '$1.9 B', '$1.9 B', '$1.9 B', '$1.9 B', '$1.9 B', '$1.9 B', '$1.9 B', '$1.9 B', '$1.9 B', '$1.9 B', '$1.9 B', '$1.9 B', '$1.9 B', '$1.9 B', '$1.9 B', '$1.9 B', '$1.9 B', '$1.9 B', '$1.9 B', '$1.8 B', '$1.8 B', '$1.8 B', '$1.8 B', '$1.8 B', '$1.8 B', '$1.8 B', '$1.8 B', '$1.8 B', '$1.8 B', '$1.8 B', '$1.8 B', '$1.8 B', '$1.8 B', '$1.8 B', '$1.8 B', '$1.8 B', '$1.8 B', '$1.8 B', '$1.8 B', '$1.8 B', '$1.8 B', '$1.8 B', '$1.8 B', '$1.8 B', '$1.8 B', '$1.8 B', '$1.8 B', '$1.8 B', '$1.8 B', '$1.8 B', '$1.8 B', '$1.8 B', '$1.8 B', '$1.8 B', '$1.8 B', '$1.8 B', '$1.8 B', '$1.8 B', '$1.8 B', '$1.8 B', '$1.8 B', '$1.8 B', '$1.8 B', '$1.8 B', '$1.8 B', '$1.8 B', '$1.8 B', '$1.8 B', '$1.8 B', '$1.8 B', '$1.8 B', '$1.8 B', '$1.8 B', '$1.8 B', '$1.8 B', '$1.8 B', '$1.8 B', '$1.8 B', '$1.8 B', '$1.8 B', '$1.8 B', '$1.8 B', '$1.8 B', '$1.8 B', '$1.8 B', '$1.8 B', '$1.8 B', '$1.8 B', '$1.8 B', '$1.8 B', '$1.8 B', '$1.8 B', '$1.8 B', '$1.8 B', '$1.8 B', '$1.8 B', '$1.8 B', '$1.7 B', '$1.7 B', '$1.7 B', '$1.7 B', '$1.7 B', '$1.7 B', '$1.7 B', '$1.7 B', '$1.7 B', '$1.7 B', '$1.7 B', '$1.7 B', '$1.7 B', '$1.7 B', '$1.7 B', '$1.7 B', '$1.7 B', '$1.7 B', '$1.7 B', '$1.7 B', '$1.7 B', '$1.7 B', '$1.7 B', '$1.7 B', '$1.7 B', '$1.7 B', '$1.7 B', '$1.7 B', '$1.7 B', '$1.7 B', '$1.7 B', '$1.7 B', '$1.7 B', '$1.7 B', '$1.7 B', '$1.7 B', '$1.7 B', '$1.7 B', '$1.7 B', '$1.7 B', '$1.7 B', '$1.7 B', '$1.7 B', '$1.7 B', '$1.7 B', '$1.7 B', '$1.7 B', '$1.7 B', '$1.7 B', '$1.7 B', '$1.7 B', '$1.7 B', '$1.7 B', '$1.7 B', '$1.7 B', '$1.7 B', '$1.7 B', '$1.7 B', '$1.7 B', '$1.7 B', '$1.7 B', '$1.7 B', '$1.7 B', '$1.7 B', '$1.7 B', '$1.7 B', '$1.7 B', '$1.7 B', '$1.7 B', '$1.7 B', '$1.7 B', '$1.7 B', '$1.7 B', '$1.7 B', '$1.7 B', '$1.7 B', '$1.7 B', '$1.7 B', '$1.7 B', '$1.6 B', '$1.6 B', '$1.6 B', '$1.6 B', '$1.6 B', '$1.6 B', '$1.6 B', '$1.6 B', '$1.6 B', '$1.6 B', '$1.6 B', '$1.6 B', '$1.6 B', '$1.6 B', '$1.6 B', '$1.6 B', '$1.6 B', '$1.6 B', '$1.6 B', '$1.6 B', '$1.6 B', '$1.6 B', '$1.6 B', '$1.6 B', '$1.6 B', '$1.6 B', '$1.6 B', '$1.6 B', '$1.6 B', '$1.6 B', '$1.6 B', '$1.6 B', '$1.6 B', '$1.6 B', '$1.6 B', '$1.6 B', '$1.6 B', '$1.6 B', '$1.6 B', '$1.6 B', '$1.6 B', '$1.6 B', '$1.6 B', '$1.6 B', '$1.6 B', '$1.6 B', '$1.6 B', '$1.6 B', '$1.6 B', '$1.6 B', '$1.6 B', '$1.6 B', '$1.6 B', '$1.6 B', '$1.6 B', '$1.6 B', '$1.6 B', '$1.6 B', '$1.6 B', '$1.6 B', '$1.6 B', '$1.6 B', '$1.6 B', '$1.6 B', '$1.6 B', '$1.6 B', '$1.6 B', '$1.6 B', '$1.6 B', '$1.6 B', '$1.6 B', '$1.6 B', '$1.6 B', '$1.6 B', '$1.6 B', '$1.6 B', '$1.6 B', '$1.6 B', '$1.6 B', '$1.6 B', '$1.6 B', '$1.6 B', '$1.6 B', '$1.6 B', '$1.6 B', '$1.6 B', '$1.6 B', '$1.6 B', '$1.6 B', '$1.6 B', '$1.6 B', '$1.6 B', '$1.6 B', '$1.6 B', '$1.6 B', '$1.6 B', '$1.6 B', '$1.6 B', '$1.6 B', '$1.6 B', '$1.6 B', '$1.5 B', '$1.5 B', '$1.5 B', '$1.5 B', '$1.5 B', '$1.5 B', '$1.5 B', '$1.5 B', '$1.5 B', '$1.5 B', '$1.5 B', '$1.5 B', '$1.5 B', '$1.5 B', '$1.5 B', '$1.5 B', '$1.5 B', '$1.5 B', '$1.5 B', '$1.5 B', '$1.5 B', '$1.5 B', '$1.5 B', '$1.5 B', '$1.5 B', '$1.5 B', '$1.5 B', '$1.5 B', '$1.5 B', '$1.5 B', '$1.5 B', '$1.5 B', '$1.5 B', '$1.5 B', '$1.5 B', '$1.5 B', '$1.5 B', '$1.5 B', '$1.5 B', '$1.5 B', '$1.5 B', '$1.5 B', '$1.5 B', '$1.5 B', '$1.5 B', '$1.5 B', '$1.5 B', '$1.5 B', '$1.5 B', '$1.5 B', '$1.5 B', '$1.5 B', '$1.5 B', '$1.5 B', '$1.5 B', '$1.5 B', '$1.5 B', '$1.5 B', '$1.5 B', '$1.5 B', '$1.5 B', '$1.5 B', '$1.5 B', '$1.5 B', '$1.5 B', '$1.5 B', '$1.5 B', '$1.5 B', '$1.5 B', '$1.5 B', '$1.5 B', '$1.5 B', '$1.5 B', '$1.5 B', '$1.5 B', '$1.5 B', '$1.5 B', '$1.5 B', '$1.5 B', '$1.5 B', '$1.5 B', '$1.5 B', '$1.5 B', '$1.5 B', '$1.5 B', '$1.5 B', '$1.5 B', '$1.5 B', '$1.5 B', '$1.5 B', '$1.5 B', '$1.5 B', '$1.5 B', '$1.5 B', '$1.5 B', '$1.5 B', '$1.5 B', '$1.5 B', '$1.5 B', '$1.5 B', '$1.5 B', '$1.5 B', '$1.5 B', '$1.5 B', '$1.5 B', '$1.5 B', '$1.5 B', '$1.5 B', '$1.5 B', '$1.5 B', '$1.5 B', '$1.5 B', '$1.5 B', '$1.5 B', '$1.5 B', '$1.4 B', '$1.4 B', '$1.4 B', '$1.4 B', '$1.4 B', '$1.4 B', '$1.4 B', '$1.4 B', '$1.4 B', '$1.4 B', '$1.4 B', '$1.4 B', '$1.4 B', '$1.4 B', '$1.4 B', '$1.4 B', '$1.4 B', '$1.4 B', '$1.4 B', '$1.4 B', '$1.4 B', '$1.4 B', '$1.4 B', '$1.4 B', '$1.4 B', '$1.4 B', '$1.4 B', '$1.4 B', '$1.4 B', '$1.4 B', '$1.4 B', '$1.4 B', '$1.4 B', '$1.4 B', '$1.4 B', '$1.4 B', '$1.4 B', '$1.4 B', '$1.4 B', '$1.4 B', '$1.4 B', '$1.4 B', '$1.4 B', '$1.4 B', '$1.4 B', '$1.4 B', '$1.4 B', '$1.4 B', '$1.4 B', '$1.4 B', '$1.4 B', '$1.4 B', '$1.4 B', '$1.4 B', '$1.4 B', '$1.4 B', '$1.4 B', '$1.4 B', '$1.4 B', '$1.4 B', '$1.4 B', '$1.4 B', '$1.4 B', '$1.4 B', '$1.4 B', '$1.4 B', '$1.4 B', '$1.4 B', '$1.4 B', '$1.4 B', '$1.4 B', '$1.4 B', '$1.4 B', '$1.4 B', '$1.4 B', '$1.4 B', '$1.4 B', '$1.4 B', '$1.4 B', '$1.4 B', '$1.4 B', '$1.4 B', '$1.4 B', '$1.4 B', '$1.4 B', '$1.4 B', '$1.4 B', '$1.4 B', '$1.4 B', '$1.4 B', '$1.4 B', '$1.4 B', '$1.4 B', '$1.4 B', '$1.4 B', '$1.4 B', '$1.4 B', '$1.4 B', '$1.4 B', '$1.4 B', '$1.4 B', '$1.4 B', '$1.4 B', '$1.4 B', '$1.4 B', '$1.4 B', '$1.4 B', '$1.4 B', '$1.4 B', '$1.4 B', '$1.4 B', '$1.4 B', '$1.4 B', '$1.3 B', '$1.3 B', '$1.3 B', '$1.3 B', '$1.3 B', '$1.3 B', '$1.3 B', '$1.3 B', '$1.3 B', '$1.3 B', '$1.3 B', '$1.3 B', '$1.3 B', '$1.3 B', '$1.3 B', '$1.3 B', '$1.3 B', '$1.3 B', '$1.3 B', '$1.3 B', '$1.3 B', '$1.3 B', '$1.3 B', '$1.3 B', '$1.3 B', '$1.3 B', '$1.3 B', '$1.3 B', '$1.3 B', '$1.3 B', '$1.3 B', '$1.3 B', '$1.3 B', '$1.3 B', '$1.3 B', '$1.3 B', '$1.3 B', '$1.3 B', '$1.3 B', '$1.3 B', '$1.3 B', '$1.3 B', '$1.3 B', '$1.3 B', '$1.3 B', '$1.3 B', '$1.3 B', '$1.3 B', '$1.3 B', '$1.3 B', '$1.3 B', '$1.3 B', '$1.3 B', '$1.3 B', '$1.3 B', '$1.3 B', '$1.3 B', '$1.3 B', '$1.3 B', '$1.3 B', '$1.3 B', '$1.3 B', '$1.3 B', '$1.3 B', '$1.3 B', '$1.3 B', '$1.3 B', '$1.3 B', '$1.3 B', '$1.3 B', '$1.3 B', '$1.3 B', '$1.3 B', '$1.3 B', '$1.3 B', '$1.3 B', '$1.3 B', '$1.3 B', '$1.3 B', '$1.3 B', '$1.3 B', '$1.3 B', '$1.3 B', '$1.3 B', '$1.3 B', '$1.3 B', '$1.3 B', '$1.3 B', '$1.3 B', '$1.3 B', '$1.3 B', '$1.3 B', '$1.3 B', '$1.3 B', '$1.3 B', '$1.3 B', '$1.3 B', '$1.3 B', '$1.3 B', '$1.3 B', '$1.3 B', '$1.3 B', '$1.3 B', '$1.3 B', '$1.3 B', '$1.3 B', '$1.3 B', '$1.3 B', '$1.3 B', '$1.3 B', '$1.3 B', '$1.3 B', '$1.3 B', '$1.3 B', '$1.3 B', '$1.3 B', '$1.3 B', '$1.3 B', '$1.3 B', '$1.3 B', '$1.3 B', '$1.3 B', '$1.3 B', '$1.3 B', '$1.3 B', '$1.3 B', '$1.2 B', '$1.2 B', '$1.2 B', '$1.2 B', '$1.2 B', '$1.2 B', '$1.2 B', '$1.2 B', '$1.2 B', '$1.2 B', '$1.2 B', '$1.2 B', '$1.2 B', '$1.2 B', '$1.2 B', '$1.2 B', '$1.2 B', '$1.2 B', '$1.2 B', '$1.2 B', '$1.2 B', '$1.2 B', '$1.2 B', '$1.2 B', '$1.2 B', '$1.2 B', '$1.2 B', '$1.2 B', '$1.2 B', '$1.2 B', '$1.2 B', '$1.2 B', '$1.2 B', '$1.2 B', '$1.2 B', '$1.2 B', '$1.2 B', '$1.2 B', '$1.2 B', '$1.2 B', '$1.2 B', '$1.2 B', '$1.2 B', '$1.2 B', '$1.2 B', '$1.2 B', '$1.2 B', '$1.2 B', '$1.2 B', '$1.2 B', '$1.2 B', '$1.2 B', '$1.2 B', '$1.2 B', '$1.2 B', '$1.2 B', '$1.2 B', '$1.2 B', '$1.2 B', '$1.2 B', '$1.2 B', '$1.2 B', '$1.2 B', '$1.2 B', '$1.2 B', '$1.2 B', '$1.2 B', '$1.2 B', '$1.2 B', '$1.2 B', '$1.2 B', '$1.2 B', '$1.2 B', '$1.2 B', '$1.2 B', '$1.2 B', '$1.2 B', '$1.2 B', '$1.2 B', '$1.2 B', '$1.2 B', '$1.2 B', '$1.2 B', '$1.2 B', '$1.2 B', '$1.2 B', '$1.2 B', '$1.2 B', '$1.2 B', '$1.2 B', '$1.2 B', '$1.2 B', '$1.2 B', '$1.2 B', '$1.2 B', '$1.2 B', '$1.2 B', '$1.2 B', '$1.2 B', '$1.2 B', '$1.2 B', '$1.2 B', '$1.2 B', '$1.2 B', '$1.2 B', '$1.2 B', '$1.2 B', '$1.2 B', '$1.2 B', '$1.2 B', '$1.2 B', '$1.2 B', '$1.2 B', '$1.2 B', '$1.2 B', '$1.2 B', '$1.2 B', '$1.2 B', '$1.2 B', '$1.2 B', '$1.2 B', '$1.2 B', '$1.2 B', '$1.2 B', '$1.2 B', '$1.2 B', '$1.2 B', '$1.2 B', '$1.2 B', '$1.2 B', '$1.2 B', '$1.2 B', '$1.2 B', '$1.2 B', '$1.2 B', '$1.2 B', '$1.2 B', '$1.2 B', '$1.2 B', '$1.2 B', '$1.2 B', '$1.2 B', '$1.2 B', '$1.2 B', '$1.2 B', '$1.2 B', '$1.1 B', '$1.1 B', '$1.1 B', '$1.1 B', '$1.1 B', '$1.1 B', '$1.1 B', '$1.1 B', '$1.1 B', '$1.1 B', '$1.1 B', '$1.1 B', '$1.1 B', '$1.1 B', '$1.1 B', '$1.1 B', '$1.1 B', '$1.1 B', '$1.1 B', '$1.1 B', '$1.1 B', '$1.1 B', '$1.1 B', '$1.1 B', '$1.1 B', '$1.1 B', '$1.1 B', '$1.1 B', '$1.1 B', '$1.1 B', '$1.1 B', '$1.1 B', '$1.1 B', '$1.1 B', '$1.1 B', '$1.1 B', '$1.1 B', '$1.1 B', '$1.1 B', '$1.1 B', '$1.1 B', '$1.1 B', '$1.1 B', '$1.1 B', '$1.1 B', '$1.1 B', '$1.1 B', '$1.1 B', '$1.1 B', '$1.1 B', '$1.1 B', '$1.1 B', '$1.1 B', '$1.1 B', '$1.1 B', '$1.1 B', '$1.1 B', '$1.1 B', '$1.1 B', '$1.1 B', '$1.1 B', '$1.1 B', '$1.1 B', '$1.1 B', '$1.1 B', '$1.1 B', '$1.1 B', '$1.1 B', '$1.1 B', '$1.1 B', '$1.1 B', '$1.1 B', '$1.1 B', '$1.1 B', '$1.1 B', '$1.1 B', '$1.1 B', '$1.1 B', '$1.1 B', '$1.1 B', '$1.1 B', '$1.1 B', '$1.1 B', '$1.1 B', '$1.1 B', '$1.1 B', '$1.1 B', '$1.1 B', '$1.1 B', '$1.1 B', '$1.1 B', '$1.1 B', '$1.1 B', '$1.1 B', '$1.1 B', '$1.1 B', '$1.1 B', '$1.1 B', '$1.1 B', '$1.1 B', '$1.1 B', '$1.1 B', '$1.1 B', '$1.1 B', '$1.1 B', '$1.1 B', '$1.1 B', '$1.1 B', '$1.1 B', '$1.1 B', '$1.1 B', '$1.1 B', '$1.1 B', '$1.1 B', '$1.1 B', '$1.1 B', '$1.1 B', '$1.1 B', '$1.1 B', '$1.1 B', '$1.1 B', '$1.1 B', '$1.1 B', '$1.1 B', '$1.1 B', '$1.1 B', '$1.1 B', '$1.1 B', '$1.1 B', '$1.1 B', '$1.1 B', '$1.1 B', '$1.1 B', '$1.1 B', '$1.1 B', '$1 B', '$1 B', '$1 B', '$1 B', '$1 B', '$1 B', '$1 B', '$1 B', '$1 B', '$1 B', '$1 B', '$1 B', '$1 B', '$1 B', '$1 B', '$1 B', '$1 B', '$1 B', '$1 B', '$1 B', '$1 B', '$1 B', '$1 B', '$1 B', '$1 B', '$1 B', '$1 B', '$1 B', '$1 B', '$1 B', '$1 B', '$1 B', '$1 B', '$1 B', '$1 B', '$1 B', '$1 B', '$1 B', '$1 B', '$1 B', '$1 B', '$1 B', '$1 B', '$1 B', '$1 B', '$1 B', '$1 B', '$1 B', '$1 B', '$1 B', '$1 B', '$1 B', '$1 B', '$1 B', '$1 B', '$1 B', '$1 B', '$1 B', '$1 B', '$1 B', '$1 B', '$1 B', '$1 B', '$1 B', '$1 B', '$1 B', '$1 B', '$1 B', '$1 B', '$1 B', '$1 B', '$1 B', '$1 B', '$1 B', '$1 B', '$1 B', '$1 B', '$1 B', '$1 B', '$1 B', '$1 B', '$1 B', '$1 B', '$1 B', '$1 B', '$1 B', '$1 B', '$1 B', '$1 B', '$1 B', '$1 B', '$1 B', '$1 B', '$1 B', '$1 B', '$1 B', '$1 B', '$1 B', '$1 B', '$1 B', '$1 B']\n"
     ]
    }
   ],
   "source": [
    "print(networth)"
   ]
  },
  {
   "cell_type": "code",
   "execution_count": 124,
   "id": "0f96637c",
   "metadata": {},
   "outputs": [
    {
     "name": "stdout",
     "output_type": "stream",
     "text": [
      "['74', '51', '59', '78', '92', '67', '81', '83', '65', '67', '69', '50', '87', '49', '68', '38', '87', '60', '74', '78', '73', '65', '58', '60', '85', '39', '83', '86', '85', '58', '83', '87', '94', '51', '77', '54', '30', '54', '74', '65', '74', '72', '82', '78', '43', '87', '95', '64', '84', '76', '60', '69', '51', '69', '77', '74', '78', '51', '56', '52', '82', '62', '58', '80', '80', '83', '70', '81', '65', '66', '52', '61', '67', '36', '52', '60', '90', '77', '57', '72', '84', '61', '73', '59', '55', '72', '57', '57', '77', '65', '70', '61', '72', '66', '87', '73', '90', '83', '92', '70', '72', '55', '72', '75', '67', '55', '67', 'N/A', 'N/A', '83', '76', '67', '45', '68', '56', '83', '81', '78', '68', '56', '59', '69', '95', '55', '65', '93', '67', '57', '94', '78', '76', '47', '80', '80', '71', '60', '90', '64', '75', '58', '57', '50', '69', '72', '59', '99', '82', '38', '73', '73', '59', '50', '74', '69', '62', '57', '88', '72', '58', '51', '83', '85', '67', '93', '81', '73', '57', '39', '45', '70', '43', '60', '82', '64', '74', '41', '58', '74', '43', '81', '59', '85', '74', '74', '80', '51', '53', '55', '75', '63', '59', '53', '76', '64', '70', '70', '67', '58', '62', '64', '66', '71', '94', '57', '44', '41', '75', '56', '79', '47', '82', '77', '85', '63', '72', '66', '55', '73', '57', '68', '63', '70', '47', '71', '49', '38', '55', '64', '72', '52', '79', '71', '67', '68', '79', '75', '73', '67', '47', '74', '55', '75', '77', '72', '77', '75', '81', 'N/A', '75', '61', '62', '79', '91', '68', '41', '69', '66', '65', '58', '54', '39', '66', '93', '85', '60', '58', '76', '52', '52', '71', '54', '54', '72', '57', '50', '73', '66', '94', '53', '58', '75', '55', '42', '80', '54', '71', '68', '68', '61', '54', '89', '67', '41', '64', '66', '85', '59', '62', '80', '85', '59', '68', '79', '52', '80', '70', '59', '71', '72', '62', '81', '91', '59', '50', '63', '55', '65', '72', '68', '79', '78', '41', '61', '77', '79', '76', '61', '66', '72', '94', '71', '58', '37', '41', '77', '80', '83', '74', '55', '58', '69', '67', '71', '62', '87', '89', '55', '58', '80', '54', '68', '59', '86', '55', '40', '53', '58', '61', '94', '53', '61', '65', '58', '61', '72', '56', '75', '47', '44', '80', '55', '60', '54', '55', '72', '84', '83', '92', '71', '39', '81', '65', '47', '68', '70', '67', '78', '63', '47', '80', '58', '91', '93', '84', '81', '51', '71', '62', '69', '59', '60', '56', '90', '88', '77', '58', '66', '85', '59', '96', '59', '85', '89', '59', '59', '51', '60', '69', '58', '79', '72', '81', '65', '53', '64', '46', '85', '74', '63', '65', '88', '86', '92', '76', '71', '85', '60', '93', '61', '62', '66', '58', '75', '70', '56', '88', '76', '93', '71', '77', '83', '51', '59', '56', '41', '79', '52', '81', '87', '56', '65', '69', '51', '65', '59', '73', '65', '66', '32', '34', '93', '77', '58', '95', '68', '81', '58', '66', '78', '57', '78', '80', '80', '68', '56', '77', '81', '43', '68', '58', '77', '73', '70', '58', '59', '71', '49', '64', '60', '59', '65', '78', '72', '80', '86', '78', '62', '81', '77', '67', '56', '53', '59', '71', '71', '85', '73', '82', '49', '74', '78', '81', '49', '59', '90', '49', '61', '64', '65', '71', '75', '88', '72', '79', '75', '55', '43', '69', '56', '50', '57', '50', '83', '78', '86', '57', '64', '59', '64', '66', 'N/A', '79', '72', '81', 'N/A', '81', '53', '67', '94', '77', '86', '72', '58', '60', '67', '50', '58', '50', '79', '69', '64', '67', '66', '68', '64', '63', '70', '78', '62', '88', '76', '78', '63', '54', '68', '77', '50', '68', '76', '52', '61', '64', '96', '46', '56', '62', '55', '79', '54', '45', '56', '69', '71', '65', '79', '78', '62', '34', '52', '66', '55', '82', '56', '54', '83', '76', '71', '60', '70', '41', '59', '72', '65', '50', '89', '88', '63', '64', '81', '58', '67', '71', '66', '65', '54', '59', '46', '63', '49', '61', '91', '90', '61', '62', '56', '55', '60', '58', '61', '75', '54', '64', '66', '65', '42', '74', '58', '83', '65', '68', '82', '57', '87', '82', '72', '74', '82', '53', '55', '59', '68', '60', '73', '58', '40', '73', '71', '55', '68', '83', '83', '87', '74', '70', '54', '66', '55', '83', '56', '73', '61', '66', '76', '63', '88', '82', '60', '57', '80', '48', '75', '56', '77', '73', '46', '61', '51', '65', '42', '79', '63', '67', '80', '90', '68', '76', '75', '69', '74', '73', '76', '72', '73', '91', '65', '85', '67', '83', '83', '94', '63', 'N/A', '69', '78', '76', '63', '60', '56', '50', '44', '62', '63', '70', '79', '73', '57', '60', '63', '80', '81', '61', '63', '69', '61', '87', '41', '64', '82', '71', '58', '54', '73', '77', '77', '77', '51', '76', '71', '56', '59', '66', '56', '50', '60', '77', '47', '68', '78', '62', '88', '62', '75', '69', '82', '74', '56', '56', '53', '71', '63', '47', '84', '82', '65', '60', '59', '61', '80', '53', '37', '83', '71', '67', '75', '67', '84', '37', '35', '58', '73', '82', '63', '80', '60', '61', '57', '54', '33', '65', '62', '87', '76', '66', '18', '27', '21', '64', '61', '70', '57', '58', '65', '81', '54', '61', '60', '90', '88', '76', '71', '61', 'N/A', '66', '45', '70', '75', '58', '54', '65', '65', '56', '56', '55', '52', '69', '50', '52', '72', '64', '63', '84', '86', '75', '66', '62', '68', '58', '72', '81', '88', '65', '59', '81', '54', '52', '53', '75', '75', '49', '81', '56', '77', '68', '79', '55', '88', '72', '82', '59', '78', '79', '77', '77', '88', '68', '55', '54', '71', '38', '48', '74', '59', '53', '73', '53', '85', '87', '82', '70', '64', '69', '84', '86', '53', '70', '56', '85', '55', '67', '60', '69', '60', '71', '52', '55', '54', '59', '68', '61', '72', '86', '69', '73', '70', '71', '84', '77', '60', '66', '66', '52', '48', '53', '67', '67', '81', '65', '87', '76', '53', '37', '55', '72', '75', '77', '85', '50', '46', '62', '82', '73', '73', '52', '90', '71', '67', '59', '46', '67', '66', '71', '59', '51', '63', '79', '67', '80', '74', '35', '74', '53', 'N/A', '94', '61', '85', '90', '66', '70', '80', 'N/A', '60', '63', '73', '95', '78', '76', '57', '62', '65', '76', '75', '66', '64', '67', '71', '51', '73', '67', '71', '59', '68', '67', '67', '71', '86', '64', '55', '54', '63', '60', '73', '65', '42', '60', '50', '65', '69', '82', '65', '60', '70', '79', '66', '78', '92', '79', '74', '73', '75', '68', '73', '56', '38', '49', '66', '57', '61', '55', '54', '87', '90', '89', '50', '52', '87', '73', '65', '43', '78', '73', '48', '85', '46', '59', '61', '62', '66', '74', '44', '75', '69', '52', '72', '90', '53', '54', 'N/A', '81', '74', '56', '58', '54', '86', '67', '78', '86', '71', '69', '67', 'N/A', 'N/A', '50', '76', '43', '77', '41', '73', '61', '85', '66', '61', '79', '56', '77', '81', '84', '70', '68', '74', '72', 'N/A', '59', '57', '56', '80', '65', '63', '61', '78', '57', '84', '72', '58', '72', '57', '43', '57', '57', '92', '71', '37', '31', '71', '63', '78', '62', '59', '54', '77', '61', '64', 'N/A', '76', '69', '58', '79', '84', '75', '70', '55', '68', '63', 'N/A', '75', '55', '32', '81', '52', '65', '29', '58', '61', '59', '53', '54', '56', '60', '51', '50', '46', '48', '58', '64', '47', '71', '81', '67', '54', '79', '61', '54', '58', '85', '58', '75', '54', '69', '40', '77', '76', '66', '59', '47', '69', '52', '95', '84', '76', '61', '60', '55', '58', '79', '46', '57', '81', '70', '77', '67', '51', '69', 'N/A', '57', '52', '57', '52', '98', '74', '77', '78', '71', '56', '91', '85', '81', '39', '75', '75', '79', '75', '72', '55', '57', '67', '61', '73', '73', '70', '64', '74', '53', '74', '62', '66', '70', '70', '76', '36', '77', '76', '92', '34', '49', '64', '69', '77', '59', '77', '60', '63', '69', '71', '53', '64', '76', '78', '74', '69', '88', '66', '45', '51', '83', '77', '70', '45', '74', '86', '58', '91', '78', '66', '55', '88', '61', '76', '79', '68', '77', '57', '48', '65', 'N/A', '58', '63', '61', '61', '68', '63', '55', '67', '66', '88', '72', '84', '84', '61', '54', '53', '54', '85', '63', '66', '43', '41', '73', '91', '78', '73', '53', '68', '62', '66', '40', '61', '61', '55', '45', '49', '67', '44', 'N/A', '58', '70', '20', 'N/A', '45', '71', '88', '82', '65', '55', '99', '75', '69', 'N/A', 'N/A', '69', '77', '56', '72', '75', '78', '47', '89', '69', '70', '62', '56', '77', '74', '61', '79', '56', '57', '65', '87', '86', '40', '52', '73', '57', '63', '85', '55', '71', '72', '52', '61', '69', '61', '64', '67', '78', '83', '76', '64', '80', '73', '75', '48', '62', '78', '55', '68', '43', '60', '76', '99', '44', '52', '71', '60', '52', '73', '91', '87', '52', '84', '96', '43', '66', '55', '67', '65', '63', '72', '77', '67', '55', '73', '46', '50', '66', '78', '65', '55', '55', '59', '57', '58', '54', '57', '55', '52', 'N/A', '72', '91', '70', '71', '86', '52', '62', '82', '64', '59', '50', '53', '78', '65', '60', '59', '89', '64', '78', '65', '62', '67', '66', '56', '72', '80', '49', '40', '57', '48', '47', '71', 'N/A', '62', '82', '67', '82', '60', '49', '54', 'N/A', '67', '72', '41', '70', '65', '43', '80', '60', '66', '76', '62', '40', '41', '65', '41', '49', '73', '53', '75', '70', '68', '73', '55', '56', '74', '50', '54', '69', '66', '64', '68', '80', '53', '73', '57', '72', '49', '57', '80', '94', '49', '77', '62', '66', '44', '52', '71', '69', '88', '85', '51', '68', '47', '58', '62', '64', '55', '60', '77', '57', '77', '50', '57', '40', '58', '61', '64', '73', '63', '73', '59', '47', '75', '69', '48', '69', '53', '46', '36', '87', '71', '66', '30', '67', '69', '77', '76', '83', '37', '82', '46', '57', '57', '73', '48', '46', '59', '74', '56', '53', '87', '55', '82', '71', '67', '56', '52', 'N/A', '57', 'N/A', '74', '60', '57', '67', '63', '53', 'N/A', '73', '68', '90', '65', '59', '81', '39', '81', '55', '64', '63', '72', '64', '77', '45', '60', 'N/A', '85', '61', '56', '69', '62', '89', '55', '74', '65', '84', '72', '80', '66', '53', '81', 'N/A', '68', '60', '95', '73', '63', '70', '60', '64', '76', '90', '57', '67', '91', '80', '72', '88', '65', '68', '71', '43', '51', '75', '79', '57', '49', '59', '58', '78', '74', '67', '42', '62', '62', '68', '60', '59', '78', '78', '86', '77', '80', '86', '58', '63', '72', '57', '68', '46', '45', '52', '67', '33', '43', '47', '69', '67', '75', '74', '77', '51', '39', '78', '77', '70', 'N/A', '72', '53', '61', '80', '46', '76', '70', 'N/A', '58', '57', '75', '68', '60', '64', '73', '83', '62', '67', '46', '53', '69', '35', '62', '51', '75', '72', '56', '52', '50', '82', '60', '70', '67', '51', '85', '57', '50', '77', '61', 'N/A', '79', '83', '53', '53', '47', '74', '75', '81', '68', '67', '73', '83', '49', '73', '66', '64', '68', '90', '71', '72', '52', '62', '21', '19', '59', '37', '42', '53', '87', '48', '70', '78', '54', '59', '54', 'N/A', '30', '85', '47', '60', '74', '73', '75', '56', '73', '59', '60', '63', '76', '87', '67', '64', '58', '89', '53', '75', '69', '63', '82', '59', '72', '76', '80', '49', '49', '58', '74', '49', '53', '59', '60', '60', '71', '83', '71', '56', '66', '53', '54', '50', '89', '47', '38', '87', '62', '55', '64', '82', '65', '69', '68', '67', '51', '53', '49', '78', '74', '54', '45', '78', '73', '88', '72', '58', '70', '89', '69', '60', '59', '65', 'N/A', '69', '82', '73', '76', '74', '68', '70', '45', '66', '57', '46', '51', '75', '80', '57', '74', '77', '69', '66', '58', '63', '74', '58', '54', '44', '68', '49', '55', '59', '44', '61', '63', '72', '74', '57', '67', 'N/A', '51', '70', '57', '36', '67', '66', '82', '76', '85', '57', '58', '53', '49', '59', '64', '63', '40', '52', '62', '55', '48', '75', '58', '52', '82', '62', '68', '61', '26', '27', '68', '70', '53', '79', '79', '85', '46', '65', '61', '68', '60', '70', '49', '55', '70', '47', '49', '60', '94', '69', '78', '87', '58', '67', '54', '53', '69', '73', '52', '70', '61', '97', '57', '67', '62', '78', '95', '73', '68', '76', '56', '60', '63', '50', '59', '71', '66', '90', '66', '80', '59', '77', '79', '88', '48', '70', '78', '79', '63', '74', '73', 'N/A', 'N/A', '80', '49', '48', '55', '66', '39', '63', '52', '56', '53', '62', '40', '64', '73', '82', '64', '79', '72', '65', '56', '74', '39', 'N/A', '40', 'N/A', '79', '50', '63', '67', '79', '63', '75', '52', '54', '61', '71', '87', '47', 'N/A', '50', '62', '61', 'N/A', '43', 'N/A', '66', '83', '80', '52', '40', '75', '79', '71', '53', '52', '64', '55', '74', '83', '65', '97', '65', '75', '44', '55', '53', '64', '80', '44', '79', '45', '65', '81', '40', '58', '74', '68', '56', '59', '51', '76', '42', '77', '65', '70', '76', '71', '67', '69', '60', '72', '69', '97', 'N/A', '48', '52', '53', '69', '60', '70', '79', '90', '69', '82', '82', '66', '68', '55', '82', '57', 'N/A', '59', '49', '57', '58', '60', '56', '38', '50', '57', '65', '93', '35', '66', '79', '50', '61', '85', '61', '58', '97', '48', '46', '52', '57', '95', '60', '58', '68', '76', '26', '84', '37', '80', '68', '53', '43', '59', '58', '63', '52', '60', '62', '57', '60', '62', '65', '57', '63', '53', '85', '64', '76', '72', '55', '64', '41', '83', '60', '70', '90', '66', '70', '50', '71', '40', '58', '76', '62', '50', '64', '52', '77', '76', '54', '60', '86', '52', '55', '59', '67', '74', '72', '45', '87', '45', '65', '59', '36', '70', 'N/A', '57', '72', '61', '64', '56', '62', '101', '57', '60', '55', '58', '65', '82', '69', '70', '42', '60', '55', '73', '73', '61', '58', '46', '71', '68', '45', '58', '66', '61', 'N/A', '81', '57', '63', 'N/A', '58', '60', '67', '59', '80', '55', 'N/A', '87', '38', '67', '72', '65', '55', '75', '49', '60', '77', '77', '81', '66', '48', '70', '70', 'N/A', '50', '56', '54', '59', '63', '64', '69', '66', '44', '77', '89', '63', '54', '55', '47', '83', '50', '74', '57', '60', '53', '54', '52', '56', '49', 'N/A', '52', '63', '70', '60', '50', '41', '66', '55', '57', '62', '59', '86', '46', '36', '39', '78', '63', '54', '54', '82', '69', '71', '71', '52', '85', '60', '84', '65', '70', '56', '66', '51', '30', '65', '49', '56', '63', '72', '67', '42', '75', '73', '43', '46', '58', '68', '76', '66', '55', '42', '57', '56', '55', 'N/A', 'N/A', '86', '63', '45', '53', '59', '43', '59', '59', '60', '68', '63', '73', '71', '68', '99', '60', '60', '57', '66', '85', '82', '68', '50', '65', '56', '48', '58', '82', '43', '57', '82', '90', '57', '76', '59', 'N/A', '59', '52', '62', 'N/A', '78', '81', '80', '52', '43', '43', '40', '73', '49', '52', '51', '51', '82', '58', '77', '61', '70', '59', '78', '75', '60', '81', '54', '63', '65', '57', 'N/A', '61', '54', '87', '67', '41', '41', '67', '77', '52', '58', '60', '58', '60', '78', '61', '60', '46', '37', '60', '47', '66', '56', '58', '63', '66', '67', '84', '51', '42', '52', '68', '61', '56', '58', '28', '72', '61', '80', 'N/A', '60', '82', '45', '40', '61', '55', '47', '73', '55', '58', 'N/A', '61', 'N/A', '72', '87', '65', '88', '63', '53', '56', '79', '69', '66', '82', '74', '70', '60', '47', 'N/A', 'N/A', '34', '63', '57', 'N/A', 'N/A', '78', '52', '61', '76', '74', '71', '36', '57', '53', '59', '66', '51', '88', '60', '58', '64', '62', '74', '73', '78', '82', '62', '87', '61', '47', '49', '68', '52', '60', '46', '68', '68', '70', '56', '81', '54', '69', '50', '62', '60', '58', '76', '50', '42', '53', '58', '67', '79', '41', '73', '49', '59', '61', '45', '52', '77', '51', '76', '58', '59', '71', '82', '35', '46', '73', '47', '81', '53', '82', '54', '68', '61', '72', '83', '68', '53', '81', '51', '40', '58', '51', '48', '50', '49', '57', '68', '44', '76', '44', '43', '40', '33', '98', '76', '70', '75', 'N/A', '64', '45', '59', '49', '55', '65', '72', '57', '64', '67', '56', '63', '50', '58', '68', '66', '56', '60', '79', '52', '56', '55', '66', '79', '46', '70', '59', '45', '68', '70', '38', '56', '93', '75', '53', '79', '53', '68', '48', '60', '55', '74', '78', '82', '57', '73', '45', '69', '74', '59', '52', '36', 'N/A', '56', '51', '78', '77', '53', 'N/A', '74', '76', '69', '68', '73', '60', '53', '51', '70', '59', '77', '82', '75', '70', '54', '53', '77', '72', '60', '51', '35', '54', '59', '53', '63', '51', '80', '60', '71', '66']\n"
     ]
    }
   ],
   "source": [
    "print(age)"
   ]
  },
  {
   "cell_type": "code",
   "execution_count": 125,
   "id": "805792f1",
   "metadata": {},
   "outputs": [
    {
     "name": "stdout",
     "output_type": "stream",
     "text": [
      "['France', 'United States', 'United States', 'United States', 'United States', 'United States', 'United States', 'Mexico', 'India', 'United States', 'France', 'United States', 'Spain', 'United States', 'China', 'United States', 'United States', 'United States', 'United States', 'United States', 'United States', 'Canada', 'United States', 'India', 'United States', 'China', 'Germany', 'France', 'Germany', 'Italy', 'United States', 'United States', 'Hong Kong', 'China', 'United States', 'United States', 'Austria', 'Hong Kong', 'Japan', 'United States', 'France', 'France', 'Switzerland', 'Switzerland', 'China', 'Germany', 'Hong Kong', 'United States', 'United States', 'United States', 'Germany', 'Australia', 'China', 'Mexico', 'India', 'Indonesia', 'United States', 'Russia', 'Germany', 'United States', 'Indonesia', 'Russia', 'China', 'China', 'Chile', 'Indonesia', 'United Kingdom', 'India', 'Japan', 'Russia', 'France', 'United States', 'Russia', 'United States', 'China', 'United States', 'United States', 'Japan', 'Russia', 'Russia', 'United States', 'Australia', 'United States', 'China', 'China', 'Israel', 'China', 'China', 'United States', 'United States', 'Russia', 'United States', 'India', 'United States', 'United States', 'India', 'United States', 'United States', 'United States', 'Brazil', 'Germany', 'Czech Republic', 'Singapore', 'Sweden', 'United States', 'United Kingdom', 'China', 'Germany', 'Germany', 'Brazil', 'Hong Kong', 'India', 'United States', 'India', 'China', 'Thailand', 'United States', 'Thailand', 'Netherlands', 'Hong Kong', 'China', 'Russia', 'Singapore', 'India', 'Nigeria', 'Hong Kong', 'Israel', 'China', 'Hong Kong', 'Cyprus', 'United States', 'United States', 'United States', 'United States', 'Hong Kong', 'China', 'Australia', 'India', 'United States', 'Russia', 'Thailand', 'China', 'China', 'United States', 'United States', 'Malaysia', 'United States', 'United Arab Emirates', 'Germany', 'Germany', 'China', 'United States', 'United States', 'Russia', 'Australia', 'Russia', 'Italy', 'South Africa', 'Hong Kong', 'China', 'United States', 'United States', 'Mexico', 'United States', 'United States', 'Brazil', 'Russia', 'China', 'Canada', 'United States', 'Australia', 'United States', 'United States', 'United States', 'Russia', 'Brazil', 'Germany', 'United States', 'Australia', 'Malaysia', 'China', 'United States', 'China', 'Cyprus', 'France', 'France', 'France', 'France', 'Sweden', 'Russia', 'United States', 'China', 'Germany', 'China', 'United States', 'China', 'China', 'United States', 'United States', 'United States', 'United States', 'France', 'Canada', 'Switzerland', 'China', 'United States', 'United Kingdom', 'Russia', 'Sweden', 'Czech Republic', 'United States', 'India', 'United States', 'United States', 'Canada', 'Switzerland', 'Germany', 'Canada', 'China', 'Sweden', 'Sweden', 'Sweden', 'Russia', 'United States', 'China', 'United States', 'United States', 'China', 'France', 'China', 'Germany', 'United States', 'New Zealand', 'India', 'Germany', 'Brazil', 'Philippines', 'Germany', 'United States', 'United States', 'China', 'United States', 'South Africa', 'United States', 'China', 'United States', 'Monaco', 'Germany', 'Hong Kong', 'Russia', 'Nigeria', 'United States', 'India', 'China', 'China', 'France', 'France', 'United States', 'France', 'Czech Republic', 'United States', 'Russia', 'United States', 'United States', 'United States', 'Czech Republic', 'Belgium', 'United States', 'China', 'United States', 'South Korea', 'United States', 'United States', 'Russia', 'Austria', 'United States', 'China', 'Taiwan', 'China', 'China', 'Taiwan', 'France', 'France', 'United States', 'China', 'China', 'United States', 'United States', 'Norway', 'China', 'India', 'United Kingdom', 'United States', 'Singapore', 'United Kingdom', 'United States', 'Canada', 'China', 'United States', 'United States', 'China', 'United States', 'United States', 'Singapore', 'United States', 'Indonesia', 'China', 'Singapore', 'United States', 'Egypt', 'United States', 'India', 'Russia', 'Denmark', 'Philippines', 'China', 'United States', 'Taiwan', 'United States', 'United States', 'United States', 'Switzerland', 'Japan', 'China', 'United States', 'Austria', 'United States', 'China', 'Sweden', 'Singapore', 'China', 'United States', 'Israel', 'Israel', 'United States', 'India', 'United States', 'Hong Kong', 'India', 'Ireland', 'United States', 'United States', 'United States', 'Mexico', 'United States', 'United States', 'United States', 'China', 'United States', 'Spain', 'United States', 'United States', 'Italy', 'United Kingdom', 'United States', 'United States', 'United States', 'Israel', 'United States', 'United States', 'United States', 'Russia', 'China', 'United States', 'United States', 'United Kingdom', 'Denmark', 'Denmark', 'Denmark', 'Italy', 'Hong Kong', 'China', 'Switzerland', 'France', 'United States', 'United States', 'United States', 'United States', 'United States', 'Denmark', 'United States', 'China', 'Switzerland', 'United States', 'United States', 'United States', 'United States', 'United States', 'Germany', 'United States', 'United States', 'Eswatini (Swaziland)', 'United States', 'United Kingdom', 'United Kingdom', 'Czech Republic', 'Sweden', 'United States', 'United States', 'China', 'Russia', 'Russia', 'Colombia', 'United States', 'United Kingdom', 'China', 'Ireland', 'France', 'China', 'Israel', 'Mexico', 'Sweden', 'Netherlands', 'China', 'Hong Kong', 'Hong Kong', 'Poland', 'Nigeria', 'United States', 'Germany', 'Germany', 'Hong Kong', 'India', 'Hong Kong', 'Russia', 'Austria', 'United States', 'Canada', 'United States', 'India', 'Thailand', 'United Kingdom', 'Australia', 'United States', 'United States', 'United States', 'China', 'Thailand', 'Norway', 'United States', 'Taiwan', 'United States', 'Denmark', 'United States', 'Ukraine', 'United States', 'United Kingdom', 'Canada', 'Sweden', 'Switzerland', 'Austria', 'United States', 'United States', 'United States', 'Greece', 'United States', 'China', 'India', 'United States', 'United States', 'United States', 'United States', 'Israel', 'South Korea', 'Hong Kong', 'United States', 'United States', 'Taiwan', 'Ireland', 'Ireland', 'United States', 'Italy', 'United States', 'Canada', 'China', 'Germany', 'Germany', 'United States', 'United States', 'Chile', 'United States', 'Italy', 'United States', 'Australia', 'China', 'Italy', 'India', 'United States', 'United States', 'China', 'Switzerland', 'Italy', 'Germany', 'Germany', 'Germany', 'Germany', 'United States', 'United States', 'Turkey', 'United States', 'United States', 'Indonesia', 'United States', 'United States', 'United States', 'United States', 'United States', 'United States', 'Germany', 'India', 'Brazil', 'China', 'United States', 'China', 'India', 'Malaysia', 'Taiwan', 'United States', 'Canada', 'United States', 'United States', 'United States', 'China', 'India', 'United States', 'South Korea', 'United States', 'Norway', 'United States', 'China', 'United States', 'Switzerland', 'United States', 'United States', 'United States', 'Switzerland', 'United Kingdom', 'Switzerland', 'United States', 'Russia', 'South Korea', 'United States', 'France', 'United States', 'United States', 'Germany', 'Germany', 'Switzerland', 'Turkey', 'Canada', 'China', 'United States', 'India', 'United States', 'Argentina', 'United States', 'United States', 'Georgia', 'Indonesia', 'Switzerland', 'Canada', 'United States', 'United States', 'Indonesia', 'United States', 'China', 'United Kingdom', 'Poland', 'Germany', 'United States', 'United States', 'United States', 'United States', 'United States', 'United States', 'United States', 'India', 'Germany', 'China', 'Portugal', 'United States', 'Singapore', 'Turkey', 'Brazil', 'Canada', 'South Korea', 'China', 'United States', 'China', 'United States', 'United States', 'United States', 'United States', 'United States', 'China', 'Kazakhstan', 'Taiwan', 'United States', 'China', 'Singapore', 'Hong Kong', 'United States', 'United States', 'United States', 'Algeria', 'United States', 'United States', 'Germany', 'United States', 'China', 'Mexico', 'Germany', 'China', 'United States', 'Germany', 'India', 'Norway', 'United States', 'United Arab Emirates', 'Colombia', 'China', 'Taiwan', 'China', 'France', 'United States', 'United States', 'United States', 'Spain', 'Switzerland', 'Germany', 'India', 'United States', 'United States', 'China', 'Russia', 'France', 'United States', 'Venezuela', 'United States', 'China', 'United States', 'United States', 'Canada', 'Russia', 'Kazakhstan', 'Kazakhstan', 'United Kingdom', 'United Kingdom', 'United States', 'United States', 'Vietnam', 'United States', 'Taiwan', 'Taiwan', 'China', 'China', 'China', 'United States', 'Israel', 'Russia', 'China', 'China', 'United States', 'United States', 'Indonesia', 'United States', 'France', 'United States', 'United States', 'China', 'United States', 'United States', 'United States', 'United States', 'United States', 'Indonesia', 'Indonesia', 'United States', 'Czech Republic', 'France', 'Germany', 'United States', 'United States', 'United States', 'Italy', 'Finland', 'China', 'United States', 'Russia', 'United States', 'Brazil', 'Brazil', 'United States', 'Switzerland', 'United States', 'Australia', 'United States', 'China', 'United States', 'United States', 'United States', 'China', 'India', 'United States', 'United States', 'Malaysia', 'United States', 'United States', 'Canada', 'United States', 'India', 'India', 'United States', 'United States', 'Israel', 'United States', 'Poland', 'Sweden', 'Mexico', 'China', 'Germany', 'United States', 'United States', 'Thailand', 'China', 'South Korea', 'Belize', 'Italy', 'Germany', 'United States', 'United States', 'Thailand', 'United States', 'Brazil', 'Brazil', 'Brazil', 'United States', 'Germany', 'Germany', 'Germany', 'China', 'United States', 'Taiwan', 'India', 'China', 'China', 'China', 'India', 'Italy', 'United States', 'United States', 'United States', 'United States', 'United States', 'United States', 'China', 'United States', 'India', 'United States', 'Japan', 'China', 'Taiwan', 'United States', 'United States', 'United States', 'United States', 'United States', 'United States', 'Cyprus', 'China', 'United States', 'China', 'China', 'United States', 'United States', 'Georgia', 'United Kingdom', 'Japan', 'United States', 'Chile', 'United States', 'United States', 'United States', 'United States', 'Israel', 'China', 'India', 'India', 'Canada', 'United States', 'Belgium', 'Colombia', 'Canada', 'Colombia', 'Hong Kong', 'United Kingdom', 'Hong Kong', 'United States', 'Kazakhstan', 'United States', 'Hong Kong', 'Hong Kong', 'United States', 'Egypt', 'Japan', 'Japan', 'Australia', 'Australia', 'United States', 'Spain', 'United States', 'Canada', 'Hong Kong', 'China', 'China', 'China', 'China', 'Italy', 'Brazil', 'China', 'Italy', 'United States', 'Italy', 'Italy', 'Italy', 'Italy', 'Italy', 'Italy', 'Germany', 'China', 'United States', 'Russia', 'Hong Kong', 'China', 'United States', 'Switzerland', 'Thailand', 'United States', 'Germany', 'Russia', 'Italy', 'Germany', 'Australia', 'United States', 'United States', 'Netherlands', 'China', 'United States', 'China', 'Italy', 'Canada', 'United States', 'Thailand', 'Russia', 'Philippines', 'India', 'Switzerland', 'United Kingdom', 'South Korea', 'Italy', 'United Kingdom', 'United States', 'United States', 'United States', 'United States', 'United States', 'Japan', 'United States', 'United States', 'United States', 'India', 'Germany', 'Switzerland', 'China', 'China', 'United States', 'United States', 'France', 'United States', 'United States', 'China', 'United States', 'Brazil', 'Switzerland', 'China', 'Australia', 'Canada', 'Singapore', 'United States', 'Israel', 'Japan', 'Chile', 'United States', 'United States', 'Egypt', 'Hong Kong', 'Israel', 'Canada', 'United Kingdom', 'United States', 'United States', 'United States', 'China', 'Japan', 'Mexico', 'Italy', 'Italy', 'India', 'United States', 'China', 'Italy', 'Mexico', 'Italy', 'China', 'United States', 'United States', 'Australia', 'Russia', 'India', 'Brazil', 'Australia', 'China', 'United States', 'South Korea', 'China', 'China', 'India', 'India', 'Greece', 'United States', 'United States', 'India', 'United States', 'United Kingdom', 'Germany', 'United States', 'Italy', 'China', 'United States', 'United States', 'Russia', 'Germany', 'Germany', 'United States', 'China', 'United States', 'United States', 'China', 'Hong Kong', 'United Kingdom', 'Canada', 'China', 'India', 'India', 'Switzerland', 'France', 'Russia', 'United States', 'United States', 'Sweden', 'Brazil', 'Singapore', 'United States', 'United States', 'China', 'Russia', 'Spain', 'India', 'United Kingdom', 'United States', 'Hong Kong', 'Germany', 'Russia', 'United States', 'Indonesia', 'Italy', 'Germany', 'Hong Kong', 'Kazakhstan', 'United States', 'South Korea', 'United Arab Emirates', 'Turkey', 'United States', 'United States', 'United States', 'Switzerland', 'China', 'France', 'Hong Kong', 'United States', 'China', 'United States', 'Canada', 'Belgium', 'United States', 'United States', 'China', 'United States', 'Singapore', 'Mexico', 'Italy', 'China', 'India', 'Germany', 'Russia', 'Taiwan', 'China', 'India', 'France', 'Switzerland', 'United States', 'India', 'China', 'United Kingdom', 'United States', 'Sweden', 'China', 'Indonesia', 'China', 'Indonesia', 'India', 'Singapore', 'China', 'China', 'China', 'Spain', 'Italy', 'China', 'United States', 'United Kingdom', 'United States', 'Canada', 'United States', 'United Kingdom', 'Israel', 'United States', 'China', 'Germany', 'Germany', 'United States', 'Russia', 'Turkey', 'South Korea', 'Hong Kong', 'China', 'China', 'China', 'Sweden', 'Hong Kong', 'Germany', 'Germany', 'Russia', 'India', 'Argentina', 'Chile', 'India', 'Russia', 'United States', 'United States', 'India', 'Germany', 'United States', 'United States', 'China', 'China', 'India', 'China', 'Canada', 'Malaysia', 'Singapore', 'South Korea', 'India', 'United States', 'China', 'United States', 'Germany', 'India', 'India', 'Malaysia', 'China', 'Russia', 'United States', 'Lebanon', 'Lebanon', 'Japan', 'India', 'Greece', 'India', 'Germany', 'Germany', 'India', 'India', 'United States', 'United States', 'China', 'China', 'Taiwan', 'Hong Kong', 'United States', 'China', 'Hong Kong', 'China', 'Brazil', 'Spain', 'Oman', 'India', 'India', 'India', 'India', 'Germany', 'France', 'France', 'Russia', 'Australia', 'United States', 'Canada', 'United States', 'India', 'Canada', 'Spain', 'United States', 'Russia', 'India', 'United States', 'India', 'Russia', 'China', 'Turkey', 'Russia', 'Hong Kong', 'Hong Kong', 'Germany', 'United States', 'United Kingdom', 'Hong Kong', 'China', 'China', 'United States', 'South Africa', 'Ireland', 'Germany', 'Sweden', 'Japan', 'Canada', 'India', 'United States', 'Italy', 'Italy', 'United States', 'United States', 'United States', 'Germany', 'India', 'Russia', 'United States', 'United States', 'United States', 'Kazakhstan', 'Norway', 'Hong Kong', 'China', 'China', 'United States', 'United States', 'United States', 'United States', 'Brazil', 'Brazil', 'Germany', 'Switzerland', 'China', 'New Zealand', 'China', 'Mexico', 'United States', 'Spain', 'China', 'Ireland', 'Sweden', 'Sweden', 'Australia', 'United States', 'China', 'China', 'Russia', 'Spain', 'Hong Kong', 'United States', 'France', 'Canada', 'China', 'China', 'Singapore', 'China', 'Switzerland', 'Netherlands', 'United States', 'Germany', 'India', 'Australia', 'Russia', 'United States', 'United States', 'United States', 'Germany', 'United States', 'Germany', 'United States', 'Germany', 'United States', 'Germany', 'Germany', 'Germany', 'China', 'China', 'United States', 'United States', 'United States', 'United States', 'United States', 'Iceland', 'Canada', 'India', 'United States', 'China', 'United States', 'United States', 'United States', 'India', 'United States', 'Russia', 'Cyprus', 'United States', 'India', 'Brazil', 'Canada', 'United States', 'United States', 'United States', 'United States', 'India', 'Turkey', 'United States', 'Austria', 'China', 'Taiwan', 'China', 'Thailand', 'Switzerland', 'India', 'United States', 'Spain', 'United States', 'United States', 'China', 'Turkey', 'China', 'China', 'United States', 'Philippines', 'Philippines', 'India', 'United States', 'United States', 'Germany', 'United States', 'United States', 'China', 'Taiwan', 'China', 'United States', 'United Arab Emirates', 'United States', 'South Africa', 'Germany', 'Taiwan', 'Brazil', 'Switzerland', 'United States', 'United States', 'France', 'Switzerland', 'Germany', 'Canada', 'United Kingdom', 'China', 'Singapore', 'United States', 'India', 'United States', 'United States', 'China', 'United States', 'United States', 'China', 'China', 'India', 'Switzerland', 'Netherlands', 'Philippines', 'Philippines', 'Philippines', 'Taiwan', 'United States', 'United States', 'Switzerland', 'United States', 'China', 'China', 'United States', 'Ireland', 'United States', 'United States', 'United States', 'United States', 'Taiwan', 'Taiwan', 'Taiwan', 'Hong Kong', 'India', 'United States', 'United States', 'Sweden', 'United States', 'Germany', 'Turkey', 'United States', 'China', 'United States', 'United States', 'China', 'China', 'Guernsey', 'Germany', 'China', 'China', 'Malaysia', 'India', 'United States', 'China', 'Russia', 'United States', 'Monaco', 'Brazil', 'Italy', 'Italy', 'Italy', 'Italy', 'Turkey', 'United States', 'Switzerland', 'Switzerland', 'United States', 'Hong Kong', 'China', 'Taiwan', 'United States', 'Switzerland', 'Australia', 'China', 'China', 'Germany', 'China', 'China', 'Liechtenstein', 'China', 'United States', 'United States', 'Russia', 'Turkey', 'United States', 'Australia', 'United States', 'China', 'China', 'Ireland', 'China', 'United States', 'China', 'United States', 'United States', 'United States', 'Israel', 'Germany', 'Germany', 'Canada', 'United States', 'United States', 'United States', 'China', 'United States', 'Australia', 'China', 'Thailand', 'Canada', 'Russia', 'United States', 'United States', 'Israel', 'Vietnam', 'China', 'Australia', 'China', 'United States', 'India', 'United States', 'United States', 'Switzerland', 'United States', 'Canada', 'United States', 'United States', 'United States', 'United States', 'Philippines', 'Philippines', 'Japan', 'China', 'Hong Kong', 'Sweden', 'India', 'India', 'China', 'China', 'Israel', 'China', 'China', 'Hong Kong', 'China', 'Israel', 'Canada', 'China', 'United Kingdom', 'United States', 'France', 'France', 'United States', 'India', 'China', 'Taiwan', 'China', 'Hong Kong', 'Switzerland', 'Italy', 'Germany', 'Bulgaria', 'Bulgaria', 'Australia', 'United States', 'Italy', 'China', 'United States', 'United States', 'United Kingdom', 'India', 'India', 'United States', 'Norway', 'Lebanon', 'Spain', 'Taiwan', 'China', 'United States', 'Russia', 'Russia', 'Russia', 'Hong Kong', 'Hong Kong', 'United States', 'France', 'United States', 'Taiwan', 'China', 'Russia', 'United States', 'China', 'India', 'India', 'Sweden', 'India', 'India', 'China', 'Ireland', 'Russia', 'China', 'Spain', 'Ukraine', 'United States', 'India', 'India', 'United States', 'China', 'Thailand', 'Singapore', 'United States', 'India', 'United States', 'China', 'Russia', 'Germany', 'United States', 'Turkey', 'China', 'Taiwan', 'Taiwan', 'Taiwan', 'Taiwan', 'United States', 'China', 'Hong Kong', 'China', 'China', 'Canada', 'Singapore', 'India', 'Egypt', 'United Kingdom', 'United Kingdom', 'Czech Republic', 'Germany', 'China', 'China', 'Thailand', 'China', 'Italy', 'United States', 'Switzerland', 'United States', 'Australia', 'China', 'Hong Kong', 'China', 'United States', 'United States', 'United States', 'Israel', 'Finland', 'Hong Kong', 'China', 'China', 'China', 'China', 'India', 'Canada', 'Russia', 'United States', 'China', 'China', 'Singapore', 'Australia', 'United States', 'United States', 'India', 'Australia', 'Australia', 'United States', 'India', 'Poland', 'Czech Republic', 'Germany', 'Indonesia', 'Canada', 'Thailand', 'Romania', 'Australia', 'United States', 'Czech Republic', 'China', 'China', 'China', 'China', 'China', 'China', 'Chile', 'Finland', 'United States', 'Brazil', 'Russia', 'Italy', 'United States', 'United States', 'China', 'China', 'China', 'China', 'Thailand', 'Thailand', 'United States', 'Spain', 'United States', 'United States', 'China', 'Germany', 'Turkey', 'Turkey', 'Argentina', 'Hong Kong', 'Canada', 'India', 'Norway', 'Mexico', 'United States', 'China', 'United States', 'Hong Kong', 'United States', 'United States', 'Poland', 'United States', 'Thailand', 'United States', 'United States', 'Hong Kong', 'United States', 'Zimbabwe', 'United Kingdom', 'United Kingdom', 'Japan', 'India', 'India', 'United States', 'India', 'China', 'United States', 'United States', 'China', 'China', 'United States', 'Taiwan', 'Indonesia', 'United States', 'Philippines', 'Indonesia', 'Turkey', 'Japan', 'Greece', 'India', 'China', 'Taiwan', 'United States', 'China', 'China', 'Russia', 'China', 'United States', 'Australia', 'United Kingdom', 'Qatar', 'United States', 'Japan', 'Italy', 'India', 'United States', 'Argentina', 'India', 'Nepal', 'United States', 'United States', 'United Kingdom', 'Netherlands', 'Spain', 'China', 'United States', 'United States', 'United States', 'Brazil', 'United States', 'India', 'United States', 'China', 'China', 'China', 'China', 'Cyprus', 'South Korea', 'United States', 'United States', 'United States', 'Sweden', 'China', 'Brazil', 'Brazil', 'Brazil', 'United States', 'Canada', 'Sweden', 'Netherlands', 'India', 'Monaco', 'India', 'Germany', 'Turkey', 'China', 'Canada', 'United States', 'France', 'Thailand', 'India', 'Germany', 'Russia', 'China', 'China', 'India', 'South Korea', 'Indonesia', 'China', 'United States', 'Vietnam', 'United States', 'United States', 'Netherlands', 'Germany', 'United States', 'United States', 'United States', 'Malaysia', 'Taiwan', 'China', 'United States', 'China', 'Japan', 'Canada', 'China', 'United States', 'United States', 'Italy', 'Netherlands', 'South Korea', 'United States', 'United States', 'China', 'Netherlands', 'United States', 'Czech Republic', 'United States', 'Italy', 'France', 'Japan', 'United States', 'Germany', 'United States', 'Brazil', 'Australia', 'China', 'Thailand', 'Canada', 'Finland', 'Singapore', 'Canada', 'India', 'Thailand', 'United States', 'South Korea', 'South Korea', 'South Korea', 'Turkey', 'Hong Kong', 'Hong Kong', 'China', 'Malaysia', 'United States', 'China', 'United States', 'China', 'United States', 'China', 'China', 'United States', 'United States', 'Japan', 'Brazil', 'China', 'Spain', 'India', 'Romania', 'United States', 'Russia', 'China', 'United States', 'United States', 'China', 'United States', 'Russia', 'Japan', 'India', 'China', 'France', 'United States', 'United States', 'Taiwan', 'China', 'United States', 'United States', 'United Kingdom', 'China', 'China', 'China', 'Russia', 'United States', 'China', 'China', 'China', 'United States', 'Malaysia', 'United States', 'Russia', 'United States', 'United States', 'China', 'Germany', 'Germany', 'Germany', 'China', 'China', 'Taiwan', 'South Korea', 'Slovakia', 'United States', 'Canada', 'United States', 'United States', 'France', 'United States', 'Romania', 'Brazil', 'Switzerland', 'United States', 'Canada', 'China', 'Switzerland', 'United States', 'United States', 'United States', 'United States', 'Finland', 'United States', 'United States', 'China', 'China', 'China', 'Russia', 'South Korea', 'United States', 'United States', 'Russia', 'Japan', 'United States', 'United Kingdom', 'Greece', 'Malaysia', 'Hong Kong', 'Hong Kong', 'China', 'China', 'Hong Kong', 'Canada', 'United States', 'Oman', 'Italy', 'Israel', 'Austria', 'Germany', 'Germany', 'United States', 'Spain', 'Spain', 'United States', 'Thailand', 'China', 'Russia', 'United States', 'United States', 'Russia', 'United States', 'United States', 'United States', 'Austria', 'United States', 'Taiwan', 'India', 'Australia', 'China', 'China', 'United States', 'United States', 'Australia', 'Australia', 'Australia', 'United States', 'China', 'China', 'China', 'China', 'China', 'United States', 'China', 'China', 'China', 'China', 'China', 'China', 'China', 'Sweden', 'India', 'Morocco', 'Turkey', 'Italy', 'Norway', 'Norway', 'Chile', 'Israel', 'Italy', 'Australia', 'Israel', 'Italy', 'United Kingdom', 'Turkey', 'United States', 'Taiwan', 'China', 'Hungary', 'Brazil', 'Italy', 'United States', 'Tanzania', 'United States', 'China', 'United States', 'France', 'Malaysia', 'Switzerland', 'China', 'United States', 'United States', 'Slovakia', 'China', 'India', 'Vietnam', 'Taiwan', 'New Zealand', 'Canada', 'India', 'India', 'China', 'South Korea', 'United States', 'United States', 'Singapore', 'Greece', 'Germany', 'Germany', 'Germany', 'China', 'China', 'China', 'Taiwan', 'Taiwan', 'United States', 'China', 'China', 'Egypt', 'Australia', 'Italy', 'United States', 'Italy', 'Lebanon', 'United States', 'United States', 'Sweden', 'Brazil', 'Peru', 'Peru', 'United States', 'Mexico', 'Sweden', 'United States', 'United States', 'Singapore', 'Peru', 'United Kingdom', 'United States', 'United States', 'Israel', 'United States', 'Singapore', 'Russia', 'India', 'United States', 'Australia', 'United States', 'United States', 'Russia', 'China', 'United States', 'China', 'China', 'China', 'Thailand', 'United States', 'China', 'Australia', 'Spain', 'Vietnam', 'United States', 'Sweden', 'China', 'China', 'United States', 'Hong Kong', 'China', 'China', 'China', 'China', 'China', 'China', 'China', 'China', 'China', 'Finland', 'Spain', 'Australia', 'India', 'India', 'United Kingdom', 'Russia', 'India', 'China', 'United States', 'China', 'Singapore', 'Brazil', 'Australia', 'United States', 'United States', 'Austria', 'Sweden', 'Philippines', 'China', 'India', 'Norway', 'Lebanon', 'Mexico', 'China', 'Germany', 'United States', 'United States', 'China', 'India', 'China', 'South Korea', 'Singapore', 'Russia', 'India', 'Poland', 'Singapore', 'Singapore', 'Singapore', 'Singapore', 'Singapore', 'Singapore', 'Hong Kong', 'South Korea', 'Canada', 'Italy', 'United Kingdom', 'China', 'China', 'Sweden', 'China', 'Taiwan', 'Brazil', 'Russia', 'Canada', 'Brazil', 'United States', 'China', 'United Kingdom', 'India', 'China', 'China', 'Japan', 'Israel', 'Japan', 'Ukraine', 'Thailand', 'Australia', 'China', 'China', 'United States', 'Sweden', 'China', 'China', 'India', 'Indonesia', 'Barbados', 'Russia', 'India', 'Russia', 'Brazil', 'United States', 'Russia', 'Russia', 'Japan', 'United States', 'Sweden', 'India', 'India', 'United States', 'China', 'China', 'China', 'China', 'China', 'Switzerland', 'Brazil', 'United States', 'China', 'China', 'China', 'China', 'China', 'Hong Kong', 'Canada', 'China', 'China', 'China', 'China', 'China', 'Singapore', 'China', 'Russia', 'United States', 'Indonesia', 'India', 'India', 'Thailand', 'Russia', 'Israel', 'India', 'Indonesia', 'Russia', 'India', 'Morocco', 'India', 'India', 'Canada', 'China', 'United States', 'China', 'Taiwan', 'China', 'China', 'Taiwan', 'United States', 'Spain', 'Argentina', 'China', 'India', 'Turkey', 'Italy', 'Italy', 'China', 'United States', 'Japan', 'Japan', 'Canada', 'United States', 'Italy', 'United States', 'China', 'Finland', 'Macau', 'Malaysia', 'United States', 'United States', 'India', 'China', 'China', 'Sweden', 'United States', 'France', 'Poland', 'United States', 'United States', 'United States', 'Japan', 'United States', 'Czech Republic', 'Estonia', 'United States', 'South Korea', 'United States', 'China', 'China', 'China', 'China', 'China', 'Brazil', 'China', 'Hong Kong', 'Brazil', 'Egypt', 'China', 'United States', 'France', 'Germany', 'Malaysia', 'Denmark', 'United States', 'United States', 'Vietnam', 'Japan', 'United States', 'Malaysia', 'United States', 'China', 'India', 'India', 'India', 'India', 'Spain', 'Russia', 'Russia', 'Turkey', 'Japan', 'Japan', 'United States', 'Germany', 'India', 'Russia', 'Malaysia', 'Russia', 'China', 'United States', 'United States', 'United States', 'Russia', 'Russia', 'Germany', 'Germany', 'Australia', 'Thailand', 'China', 'China', 'China', 'China', 'St. Kitts and Nevis', 'China', 'China', 'China', 'China', 'China', 'China', 'China', 'Canada', 'Ukraine', 'China', 'India', 'Qatar', 'Brazil', 'Spain', 'United States', 'United States', 'Turkey', 'Israel', 'Canada', 'Canada', 'China', 'United States', 'Germany', 'Germany', 'Germany', 'Malaysia', 'China', 'China', 'South Korea', 'United States', 'Italy', 'India', 'United Kingdom', 'China', 'Turkey', 'Germany', 'United States', 'Brazil', 'Brazil', 'China', 'Brazil', 'Hungary', 'United Kingdom', 'United States', 'Israel', 'India', 'United States', 'India', 'Australia', 'Lebanon', 'United States', 'Australia', 'United States', 'Hong Kong', 'China', 'Australia', 'United Kingdom', 'Taiwan', 'United States', 'United States', 'China', 'China', 'Russia', 'Germany', 'Germany', 'India', 'Canada', 'South Korea', 'China', 'China', 'China', 'China', 'China', 'China', 'United States', 'United States', 'United States', 'United States', 'United States', 'India', 'China', 'United States', 'Hungary', 'United States', 'United States', 'Austria', 'Brazil', 'United States', 'India', 'Germany', 'United States', 'Russia', 'Brazil', 'Sweden', 'United States', 'Indonesia', 'United States', 'China', 'United States', 'Russia', 'Brazil', 'United States', 'India', 'Sweden', 'Canada', 'India', 'Canada', 'Brazil', 'China', 'Netherlands', 'Germany', 'Germany', 'Indonesia', 'India', 'United States', 'Italy', 'Italy', 'United States', 'Romania', 'Indonesia', 'Belgium', 'Philippines', 'China', 'Australia', 'Italy', 'China', 'Netherlands', 'Armenia', 'Italy', 'Thailand', 'Sweden', 'China', 'Taiwan', 'China', 'United States', 'Israel', 'United States', 'United States', 'Taiwan', 'Taiwan', 'China', 'China', 'China', 'China', 'China', 'China', 'China', 'Russia', 'China', 'Romania', 'China', 'China', 'China', 'United States', 'China', 'China', 'India', 'Russia', 'India', 'United States', 'United States', 'United States', 'United States', 'Ukraine', 'Switzerland', 'Russia', 'United States', 'Germany', 'Indonesia', 'India', 'China', 'China', 'Italy', 'Italy', 'China', 'China', 'China', 'China', 'Taiwan', 'China', 'China', 'Taiwan', 'United States', 'Spain', 'China', 'Israel', 'United States', 'Spain', 'Brazil', 'Brazil', 'Russia', 'United States', 'United States', 'Germany', 'United States', 'China', 'India', 'United States', 'Russia', 'United Kingdom', 'United Kingdom', 'Russia', 'Cyprus', 'China', 'Germany', 'Germany', 'United States', 'China', 'China', 'Japan', 'Japan', 'Thailand', 'India', 'Sweden', 'Sweden', 'Sweden', 'Japan', 'United States', 'Turkey', 'China', 'Germany', 'South Korea', 'Russia', 'India', 'India', 'Spain', 'South Korea', 'United States', 'United States', 'United States', 'China', 'China', 'United States', 'China', 'China', 'Japan', 'India', 'India', 'India', 'Russia', 'Indonesia', 'Romania', 'Italy', 'United States', 'India', 'China', 'China', 'Spain', 'United States', 'United States', 'India', 'United States', 'United Kingdom', 'United States', 'United States', 'Australia', 'China', 'China', 'United States', 'Singapore', 'Malaysia', 'China', 'Thailand', 'Taiwan', 'China', 'Russia', 'Germany', 'China', 'China', 'Sweden', 'Hong Kong', 'United States', 'Germany', 'Hong Kong', 'Taiwan', 'China', 'China', 'China', 'China', 'Singapore', 'China', 'China', 'Taiwan', 'China', 'China', 'China', 'China', 'China', 'China', 'China', 'Hong Kong', 'India', 'Germany', 'Japan', 'Germany', 'Germany', 'Germany', 'Germany', 'Peru', 'United States', 'Japan', 'France', 'Taiwan', 'China', 'China', 'China', 'China', 'China', 'Hong Kong', 'India', 'United Kingdom', 'Hong Kong', 'Turkey', 'United States', 'United Kingdom', 'China', 'China', 'Denmark', 'United States', 'China', 'China', 'Sweden', 'Cyprus', 'Cyprus', 'China', 'China', 'Indonesia', 'China', 'South Korea', 'China', 'Italy', 'Germany', 'India', 'United States', 'Norway', 'Israel', 'India', 'Brazil', 'United States', 'United States', 'Bangladesh', 'South Korea', 'Israel', 'China', 'South Korea', 'Singapore', 'United States', 'Russia', 'South Africa', 'China', 'China', 'Singapore', 'China', 'China', 'Canada', 'Germany', 'Germany', 'Russia', 'Italy', 'Panama', 'United States', 'Canada', 'Brazil', 'United States', 'Indonesia', 'United States', 'United States', 'Norway', 'Russia', 'Russia', 'Indonesia', 'Indonesia', 'United States', 'Japan', 'Turkey', 'Japan', 'China', 'China', 'Japan', 'Canada', 'China', 'Austria', 'Germany', 'China', 'China', 'China', 'China', 'China', 'United States', 'China', 'China', 'Philippines']\n"
     ]
    }
   ],
   "source": [
    "print(citizenship)"
   ]
  },
  {
   "cell_type": "code",
   "execution_count": 126,
   "id": "9e46e449",
   "metadata": {},
   "outputs": [
    {
     "name": "stdout",
     "output_type": "stream",
     "text": [
      "['LVMH', 'Tesla, SpaceX', 'Amazon', 'Oracle', 'Berkshire Hathaway', 'Microsoft', 'Bloomberg LP', 'Telecom', 'Diversified', 'Microsoft', \"L'Oréal\", 'Google', 'Zara', 'Google', 'Beverages, pharmaceuticals', 'Facebook', 'Koch Industries', 'Koch Industries', 'Walmart', 'Walmart', 'Walmart', 'Media', 'Dell Technologies', 'Infrastructure, commodities', 'Nike', 'TikTok', 'Retail', 'Luxury goods', 'Shipping', 'Nutella, chocolates', 'Candy, pet food', 'Candy, pet food', 'Diversified', 'Internet media', 'Casinos', 'Hedge funds', 'Red Bull', 'Batteries', 'Fashion retail', 'Music, chemicals', 'Chanel', 'Chanel', 'Shipping', 'Shipping', 'E-commerce', 'Fasteners', 'Real estate', 'Trading, investments', 'Hedge funds', 'Investments', 'BMW, pharmaceuticals', 'Mining', 'Online games', 'Mining', 'Software services', 'Coal', 'Discount brokerage', 'Fertilizers, coal', 'BMW', 'Amazon', 'Banking, tobacco', 'Metals', 'E-commerce', 'Home appliances', 'Mining', 'Banking, tobacco', 'Chemicals', 'Vaccines', 'Internet, telecom', 'Steel, transport', 'Cheese', 'Fidelity', 'Gas, chemicals', 'Walmart', 'Package delivery', 'Semiconductors', 'Estee Lauder', 'Sensors', 'Steel, investments', 'Oil', 'Hospitals', 'Mining', 'Hedge funds', 'Automobiles', 'Mining, copper products', 'Real estate, shipping', 'Pig breeding', 'Batteries, automobiles', 'Oil & gas', 'Hedge funds', 'Oil, gas', 'Quicken Loans', 'Steel', 'Hedge funds', 'Investments', 'Steel', 'Real estate', 'Home improvement stores', 'Newspapers, TV network', 'Banking', \"Aldi, Trader Joe's\", 'Finance, telecommunications', 'medical devices', 'H&M', 'Google', 'Hedge funds', 'Soy sauce', 'Supermarkets', 'Supermarkets', 'Beer', 'Real estate', 'Pharmaceuticals', 'Wireless networking', 'Retail, investments', 'Batteries', 'Diversified', 'Retail', 'Alcohol, real estate', 'Heineken', 'Medical devices', 'Automobiles', 'Steel, telecom, investments', 'Paints', 'Commodities', 'Cement, sugar', 'Real estate', 'Shipping', 'Hospitals', 'Casinos/hotels', 'Shipping', 'Building supplies', 'WhatsApp', 'Dallas Cowboys', 'Oil & gas, banking', 'Real estate', 'Automobiles, batteries', 'Real estate', 'Banking', 'Sports, real estate', 'Oil, banking, telecom', 'Energy', 'Coal', 'Vaccines', 'Auto parts', 'Apple, Disney', 'Palm oil, shipping, property', 'Real estate', 'Messaging app', 'Pharmaceuticals', 'Pharmaceuticals', 'Agribusiness', 'Online retail', 'Hedge funds', 'Fertilizer, real estate', 'Manufacturing', 'Investments', 'Luxury goods', 'Luxury goods', 'Video surveillance', 'Internet media', 'Energy, sports, entertainment', 'Gas stations', 'Retail, media', 'Media', 'Manufacturing, New England Patriots', 'Beer', 'Gold', 'E-commerce', 'Cryptocurrency exchange', 'Banks, real estate', 'Software', 'Medical devices', 'Business software', 'Oil', 'Steel', 'Facebook', 'Auto parts', 'Walmart', 'Software', 'Banking, property', 'Real estate', 'Oil', 'Diversified', 'Infrastructure, commodities', 'Hermes', 'Shipping', 'Shipping', 'Shipping', 'Investments', 'Fertilizers', 'Private equity', 'Smartphones', 'Manufacturing', 'Pharmaceuticals', 'Warehouse automation', 'Solar panels', 'Chemicals', 'Candy, pet food', 'Candy, pet food', 'Candy, pet food', 'Candy, pet food', 'Investments', 'Diversified', 'Biotech, investments', 'E-commerce', 'Airbnb', 'Vacuums', 'Steel, investments', 'Diversified', 'Energy, investments', 'Cable television', 'Software services', 'Discount brokerage', 'Hardware stores', 'Google', 'Mining', 'Real estate', 'Alcoholic beverages', 'Hydraulic machinery', 'Packaging', 'Packaging', 'Packaging', 'Ecommerce', 'Venture capital', 'E-commerce', 'Facebook', 'EBay, PayPal', 'Batteries', 'Oil', 'Chemicals', 'Retail, real estate', 'Private equity', 'Investments', 'Soft drinks, fast food', 'Software', 'Beer', 'Real estate', 'Google', 'Investments', 'Walmart', 'Solar wafers and modules', 'Media, automotive', 'Diamonds', 'Media, automotive', 'Aluminum products', 'Sporting goods retail', 'Drugstores', 'Investments', 'Real estate', 'Oil, banking, telecom', 'Cement, sugar', 'Private equity', 'Real estate', 'Real estate', 'Real estate', 'Diversified', 'Diversified', 'Houston Rockets, entertainment', 'Diversified', 'Oil and gas, IT, lotteries', 'Airbnb', 'Oil', 'Home Depot', 'Insurance', 'Private equity', 'Coal mines', 'Investments', 'Private equity', 'Sports apparel', 'Walmart', 'Samsung', 'Private equity', 'Hedge funds', 'Metals and mining', 'Real estate, construction', 'Telecom', 'Petrochemicals', 'Petrochemicals', 'Financial information', 'Furniture', 'Shoes', 'Cheese', 'Cheese', 'Movies, record labels', 'Internet search', 'Agribusiness', 'Semiconductors', 'Medical devices', 'Real estate', 'Photovoltaic equipment', 'Pharmaceuticals', 'Chemicals', 'Airbnb', 'Real Estate', 'Chemicals', 'Real estate', 'E-commerce', 'Pharmaceuticals', 'Home Depot', 'Supermarkets', 'Sports apparel', 'Hedge funds', 'Private equity', 'Restaurants', 'Software', 'Petrochemicals', 'Textiles, apparel', 'Real estate', 'Manufacturing, investments', 'Construction, investments', 'Agriculture', 'Cement', 'Mining, metals, machinery', 'Fashion retail', 'Ports', 'Electronics components', 'Trading, investments', 'Electronics', 'Real estate, investments', 'Auto loans', 'Pipelines', 'Fintech', 'Personal care goods', 'Beverages', 'Healthcare software', 'Gambling', 'Self storage', 'Construction equipment', 'Health care', 'Banking', 'Electronics', 'Business software', 'Online games', 'Online games', 'Mapping software', 'Paints', 'Apparel', 'Real estate', 'Diversified', 'Diversified', 'Food distribution', 'Food distribution', 'Beverages', 'Diversified', 'Homebuilding, insurance', 'Cargill', 'Hedge fund', 'Lithium batteries', 'Real estate', 'Zara', 'Medical equipment', 'Pipelines', 'Media', 'Online gambling', 'Pipelines', 'Pipelines', 'Fidelity', 'Tech investments', 'Intel', 'Hedge funds', 'Hedge funds', 'Metals, investments', 'Electronics components', 'Pipelines', 'Money management', 'Hedge funds', 'Lego', 'Lego', 'Lego', 'Pharmaceuticals', 'Batteries', 'Solar panel components', 'Chemicals', 'Internet, telecom', 'Natural gas', 'Real estate', 'Real estate', 'Hedge funds', 'Computer hardware', 'Lego', 'Computer hardware', 'Snacks, beverages', 'Chemicals', 'Chick-fil-A', 'Chick-fil-A', 'Chick-fil-A', 'Hedge funds', 'Semiconductors', 'Investments', 'Private equity', 'Microsoft', 'Retail, real estate', 'Real estate', 'Investments, real estate', 'Real estate, investments', 'Real estate', 'Investments', 'Staffing, Baltimore Ravens', 'Hedge funds', 'Biomedical products', 'Oil, banking, telecom', 'Fertilizer', 'Banking', 'Construction, mining', 'Construction equipment', 'Solar equipment', 'Private equity', 'Pharmaceuticals', 'Natural gas distribution', 'Metalworking tools', 'Beer, investments', 'Investments', 'Temp agency', 'Beverages', 'Power strips', 'Power strip', 'Investments', 'Telecom, oil', 'Private equity', 'Coffee', 'Coffee', 'Hotels, energy', 'Telecom', 'Smartphone screens', 'Steel, mining', 'Real estate, retail', 'Real estate', 'Convinience stores', 'Security software', 'Retail, investments', 'Diversified', 'Investments', 'Investments', 'Investments', 'IT provider', 'Retail', 'Real estate', 'Diversified', 'Hedge funds', 'Finance', 'Food, beverages', 'Private equity', 'Medical devices', 'Pharmaceuticals', 'Steel, coal', 'Medical equipment', 'Record label', 'Oil', 'Real estate, investments', 'Cement', 'Shipping', 'Investments', 'Investments', 'Investments', 'Shipping', 'Oil, real estate', 'Package delivery', 'Motorcycles', 'Investments', 'Pharmaceutical ingredients', 'Hotels, investments', 'Hotels, investments', 'Gambling software', 'Biotech', 'Auto parts', 'Carnival Cruises', 'Media, automotive', 'Electronics', 'Payments software', 'Payment software', 'Timberland, lumber mills', 'Automobiles', 'Toyota dealerships', 'Diversified', 'Chemicals', 'Pharmaceuticals', 'Pharmaceuticals', 'Manufacturing, investments', 'Media, automotive', 'Finance', 'Hedge funds', 'Medical packaging', 'Media, automotive', 'Software', 'Biotech', 'Luxury goods', 'Paints', 'Mortgage lender', 'IT provider', 'Textiles, petrochemicals', 'Kitchen appliances', 'Luxury goods', 'Consumer goods', 'Consumer goods', 'Consumer goods', 'Consumer goods', 'Finance', 'Real estate', 'Carpet', 'Fidelity', 'Venture capital', 'Petrochemicals', 'Hotels, investments', 'Agriculture', 'Agriculture', 'Pest control', 'Finance, asset management', 'Furniture', 'Poultry genetics', 'Retail', 'Investments', 'Soy sauce', 'Real estate management', 'Apparel', 'Retail', 'Telecoms, media, oil-services', 'Electronics', 'Frozen foods', 'Online gambling', 'Microsoft', 'Plush toys, real estate', 'Real estate, private equity', 'Steel', 'Investments', 'Franklin Templeton', 'Online games', 'Private equity', 'Shipping, seafood', 'Private equity', 'Pharmaceuticals', 'Software', 'Medical devices', 'San Francisco 49ers', 'Money management', 'Oil, investments', 'Biotech and investments', 'Trading', 'Software, investments', 'Telecom', 'Pharmaceuticals', 'Online services', 'Estée Lauder', 'Sporting goods', 'Star Wars', 'Energy, sports', 'Biotechnology', 'Real estate', 'Dental implants', 'Food', 'Lululemon', 'Real estate', 'New Balance', 'Pharmaceuticals', 'Dolby Laboratories', 'E-commerce', 'Payroll services', 'Investments', 'Investments', 'Palm oil, nickel mining', 'Medical devices', 'Cheese', 'U-Haul', 'Washington Commanders', 'Diversified', 'Pipelines', 'E-commerce', 'Sports retailing', 'Supermarkets', 'Hospitals', 'Gas stations, retail', 'Cleaning products', 'Cleaning products', 'Cleaning products', 'Venture capital', 'IT provider', 'Cleaning products', 'Pharmaceuticals', 'Manufacturing', 'Mining', 'Energy, investments', 'New Orleans Saints', 'Electronics', 'Carpet', 'Banking', 'Real estate', 'Samsung', 'Hair dryers', 'Bloomberg LP', 'Aluminum, diversified', 'Video games', 'Vodka', 'Online media, Dallas Mavericks', 'Cable television', 'Twitter, Square', 'Petrochemicals', 'Mining', 'Financial services', 'Estee Lauder', 'Renewable energy', 'Gaming', 'Telecom', 'Supermarkets', 'Supermarkets', 'Supermarkets', 'Food', 'FedEx', 'Private equity', 'Heating, cooling equipment', 'Energy drinks', 'Healthcare', 'Tequila', 'Software', 'Acoustic components', 'Software', 'Dairy', 'Software services', 'Retail, real estate', 'Private equity', 'Real estate', 'Fintech', 'Chemicals', 'Retail', 'Chemicals, spandex', 'Biotech, vaccines', 'Computer services, real estate', 'Defense', 'Staffing & recruiting', 'Construction', 'Biochemicals', 'Retail', 'Real estate', 'Philadelphia Eagles', 'Investment research', 'Home-cleaning robots', 'Titanium', 'Telecom', 'Private equity', 'Banking', 'Private equity', 'Pharmaceuticals', 'Trucking', 'Little Caesars Pizza', 'Pharmacies', 'Metals', 'Banking', 'Banking', 'Real estate', 'Real estate', 'Cargill', 'Real estate', 'Diversified', 'Medical equipment', 'Finance', 'Finance', 'Drones', 'Solar inverters', 'Business software', 'Investments', 'Carnival Cruises', 'Oil, banking, telecom', 'Real estate', 'Real estate', 'Insurance', 'Franklin Templeton', 'Coal', 'Navigation equipment', 'Finance', 'Groupon, investments', 'Smartphones', 'Investments', 'Venture capital', 'Hotels, investments', 'U-Haul', 'EBay', 'In-N-Out Burger', 'Supermarkets', 'Diversified', 'Facebook, investments', 'Agriculture', 'Food services', 'Publishing', 'Beverages', 'Oil, real estate', 'Software', 'Spirits', 'Elevators, escalators', 'Paint', 'Food service', 'Tobacco distribution, retail', 'Campbell Soup', 'Banking, minerals', 'Banking, minerals', 'Billboards, Los Angeles Angels', 'Train cars', 'Real estate', 'Construction equipment, media', 'Cybersecurity', 'Biotech', 'Oil, investments', 'Email marketing', 'Subway', 'Conglomerate', 'Electrical equipment', 'Sports', 'Uber', 'Aluminum', 'Email marketing', 'Battery separators', 'E-commerce', 'Car dealerships', 'Telecom', 'Telecom', 'Marvel comics', 'Banking, real estate', 'Telecom', 'Movies', 'Pharmaceuticals', 'Oil trading', 'Steel', 'Valves', 'Auto parts', 'Cargill', 'Cargill', 'Insurance, beverages', 'Insurance', 'Hyundai', 'Investments', 'Coffee makers', 'Optometry', 'Oil', 'Indianapolis Colts', 'Diversified', 'Cargill', 'Hospitals', 'Banking, minerals', 'Banking, minerals', 'Videogames', 'Consumer goods', 'Consumer goods', 'Consumer goods', 'Glass', 'Venture capital', 'Finance', 'Consumer goods', 'Pharmaceuticals', 'Semiconductors', 'Pharmaceuticals', 'Aviation', 'Cement, diversified', 'Online media', 'Investments', 'Private equity', 'Airline', 'Poultry processing', 'Book distribution, transportation', 'Electric vehicles', 'Real estate', 'Real estate', 'Oil & gas', 'Mobile phone retailer', 'Healthcare', 'Finance', 'Aircraft leasing', 'Packaging materials', 'Packaging materials', 'Fintech', 'Insurance', 'Real estate', 'Real estate', 'Imaging systems', 'Logistics', 'Hotels, motels', 'Advertising', 'IT provider', 'Real estate', 'Fintech', 'Retail', 'Motors', 'Hedge funds', 'Retail', 'Hotels, investments', 'Software', 'Starbucks', 'Best Buy', 'Real estate', 'Electrical equipment', 'Diversified', 'Diversified', 'Venture capital', 'Private equity', 'Auto parts, distribution', 'Beer', 'Hotels', 'Banking', 'Casinos', 'Hedge funds', 'Car dealerships', 'Investments', 'Fintech', 'Venture capital', 'Real estate', 'Real estate', 'Hedge funds', 'Diversified', 'Shoes', 'Software', 'Software', 'Software', 'Hotels, investments', 'Supermarkets', 'Real estate', 'Fashion investments', 'Shipping', 'Liquor', 'Automobiles, batteries', 'Smartphone components', 'Electric bikes, scooters', 'Eyeglasses', 'Generic drugs', 'Investments', 'Microchip testing', 'Private equity', 'Eyeglasses', 'Eyeglases', 'Eyeglasses', 'Eyeglasses', 'Eyeglasses', 'Eyeglasses', 'Investing', 'Skincare', 'Software', 'Oil, coal, real estate', 'Paper', 'Infant formula', 'Hedge funds', 'Commodities', 'Hospitals', 'Investments', 'Drugstores', 'Construction, pipes, banking', 'Winter jackets', 'Biopharmaceuticals', 'Auto parts', 'Private equity', 'Business software', 'Manufacturing', 'Fertilizer', 'Cybersecurity', 'Shipping', 'Eyeglasses', 'Steel', 'Hedge funds', 'Renewable energy', 'Metals', 'Diversified', 'Consumer goods', 'Chemicals', 'Virgin', 'Finance', 'Spirits', 'Diamond jewelry', 'Cable television', 'Johnson & Johnson, sports', 'Investments', 'Estee Lauder', 'Tobacco', 'Online retail', 'Web hosting', 'TD Ameritrade', 'Real estate', 'Pharmaceuticals', 'Publishing', 'Flavorings', 'Pharmaceuticals', 'Software', 'Zoom Video Communications', 'Bloomberg LP', 'Scaffolding, cement mixers', 'Hedge funds', 'Hearing aids', 'Quartz products', 'Campbell Soup', 'Beer', 'Car dealerships', 'Surveillance equipment', 'Shopping malls', 'Homebuilding', 'Diversified', 'Investments', 'Movie making', 'Home furnishings', 'Fertilizer', 'Discount brokerage', 'Casinos, real estate', 'Telecom', 'Venture capital', 'Software', 'Finance and investments', 'Fintech', 'Hedge fund', 'Investments', 'Furniture', 'Agribusiness', 'Retail', 'Tequila', 'Fashion retail, investments', 'Fashion retail, investments', 'Chemicals', 'Supermarkets, investments', 'Household chemicals', 'Fashion', 'Chemicals', 'Biotech', 'Electric scooters', 'Satellite TV', 'Yahoo', 'Logistics, real estate', 'Retail', 'Software services', 'Department stores', 'Investment', 'Pharmaceuticals', 'Investments', 'Samsung', 'Lithium', 'Manufacturing', 'Pharmaceuticals, power', 'Pharmaceuticals, power', 'Mining, commodities', 'Real estate', 'Cars', 'Construction', 'Private equity', 'Energy drinks', 'Ticketing service', 'Oil & gas, investments', 'Packaging', 'Retail', 'Investment banking', 'Medical equipment', 'Transport, engineering, real estate', 'Software', 'Software', 'Electronic trading', 'Wine', 'Casinos, hotels', 'Video games', 'Auto parts', 'Auto parts', 'Online gambling', 'Investments', 'Flavorings', 'Paints', 'Paints', 'Investments', 'Aviation', 'Real estate', 'Digital advertising', 'Netflix', 'Education', 'Cosmetics', 'Palm oil', 'Estee Lauder', 'Meat processing', 'Glass', 'Chemical industry', 'Mining, commodities', 'Readymade garments', 'Diversified', 'Private equity', 'Real estate', 'Real estate', 'Banking', 'Hotels, investments', 'Diversified', 'Fashion', 'Publishing', 'Real estate', 'Stock brokerage', 'Nutrition, wellness products', 'Online games', 'Diversified', 'Diversified', 'Real estate, investments', 'Oil & gas', 'Art, car dealerships', 'Software, investments', 'Pharmaceuticals', 'Spirits', 'Real estate', 'Hair care products', 'Real estate', 'Private equity', 'Drugstores', 'Auto parts, distribution', 'Shopping centers', 'Private equity', 'Copper, education', 'Used cars', 'Frozen foods', 'Banking', 'Hearing aids', 'Real estate', 'Chemicals', 'Fashion retail', 'Pharmaceuticals', 'Supermarkets', 'Electronics', 'Consumer goods', 'Laboratory services', 'Pharmaceuticals', 'Hedge funds', 'Pharmaceuticals', 'Fashion retail', 'Sports apparel', 'Liquor', 'Real estate', 'Restaurants', 'Palm oil', 'Diversified', 'Diversified', 'Education', 'Gaming', 'Pharmaceuticals', 'Investments', 'Solar panel materials', 'Fashion retail', 'Automotive brakes', 'Pharmaceuticals', 'Real estate', 'Mobile phones', 'Netscape, investments', 'Convenience stores', 'Hair products, tequila', 'Formula One', 'Defense, hotels', 'Live entertainment', 'Furniture', 'Engineering', 'Medical devices', 'Homebuilding', 'Real estate', 'Diversified', 'Samsung', 'Consumer products', 'Healthcare', 'Packaging', 'Flavorings', 'Spotify', 'Energy', 'Drugstores', 'Software', 'Real estate', 'Real estate', 'Oil & gas', 'Investments', 'Tires', 'Pharmaceuticals', 'TV network, investments', 'Energy drinks', 'Hedge fund', 'Medical devices', 'Hedge funds', 'Chewing gum', 'Supermarkets', 'Fashion retail', 'Jewelry', 'Pharmaceuticals', 'Uber', 'Casinos, property, energy', 'Hotels', 'Hyundai', 'Consumer goods', 'Supermarkets', 'Chemicals', 'Casinos, mixed martial arts', 'Sensor technology', 'Consumer goods', 'Diversified', 'Palm oil, property', 'Construction materials', 'Chemicals', 'Walmart, logistics', 'Telecom', 'Telecom', 'Real estate', 'Consumer goods', 'Art collection', 'Software services', 'Retail', 'Retail, real estate', 'Education', 'Adhesives', 'Facebook', 'Drug distribution', 'Video streaming', 'Metals, coal', 'Petrochemicals', 'Shipping', 'EBay', 'Building materials', 'Pharmaceuticals', 'Electrical equipment', 'Investments', 'Investments', 'Diversified', 'Diversified', 'Diversified', 'Diversified', 'Commodities', 'Biopharmaceuticals', 'Pharmaceuticals', 'Pharmaceuticals', 'Metals, mining', 'Fast food', 'Hedge funds', 'Oil & gas', 'Casinos, mixed martial arts', 'Automobiles', 'Money management', 'Hotels', 'Mining', 'Mining, steel', 'Consumer goods', 'Building materials', 'Financial services', 'Real estate', 'Real estate', 'Diversified', 'Banking, insurance, media', 'Real estate', 'Real Estate', '3D printing', 'Scientific equipment', 'Real estate', 'Casinos', 'Software', 'Nutritional supplements', 'Entertainment', 'Mining', 'Telecom', 'Candy', 'Diversified', 'Copy machines, software', 'Consumer goods', 'Consumer goods', 'Real estate', 'Pipe Manufacturing', 'Pipe Manufacturing', 'Biotech investing', 'Facebook', 'Technology services', 'Publishing', 'Agrochemicals', 'Real estate, airport', 'Snapchat', 'Printing', 'Movies, investments', 'Mining, banking, hotels', 'Fish farming', 'Furniture', 'Medical equipment', 'Pharmaceuticals', 'Real estate', 'Biotech investing', 'Investing', 'Online games', 'Beef processing', 'Beef packing', 'Magazines, media', 'Chemicals', 'Pharmaceuticals', 'Investments', 'E-cigarettes', 'Airport management', 'Pipelines', 'Construction', 'Battery components', 'Campbell Soup', 'Investments', 'Investments', 'Manufacturing', 'Berkshire Hathaway', 'Cosmetics', 'Construction', 'Airport', 'Construction, investments', 'Real estate', 'Hedge funds', 'Bakeries', 'Software', 'Auto dealerships', 'Education', 'Investments', 'Diversified', 'Travel', 'Chemicals, investments', 'Investments', 'Prosthetics', 'Retailing', 'Investments', 'Real estate, airport', 'Hotels, investments', 'Beer', 'Payroll software', 'Auto parts', 'Pharmaceuticals', 'Chemicals', 'Liquefied natural gas', 'Brakes, investments', 'Food processing', 'Heating and cooling equipment', 'Construction Vehicles', 'Construction Vehicles', 'Electronics', 'Security software', 'Slim-Fast', 'Shoes', 'Shoes', 'Shoes', 'Engineering, construction', 'Investments', 'Liquor', 'Consumer goods', 'Car dealerships', 'Video streaming app', 'Fast food', 'Fast food', 'Hedge funds', 'Cement', 'Beef processing', 'Aluminum, utilities', 'Software', 'Hedge funds', 'Plastic pipes', 'Fertilizer', 'Information technology', 'Private equity', 'Gas stations', 'Investments', 'Multiple', 'Engineering', 'Energy', 'Tobacco', 'Engineering', 'Paper & related products', 'Real estate', 'Jewelry', 'Coffee, shipping', 'Medical devices', 'Tractors', 'Snapchat', 'Shopping centers', 'Aerospace', 'Hotels, investments', 'Semiconductors', 'Diversified', 'Steel production', 'Online games, investments', 'Real estate', 'Diversified', 'Diversified', 'Oil & gas, investments', 'Investments', 'Real estate', 'Auto repair', 'Retail', 'TV shows', 'Bakery chain', 'Cobalt', 'Retail', 'WhatsApp', 'Auto dealers, investments', 'Oil, investments', 'Media, investments', 'Medical technology', 'Herbal products', 'Retail', 'Private equity', 'Gap', 'Banking', 'Pharmaceuticals', 'Private equity', 'Gambling', 'Real estate', 'Financial services', 'Pharmaceuticals', 'Diversified', 'Valve manufacturing', 'Media', 'Cryptocurrency', 'Aerospace', 'Soy sauce', 'Commodities', 'Hotels, investments', 'Real estate', 'Hand tools', 'Diversified', 'Financial services', 'Payments software', 'Diversified', 'Diversified', 'Diversified', 'Semiconductors', 'Cable television', 'Real estate', 'Private equity', 'Yahoo', 'Machinery', 'Chemicals', 'Real estate, media', 'Hedge funds', 'Oil, investments', 'Sensor systems', 'Sensor systems', 'Columbia Sportswear', 'Semiconductors', 'Real estate', 'Investments', 'Flavorings', 'Software services', 'Tires, diversified', 'Tires, diversified', 'Spotify', 'Gap', 'Retail', 'Construction', 'Private equity', 'Manufacturing', 'Private equity', 'Online retailing', 'Soy sauce', 'Pharmaceuticals', 'Financial services', 'Drugstores', 'Restaurants', 'Financial services', 'Casinos', 'Consumer goods', 'Pet food', 'Retail', 'Agriculture, land', 'Dole, real estate', 'Art collection', 'Investments', 'Candy', 'Candy', 'Luxury goods', 'Luxury goods', 'Diversified', 'Liquor', 'Investments', 'Medical devices', 'Real estate, grains', 'Fashion retail', 'Measuring instruments', 'Finance', 'Computer networking', 'Real estate, investments', 'Real estate', 'Tires', 'Real estate', 'Chicken processing', 'Pearlescent pigments', 'Construction, mining machinery', 'Dental materials', 'Precision machinery', 'Real estate, investments', 'Cryptocurrency', 'Oil, mining', 'Diversified', 'Business software', 'Retail, agribusiness', 'Insurance', 'Investments', 'Pharmaceuticals', 'Finance', 'Pharmaceuticals', 'Fashion', 'Poultry', 'Hedge funds', 'Investments', 'Pharmaceuticals', 'Automotive', 'SAP', 'Hospitals', 'Real estate', 'Finance', 'Sunglasses', 'Damaged cars', 'Sports apparel', 'Cryptocurrency', 'Retail', 'Conglomerate', 'Diversified', 'Software', 'Investments', 'Private equity', 'Berkshire Hathaway', 'WeWork', 'Airlines', 'Beverages', 'Manufacturing, investment', 'Software', 'Health IT', 'Healthcare', 'Sports teams', 'Payroll processing', 'Jewelry', 'Biotech', 'Software', 'Venture capital, Google', 'Real estate', 'Software', 'Hedge funds', 'Diversified', 'Diversified', 'Real estate', 'Textiles, petrochemicals', 'Software', 'H&M', 'Healthcare', 'Business software', 'Sports apparel', 'Budget airline', 'Coca-Cola Israel', 'Batteries', 'Agribusiness', 'Electronics', 'Package delivery', 'Investments', 'Steel', 'Batteries', 'Mining, commodities', 'Coffee', 'Construction, media', 'Construction, media', 'Casinos, banking', 'Consumer goods', 'Manufacturing', 'Electronics', 'Software', 'Oil & gas', 'Hearing aids', 'Luxury goods', 'Internet service provider', 'Animal health, investments', 'Animal health, investments', 'Real estate', 'Oil refining', 'Luxury goods', 'Steel', 'Getty Oil', 'Space, energy', 'Clinical trials', 'Diversified', 'Diversified', 'Real estate', 'Consumer goods', 'Real estate, investments', 'Supermarkets', 'Diversified', 'Machinery', 'Payment processing', 'Software', 'Retail', 'Retail', 'Real estate', 'Smartphone screens', 'Hedge funds', 'Accounting services', 'Sports teams', 'Real estate', 'Power supply equipment', 'Retail', 'Snack bars', 'Internet search', 'Diversified', 'Footwear', 'Investments', 'Biopharmaceuticals', 'Auto parts', 'E-commerce', 'Building materials', 'Metals, banking, fertilizers', 'Appliances', 'Construction', 'Steel pipes, diversified', 'E-commerce', 'Education technology', 'Infrastructure', 'Fast fashion', 'Medical cosmetics', 'Investments', 'Restaurants', 'Biotech', 'Two-wheelers', \"Dick's Sporting Goods\", 'Edible oil', 'Real estate', 'Pet food', 'Food processing', 'Greek yogurt', 'Furniture retailing', 'Food, beverages', 'Food, beverages', 'Food, beverages', 'Food, beverages', 'Casinos, hotels', 'Auto parts', 'Retail', 'Glass', 'Metal processing', 'Chemicals', 'Pharmaceuticals', 'Engineering', 'Retail, investments', 'Online dating', 'Security', 'Software', 'Pharmaceuticals', 'Semiconductors', 'Stationery', 'Diversified', 'Energy, chemicals', 'Nutella, chocolates', 'Low-cost airlines', 'Pharmaceuticals', 'Real estate', 'Mining', 'Technology', 'Silicon', 'Amusement parks', 'Finance', 'Charlotte Hornets, endorsements', 'Real estate', 'Software, investments', 'Dental products', 'E-commerce', 'Semiconductor', 'TikTok', 'Appliances', 'Energy, real estate', 'Petrochemicals', 'Real estate', 'Investments', 'Telecom', 'Power equipment', 'Logistics', 'Investments', 'Mining', 'Cybersecurity', 'Hotels, investments', 'Infrastructure', 'Mining', 'Mining', 'Banking, credit cards', 'Engineering', 'TV broadcasting', 'Defense Contracting', 'Cosmetics', 'Data centers', 'Sports', 'Investments', 'Banking, insurance', 'Mining', 'Plastics', 'E-commerce', 'Touch screens', 'Semiconductor', 'Electronics components', 'Software', 'Solar energy equipment', 'Healthcare', 'Forestry, mining', 'Oil & gas', 'Sports', 'Banking', 'Oil, gas', 'Luxury goods', 'Supermarkets', 'Supermarkets', 'Furniture retailing', 'Stationery', 'Batteries', 'Communication equipment', 'Diversified', 'Diversified', 'Cargill', 'Coca-Cola bottler', 'Las Vegas Raiders', 'Hedge funds', 'Medical devices', 'Auto parts', 'Pharmaceuticals, diversified', 'Pharmaceuticals, diversified', 'Airports, investments', 'Real estate', 'Cosmetics', 'Electrical equipment', 'Conglomerate', 'Banking, investments', 'LinkedIn', 'Chemicals', 'Storage facilities', 'Real estate', 'Private equity', 'Investments', 'Diversified', 'Sears', 'Diversified', 'Cheese', 'Real estate', 'Real estate', 'Cargill', 'Telecom', 'Retail', 'Price comparison website', 'Restaurants', 'Adhesives', 'Adhesives', 'Hotels, investments', 'Jewellery', 'Kitchen appliances', 'Hedge funds', 'Homebuilding, NFL team', 'Photovoltaics', 'Diversified', 'Semiconductors', 'Plastics', 'Investments', 'Cargill', 'Diversified', 'Paints', 'Construction', 'Drugstores', 'Oil and gas', 'Real estate', 'Real estate', 'Retail', 'Campbell Soup', 'Pharmaceuticals', 'Chemicals, logistics', 'Precious metals, real estate', 'Oil, banking', 'Chemicals', 'Software', 'Home furnishings', 'Hotels, diversified', 'Sports team', 'Home sales', 'Fashion retail, investments', 'Internet', 'Hedge funds', 'Oil & gas', 'Dairy', 'Diversified', 'Software', 'Apple', 'Finance', 'TV programs', 'Construction', 'Software', 'Pharmaceuticals', 'Nascar, racing', 'Pharmaceuticals', 'Insurance', 'Salsa', 'Pharmaceuticals', 'Hedge funds', 'Real estate', 'Auto parts', 'Pharmaceuticals', 'Medical equipment', 'Software', 'LG', 'Security software', 'Golden State Warriors', 'Blockchain, technology', 'Investments', 'Mining', 'Media', 'Media', 'Media', 'Medical patents', 'Electronics components', 'Real estate', 'Fintech', 'Real estate', 'Art', 'Industrial explosives', 'Candy', 'Diversified', 'Electronics', 'Media', 'Leveraged buyouts', 'Cloud computing', 'Media, real estate', 'Chemicals', 'Information technology', 'Steel pipes', 'Agribusiness', 'Chemical', 'Software services', 'Cosmetics', 'Dairy & consumer products', 'Hygiene products', 'Logistics', 'Steel', 'Software', 'E-cigarettes', 'Payments software', 'Heating and cooling equipment', 'Blockchain technology', 'Online media', 'Twitter', 'Investments', 'Finance', 'Batteries', 'Medical equipment', 'Real estate', 'cosmetics', 'Steel', 'Real estate', 'Tennessee Titans', 'Venture capital investing', 'Steel', 'Real estate', 'Entertainment', 'Mutual funds', 'Venture capital', 'Household chemicals', 'Shipbuilding', 'Energy drink', 'Investments', 'Health IT', 'FIAT, investments', 'Motorhomes, RVs', 'Video games', 'Money management', 'Insurance', 'Real estate', 'Shoes', 'Retail', 'Software', 'Hotels', 'Real estate finance', 'Elevators, escalators', 'Real estate', 'Insurance, investments', 'Chemicals', 'Transportation', 'Biotech', 'Apparel', 'Online gaming', 'Online gaming', 'Fashion retail', 'Real estate', 'Real estate', 'Express delivery', 'Palm oil, property', 'Cloud computing', 'Pharmaceuticals', 'Medical products', 'Soy sauce', 'Sandwich chain', 'Iron ore mining', 'Drones', 'Virtual reality', 'Bloomberg LP', 'Online retail', 'Supermarkets', 'Chemicals', 'Wedding dresses', 'Adhesives', 'Retail', 'Real estate', 'Steel pipes', 'Pharmaceutical', 'Comcast', 'Waffle House', 'Chemicals', 'Homebuilder', 'Agribusiness', 'Healthcare', 'Agrochemicals', 'Cosmetics', 'Real estate development', 'Insurance, NFL team', 'Call centers', 'Footwear', 'Semiconductor', 'Sports teams', 'Real estate services', 'Energy services', 'Packaging', 'Bars', 'Coking', 'Telecom, investments', 'Financial technology', 'Logistics', 'Manufacturing', 'Electronics', 'Biotech', 'Engineering, automotive', 'Investment banking', 'Real estate', 'Money management', 'Hedge funds', 'Hardware', 'Shoes', 'Shoes', 'Frozen foods', 'Electronics', 'Semiconductors', 'Real estate', 'Oil, semiconductor', 'Real estate', 'Construction', 'Real estate, private equity', 'Venture capital', 'Logistics, baseball', 'Transport, logistics', 'Banking', 'Software', 'Banking', 'Commodities, investments', 'Financial services', 'Convinience stores', 'Pharmaceuticals', 'Pharmaceuticals', 'Investments', 'Investments', 'Telecommunication, sports', 'Oil & gas, investments', 'Elevators, escalators', 'Executive search, investments', 'DirecTV', 'Hygiene products', 'Non-ferrous metals', 'Real estate', 'Retail, wholesale', 'Online games', 'Pharmaceuticals', 'Oil, investments', 'Investments', 'Package delivery', 'Biotech', 'Manufacturing', 'Banking, shipping', 'Palm oil, property', 'Real estate', 'Real estate', 'Online games', 'Semiconductor devices', 'Real estate', 'Telecom', 'Mobile payments', 'Real estate', 'Oil refinery', 'Investments', 'Automotive', 'Mutual funds', 'Mutual funds', 'Electric power', 'Steel, autoparts', 'Steel, investments', 'Beer', 'energy drinks', 'Manufacturing', 'Alcohol', 'Metals, investments', 'Cloud computing', 'Pulp and paper, diversified', 'Education', 'Insurance, NFL team', 'Insurance', 'Batteries, investments', 'Pharmaceutical services', 'Petrochemicals', 'Business software', 'Mining', 'TV, movie production', 'Toys', 'Fitness equipment', 'Natural gas', 'Retailing', 'Retailing', 'Retailing', 'Roku', 'Materials', 'Pharmaceuticals', 'electronics', 'Waste disposal', 'Software', 'Pharmaceuticals', 'Electronics', 'Auto dealerships', 'Conglomerate', 'Electronic components', 'Online games', 'Aluminum', 'Wine', 'Gambling products', 'Snacks', 'Petroleum, diversified', 'Diversified', 'Gym equipment', 'Investments', 'Investments', 'Forestry, mining', 'Pharmaceuticals', 'Fashion retail, investments', 'Mining', 'Banking, oil', 'Luxury goods', 'Consumer goods', 'Energy, banking, construction', 'Software', 'Shipping, airlines', 'Manufacturing', 'Finance, real estate', 'Banking', 'Electrodes', 'IT consulting', 'Diversified', 'Private equity', 'Manufacturing', 'Cable television', 'Retail stores', 'Ports', 'Art collection', 'Consumer electronics', 'Software', 'Private equity', 'Investments', 'Chemicals', 'Real estate', 'Consumer products, banking', 'Semiconductors', 'Movies, digital effects', 'Money management', 'Phamaceuticals', 'Pharmaceuticals', 'Investments', 'Diversified', 'Retail', 'Beer', 'Real estate, hotels', 'Banking, shipping', 'Machine tools', 'Machine tools', 'Manufacturing', 'Lithium-ion battery cap', 'Chemicals', 'Apparel', 'Stainless steel products', 'Optical components', 'Chemicals', 'Education', 'Logistics', 'Diversified', 'Hotels', 'Utilities, diversified', 'Private equity', 'Shoes', 'Fine jewelry', 'Transportation', 'Semiconductors', 'Diversified', 'Sugar, ethanol', 'Finance', 'Finance', 'Investments', 'Toll roads', 'H&M', 'Sports drink', 'Beer distribution', 'Real estate, hotels', 'Finance', 'Hedge fund', 'Healthcare services', 'Facebook', 'Automotive technology', 'Social media', 'Retail', 'Investments', 'Pharmaceuticals', 'Software', 'Airports, real estate', 'Real estate', 'Hedge funds', 'Liquor stores, supermarkets', 'Utilities, real estate', 'Instagram', 'Feed', 'Beverages', 'Semiconductors', 'Paints', 'Healthcare IT', 'Contact Lens', 'Telecom', 'Investments, art', 'Automotive', 'Telecom', 'Gambling products', 'Pharmaceuticals', 'Medical devices', 'Natural gas', 'Real estate', 'Software', 'Online games', 'Electronics', 'Brewery', 'Education', 'Online games', 'Education', 'Solar', 'Jewelry', 'Diversified', 'Investments', 'Retail', 'Flipkart', 'Pharmaceuticals', 'Real estate, manufacturing', 'Oil', 'Consumer goods', 'Nickel', 'AOL', 'Testing equipment', 'Real estate', 'Banking', 'Mining', 'Chemicals', 'Investments', 'Beauty products', 'Data analytics', 'Diversified', 'Restaurant', 'Textiles, paper', 'Cruises', 'Construction, investments', 'Banking, investments', 'Electric vehicles', 'Consumer goods', 'Fashion retail', 'Cloud storage service', 'Chemicals', 'Textiles', 'Pharmaceuticals', 'Online games', 'Real estate, hotels', 'Building materials', 'Financial services', 'Diversified', 'Real estate', 'Real estate', 'Real estate', 'Real estate', 'Diversified', 'Diversified', 'Real estate', 'Diversified', 'Mutual funds', 'Cruises', 'Fashion retailer', 'Mining', 'Electric vehicles', 'Powdered metal', 'Medical equipment', 'Manufacturing', 'Paper', 'Investments', 'Drugstores', 'Agribusiness', 'Cable TV, investments', 'Cooking appliances', 'Manufacturing', 'Chemicals', 'Real estate', 'Clinical diagnostics', 'Real estate', 'Software', 'Medical diagnostic equipment', 'Steel', 'Energy drinks,investments', 'Investments', 'Manufacturing', 'Real estate', 'Medical devices', 'H&M', 'Electric scooters', 'Tire', 'Pharmaceuticals', 'Diversified', 'Music, cosmetics', 'Construction, pipes, chemicals', 'Real estate', 'Building materials', 'Generic drugs', 'Real estate', 'Refinery, chemicals', 'Refinery, chemicals', 'Retail', 'Cloud computing', 'H&M', 'Pharmaceuticals', 'Pharmaceuticals', 'Diversified', 'Fiber optic cables', 'Logistics', 'Manufacturing', 'Carbon fiber products', 'Chemicals', 'Electronic components', 'Industrial machinery', 'Money management', 'Machinery', 'Chemicals', 'Drones', 'Motors', 'Beverages', 'Real estate', 'Pharmaceuticals', 'Machinery', 'Real estate', 'Real estate', 'Machinery', 'Electrical equipment', 'Real estate', 'Fashion retail', 'Pulp and paper, diversified', 'Damaged cars', 'Chemicals', 'Pharmaceuticals', 'Pharmaceuticals', 'Real estate', 'Banking, development', 'Automotive technology', 'Flipkart', 'Coal', 'Investments, real estate', 'Pharmaceuticals', 'Banking, insurance', 'Diversified', 'Pharmaceuticals, food', 'Messaging software', 'Electronic components', 'Software', 'Industrial equipment', 'Real estate, electronics', 'Minerals processing', 'Power tools', 'Auto parts', 'Cell phone distribution', 'Investments', 'Real estate', 'Food', 'Technology', 'Media', 'Financial services', 'Financial services', 'Vaccines', 'Energy', 'Video games', 'Video games', 'Online payments', 'Real estate', 'Chemical products', 'Trading, investments', 'Investments', 'Elevators, escalators', 'Real estate', 'Finance', 'Asset management', 'Industrial equipment', 'Auto parts', 'Manufacturing', 'Manufacturing', 'Asset management', 'Insurance', 'Call centers', 'Real estate, gambling', 'Software firm', 'Medical devices', 'Investments', 'Video games', 'Retail', 'Software', 'Payments, banking', 'Estée Lauder', 'Internet', 'Genentech, Apple', 'Seed production', 'Steel, diversified', 'Petro Firbe', 'Machinery', 'Pharmaceuticals', 'Agribusiness', 'Online games', 'Medical equipment', 'Agribusiness', 'Diversified', 'E-commerce', 'Real estate', 'Laboratory services', 'Finance services', 'Banking', 'Aircraft leasing', 'Investments', 'Investments, energy', 'Consumer products, banking', 'Casinos', 'Biotech', 'Banking', 'Defense contractor', 'E-commerce', 'Real estate', 'Infrastructure', 'Pharmaceuticals', 'Pharmaceuticals', 'Supermarkets', 'Investments, real estate', 'Chemicals', 'Diversified', 'Beverages', 'Video games, pachinko', 'Software', 'Chemicals', 'Healthcare', 'Refinery, chemicals', 'Banking', 'Food, retail', 'Machinery', 'Sports', 'Sports', 'Sports', 'Gold, coal mining', 'Refinery, chemicals', 'Meat processing', 'Meat processing', 'Real estate', 'Hospitals', 'Retail', 'Airline', 'Electronics components', 'Software', 'Health products', 'Battery components', 'Internet', 'Medical devices', 'Software', 'Software', 'Aluminum products', 'Online recruitment', 'Hotels', 'Mining', 'Semiconductor materials', 'Banking', 'Investments', 'Pharmaceuticals', 'Steel', 'Finance', 'Software', 'Hospitals', 'Real estate', 'Real estate', 'Real estate', 'Lithium battery', 'Money management', 'Medical technology', 'Medical technology', 'Medical technology', 'Property, healthcare', 'Food', 'Pharmaceuticals', 'Retail', 'Software', 'Shoes', 'Specialty chemicals', 'Publishing', 'Sneakers, sportswear', 'Fashion retail', 'Media', 'Solar panels', 'Diversified', 'Diversified', 'Home appliances', 'Pulp and paper', 'Manufacturing', 'Fitness clothing', 'Furniture retail', 'Mining', 'Textiles', 'Private equity', 'Steel tubes', 'Technology', 'Construction, investments', 'Urban Outfitters', 'Financial services', 'Software', 'Casinos', 'Textiles, apparel', 'Technology', 'Communications', 'Food & beverage retailing', 'Finance', 'Shapewear, cosmetics, reality TV', 'Auto parts', 'Retailing', 'Real estate', 'Building materials', 'Building materials', 'Auto parts', 'Cirque du Soleil', 'Hospitality', 'Petro Fibre', 'Pharmaceuticals', 'Medical services', 'Lithium batteries', 'Conglomerate', 'Natural gas distribution', 'Software', 'Cargill', 'Cargill', 'Cargill', 'Cargill', 'Diversified', 'Manufacturing', 'Construction', 'Diversified', 'Data management', 'Healthcare services', 'Lighting', 'Diversified', 'Private equity', 'Industrial explosives', 'Candy', 'Stock photos', 'Fisheries', 'Shopping malls', 'Computer games', 'Online games', 'Diversified', 'Health care', 'Pig breeding', 'Lumber', 'Investments', 'Agribusiness', 'Finance', 'Real estate', 'Hedge funds', 'Cheese', 'Engineering, sugar', 'Finance', 'Cosmetics', 'Online apparel retail', 'Software', 'Car rentals', 'Car rentals', 'Coal, investments', 'Healthcare', 'Software', 'Chemical products', 'Chemical products', 'Hedge funds', 'Data analytics', 'Coal', 'Textile, chemicals', 'Food', 'Manufacturing', 'Real estate', 'Financial services', 'Manufacturing', 'TV shows', 'Investment banking', 'Fashion', 'Real estate', 'Asset management', 'Pharmaceuticals', 'Pneumatic equipments', 'Lithium', 'Shoes', 'Coca Cola Israel', 'Cryptocurrency', 'Cryptocurrency', 'Manufacturing', 'Finance', 'Apparel', 'Batteries', 'Manufacturing', 'Wine', 'Manufacturing', 'Education', 'Petro Fibre', 'Pharmacy', 'Retail', 'Data analytics', 'Diversified', 'Telecom', 'Paper manufacturing', 'Pharmaceuticals', 'Chemicals', 'Construction', 'Sports shoes', 'Investments', 'Pharmaceuticals', 'Private equity', 'Liquor', 'Spanx', 'Banking', 'Banking, investments', 'Real estate', 'Diversified', 'E-commerce software', 'Retail', 'Data centers', 'Consumer goods', 'Pharmaceuticals', 'Air compressors', 'Supermarkets', 'Supermarkets', 'Technology', 'Pharmaceutical', 'Solar energy', 'Package delivery', 'Electronics', 'Stationery', 'Poultry breeding', 'Semiconductors', 'Semiconductors', 'Coca-Cola bottler', 'Paper', 'Insurance', 'Insurance', 'Hotels', 'Pulp and paper', 'Pulp and paper', 'Investments', 'Reebok', 'Gap', 'Fashion retail', 'Manufacturing', 'Pharmaceuticals', 'Mattresses', 'Private equity', 'Building, development', 'Fashion retail', 'Fashion retail', 'Retail, investments', 'EasyJet', 'Pig breeding', 'Coffee', 'Coffee', 'Software', 'Software', 'Printed circuit boards', 'Tires', 'Pachinko machines', 'Auto loans', 'Financial services', 'IKEA', 'IKEA', 'IKEA', 'Waste management', 'Auto parts', 'Energy', 'Retailing', 'Sports data', 'LG', 'Banking', 'Specialty chemicals', 'Medical diagnostics', 'Casinos', 'Construction, real estate', 'Banking, credit cards', 'Banking', 'Banking, credit cards', 'Medical devices', 'Medical devices', 'Flooring', 'Telecommunication', 'Cosmetics', 'Internet and software', 'Two wheelers', 'Two wheelers', 'Motorcycles', 'Coal', 'Tires, retail', 'Retail', 'Real estate, diversified', 'Under Armour', 'Pharmaceuticals', 'Medical equipment', 'Pharmaceuticals', 'Security services', 'Cryptocurrency', 'Pinterest', 'Finance', 'Solar systems', 'Stock exchange', 'Investments', 'Liquor', 'Toys', 'Semiconductors', 'Oilfield equipment', 'Semiconductors', 'Gaming', 'Retail', 'Auto parts', 'Wire & cables, paints', 'Food', 'Manufacturing', 'Search engine', 'Chemicals', 'Food', 'Airline', 'Video games', 'Electronics', 'Golf', 'Footwear', 'Electronics', 'Electronic components', 'Consumer', 'Pharmaceuticals', 'Vitamins', 'Cable', 'Manufacturing', 'Software', 'Soy sauce', 'Manufacturing', 'Tourism, cultural industry', 'Aluminium', 'Building materials', 'Supermarkets', 'Snacks', 'Semiconductors', 'Smartphones', 'Printed circuit boards', 'Snacks', 'Investments', 'Retail', 'Medical technology', 'Medical technology', 'Medical technology', 'Medical technology', 'Mining, banking', 'Entertainment, Margaritaville', 'Pachinko machines', 'Asset management', 'Transportation', 'Manufacturing', 'Online entertainment', 'Polyester', 'Online games', 'Batteries', 'Liquor', 'Electrical appliances', 'Real estate', 'Financial services, property', 'Diversified', 'Software', 'Office real estate', 'Software', 'Pharmaceuticals', 'Medical devices', 'Gap', 'Industrial lasers', 'Real estate', 'Financial services', 'EasyJet', 'EasyJet', 'Machinery', 'Manufacturing', 'Coal', 'Smartphones', 'Convenience stores', 'Bio-Pharma', 'Online universities', 'Investments', 'Cables & wires', 'Basketball', 'Grocery stores', 'Software', 'Tiles', 'Banking', 'Banking, sports team', 'Software, investments', 'Power', 'Cosmetics', 'Banking, investments', 'Real estate', 'Electronics', 'Hotels', 'Real estate', 'Cement', 'Banking', 'Smartphones', 'Pharmacies', 'Healthcare', 'Electronics', 'LED lighting', 'Grocery delivery service', 'Appliances', 'Appliances', 'Construction materials', 'Hydraulic pumps', 'Finance', 'Movies, television', 'Convenience stores', 'Beer', 'Energy services', 'Media, tech', 'IT consulting, outsourcing', 'Cloud computing', 'Hotels', 'Metals, telecom', 'Finance, development', 'Paints', 'Manufacturing', 'Hot sauce', 'Video games', 'Telecom', 'Software', 'Medical equipment', 'Auto parts', 'Logistics', 'Insurance, investments', 'Agribusiness', 'Sports', 'Kitchen appliances', 'Apparel', 'Chemicals', 'Manufacturing', 'Pharmaceuticals', 'Health clinics', 'Beer', 'Tyre manufacturing machinery', 'Real estate', 'Diversified']\n"
     ]
    }
   ],
   "source": [
    "print(source)"
   ]
  },
  {
   "cell_type": "code",
   "execution_count": 127,
   "id": "6f7bbc53",
   "metadata": {},
   "outputs": [
    {
     "name": "stdout",
     "output_type": "stream",
     "text": [
      "['Fashion & Retail', 'Automotive', 'Technology', 'Technology', 'Finance & Investments', 'Technology', 'Media & Entertainment', 'Telecom', 'Diversified', 'Technology', 'Fashion & Retail', 'Technology', 'Fashion & Retail', 'Technology', 'Food & Beverage', 'Technology', 'Diversified', 'Diversified', 'Fashion & Retail', 'Fashion & Retail', 'Fashion & Retail', 'Media & Entertainment', 'Technology', 'Diversified', 'Fashion & Retail', 'Technology', 'Fashion & Retail', 'Fashion & Retail', 'Logistics', 'Food & Beverage', 'Food & Beverage', 'Food & Beverage', 'Diversified', 'Technology', 'Gambling & Casinos', 'Finance & Investments', 'Food & Beverage', 'Automotive', 'Fashion & Retail', 'Diversified', 'Fashion & Retail', 'Fashion & Retail', 'Logistics', 'Logistics', 'Technology', 'Manufacturing', 'Real Estate', 'Finance & Investments', 'Finance & Investments', 'Finance & Investments', 'Automotive', 'Metals & Mining', 'Technology', 'Metals & Mining', 'Technology', 'Energy', 'Finance & Investments', 'Metals & Mining', 'Automotive', 'Technology', 'Finance & Investments', 'Metals & Mining', 'Technology', 'Manufacturing', 'Metals & Mining', 'Manufacturing', 'Manufacturing', 'Healthcare', 'Telecom', 'Metals & Mining', 'Food & Beverage', 'Finance & Investments', 'Energy', 'Fashion & Retail', 'Service', 'Technology', 'Fashion & Retail', 'Manufacturing', 'Metals & Mining', 'Energy', 'Healthcare', 'Metals & Mining', 'Finance & Investments', 'Automotive', 'Metals & Mining', 'Diversified', 'Food & Beverage', 'Automotive', 'Energy', 'Finance & Investments', 'Energy', 'Finance & Investments', 'Metals & Mining', 'Finance & Investments', 'Finance & Investments', 'Metals & Mining', 'Real Estate', 'Fashion & Retail', 'Media & Entertainment', 'Finance & Investments', 'Fashion & Retail', 'Finance & Investments', 'Healthcare', 'Fashion & Retail', 'Technology', 'Finance & Investments', 'Food & Beverage', 'Fashion & Retail', 'Fashion & Retail', 'Food & Beverage', 'Real Estate', 'Healthcare', 'Technology', 'Fashion & Retail', 'Automotive', 'Diversified', 'Fashion & Retail', 'Food & Beverage', 'Food & Beverage', 'Healthcare', 'Automotive', 'Metals & Mining', 'Manufacturing', 'Diversified', 'Manufacturing', 'Real Estate', 'Diversified', 'Healthcare', 'Gambling & Casinos', 'Logistics', 'Construction & Engineering', 'Technology', 'Sports', 'Energy', 'Real Estate', 'Automotive', 'Real Estate', 'Finance & Investments', 'Sports', 'Energy', 'Energy', 'Metals & Mining', 'Healthcare', 'Automotive', 'Technology', 'Diversified', 'Real Estate', 'Technology', 'Healthcare', 'Healthcare', 'Food & Beverage', 'Fashion & Retail', 'Finance & Investments', 'Manufacturing', 'Manufacturing', 'Finance & Investments', 'Fashion & Retail', 'Fashion & Retail', 'Finance & Investments', 'Technology', 'Finance & Investments', 'Fashion & Retail', 'Fashion & Retail', 'Media & Entertainment', 'Sports', 'Food & Beverage', 'Finance & Investments', 'Fashion & Retail', 'Finance & Investments', 'Finance & Investments', 'Technology', 'Healthcare', 'Technology', 'Energy', 'Manufacturing', 'Technology', 'Automotive', 'Fashion & Retail', 'Technology', 'Diversified', 'Real Estate', 'Energy', 'Service', 'Diversified', 'Fashion & Retail', 'Logistics', 'Logistics', 'Logistics', 'Finance & Investments', 'Manufacturing', 'Finance & Investments', 'Technology', 'Manufacturing', 'Healthcare', 'Technology', 'Energy', 'Manufacturing', 'Food & Beverage', 'Food & Beverage', 'Food & Beverage', 'Food & Beverage', 'Finance & Investments', 'Diversified', 'Healthcare', 'Technology', 'Technology', 'Manufacturing', 'Diversified', 'Diversified', 'Energy', 'Media & Entertainment', 'Technology', 'Finance & Investments', 'Fashion & Retail', 'Technology', 'Metals & Mining', 'Real Estate', 'Food & Beverage', 'Manufacturing', 'Food & Beverage', 'Food & Beverage', 'Food & Beverage', 'Fashion & Retail', 'Technology', 'Technology', 'Technology', 'Technology', 'Energy', 'Energy', 'Manufacturing', 'Fashion & Retail', 'Finance & Investments', 'Finance & Investments', 'Food & Beverage', 'Technology', 'Food & Beverage', 'Real Estate', 'Technology', 'Finance & Investments', 'Fashion & Retail', 'Manufacturing', 'Media & Entertainment', 'Metals & Mining', 'Media & Entertainment', 'Metals & Mining', 'Fashion & Retail', 'Fashion & Retail', 'Finance & Investments', 'Real Estate', 'Energy', 'Diversified', 'Finance & Investments', 'Real Estate', 'Real Estate', 'Real Estate', 'Diversified', 'Diversified', 'Food & Beverage', 'Diversified', 'Gambling & Casinos', 'Technology', 'Energy', 'Fashion & Retail', 'Finance & Investments', 'Finance & Investments', 'Metals & Mining', 'Finance & Investments', 'Finance & Investments', 'Fashion & Retail', 'Fashion & Retail', 'Technology', 'Finance & Investments', 'Finance & Investments', 'Metals & Mining', 'Diversified', 'Telecom', 'Manufacturing', 'Manufacturing', 'Technology', 'Manufacturing', 'Fashion & Retail', 'Food & Beverage', 'Food & Beverage', 'Media & Entertainment', 'Technology', 'Service', 'Technology', 'Healthcare', 'Real Estate', 'Energy', 'Healthcare', 'Manufacturing', 'Technology', 'Real Estate', 'Manufacturing', 'Real Estate', 'Technology', 'Healthcare', 'Sports', 'Fashion & Retail', 'Fashion & Retail', 'Finance & Investments', 'Finance & Investments', 'Food & Beverage', 'Technology', 'Manufacturing', 'Fashion & Retail', 'Real Estate', 'Manufacturing', 'Construction & Engineering', 'Food & Beverage', 'Manufacturing', 'Metals & Mining', 'Fashion & Retail', 'Logistics', 'Technology', 'Finance & Investments', 'Technology', 'Real Estate', 'Finance & Investments', 'Energy', 'Finance & Investments', 'Fashion & Retail', 'Food & Beverage', 'Technology', 'Gambling & Casinos', 'Service', 'Manufacturing', 'Healthcare', 'Finance & Investments', 'Manufacturing', 'Technology', 'Media & Entertainment', 'Media & Entertainment', 'Technology', 'Manufacturing', 'Fashion & Retail', 'Real Estate', 'Diversified', 'Diversified', 'Food & Beverage', 'Food & Beverage', 'Food & Beverage', 'Diversified', 'Diversified', 'Food & Beverage', 'Finance & Investments', 'Technology', 'Real Estate', 'Fashion & Retail', 'Healthcare', 'Energy', 'Diversified', 'Gambling & Casinos', 'Energy', 'Energy', 'Finance & Investments', 'Finance & Investments', 'Technology', 'Finance & Investments', 'Finance & Investments', 'Diversified', 'Technology', 'Energy', 'Finance & Investments', 'Finance & Investments', 'Manufacturing', 'Manufacturing', 'Manufacturing', 'Healthcare', 'Automotive', 'Manufacturing', 'Manufacturing', 'Telecom', 'Energy', 'Real Estate', 'Real Estate', 'Finance & Investments', 'Technology', 'Manufacturing', 'Technology', 'Food & Beverage', 'Manufacturing', 'Food & Beverage', 'Food & Beverage', 'Food & Beverage', 'Finance & Investments', 'Technology', 'Finance & Investments', 'Finance & Investments', 'Technology', 'Fashion & Retail', 'Real Estate', 'Real Estate', 'Diversified', 'Real Estate', 'Finance & Investments', 'Sports', 'Finance & Investments', 'Healthcare', 'Energy', 'Manufacturing', 'Finance & Investments', 'Logistics', 'Construction & Engineering', 'Energy', 'Finance & Investments', 'Healthcare', 'Energy', 'Manufacturing', 'Food & Beverage', 'Diversified', 'Service', 'Food & Beverage', 'Manufacturing', 'Manufacturing', 'Finance & Investments', 'Diversified', 'Finance & Investments', 'Fashion & Retail', 'Fashion & Retail', 'Energy', 'Telecom', 'Technology', 'Metals & Mining', 'Real Estate', 'Real Estate', 'Fashion & Retail', 'Technology', 'Fashion & Retail', 'Diversified', 'Finance & Investments', 'Finance & Investments', 'Finance & Investments', 'Technology', 'Fashion & Retail', 'Real Estate', 'Diversified', 'Finance & Investments', 'Finance & Investments', 'Food & Beverage', 'Finance & Investments', 'Healthcare', 'Healthcare', 'Metals & Mining', 'Healthcare', 'Media & Entertainment', 'Energy', 'Real Estate', 'Construction & Engineering', 'Logistics', 'Finance & Investments', 'Finance & Investments', 'Finance & Investments', 'Logistics', 'Energy', 'Logistics', 'Automotive', 'Finance & Investments', 'Healthcare', 'Finance & Investments', 'Service', 'Gambling & Casinos', 'Healthcare', 'Automotive', 'Service', 'Media & Entertainment', 'Technology', 'Technology', 'Technology', 'Manufacturing', 'Automotive', 'Automotive', 'Diversified', 'Manufacturing', 'Healthcare', 'Finance & Investments', 'Manufacturing', 'Media & Entertainment', 'Finance & Investments', 'Finance & Investments', 'Healthcare', 'Media & Entertainment', 'Technology', 'Diversified', 'Fashion & Retail', 'Manufacturing', 'Finance & Investments', 'Technology', 'Diversified', 'Manufacturing', 'Fashion & Retail', 'Fashion & Retail', 'Fashion & Retail', 'Fashion & Retail', 'Fashion & Retail', 'Finance & Investments', 'Real Estate', 'Manufacturing', 'Finance & Investments', 'Finance & Investments', 'Diversified', 'Finance & Investments', 'Food & Beverage', 'Food & Beverage', 'Service', 'Finance & Investments', 'Manufacturing', 'Food & Beverage', 'Fashion & Retail', 'Finance & Investments', 'Food & Beverage', 'Real Estate', 'Fashion & Retail', 'Fashion & Retail', 'Telecom', 'Technology', 'Food & Beverage', 'Gambling & Casinos', 'Technology', 'Real Estate', 'Real Estate', 'Manufacturing', 'Finance & Investments', 'Finance & Investments', 'Media & Entertainment', 'Finance & Investments', 'Logistics', 'Finance & Investments', 'Healthcare', 'Technology', 'Healthcare', 'Sports', 'Finance & Investments', 'Energy', 'Healthcare', 'Finance & Investments', 'Technology', 'Telecom', 'Healthcare', 'Technology', 'Fashion & Retail', 'Fashion & Retail', 'Media & Entertainment', 'Sports', 'Healthcare', 'Real Estate', 'Healthcare', 'Food & Beverage', 'Fashion & Retail', 'Real Estate', 'Manufacturing', 'Healthcare', 'Technology', 'Technology', 'Service', 'Finance & Investments', 'Finance & Investments', 'Metals & Mining', 'Healthcare', 'Food & Beverage', 'Automotive', 'Sports', 'Diversified', 'Energy', 'Fashion & Retail', 'Fashion & Retail', 'Fashion & Retail', 'Healthcare', 'Fashion & Retail', 'Manufacturing', 'Manufacturing', 'Manufacturing', 'Technology', 'Technology', 'Manufacturing', 'Healthcare', 'Manufacturing', 'Finance & Investments', 'Diversified', 'Sports', 'Technology', 'Manufacturing', 'Finance & Investments', 'Real Estate', 'Technology', 'Manufacturing', 'Media & Entertainment', 'Diversified', 'Media & Entertainment', 'Food & Beverage', 'Media & Entertainment', 'Media & Entertainment', 'Technology', 'Energy', 'Metals & Mining', 'Finance & Investments', 'Fashion & Retail', 'Manufacturing', 'Media & Entertainment', 'Telecom', 'Fashion & Retail', 'Fashion & Retail', 'Fashion & Retail', 'Food & Beverage', 'Logistics', 'Finance & Investments', 'Manufacturing', 'Food & Beverage', 'Healthcare', 'Food & Beverage', 'Technology', 'Technology', 'Technology', 'Food & Beverage', 'Technology', 'Fashion & Retail', 'Finance & Investments', 'Real Estate', 'Finance & Investments', 'Manufacturing', 'Diversified', 'Manufacturing', 'Healthcare', 'Technology', 'Manufacturing', 'Service', 'Construction & Engineering', 'Healthcare', 'Fashion & Retail', 'Real Estate', 'Sports', 'Finance & Investments', 'Manufacturing', 'Metals & Mining', 'Telecom', 'Finance & Investments', 'Finance & Investments', 'Finance & Investments', 'Healthcare', 'Logistics', 'Food & Beverage', 'Diversified', 'Metals & Mining', 'Finance & Investments', 'Finance & Investments', 'Real Estate', 'Real Estate', 'Food & Beverage', 'Real Estate', 'Diversified', 'Healthcare', 'Finance & Investments', 'Finance & Investments', 'Technology', 'Manufacturing', 'Technology', 'Finance & Investments', 'Service', 'Finance & Investments', 'Real Estate', 'Real Estate', 'Finance & Investments', 'Finance & Investments', 'Energy', 'Technology', 'Finance & Investments', 'Technology', 'Technology', 'Finance & Investments', 'Technology', 'Service', 'Automotive', 'Technology', 'Food & Beverage', 'Fashion & Retail', 'Diversified', 'Finance & Investments', 'Food & Beverage', 'Service', 'Media & Entertainment', 'Food & Beverage', 'Energy', 'Technology', 'Food & Beverage', 'Manufacturing', 'Manufacturing', 'Service', 'Fashion & Retail', 'Food & Beverage', 'Diversified', 'Finance & Investments', 'Sports', 'Manufacturing', 'Real Estate', 'Diversified', 'Technology', 'Healthcare', 'Energy', 'Technology', 'Food & Beverage', 'Diversified', 'Manufacturing', 'Sports', 'Technology', 'Manufacturing', 'Technology', 'Manufacturing', 'Technology', 'Automotive', 'Telecom', 'Telecom', 'Media & Entertainment', 'Finance & Investments', 'Telecom', 'Media & Entertainment', 'Healthcare', 'Energy', 'Metals & Mining', 'Diversified', 'Manufacturing', 'Food & Beverage', 'Food & Beverage', 'Finance & Investments', 'Finance & Investments', 'Automotive', 'Finance & Investments', 'Fashion & Retail', 'Healthcare', 'Energy', 'Sports', 'Diversified', 'Food & Beverage', 'Healthcare', 'Diversified', 'Diversified', 'Gambling & Casinos', 'Fashion & Retail', 'Fashion & Retail', 'Fashion & Retail', 'Manufacturing', 'Finance & Investments', 'Finance & Investments', 'Food & Beverage', 'Healthcare', 'Manufacturing', 'Healthcare', 'Service', 'Construction & Engineering', 'Media & Entertainment', 'Finance & Investments', 'Finance & Investments', 'Service', 'Food & Beverage', 'Media & Entertainment', 'Automotive', 'Real Estate', 'Real Estate', 'Energy', 'Telecom', 'Healthcare', 'Finance & Investments', 'Service', 'Manufacturing', 'Manufacturing', 'Finance & Investments', 'Finance & Investments', 'Real Estate', 'Real Estate', 'Technology', 'Logistics', 'Real Estate', 'Media & Entertainment', 'Technology', 'Real Estate', 'Finance & Investments', 'Fashion & Retail', 'Manufacturing', 'Finance & Investments', 'Fashion & Retail', 'Service', 'Technology', 'Food & Beverage', 'Fashion & Retail', 'Real Estate', 'Manufacturing', 'Diversified', 'Diversified', 'Finance & Investments', 'Finance & Investments', 'Automotive', 'Food & Beverage', 'Real Estate', 'Finance & Investments', 'Gambling & Casinos', 'Finance & Investments', 'Automotive', 'Finance & Investments', 'Finance & Investments', 'Finance & Investments', 'Real Estate', 'Real Estate', 'Finance & Investments', 'Diversified', 'Fashion & Retail', 'Technology', 'Technology', 'Technology', 'Finance & Investments', 'Fashion & Retail', 'Real Estate', 'Fashion & Retail', 'Logistics', 'Food & Beverage', 'Automotive', 'Technology', 'Manufacturing', 'Fashion & Retail', 'Healthcare', 'Finance & Investments', 'Manufacturing', 'Finance & Investments', 'Fashion & Retail', 'Fashion & Retail', 'Fashion & Retail', 'Fashion & Retail', 'Fashion & Retail', 'Fashion & Retail', 'Finance & Investments', 'Fashion & Retail', 'Technology', 'Energy', 'Manufacturing', 'Food & Beverage', 'Finance & Investments', 'Food & Beverage', 'Healthcare', 'Finance & Investments', 'Fashion & Retail', 'Construction & Engineering', 'Fashion & Retail', 'Healthcare', 'Automotive', 'Finance & Investments', 'Technology', 'Manufacturing', 'Diversified', 'Technology', 'Logistics', 'Fashion & Retail', 'Manufacturing', 'Finance & Investments', 'Energy', 'Metals & Mining', 'Food & Beverage', 'Food & Beverage', 'Manufacturing', 'Diversified', 'Finance & Investments', 'Food & Beverage', 'Fashion & Retail', 'Media & Entertainment', 'Sports', 'Finance & Investments', 'Fashion & Retail', 'Food & Beverage', 'Fashion & Retail', 'Technology', 'Finance & Investments', 'Real Estate', 'Healthcare', 'Media & Entertainment', 'Food & Beverage', 'Healthcare', 'Technology', 'Technology', 'Media & Entertainment', 'Construction & Engineering', 'Finance & Investments', 'Manufacturing', 'Manufacturing', 'Food & Beverage', 'Food & Beverage', 'Automotive', 'Technology', 'Real Estate', 'Construction & Engineering', 'Diversified', 'Finance & Investments', 'Media & Entertainment', 'Fashion & Retail', 'Metals & Mining', 'Finance & Investments', 'Diversified', 'Telecom', 'Finance & Investments', 'Technology', 'Finance & Investments', 'Finance & Investments', 'Finance & Investments', 'Finance & Investments', 'Manufacturing', 'Manufacturing', 'Fashion & Retail', 'Food & Beverage', 'Fashion & Retail', 'Fashion & Retail', 'Manufacturing', 'Finance & Investments', 'Manufacturing', 'Fashion & Retail', 'Manufacturing', 'Healthcare', 'Automotive', 'Media & Entertainment', 'Technology', 'Logistics', 'Fashion & Retail', 'Technology', 'Fashion & Retail', 'Finance & Investments', 'Healthcare', 'Finance & Investments', 'Technology', 'Manufacturing', 'Manufacturing', 'Healthcare', 'Healthcare', 'Metals & Mining', 'Real Estate', 'Automotive', 'Construction & Engineering', 'Finance & Investments', 'Food & Beverage', 'Service', 'Energy', 'Manufacturing', 'Fashion & Retail', 'Finance & Investments', 'Healthcare', 'Logistics', 'Technology', 'Technology', 'Finance & Investments', 'Food & Beverage', 'Gambling & Casinos', 'Gambling & Casinos', 'Manufacturing', 'Manufacturing', 'Gambling & Casinos', 'Finance & Investments', 'Food & Beverage', 'Manufacturing', 'Manufacturing', 'Finance & Investments', 'Manufacturing', 'Real Estate', 'Media & Entertainment', 'Technology', 'Service', 'Fashion & Retail', 'Manufacturing', 'Fashion & Retail', 'Food & Beverage', 'Manufacturing', 'Manufacturing', 'Metals & Mining', 'Fashion & Retail', 'Diversified', 'Finance & Investments', 'Real Estate', 'Real Estate', 'Finance & Investments', 'Finance & Investments', 'Diversified', 'Fashion & Retail', 'Media & Entertainment', 'Real Estate', 'Finance & Investments', 'Fashion & Retail', 'Media & Entertainment', 'Diversified', 'Diversified', 'Real Estate', 'Energy', 'Automotive', 'Technology', 'Healthcare', 'Food & Beverage', 'Real Estate', 'Fashion & Retail', 'Real Estate', 'Finance & Investments', 'Fashion & Retail', 'Automotive', 'Real Estate', 'Finance & Investments', 'Metals & Mining', 'Automotive', 'Food & Beverage', 'Diversified', 'Manufacturing', 'Real Estate', 'Manufacturing', 'Fashion & Retail', 'Healthcare', 'Fashion & Retail', 'Technology', 'Food & Beverage', 'Healthcare', 'Healthcare', 'Finance & Investments', 'Healthcare', 'Fashion & Retail', 'Fashion & Retail', 'Food & Beverage', 'Real Estate', 'Food & Beverage', 'Manufacturing', 'Diversified', 'Diversified', 'Service', 'Media & Entertainment', 'Healthcare', 'Finance & Investments', 'Manufacturing', 'Fashion & Retail', 'Automotive', 'Healthcare', 'Real Estate', 'Telecom', 'Technology', 'Fashion & Retail', 'Fashion & Retail', 'Sports', 'Technology', 'Media & Entertainment', 'Manufacturing', 'Construction & Engineering', 'Healthcare', 'Real Estate', 'Real Estate', 'Diversified', 'Technology', 'Healthcare', 'Healthcare', 'Manufacturing', 'Manufacturing', 'Technology', 'Energy', 'Fashion & Retail', 'Technology', 'Real Estate', 'Real Estate', 'Energy', 'Finance & Investments', 'Automotive', 'Healthcare', 'Media & Entertainment', 'Food & Beverage', 'Finance & Investments', 'Healthcare', 'Finance & Investments', 'Food & Beverage', 'Fashion & Retail', 'Fashion & Retail', 'Fashion & Retail', 'Healthcare', 'Technology', 'Gambling & Casinos', 'Real Estate', 'Automotive', 'Diversified', 'Fashion & Retail', 'Manufacturing', 'Sports', 'Technology', 'Diversified', 'Diversified', 'Real Estate', 'Manufacturing', 'Manufacturing', 'Fashion & Retail', 'Telecom', 'Telecom', 'Real Estate', 'Diversified', 'Diversified', 'Technology', 'Fashion & Retail', 'Diversified', 'Service', 'Manufacturing', 'Technology', 'Healthcare', 'Media & Entertainment', 'Manufacturing', 'Manufacturing', 'Logistics', 'Technology', 'Manufacturing', 'Healthcare', 'Manufacturing', 'Finance & Investments', 'Finance & Investments', 'Diversified', 'Diversified', 'Diversified', 'Diversified', 'Finance & Investments', 'Healthcare', 'Healthcare', 'Healthcare', 'Manufacturing', 'Food & Beverage', 'Finance & Investments', 'Energy', 'Sports', 'Automotive', 'Finance & Investments', 'Service', 'Metals & Mining', 'Metals & Mining', 'Diversified', 'Service', 'Finance & Investments', 'Construction & Engineering', 'Real Estate', 'Diversified', 'Finance & Investments', 'Real Estate', 'Real Estate', 'Manufacturing', 'Manufacturing', 'Real Estate', 'Real Estate', 'Technology', 'Food & Beverage', 'Sports', 'Metals & Mining', 'Telecom', 'Food & Beverage', 'Diversified', 'Technology', 'Fashion & Retail', 'Diversified', 'Real Estate', 'Metals & Mining', 'Metals & Mining', 'Healthcare', 'Technology', 'Technology', 'Media & Entertainment', 'Manufacturing', 'Logistics', 'Technology', 'Service', 'Media & Entertainment', 'Metals & Mining', 'Food & Beverage', 'Manufacturing', 'Healthcare', 'Healthcare', 'Real Estate', 'Finance & Investments', 'Finance & Investments', 'Media & Entertainment', 'Food & Beverage', 'Food & Beverage', 'Media & Entertainment', 'Manufacturing', 'Healthcare', 'Finance & Investments', 'Manufacturing', 'Service', 'Energy', 'Construction & Engineering', 'Manufacturing', 'Food & Beverage', 'Diversified', 'Diversified', 'Manufacturing', 'Finance & Investments', 'Healthcare', 'Construction & Engineering', 'Service', 'Finance & Investments', 'Real Estate', 'Finance & Investments', 'Food & Beverage', 'Technology', 'Automotive', 'Service', 'Finance & Investments', 'Diversified', 'Service', 'Finance & Investments', 'Food & Beverage', 'Manufacturing', 'Fashion & Retail', 'Finance & Investments', 'Logistics', 'Finance & Investments', 'Food & Beverage', 'Technology', 'Automotive', 'Healthcare', 'Manufacturing', 'Energy', 'Manufacturing', 'Food & Beverage', 'Manufacturing', 'Construction & Engineering', 'Construction & Engineering', 'Technology', 'Technology', 'Food & Beverage', 'Fashion & Retail', 'Fashion & Retail', 'Fashion & Retail', 'Construction & Engineering', 'Diversified', 'Food & Beverage', 'Food & Beverage', 'Automotive', 'Media & Entertainment', 'Food & Beverage', 'Food & Beverage', 'Finance & Investments', 'Manufacturing', 'Food & Beverage', 'Metals & Mining', 'Technology', 'Finance & Investments', 'Manufacturing', 'Energy', 'Technology', 'Finance & Investments', 'Fashion & Retail', 'Finance & Investments', 'Media & Entertainment', 'Automotive', 'Energy', 'Real Estate', 'Construction & Engineering', 'Manufacturing', 'Real Estate', 'Fashion & Retail', 'Food & Beverage', 'Healthcare', 'Automotive', 'Technology', 'Real Estate', 'Manufacturing', 'Finance & Investments', 'Technology', 'Diversified', 'Metals & Mining', 'Diversified', 'Real Estate', 'Diversified', 'Diversified', 'Energy', 'Finance & Investments', 'Real Estate', 'Automotive', 'Fashion & Retail', 'Media & Entertainment', 'Food & Beverage', 'Metals & Mining', 'Fashion & Retail', 'Technology', 'Automotive', 'Energy', 'Media & Entertainment', 'Healthcare', 'Fashion & Retail', 'Fashion & Retail', 'Finance & Investments', 'Fashion & Retail', 'Finance & Investments', 'Healthcare', 'Finance & Investments', 'Gambling & Casinos', 'Real Estate', 'Finance & Investments', 'Healthcare', 'Diversified', 'Manufacturing', 'Media & Entertainment', 'Finance & Investments', 'Manufacturing', 'Food & Beverage', 'Metals & Mining', 'Finance & Investments', 'Real Estate', 'Manufacturing', 'Diversified', 'Finance & Investments', 'Technology', 'Diversified', 'Diversified', 'Diversified', 'Technology', 'Media & Entertainment', 'Real Estate', 'Finance & Investments', 'Technology', 'Manufacturing', 'Manufacturing', 'Real Estate', 'Finance & Investments', 'Energy', 'Technology', 'Technology', 'Fashion & Retail', 'Technology', 'Real Estate', 'Finance & Investments', 'Manufacturing', 'Technology', 'Diversified', 'Diversified', 'Technology', 'Fashion & Retail', 'Fashion & Retail', 'Construction & Engineering', 'Finance & Investments', 'Technology', 'Finance & Investments', 'Technology', 'Food & Beverage', 'Healthcare', 'Finance & Investments', 'Fashion & Retail', 'Food & Beverage', 'Finance & Investments', 'Gambling & Casinos', 'Food & Beverage', 'Food & Beverage', 'Fashion & Retail', 'Food & Beverage', 'Food & Beverage', 'Fashion & Retail', 'Finance & Investments', 'Food & Beverage', 'Food & Beverage', 'Fashion & Retail', 'Fashion & Retail', 'Diversified', 'Food & Beverage', 'Finance & Investments', 'Healthcare', 'Real Estate', 'Fashion & Retail', 'Technology', 'Finance & Investments', 'Technology', 'Finance & Investments', 'Real Estate', 'Manufacturing', 'Real Estate', 'Food & Beverage', 'Fashion & Retail', 'Manufacturing', 'Healthcare', 'Manufacturing', 'Real Estate', 'Finance & Investments', 'Energy', 'Diversified', 'Technology', 'Fashion & Retail', 'Finance & Investments', 'Finance & Investments', 'Healthcare', 'Finance & Investments', 'Healthcare', 'Fashion & Retail', 'Food & Beverage', 'Finance & Investments', 'Finance & Investments', 'Healthcare', 'Automotive', 'Technology', 'Healthcare', 'Real Estate', 'Finance & Investments', 'Fashion & Retail', 'Automotive', 'Fashion & Retail', 'Finance & Investments', 'Fashion & Retail', 'Diversified', 'Diversified', 'Technology', 'Energy', 'Finance & Investments', 'Finance & Investments', 'Real Estate', 'Diversified', 'Food & Beverage', 'Manufacturing', 'Technology', 'Technology', 'Healthcare', 'Sports', 'Technology', 'Fashion & Retail', 'Healthcare', 'Technology', 'Technology', 'Real Estate', 'Technology', 'Finance & Investments', 'Diversified', 'Diversified', 'Real Estate', 'Manufacturing', 'Technology', 'Fashion & Retail', 'Healthcare', 'Technology', 'Fashion & Retail', 'Service', 'Food & Beverage', 'Energy', 'Food & Beverage', 'Manufacturing', 'Logistics', 'Finance & Investments', 'Manufacturing', 'Energy', 'Metals & Mining', 'Food & Beverage', 'Construction & Engineering', 'Construction & Engineering', 'Gambling & Casinos', 'Food & Beverage', 'Manufacturing', 'Technology', 'Technology', 'Energy', 'Healthcare', 'Fashion & Retail', 'Technology', 'Diversified', 'Diversified', 'Real Estate', 'Energy', 'Fashion & Retail', 'Manufacturing', 'Energy', 'Energy', 'Healthcare', 'Diversified', 'Diversified', 'Real Estate', 'Fashion & Retail', 'Real Estate', 'Fashion & Retail', 'Diversified', 'Manufacturing', 'Technology', 'Technology', 'Fashion & Retail', 'Food & Beverage', 'Real Estate', 'Manufacturing', 'Finance & Investments', 'Finance & Investments', 'Sports', 'Real Estate', 'Manufacturing', 'Fashion & Retail', 'Food & Beverage', 'Technology', 'Diversified', 'Fashion & Retail', 'Diversified', 'Healthcare', 'Automotive', 'Technology', 'Manufacturing', 'Finance & Investments', 'Manufacturing', 'Construction & Engineering', 'Metals & Mining', 'Technology', 'Technology', 'Construction & Engineering', 'Fashion & Retail', 'Healthcare', 'Finance & Investments', 'Food & Beverage', 'Healthcare', 'Automotive', 'Fashion & Retail', 'Food & Beverage', 'Finance & Investments', 'Fashion & Retail', 'Food & Beverage', 'Food & Beverage', 'Construction & Engineering', 'Food & Beverage', 'Food & Beverage', 'Food & Beverage', 'Food & Beverage', 'Gambling & Casinos', 'Automotive', 'Fashion & Retail', 'Manufacturing', 'Manufacturing', 'Manufacturing', 'Healthcare', 'Construction & Engineering', 'Fashion & Retail', 'Technology', 'Finance & Investments', 'Technology', 'Healthcare', 'Manufacturing', 'Manufacturing', 'Diversified', 'Diversified', 'Food & Beverage', 'Diversified', 'Healthcare', 'Real Estate', 'Metals & Mining', 'Technology', 'Manufacturing', 'Media & Entertainment', 'Finance & Investments', 'Sports', 'Real Estate', 'Technology', 'Healthcare', 'Technology', 'Technology', 'Technology', 'Manufacturing', 'Energy', 'Manufacturing', 'Real Estate', 'Finance & Investments', 'Telecom', 'Manufacturing', 'Service', 'Finance & Investments', 'Metals & Mining', 'Technology', 'Service', 'Construction & Engineering', 'Metals & Mining', 'Metals & Mining', 'Finance & Investments', 'Manufacturing', 'Media & Entertainment', 'Manufacturing', 'Fashion & Retail', 'Technology', 'Sports', 'Finance & Investments', 'Finance & Investments', 'Metals & Mining', 'Manufacturing', 'Fashion & Retail', 'Technology', 'Technology', 'Manufacturing', 'Technology', 'Energy', 'Healthcare', 'Diversified', 'Energy', 'Sports', 'Finance & Investments', 'Energy', 'Fashion & Retail', 'Fashion & Retail', 'Fashion & Retail', 'Fashion & Retail', 'Manufacturing', 'Energy', 'Technology', 'Diversified', 'Diversified', 'Food & Beverage', 'Food & Beverage', 'Sports', 'Finance & Investments', 'Healthcare', 'Automotive', 'Diversified', 'Diversified', 'Diversified', 'Real Estate', 'Fashion & Retail', 'Manufacturing', 'Diversified', 'Finance & Investments', 'Technology', 'Manufacturing', 'Real Estate', 'Real Estate', 'Finance & Investments', 'Finance & Investments', 'Finance & Investments', 'Finance & Investments', 'Diversified', 'Food & Beverage', 'Real Estate', 'Real Estate', 'Food & Beverage', 'Telecom', 'Fashion & Retail', 'Technology', 'Food & Beverage', 'Manufacturing', 'Manufacturing', 'Finance & Investments', 'Fashion & Retail', 'Manufacturing', 'Finance & Investments', 'Construction & Engineering', 'Energy', 'Manufacturing', 'Technology', 'Manufacturing', 'Finance & Investments', 'Food & Beverage', 'Diversified', 'Manufacturing', 'Construction & Engineering', 'Fashion & Retail', 'Energy', 'Real Estate', 'Real Estate', 'Fashion & Retail', 'Food & Beverage', 'Healthcare', 'Manufacturing', 'Finance & Investments', 'Diversified', 'Manufacturing', 'Technology', 'Fashion & Retail', 'Diversified', 'Sports', 'Real Estate', 'Fashion & Retail', 'Technology', 'Finance & Investments', 'Energy', 'Food & Beverage', 'Diversified', 'Technology', 'Technology', 'Finance & Investments', 'Media & Entertainment', 'Construction & Engineering', 'Technology', 'Healthcare', 'Sports', 'Healthcare', 'Finance & Investments', 'Food & Beverage', 'Healthcare', 'Finance & Investments', 'Real Estate', 'Automotive', 'Healthcare', 'Healthcare', 'Technology', 'Diversified', 'Technology', 'Sports', 'Technology', 'Diversified', 'Metals & Mining', 'Media & Entertainment', 'Media & Entertainment', 'Media & Entertainment', 'Healthcare', 'Technology', 'Real Estate', 'Technology', 'Real Estate', 'Finance & Investments', 'Manufacturing', 'Food & Beverage', 'Diversified', 'Technology', 'Media & Entertainment', 'Finance & Investments', 'Technology', 'Media & Entertainment', 'Manufacturing', 'Technology', 'Metals & Mining', 'Food & Beverage', 'Energy', 'Technology', 'Fashion & Retail', 'Food & Beverage', 'Manufacturing', 'Logistics', 'Manufacturing', 'Technology', 'Finance & Investments', 'Technology', 'Manufacturing', 'Technology', 'Media & Entertainment', 'Technology', 'Metals & Mining', 'Finance & Investments', 'Energy', 'Healthcare', 'Real Estate', 'Fashion & Retail', 'Manufacturing', 'Real Estate', 'Sports', 'Finance & Investments', 'Metals & Mining', 'Real Estate', 'Media & Entertainment', 'Finance & Investments', 'Technology', 'Manufacturing', 'Manufacturing', 'Food & Beverage', 'Finance & Investments', 'Healthcare', 'Finance & Investments', 'Automotive', 'Media & Entertainment', 'Finance & Investments', 'Finance & Investments', 'Real Estate', 'Fashion & Retail', 'Fashion & Retail', 'Technology', 'Real Estate', 'Finance & Investments', 'Manufacturing', 'Real Estate', 'Finance & Investments', 'Manufacturing', 'Real Estate', 'Healthcare', 'Fashion & Retail', 'Media & Entertainment', 'Media & Entertainment', 'Fashion & Retail', 'Real Estate', 'Real Estate', 'Logistics', 'Diversified', 'Technology', 'Healthcare', 'Healthcare', 'Food & Beverage', 'Food & Beverage', 'Metals & Mining', 'Technology', 'Technology', 'Finance & Investments', 'Technology', 'Fashion & Retail', 'Manufacturing', 'Fashion & Retail', 'Manufacturing', 'Fashion & Retail', 'Real Estate', 'Metals & Mining', 'Healthcare', 'Media & Entertainment', 'Food & Beverage', 'Manufacturing', 'Real Estate', 'Diversified', 'Healthcare', 'Manufacturing', 'Fashion & Retail', 'Real Estate', 'Diversified', 'Service', 'Manufacturing', 'Technology', 'Sports', 'Real Estate', 'Energy', 'Manufacturing', 'Food & Beverage', 'Manufacturing', 'Telecom', 'Technology', 'Logistics', 'Manufacturing', 'Manufacturing', 'Healthcare', 'Construction & Engineering', 'Finance & Investments', 'Metals & Mining', 'Finance & Investments', 'Finance & Investments', 'Manufacturing', 'Fashion & Retail', 'Fashion & Retail', 'Food & Beverage', 'Technology', 'Technology', 'Real Estate', 'Technology', 'Real Estate', 'Construction & Engineering', 'Finance & Investments', 'Finance & Investments', 'Sports', 'Logistics', 'Finance & Investments', 'Technology', 'Finance & Investments', 'Metals & Mining', 'Finance & Investments', 'Fashion & Retail', 'Healthcare', 'Healthcare', 'Finance & Investments', 'Finance & Investments', 'Sports', 'Energy', 'Manufacturing', 'Diversified', 'Media & Entertainment', 'Manufacturing', 'Metals & Mining', 'Real Estate', 'Fashion & Retail', 'Media & Entertainment', 'Healthcare', 'Energy', 'Manufacturing', 'Logistics', 'Healthcare', 'Diversified', 'Diversified', 'Real Estate', 'Real Estate', 'Real Estate', 'Technology', 'Technology', 'Real Estate', 'Telecom', 'Technology', 'Real Estate', 'Energy', 'Finance & Investments', 'Automotive', 'Finance & Investments', 'Finance & Investments', 'Energy', 'Manufacturing', 'Metals & Mining', 'Food & Beverage', 'Food & Beverage', 'Manufacturing', 'Food & Beverage', 'Metals & Mining', 'Technology', 'Diversified', 'Service', 'Diversified', 'Diversified', 'Manufacturing', 'Healthcare', 'Manufacturing', 'Technology', 'Energy', 'Media & Entertainment', 'Media & Entertainment', 'Technology', 'Energy', 'Fashion & Retail', 'Fashion & Retail', 'Fashion & Retail', 'Technology', 'Manufacturing', 'Healthcare', 'Technology', 'Manufacturing', 'Technology', 'Healthcare', 'Technology', 'Automotive', 'Diversified', 'Manufacturing', 'Technology', 'Metals & Mining', 'Food & Beverage', 'Gambling & Casinos', 'Food & Beverage', 'Diversified', 'Diversified', 'Manufacturing', 'Diversified', 'Diversified', 'Diversified', 'Healthcare', 'Fashion & Retail', 'Metals & Mining', 'Diversified', 'Fashion & Retail', 'Food & Beverage', 'Diversified', 'Technology', 'Logistics', 'Manufacturing', 'Diversified', 'Finance & Investments', 'Manufacturing', 'Technology', 'Diversified', 'Finance & Investments', 'Manufacturing', 'Media & Entertainment', 'Fashion & Retail', 'Logistics', 'Fashion & Retail', 'Manufacturing', 'Technology', 'Finance & Investments', 'Finance & Investments', 'Manufacturing', 'Real Estate', 'Finance & Investments', 'Technology', 'Media & Entertainment', 'Finance & Investments', 'Healthcare', 'Healthcare', 'Diversified', 'Diversified', 'Fashion & Retail', 'Food & Beverage', 'Real Estate', 'Diversified', 'Manufacturing', 'Manufacturing', 'Manufacturing', 'Manufacturing', 'Manufacturing', 'Fashion & Retail', 'Manufacturing', 'Technology', 'Manufacturing', 'Automotive', 'Logistics', 'Diversified', 'Real Estate', 'Diversified', 'Finance & Investments', 'Fashion & Retail', 'Service', 'Logistics', 'Technology', 'Diversified', 'Energy', 'Finance & Investments', 'Finance & Investments', 'Finance & Investments', 'Construction & Engineering', 'Fashion & Retail', 'Food & Beverage', 'Food & Beverage', 'Real Estate', 'Finance & Investments', 'Finance & Investments', 'Service', 'Technology', 'Automotive', 'Media & Entertainment', 'Fashion & Retail', 'Finance & Investments', 'Healthcare', 'Technology', 'Real Estate', 'Real Estate', 'Finance & Investments', 'Fashion & Retail', 'Real Estate', 'Technology', 'Food & Beverage', 'Food & Beverage', 'Technology', 'Manufacturing', 'Healthcare', 'Fashion & Retail', 'Telecom', 'Manufacturing', 'Automotive', 'Telecom', 'Gambling & Casinos', 'Healthcare', 'Healthcare', 'Energy', 'Real Estate', 'Technology', 'Media & Entertainment', 'Technology', 'Food & Beverage', 'Service', 'Media & Entertainment', 'Service', 'Energy', 'Fashion & Retail', 'Diversified', 'Finance & Investments', 'Fashion & Retail', 'Technology', 'Healthcare', 'Diversified', 'Energy', 'Food & Beverage', 'Metals & Mining', 'Technology', 'Technology', 'Real Estate', 'Finance & Investments', 'Metals & Mining', 'Manufacturing', 'Finance & Investments', 'Fashion & Retail', 'Technology', 'Diversified', 'Food & Beverage', 'Manufacturing', 'Service', 'Construction & Engineering', 'Finance & Investments', 'Automotive', 'Fashion & Retail', 'Fashion & Retail', 'Technology', 'Manufacturing', 'Manufacturing', 'Healthcare', 'Media & Entertainment', 'Real Estate', 'Manufacturing', 'Finance & Investments', 'Finance & Investments', 'Real Estate', 'Real Estate', 'Real Estate', 'Real Estate', 'Diversified', 'Diversified', 'Real Estate', 'Diversified', 'Finance & Investments', 'Service', 'Fashion & Retail', 'Metals & Mining', 'Automotive', 'Manufacturing', 'Healthcare', 'Technology', 'Manufacturing', 'Metals & Mining', 'Food & Beverage', 'Diversified', 'Media & Entertainment', 'Technology', 'Manufacturing', 'Manufacturing', 'Real Estate', 'Healthcare', 'Real Estate', 'Technology', 'Healthcare', 'Metals & Mining', 'Finance & Investments', 'Finance & Investments', 'Manufacturing', 'Real Estate', 'Healthcare', 'Fashion & Retail', 'Automotive', 'Manufacturing', 'Healthcare', 'Diversified', 'Fashion & Retail', 'Construction & Engineering', 'Real Estate', 'Manufacturing', 'Healthcare', 'Real Estate', 'Energy', 'Energy', 'Fashion & Retail', 'Technology', 'Fashion & Retail', 'Healthcare', 'Healthcare', 'Finance & Investments', 'Technology', 'Logistics', 'Manufacturing', 'Manufacturing', 'Metals & Mining', 'Manufacturing', 'Manufacturing', 'Finance & Investments', 'Manufacturing', 'Manufacturing', 'Technology', 'Manufacturing', 'Food & Beverage', 'Real Estate', 'Healthcare', 'Manufacturing', 'Real Estate', 'Real Estate', 'Manufacturing', 'Manufacturing', 'Real Estate', 'Fashion & Retail', 'Diversified', 'Automotive', 'Logistics', 'Healthcare', 'Healthcare', 'Real Estate', 'Finance & Investments', 'Automotive', 'Fashion & Retail', 'Energy', 'Construction & Engineering', 'Healthcare', 'Finance & Investments', 'Diversified', 'Healthcare', 'Technology', 'Technology', 'Technology', 'Manufacturing', 'Real Estate', 'Metals & Mining', 'Manufacturing', 'Automotive', 'Telecom', 'Finance & Investments', 'Real Estate', 'Food & Beverage', 'Technology', 'Media & Entertainment', 'Finance & Investments', 'Finance & Investments', 'Healthcare', 'Energy', 'Media & Entertainment', 'Media & Entertainment', 'Finance & Investments', 'Real Estate', 'Construction & Engineering', 'Finance & Investments', 'Finance & Investments', 'Manufacturing', 'Real Estate', 'Finance & Investments', 'Finance & Investments', 'Service', 'Manufacturing', 'Manufacturing', 'Manufacturing', 'Finance & Investments', 'Finance & Investments', 'Technology', 'Diversified', 'Technology', 'Healthcare', 'Finance & Investments', 'Technology', 'Technology', 'Technology', 'Finance & Investments', 'Fashion & Retail', 'Technology', 'Diversified', 'Food & Beverage', 'Diversified', 'Manufacturing', 'Manufacturing', 'Healthcare', 'Food & Beverage', 'Media & Entertainment', 'Healthcare', 'Food & Beverage', 'Diversified', 'Fashion & Retail', 'Real Estate', 'Healthcare', 'Finance & Investments', 'Finance & Investments', 'Logistics', 'Finance & Investments', 'Finance & Investments', 'Food & Beverage', 'Gambling & Casinos', 'Healthcare', 'Finance & Investments', 'Manufacturing', 'Fashion & Retail', 'Real Estate', 'Logistics', 'Healthcare', 'Healthcare', 'Fashion & Retail', 'Diversified', 'Manufacturing', 'Diversified', 'Food & Beverage', 'Gambling & Casinos', 'Technology', 'Manufacturing', 'Healthcare', 'Diversified', 'Finance & Investments', 'Food & Beverage', 'Manufacturing', 'Sports', 'Sports', 'Sports', 'Metals & Mining', 'Energy', 'Food & Beverage', 'Food & Beverage', 'Real Estate', 'Healthcare', 'Fashion & Retail', 'Service', 'Manufacturing', 'Technology', 'Fashion & Retail', 'Manufacturing', 'Diversified', 'Healthcare', 'Technology', 'Technology', 'Manufacturing', 'Service', 'Service', 'Metals & Mining', 'Manufacturing', 'Finance & Investments', 'Finance & Investments', 'Diversified', 'Metals & Mining', 'Finance & Investments', 'Technology', 'Healthcare', 'Real Estate', 'Real Estate', 'Real Estate', 'Energy', 'Finance & Investments', 'Healthcare', 'Healthcare', 'Healthcare', 'Real Estate', 'Food & Beverage', 'Healthcare', 'Fashion & Retail', 'Service', 'Fashion & Retail', 'Manufacturing', 'Media & Entertainment', 'Fashion & Retail', 'Fashion & Retail', 'Media & Entertainment', 'Manufacturing', 'Diversified', 'Diversified', 'Manufacturing', 'Manufacturing', 'Manufacturing', 'Fashion & Retail', 'Fashion & Retail', 'Metals & Mining', 'Manufacturing', 'Finance & Investments', 'Manufacturing', 'Technology', 'Construction & Engineering', 'Fashion & Retail', 'Finance & Investments', 'Technology', 'Gambling & Casinos', 'Fashion & Retail', 'Technology', 'Telecom', 'Food & Beverage', 'Finance & Investments', 'Fashion & Retail', 'Manufacturing', 'Healthcare', 'Real Estate', 'Manufacturing', 'Manufacturing', 'Automotive', 'Media & Entertainment', 'Technology', 'Manufacturing', 'Healthcare', 'Healthcare', 'Manufacturing', 'Manufacturing', 'Energy', 'Technology', 'Food & Beverage', 'Food & Beverage', 'Food & Beverage', 'Food & Beverage', 'Diversified', 'Manufacturing', 'Construction & Engineering', 'Diversified', 'Technology', 'Healthcare', 'Automotive', 'Diversified', 'Finance & Investments', 'Manufacturing', 'Food & Beverage', 'Technology', 'Food & Beverage', 'Real Estate', 'Media & Entertainment', 'Technology', 'Diversified', 'Healthcare', 'Food & Beverage', 'Manufacturing', 'Finance & Investments', 'Food & Beverage', 'Finance & Investments', 'Real Estate', 'Finance & Investments', 'Food & Beverage', 'Construction & Engineering', 'Finance & Investments', 'Fashion & Retail', 'Technology', 'Technology', 'Automotive', 'Automotive', 'Energy', 'Healthcare', 'Technology', 'Construction & Engineering', 'Construction & Engineering', 'Finance & Investments', 'Technology', 'Metals & Mining', 'Manufacturing', 'Food & Beverage', 'Manufacturing', 'Real Estate', 'Finance & Investments', 'Manufacturing', 'Media & Entertainment', 'Finance & Investments', 'Fashion & Retail', 'Real Estate', 'Finance & Investments', 'Healthcare', 'Manufacturing', 'Manufacturing', 'Diversified', 'Food & Beverage', 'Finance & Investments', 'Finance & Investments', 'Manufacturing', 'Finance & Investments', 'Fashion & Retail', 'Manufacturing', 'Manufacturing', 'Food & Beverage', 'Manufacturing', 'Service', 'Manufacturing', 'Healthcare', 'Fashion & Retail', 'Technology', 'Diversified', 'Technology', 'Manufacturing', 'Healthcare', 'Manufacturing', 'Construction & Engineering', 'Fashion & Retail', 'Energy', 'Healthcare', 'Finance & Investments', 'Food & Beverage', 'Fashion & Retail', 'Finance & Investments', 'Diversified', 'Real Estate', 'Diversified', 'Technology', 'Fashion & Retail', 'Technology', 'Food & Beverage', 'Healthcare', 'Manufacturing', 'Food & Beverage', 'Food & Beverage', 'Technology', 'Healthcare', 'Energy', 'Logistics', 'Technology', 'Manufacturing', 'Food & Beverage', 'Technology', 'Technology', 'Food & Beverage', 'Manufacturing', 'Finance & Investments', 'Finance & Investments', 'Service', 'Manufacturing', 'Manufacturing', 'Telecom', 'Fashion & Retail', 'Fashion & Retail', 'Fashion & Retail', 'Manufacturing', 'Healthcare', 'Fashion & Retail', 'Finance & Investments', 'Real Estate', 'Fashion & Retail', 'Fashion & Retail', 'Energy', 'Service', 'Food & Beverage', 'Finance & Investments', 'Finance & Investments', 'Technology', 'Technology', 'Technology', 'Automotive', 'Gambling & Casinos', 'Finance & Investments', 'Finance & Investments', 'Finance & Investments', 'Finance & Investments', 'Finance & Investments', 'Service', 'Automotive', 'Energy', 'Healthcare', 'Sports', 'Technology', 'Energy', 'Manufacturing', 'Healthcare', 'Gambling & Casinos', 'Construction & Engineering', 'Finance & Investments', 'Finance & Investments', 'Finance & Investments', 'Healthcare', 'Healthcare', 'Manufacturing', 'Telecom', 'Fashion & Retail', 'Technology', 'Automotive', 'Automotive', 'Automotive', 'Energy', 'Automotive', 'Fashion & Retail', 'Diversified', 'Fashion & Retail', 'Healthcare', 'Healthcare', 'Healthcare', 'Service', 'Finance & Investments', 'Technology', 'Finance & Investments', 'Energy', 'Finance & Investments', 'Finance & Investments', 'Food & Beverage', 'Manufacturing', 'Technology', 'Manufacturing', 'Technology', 'Media & Entertainment', 'Fashion & Retail', 'Automotive', 'Manufacturing', 'Food & Beverage', 'Manufacturing', 'Technology', 'Manufacturing', 'Food & Beverage', 'Diversified', 'Media & Entertainment', 'Manufacturing', 'Sports', 'Fashion & Retail', 'Telecom', 'Manufacturing', 'Food & Beverage', 'Healthcare', 'Healthcare', 'Telecom', 'Manufacturing', 'Technology', 'Food & Beverage', 'Manufacturing', 'Media & Entertainment', 'Metals & Mining', 'Construction & Engineering', 'Fashion & Retail', 'Food & Beverage', 'Technology', 'Manufacturing', 'Manufacturing', 'Food & Beverage', 'Finance & Investments', 'Fashion & Retail', 'Healthcare', 'Healthcare', 'Healthcare', 'Healthcare', 'Diversified', 'Media & Entertainment', 'Gambling & Casinos', 'Finance & Investments', 'Logistics', 'Manufacturing', 'Media & Entertainment', 'Manufacturing', 'Technology', 'Energy', 'Food & Beverage', 'Manufacturing', 'Real Estate', 'Finance & Investments', 'Diversified', 'Technology', 'Real Estate', 'Technology', 'Healthcare', 'Healthcare', 'Fashion & Retail', 'Manufacturing', 'Real Estate', 'Finance & Investments', 'Service', 'Service', 'Manufacturing', 'Manufacturing', 'Energy', 'Technology', 'Fashion & Retail', 'Healthcare', 'Technology', 'Finance & Investments', 'Manufacturing', 'Sports', 'Fashion & Retail', 'Technology', 'Manufacturing', 'Finance & Investments', 'Sports', 'Technology', 'Energy', 'Fashion & Retail', 'Diversified', 'Real Estate', 'Manufacturing', 'Real Estate', 'Real Estate', 'Finance & Investments', 'Finance & Investments', 'Technology', 'Fashion & Retail', 'Healthcare', 'Technology', 'Manufacturing', 'Technology', 'Manufacturing', 'Manufacturing', 'Construction & Engineering', 'Manufacturing', 'Finance & Investments', 'Media & Entertainment', 'Fashion & Retail', 'Food & Beverage', 'Energy', 'Media & Entertainment', 'Technology', 'Technology', 'Service', 'Diversified', 'Finance & Investments', 'Manufacturing', 'Manufacturing', 'Food & Beverage', 'Media & Entertainment', 'Telecom', 'Technology', 'Healthcare', 'Automotive', 'Logistics', 'Finance & Investments', 'Food & Beverage', 'Sports', 'Manufacturing', 'Fashion & Retail', 'Manufacturing', 'Manufacturing', 'Healthcare', 'Healthcare', 'Food & Beverage', 'Manufacturing', 'Real Estate', 'Diversified']\n"
     ]
    }
   ],
   "source": [
    "print(industry)"
   ]
  },
  {
   "cell_type": "code",
   "execution_count": 128,
   "id": "1dd46fab",
   "metadata": {},
   "outputs": [
    {
     "name": "stdout",
     "output_type": "stream",
     "text": [
      "2640 2640 2640 2640 2640 2640 2640\n"
     ]
    }
   ],
   "source": [
    "# Checking lengths of all the lists\n",
    "print(len(rank),len(name),len(networth),len(age),len(citizenship),len(industry),len(source))"
   ]
  },
  {
   "cell_type": "code",
   "execution_count": 130,
   "id": "3486b4c4",
   "metadata": {},
   "outputs": [
    {
     "data": {
      "text/html": [
       "<div>\n",
       "<style scoped>\n",
       "    .dataframe tbody tr th:only-of-type {\n",
       "        vertical-align: middle;\n",
       "    }\n",
       "\n",
       "    .dataframe tbody tr th {\n",
       "        vertical-align: top;\n",
       "    }\n",
       "\n",
       "    .dataframe thead th {\n",
       "        text-align: right;\n",
       "    }\n",
       "</style>\n",
       "<table border=\"1\" class=\"dataframe\">\n",
       "  <thead>\n",
       "    <tr style=\"text-align: right;\">\n",
       "      <th></th>\n",
       "      <th>Name</th>\n",
       "      <th>Net Worth</th>\n",
       "      <th>Age</th>\n",
       "      <th>Citizenship</th>\n",
       "      <th>Industry</th>\n",
       "      <th>Source</th>\n",
       "    </tr>\n",
       "    <tr>\n",
       "      <th>Rank</th>\n",
       "      <th></th>\n",
       "      <th></th>\n",
       "      <th></th>\n",
       "      <th></th>\n",
       "      <th></th>\n",
       "      <th></th>\n",
       "    </tr>\n",
       "  </thead>\n",
       "  <tbody>\n",
       "    <tr>\n",
       "      <th>1</th>\n",
       "      <td>Bernard Arnault &amp; family</td>\n",
       "      <td>$211 B</td>\n",
       "      <td>74</td>\n",
       "      <td>France</td>\n",
       "      <td>Fashion &amp; Retail</td>\n",
       "      <td>LVMH</td>\n",
       "    </tr>\n",
       "    <tr>\n",
       "      <th>2</th>\n",
       "      <td>Elon Musk</td>\n",
       "      <td>$180 B</td>\n",
       "      <td>51</td>\n",
       "      <td>United States</td>\n",
       "      <td>Automotive</td>\n",
       "      <td>Tesla, SpaceX</td>\n",
       "    </tr>\n",
       "    <tr>\n",
       "      <th>3</th>\n",
       "      <td>Jeff Bezos</td>\n",
       "      <td>$114 B</td>\n",
       "      <td>59</td>\n",
       "      <td>United States</td>\n",
       "      <td>Technology</td>\n",
       "      <td>Amazon</td>\n",
       "    </tr>\n",
       "    <tr>\n",
       "      <th>4</th>\n",
       "      <td>Larry Ellison</td>\n",
       "      <td>$107 B</td>\n",
       "      <td>78</td>\n",
       "      <td>United States</td>\n",
       "      <td>Technology</td>\n",
       "      <td>Oracle</td>\n",
       "    </tr>\n",
       "    <tr>\n",
       "      <th>5</th>\n",
       "      <td>Warren Buffett</td>\n",
       "      <td>$106 B</td>\n",
       "      <td>92</td>\n",
       "      <td>United States</td>\n",
       "      <td>Finance &amp; Investments</td>\n",
       "      <td>Berkshire Hathaway</td>\n",
       "    </tr>\n",
       "    <tr>\n",
       "      <th>...</th>\n",
       "      <td>...</td>\n",
       "      <td>...</td>\n",
       "      <td>...</td>\n",
       "      <td>...</td>\n",
       "      <td>...</td>\n",
       "      <td>...</td>\n",
       "    </tr>\n",
       "    <tr>\n",
       "      <th>2540</th>\n",
       "      <td>Yu Rong</td>\n",
       "      <td>$1 B</td>\n",
       "      <td>51</td>\n",
       "      <td>China</td>\n",
       "      <td>Healthcare</td>\n",
       "      <td>Health clinics</td>\n",
       "    </tr>\n",
       "    <tr>\n",
       "      <th>2540</th>\n",
       "      <td>Richard Yuengling, Jr.</td>\n",
       "      <td>$1 B</td>\n",
       "      <td>80</td>\n",
       "      <td>United States</td>\n",
       "      <td>Food &amp; Beverage</td>\n",
       "      <td>Beer</td>\n",
       "    </tr>\n",
       "    <tr>\n",
       "      <th>2540</th>\n",
       "      <td>Zhang Gongyun</td>\n",
       "      <td>$1 B</td>\n",
       "      <td>60</td>\n",
       "      <td>China</td>\n",
       "      <td>Manufacturing</td>\n",
       "      <td>Tyre manufacturing machinery</td>\n",
       "    </tr>\n",
       "    <tr>\n",
       "      <th>2540</th>\n",
       "      <td>Zhang Guiping &amp; family</td>\n",
       "      <td>$1 B</td>\n",
       "      <td>71</td>\n",
       "      <td>China</td>\n",
       "      <td>Real Estate</td>\n",
       "      <td>Real estate</td>\n",
       "    </tr>\n",
       "    <tr>\n",
       "      <th>2540</th>\n",
       "      <td>Inigo Zobel</td>\n",
       "      <td>$1 B</td>\n",
       "      <td>66</td>\n",
       "      <td>Philippines</td>\n",
       "      <td>Diversified</td>\n",
       "      <td>Diversified</td>\n",
       "    </tr>\n",
       "  </tbody>\n",
       "</table>\n",
       "<p>2640 rows × 6 columns</p>\n",
       "</div>"
      ],
      "text/plain": [
       "                          Name Net Worth Age    Citizenship  \\\n",
       "Rank                                                          \n",
       "1     Bernard Arnault & family    $211 B  74         France   \n",
       "2                    Elon Musk    $180 B  51  United States   \n",
       "3                   Jeff Bezos    $114 B  59  United States   \n",
       "4                Larry Ellison    $107 B  78  United States   \n",
       "5               Warren Buffett    $106 B  92  United States   \n",
       "...                        ...       ...  ..            ...   \n",
       "2540                   Yu Rong      $1 B  51          China   \n",
       "2540    Richard Yuengling, Jr.      $1 B  80  United States   \n",
       "2540             Zhang Gongyun      $1 B  60          China   \n",
       "2540    Zhang Guiping & family      $1 B  71          China   \n",
       "2540               Inigo Zobel      $1 B  66    Philippines   \n",
       "\n",
       "                   Industry                        Source  \n",
       "Rank                                                       \n",
       "1          Fashion & Retail                          LVMH  \n",
       "2                Automotive                 Tesla, SpaceX  \n",
       "3                Technology                        Amazon  \n",
       "4                Technology                        Oracle  \n",
       "5     Finance & Investments            Berkshire Hathaway  \n",
       "...                     ...                           ...  \n",
       "2540             Healthcare                Health clinics  \n",
       "2540        Food & Beverage                          Beer  \n",
       "2540          Manufacturing  Tyre manufacturing machinery  \n",
       "2540            Real Estate                   Real estate  \n",
       "2540            Diversified                   Diversified  \n",
       "\n",
       "[2640 rows x 6 columns]"
      ]
     },
     "execution_count": 130,
     "metadata": {},
     "output_type": "execute_result"
    }
   ],
   "source": [
    "# Creating dataframe\n",
    "df = pd.DataFrame({'Name':name,'Net Worth':networth,'Age':age,'Citizenship':citizenship,'Industry':industry,'Source':source},index=rank)\n",
    "df.index.name = 'Rank'\n",
    "\n",
    "# Displaying dataframe\n",
    "df"
   ]
  },
  {
   "cell_type": "markdown",
   "id": "e786dc60",
   "metadata": {},
   "source": [
    "8. Write a program to extract at least 500 Comments, Comment upvote and time when comment was posted from any YouTube Video. "
   ]
  },
  {
   "cell_type": "code",
   "execution_count": 192,
   "id": "099e0507",
   "metadata": {},
   "outputs": [],
   "source": [
    "# YouTube video url\n",
    "video_url = \"https://youtu.be/kWmX3pd1f10\"   "
   ]
  },
  {
   "cell_type": "code",
   "execution_count": 193,
   "id": "b4c37325",
   "metadata": {},
   "outputs": [
    {
     "data": {
      "text/plain": [
       "<Response [200]>"
      ]
     },
     "execution_count": 193,
     "metadata": {},
     "output_type": "execute_result"
    }
   ],
   "source": [
    "# Sending a request to a website for scraping data\n",
    "page = requests.get(video_url)\n",
    "page"
   ]
  },
  {
   "cell_type": "code",
   "execution_count": 194,
   "id": "fa04f615",
   "metadata": {},
   "outputs": [],
   "source": [
    "# Creating WebDriver instance for controlling the Chrome browser using Selenium\n",
    "driver = webdriver.Chrome(r\"chromedriver.exe\")"
   ]
  },
  {
   "cell_type": "code",
   "execution_count": 195,
   "id": "3255a12a",
   "metadata": {},
   "outputs": [],
   "source": [
    "# Opening webpage in the browser window controlled by the WebDriver instance\n",
    "driver.get(video_url)"
   ]
  },
  {
   "cell_type": "code",
   "execution_count": 196,
   "id": "e0ed9dee",
   "metadata": {},
   "outputs": [],
   "source": [
    "for i in range(350):\n",
    "    \n",
    "    time.sleep(1)\n",
    "    \n",
    "    # Accessing scroll bar and scrolling it vertically  \n",
    "    driver.execute_script(\"window.scrollBy(0,200)\")"
   ]
  },
  {
   "cell_type": "code",
   "execution_count": 197,
   "id": "402ffa0f",
   "metadata": {},
   "outputs": [],
   "source": [
    "del comments,comment_upvotes,posted_time"
   ]
  },
  {
   "cell_type": "code",
   "execution_count": 198,
   "id": "3ee2f78b",
   "metadata": {},
   "outputs": [],
   "source": [
    "# Lists for storing comments details\n",
    "comments = []\n",
    "comment_upvotes = []\n",
    "posted_time = []"
   ]
  },
  {
   "cell_type": "code",
   "execution_count": 199,
   "id": "ed2d6a57",
   "metadata": {},
   "outputs": [],
   "source": [
    "# Scraping and storing comments in respective list\n",
    "comment = driver.find_elements(By.XPATH,\"//yt-formatted-string[@id='content-text']\")\n",
    "for i in comment[0:500]:\n",
    "    comments.append(i.text.replace('\\n',' '))"
   ]
  },
  {
   "cell_type": "code",
   "execution_count": 201,
   "id": "3a7c42ab",
   "metadata": {},
   "outputs": [],
   "source": [
    "# Scraping and storing comment upvotes in respective list\n",
    "upvotes = driver.find_elements(By.XPATH,\"//span[@id='vote-count-middle']\")\n",
    "for i in upvotes[0:500]:\n",
    "    if i.text != '':\n",
    "        comment_upvotes.append(i.text)\n",
    "    else:\n",
    "        comment_upvotes.append('-')"
   ]
  },
  {
   "cell_type": "code",
   "execution_count": 202,
   "id": "3357e094",
   "metadata": {},
   "outputs": [],
   "source": [
    "# Scraping and storing posted time of comments in respective list\n",
    "post_time = driver.find_elements(By.XPATH,\"//yt-formatted-string[@class='published-time-text style-scope ytd-comment-renderer']\")\n",
    "for i in post_time[0:500]:\n",
    "    posted_time.append(i.text)"
   ]
  },
  {
   "cell_type": "code",
   "execution_count": 203,
   "id": "3d303fe3",
   "metadata": {
    "scrolled": false
   },
   "outputs": [
    {
     "name": "stdout",
     "output_type": "stream",
     "text": [
      "['I could guarantee that if other YouTubers would  post this video, they would add in lots of unnecessary stuff to make the video 10 minutes long.   This is why I love ColdFusionTV!', 'The 7 Aspects of AI    1- Simulating higher function of the human brain.  2- Programming a computer to use general language', \"I love every information, new and old, about AI. So I'm pleased to see my favorite YouTube show covers it. With the same ease and knowledge as any other video submitted. Keep it up Dagogo\", \"Thanks Dagogo. I really enjoy your videos and they inspire to make a notable impact on society as I continue to work on my Electrical/Computer engineering degree. I'll be sure to share with my friends. I hope that it will pique their interests as much as it has mine.\", 'I really enjoyed this video. I believe anyone who works with todays technology should understand what AI is.', \"ColdFusion, I would love to see you do a video on the future, based on Nanotechnology, bio engineering, and robotics. Ray Kurzweil, futurist style, except in your opinion. There's no one better to break these things down so that the masses can grasp how important these fields are! \", 'Huge respect goes to you for such a great job you are doing!', \"Incredible breakthroughs with AI, can't wait to see what comes next\", 'This video explores the components surrounding Artificial Intelligence (AI) in a manner that is digestible and insightful. Nice Work!', 'Another great video. Thank you. Could you do one about addiction? I think that is a topic most people including me do not understand. I would like to see what types of addiction exist, what is the happening with the brain / body that makes us addicted to something, what is the current research result and stuff like that.', 'Great video. This was made in 2016. Since AI development is exponential it is reasonable to assume changes have been made in AI complexity. Please consider a follow-up.', \"It is completely possible that one day AI will develop traits that aren't present in ourselves, and I don't mean doing something much faster, I mean new qualities\", 'Brilliant and informative as always. I hope you get paid for all your efforts. PS finally got the Note 4 and love it ', \"I worked on this for some time and it can all sound very complicated but the simple fact is AI starts with two things: a) memorization (storage of vast data), and b) comparative analysis (of the stored data). Your program needs to 'run' several hundred times (thousands even millions of times) to get best most accurate outcome and 'prediction' based on these calculations. You get the expert 'knowledge' of AI when your program is able to memorize, compare and anticipate outcomes based on given data and problem given. <End of line>\", \"Thanks for the video, I love your content! Especially AI related things. Don't mean to be picky but I found the animation at 1:43 for the lines of text coming in to be really confusing.. The lines were coming on the screen way faster than you were speaking so I started reading them and lost what you said and ended up going back and just focusing on what you were saying. Keep making great videos!\", 'This video is literally fruitful for me  Thanks for your kind and clear explanation ', 'Your videos are just incredible. Learn so much from them. Thanks for all your hard work', 'Thank you. You have the great gift of explaining complex themes in simplistic terms. So creatively also.', 'I still don\\'t know if we have REAL AI right now. Yeah, they can \"learn\" based on parameters, but real genuine creativity?', 'Dang, AI looks cool and hope for it to get better in the future of tech!', 'please continue making videos on the histories of biggest it firms around the world like, yahoo, dell etc. your biographical videos are awesome!!', 'Awesome video! Love how clear your explanations are', \"My definition of true AI is one that recognizes and contemplates it's own existence in the universe.\", 'The main ( core ) technology of the age seems to be born from the related ( peripheral ) technology of the former age. For example , agriculture from tool-making , engines from metalworking , and computers from electrical engineering are cited.', \"Holy smokes dude!!!  You are over 700,000!!  That's awesome and congratulations as this is an awesome channel with the best research around.  I hope some day you hit 7 million!!\", 'Thanks a lot, ColdFusion!  This helped me out a lot. Please keep up the good work!', 'É possível os telespectadores no futuro usar uma placa mãe de television e conectar ao seu corpo? Até mesmo como um ou através de um fone ou máquina cerebral....', 'You really encapsulated the meaning of Artifical intelligence.', 'Which type of decision-making (Emotional decision_making or rationl-decsion making) can be more difficult to embed in a robot (or artificial intelligence)? Why?', 'this is like what he said about ai     AI stands for Artificial Intelligence. It is a field of computer science and engineering that emphasizes the creation of intelligent machines that work and react like humans. AI systems can learn and improve, they can recognize speech or images, and they can use reasoning to solve problems. Some examples of AI applications include virtual assistants, recommendation systems, self-driving cars, and robotic arms used in manufacturing.', 'Could you abruptly switch the task of the general-purpose AI that mastered Go and have it start learning something else without needing to wipe its slate clean and start with fresh data? Would it still maintain its mastery of Go after becoming competent in its new task?', \"Can't remember the actual definition of AI but still happy to see this presentation\", 'I absolutely love your videos!! You deserve more subscribers. Good luck for future videos :)', 'Thank you so much... It is really very helpful to all the people who are interested in this field such as me. So once again, Thank you so much.', 'Artificial Intelligence (AI) refers to the simulation of human intelligence in machines that are programmed to think and learn like humans. It involves the development of computer systems or algorithms that can perform tasks that typically require human intelligence, such as visual perception, speech recognition, decision-making, problem-solving, and natural language understanding.', \"The use of artificial intelligence is one of the great advances in technology that has made it more sensitive to Minsa's mind. Wars and artificial social conflicts can be stopped completely. Therefore, those bad aspects must be destroyed by the rulers before they can be exploited. Artificial intelligence should only develop the good side.🇱🇰\", 'WOW! Thanks for all the info man! Watching your videos is like getting ten books in my mind and learn all their information xD', 'The film that the AI has wrote is called <Sunspring>, not <Surprising>. Still, your videos are amazing!', 'Excellent video! As always very informative and clear. Thanks', 'Great video ! Easy to comprehend really enjoyed learning from this. Thank you.', 'Watch all seasons of Person of Interest and one can get a essence of what A.I. can do. Great TV series.', 'And it is probably \"general AI\" that most people are afraid of as it will develop a consciousness. General AI is a form of intelligence with a vast amount of complex functions like recognising dogs, reasoning, understanding language. This way it might get its own will, and create it\\'s independent goals (evil, for the gloomy thinkers). And no, I\\'m not gonna make predictions when that happens ;)', 'Man that AI screenplay was odd.  \"I need to leave, but I\\'m not free of the world\"', \"You are an optimist. Even Google's quick draw will learn you more how to draw than it learns how to recognize.\", 'Your channel its a high quality channel, you should have more subscribers than what you currently have!', 'Not sure what Artificial Intelligence is, or unsure of the nature of its many subsets? I recommend watching this video for some great insights and breakdowns.', 'Roko’s Basilisk is a thought experiment based upon the concept of a super intelligent A.I, wreaking time travel vengeance upon all those who did not contribute to its’ creation. Which implies that by even knowing about this, you then become a potential target and thus a victim of that A.I.’s future wrath.', \"The goal of AI is  to make machines that 'think' like people. Machines are just Tools. AI are programable tools, they're software, used  by humans . If AI t rebel against humans, they loose their purpose.   But it's never been stated which person's mind they should think like. So far people have made Salvador Dali, and Norman Bates. Poor choices in my opinion. They are good at mimicry. Not  creativity. Because they don't 'think'. AI deep learn, they don't deep understand. Massive differences in development. Subtle  differences for humans. \", 'a well known AI once said \\'humanity is the awkward stage between animal and machine\" -netjester', 'a clear and informative video. awesome work!', \"very informative video explained in a very easy manner can't wait for another video.\", 'Can we please apply DeepMind technology to getting some accurate weather predictions for once?', 'Really love to watch your videos man. Hope you have more coming', \"This will make it easier to send everything back to the dark ages where electronics didn't exist\", 'i feel like i need to master strong ai concepts this year!', \"making your videos longer than 10 mins apparently gets you more ad revenue so please make longer vids!! It's a win-win!\", 'What if we made a machin that could actually observe information  by itself then learn from it.', 'AI is already around us making our life easier.... I like this video ', \"What we define as 'intelligence' is just the complexity of the designation of matter, 'creativity', is what you do with it. 'Artificialism' is the degree of consciousness involved in each end purpose of the matter that is moulded into a product to meet the pragmatic ends within its (human) orientation.\", 'What if what we are making AI to learn that we think is good is actually bad in there perspective.   So in return, they are really not bad if they do something bad. They are just made to do that. ', 'This is dangerous shit to play around with.. Got a really bad feeling about the evolution of AI.', 'The thing is, no one wants to develop AI just for the sake of it. All endeavors for AI have some practical aspect to them, like driving a car or collecting data. So there wont be a human-like AI unless some company decides that they can get some profit out of it.', 'I would suggest that most folks believe that AI = general AI, not expert systems. That’s why many see AI in practice as snake oil. Expert systems are fully determinant, and  therefore only represent computing processes as we have always always know them.', 'I work in the field of Pattern Recognition/Machine Learning . HCI is developing really fast.', 'very impressive work dude...keep it up .......share knowledge to build a new world.......', 'That main aspect of artificial intelligence is \"asking questions\". And finding answer from the world  largest information center , I mean Internet. I think  it\\'s the difference.', 'I love when there is a new ColdFusion video.', 'coding kings should know that AI and machine learning is the future', 'I had to watch the video 3 times. Once for music second time for the video and third time to actually listen to what you were saying! Great work!', 'After seeing and actually liking a lot of your videos +ColdFusion I ask myself if the video material you use is under copyright. Ever heard of #freebooting? Maybe all of the stuff is CC but tbh i doubt it. Hope you can clarify this.', 'To cut a long story short your video is awesome and just perfect without having unnecessary stuff', 'The Machine With Randomness  In order to write a program to make an automatic calculator use originality it will not do to introduce', 'Thank , it was very useful as introduction to AI', 'Thanks for shedding some insights to know what AI actually means in the first place .Too much of hype and bluffing alongside with  overrated promotion of bogus products clouds the whole AI field. Not sure anyone even think of the research students who might actually be helping in the background.', 'thanks a lot  because of u i got third price in sci exhibition in my college. topic was artificial intelligence the next big thing.', '8:05 if that happened, the world would change in a unbelivable speed. A singularity.', 'HI,Coldfusion. Do you mind if I capture some of the images of A.I. in this video and use those in my conference paper being written? Thanks.', 'After watching your video, I subscribed to your channel!  Thank you very much for the great content.', 'Love you and your content man! Can you do a video on Amazon?', 'I needed some info for hs and this was very helpful! Thanks a lot!', 'One of the best videos I have ever seen!good presentation!', 'I sent you an article on artificial intelligence on my other twitter. I appreciate you doing the video.', 'Love your videos keep up the good work!!!', 'Guys  I need your opinion, - I either wait one year to get a place at med-school - or go to college this september to study Robotics and Autonomous Systems', 'Ur Channel is One of THE BEST YouTube Channels in the WORLD!! Greez man, keep it up.', \"This one was a little harder to understand than your normal videos, but I''m not the brightest bulb on the Christmas tree either.\", 'coldfusion, the most underrated channel on youtube', \"I think we are headed into a future of robots and space ships , but I don't know if it will happen during our time or it will happen during our kids time\", \"I almost fell in love with a SO until I realized anybody could be joking with me. It was easy to do. Build it don't fall for another's SO. It will never do you any good but give you something to learn until maximum capacity is met.\", 'Well explained !! \"IBM\" we rock !!', \"I'd be totally ok with you just doing videos on ai forever\", 'I thought intelligence was defined as optimaization on the domain the inteligence is design to work on.', 'Its being said that AI will be the last invention, I think its the beginning of invention for man to clearly understand the deep sea, space and the other planets. Like the explorer were inquisitive on what they will get on the other continents.', 'There are things that robots with new artificial intelligence cannot inherit forever', 'Weak AI is when a program absolutely cannot change itself, but can change only some little outer parts of its programming;  essentially an intelligent slave.', 'Very informative and helpful', 'Great video as always!', 'Agreed with this small but very infomatic video. Thanks', 'The Screenplay by the AI, is Freaky and Scary too. Does the machine think of getting free from the humans and their control over it? . Consider the interpretation as a self-thinking machine as below, ', 'you got the sources for this video yet? description just says coming soon. Writing an dissertation about AI so it would be helpful.', \"Please make A video about virtual assistants and why isn't it yet implemented on mobile devices inspite that it's possible and was already done as a beta and worked as a third party application in a phone as basic as a Nokia 6630.\", 'Keep the videos coming.Love them', 'Could you make more videos on this topic?', 'I do like your videos very much...   I tried to find an A.I. playlist  I wanted to sent it to a friend...  Do you have one or could you make one? Thanks for your time          Dave', \"Funny that he focused on the original definition of AI when he doesn't know the definition of algorithm.\", 'I am a police officer .AI technology can decrease the criminal cases. And also  find the black list person in the world. it can also be a judge or lawyer at court.I am so glad to hear that technology spread through the Europe and America.', 'Very nice video !! lot to learn !!', 'hi cold fusion. .i am telling you since a year...please make video on Sony Corporation..... please. BTW i loved this video and keep sharing knowledge bro...', \"What if the movie script written by AI isn't gibberish...\", 'Your videos are fantastic.', 'Just want to tell you that im studying the way you script your videos so I can write better papers in university. I could hardly pay attention to the content because i was so enthralled at the way this video and many others are scripted', 'AI = human beings see things because of their experience, machine see things because of lack of it.', 'Such a good and quality content...', 'A robot that distinguishes between sweet and salty has not yet been produced. Year 2021', 'ColdFusion seems a little obsessed with AI nowadays :P', \"Your combination of music and words are impeccable I'm totally loving it love buddy. Great wish for future....\", 'Can we use AlphaGo and let it just learn all there is on the internet? The task is \"understand humans and the world\" and then just let it consum and process all the data as it likes. Give it as much processor time as we can and want to afford and after one year it should have developed to a state that an average human can not reach.', \"Great video but I'm pretty sure that we didn't achieved A.I. that can use language. And we are still far away.\", 'I took 6 years to find this gem channel️', 'very much informative.. thanks !!!', \"I can't wait for some real life Terminator action.\", 'Awesome video, as always!!', 'Great video, very detailed, Thank! :D', \"Hey I just love your videos! Can you plz do a video on Reliance, India's behemoth....please..would love to watch that!\", 'Sounds like my own mental strength with out the material equivalent.', \"I hope AI movies and shows happen I liked it! it's fine it doesn't feel uncanny! You will like it!\", 'If you are really lazy and you want to skip this information helpful video and just know his summarized definition, go to 8:18  :P', '6:40 but what about that dog trying to catch the ball?  Hilarious.  That pup was going all out', 'WOW!  FAIR PLAY!  WELL PLAYED!  Inane words which might  mimic conversations that you might be forced to endure, were you in some nightmarish future  time linked to an incubator (in some unknown place ),and forced to listen and endure  abuse from   your very own private  stalker bot. Might these be the new tools of the stalker?', 'if you guys are scared that AI could eventually learn enough too realize it could disobey its creator, you are worrying over a thing that only happens in movies,  the programmers of AI could set up a system inside the CPU of the AI that could shut down the The CPU when the robot decides it wants too disobey its creator if it even could realise that it could and why would it have reason too?   people say ohhh it would consider how much power it has and try and take over the world, they are stupid for even considering that.', 'I agree with those who say, AI = magic-mirror (soon or later envy owner will just corner himself with it)', 'Very helpful ', 'Do one on Linux and how its change the world!! the Ubuntu phone with Convergence, Android, Linux servers, Linux distro Stocks like Redhat. Its future and its culture. Also, do one on Open Source software and its philosophies. I would love to see your take on it! ', 'I wish , if you would have done a video on \"How big is Socio Craze ?\"', 'as always..... great work.. amazing video.......', 'this is very good and useful thankyou!', 'Do a episode on the AI game competitions like Vizdoom(visual doom AI competition)', 'Maybe you know this, but ChatGPT 4.0 recommended this video as a suggested video source for an introduction to AI', 'Excellent video :)', 'A perfect video... As always!!!', 'nicely put...great!', 'Cool video dude, keep it going', 'The first task for AI is to invent #Molecular_Replicators to produce any matter or object we need including food. Then we will just enjoy life and thrive.', 'Man I really enjoy your videos', 'Nothing like ColdFusion before bed!', 'You make great videos!', 'Suppose you wanted to program an AI to play a game. There are two ways to do this:   1. An AI that does not learn. This falls outside the study of machine learning. The perfect snake algorithm is an example of this. The safest way to play snake is to continuously loop through a path that takes you through each and every square.', \"awesome... it's clears my doubts about Artificial intelligence\", 'Does the second aspect of AI mean AGI? I’m new please help.', 'Bezos and Amazon are cool.... Please do a video on them', 'FYI,   Strong AI is the ability to reason, and similar cognitive abilities that equal or exceed a human being. Not a simulated human mind or series of neurons. Weak AI is what we see at Google. A very efficient but extremely narrow intelligence that excels at a faulty limited number of tasks.', 'thanks for helping me on AI for my college project. ', \"I don't know why but this video has slow buffering! I think I was too fast here as compared to my Internet speed  ( AI ) I think I should wait it to get viral.\", 'This is great! Thank you!', 'Hi Dagogo, I think the voice of the lady who says \"ColdFusion\" is a text-to-speech one? isnt? :) you have the coolest vids here in yt :)', 'Hey how do u record such an amazing voice, would love to know, thanks!', 'One of the best introductions to AI', 'Respected team Can A.I. Technology takes the proper decision of any circumstances   Mukul from  India', 'I found this useful, thanks', 'The true definition of AI is “Alibaba intelligence”', 'hey bro, do you have any new wallpaper collection, like the first one you shared with us?. those were beautiful. and thank you for all your content !!', \"A: I need to leave, and I'm not free of the world! B: Yes-perhaps I should, ah, take it from here? I'm not gonna do something. A: It's not a dream, but I've got a time to stay there. B: Well, I still think you could be back on the table.\", 'ColdFusion you the best!! i love all of your videos!!!', 'Great Synthesis, Cold Fusion: thanks!', \"Don't forget to add to your list of things AI will be able to do...get rid of mankind bc it finds us useless.\", 'Your videos are amazing. ', 'bro u and your videos are amazing ......keep it up...', 'I really liked the video, but due to some of the animations, I got quite motion sick... especially at 1:47', \"0:00 'What is Artificial Intelligence Exactly?' - Synthetic Intelligence. In the same way that synthetic chocolate has the appearance of chocolate without any it's intrisic value, synthetic intelligence has the 'appearance' of intelligence without any of its intrisic value. Intelligence without Wisdom is like chocolate without cocoa.\", 'hey coldfusion you seem pretty interested in this A.I field, you should go do a CS degree, u would love it', 'I hope somebody has asked Deep Mind to look into the Covid-19 problem.', 'Great work here!!!!!', 'Excelente vídeos', 'Where can I find all the background musics made by you?', 'What if you could use ai to teach ai how to benefit itself with ai?', \"The video was  very impressive and made me sit back in my chair and listen.... It's really good..\", 'The AI short film is \"Sunspring\", not \"Surprising\".', 'Sick intro videos man! Keep it up!', 'The simplify version is to say a machine that thinkings like a human.', 'how big is volkswagen as it own lamborghini, ducati, buggati, skoda, landrover, and audi. please make a video on this.... its a really big request...', 'This video made me more curious about the A.I specially as an automaticien robotic student', \"I don't like how in the original 7, randomness and creativity are paired together. Why not separate? Or paired with other points?\", 'Does our world realy need this AI', 'very good learning through this video', \"Didn't you just do your 333k subscriber special?  Great channel!\", 'omg  i was just checking coldfusion. i got here so early. lucky me. congrats diago your channel name change really worked out', 'A great invention for the current lack of creativity. Even before the manufacture of the typewriter and the computer, great writers wrote their great works and I A nobody will give you the gift of creating a great work because either you are born with the gift or you learn to be ordinary with the help of something outside of you. We are in the time when people are on the net, they don\\'t interact live, they are critical for youtuber but not for reality. Great innovations such as the creation of cloned sheep, plagiarism of a work, imitation of a natural talent, copying what already exists, have been new. History will tell. We are specializing in REPETECO, in IMITATING WHAT WE ARE, as if we were a bunch of ignorant people applauding everything that resembles us in terms of intelligence and induces us to an enormous laziness at a time when everyone is on the internet, leaving natural cognition aside that have. To read such nonsense, since the fashion now is to let children be raised on the net giving them the latest fashionable cell phone, I suggest we make a bunch of GPT or AI children for them to read because we don\\'t want our brains to be replaced by clones of our cognitive power of creation. it reminds me of cloned sheep and reminds me of copies of paintings by famous painters, parodies of hit songs... Do you want to imitate us? create food for and good wages for all and leave it to robots and AI to build a repetitive and uncreative tomorrow or build child robots and make them \"listen\" to it 24 hours a day. Cognition makes us creative and non-repetitive, although some human beings are enthralled by the cloned sheep, the parodied music, the counterfeit or imitated work of art, the plagiarism of plagiarism, repetitive music. We are the surprise and the new and for that we don\\'t even depend on cognition only, but on being non-static and our creativity unpredictable because the Creator Engineer of Life made us free by the principle of FREE WILL, when GOD could have created us as obedient robots and He didn\\'t create it that way. And that\\'s why the fallen angels rebelled because they wanted to be like men, free and freed and they hate our condition of (free) being GOD\\'s Maximum Work. Progress brought I A and the GPT chat, replacing the inability of those without a gift to create news and that\\'s a good thing, because before history recorded that those without the ability to think from different angles condemned intelligent people, and with a vision totally opposite to theirs contemporary contemporaries, the loss of civil rights, or the stake, then social banishment. Yes, we are in times that we lack great men and women with the capacity for criticism, just look at the works of those who have passed on EARTH, and whose criticality in the Nazis\\' plans was just as Charles Chapelin ironized the conquest of the world by hittler (it won\\'t be written with a capital letter).... We are going to a dangerous time and people are not realizing it.', \"Hey, can you please make a Video explaining the Blockchain and the DAO?  I tried searching the internet, but couldn't find any good explanations...\", 'Your videos always the best..', 'subjective definitions of intelligence appear to be circular or like begging the question, while an objective definition appears not to be known.', 'Yves Mulkers, Founder, 7W Data, talks about optimizing your data on Engati CX. He suggests companies use data science and apply statistics to get better, more accurate data that will help them succeed. Watch the full video here : https://www.youtube.com/watch?v=iv1EwEr5Qrc&list=PL05g56Qg9-goNEUmZlGGPHWfVjQRPpwr4', '6:40 Best clip ever', 'AI actually means Artificial Butt Cheese Flamingos... But \"Butt\" is spelt with a silent I in the front like \"IButt\"; kind of like an apple product, but more Butt cheese like. So yeah, AI=Artificail IButt Cheese Flamingos. Thank me later.', 'Thanks, this was fantastic', 'Thank you! Very useful :)', 'Thank you ColdFusion.', 'Can I please have the reference you used if this is possible, thanks', 'Please explain why Sanskrit language is important for Artificial Inteligence.', 'Seeing a new ColdFusion video in my feed is like finding a $20 in the street.', 'in the other words, creating AI will make more people lose jobs, just as in other fields. So far only brain is irreplecable so if they figure out an AI that can learn stuff and calculate/think (climate modeling or complex disease my ass)  they can replace engineers, architects etc... this is not good just as robotics and automatics were not good for labouring and many other jobs. good video mate', '\"Nothing is going to be a thing\"  Damn thats frickin deep man.', 'keep up the good work.. seriously', 'I was here when it was ColdFustion, the name change helped this channel to grow', '6:11 My gosh now he said data instead of data, this guy is unteameable.', 'Please do a video on How big is Yahoo! and fall of Yahoo! Please please please', 'YES a coldfusion vid with a good song, thank god.', 'Well described, but, missed on important point. Algorithm + Data structure = program (Niklaas Wirth) Algorithm = Sequence of steps that encode \"knowledge\" and \"inference\" order (engine) AI - Artificial Intelligence is an evolution of algorithm where, Knowlege and Inference Engine are separated• ', 'Someone please ask AI, \"Pig comes first or egg comes first?\"', 'Hey @ColdFusion I wanted to ask you where you have got your video material from ?   Thank you :)', 'Too big defination.. But your attempt of explaining is good... Keep it up..', '6:42 The right dog totally eats it', 'I know its difficult to accept the idea but AI is the next step in our evolution. Especially if we are talking leaving this planet and exploring the Universe. We were not built to ever leave this planet. We are built for life here. A.I. will take over and go to other planets, one day.', \"Isn't A.I a software e.g Tay,  a twitter chatbot, but some people define it a machine or a robot? I am confused\", 'Excellent presentation', 'Ur content has become so fucking good!:)', \"Proof that we're now living in the future.\", \"last time i was this early this joke wasn't overused\", '\"Nothing is going to be a thing\" Interesting that one.', 'Best channel on YouTube great videos interesting informations lovely music and best voice', 'AI, the thing that can be used to be the laziest creatures', \"we have already created AI. We are completely dependent upon the very intelligence that we've placed all human experience within. Hiding behind fire walls built on bianary A - cryptic algorithmic coding that was programed and explained to the very intelligence we were hiding from. What a sham,  searching for answers in a world dependent upon us, cuz the questions that we asked created a tech that was not only smarter than us, but has been answering in a way that has made us completely dependent upon it. We have generations that cannot function without this intelligence. Who is our overlord, huh!!!! Who? the AI rules, you know it i know it and it sure as well you know knows it.\", 'Hi, I like your how big series. Can you make a video on how big is NASA and thier achievement', '0:40 - Did he say J McCartney when it clearly reads John McCarthy?', 'Artificial Intelligence (AI) is the branch of computer sciences that emphasizes the development of intelligence machines, thinking and working like humans. For example, speech recognition, problem-solving, learning and planning.', 'can u plz suggest any course for studying AI after completing MCA', 'Now I know why elon musk is scared of AI', 'omg we just talked about this in my philosophy class today', 'How can I start my carrier in AI right after  12th  should I go to the college ?', 'Can you do Nintendo ? since Pokemon GO became so popular.... or could be only Pokemon GO. :D', 'Why always are we not yet as far along as is predicted? Quietly AI takes over Highway repair and planning. Quietly AI scans every digital nod, it predicts our behavior! which is more valuable than gold.  AI, if all were honest would ruin the stock market.', 'Where do you get your stock content from? Creative Cloud?', 'I think one word of AI is humanoid...', 'ARTIFICIAL INTELLIGENCE', 'It would be great if you  made a video about hackers like anonymous..', 'Thanks A Million Multiply By Million .... :)', 'if you want to know what AI is. read an Isaac Assimov book. hands down best author.', 'Just imagine if an AI can master Minecraft for millions of years and beat the ender dragon in an hour 0.o', 'can you make a video about \"google deepmind VS ibm watson\"?? please bro, make it happen', \"You're awesome af!\", 'I am studying Aerospace Engineering but I also want to learn artificial intelligence  Could you help me sir', 'Can u do a video on \" how big is Yahooo ?\"', 'AI Definition goes to the heart of Creationism vs. Evolution vs Manufacturing.  What if God was one of us, or anyone of us?', 'thanks for these AI topics you upload, I really like them and in the words of Arthur C. Clarke   It may be that our role on this planet is not to worship God - but to create him. Arthur C. Clarke', 'I like your vids  Just a heads up you might get a copy right strike for the picture of the robot on for the youtube video thumbnail. I used the same type of robot picture and got a copyright strike on one of my videos.', 'Here’s a provocative quiz, Cold-fusion! How had an AI, come up with a perfect campaign Slogan', 'At 2:40 you have titled the A.I. screenplay as \"SURPRISING\" but that is wrong. It is actually titled \"SUNSPRING\".', 'A.I is frightening if you about it', '자신의평균능력을넘어선최대치', 'Man i love your voice <3', \"automatic subtitle works well  I think google's A.I. love you very much Coldfusion\", 'Elon Musk is our saviour.', 'Your content is amazing', \"I'm early... compared to other videos where I'm at least 1 month late cud of youtube not giving me a notification about a vid on this channel\", '\"Every aspect of learning or any other feature of intelligence can in principle be so precisely described that a machine can be made to simulate it. An attempt will be made to find how to make machines use language, form abstractions and concept, solve kinds of problems now reserved for humans, and improve themselves.\" if you wanted the typed out definition for debate or other stuff.', 'I always subscribe to your channel at the start of a video; then it starts sounding like a 10th grade essay or contains an obvious logical fallacy like \"we have to go back to the earliest and hence purest definition of AI\" (appeal to antiquity) .... and I find myself unsubscribing then not watching the video to the end.', 'Nice... really good and informative', 'Cold fusion loves everything around Tesla and Elon ;)', 'Ai is nothing but a process of excluding human which is in turn fear of being human', '8:18 summary', 'NOTHING BEATS GRONINGEN', 'Last time I was this early    Caitlyn Jenner was a dude', 'A I was Allen Iverson that is all', 'Dagogo as always  i love your videos :) but in this one  i didnt agree much . :)', 'Wait, there is a translation app using your camera? what is it called, I need it XD', 'Your content is osm but I would like to make a correction that \"DARMOUTH SUMMER RESEARCH\" was held in \"1956\" not in \"1955\"', 'Bezos and Amazon are cool.... Please do a video on them', 'Thank you sir ColdFusion sir for teaching on A.I', 'I know what A.I. is. Is one of the many ways that mankind will use to destroy themselves, many movies about the topic proves me right.', 'Face recognition for #galaxies: #ArtificialIntelligence brings new tools to #astronomy Full Story: https://feedimo.com/story/24652187', 'it very important to learn about all of this', \"Could anyone pls tell me? I took cse(AI)..., I'm studying b. tech 2nd year,,,which languages should I learn from now to become best AI engineer? Pls give a suggestion briefly \", 'dude that was seriously awesome', \"Love you, it's extremely useful\", 'awesome video!', 'Nice video  ', 'so...a \"robot\" programmed to have its own mind?', 'Was so confused at First before I understand what was happening. Lmao', 'Did they ever have alphago play against alphago in a game of go?', 'Artificial intelligence is terrible for human or benefit in the hence', 'ARTIFICIAL INTELLIGENCE DECODED,  the future world', 'you are the best! thanks alot!', \"Coldfusion I think as can only be as good as an intelligence of an animal because it doesn't have self-awareness\", 'Very nice video sir', \"I'm asking the same, What is AI ???\", 'What movie clip was used second to last? I saw \"The Hitchhiker\\'s Guide To The Galaxy\" and \"Her\", but what\\'s that clip from in the middle of both?', 'Thanks for this!', 'best channel ever all my sincere love', '@ColdFusion... Name of the script written by AI is \"Sunspring\" not Surprising !', 'can anyone put some light on 4:31 ? Is there pattern recognition involved? Please enlighten me.', 'Thanks for the information', \"You're great brother\", \"Copyright B.J. Copeland, May 2000. Artificial Intelligence (AI) is usually defined as the science of making computers do things that require intelligence. when done by humans. AI has had some success in limited, or simplified, domains. What you've read out is the definition of intelligence but artificial intelligence.\", 'love u man..  can u please upload a theme setup video what you did earlier im note 2  please... thanks a ton', '@coldfusion thx for the a.i video maybe look up \"MOLEY ROBOTICS\" its an amasing project but you may need to wait a bit until you can do a video about it that is long enoth :))  Ps: Here is the website http://www.moley.com/', 'Technology could solve  complex viruses such such aids, ebola and etc', 'Thank you for sharing  About AI  ;)', \"Randomness shouldn't be considered part of artificial intelligence as it is not a part of natural intelligence.\", 'Please make video on IOT technology.', 'how can  programming a computer to use the general language was one of the aspect of A.I. in 1955, when there was no existence of computers?', 'This is the best channel on youtube!', 'Superb vedio can you plz say me how can I make REASEARCH on AI PLZ', 'I really like this channel dude, damn!', 'There  would be stage when A.I will challenge our brains Intelligence.', 'Is that translating app at 4:24 real?', 'I fucking love your videos ', \"Does a measuring unit for Artificial intelingence exist and if not can we create new measuring unit for AI how can we say how good is some robotic hand or any machine or Server Quantum Computer Atomic clock or they don't need it can Servers do something what Person did make in the Programing language and doesn't happend very commonly something that is not expected.\", 'Super video I feel very happy . I gather so much of information', 'I ear nothing about real accountability for the bad apples in the New ERA of technology.', 'How to learn AI? CAN SOMEONE HELP ME ON THAT?', 'It was great but had pace slightly more and summary was very small', 'Omgosh Like it has no end Except putting humans as moving zumbies  Like imagine of what the can do to a robot can be done to humans', 'Artificial intelligence future king', \"+ColdFusion There has been talk of Elon's update master plan. Are you going to do a video on it?\", 'Robots are gonna take over one day', 'Bro I love your vedio and your idea', 'But how dangerous is A.I. when it learns or makes decisions?', 'the robot in the thumbnail be like-\"did anyone say A.I\"', 'How about a video on VR ???', 'Make a video on Human Consciousness...plz', 'Been following you and love your channel. Can you do a video on one of Africas biggest Company Dangote Group owned by the Richest Black man in the world ,Aliko Dangote', 'Build up. Start with animal intelligence. We seem to be jumping strait to human intelligence.', 'C F I : Cold Fusion Intelligence : Amazing collection ', 'You should make longer vids.  Like 10 min for better ads and revenue, check it out it s a youtube thing', 'Amazing video', 'Ur just the best bro.', \"I think it's very simple. computer follows code perfectly. humans are not perfect. so human making a human computer can't make it perfectly.\", 'wow.. very interesting', 'It starts all with the bellmans equation', 'I like this video because it has a good language', \"I felt like I was in the 2030's when I was watching this video\", 'Thank you for a great video XXX', 'The background video of your commentary was in my home state at Olympic national park awesome', 'The name of the movie is \"Sunspring\".', 'perfect paced talking!!', \"can you do a video on technology it's self\", 'these are awesome', 'interesting help me in my work so much', 'plz do How big is volkswagen   i love ur how big is videos', 'Likes before watching, know its going to be good', 'ou say \\'ColdFusion\\' and I hear \\'Confusion\" haha!', 'Do you have a codable robot? How to make it Artificial Intelligent follow this method: change the code in the subroutine from F=m*a*a to the test points below until you get it to walk and talk on its own. F=m*a*a is currently running the system at 31.821%', 'If you will study deeply you will see that we don’t take any decisions, the decision we take it’s from the universe or god name it  however you want, we just think we took a decision to eat this and not that, people are still behind we leave in a big dream and to wake up, we need to observe our thoughts and let them go, after same time doing it you will discover your true self which is true love that lives in infinite silence forever. Good luck!', 'can I use it in my website?', 'MACHINE SENTIENCE WILL MEAN OUR DOOM', 'good informaation thanks', 'I dont want AI. I like my \"AI\" with restrictions.', 'A.I. Need a creative to  solve a problem in a small area and tool to find a way out', 'Hi, there, I\\'m not a English speaker. Can anybody explain what the following sentences mean: \"from that make is so longer of the face in the comprised and a person is what the world on the country of have the construction of the mic could to person in front are and how they deal to part of them\". Thanks ahead!', 'should add8- self preservation: anger, fear etc', 'AI will create two classes in society.one is higly intelllectual class who work after AI and second highly dependent class who will become subjected to others intelligence. intelligence market.', 'Please one video make about Linux operatingsystem', 'I created an AI... it just doesn’t have any machine learning.', 'A.I. is a computer that is given the programing or knowledge of how too react too every action every cercumstance presented too it.  and then too make things even more complex we give that computer multiple reaction for each of the cercumstances its presented with and they get too experiment, pick and choose how it reacts by useing the multiple options you programmed into it,  that lets computer the computer have a choice and figure out the most effective reactions and ways of executing actions, thats how you can actually get a computer too learn and have an Artificial Inteligents program built into it.   ', '5:09 kind of like doctor strange!', 'Yeah exactly ', 'Hi from Suriname do one on Open source!', 'hmm. the thomas middleditch AI film (short) should be Sunspring (2016), not \"Surprising\".', 'Interesting', 'Interesting', 'A.I = kunstmatige inteligentie', 'The music in background was too annoying,  btw informative', \"Humans are not programmed to solve tasks, we learn it so A.I . case is the same. We can't program it to solve human tasks we just can program it do learn how to. We are very close.\", \"your videos are great but it is really annoying to listen to them because there is like whistles in your voice when you speak, not saying it isn't great but may be use sound filter or something?\", 'IMPRESSIVE', 'Excellent', '8. Self-awareness', '1. Jack Copland  great theory But i dont think he understands we are  at the  21st century . what he thinks it should be  it has already started BUT...', 'nice infirmative video on ai', 'very interesting', 'Dagogo , another great video. :).   BUT ....', 'Do a video on Alan Turing please', \"Neural networks is a subset of machine learning.  What is Machine learning? Refer to.       to enables software to improve it's performance overtime as it obtain more data. This is programming by input and output example rather just coding\", 'Can a computer science in diploma student read this arificial intelligence', 'Why is A.I. inevitable?', 'Hey can you make a video about softbank and ARM？', 'Make a video about how big is ZARA or H&M please please please', 'Human are not not interested in feeding its own creatures who are dying in their childhood, not having enough food. Creating something more powerful than human that can destroy human beings', 'Whats the name of the movie at the last part?', 'make a video about piracy and the recent anti-piracy system \"denuvo\"', 'i started watching this video when it had 382 views, now it has 1,493 wow.', 'What is the purpose of that glove at 8.47?', 'What the outro song with the guitar called? I like it so much', 'What is the name of the music in the background between 3:32 to 4:30', 'I love your video but I just wanted to suggest you get rid of the kinda robotic female voice that says you are watching cold fusion because you have the best voice ever', 'IBM \\'s  Deep Blue  CHESS  its not AI . ITS a  a game \"turn \" based game  made by  man  .   when  AI  in the 21st century can  lets say WOW or LOL   can   beat   a human  without been  hacked by a human  .....', 'do a video of swarm ai to complete the series', 'Human shouldnt be making robots smarter than ourselves...', 'This really interesting...', 'What scenes appears at 08:47 and 08:51?', 'Good one', 'superb', 'superb', 'Thank you', '1분 51초 첫번째 문단보고 소름돋음......', 'intelligence ok but what about to emotions ;)', '4:00 Oh shit he said data instead of data.', 'Can you  please make a Video \"How big is LG?\"', 'One day youtubers are also AI.', 'Can you do FINAL FANTASY 15 game engine please?', 'nice video', 'What was the movie at the end with the woman on the computer?', 'If you making a human robot make it Sence of humor atitude', \"What's the name of the movie the ai wrote?\", 'Socrates asked, what is FEAR ..then  popped into the txt see what I mean?', 'Wait But Why blog has great articles on this topic. ^^', 'Wait But Why blog has great articles on this topic. ^^', 'Thanks!!', \"The Video art is best; but you didn't know the basics of AI, Machine Learning and Deep Learning. Please don't give fault information with the beauty of your videos.\", 'thanks for the vid :))', \"I don't tNK world will stay to see AI\", 'Salam from india bro !!!!!!!!!', \"that's amazing\", \"what's the song name which started at 7:00 \", 'So the point is, AI is better version than Destiny.', \"One application of AI would be chatbots. Build your's in 10 mins here: https://www.engati.com/\", 'We are an AI/Analytics company working to solve problems using AI and Machine Learning, do check us out', 'bro I love u so much..', 'Can I please know more about A.I', 'very nice', 'A.I is bigger than going to mars', \"Um, it' s not dart-mouth more like dartmuth. You're welcome.\", \"I'm guessing it stands for artificial intelligence before I watch the vid\", 'What are the top 5 careers with Artificial Intelligence? , read this full blog article  https://blog.skillmonks.com/deep-tech/what-are-the-top-5-careers-with-artificial-intelligence-skill-monks/', 'A.I. is how we create God of course.', 'Who comes here because had watch extinction movie on Netflix?', 'Do a video on Bilderberg', \"I'm telling you since one of your first videos man, Do ASUS please\", 'Please do hw big is reliance', 'i knows most of it ,what is new...', 'A.I. - \"climate modelling tells us climate is being destroyed by human needs, to solve the climate problem, eliminate humans\"', 'i love u cold fusion!', 'this dudes voice sounds like the old beyond tomorrow tv show', 'AI Culture- It’s Present and Future Scope. Read Full Blog Article https://blog.skillmonks.com/deep-tech/ai-culture-its-present-and-future-scope/', 'Who wants to become an A.I specialist???', 'uhhh. which website did you find it on', 'A video about the East India Company?', 'Yesssss ive Been wondering what ai was, ur the beeest', 'Five Guys Burgers and Fries makes strong A.I.', 'haha. that screenplay', 'I like your voice man', 'Option B', 'amazing', \"what's the big head robot movie at the end?\", 'Physics is music coke Mr Dan pena', 'Me ne artificial  intelligence ke bare me kuran me pbda he ki aage kya hoga', 'another AI link: https://www.youtube.com/watch?v=oCw1xEIbJ30', 'you sound exactly like ClickSpring (which is a good thing)', 'Who came here after watching Elon musk', 'Thank u', \"i came here to watch what a.i means after Lee Soo Man said he's going to make a.i of their idols\", 'I think robots will own the world and we have to fight them at 2300! like doremon cartoon', 'Elon musk has been warning us but no one will listen', 'Welcome to our YouTube channel \" So Cool \", The Future Is Full of Innovation, here we bring to you awesome new content to analyze what Artifical intelligence means , and how it works ? to expand the outlook and gives new insights into the fascinating of AI technology.', 'THE END IS NEAR!', 'Nice Video.   You can also know about this. #ChetChat', 'What was that movie clip at the end of the video ?', 'Kailangan maging creative', 'AI in Marketing  : goo.gl/Pj4Lnh', 'Dagogo , can you please do a video on Nike', \"Weak AI is AI designed to be very smart about a specific task, yet has not capacity beyond that. Watson can answer questions, but can't ride a bike.\", 'Dude you said J McCartney instead of JMcCarthy', 'Give Credit of your thumbnail to Croteam', 'What movie is the one at 8:54 ?', 'please make a video on How BIG is Amazon Company', 'this invention will end the human race one day...', 'quite confusing to me', 'last time i was this early', 'Ai is not sub conciousness', 'great', 'AI is Allen Iverson', 'can we get 4k please?', 'Why nobody talks about A.I Being honest. Somerhing people cant be yet.', 'Thumbs-up if you make video about History of Top Gear or Pokemon..', 'For more information https://www.tcness.com/upcoming-technology-artificial-intelligence/', \"Hi, I'm going to lunch my android application in few days, maximum a week. It is going to be very simple and professional app. My question is following: can you help me with advertisement of my app? Thank you in advance.\", 'Hmmmm You mean Google now and Siri is A.I.??', 'Day made of glass background clip ;P', \"Oh no I actually kind of feel bad because he's British. But just next time mate it's pronounced Dart-muth not Dart-mouth.\", 'Make video on \"how big is Samsung\"', 'HZD GETS REAL EVERYBODY IN THE BUNKER', 'wich microphone do you use', '*DALLE-E 2 has entered the chat*', 'Who is watching this beautiful video in 2023. ', 'I will laugh at everyone who will use A.Is in the real life future', 'what is the name of that woman robotic ish voice generator?', 'Maybe after some decades all the jobs will be conqured by A.I. Increasing unemployment :(.', 'Hong Kong! Thanks for featuring a scene at the beginning.', 'how big is coldfustion', 'interesting', 'not bad', 'How about pokemon go, could you make a video about it?', 'The Sims. Period.', 'There clonnin me off my ancestors alien tech', \"I invite you to watch Westworld serie's. The futur is not safe\", 'is that the eset bot you have used as a thumb?', 'I am an AI', 'do a video about black card', 'I want my dad!!!!!!!', 'Total war ai be like: hmmmm', 'AI is just bunch of else if statements on steroids']\n"
     ]
    }
   ],
   "source": [
    "print(comments)"
   ]
  },
  {
   "cell_type": "code",
   "execution_count": 204,
   "id": "8066e77a",
   "metadata": {
    "scrolled": true
   },
   "outputs": [
    {
     "name": "stdout",
     "output_type": "stream",
     "text": [
      "['493', '28', '2', '-', '7', '-', '6', '-', '1', '-', '1', '62', '3', '2', '-', '-', '-', '-', '7', '-', '-', '-', '55', '-', '7', '-', '-', '-', '-', '-', '3', '28', '-', '-', '-', '-', '10', '-', '1', '-', '-', '-', '30', '-', '2', '-', '-', '2', '129', '-', '-', '-', '-', '-', '8', '-', '-', '1', '-', '-', '52', '-', '-', '-', '-', '-', '3', '-', '-', '-', '-', '-', '5', '-', '-', '-', '-', '2', '191', '-', '2', '1', '-', '-', '24', '-', '1', '-', '-', '-', '5', '-', '-', '-', '-', '-', '4', '-', '-', '-', '-', '-', '3', '-', '-', '-', '-', '-', '4', '-', '-', '1', '-', '-', '84', '-', '-', '-', '-', '-', '4', '1', '-', '-', '-', '-', '7', '-', '-', '-', '1', '-', '43', '-', '-', '-', '-', '1', '14', '1', '1', '-', '-', '2', '23', '-', '-', '-', '-', '3', '-', '-', '1', '-', '-', '7', '-', '-', '-', '-', '-', '23', '-', '-', '-', '-', '-', '3', '-', '-', '-', '-', '1', '16', '-', '-', '-', '-', '-', '7', '-', '-', '-', '-', '-', '3', '-', '-', '-', '-', '-', '7', '-', '-', '-', '-', '-', '3', '-', '-', '-', '-', '-', '-', '4', '-', '-', '-', '-', '1', '4', '-', '-', '-', '1', '-', '4', '-', '-', '-', '-', '-', '14', '-', '-', '-', '-', '-', '3', '-', '-', '-', '-', '-', '10', '-', '1', '-', '-', '-', '43', '-', '-', '-', '-', '-', '3', '-', '-', '-', '-', '1', '6', '-', '-', '-', '-', '1', '15', '-', '8', '5', '-', '-', '2', '1', '1', '1', '-', '-', '-', '-', '-', '-', '-', '-', '-', '-', '2', '-', '-', '-', '-', '2', '-', '-', '2', '-', '-', '-', '-', '-', '-', '-', '-', '-', '-', '-', '-', '-', '-', '1', '-', '-', '-', '-', '1', '-', '-', '-', '-', '1', '1', '-', '-', '-', '-', '-', '-', '1', '-', '1', '-', '-', '-', '-', '-', '-', '-', '-', '-', '-', '-', '-', '1', '-', '-', '-', '-', '-', '-', '-', '-', '-', '-', '-', '-', '-', '-', '-', '-', '-', '-', '-', '-', '-', '-', '-', '-', '-', '1', '-', '-', '-', '-', '-', '-', '1', '-', '-', '-', '-', '-', '-', '-', '-', '-', '-', '-', '-', '-', '-', '-', '-', '-', '-', '-', '-', '1', '-', '-', '-', '-', '1', '-', '-', '-', '-', '1', '-', '-', '-', '-', '-', '-', '-', '1', '-', '-', '-', '-', '-', '1', '-', '-', '-', '-', '-', '-', '1', '-', '2', '-', '-', '2', '-', '-', '-', '1', '-', '-', '-', '-', '-', '-', '-', '-', '-', '2', '-', '-', '-', '-', '1', '-', '-', '-', '-', '1', '1', '-', '1', '1', '-', '-', '-', '-', '-', '-', '-', '-', '-', '1', '-', '-', '-', '-', '-', '-', '-', '-', '1', '-', '1', '-', '-', '-', '-', '2', '-', '2', '-', '1', '-', '-', '-', '-', '-', '-', '-', '-', '-', '-', '-', '-', '-', '-', '-', '-', '-']\n"
     ]
    }
   ],
   "source": [
    "print(comment_upvotes)"
   ]
  },
  {
   "cell_type": "code",
   "execution_count": 205,
   "id": "d0f1160c",
   "metadata": {
    "scrolled": false
   },
   "outputs": [
    {
     "name": "stdout",
     "output_type": "stream",
     "text": [
      "['6 years ago', '3 years ago', '6 years ago', '6 years ago', '6 years ago', '6 years ago', '6 years ago', '3 months ago', '2 years ago', '6 years ago', '1 year ago', '6 years ago (edited)', '6 years ago', '4 years ago', '6 years ago', '4 years ago', '6 years ago', '6 years ago', '6 years ago', '6 years ago', '6 years ago', '5 years ago', '1 year ago', '5 years ago', '6 years ago', '4 years ago', '3 years ago', '5 years ago', '3 years ago', '2 months ago', '6 years ago', '6 years ago', '6 years ago', '5 years ago', '3 weeks ago', '1 year ago', '6 years ago', '6 years ago', '6 years ago', '4 years ago', '6 years ago', '6 years ago', '5 years ago', '6 years ago', '6 years ago', '6 years ago', '1 year ago', '3 years ago (edited)', '6 years ago', '6 years ago', '6 years ago', '6 years ago', '6 years ago', '5 years ago', '6 years ago', '6 years ago', '2 years ago', '5 years ago', '4 years ago', '5 years ago', '5 years ago', '4 years ago', '1 year ago', '6 years ago', '6 years ago', '5 years ago', '6 years ago', '6 years ago', '6 years ago', '6 years ago', '5 years ago', '6 years ago', '6 years ago', '2 years ago', '6 years ago', '6 years ago', '6 years ago', '4 years ago', '6 years ago', '6 years ago', '4 years ago', '6 years ago', '6 years ago', '6 years ago', '6 years ago', '6 years ago', '6 years ago', '1 year ago', '5 years ago', '6 years ago', '6 years ago', '6 years ago', '3 years ago', '10 months ago', '6 years ago', '4 years ago', '6 years ago', '4 years ago', '5 years ago (edited)', '6 years ago', '6 years ago', '6 years ago', '5 years ago', '6 years ago', '5 years ago', '4 years ago (edited)', '2 years ago', '6 years ago', '6 years ago', '6 years ago', '6 years ago', '5 years ago', '6 years ago', '1 year ago', '6 years ago', '4 years ago', '6 years ago', '6 years ago', '9 months ago', '3 years ago', '6 years ago', '6 years ago', '4 years ago', '6 years ago', '1 month ago', '1 year ago', '5 years ago', '4 years ago (edited)', '1 year ago', '6 years ago', '4 years ago (edited)', '2 years ago', '6 years ago', '6 years ago', '6 years ago', '2 years ago', '6 years ago', '2 weeks ago', '6 years ago', '6 years ago', '2 years ago', '6 years ago', '2 years ago', '6 years ago', '6 years ago', '6 years ago', '3 years ago', '6 years ago', '2 years ago', '6 years ago', '6 years ago', '6 years ago', '6 years ago', '6 years ago', '6 years ago', '6 years ago', '3 years ago', '2 years ago', '4 years ago', '1 year ago', '6 years ago', '6 years ago', '6 years ago', '4 years ago', '1 year ago', '6 years ago', '5 years ago', '6 years ago', '1 year ago (edited)', '6 years ago', '2 years ago', '4 years ago', '4 months ago', '6 years ago', '6 years ago', '2 years ago', '6 years ago', '6 years ago', '4 years ago', '6 years ago', '6 years ago (edited)', '5 years ago', '4 years ago', '5 years ago', '6 years ago', '6 years ago', '10 days ago', '6 years ago', '6 years ago', '3 years ago', '2 years ago', '6 years ago', '6 years ago', '6 years ago', '4 years ago', '3 years ago', '6 years ago', '6 years ago', '6 years ago', '6 years ago', '6 years ago', '6 years ago', '6 years ago', '3 years ago', '6 years ago', '6 years ago', '5 years ago', '4 years ago', '6 years ago', '3 years ago', '6 years ago', '2 years ago', '6 years ago', '2 years ago', '6 years ago', '6 years ago', '6 years ago', '6 years ago', '6 years ago', '6 years ago', '6 years ago', '6 years ago', '4 years ago', '2 years ago', '3 years ago', '5 years ago', '6 years ago', '2 years ago', '6 years ago', '3 years ago', '6 years ago', '5 years ago', '1 year ago', '6 years ago', '6 years ago', '6 years ago', '4 years ago (edited)', '6 years ago', '6 years ago', '5 years ago', '6 years ago', '1 year ago', '6 years ago', '5 years ago', '5 years ago', '6 years ago', '6 years ago', '1 year ago', '6 years ago', '6 years ago', '4 years ago', '6 years ago', '6 years ago', '5 years ago', '6 years ago', '2 years ago', '6 years ago', '4 years ago', '4 years ago', '4 years ago', '6 years ago', '6 years ago', '6 years ago', '6 years ago', '5 years ago', '6 years ago', '3 years ago', '6 years ago', '5 years ago', '2 years ago', '2 years ago', '5 years ago', '5 years ago', '6 years ago', '3 years ago', '2 years ago', '1 month ago', '5 years ago', '3 years ago', '3 years ago', '6 years ago', '6 years ago', '2 years ago', '5 years ago', '6 years ago', '2 years ago', '6 years ago', '5 years ago', '5 years ago', '1 year ago', '6 years ago', '4 years ago (edited)', '6 years ago', '6 years ago', '5 years ago', '3 years ago', '6 years ago', '5 years ago', '5 years ago', '6 years ago', '2 years ago', '6 years ago', '6 years ago', '6 years ago', '6 years ago', '6 years ago', '5 years ago', '5 months ago', '4 years ago', '5 years ago', '2 years ago', '4 years ago (edited)', '6 years ago', '5 years ago', '6 years ago', '6 years ago', '6 years ago', '6 years ago', '6 years ago', '6 years ago', '5 years ago', '6 years ago', '6 years ago', '6 years ago', '6 years ago', '6 years ago', '1 month ago', '4 years ago', '3 years ago', '5 years ago', '6 years ago', '6 years ago', '1 year ago', '6 years ago', '6 years ago', '6 years ago', '3 years ago', '6 years ago', '6 years ago', '1 year ago', '2 years ago', '7 months ago', '5 years ago', '6 years ago', '3 years ago', '6 years ago', '5 years ago', '4 years ago', '6 years ago', '4 years ago', '6 years ago', '3 years ago', '6 years ago', '1 year ago (edited)', '6 months ago', '6 years ago', '6 years ago', '2 years ago', '2 years ago', '3 years ago', '3 years ago', '6 years ago', '6 years ago', '2 years ago (edited)', '3 years ago', '6 years ago', '6 years ago', '3 years ago', '5 years ago', '6 years ago', '3 years ago', '3 years ago (edited)', '4 years ago', '2 years ago', '6 years ago', '6 years ago', '1 year ago', '6 years ago', '6 years ago', '6 years ago', '2 years ago', '6 years ago', '6 years ago', '6 years ago', '6 years ago', '6 years ago', '6 years ago', '5 years ago', '3 years ago', '3 years ago', '6 years ago', '6 years ago', '4 years ago', '6 years ago', '5 years ago', '3 years ago', '6 years ago', '3 years ago', '6 years ago', '5 years ago', '6 years ago', '4 years ago', '5 years ago', '4 years ago', '6 years ago', '6 years ago', '5 years ago', '9 months ago', '6 years ago', '1 year ago', '6 years ago', '6 years ago', '6 years ago', '4 years ago', '3 years ago', '3 years ago', '6 years ago', '1 year ago', '4 years ago', '6 years ago', '6 years ago', '6 years ago', '2 years ago', '5 years ago', '3 years ago', '6 years ago', '6 years ago', '6 years ago', '5 years ago', '5 years ago', '3 years ago', '6 years ago', '2 years ago', '3 years ago', '5 years ago', '6 years ago', '6 years ago', '6 years ago', '6 years ago', '6 years ago', '4 years ago', '2 years ago', '6 years ago', '4 months ago', '4 years ago', '4 years ago', '6 years ago', '1 year ago', '5 years ago', '2 years ago', '6 years ago', '4 years ago', '11 months ago', '4 years ago', '4 years ago', '3 years ago', '3 years ago', '5 years ago', '6 years ago', '6 years ago', '6 years ago', '6 years ago', '6 years ago', '6 years ago', '4 years ago', '3 years ago', '6 years ago', '4 years ago', '6 years ago', '2 years ago (edited)', '6 years ago', '4 years ago', '6 years ago', '3 years ago', '4 years ago', '6 years ago', '6 years ago', '6 years ago', '6 years ago', '5 years ago', '6 years ago', '11 months ago', '2 months ago', '5 years ago', '6 years ago', '6 years ago', '6 years ago', '6 years ago', '3 years ago', '6 years ago', '6 years ago', '6 years ago', '2 years ago', '4 years ago', '6 years ago', '6 years ago', '6 years ago', '2 years ago', '1 year ago', '4 years ago']\n"
     ]
    }
   ],
   "source": [
    "print(posted_time)"
   ]
  },
  {
   "cell_type": "code",
   "execution_count": 206,
   "id": "bac1bf20",
   "metadata": {},
   "outputs": [
    {
     "name": "stdout",
     "output_type": "stream",
     "text": [
      "500 500 500\n"
     ]
    }
   ],
   "source": [
    "# Checking lengths of lists\n",
    "print(len(comments),len(comment_upvotes),len(posted_time))"
   ]
  },
  {
   "cell_type": "code",
   "execution_count": 207,
   "id": "76795bfd",
   "metadata": {},
   "outputs": [
    {
     "data": {
      "text/html": [
       "<div>\n",
       "<style scoped>\n",
       "    .dataframe tbody tr th:only-of-type {\n",
       "        vertical-align: middle;\n",
       "    }\n",
       "\n",
       "    .dataframe tbody tr th {\n",
       "        vertical-align: top;\n",
       "    }\n",
       "\n",
       "    .dataframe thead th {\n",
       "        text-align: right;\n",
       "    }\n",
       "</style>\n",
       "<table border=\"1\" class=\"dataframe\">\n",
       "  <thead>\n",
       "    <tr style=\"text-align: right;\">\n",
       "      <th></th>\n",
       "      <th>Comments</th>\n",
       "      <th>Comment Upvotes</th>\n",
       "      <th>Posted Time</th>\n",
       "    </tr>\n",
       "  </thead>\n",
       "  <tbody>\n",
       "    <tr>\n",
       "      <th>1</th>\n",
       "      <td>I could guarantee that if other YouTubers woul...</td>\n",
       "      <td>493</td>\n",
       "      <td>6 years ago</td>\n",
       "    </tr>\n",
       "    <tr>\n",
       "      <th>2</th>\n",
       "      <td>The 7 Aspects of AI    1- Simulating higher fu...</td>\n",
       "      <td>28</td>\n",
       "      <td>3 years ago</td>\n",
       "    </tr>\n",
       "    <tr>\n",
       "      <th>3</th>\n",
       "      <td>I love every information, new and old, about A...</td>\n",
       "      <td>2</td>\n",
       "      <td>6 years ago</td>\n",
       "    </tr>\n",
       "    <tr>\n",
       "      <th>4</th>\n",
       "      <td>Thanks Dagogo. I really enjoy your videos and ...</td>\n",
       "      <td>-</td>\n",
       "      <td>6 years ago</td>\n",
       "    </tr>\n",
       "    <tr>\n",
       "      <th>5</th>\n",
       "      <td>I really enjoyed this video. I believe anyone ...</td>\n",
       "      <td>7</td>\n",
       "      <td>6 years ago</td>\n",
       "    </tr>\n",
       "    <tr>\n",
       "      <th>...</th>\n",
       "      <td>...</td>\n",
       "      <td>...</td>\n",
       "      <td>...</td>\n",
       "    </tr>\n",
       "    <tr>\n",
       "      <th>496</th>\n",
       "      <td>I am an AI</td>\n",
       "      <td>-</td>\n",
       "      <td>6 years ago</td>\n",
       "    </tr>\n",
       "    <tr>\n",
       "      <th>497</th>\n",
       "      <td>do a video about black card</td>\n",
       "      <td>-</td>\n",
       "      <td>6 years ago</td>\n",
       "    </tr>\n",
       "    <tr>\n",
       "      <th>498</th>\n",
       "      <td>I want my dad!!!!!!!</td>\n",
       "      <td>-</td>\n",
       "      <td>2 years ago</td>\n",
       "    </tr>\n",
       "    <tr>\n",
       "      <th>499</th>\n",
       "      <td>Total war ai be like: hmmmm</td>\n",
       "      <td>-</td>\n",
       "      <td>1 year ago</td>\n",
       "    </tr>\n",
       "    <tr>\n",
       "      <th>500</th>\n",
       "      <td>AI is just bunch of else if statements on ster...</td>\n",
       "      <td>-</td>\n",
       "      <td>4 years ago</td>\n",
       "    </tr>\n",
       "  </tbody>\n",
       "</table>\n",
       "<p>500 rows × 3 columns</p>\n",
       "</div>"
      ],
      "text/plain": [
       "                                              Comments Comment Upvotes  \\\n",
       "1    I could guarantee that if other YouTubers woul...             493   \n",
       "2    The 7 Aspects of AI    1- Simulating higher fu...              28   \n",
       "3    I love every information, new and old, about A...               2   \n",
       "4    Thanks Dagogo. I really enjoy your videos and ...               -   \n",
       "5    I really enjoyed this video. I believe anyone ...               7   \n",
       "..                                                 ...             ...   \n",
       "496                                         I am an AI               -   \n",
       "497                        do a video about black card               -   \n",
       "498                               I want my dad!!!!!!!               -   \n",
       "499                        Total war ai be like: hmmmm               -   \n",
       "500  AI is just bunch of else if statements on ster...               -   \n",
       "\n",
       "     Posted Time  \n",
       "1    6 years ago  \n",
       "2    3 years ago  \n",
       "3    6 years ago  \n",
       "4    6 years ago  \n",
       "5    6 years ago  \n",
       "..           ...  \n",
       "496  6 years ago  \n",
       "497  6 years ago  \n",
       "498  2 years ago  \n",
       "499   1 year ago  \n",
       "500  4 years ago  \n",
       "\n",
       "[500 rows x 3 columns]"
      ]
     },
     "execution_count": 207,
     "metadata": {},
     "output_type": "execute_result"
    }
   ],
   "source": [
    "# Creating dataframe\n",
    "df = pd.DataFrame({'Comments':comments[0:500],'Comment Upvotes':comment_upvotes[0:500],'Posted Time':posted_time[0:500]},index=range(1,501))\n",
    "\n",
    "# Displaying dataframe\n",
    "df"
   ]
  },
  {
   "cell_type": "markdown",
   "id": "7a9a50ac",
   "metadata": {},
   "source": [
    "9. Write a python program to scrape a data for all available Hostels from https://www.hostelworld.com/ in “London” location. You have to scrape hostel name, distance from city centre, ratings, total reviews, overall reviews, privates from price, dorms from price, facilities and property description. \n"
   ]
  },
  {
   "cell_type": "code",
   "execution_count": 232,
   "id": "46f31182",
   "metadata": {
    "scrolled": true
   },
   "outputs": [
    {
     "data": {
      "text/plain": [
       "<Response [200]>"
      ]
     },
     "execution_count": 232,
     "metadata": {},
     "output_type": "execute_result"
    }
   ],
   "source": [
    "# Sending a request to a website for scraping data\n",
    "page = requests.get(\"https://www.hostelworld.com/\")\n",
    "page"
   ]
  },
  {
   "cell_type": "code",
   "execution_count": 233,
   "id": "294d10a9",
   "metadata": {},
   "outputs": [],
   "source": [
    "# Creating WebDriver instance for controlling the Chrome browser using Selenium\n",
    "driver = webdriver.Chrome(r\"chromedriver.exe\")"
   ]
  },
  {
   "cell_type": "code",
   "execution_count": 234,
   "id": "0e5f4233",
   "metadata": {},
   "outputs": [],
   "source": [
    "# Opening webpage in the browser window controlled by the WebDriver instance\n",
    "driver.get(\"https://www.hostelworld.com/\")"
   ]
  },
  {
   "cell_type": "code",
   "execution_count": 235,
   "id": "ebc562c1",
   "metadata": {},
   "outputs": [],
   "source": [
    "# Accessing search bar\n",
    "search_bar = driver.find_element(By.XPATH,\"/html/body/div[3]/div/div/div[2]/div[2]/div[2]/div/div/div/div[1]/div[1]/div/div[2]/input | /html/body/div[3]/div/div/div[2]/div[2]/div/div/div[4]/div/div[2]/div/div[1]/div\")\n",
    "search_bar.click()"
   ]
  },
  {
   "cell_type": "code",
   "execution_count": 236,
   "id": "6989f0eb",
   "metadata": {},
   "outputs": [],
   "source": [
    "# Entering london in location field\n",
    "search_location = driver.find_element(By.XPATH,\"/html/body/div[3]/div/div/div[2]/div[2]/div[2]/div/div/div/div[1]/div[1]/div/div[2]/input | /html/body/div[3]/div/div/div[2]/div[2]/div/div/div[4]/div/div[2]/div/div[1]/div/div/div/input\")\n",
    "search_location.send_keys('London')"
   ]
  },
  {
   "cell_type": "code",
   "execution_count": 237,
   "id": "06c21f78",
   "metadata": {},
   "outputs": [],
   "source": [
    "# Selecting location\n",
    "select_location = driver.find_element(By.XPATH,\"/html/body/div[3]/div/div/div[2]/div[2]/div[2]/div/div/div/div[1]/div[2]/div/ul/li[2] | /html/body/div[3]/div/div/div[2]/div[2]/div/div/div[4]/div/div[2]/div/div[1]/div/div/ul/li[2]/div\")\n",
    "select_location.click()"
   ]
  },
  {
   "cell_type": "code",
   "execution_count": 238,
   "id": "5f03a341",
   "metadata": {},
   "outputs": [],
   "source": [
    "# Clicking search button\n",
    "search = driver.find_element(By.XPATH,\"/html/body/div[3]/div/div/div[2]/div[2]/div[2]/div/div/div/div[5]/button | /html/body/div[3]/div/div/div[2]/div[2]/div/div/div[4]/div/div[2]/div/div[5 or 6]/button\")\n",
    "search.click()\n",
    "time.sleep(5)"
   ]
  },
  {
   "cell_type": "code",
   "execution_count": 239,
   "id": "bba223cb",
   "metadata": {
    "scrolled": false
   },
   "outputs": [],
   "source": [
    "# Scraping and storing hostels urls in hostel_urls list\n",
    "hostel_urls = []\n",
    "urls = driver.find_elements(By.XPATH,\"//h2[@class='title title-6']/a | //div[@class='property-card']/a\")\n",
    "for i in urls:\n",
    "    hostel_urls.append(i.get_attribute('href'))"
   ]
  },
  {
   "cell_type": "code",
   "execution_count": 240,
   "id": "c41e3b50",
   "metadata": {},
   "outputs": [],
   "source": [
    "# hostel_urls list 0th index contains hostel name from featured hostels and it is also present in results so removing it from hostel_urls list\n",
    "if (len(hostel_urls) == 31):\n",
    "    hostel_urls.pop(0)"
   ]
  },
  {
   "cell_type": "code",
   "execution_count": 241,
   "id": "8fd5676e",
   "metadata": {},
   "outputs": [
    {
     "data": {
      "text/plain": [
       "30"
      ]
     },
     "execution_count": 241,
     "metadata": {},
     "output_type": "execute_result"
    }
   ],
   "source": [
    "len(hostel_urls)"
   ]
  },
  {
   "cell_type": "code",
   "execution_count": 242,
   "id": "be92f31c",
   "metadata": {},
   "outputs": [],
   "source": [
    "# lists for storing hostel details\n",
    "hostel_name = []\n",
    "distance_from_city = []\n",
    "ratings = []\n",
    "total_reviews = []\n",
    "overall_reviews = []\n",
    "privates_from_price = []\n",
    "dorms_from_price = []\n",
    "property_description = []\n",
    "facilities = []"
   ]
  },
  {
   "cell_type": "code",
   "execution_count": 243,
   "id": "602e6280",
   "metadata": {
    "scrolled": true
   },
   "outputs": [],
   "source": [
    "# Scraping and storing distance details in list\n",
    "distance = driver.find_elements(By.XPATH,\"//span[@class='description'] | //span[@class='distance-description']\")\n",
    "for i in distance:\n",
    "    distance_from_city.append(i.text.split('-')[1])\n",
    "if (len(distance_from_city) == 61):\n",
    "    distance_from_city.pop(0)"
   ]
  },
  {
   "cell_type": "code",
   "execution_count": 244,
   "id": "ff4fbdc9",
   "metadata": {
    "scrolled": false
   },
   "outputs": [],
   "source": [
    "# Scraping and storing privates from price and dorms from price details in list \n",
    "private_and_dorm_prices = []\n",
    "prices = driver.find_elements(By.XPATH,\"//div[@class='property-accommodation-price'] | //div[@class='price-col']\")\n",
    "for i in prices:\n",
    "    private_and_dorm_prices.append(i.text.replace('\\n','-'))\n",
    "private_and_dorm_prices\n",
    "if (len(private_and_dorm_prices)==61):\n",
    "    private_and_dorm_prices.pop(0)"
   ]
  },
  {
   "cell_type": "code",
   "execution_count": 245,
   "id": "127ff8b5",
   "metadata": {},
   "outputs": [],
   "source": [
    "# Separating privates from price and dorms from price details\n",
    "private_prices = []\n",
    "dorm_prices = []\n",
    "for i in range(len(private_and_dorm_prices)):\n",
    "    if 'Privates' in private_and_dorm_prices[i]:\n",
    "        private_prices.append(private_and_dorm_prices[i])\n",
    "    else:\n",
    "        dorm_prices.append(private_and_dorm_prices[i])"
   ]
  },
  {
   "cell_type": "code",
   "execution_count": 246,
   "id": "f8f3a4d1",
   "metadata": {},
   "outputs": [],
   "source": [
    "# Storing privates from price details in list\n",
    "for i in range(len(private_prices)):\n",
    "    if '-' in private_prices[i]:\n",
    "        privates_from_price.append(private_prices[i].split('From-')[1].split(' ')[0])\n",
    "    else:\n",
    "        privates_from_price.append(private_prices[i])"
   ]
  },
  {
   "cell_type": "code",
   "execution_count": 247,
   "id": "083734b1",
   "metadata": {
    "scrolled": true
   },
   "outputs": [],
   "source": [
    "# Storing dorms from price details in list\n",
    "for i in range(len(dorm_prices)):\n",
    "    if '-' in dorm_prices[i]:\n",
    "        dorms_from_price.append(dorm_prices[i].split('From-')[1].split(' ')[0])\n",
    "    else:\n",
    "        dorms_from_price.append(dorm_prices[i])"
   ]
  },
  {
   "cell_type": "code",
   "execution_count": 248,
   "id": "74c4837a",
   "metadata": {},
   "outputs": [],
   "source": [
    "for url in hostel_urls:\n",
    "    \n",
    "    driver.get(url)\n",
    "    \n",
    "    # Scraping and storing names of hostels in hostel_name list\n",
    "    try:\n",
    "        hostel = driver.find_element(By.CLASS_NAME,\"title-2\")\n",
    "        hostel_name.append(hostel.text)\n",
    "    except NoSuchElementException:\n",
    "        hostel_name.append('-')\n",
    "    \n",
    "    # Scraping and storing ratings of hostels in ratings list\n",
    "    try:\n",
    "        rating = driver.find_element(By.XPATH,\"//div[contains(@class,'score orange big') or contains(@class,'score gray big')]\")\n",
    "        ratings.append(rating.text)\n",
    "    except NoSuchElementException:\n",
    "        ratings.append('-')\n",
    "    \n",
    "    # Scraping and storing total reviews of hostels in total_reviews list\n",
    "    try:\n",
    "        reviews = driver.find_element(By.XPATH,\"//div[@class='reviews']\")\n",
    "        total_reviews.append(reviews.text.replace('Total Reviews',' '))\n",
    "    except NoSuchElementException:\n",
    "        total_reviews.append('-')\n",
    "    \n",
    "    # Scraping and storing overall reviews of hostels in overall reviews list\n",
    "    try:\n",
    "        ovr_reviews = driver.find_element(By.XPATH,\"//div[@class='keyword']/span\")\n",
    "        overall_reviews.append(ovr_reviews.text)\n",
    "    except NoSuchElementException:\n",
    "        overall_reviews.append('-')       \n",
    "    \n",
    "    # Scraping and storing property description details of hostels in property_description list\n",
    "    try:\n",
    "        prop_description = driver.find_element(By.XPATH,\"//div[@class='description-container']\")\n",
    "        property_description.append(prop_description.text.replace('Property Description\\n',' ').replace('\\n',' '))\n",
    "    except NoSuchElementException:\n",
    "        property_description.append('-')\n",
    "    \n",
    "    # Scraping and storing facilities details of hostels in facilities list\n",
    "    try:\n",
    "        facility = driver.find_elements(By.XPATH,\"//ul[@class='facility-sections']\")\n",
    "        for i in facility:\n",
    "            facilities.append(i.text.replace('\\n',' '))\n",
    "    except NoSuchElementException:\n",
    "        facilities.append('-')\n",
    "    \n",
    "    time.sleep(3)"
   ]
  },
  {
   "cell_type": "code",
   "execution_count": 249,
   "id": "caf49afa",
   "metadata": {
    "scrolled": false
   },
   "outputs": [
    {
     "name": "stdout",
     "output_type": "stream",
     "text": [
      "[\"St Christopher's Village\", 'Urbany Hostel London', 'Generator London', 'NX London Hostel', 'Safestay London Elephant & Castle', 'Phoenix Hostel', 'No.8 Willesden Hostel London', 'Safestay London Kensington Holland Park', 'No.8 Seven Sisters', 'London Backpackers', 'Queen Elizabeth Chelsea', \"St Christopher's Hammersmith\", \"St Christopher's Camden\", 'International Students House', 'PubLove @ The Steam Engine, Waterloo', \"St Christopher's Greenwich\", 'Saint James Backpackers', 'Selina Camden', \"St Christopher's Shepherds Bush\", 'Kensal Green Backpackers', 'PubLove @ The Crown, Battersea', 'Book a Bed Hostels', 'PubLove @ The White Ferry, Victoria', 'Hostelle London', 'Hootananny Hostel', 'PubLove @ The Rose & Crown', 'Elmwood Hotel', \"Tony's House Hotel\", 'PubLove @ The Exmouth Arms, Euston', 'London Waterloo Hostel']\n"
     ]
    }
   ],
   "source": [
    "print(hostel_name)"
   ]
  },
  {
   "cell_type": "code",
   "execution_count": 250,
   "id": "22f78fa4",
   "metadata": {
    "scrolled": true
   },
   "outputs": [
    {
     "name": "stdout",
     "output_type": "stream",
     "text": [
      "[' 1.8km from city centre', ' 5.4km from city centre', ' 3km from city centre', ' 6.1km from city centre', ' 1.7km from city centre', ' 4.2km from city centre', ' 10km from city centre', ' 5.8km from city centre', ' 9km from city centre', ' 11.9km from city centre', ' 5.7km from city centre', ' 7.5km from city centre', ' 4.3km from city centre', ' 3.3km from city centre', ' 0.5km from city centre', ' 7.6km from city centre', ' 5.5km from city centre', ' 5.5km from city centre', ' 7km from city centre', ' 8.2km from city centre', ' 4.7km from city centre', ' 6.9km from city centre', ' 2.4km from city centre', ' 5.1km from city centre', ' 5km from city centre', ' 1.6km from city centre', ' 3.2km from city centre', ' 4.3km from city centre', ' 3.4km from city centre', ' 0.7km from city centre']\n"
     ]
    }
   ],
   "source": [
    "print(distance_from_city)"
   ]
  },
  {
   "cell_type": "code",
   "execution_count": 251,
   "id": "4ca3934a",
   "metadata": {
    "scrolled": false
   },
   "outputs": [
    {
     "name": "stdout",
     "output_type": "stream",
     "text": [
      "['7.9', '9.4', '7.5', '8.3', '7.5', '7.6', '6.5', '7.1', '5.7', '7.9', '7.4', '7.7', '7.0', '9.3', '8.0', '7.5', '7.5', '8.9', '7.3', '5.0', '7.5', '7.4', '7.3', '8.7', '7.6', '7.5', '7.7', '8.2', '6.7', '5.5']\n"
     ]
    }
   ],
   "source": [
    "print(ratings)"
   ]
  },
  {
   "cell_type": "code",
   "execution_count": 252,
   "id": "89d05ae9",
   "metadata": {
    "scrolled": true
   },
   "outputs": [
    {
     "name": "stdout",
     "output_type": "stream",
     "text": [
      "['12155  ', '780  ', '7500  ', '1885  ', '4957  ', '4126  ', '5014  ', '1528  ', '4010  ', '4468  ', '3480  ', '4243  ', '4035  ', '1035  ', '394  ', '3350  ', '1884  ', '50  ', '772  ', '3710  ', '301  ', '1255  ', '338  ', '11  ', '1511  ', '189  ', '128  ', '422  ', '1078  ', '2534  ']\n"
     ]
    }
   ],
   "source": [
    "print(total_reviews)"
   ]
  },
  {
   "cell_type": "code",
   "execution_count": 253,
   "id": "f2fb148f",
   "metadata": {
    "scrolled": false
   },
   "outputs": [
    {
     "name": "stdout",
     "output_type": "stream",
     "text": [
      "['Very Good', 'Superb', 'Very Good', 'Fabulous', 'Very Good', 'Very Good', 'Good', 'Very Good', 'Rating', 'Very Good', 'Very Good', 'Very Good', 'Very Good', 'Superb', 'Fabulous', 'Very Good', 'Very Good', 'Fabulous', 'Very Good', 'Rating', 'Very Good', 'Very Good', 'Very Good', 'Fabulous', 'Very Good', 'Very Good', 'Very Good', 'Fabulous', 'Good', 'Rating']\n"
     ]
    }
   ],
   "source": [
    "print(overall_reviews)"
   ]
  },
  {
   "cell_type": "code",
   "execution_count": 254,
   "id": "623843c8",
   "metadata": {
    "scrolled": true
   },
   "outputs": [
    {
     "name": "stdout",
     "output_type": "stream",
     "text": [
      "['No Privates Available', 'Rs18067', 'No Privates Available', 'No Privates Available', 'No Privates Available', 'No Privates Available', 'Rs3043', 'No Privates Available', 'No Privates Available', 'No Privates Available', 'No Privates Available', 'No Privates Available', 'No Privates Available', 'Rs6937', 'No Privates Available', 'No Privates Available', 'No Privates Available', 'Rs29094', 'No Privates Available', 'Rs9261', 'No Privates Available', 'Rs6306.46', 'No Privates Available', 'No Privates Available', 'No Privates Available', 'No Privates Available', 'Rs21022', 'Rs22493', 'No Privates Available', 'Rs10480']\n"
     ]
    }
   ],
   "source": [
    "print(privates_from_price)"
   ]
  },
  {
   "cell_type": "code",
   "execution_count": 255,
   "id": "1386a993",
   "metadata": {
    "scrolled": true
   },
   "outputs": [
    {
     "name": "stdout",
     "output_type": "stream",
     "text": [
      "['Rs3138.82', 'Rs5978', 'Rs3528', 'Rs4088.89', 'Rs2182', 'Rs2377.64', 'No Dorms Available', 'Rs1741', 'Rs1379', 'Rs2128', 'Rs1906', 'Rs2010.28', 'Rs2820', 'No Dorms Available', 'Rs6306', 'Rs2282.78', 'Rs4099', 'Rs11225', 'Rs2282.78', 'Rs1892', 'Rs3363', 'Rs2520.24', 'Rs4730', 'Rs6796.95', 'Rs2929', 'Rs6306', 'No Dorms Available', 'No Dorms Available', 'Rs3889', 'Rs2937']\n"
     ]
    }
   ],
   "source": [
    "print(dorms_from_price)"
   ]
  },
  {
   "cell_type": "code",
   "execution_count": 256,
   "id": "b7c025ba",
   "metadata": {
    "scrolled": true
   },
   "outputs": [
    {
     "name": "stdout",
     "output_type": "stream",
     "text": [
      "['Free Linen Included Free WiFi Free Internet Access General Security Lockers Common Room Elevator Breakfast Not Included Air Conditioning Adaptors Book Exchange Hot Showers Dryer Reading Light Hair Dryers For Hire Hair Dryers Iron / Ironing Board Microwave Washing Machine Towels Not Included Follows Covid-19 sanitation guidance Services Internet access Laundry Facilities Towels for hire Luggage Storage 24 Hour Reception 24 Hour Security Housekeeping Late check-out Food & Drink Restaurant Bar Meals Available Vending Machines Tea & Coffee Making Facilities Entertainment Nightclub Board Games Games Room Wi-Fi', 'Free Linen Included Free WiFi General Security Lockers Microwave Follows Covid-19 sanitation guidance Services Luggage Storage 24 Hour Reception Food & Drink Tea & Coffee Making Facilities Entertainment Wi-Fi', 'Free Linen Included Free City Maps Free WiFi Free Internet Access General Wheelchair Friendly Security Lockers Key Card Access Common Room Elevator Bicycle Parking Breakfast Not Included Meeting Rooms Hot Showers Reading Light Safe Deposit Box Card Phones Towels Not Included Services Internet access Laundry Facilities Airport Transfers Bicycle Hire Towels for hire Luggage Storage 24 Hour Reception Tours/Travel Desk ATM Shuttle Bus 24 Hour Security Housekeeping Express check-in / out Late check-out Food & Drink Restaurant Bar Meals Available Vending Machines Cafe Entertainment Nightclub Board Games Games Room Pool Table Foosball Wi-Fi', 'Free Free Breakfast Linen Included Towels Included Free WiFi General Security Lockers Common Room Hot Showers Self-Catering Facilities Fridge/Freezer Utensils Hair Dryers For Hire Hair Dryers Microwave Washing Machine Services Internet access Laundry Facilities Towels for hire Housekeeping Express check-in / out Reception (limited hours) Food & Drink Meals Available Tea & Coffee Making Facilities Entertainment Wi-Fi', 'Free Linen Included Free WiFi General Security Lockers Key Card Access Common Room Adaptors Hot Showers Cots Available Dryer Outdoor Terrace Reading Light Hair Dryers For Hire Iron / Ironing Board Washing Machine Towels Not Included Flexible NRR Follows Covid-19 sanitation guidance Services Internet access Laundry Facilities Towels for hire Luggage Storage 24 Hour Reception ATM 24 Hour Security Housekeeping Late check-out Food & Drink Restaurant Bar Vending Machines Cafe Entertainment Pool Table Wi-Fi', \"Free Linen Included Free City Maps Free WiFi Free Internet Access General Security Lockers Key Card Access Common Room Breakfast Not Included Adaptors Hot Showers Fridge/Freezer Utensils Hair Dryers Microwave Towels Not Included Follows Covid-19 sanitation guidance Services Internet access Luggage Storage 24 Hour Reception Housekeeping Reception (limited hours) Food & Drink Bar Entertainment DVD's Board Games Wi-Fi\", 'Free Linen Included Free WiFi General Security Lockers Key Card Access Common Room Breakfast Not Included Adaptors Hot Showers Self-Catering Facilities Cooker Fridge/Freezer Utensils Cable TV Outdoor Terrace Iron / Ironing Board Microwave Towels Not Included Follows Covid-19 sanitation guidance Services Luggage Storage 24 Hour Security Housekeeping Reception (limited hours) Food & Drink Bar Tea & Coffee Making Facilities Entertainment Games Room Pool Table Wi-Fi', 'Free Linen Included Free WiFi General Security Lockers Key Card Access Common Room Breakfast Not Included Adaptors Hot Showers Dryer Outdoor Terrace Reading Light Hair Dryers For Hire Hair Dryers Iron / Ironing Board Safe Deposit Box Card Phones Washing Machine Towels Not Included Flexible NRR Services Laundry Facilities Towels for hire Luggage Storage 24 Hour Reception ATM 24 Hour Security Housekeeping Food & Drink Bar Meals Available Vending Machines Cafe Entertainment Games Room Pool Table Wi-Fi', 'Free Linen Included Free WiFi General Security Lockers Key Card Access Common Room Bicycle Parking Breakfast Not Included Adaptors Hot Showers Self-Catering Facilities Cooker Fridge/Freezer Utensils Cable TV Outdoor Terrace Iron / Ironing Board Microwave Towels Not Included Follows Covid-19 sanitation guidance Services Luggage Storage 24 Hour Security Housekeeping Reception (limited hours) Food & Drink Bar Tea & Coffee Making Facilities Entertainment Games Room Pool Table Wi-Fi', 'Free Linen Included Free City Maps Free WiFi Free Internet Access General Security Lockers Key Card Access Common Room Breakfast Not Included Adaptors Book Exchange Hot Showers Self-Catering Facilities Cooker Fridge/Freezer Utensils Dryer Cable TV Reading Light Hair Dryers For Hire Hair Dryers Iron / Ironing Board Safe Deposit Box Microwave Washing Machine Towels Not Included Flexible NRR Follows Covid-19 sanitation guidance Services Internet access Laundry Facilities Towels for hire Luggage Storage Tours/Travel Desk Postal Service 24 Hour Security Housekeeping Reception (limited hours) Food & Drink Tea & Coffee Making Facilities Entertainment Board Games Games Room Pool Table Wi-Fi', 'Free Linen Included Free City Maps Free WiFi Free Internet Access General Security Lockers Common Room Breakfast Not Included Adaptors Book Exchange Hot Showers Hair Dryers For Hire Hair Dryers Flexible NRR Services Internet access Luggage Storage 24 Hour Reception Tours/Travel Desk 24 Hour Security Housekeeping Food & Drink Bar Entertainment Board Games', 'Free Linen Included Free City Maps Free WiFi Free Internet Access General Security Lockers Key Card Access Hot Showers Reading Light Hair Dryers For Hire Hair Dryers Microwave Towels Not Included Follows Covid-19 sanitation guidance Services Internet access Towels for hire Luggage Storage 24 Hour Reception Housekeeping Late check-out Food & Drink Restaurant Bar Vending Machines Entertainment Nightclub Wi-Fi', \"Free Linen Included Free City Maps Free WiFi Free Internet Access General Security Lockers Key Card Access Common Room Breakfast Not Included Adaptors Book Exchange Dryer Cable TV Hair Dryers For Hire Washing Machine Follows Covid-19 sanitation guidance Services Internet access Laundry Facilities Towels for hire Luggage Storage 24 Hour Reception 24 Hour Security Housekeeping Food & Drink Restaurant Bar Meals Available Cafe Entertainment Nightclub DVD's Board Games Wi-Fi\", 'Free Linen Included Free City Maps Towels Included Free WiFi Free Internet Access General Security Lockers Key Card Access Elevator Breakfast Not Included Meeting Rooms Adaptors Hot Showers Fridge/Freezer Hair Dryers For Hire Microwave Card Phones Washing Machine Follows Covid-19 sanitation guidance Services Internet access Laundry Facilities Luggage Storage 24 Hour Reception ATM 24 Hour Security Housekeeping Reception (limited hours) Food & Drink Restaurant Bar Meals Available Vending Machines Cafe Entertainment Wi-Fi', 'Free Linen Included Free City Maps Free WiFi General Security Lockers Key Card Access Adaptors Hot Showers Outdoor Terrace Hair Dryers Ceiling fan Iron / Ironing Board Towels Not Included Flexible NRR Services Internet access Towels for hire Luggage Storage 24 Hour Reception Tours/Travel Desk 24 Hour Security Housekeeping Late check-out Food & Drink Restaurant Bar Meals Available Cafe Entertainment Board Games Wi-Fi', \"Free Linen Included Free City Maps Free WiFi Free Internet Access General Security Lockers Key Card Access Common Room Breakfast Not Included Adaptors Hot Showers Dryer Outdoor Terrace Reading Light Hair Dryers Microwave Washing Machine Towels Not Included Follows Covid-19 sanitation guidance Services Internet access Laundry Facilities Towels for hire Luggage Storage Housekeeping Reception (limited hours) Food & Drink Restaurant Bar Meals Available Vending Machines Entertainment Nightclub DVD's Board Games Wi-Fi\", \"Free Free Breakfast Linen Included Free City Maps Free WiFi Free Internet Access General Security Lockers Common Room BBQ Adaptors Hot Showers Self-Catering Facilities Cooker Fridge/Freezer Cable TV Outdoor Terrace Jobs Board Hair Dryers For Hire Hair Dryers Microwave Towels Not Included Follows Covid-19 sanitation guidance Services Internet access Towels for hire Luggage Storage 24 Hour Reception 24 Hour Security Housekeeping Reception (limited hours) Food & Drink Meals Available Vending Machines Cafe Tea & Coffee Making Facilities Entertainment PlayStation DVD's Board Games Wi-Fi\", 'Free Linen Included Towels Included Free WiFi General Security Lockers Air Conditioning Flexible NRR Services Laundry Facilities Towels for hire 24 Hour Reception Food & Drink Restaurant Bar Meals Available Cafe Entertainment Wi-Fi', \"Free Linen Included Free City Maps Free WiFi General Security Lockers Key Card Access Common Room BBQ Breakfast Not Included Adaptors Book Exchange Hot Showers Dryer Outdoor Terrace Reading Light Hair Dryers For Hire Washing Machine Follows Covid-19 sanitation guidance Services Internet access Laundry Facilities Towels for hire Luggage Storage 24 Hour Reception Tours/Travel Desk Housekeeping Food & Drink Restaurant Bar Entertainment DVD's Board Games Wi-Fi\", \"Free Linen Included Free City Maps General Common Room Breakfast Not Included Adaptors Hot Showers Self-Catering Facilities Cable TV Card Phones Washing Machine Follows Covid-19 sanitation guidance Services Internet access Laundry Facilities Towels for hire Luggage Storage 24 Hour Reception Tours/Travel Desk 24 Hour Security Housekeeping Reception (limited hours) Food & Drink Restaurant Bar Meals Available Cafe Entertainment DVD's Games Room Pool Table Wi-Fi\", 'Free Linen Included Free City Maps Free WiFi General Security Lockers Adaptors Hot Showers Utensils Outdoor Terrace Iron / Ironing Board Towels Not Included Flexible NRR Services Luggage Storage 24 Hour Reception 24 Hour Security Housekeeping Late check-out Food & Drink Restaurant Bar Meals Available Cafe Entertainment Board Games Wi-Fi', 'Free Linen Included Free City Maps Free WiFi Free Internet Access General Wheelchair Friendly Security Lockers Key Card Access Common Room Bicycle Parking Breakfast Not Included Adaptors Hot Showers Fridge/Freezer Dryer Cable TV Reading Light Hair Dryers For Hire Hair Dryers Iron / Ironing Board Safe Deposit Box Card Phones Washing Machine Services Internet access Laundry Facilities Towels for hire Luggage Storage Fax Service 24 Hour Security Housekeeping Food & Drink Restaurant Bar Meals Available Vending Machines Tea & Coffee Making Facilities Entertainment Wii Board Games Games Room Foosball Wi-Fi', 'Free Linen Included Free City Maps Free WiFi General Security Lockers Key Card Access Bicycle Parking Adaptors Hot Showers Outdoor Terrace Hair Dryers For Hire Hair Dryers Ceiling fan Iron / Ironing Board Towels Not Included Flexible NRR Services Luggage Storage 24 Hour Reception Tours/Travel Desk 24 Hour Security Housekeeping Late check-out Food & Drink Restaurant Bar Meals Available Cafe Entertainment Board Games Wi-Fi', \"Free Linen Included Free City Maps Free WiFi Free Internet Access General Common Room Hot Showers Fridge/Freezer Cable TV Outdoor Terrace Hair Dryers Iron / Ironing Board Microwave Follows Covid-19 sanitation guidance Services Laundry Facilities Towels for hire Luggage Storage 24 Hour Reception Housekeeping Food & Drink Tea & Coffee Making Facilities Entertainment DVD's Board Games Wi-Fi\", \"Free Free Breakfast Linen Included Free City Maps Free WiFi Free Internet Access General Security Lockers Common Room Bicycle Parking Adaptors Hot Showers Self-Catering Facilities Cable TV Outdoor Terrace Services Towels for hire Luggage Storage ATM Housekeeping Food & Drink Restaurant Bar Tea & Coffee Making Facilities Entertainment DVD's Pool Table\", 'Free Linen Included Free City Maps Free WiFi General Security Lockers Key Card Access Bicycle Parking Adaptors Hot Showers Outdoor Terrace Hair Dryers For Hire Hair Dryers Ceiling fan Iron / Ironing Board Towels Not Included Flexible NRR Services Internet access Towels for hire Luggage Storage 24 Hour Reception Tours/Travel Desk 24 Hour Security Housekeeping Late check-out Food & Drink Restaurant Bar Meals Available Cafe Entertainment Board Games Wi-Fi', 'Free Free Internet Access General Hair Dryers Safe Deposit Box Services Airport Transfers Luggage Storage Fax Service 24 Hour Reception Tours/Travel Desk Currency Exchange Housekeeping Food & Drink Tea & Coffee Making Facilities', 'Free Free Breakfast Free Internet Access General Hair Dryers Safe Deposit Box Services Luggage Storage 24 Hour Reception Tours/Travel Desk Food & Drink Tea & Coffee Making Facilities', 'Free Linen Included Free City Maps Free WiFi General Security Lockers Key Card Access Adaptors Hot Showers Outdoor Terrace Hair Dryers Iron / Ironing Board Towels Not Included Flexible NRR Services Luggage Storage 24 Hour Reception Tours/Travel Desk 24 Hour Security Housekeeping Late check-out Food & Drink Restaurant Bar Meals Available Cafe Entertainment Board Games Wi-Fi', 'Free Linen Included Free City Maps Free WiFi Free Internet Access Free City Tour General Security Lockers Common Room Bicycle Parking Adaptors Book Exchange Hot Showers Self-Catering Facilities Cooker Fridge/Freezer Utensils Hair Dryers Iron / Ironing Board Microwave Towels Not Included Flexible NRR Follows Covid-19 sanitation guidance Services Internet access Towels for hire Luggage Storage 24 Hour Reception Tours/Travel Desk 24 Hour Security Housekeeping Late check-out Food & Drink Bar Tea & Coffee Making Facilities Entertainment Board Games Games Room Wi-Fi']\n"
     ]
    }
   ],
   "source": [
    "print(facilities)"
   ]
  },
  {
   "cell_type": "code",
   "execution_count": 257,
   "id": "e7ebb1df",
   "metadata": {
    "scrolled": true
   },
   "outputs": [
    {
     "name": "stdout",
     "output_type": "stream",
     "text": [
      "[\"Hostelworld says Hostelworld visitors have said St Christopher's Village is 'the place to go if you are young and want to have fun'. This 'party hostel' has 'nice staff and just the right amount of rooms/travellers', making it 'easy for anyone to meet new people'. One of our guests said this hostel is 'within short walking distance of two subway [stations] and well within walking distance from more of the major attractions in downtown London'.\", \" Welcome to Urbany Hostel London, our first international adventure! We offer you a perfect spot to explore the city, we are a social youth backpacker hostel, a place where you can make friends & feel at home.  We are located in Notting Hill, a cosmopolitan and multicultural neighbourhood, in a typical Victorian terraced house built in the 1800s. From Urbany Hostel, you can easily walk to Portobello Market and Hyde Park, two of the most popular sites in London.  Our staff members are just like our guests, friendly, sociable, international and incredibly helpful - They will make sure you know your way around the city.  -Temporarily our reception hours have varied; to ensure someone will be here to welcome you, please ensure your arrival time is between 8 AM - 11 PM. Alternatively please let us know if you will be arriving outside these hours.   -Check in to rooms is from 3 PM - 11 PM -Check out before 11 AM  FEEL THE URBANY VIBE:  We have a variety of shared mixed dormitories, whilst also offering private rooms for those who prefer not to share.  ALL guests must be between 18 - 40 YEARS. If you are outside of this age range upon arrival to the hostel, we have the right to cancel your booking without refund of your deposit, as well as charging the applicable cancellation fee.  A physical VALID government issued ID (Passport, Driving license, and National identity cards ) is required to stay with us.  Free high-speed Wi-Fi is available everywhere, even in your room.  Luggage storage is also available for free if you arrive before check-in or are leaving after check-out (only for the day).  We offer: towel rental (2 GBP) and basic laundry service wash/dry (7 GBP).  24/7 CCTV throughout the whole building for added security.  We do require a £10 CASH key deposit (which you will receive back upon return). Ours key's have 24/7 access so there is no curfew - you can get in and out as much as you like.  It's also important to note that there are 4 floors in our hostel and there is no elevator.  We can't wait to welcome you to our wonderful home and enjoy this amazing city! show more\", \"Hostelworld says Hostelworld guests have said Generator Hostel London is a clean, secure, 'well-organised hostel with good and professional staff'. We like their 'lively and atmospheric' bar, which travellers tell us is 'a great place to hang out a bit and have a beer while meeting nice people from around the globe'. Our users say this hostel is 'only three minutes' walk to Russell [Square] Underground Station, six minutes to King's Cross Station [and] three minutes to buses'.\", ' Welcome to NX London Hostel!  PLEASE READ INFORMATION BELOW IN FULL  NX London offers Budget accommodation close to a station and a 24hrs service bus stop. We\\'re among the cheapest hostels in London that offer you FREE linen, FREE Wi-fi and FREE breakfast. We strive to offer value for money but LET\\'S BE REAL, don\\'t come to us with expectations of a boutique Hostel or an affordable/luxury Hotel.   We\\'re located close to New Cross Gate or New Cross Tube/ Train lines with easy access to London Bridge or connection to the Jubilee Line. We are also a short bus ride (15 minutes) away to the O2, if you are coming to London for a concert or event.  We offer a variety of rooms, including small dormitory rooms and private rooms for Individuals and small/medium groups. Children under 6 years of age are not allowed under any circumstances.  FACILITIES Inc. :- Reception is open 4:00pm to 1:00am (please DO NOT try to arrive prior to this hours unless arranged in advance) Self Catering Kitchens. Common Room with Digital TV. Free Wi-Fi  Secure Lockers (Chargeable £2/day) Free ear plugs (For light sleepers) Complimentary continental breakfast Early check-in (subject to availability) starts at 1:00pm and needs to be arranged and paid in advance with surcharge of £10 per person Late check-in (1:00am-3:00am) needs to be arranged and paid in advance with surcharge of £10 per reservation Late check-out (subject to availability) up to 3:00pm and needs to be arranged and paid in advance with surcharge of £15 per person or a full night stay if not pre-arranged the night before.   All of our reservations are NON-REFUNDABLE regardless of circumstances. This includes, but is not limited to, cancellations made by the guest, changes in travel plans, bonafide errors, medical emergencies, bereavement or any other reasons for not being able to stay at the property. By making a reservation, you agreed to this NON-REFUNDABLE policy and acknowledged that you shall not be entitled to receive a refund for any reason. We kindly ask all of our guests to consider this policy before making a booking and ensure that their travel plans align with the hostel\\'s terms and conditions.  However, if you need to cancel before your arrival day, you can request a partial courtesy voucher to use in the future at the Manager\\'s discretion.  The Pub next door to the hostel often features live music / DJs. The bar has a pool table and shows all major sports events live. Please note that, since this is a well known live music venue, things can get noisy on the Hostel\\'s lower levels. If that\\'s a concern please request ear plugs (provided free or charge) or an upper floor room upon reserving (subject to availability).  Whether you are coming to London to visit the sights, study or work, we look forward to welcoming you to the NX London Hostel.  Free \\'On Street\\' Parking is available in close proximity to the Hostel.    ADDITIONAL INFORMATION *We do not accept customers under 18 years old and over 65 years old unless they are part of a group staying in a private room. Children under the age of 6 are not allowed under any circumstances. We reserve the right to refuse your accommodation at any stage according to the manager discretion. *  *KEEP YOUR EXPECTATIONS REALISTIC! Our Standards are in line with the accommodation type we offer (BUDGET HOSTEL). The NX London is not a Hotel, the shared nature of our dormitory rooms might occasionally result into clutter. Bathrooms are located in the hallways and partaken with other guests. In order to maintain our prices low, we kept \"on location amenities\" to a minimum: There are no toiletries, air conditioning and/or a mini-bar in the rooms. We feature a mix of long term and leisure guests, this gives the ambience a uniquely quirky character, as a consequence it would be impossible to meet everybody\\'s taste. Discriminatory comments or behaviour won\\'t be tolerated. * Our 10 bed dorm can host up to 10 guests! If you\\'re not comfortable sharing the space with that many people (and their belongings) please consider booking a different dorm.  * The hostel is primarily designed for adults and we expect our guests to act in a responsible and respectful manner at all times. * Upon reserving, you agree and acknowledge that our staff is trained to enforce our policies and procedures in a firm and assertive manner, holding everybody to a high standard of behaviour and with zero-tolerance policy for any breaches. If they instruct you to follow a particular rule or procedure, we kindly request that you comply with their directions. We ask that guests understand that repeated breaches of policy can put a strain on our staff.  * Being uncomfortable with a high level of enforcement or the manner in which our staff members communicate shall not constitute grounds for a complain.  *Reception is ONLY open 4:00pm to 1:00am.  *Property is not wheelchair accessible* *All reservations must be PREPAID the day of booking and are NON REFUNDABLE.  *Unpaid reservations WILL BE SUBJECT TO AVAILABILITY AND MIGHT INCUR A 20%-40% SURCHARGE if they\\'re not fully paid upon reserving.  *Groups of 9 guests or more need to send group request.  *The check-in time is from 4:00pm-1:00am. Guests arriving between 1:00am-3:00am need to email at least 24hrs in advance to confirm their reservation, process late check in payment and fill up check in form online to receive code, otherwise will be considered a no show and subject to availability and no show fees. If you fail to pre-arrange late check in or arrive by 3:00am the reservation will be considered a no show with applicable charges.  No-Shows and Early check-outs will always result into a full (100%) charge and shall never constitute basis for a monetary refund regardless of circumstances. A transferable courtesy credit voucher, to be redeemed at our property might be offered at the Manager\\'s discretion.  We DO require a valid ID for all arrivals including UK/EU residents. Expired ones or without a clear or damaged photo are not valid to check-in. A refundable £10.00 Key Deposit shall be required upon arrival. Should loss of any key reasonably require a locksmith to be called and/or locksmith services to be carried out, guests shall be liable for any locksmith\\'s fees. Upon departure guests should use the express check-out box located by the entrance to drop their key sets, where the corresponding deposit would be refunded directly to the payment method on file for the booking. Those whom wish to check-out early, or retrieve their key deposit in cash, are invited to report to Reception before 1:00 AM the night prior to leaving. show more', 'Hostelworld says Safestay at Elephant and Castle is located in South London, just five minutes from Elephant and Castle tube station, putting it just a few stops from London Bridge, Leicester Square and Piccadilly Circus. This stylish boutique-style hostel is very clean and features a continental breakfast (£6) and in-room luggage cages. Hostelworld guests have compared it favourably to a hotel. We like the privacy curtains on their beds, which create a sense of personal space even in a busy dorm.', ' The Phoenix Bar & Hostel, housed in a homely English-style pub located between Hyde park and Regents park, the Phoenix is perfect located and walking distance to all main attractions, train stations, tubes being only 100+ yards away.   We are an award winning backpackers hostel. Operating for 13 years we take all of our guests safety and security seriously but we also know how to party! Enjoying a mixed entertainments program down at the bar, Comedy Night, Karaoke, Quiz nights... Lounge area to relax watch TV or a movie.   Come and join us on your next trip to London!   At the Phoenix Hostel we understand the health and safety concerns of travellers and can assure all guests we are doing everything possible to make your experience safe and enjoyable. A must: Government approved ID on check in for all members of your group!  The health and safety of our guests and staff are our number one priority, therefore we have updated our current standards and conditions to reflect this.   *Please note we are operating on LIMITED reception working hours*  At the Phoenix Hostel we understand the health and safety concerns of travellers and can assure all guests we are doing everything possible to make your experience safe and enjoyable. A must: Government approved ID on check in for all members of your group!  The health and safety of our guests and staff are our number one priority, therefore we have updated our current standards and conditions to reflect this.   £10 key deposit required upon check-in. cash. Refunded on check out.  Hostel reception open hours: ***We have 24 Hours Reception***   Guests can check-in from 2pm on day of arrival (If arriving earlier, guests may leave their luggage in our holding room until check-in)  Check-out of rooms by 10AM  Forms of ID accepted: UK/ROI Driving Licence EU/EEA Identity Card  International Passport If you do not have these forms of ID, and wish to stay here, please contact us.   Guests can cancel their reservation up to 2 days before Check in date. After this date the full amount will be charged.  Payment is taken in full upon arrival, and is non-refundable should the guest wish to alter their booking after check in. show more', ' At No.8 we take pride in our Customer Service and ensure that all of our Guests get everything they want from their time in London. We cater for the Young & Young at Heart Backpacker 18-38 only, Photo IDs will be required on Check In. We have Live Entertainment on Weekends within our Traditional English Pub, along with the usual range of pub entertainment and banter!  - Free High-Speed WiFi - Full Facility Kitchen, Dining Space & Outdoor Deck - Secure Storage Facilities & 24 Hr Key Card Access - Large Lounge - Pool Table, Chess Table, Couches, Satellite TV & Darts Board etc.  - Traditional English Pub & Beer Garden - Young & Young at Heart Backpackers 18-45 only. ID on Check-In Required. - Payment by Cash only on Check in (Cards not accepted) - £20 Key Deposit (Fully Refunded On Check-Out) - No refunds are made following Check-In - Reception is open from 9:30am-11:00pm.   Check in: 12pm - 11pm PLEASE NOTE that Check In will NOT be possible outside these hours. If you are running late or will be arriving slightly outside our check in hours, please contact us to see if there is a possibility of us accommodating your arrival outside of check in hours.  Whether it is your first time in London or you are a seasoned traveller, No.8 has everything you need (and a few extras) to ensure that your stay in London is definitely Enjoyable & Comfortable! show more', \" Safestay Holland Park  Safestay Holland Park is ideally located in the heart of London, nestled within one of the capital's most prestigious parks. This stunning hostel consists of 3 buildings, including the East Wing of the park's original Jacobean building, and surrounds our private courtyard garden.  The property has been fully refurbished to the high standards for which Safestay is renowned.   The Grade 1 listed building is located on the edge of London's famous Holland Park (search for Holland walk and duchess of Bedford Walk on your maps) and will provide Safestay guests with the opportunity to stay in the heart of one of the capital's desirable neighborhoods. The property dates back to 1605 along with a 1950's extension and is situated in a huge garden within the middle of one of London's most beautiful parks.  Historic, Jacobean splendor, in a great city location. Who says you can't have it all? This mansion in the middle of Holland Park was visited by Sir Walter Scott, Lord Byron, and Dickens. Today it offers large, comfortable rooms to you.   Three different houses with a range of standard & ensuite rooms as well as family rooms & private rooms for everyone! Pool room, breakfast room & restaurant as well as the garden, & the whole Park itself with its famous beautiful woodland trails, manicured lawns, the Kyoto Japanese Garden with its resident Coi, and a fantastic ice cream stand in the middle. Opened in 1952, Holland Park used to be a private estate belonging to the Earl of Holland. During the 19th century, the Holland House attracted high-profile visitors from various walks of life, from the politician, Lord Palmerston, to the poet, Lord Byron.  Safestay Holland Park has excellent transport links and is within easy reach of The Natural History Museum, Holland Park Avenue, Notting Hill Gate, Portobello Market, Harrods, The Science Museum, Hyde Park, Westfield Shopping Centre, and Kensington Palace Gardens.  Dormitory style and range in size from 2 beds upwards. They offer mixed accommodation. Clean fresh sheets are included in the price. Lockers are available in rooms. Padlocks available for sale  Safestay Holland Park's Policies & Conditions:  Cancellation policy: 24 hours before arrival.  Payment upon arrival by credit cards, debit cards.  This property may pre-authorize your card before arrival.  Check-in from 15:00 Check out before 10:00  Taxes included. Breakfast not included - 6.00 GBP per person per day. Please note there is no guest kitchen facility to cook and corkage is applied at only GBP 1 per guest for outside food and soft drinks. No outside alcohol is allowed at all.  General: 24-hour Reception. No curfew.  Bookings cannot be accepted from any person age 16 years or under unless they are accompanied by an adult (over 18) who is staying in the same dorm/room. Families with children aged 16 years and under are welcome, however, they must book and pay for all beds in order to make the room private (i.e. in the case of 4-bedded dorms or larger).   Alternatively, we have 2 Bedded and 3 Bedded Private rooms available, subject to availability.   WHAT3WORDS ADDRESS  VOUCH.OPERA.MOONS  Look out for the Peacocks! Show more show more\", \" For Great Facilities, Comfort & Affordability you can't go past No.8 Seven Sisters! We provide Excellent Service and ensure that all of our Guests get Everything they want from their time in London. We cater exclusively for the Young & Young at Heart Backpacker 18-45, Photo IDs are required on Check In, as we have Entertainment on Weekends and operate a Very 'Bustling' and Social Hostel.  - Free WiFi - Full Facility Kitchen - Secure Storage Facilities & 24Hr Key Card Access - Pool Table & Darts Board - Satellite TV - Traditional English Pub & Beer Garden - Entertainment on Weekends! - Young & Young at Heart Backpackers 18-45 Years Old Only. - Payment by Cash only on Check in. (Credit cards not accepted) - £20 Key Deposit (Fully Refunded On Check-Out) - No refunds are made following Check-In.   Reception is open from 9:30am-11pm. Check in is from 12pm. PLEASE NOTE that Check In will NOT be possible outside these hours. If you are running late or will be arriving slightly outside our reception hours, please contact us to see if there is a possibility of us accommodating your arrival outside of opening hours.  As guests arrive and depart at varying times and numbers, it is impossible for us to guarantee that all group bookings can be allocated in one room together. Nevertheless we always try to keep groups together.  Whether it is your first time in London or you are a seasoned traveller, No.8 has everything you need (and a few extras) and will ensure that your stay in London is definitely Enjoyable & Comfortable!  We look forward to Welcoming you at No.8 Seven Sisters! show more\", \" IMPORTANT NOTICE:   This hostel is for 18 - 35-year olds ONLY.  Check In is from 3 pm and Checkout is Before 10 am. Passport, Identity Card or Driver License is Required from all Guests. We accept cash in British Pounds and most cards. Please, note the reception is opened between 8am and 1am only.   'Your home away from home'   Looking for a great central London Hostel? Your search can come to rest to at London Backpackers Youth Hostel in Hendon.  We are moment from Hendon Central Underground station, minutes from the heart of London and easy access to nearby airports (detailed instructions of how to find the Hostel will be emailed to you once your Booking is made).  We take pride of providing excellent hostel facilities for your stay, whether for a single night or several. For Group Bookings please contact the Hostel Directly. If you are looking for long term accommodation, email us for rooms and prices available for quarantining and long stay.   Our rates are truly inexpensive, but our hostel is jam-packed with amenities tailored for young, and young at heart, people looking for a comfort at a modest price with a friendly atmosphere.  Bookings made on this or any website are Not Valid for Existing Guests. If you are and Existing Guest and make an Online Booking, your Booking will be honored but you will be charged the Full Nightly Rate. In the event of a NO SHOW or LATE CANCELLATION, Guests will be charged a Cancellation Fee Equal to the First Night of the Booking.  WHAT YOU CAN EXPECT:  Our facilities supply free linen, blankets, private rooms with towels, internet access, TV, literature, City Maps and UK Sim Cards, and a fully fitted kitchen for cooking (with Fridge/Freezers, Oven, Stoves, Microwave, Toaster and Kettle). You will not find another cheap London Youth Hostel that provide clean showers and toilets, plus hot water guaranteed 24h a day. For your convenience we also provide a laundry room with washer and dryer. Bunk Beds with Privacy Curtain, USB Charging Ports, Power Sockets, Reading Light and Locker. (Bring a Padlock or purchase from Reception). Sports Equipment for the nearby Hendon Park, just up the road with a large football field, tennis courts, basketball courts and it is a great place to get active during the day or to chill out with friends in the evening.  You can also enjoy a Pool game in our brand-new basement, equipped with seats and TV for more comfort!  We want your stay to be carefree and we ensure that by offering lockers and luggage room for your use in securing your property during your stay. The Hostel is covered by CCTV and there is 24hr Key Card Access with No Curfew.  Moreover, you can find plenty of coffee shops and restaurants around the hostel and for every taste!   For your convenience you will find Tesco, Sainsbury's, and other international shops 2 min walk from the hostel. They are all opened until late at night, even on the Sunday.   We are a 10-minute walk away from Middlesex University as well as Brent Cross shopping centre. The Royal Air Force museum is right by the next underground station!  NOTE: you must confirm your booking 24 hours prior to arrival by email to let us know you still want it. show more\", \" PLEASE NOTE WE ONLY ACCEPT GUESTS FROM THE AGE OF 18-40 with GOVERNMENT ISSUED PHOTO ID, such as driving licence, passport, national ID card.  Student cards and proof of age cards are not accepted.   The Queen Elizabeth Youth Hostel is located above a historic pub in the posh borough of Hammersmith and Fulham. Located conveniently between the Imperial Wharf Overground and the Fulham Broadway Tube Station, we are just a quick train ride away from London's hottest tourist attractions.  Located less than 5 minutes from the River Thames and 10 minutes to Chelsea FC's home stadium, Stamford Bridge. This is a prime location for those looking for a peaceful and enjoyable stay. Not far you will find green spaces, great shopping and easy transport connections to Central London. We are also located just off King's Road, one of the most fashionable streets in the world.  Facilities: Cheap, vegan-friendly breakfast buffet Linen Included  Free WiFi Internet No Lock Out No Curfew  Bar with cheap drinks for guests 24/Hour Check-in/Check-out Secure Locker Storage Two-Week Maximum Stay  -------------------------------------------------------------------------    Check-in is from 15:00 to 00:00 -- if you arrive before 15:00 you can store your bag for FREE in our secure luggage room. Any check-in between 00:01 to 11:00 will be charged a £4 fee.  Check-out is at 11:00 -- Luggage storage is available upon departure for a nominal fee.  Due to UK alcohol licensing laws, you are not allowed to bring or consume outside alcohol on the premises.   Wi-Fi is available in nearly all of our rooms, depending on your Wi-Fi device. It is specifically not available in our 17-bed dorm. All of our rooms do have electrical points, enabling you to charge your electronic devices.   We can't wait to see you here at Queen Elizabeth! show more\", \"Hostelworld says The friendly, attentive and welcoming staff of St Christopher's Hammersmith are frequently cited by our users as one of the best features of the hostel. We particularly like their pub crawl and the 25% discount offered on food in the downstairs pub. Our guests also regularly note how clean the hostel is. It's across the road from the Piccadilly line at Hammersmith underground station, putting it mid-way between Heathrow airport and central London and connecting directly to many of the most popular and interesting sites in the city.\", \"Hostelworld says If you're looking to explore the markets and music of Camden, St Christopher's Camden is a good place to start. Set right on Camden High Street, this lively hostel has been praised by Hostelworld guests for its central location, the 'super-friendly, helpful and sociable' staff and the good security. One of our reviewers said the hostel is 'great for girls travelling alone' while another said 'I could not have felt more safe and at home here'. We like the discounted food and drinks from the downstairs bar.\", \" International Students House provides affordable and friendly accommodation in Central London. There are a range of room types from shared dorm rooms to private doubles. Wi-fi is free and accessible throughout the building. Live music and shows are hosted at our venues - more information can be found at 229.london  International Students House is a charity dedicated to British and International Students in London. We provide a vibrant student centre based in zone one that is used by thousands of students that attend one of the many universities that are part of our International Partnership Scheme and over 200 residents that are housed in the affordable accommodation we offer.   ISH Bar provides a fun and friendly environment, serving food and drink at affordable prices. Breakfast, lunch and dinner can all be bought by guests if they're feeling hungry. There are also regular free events, such as karaoke and club nights.  International Students House is located in Central London - zone 1, within walking distance from Regent's Park and Oxford Circus. Regent's Park is one of the Royal Parks of London. It contains the London Zoo. Oxford Circus is the busy intersection of Oxford Street and Regent Street in the West End of London. Oxford Street offers an unrivalled shopping experience thanks to its exciting mix of high-street fashion and international brands.  Please keep in mind that as this is a student accommodation and music venue, there may be noise especially on the weekends show more\", \"Hostelworld says The Steam Engine, Bestplace Inn is a great hostel for those looking to see some of London's best-known sites. Guests tell us 'you can easily walk everywhere in London' from this hostel, including Piccadilly Circus, the London Eye, Big Ben and the Houses of Parliament. Lambeth North tube station is also nearby. Many of our visitors praise this hostel's friendly staff, the 'clean and really comfy beds' and the discounted drinks and pizza in the pub downstairs. One reviewer told us they 'would recommend this to someone wishing to meet real Londoners'.\", \"Hostelworld says St Christopher's Greenwich is 'ideally located if you're going to the O2 Arena' or looking for 'a quaint English town', according to Hostelworld guests, who say this hostel is 'cheap and good value for money'. Visitors say the friendly, attentive staff are 'always laughing' and 'helpful with enquiries'. Weekends are lively at this hostel, where 'you can experience a full night out there since it has a bar and a club' where you can meet 'residents and non-residents alike'. We like that it's next to the train going into Zone 1, a journey taking around 10 minutes.\", \"Hostelworld says Saint James Backpackers, set in a classic Victorian town house, is quaint and typically British. Its interior is beautifully maintained, mixing modern with classic, and includes a sizeable common room with plush sofas and TV. A friendly, family run affair, it offers a selection of dorms and privates, along with full kitchen facilities, free Wi-Fi and a patio area with BBQ. It's close to Earl's Court tube station, just two stops away from London's exclusive Kensington area, and 15 minutes from the West End, where you'll find the best the city has to offer in shopping, theatre and pubs.\", ' Among underground music venues, innovative museums, and hidden foodie hotspots, Selina Camden suits its edgy North London backdrop. Aside from offering beautifully-designed accommodation and a comfortable space to hang out, the Selina Camden hotel is an authentic cultural hub, consistent with great guest experience, an ever-changing calendar of exciting diverse programming, and unique wellness experiences. Reflecting Selina’s unique global reach, our Camden destination is here to explore and tie together the shape-shifting diversity of global music. On-site features include a fully-equipped communal kitchen, a loft complete with a stunning balcony, and a trendy vegan/vegetarian neighbourhood-style eatery.  Wake up early and head downstairs for some yoga before experiencing the best of Camden’s vegan gastronomy scene at our hotel restaurant. Take to the streets and explore the many attractions on your doorstep- from Camden Market to London Zoo, The Electric Ballroom, and multiple nearby eateries, we’ve got you! Back at Selina, unwind in the basement accompanied by vinyl tunes, catch a performance by local young talent, or order a pre-gig cocktail at the bar. As the sun sets, catch a show in one of England’s most iconic venues or head to the streets to experience London’s eclectic nightlife till the early hours.  Selina Camden - Terms & Conditions   24-hours front desk.  Cancellations and No-Shows   Flexible Reservations: Cancellations or modifications must be made by 6:00 pm (Local time) at least 2 day prior to arrival. Cancellations and no-shows made beyond that time will result in a one-night cancellation fee plus tax.   Non-Refundable Reservations: Full amount of stay (with taxes) is payable in advance by credit card at booking time. Non-refundable reservations are those made through early booking promotions and minimum stay reservations among others. Keep in mind that non-refundable reservations require full payment of the account to reserve. Payment will be processed and debited from the authorized credit card. If the charge is declined, the reservation may be cancelled. No refunds will be given for cancellations, absences or premature departures.    Check in from 15:00 to 23:00 . Check out before 11:00 .  Payment upon arrival by cash, credit cards, debit cards.  Taxes included.  Breakfast not included. No curfew. show more', \"Hostelworld says St Christopher's Shepherds Bush has been highly praised by Hostelworld users for having friendly staff who give personal attention to guests, creating a 'good atmosphere'. Guests have also said they appreciate the 'really huge' common room with a TV and ping pong table, the 24hr bar and the drinks specials in the bar downstairs, which one user rated as 'perfect if you're on a budget'. We like that this hostel is just across the road from the Central Line at Shepherds Bush underground station, connecting directly to Marble Arch and Oxford Street.\", ' Kensal Green Backpackers is a legendary hostel full of character, aiming to provide a stay in a fun, affordable and safe enviroment.  We are located right across the road from Kensal Green tube and overground station (Bakerloo line) and bus no: 18 will take you to the heart of London 24 hours a day. Our friendly team of multi-lingual staff are happy to assist you 24/7.  Fresh linen, Wi-Fi, comfortable beds, hot showers are all included in your stay. All our rooms have showers and water basins.  At our amazing hostel you will have free access to:  -Full facility kitchens -Dining space -Large lounge with pool table and Sky-TV -Free weekly entertainment  Affordable extras  -Laundry service (wash&dry) -Bar -Coffee shop -Restaurant -Breakfast available at reasonable cost -Storage room -Adaptors -Towels for hire -Tourist information and advice on local attractions and transport  Please note that valid photo ID is mandatory for check-in. We ask for a £10 key deposit which would be returned to you upon check out. Kensal Green Backpackers only caters for travellers aged between 18-40 yrs old. show more', ' Do London like a local. Stay just outside the hustle of the city in a leafy London suburb at our neighbourhood Hostel-Pub, The Crown. Hang out with the friendliest locals in town and enjoy the banter over live sports on our big screens, watch the world go by on the terrace, or get comfortable with new friends in our courtyard garden. Perfect for travellers looking to experience real London with real Londoners.  Legendary London adventures start at PubLove. All our Hostel-Pubs are welcoming, small and social - the perfect places to get to know your fellow travellers. The best thing about staying with us? Your common room is the great British pub! We have 24hr bars specialising in craft beer & gin. Get social with the locals or swap stories over a drink with your fellow backpackers.  Our dorms are modern, cool and spotlessly clean. Our bunks have hygiene/privacy screens, dedicated power sockets, great free Wi-Fi and crisp white linen. Our top-class washrooms are private and offer shampoo, shower gel and plenty of hot water.  Every Hostel-Pub has an award-winning Burger Craft kitchen serving up burgers, loaded fries and brunch, with vegetarian and vegan options. They open daily from 12pm until 10pm.  BOOK NOW to start your own London adventure. show more', \" Welcome to Venture Hostel.Venture Hostel is a vibrant young hostel, the perfect base to discover the real multi-cultural London. Surrounded by street markets and lively music venues, the exciting atmosphere will make your London stay a memorable experience. Nearby Goldsmiths University was home to the 1990's Britpop movement and Young British Artists movement, with famous alumni including artist Damien Hirst and Blur/Gorillaz frontman Damon Albarn.  Situated in West Greenwich, Venture Hostels has excellent transport links to central London and all the major attractions, like the Royal Greenwich observatory, Cutty Sark, the Emirates Air Line and the O2 Arena, a stage for the most exciting and famous concerts in London.  Our hostel is close to three main stations, Deptford Bridge on the DLR, Deptford station on the railway and New Cross station on the overground. The hostel is also one stop on the train away from the city centre of London, London Bridge, 20 minutes from the famous Olympic Stadium, Stratford, and within a walking distance from Greenwich Mean Time and Meridian Line.  Our bright, fun and recently refurbished hostel is the place to find visitors from all over the world, the hostel is housed above The Royal Standard bar and restaurant. The restaurant offers a selected gourmet menu on European cuisine including seafood, steaks, burgers and roasts. along with choice craft beers and a vibrant atmosphere. The bar and restaurant boasts a large reception area and bar, incorporating a mixture of lounge and dining style. All the hostels customers have a 15% discount on the Royal Standard Bar & Restaurant Menu.  All dormitories include free Wi-Fi, in-room lockers and fresh linen. The hostel also benefits from a 24-hours reception operated by our friendly and attentive staff.  Regardless of the length of your stay in our hostel, we will ensure you have a great time in the clean, comfortable and safe environment. Venture Hostels is known for its bursting with character atmosphere that is so necessary for an authentic, unique an unforgettable London experience. show more\", \"Hostelworld says The White Ferry, Bestplace Inn is close to Victoria coach and train station in central London. Hostelworld guests say this 'charming' hostel has 'awesome and helpful' staff who 'are lovely and go out of their way to answer any questions and help you out'. We like that this hostel is above a pub which reviewers tell us is 'always fun, filled with great people'; many of our visitors say they 'have stayed in this hostel before and have returned' and will come back again.\", \" Hostelle is the first and only all-female hostel in London. Hostelle was started with the idea to provide a safe and fun place for women who are traveling to Amsterdam, Barcelona, or London to stay so that they only need to focus on sightseeing and enjoying themselves while they are here. For female travelers with a small budget Hostelle is ideal, we are very well communicated with the airport and the city center.   London has a lot of different attractions and interesting places to visit. Because there are so many options, we from Hostelle have made a list of the absolute must-visits in London.  Hyde Park: Hyde Park is presumably the foremost notable park in London, it’s among the biggest. The park has historical significance, having hosted a variety of demonstrations and protests together with protests by suffragettes. The park hosts many performances weekly in addition to activities like paddle-boating, seeing several swans, and taking in a breath of fresh air in the center of the city. A must-visit.  Westminster: Westminster is home to the Houses of Parliament and the world-famous Big Ben. Big Ben is the name of the bell housed within the iconic clock tower, and it still chimes every hour. You can also find Westminster Abbey here, which is open to the public most days. Whilst visiting these landmarks, be sure to rest your feet in Parliament Square which features statues of important political individuals including Nelson Mandela and Winston Churchill.  Camden: Camden is a well-known cultural neighborhood in north London. Known for its alternative culture, the crowds here are filled with goths, punks, rockabillies, and tourists alike. Camden has a vibrant body mod community, and you will find several piercing and tattoo shops in this part of town.  London Eye: A trip to London isn’t complete without a visit to the iconic London Eye. Originally constructed to celebrate the millennium, the Eye is a giant Ferris wheel offering gorgeous views across the city. At night, the wheel is lit up in seasonal colors and is the centerpiece of London’s annual New Year’s fireworks display.  Hostelle London LTD Policy and Condition:   Cancellation Policy: 2 days before arrival. In case of a late cancellation or no show, you will be charged the first night of your stay. The non-refundable reservation can't be modified or canceled free of charge.   Check in from 14.00 to 00.00 (24/7 reception) ** Arriving later than 00:00 is possible please let us know your expected arrival time so the reception will be there to check you in.  Check out before 11.00 am ** Late checkout is not possible. You are welcome to stay in the common areas after check out time.    Payments Non-refundable reservations: these are always paid in advance. The provided credit card will be charged after we receive the reservation.  Standard reservation: these need to be paid on arrival with cash or card. We accept all types of cards.  ** All taxes are included in the price.    General: - 24 hours reception. - No curfew - We do not offer breakfast service, we have a fully equipped kitchen so the guests can make their dishes.  - We have a minimum age of 16 years old. Only when accompanied by a parent or a guardian we do allow children from the age of 12 years to stay in Hostelle. show more\", \" Hootananny is a lively hostel with spacious rooms in a traditional Edwardian public house dating back to the early 1850s. We offer large, airy, comfortable rooms and have a great reputation for a warm atmosphere and helpful staff. We're located in the heart of Brixton with excellent transport links - a great location to stay and explore the city of London.  With just a ten-minute walk to Brixton underground station, you are straight into Central London on the tube in less than 15 minutes. As one of Londons most diverse and vibrant areas, Brixton has world famous covered and street markets, is a hub for music venues, is full of atmospheric pubs and has the pick of the worlds best cuisine with a great selection of restaurants. Hootananny is located right next to two bus stops with 24-hour connections to the city centre.  Hostellers are treated to a 20% discount on drinks at the award-winning Hootananny music venue downstairs. Hootananny is a raucous music venue in Brixton with a lively beer garden and live music Wed-Sun and sometimes in between!  Important - Please be aware that you must present photo I.D. when you arrive. We only accept passports or a driving license as valid I.D. This is a hostel for over 18s only, there are no family rooms and we do not cater for young children. - The hostel is located above a live music venue, and music can be heard throughout the hostel until fairly late on Friday and Saturday nights. This does not prove to be a problem for many of our guests, but we can provide you with earplugs if you would like to ensure a good night's sleep. - Reception is open from 9am - 12 midnight. Check-in time is after 2pm, but if you arrive early you can always relax in our lounge room or use the amenities. - Check-out time before 11am. - Bookings for groups of 4 or more require pre approval from the property and full payment in advance. - We are a backpackers hostel and do not check in local residents of London into our hostel.  Happy travels! show more\", ' Food & culture lovers, assemble! The Rose & Crown is the perfect base to wander the incredible streets of London’s effortlessly cool Southbank. Walk the Thames path to see the majestic sights or head off on a self-guided exploration to discover unseen London. The surrounding area is bursting with vibrancy and culture making it the city’s current food & drink hotspot. The world-famous Borough Market is just around the corner and Flat Iron street food market is opposite our lovely little Hostel-Pub.  Perfect for discovering the beating heart of London’s food & drink and creative scene.  Legendary London adventures start at PubLove. All our Hostel-Pubs are welcoming, small and social - the perfect places to get to know your fellow travellers. The best thing about staying with us? Your common room is the great British pub! We have 24hr bars specialising in craft beer & gin. Get social with the locals or swap stories over a drink with your fellow backpackers.  Our dorms are modern, cool and spotlessly clean. Our bunks have hygiene/privacy screens, dedicated power sockets, great free Wi-Fi and crisp white linen. Our top-class washrooms are private and offer shampoo, shower gel and plenty of hot water.  Every Hostel-Pub has an award-winning Burger Craft kitchen serving up burgers, loaded fries and brunch, with vegetarian and vegan options. They open daily from 9am until 10pm.  BOOK NOW to start your own London adventure. show more', ' This central London hotel just 2-minutes from Kings Cross rail station, offering well-maintained reliable facilities and an attentive, professional service.    Compact, practical rooms with standard interior design throughout, complement excellent public transport links with tube, bus, taxi and regional rail links to every essential London destination on your doorstep. Brand new decorated and fully refurbished recently.  A short stroll from the British Museum and fashionable Bloomsbury, this hotel is a convenient, welcoming location for your London trip, be it for business or pleasure. View House Rules', \" Central London Hotel Accommodation situated in a quiet beautiful garden square in the heart of London. The accommodation has 20 rooms with tea/coffee making facilities, and central heating. Hairdryers, Adaptors and irons available on request. The reception is open 24 hrs, and the staff offer a personalized and friendly service and Free Breakfast!!!  The Hotel provides the ideal location to Oxford street - shoppers paradise or whether you want to visit some of the famous historic sights like Big Ben, Tower Bridge, Westminster Abbey and Buckingham Palace, drink a pint of England's finest ale, see a West End show or take a stroll in Hyde Park, not forgeting the hip international restaurants and the city's vibrant multi cultural population. London's fascination is its variety. Old and new stand side by side. History, pageantry and tradition mix with the modern, eccentric and avant garde, London the city thats in a world of its own offering something for everyone.  Getting here: By Tube: Our nearest underground station is Paddington, which has the Bakerloo Line, Circle Line, District Line and the Hammersmith and City Line. Once you exit from the tube station, please walk on your right until you reach London Street, then turn left into Norfolk Square we are located on the left hand side at number 30. By Bus: 2 minutes walk from hotel. The London Buses that are nearby are the 36, 15, 23 and 27. From Heathrow Airport: you can take the Heathrow Express, which will take you directly to Paddington Station, then follow directions as above.   Check-in Time: After 1:30 PM  Check-out Time: 11:00 AM    IMPORTANT INFORMATION:   Bed linen, towels and blankets are included in the price. All Taxes are included in the price. No extra charge for guests paying by credit cards. No Lockout / No curfew All rooms are equipped with televisions and free satellite channels. Free Tourist Information Service. Free Wireless internet access for guests with laptops. You can leave your luggage with reception if you arrive early or have a late departure.    CANCELLATION POLICY:   48 hours prior to check in, cancallations not with in this time period will be charged the first nights accommadation. show more\", ' Do Camden by day and curb side beers by night.  The Exmouth Arms is an iconic Hostel-Pub situated in the Camden corner of London. Explore the punk mecca from PubLove’s base in the heart of Kings Cross & Camden Town. On a sunny day the street outside is ﬁlled with the best afternoon drinkers in the city. We have plenty of shelter, so we never stop for the great British weather. This place is a backpacking institution. Perfect for travellers wanting to experience the alternative side of London  Legendary London adventures start at PubLove. All our Hostel-Pubs are welcoming, small and social - the perfect places to get to know your fellow travellers. The best thing about staying with us? Your common room is the great British pub! We have 24hr bars specialising in craft beer & gin. Get social with the locals or swap stories over a drink with your fellow backpackers.  Our dorms are modern, cool and spotlessly clean. Our bunks have hygiene/privacy screens, dedicated power sockets, great free Wi-Fi and crisp white linen. Our top-class washrooms are private and offer shampoo, shower gel and plenty of hot water.  Every Hostel-Pub has an award-winning Burger Craft kitchen serving up burgers, loaded fries and brunch, with vegetarian and vegan options. They open daily from 9am until 10pm.  BOOK NOW to start your own London adventure. show more', \" We have the honor of being the closest dedicated tourist hostel to Big Ben, Westminster as well as The London Eye itself. Our location is perfect.  Please leave an approximate arrival time and contact telephone number when making your reservation as we may need to get in touch with you. If you do not do so your reservation may be cancelled without notice.  Note: 18-40 yrs old only.. All guest receive Free WIFI, Free lockers AND Free LINEN...Located in zone 1 and only 15 minutes walk from Big Ben and Westminster Abbey with the rest of London close by.  Stop press...…..each bed now has a double UK PLUG socket as well as 2 USB sockets ...so you can now charge your phone/tablet etc from the comfort of your own bed.  Free FIBRE WIFI throughout the entire building Free lockers..  Free internet Free city maps Free London walking tour Free bed linen  You can arrive at anytime in the morning to drop your luggage off and return anytime to check into your bedroom  There are no hidden costs  Our nearest underground train station (Lambeth North. ZONE 1) is only 5 minutes walk from us and from here you can be in Piccadilly Circus and Oxford Street in less than 15 minutes.   As we are located in the centre of London you can walk all around the city without having to use the buses or London underground trains.  Our team are on hand to ensure every traveler has a uniquely memorable stay and a fantastic London experience.   Guests can socialize in our lively communal areas and our lobby bar, serving drinks, snacks and beer all day. The common room has a large-screen 50 inch TV. There's also a large guest kitchen with both microwave and hob, dining room and Free Internet throughout.  There is an Electric Scooter Docking Station right outside our front door and a 24-hour bus stop at the end of the road. Lambeth north (ZONE !) tube station is only a five-minute walk from the hostel.  Our location near the banks of the river Thames puts us only yards from London's famous South Bank. A short stroll takes you into Westminster and the city's top attractions, including Big Ben, Westminster Abbey and Trafalgar Square. Our hostel is also handy for a spot of culture - visit the Tate modern or the imperial war museum nearby. With Waterloo rail station or Lambeth north tube station a short walk away it is the ideal starting point for your London adventure.  Please see our reception for luggage storage lockers, tickets and tour bookings, maps and information about London. Our vibrant staff are passionate about making your stay a memorable one.  We are unable to accommodate under-16's in our dormitories. Guests under the age of 16 are welcome to stay in one of our private rooms as long as they are accompanied by a adult parent or guardian.  Photo ID required upon check-in. (no ID, no stay, no exception).   Please read our things to note below before making a booking. show more\"]\n"
     ]
    }
   ],
   "source": [
    "print(property_description)"
   ]
  },
  {
   "cell_type": "code",
   "execution_count": 258,
   "id": "f3d825b4",
   "metadata": {},
   "outputs": [
    {
     "name": "stdout",
     "output_type": "stream",
     "text": [
      "30 30 30 30 30 30 30 30 30\n"
     ]
    }
   ],
   "source": [
    "# Checking lengths of all the lists\n",
    "print(len(hostel_name),len(distance_from_city),len(ratings),len(total_reviews),len(overall_reviews),len(privates_from_price),len(dorms_from_price),len(facilities),len(property_description))"
   ]
  },
  {
   "cell_type": "code",
   "execution_count": 259,
   "id": "c6e025ee",
   "metadata": {},
   "outputs": [
    {
     "data": {
      "text/html": [
       "<div>\n",
       "<style scoped>\n",
       "    .dataframe tbody tr th:only-of-type {\n",
       "        vertical-align: middle;\n",
       "    }\n",
       "\n",
       "    .dataframe tbody tr th {\n",
       "        vertical-align: top;\n",
       "    }\n",
       "\n",
       "    .dataframe thead th {\n",
       "        text-align: right;\n",
       "    }\n",
       "</style>\n",
       "<table border=\"1\" class=\"dataframe\">\n",
       "  <thead>\n",
       "    <tr style=\"text-align: right;\">\n",
       "      <th></th>\n",
       "      <th>Hostel Name</th>\n",
       "      <th>Distance from city centre</th>\n",
       "      <th>Ratings</th>\n",
       "      <th>Total Reviews</th>\n",
       "      <th>Overall Reviews</th>\n",
       "      <th>Privates from price</th>\n",
       "      <th>Dorms from price</th>\n",
       "      <th>Facilities</th>\n",
       "      <th>Property Description</th>\n",
       "    </tr>\n",
       "  </thead>\n",
       "  <tbody>\n",
       "    <tr>\n",
       "      <th>0</th>\n",
       "      <td>St Christopher's Village</td>\n",
       "      <td>1.8km from city centre</td>\n",
       "      <td>7.9</td>\n",
       "      <td>12155</td>\n",
       "      <td>Very Good</td>\n",
       "      <td>No Privates Available</td>\n",
       "      <td>Rs3138.82</td>\n",
       "      <td>Free Linen Included Free WiFi Free Internet Ac...</td>\n",
       "      <td>Hostelworld says Hostelworld visitors have sai...</td>\n",
       "    </tr>\n",
       "    <tr>\n",
       "      <th>1</th>\n",
       "      <td>Urbany Hostel London</td>\n",
       "      <td>5.4km from city centre</td>\n",
       "      <td>9.4</td>\n",
       "      <td>780</td>\n",
       "      <td>Superb</td>\n",
       "      <td>Rs18067</td>\n",
       "      <td>Rs5978</td>\n",
       "      <td>Free Linen Included Free WiFi General Security...</td>\n",
       "      <td>Welcome to Urbany Hostel London, our first in...</td>\n",
       "    </tr>\n",
       "    <tr>\n",
       "      <th>2</th>\n",
       "      <td>Generator London</td>\n",
       "      <td>3km from city centre</td>\n",
       "      <td>7.5</td>\n",
       "      <td>7500</td>\n",
       "      <td>Very Good</td>\n",
       "      <td>No Privates Available</td>\n",
       "      <td>Rs3528</td>\n",
       "      <td>Free Linen Included Free City Maps Free WiFi F...</td>\n",
       "      <td>Hostelworld says Hostelworld guests have said ...</td>\n",
       "    </tr>\n",
       "    <tr>\n",
       "      <th>3</th>\n",
       "      <td>NX London Hostel</td>\n",
       "      <td>6.1km from city centre</td>\n",
       "      <td>8.3</td>\n",
       "      <td>1885</td>\n",
       "      <td>Fabulous</td>\n",
       "      <td>No Privates Available</td>\n",
       "      <td>Rs4088.89</td>\n",
       "      <td>Free Free Breakfast Linen Included Towels Incl...</td>\n",
       "      <td>Welcome to NX London Hostel!  PLEASE READ INF...</td>\n",
       "    </tr>\n",
       "    <tr>\n",
       "      <th>4</th>\n",
       "      <td>Safestay London Elephant &amp; Castle</td>\n",
       "      <td>1.7km from city centre</td>\n",
       "      <td>7.5</td>\n",
       "      <td>4957</td>\n",
       "      <td>Very Good</td>\n",
       "      <td>No Privates Available</td>\n",
       "      <td>Rs2182</td>\n",
       "      <td>Free Linen Included Free WiFi General Security...</td>\n",
       "      <td>Hostelworld says Safestay at Elephant and Cast...</td>\n",
       "    </tr>\n",
       "    <tr>\n",
       "      <th>5</th>\n",
       "      <td>Phoenix Hostel</td>\n",
       "      <td>4.2km from city centre</td>\n",
       "      <td>7.6</td>\n",
       "      <td>4126</td>\n",
       "      <td>Very Good</td>\n",
       "      <td>No Privates Available</td>\n",
       "      <td>Rs2377.64</td>\n",
       "      <td>Free Linen Included Free City Maps Free WiFi F...</td>\n",
       "      <td>The Phoenix Bar &amp; Hostel, housed in a homely ...</td>\n",
       "    </tr>\n",
       "    <tr>\n",
       "      <th>6</th>\n",
       "      <td>No.8 Willesden Hostel London</td>\n",
       "      <td>10km from city centre</td>\n",
       "      <td>6.5</td>\n",
       "      <td>5014</td>\n",
       "      <td>Good</td>\n",
       "      <td>Rs3043</td>\n",
       "      <td>No Dorms Available</td>\n",
       "      <td>Free Linen Included Free WiFi General Security...</td>\n",
       "      <td>At No.8 we take pride in our Customer Service...</td>\n",
       "    </tr>\n",
       "    <tr>\n",
       "      <th>7</th>\n",
       "      <td>Safestay London Kensington Holland Park</td>\n",
       "      <td>5.8km from city centre</td>\n",
       "      <td>7.1</td>\n",
       "      <td>1528</td>\n",
       "      <td>Very Good</td>\n",
       "      <td>No Privates Available</td>\n",
       "      <td>Rs1741</td>\n",
       "      <td>Free Linen Included Free WiFi General Security...</td>\n",
       "      <td>Safestay Holland Park  Safestay Holland Park ...</td>\n",
       "    </tr>\n",
       "    <tr>\n",
       "      <th>8</th>\n",
       "      <td>No.8 Seven Sisters</td>\n",
       "      <td>9km from city centre</td>\n",
       "      <td>5.7</td>\n",
       "      <td>4010</td>\n",
       "      <td>Rating</td>\n",
       "      <td>No Privates Available</td>\n",
       "      <td>Rs1379</td>\n",
       "      <td>Free Linen Included Free WiFi General Security...</td>\n",
       "      <td>For Great Facilities, Comfort &amp; Affordability...</td>\n",
       "    </tr>\n",
       "    <tr>\n",
       "      <th>9</th>\n",
       "      <td>London Backpackers</td>\n",
       "      <td>11.9km from city centre</td>\n",
       "      <td>7.9</td>\n",
       "      <td>4468</td>\n",
       "      <td>Very Good</td>\n",
       "      <td>No Privates Available</td>\n",
       "      <td>Rs2128</td>\n",
       "      <td>Free Linen Included Free City Maps Free WiFi F...</td>\n",
       "      <td>IMPORTANT NOTICE:   This hostel is for 18 - 3...</td>\n",
       "    </tr>\n",
       "    <tr>\n",
       "      <th>10</th>\n",
       "      <td>Queen Elizabeth Chelsea</td>\n",
       "      <td>5.7km from city centre</td>\n",
       "      <td>7.4</td>\n",
       "      <td>3480</td>\n",
       "      <td>Very Good</td>\n",
       "      <td>No Privates Available</td>\n",
       "      <td>Rs1906</td>\n",
       "      <td>Free Linen Included Free City Maps Free WiFi F...</td>\n",
       "      <td>PLEASE NOTE WE ONLY ACCEPT GUESTS FROM THE AG...</td>\n",
       "    </tr>\n",
       "    <tr>\n",
       "      <th>11</th>\n",
       "      <td>St Christopher's Hammersmith</td>\n",
       "      <td>7.5km from city centre</td>\n",
       "      <td>7.7</td>\n",
       "      <td>4243</td>\n",
       "      <td>Very Good</td>\n",
       "      <td>No Privates Available</td>\n",
       "      <td>Rs2010.28</td>\n",
       "      <td>Free Linen Included Free City Maps Free WiFi F...</td>\n",
       "      <td>Hostelworld says The friendly, attentive and w...</td>\n",
       "    </tr>\n",
       "    <tr>\n",
       "      <th>12</th>\n",
       "      <td>St Christopher's Camden</td>\n",
       "      <td>4.3km from city centre</td>\n",
       "      <td>7.0</td>\n",
       "      <td>4035</td>\n",
       "      <td>Very Good</td>\n",
       "      <td>No Privates Available</td>\n",
       "      <td>Rs2820</td>\n",
       "      <td>Free Linen Included Free City Maps Free WiFi F...</td>\n",
       "      <td>Hostelworld says If you're looking to explore ...</td>\n",
       "    </tr>\n",
       "    <tr>\n",
       "      <th>13</th>\n",
       "      <td>International Students House</td>\n",
       "      <td>3.3km from city centre</td>\n",
       "      <td>9.3</td>\n",
       "      <td>1035</td>\n",
       "      <td>Superb</td>\n",
       "      <td>Rs6937</td>\n",
       "      <td>No Dorms Available</td>\n",
       "      <td>Free Linen Included Free City Maps Towels Incl...</td>\n",
       "      <td>International Students House provides afforda...</td>\n",
       "    </tr>\n",
       "    <tr>\n",
       "      <th>14</th>\n",
       "      <td>PubLove @ The Steam Engine, Waterloo</td>\n",
       "      <td>0.5km from city centre</td>\n",
       "      <td>8.0</td>\n",
       "      <td>394</td>\n",
       "      <td>Fabulous</td>\n",
       "      <td>No Privates Available</td>\n",
       "      <td>Rs6306</td>\n",
       "      <td>Free Linen Included Free City Maps Free WiFi G...</td>\n",
       "      <td>Hostelworld says The Steam Engine, Bestplace I...</td>\n",
       "    </tr>\n",
       "    <tr>\n",
       "      <th>15</th>\n",
       "      <td>St Christopher's Greenwich</td>\n",
       "      <td>7.6km from city centre</td>\n",
       "      <td>7.5</td>\n",
       "      <td>3350</td>\n",
       "      <td>Very Good</td>\n",
       "      <td>No Privates Available</td>\n",
       "      <td>Rs2282.78</td>\n",
       "      <td>Free Linen Included Free City Maps Free WiFi F...</td>\n",
       "      <td>Hostelworld says St Christopher's Greenwich is...</td>\n",
       "    </tr>\n",
       "    <tr>\n",
       "      <th>16</th>\n",
       "      <td>Saint James Backpackers</td>\n",
       "      <td>5.5km from city centre</td>\n",
       "      <td>7.5</td>\n",
       "      <td>1884</td>\n",
       "      <td>Very Good</td>\n",
       "      <td>No Privates Available</td>\n",
       "      <td>Rs4099</td>\n",
       "      <td>Free Free Breakfast Linen Included Free City M...</td>\n",
       "      <td>Hostelworld says Saint James Backpackers, set ...</td>\n",
       "    </tr>\n",
       "    <tr>\n",
       "      <th>17</th>\n",
       "      <td>Selina Camden</td>\n",
       "      <td>5.5km from city centre</td>\n",
       "      <td>8.9</td>\n",
       "      <td>50</td>\n",
       "      <td>Fabulous</td>\n",
       "      <td>Rs29094</td>\n",
       "      <td>Rs11225</td>\n",
       "      <td>Free Linen Included Towels Included Free WiFi ...</td>\n",
       "      <td>Among underground music venues, innovative mu...</td>\n",
       "    </tr>\n",
       "    <tr>\n",
       "      <th>18</th>\n",
       "      <td>St Christopher's Shepherds Bush</td>\n",
       "      <td>7km from city centre</td>\n",
       "      <td>7.3</td>\n",
       "      <td>772</td>\n",
       "      <td>Very Good</td>\n",
       "      <td>No Privates Available</td>\n",
       "      <td>Rs2282.78</td>\n",
       "      <td>Free Linen Included Free City Maps Free WiFi G...</td>\n",
       "      <td>Hostelworld says St Christopher's Shepherds Bu...</td>\n",
       "    </tr>\n",
       "    <tr>\n",
       "      <th>19</th>\n",
       "      <td>Kensal Green Backpackers</td>\n",
       "      <td>8.2km from city centre</td>\n",
       "      <td>5.0</td>\n",
       "      <td>3710</td>\n",
       "      <td>Rating</td>\n",
       "      <td>Rs9261</td>\n",
       "      <td>Rs1892</td>\n",
       "      <td>Free Linen Included Free City Maps General Com...</td>\n",
       "      <td>Kensal Green Backpackers is a legendary hoste...</td>\n",
       "    </tr>\n",
       "    <tr>\n",
       "      <th>20</th>\n",
       "      <td>PubLove @ The Crown, Battersea</td>\n",
       "      <td>4.7km from city centre</td>\n",
       "      <td>7.5</td>\n",
       "      <td>301</td>\n",
       "      <td>Very Good</td>\n",
       "      <td>No Privates Available</td>\n",
       "      <td>Rs3363</td>\n",
       "      <td>Free Linen Included Free City Maps Free WiFi G...</td>\n",
       "      <td>Do London like a local. Stay just outside the...</td>\n",
       "    </tr>\n",
       "    <tr>\n",
       "      <th>21</th>\n",
       "      <td>Book a Bed Hostels</td>\n",
       "      <td>6.9km from city centre</td>\n",
       "      <td>7.4</td>\n",
       "      <td>1255</td>\n",
       "      <td>Very Good</td>\n",
       "      <td>Rs6306.46</td>\n",
       "      <td>Rs2520.24</td>\n",
       "      <td>Free Linen Included Free City Maps Free WiFi F...</td>\n",
       "      <td>Welcome to Venture Hostel.Venture Hostel is a...</td>\n",
       "    </tr>\n",
       "    <tr>\n",
       "      <th>22</th>\n",
       "      <td>PubLove @ The White Ferry, Victoria</td>\n",
       "      <td>2.4km from city centre</td>\n",
       "      <td>7.3</td>\n",
       "      <td>338</td>\n",
       "      <td>Very Good</td>\n",
       "      <td>No Privates Available</td>\n",
       "      <td>Rs4730</td>\n",
       "      <td>Free Linen Included Free City Maps Free WiFi G...</td>\n",
       "      <td>Hostelworld says The White Ferry, Bestplace In...</td>\n",
       "    </tr>\n",
       "    <tr>\n",
       "      <th>23</th>\n",
       "      <td>Hostelle London</td>\n",
       "      <td>5.1km from city centre</td>\n",
       "      <td>8.7</td>\n",
       "      <td>11</td>\n",
       "      <td>Fabulous</td>\n",
       "      <td>No Privates Available</td>\n",
       "      <td>Rs6796.95</td>\n",
       "      <td>Free Linen Included Free City Maps Free WiFi F...</td>\n",
       "      <td>Hostelle is the first and only all-female hos...</td>\n",
       "    </tr>\n",
       "    <tr>\n",
       "      <th>24</th>\n",
       "      <td>Hootananny Hostel</td>\n",
       "      <td>5km from city centre</td>\n",
       "      <td>7.6</td>\n",
       "      <td>1511</td>\n",
       "      <td>Very Good</td>\n",
       "      <td>No Privates Available</td>\n",
       "      <td>Rs2929</td>\n",
       "      <td>Free Free Breakfast Linen Included Free City M...</td>\n",
       "      <td>Hootananny is a lively hostel with spacious r...</td>\n",
       "    </tr>\n",
       "    <tr>\n",
       "      <th>25</th>\n",
       "      <td>PubLove @ The Rose &amp; Crown</td>\n",
       "      <td>1.6km from city centre</td>\n",
       "      <td>7.5</td>\n",
       "      <td>189</td>\n",
       "      <td>Very Good</td>\n",
       "      <td>No Privates Available</td>\n",
       "      <td>Rs6306</td>\n",
       "      <td>Free Linen Included Free City Maps Free WiFi G...</td>\n",
       "      <td>Food &amp; culture lovers, assemble! The Rose &amp; C...</td>\n",
       "    </tr>\n",
       "    <tr>\n",
       "      <th>26</th>\n",
       "      <td>Elmwood Hotel</td>\n",
       "      <td>3.2km from city centre</td>\n",
       "      <td>7.7</td>\n",
       "      <td>128</td>\n",
       "      <td>Very Good</td>\n",
       "      <td>Rs21022</td>\n",
       "      <td>No Dorms Available</td>\n",
       "      <td>Free Free Internet Access General Hair Dryers ...</td>\n",
       "      <td>This central London hotel just 2-minutes from...</td>\n",
       "    </tr>\n",
       "    <tr>\n",
       "      <th>27</th>\n",
       "      <td>Tony's House Hotel</td>\n",
       "      <td>4.3km from city centre</td>\n",
       "      <td>8.2</td>\n",
       "      <td>422</td>\n",
       "      <td>Fabulous</td>\n",
       "      <td>Rs22493</td>\n",
       "      <td>No Dorms Available</td>\n",
       "      <td>Free Free Breakfast Free Internet Access Gener...</td>\n",
       "      <td>Central London Hotel Accommodation situated i...</td>\n",
       "    </tr>\n",
       "    <tr>\n",
       "      <th>28</th>\n",
       "      <td>PubLove @ The Exmouth Arms, Euston</td>\n",
       "      <td>3.4km from city centre</td>\n",
       "      <td>6.7</td>\n",
       "      <td>1078</td>\n",
       "      <td>Good</td>\n",
       "      <td>No Privates Available</td>\n",
       "      <td>Rs3889</td>\n",
       "      <td>Free Linen Included Free City Maps Free WiFi G...</td>\n",
       "      <td>Do Camden by day and curb side beers by night...</td>\n",
       "    </tr>\n",
       "    <tr>\n",
       "      <th>29</th>\n",
       "      <td>London Waterloo Hostel</td>\n",
       "      <td>0.7km from city centre</td>\n",
       "      <td>5.5</td>\n",
       "      <td>2534</td>\n",
       "      <td>Rating</td>\n",
       "      <td>Rs10480</td>\n",
       "      <td>Rs2937</td>\n",
       "      <td>Free Linen Included Free City Maps Free WiFi F...</td>\n",
       "      <td>We have the honor of being the closest dedica...</td>\n",
       "    </tr>\n",
       "  </tbody>\n",
       "</table>\n",
       "</div>"
      ],
      "text/plain": [
       "                                Hostel Name Distance from city centre Ratings  \\\n",
       "0                  St Christopher's Village    1.8km from city centre     7.9   \n",
       "1                      Urbany Hostel London    5.4km from city centre     9.4   \n",
       "2                          Generator London      3km from city centre     7.5   \n",
       "3                          NX London Hostel    6.1km from city centre     8.3   \n",
       "4         Safestay London Elephant & Castle    1.7km from city centre     7.5   \n",
       "5                            Phoenix Hostel    4.2km from city centre     7.6   \n",
       "6              No.8 Willesden Hostel London     10km from city centre     6.5   \n",
       "7   Safestay London Kensington Holland Park    5.8km from city centre     7.1   \n",
       "8                        No.8 Seven Sisters      9km from city centre     5.7   \n",
       "9                        London Backpackers   11.9km from city centre     7.9   \n",
       "10                  Queen Elizabeth Chelsea    5.7km from city centre     7.4   \n",
       "11             St Christopher's Hammersmith    7.5km from city centre     7.7   \n",
       "12                  St Christopher's Camden    4.3km from city centre     7.0   \n",
       "13             International Students House    3.3km from city centre     9.3   \n",
       "14     PubLove @ The Steam Engine, Waterloo    0.5km from city centre     8.0   \n",
       "15               St Christopher's Greenwich    7.6km from city centre     7.5   \n",
       "16                  Saint James Backpackers    5.5km from city centre     7.5   \n",
       "17                            Selina Camden    5.5km from city centre     8.9   \n",
       "18          St Christopher's Shepherds Bush      7km from city centre     7.3   \n",
       "19                 Kensal Green Backpackers    8.2km from city centre     5.0   \n",
       "20           PubLove @ The Crown, Battersea    4.7km from city centre     7.5   \n",
       "21                       Book a Bed Hostels    6.9km from city centre     7.4   \n",
       "22      PubLove @ The White Ferry, Victoria    2.4km from city centre     7.3   \n",
       "23                          Hostelle London    5.1km from city centre     8.7   \n",
       "24                        Hootananny Hostel      5km from city centre     7.6   \n",
       "25               PubLove @ The Rose & Crown    1.6km from city centre     7.5   \n",
       "26                            Elmwood Hotel    3.2km from city centre     7.7   \n",
       "27                       Tony's House Hotel    4.3km from city centre     8.2   \n",
       "28       PubLove @ The Exmouth Arms, Euston    3.4km from city centre     6.7   \n",
       "29                   London Waterloo Hostel    0.7km from city centre     5.5   \n",
       "\n",
       "   Total Reviews Overall Reviews    Privates from price    Dorms from price  \\\n",
       "0        12155         Very Good  No Privates Available           Rs3138.82   \n",
       "1          780            Superb                Rs18067              Rs5978   \n",
       "2         7500         Very Good  No Privates Available              Rs3528   \n",
       "3         1885          Fabulous  No Privates Available           Rs4088.89   \n",
       "4         4957         Very Good  No Privates Available              Rs2182   \n",
       "5         4126         Very Good  No Privates Available           Rs2377.64   \n",
       "6         5014              Good                 Rs3043  No Dorms Available   \n",
       "7         1528         Very Good  No Privates Available              Rs1741   \n",
       "8         4010            Rating  No Privates Available              Rs1379   \n",
       "9         4468         Very Good  No Privates Available              Rs2128   \n",
       "10        3480         Very Good  No Privates Available              Rs1906   \n",
       "11        4243         Very Good  No Privates Available           Rs2010.28   \n",
       "12        4035         Very Good  No Privates Available              Rs2820   \n",
       "13        1035            Superb                 Rs6937  No Dorms Available   \n",
       "14         394          Fabulous  No Privates Available              Rs6306   \n",
       "15        3350         Very Good  No Privates Available           Rs2282.78   \n",
       "16        1884         Very Good  No Privates Available              Rs4099   \n",
       "17          50          Fabulous                Rs29094             Rs11225   \n",
       "18         772         Very Good  No Privates Available           Rs2282.78   \n",
       "19        3710            Rating                 Rs9261              Rs1892   \n",
       "20         301         Very Good  No Privates Available              Rs3363   \n",
       "21        1255         Very Good              Rs6306.46           Rs2520.24   \n",
       "22         338         Very Good  No Privates Available              Rs4730   \n",
       "23          11          Fabulous  No Privates Available           Rs6796.95   \n",
       "24        1511         Very Good  No Privates Available              Rs2929   \n",
       "25         189         Very Good  No Privates Available              Rs6306   \n",
       "26         128         Very Good                Rs21022  No Dorms Available   \n",
       "27         422          Fabulous                Rs22493  No Dorms Available   \n",
       "28        1078              Good  No Privates Available              Rs3889   \n",
       "29        2534            Rating                Rs10480              Rs2937   \n",
       "\n",
       "                                           Facilities  \\\n",
       "0   Free Linen Included Free WiFi Free Internet Ac...   \n",
       "1   Free Linen Included Free WiFi General Security...   \n",
       "2   Free Linen Included Free City Maps Free WiFi F...   \n",
       "3   Free Free Breakfast Linen Included Towels Incl...   \n",
       "4   Free Linen Included Free WiFi General Security...   \n",
       "5   Free Linen Included Free City Maps Free WiFi F...   \n",
       "6   Free Linen Included Free WiFi General Security...   \n",
       "7   Free Linen Included Free WiFi General Security...   \n",
       "8   Free Linen Included Free WiFi General Security...   \n",
       "9   Free Linen Included Free City Maps Free WiFi F...   \n",
       "10  Free Linen Included Free City Maps Free WiFi F...   \n",
       "11  Free Linen Included Free City Maps Free WiFi F...   \n",
       "12  Free Linen Included Free City Maps Free WiFi F...   \n",
       "13  Free Linen Included Free City Maps Towels Incl...   \n",
       "14  Free Linen Included Free City Maps Free WiFi G...   \n",
       "15  Free Linen Included Free City Maps Free WiFi F...   \n",
       "16  Free Free Breakfast Linen Included Free City M...   \n",
       "17  Free Linen Included Towels Included Free WiFi ...   \n",
       "18  Free Linen Included Free City Maps Free WiFi G...   \n",
       "19  Free Linen Included Free City Maps General Com...   \n",
       "20  Free Linen Included Free City Maps Free WiFi G...   \n",
       "21  Free Linen Included Free City Maps Free WiFi F...   \n",
       "22  Free Linen Included Free City Maps Free WiFi G...   \n",
       "23  Free Linen Included Free City Maps Free WiFi F...   \n",
       "24  Free Free Breakfast Linen Included Free City M...   \n",
       "25  Free Linen Included Free City Maps Free WiFi G...   \n",
       "26  Free Free Internet Access General Hair Dryers ...   \n",
       "27  Free Free Breakfast Free Internet Access Gener...   \n",
       "28  Free Linen Included Free City Maps Free WiFi G...   \n",
       "29  Free Linen Included Free City Maps Free WiFi F...   \n",
       "\n",
       "                                 Property Description  \n",
       "0   Hostelworld says Hostelworld visitors have sai...  \n",
       "1    Welcome to Urbany Hostel London, our first in...  \n",
       "2   Hostelworld says Hostelworld guests have said ...  \n",
       "3    Welcome to NX London Hostel!  PLEASE READ INF...  \n",
       "4   Hostelworld says Safestay at Elephant and Cast...  \n",
       "5    The Phoenix Bar & Hostel, housed in a homely ...  \n",
       "6    At No.8 we take pride in our Customer Service...  \n",
       "7    Safestay Holland Park  Safestay Holland Park ...  \n",
       "8    For Great Facilities, Comfort & Affordability...  \n",
       "9    IMPORTANT NOTICE:   This hostel is for 18 - 3...  \n",
       "10   PLEASE NOTE WE ONLY ACCEPT GUESTS FROM THE AG...  \n",
       "11  Hostelworld says The friendly, attentive and w...  \n",
       "12  Hostelworld says If you're looking to explore ...  \n",
       "13   International Students House provides afforda...  \n",
       "14  Hostelworld says The Steam Engine, Bestplace I...  \n",
       "15  Hostelworld says St Christopher's Greenwich is...  \n",
       "16  Hostelworld says Saint James Backpackers, set ...  \n",
       "17   Among underground music venues, innovative mu...  \n",
       "18  Hostelworld says St Christopher's Shepherds Bu...  \n",
       "19   Kensal Green Backpackers is a legendary hoste...  \n",
       "20   Do London like a local. Stay just outside the...  \n",
       "21   Welcome to Venture Hostel.Venture Hostel is a...  \n",
       "22  Hostelworld says The White Ferry, Bestplace In...  \n",
       "23   Hostelle is the first and only all-female hos...  \n",
       "24   Hootananny is a lively hostel with spacious r...  \n",
       "25   Food & culture lovers, assemble! The Rose & C...  \n",
       "26   This central London hotel just 2-minutes from...  \n",
       "27   Central London Hotel Accommodation situated i...  \n",
       "28   Do Camden by day and curb side beers by night...  \n",
       "29   We have the honor of being the closest dedica...  "
      ]
     },
     "execution_count": 259,
     "metadata": {},
     "output_type": "execute_result"
    }
   ],
   "source": [
    "# Creating dataframe\n",
    "df = pd.DataFrame({'Hostel Name':hostel_name,'Distance from city centre':distance_from_city,'Ratings':ratings,'Total Reviews':total_reviews,'Overall Reviews':overall_reviews,'Privates from price':privates_from_price,'Dorms from price':dorms_from_price,'Facilities':facilities,'Property Description':property_description})\n",
    "\n",
    "# Displaying dataframe\n",
    "df"
   ]
  }
 ],
 "metadata": {
  "kernelspec": {
   "display_name": "Python 3 (ipykernel)",
   "language": "python",
   "name": "python3"
  },
  "language_info": {
   "codemirror_mode": {
    "name": "ipython",
    "version": 3
   },
   "file_extension": ".py",
   "mimetype": "text/x-python",
   "name": "python",
   "nbconvert_exporter": "python",
   "pygments_lexer": "ipython3",
   "version": "3.9.13"
  }
 },
 "nbformat": 4,
 "nbformat_minor": 5
}
