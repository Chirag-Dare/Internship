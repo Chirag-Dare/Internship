{
 "cells": [
  {
   "cell_type": "markdown",
   "id": "d23efb7d",
   "metadata": {},
   "source": [
    "Web Scraping Assignment (Selenium) - 2\n",
    "----"
   ]
  },
  {
   "cell_type": "code",
   "execution_count": 446,
   "id": "30e870a0",
   "metadata": {},
   "outputs": [],
   "source": [
    "import selenium\n",
    "import requests\n",
    "import pandas as pd\n",
    "from selenium import webdriver\n",
    "import warnings \n",
    "warnings.filterwarnings('ignore')\n",
    "from selenium.webdriver.common.by import By\n",
    "from selenium.webdriver.common.keys import Keys\n",
    "import time"
   ]
  },
  {
   "cell_type": "markdown",
   "id": "e7b64ba4",
   "metadata": {},
   "source": [
    "1. Python program to scrape first 10 jobs data for “Data Analyst” Job position in “Bangalore” location with job-title, job-location, company_name, experience_required details from the webpage  https://www.naukri.com/\n"
   ]
  },
  {
   "cell_type": "code",
   "execution_count": 447,
   "id": "5e97ca09",
   "metadata": {},
   "outputs": [
    {
     "data": {
      "text/plain": [
       "<Response [200]>"
      ]
     },
     "execution_count": 447,
     "metadata": {},
     "output_type": "execute_result"
    }
   ],
   "source": [
    "# Sending a request to a website for scraping data\n",
    "page=requests.get(\"https://www.naukri.com/\")\n",
    "page"
   ]
  },
  {
   "cell_type": "code",
   "execution_count": 448,
   "id": "0ed3b320",
   "metadata": {},
   "outputs": [],
   "source": [
    "# Creating WebDriver instance for controlling the Chrome browser using Selenium\n",
    "driver=webdriver.Chrome(r\"chromedriver.exe\")"
   ]
  },
  {
   "cell_type": "code",
   "execution_count": 449,
   "id": "cf6ed205",
   "metadata": {},
   "outputs": [],
   "source": [
    "# Opening webpage in the browser window controlled by the WebDriver instance\n",
    "driver.get(\"https://www.naukri.com/\")"
   ]
  },
  {
   "cell_type": "code",
   "execution_count": 450,
   "id": "1d157aff",
   "metadata": {},
   "outputs": [],
   "source": [
    "# Filling details in respective fields\n",
    "designation=driver.find_element(By.CLASS_NAME,\"suggestor-input\")\n",
    "designation.send_keys(\"Data Analyst\") \n",
    "\n",
    "location=driver.find_element(By.XPATH,\"/html/body/div[1]/div[7]/div/div/div[5]/div/div/div/div[1]/div/input\")\n",
    "location.send_keys(\"Bangalore\")\n",
    "\n",
    "# Clicking the search button\n",
    "search=driver.find_element(By.CLASS_NAME,\"qsbSubmit\")\n",
    "search.click()"
   ]
  },
  {
   "cell_type": "code",
   "execution_count": 451,
   "id": "cadb3aa1",
   "metadata": {},
   "outputs": [],
   "source": [
    "# Creating lists for storing data of job title, job location, company name and experience required\n",
    "job_title=[]\n",
    "job_location=[]\n",
    "company_name=[]\n",
    "experience_required=[]"
   ]
  },
  {
   "cell_type": "code",
   "execution_count": 452,
   "id": "65eaa168",
   "metadata": {},
   "outputs": [
    {
     "data": {
      "text/plain": [
       "['Data Analyst',\n",
       " 'Tech Data Analyst',\n",
       " 'Data Analyst',\n",
       " 'Data Analyst',\n",
       " 'Celonis & Salesforce Data Analyst',\n",
       " 'Celonis & Salesforce Data Analyst',\n",
       " 'Data Analyst',\n",
       " 'Data Analyst',\n",
       " 'Data Analyst',\n",
       " 'Data Analyst']"
      ]
     },
     "execution_count": 452,
     "metadata": {},
     "output_type": "execute_result"
    }
   ],
   "source": [
    "# Fetching data and storing in respective list\n",
    "job=driver.find_elements(By.XPATH,'//a[@class=\"title ellipsis\"]')\n",
    "for i in job[0:10]:\n",
    "    job_title.append(i.text)\n",
    "job_title"
   ]
  },
  {
   "cell_type": "code",
   "execution_count": 453,
   "id": "c2e0b77d",
   "metadata": {},
   "outputs": [
    {
     "data": {
      "text/plain": [
       "['Bangalore/Bengaluru',\n",
       " 'Hybrid - Bangalore/ Bengaluru, Karnataka, Gurgaon/ Gurugram, Haryana',\n",
       " 'Bangalore/ Bengaluru, Karnataka',\n",
       " 'Bangalore/Bengaluru',\n",
       " 'Bangalore/Bengaluru, Chennai',\n",
       " 'Bangalore/Bengaluru',\n",
       " 'Hybrid - Bangalore/Bengaluru',\n",
       " 'Hybrid - Bangalore/Bengaluru, Delhi / NCR',\n",
       " 'Hybrid - Bangalore/Bengaluru, Delhi / NCR',\n",
       " 'Bangalore/Bengaluru, Kolkata, Hyderabad/Secunderabad, Pune, Chennai, Delhi / NCR']"
      ]
     },
     "execution_count": 453,
     "metadata": {},
     "output_type": "execute_result"
    }
   ],
   "source": [
    "# Fetching data and storing in respective list\n",
    "location=driver.find_elements(By.XPATH,'//span[@class=\"ellipsis fleft locWdth\"]')\n",
    "for i in location[0:10]:\n",
    "    job_location.append(i.text)\n",
    "job_location"
   ]
  },
  {
   "cell_type": "code",
   "execution_count": 454,
   "id": "07c7a7dc",
   "metadata": {},
   "outputs": [
    {
     "data": {
      "text/plain": [
       "['Target',\n",
       " 'Wipro',\n",
       " 'Artech',\n",
       " 'Brunel',\n",
       " 'Hitachi Energy',\n",
       " 'Hitachi Ltd.',\n",
       " 'HARMAN',\n",
       " 'Aon',\n",
       " 'Aon',\n",
       " 'Tata Consultancy Services (TCS)']"
      ]
     },
     "execution_count": 454,
     "metadata": {},
     "output_type": "execute_result"
    }
   ],
   "source": [
    "# Fetching data and storing in respective list\n",
    "company=driver.find_elements(By.XPATH,'//a[@class=\"subTitle ellipsis fleft\"]')\n",
    "for i in company[0:10]:\n",
    "    company_name.append(i.text)\n",
    "company_name"
   ]
  },
  {
   "cell_type": "code",
   "execution_count": 455,
   "id": "44a4860d",
   "metadata": {},
   "outputs": [
    {
     "data": {
      "text/plain": [
       "['2-4 Yrs',\n",
       " '3-6 Yrs',\n",
       " '5-8 Yrs',\n",
       " '4-6 Yrs',\n",
       " '3-6 Yrs',\n",
       " '2-7 Yrs',\n",
       " '3-5 Yrs',\n",
       " '6-9 Yrs',\n",
       " '6-9 Yrs',\n",
       " '5-10 Yrs']"
      ]
     },
     "execution_count": 455,
     "metadata": {},
     "output_type": "execute_result"
    }
   ],
   "source": [
    "# Fetching data and storing in respective list\n",
    "experience=driver.find_elements(By.XPATH,'//span[@class=\"ellipsis fleft expwdth\"]')\n",
    "for i in experience[0:10]:\n",
    "    experience_required.append(i.text)\n",
    "experience_required"
   ]
  },
  {
   "cell_type": "code",
   "execution_count": 456,
   "id": "d8334a46",
   "metadata": {},
   "outputs": [
    {
     "name": "stdout",
     "output_type": "stream",
     "text": [
      "10 10 10 10\n"
     ]
    }
   ],
   "source": [
    "# Checking the lengths of lists\n",
    "print(len(job_title),len(job_location),len(company_name),len(experience_required))"
   ]
  },
  {
   "cell_type": "code",
   "execution_count": 457,
   "id": "9517b5da",
   "metadata": {},
   "outputs": [
    {
     "data": {
      "text/html": [
       "<div>\n",
       "<style scoped>\n",
       "    .dataframe tbody tr th:only-of-type {\n",
       "        vertical-align: middle;\n",
       "    }\n",
       "\n",
       "    .dataframe tbody tr th {\n",
       "        vertical-align: top;\n",
       "    }\n",
       "\n",
       "    .dataframe thead th {\n",
       "        text-align: right;\n",
       "    }\n",
       "</style>\n",
       "<table border=\"1\" class=\"dataframe\">\n",
       "  <thead>\n",
       "    <tr style=\"text-align: right;\">\n",
       "      <th></th>\n",
       "      <th>Job Title</th>\n",
       "      <th>Location</th>\n",
       "      <th>Company</th>\n",
       "      <th>Experience Required</th>\n",
       "    </tr>\n",
       "  </thead>\n",
       "  <tbody>\n",
       "    <tr>\n",
       "      <th>1</th>\n",
       "      <td>Data Analyst</td>\n",
       "      <td>Bangalore/Bengaluru</td>\n",
       "      <td>Target</td>\n",
       "      <td>2-4 Yrs</td>\n",
       "    </tr>\n",
       "    <tr>\n",
       "      <th>2</th>\n",
       "      <td>Tech Data Analyst</td>\n",
       "      <td>Hybrid - Bangalore/ Bengaluru, Karnataka, Gurg...</td>\n",
       "      <td>Wipro</td>\n",
       "      <td>3-6 Yrs</td>\n",
       "    </tr>\n",
       "    <tr>\n",
       "      <th>3</th>\n",
       "      <td>Data Analyst</td>\n",
       "      <td>Bangalore/ Bengaluru, Karnataka</td>\n",
       "      <td>Artech</td>\n",
       "      <td>5-8 Yrs</td>\n",
       "    </tr>\n",
       "    <tr>\n",
       "      <th>4</th>\n",
       "      <td>Data Analyst</td>\n",
       "      <td>Bangalore/Bengaluru</td>\n",
       "      <td>Brunel</td>\n",
       "      <td>4-6 Yrs</td>\n",
       "    </tr>\n",
       "    <tr>\n",
       "      <th>5</th>\n",
       "      <td>Celonis &amp; Salesforce Data Analyst</td>\n",
       "      <td>Bangalore/Bengaluru, Chennai</td>\n",
       "      <td>Hitachi Energy</td>\n",
       "      <td>3-6 Yrs</td>\n",
       "    </tr>\n",
       "    <tr>\n",
       "      <th>6</th>\n",
       "      <td>Celonis &amp; Salesforce Data Analyst</td>\n",
       "      <td>Bangalore/Bengaluru</td>\n",
       "      <td>Hitachi Ltd.</td>\n",
       "      <td>2-7 Yrs</td>\n",
       "    </tr>\n",
       "    <tr>\n",
       "      <th>7</th>\n",
       "      <td>Data Analyst</td>\n",
       "      <td>Hybrid - Bangalore/Bengaluru</td>\n",
       "      <td>HARMAN</td>\n",
       "      <td>3-5 Yrs</td>\n",
       "    </tr>\n",
       "    <tr>\n",
       "      <th>8</th>\n",
       "      <td>Data Analyst</td>\n",
       "      <td>Hybrid - Bangalore/Bengaluru, Delhi / NCR</td>\n",
       "      <td>Aon</td>\n",
       "      <td>6-9 Yrs</td>\n",
       "    </tr>\n",
       "    <tr>\n",
       "      <th>9</th>\n",
       "      <td>Data Analyst</td>\n",
       "      <td>Hybrid - Bangalore/Bengaluru, Delhi / NCR</td>\n",
       "      <td>Aon</td>\n",
       "      <td>6-9 Yrs</td>\n",
       "    </tr>\n",
       "    <tr>\n",
       "      <th>10</th>\n",
       "      <td>Data Analyst</td>\n",
       "      <td>Bangalore/Bengaluru, Kolkata, Hyderabad/Secund...</td>\n",
       "      <td>Tata Consultancy Services (TCS)</td>\n",
       "      <td>5-10 Yrs</td>\n",
       "    </tr>\n",
       "  </tbody>\n",
       "</table>\n",
       "</div>"
      ],
      "text/plain": [
       "                            Job Title  \\\n",
       "1                        Data Analyst   \n",
       "2                   Tech Data Analyst   \n",
       "3                        Data Analyst   \n",
       "4                        Data Analyst   \n",
       "5   Celonis & Salesforce Data Analyst   \n",
       "6   Celonis & Salesforce Data Analyst   \n",
       "7                        Data Analyst   \n",
       "8                        Data Analyst   \n",
       "9                        Data Analyst   \n",
       "10                       Data Analyst   \n",
       "\n",
       "                                             Location  \\\n",
       "1                                 Bangalore/Bengaluru   \n",
       "2   Hybrid - Bangalore/ Bengaluru, Karnataka, Gurg...   \n",
       "3                     Bangalore/ Bengaluru, Karnataka   \n",
       "4                                 Bangalore/Bengaluru   \n",
       "5                        Bangalore/Bengaluru, Chennai   \n",
       "6                                 Bangalore/Bengaluru   \n",
       "7                        Hybrid - Bangalore/Bengaluru   \n",
       "8           Hybrid - Bangalore/Bengaluru, Delhi / NCR   \n",
       "9           Hybrid - Bangalore/Bengaluru, Delhi / NCR   \n",
       "10  Bangalore/Bengaluru, Kolkata, Hyderabad/Secund...   \n",
       "\n",
       "                            Company Experience Required  \n",
       "1                            Target             2-4 Yrs  \n",
       "2                             Wipro             3-6 Yrs  \n",
       "3                            Artech             5-8 Yrs  \n",
       "4                            Brunel             4-6 Yrs  \n",
       "5                    Hitachi Energy             3-6 Yrs  \n",
       "6                      Hitachi Ltd.             2-7 Yrs  \n",
       "7                            HARMAN             3-5 Yrs  \n",
       "8                               Aon             6-9 Yrs  \n",
       "9                               Aon             6-9 Yrs  \n",
       "10  Tata Consultancy Services (TCS)            5-10 Yrs  "
      ]
     },
     "execution_count": 457,
     "metadata": {},
     "output_type": "execute_result"
    }
   ],
   "source": [
    "# Creating dataframe\n",
    "df=pd.DataFrame({'Job Title':job_title,'Location':job_location,'Company':company_name,'Experience Required':experience_required},index=range(1,11))\n",
    "\n",
    "# Displaying dataframe\n",
    "df"
   ]
  },
  {
   "cell_type": "markdown",
   "id": "603242a9",
   "metadata": {},
   "source": [
    "2. Python program to scrape the data for the first 10 jobs for “Data Scientist” Job position in “Bangalore” location with the job-title, job-location, company_name details from the webpage https://www.naukri.com/  "
   ]
  },
  {
   "cell_type": "code",
   "execution_count": 458,
   "id": "610c8cc6",
   "metadata": {},
   "outputs": [
    {
     "data": {
      "text/plain": [
       "<Response [200]>"
      ]
     },
     "execution_count": 458,
     "metadata": {},
     "output_type": "execute_result"
    }
   ],
   "source": [
    "# Sending a request to a website for scraping data\n",
    "page=requests.get(\"https://www.naukri.com/\")\n",
    "page"
   ]
  },
  {
   "cell_type": "code",
   "execution_count": 459,
   "id": "19459d6d",
   "metadata": {},
   "outputs": [],
   "source": [
    "# Creating WebDriver instance for controlling the Chrome browser using Selenium\n",
    "driver=webdriver.Chrome(r\"chromedriver.exe\")"
   ]
  },
  {
   "cell_type": "code",
   "execution_count": 460,
   "id": "174c166a",
   "metadata": {},
   "outputs": [],
   "source": [
    "# Opening webpage in the browser window controlled by the WebDriver instance\n",
    "driver.get(\"https://www.naukri.com/\")"
   ]
  },
  {
   "cell_type": "code",
   "execution_count": 461,
   "id": "262bb2f3",
   "metadata": {},
   "outputs": [],
   "source": [
    "# Filling details in respective fields\n",
    "designation=driver.find_element(By.CLASS_NAME,\"suggestor-input\")\n",
    "designation.send_keys(\"Data Scientist\")\n",
    "\n",
    "location=driver.find_element(By.XPATH,\"/html/body/div[1]/div[7]/div/div/div[5]/div/div/div/div[1]/div/input\")\n",
    "location.send_keys(\"Bangalore\")\n",
    "\n",
    "# Clicking the search button\n",
    "search=driver.find_element(By.CLASS_NAME,\"qsbSubmit\")\n",
    "search.click()"
   ]
  },
  {
   "cell_type": "code",
   "execution_count": 462,
   "id": "8f50c9ee",
   "metadata": {},
   "outputs": [],
   "source": [
    "# Creating lists for storing data of job title, job location, company name and experience required\n",
    "job_title=[]\n",
    "job_location=[]\n",
    "company_name=[]\n",
    "experience_required=[]"
   ]
  },
  {
   "cell_type": "code",
   "execution_count": 463,
   "id": "a93ccd0d",
   "metadata": {},
   "outputs": [
    {
     "data": {
      "text/plain": [
       "['Permanent Opportunity - Data Scientist(Snaplogic&Snowflake), Pan India',\n",
       " 'Analystics & Modeling Specialist',\n",
       " 'Machine Learning (AI) Architect',\n",
       " 'Staff Data Scientist',\n",
       " 'Data Scientist',\n",
       " 'Hiring For Data Scientist',\n",
       " 'Data Scientist',\n",
       " 'Director/Senior Director - Data Science',\n",
       " 'Manager/Senior Manager - Data Science',\n",
       " 'Data Scientist']"
      ]
     },
     "execution_count": 463,
     "metadata": {},
     "output_type": "execute_result"
    }
   ],
   "source": [
    "# Fetching data and storing in respective list\n",
    "job=driver.find_elements(By.XPATH,'//a[@class=\"title ellipsis\"]')\n",
    "for i in job[0:10]:\n",
    "    job_title.append(i.text)\n",
    "job_title"
   ]
  },
  {
   "cell_type": "code",
   "execution_count": 464,
   "id": "270de657",
   "metadata": {},
   "outputs": [
    {
     "data": {
      "text/plain": [
       "['Hybrid - Bangalore/Bengaluru, Kolkata, Hyderabad/Secunderabad, Pune, Ahmedabad, Chennai, Delhi / NCR, Mumbai (All Areas)',\n",
       " 'Bangalore/Bengaluru, Kolkata, Mumbai, Hyderabad/Secunderabad, Pune, Chennai',\n",
       " 'Bangalore/Bengaluru, Kolkata, Mumbai, New Delhi, Hyderabad/Secunderabad, Pune, Chennai',\n",
       " 'Bangalore/Bengaluru',\n",
       " 'Bangalore/ Bengaluru, Karnataka',\n",
       " 'Hybrid - Bangalore/ Bengaluru, Karnataka, Hyderabad/ Secunderabad, Telangana, Chennai, Tamil Nadu',\n",
       " 'Hybrid - Bangalore/Bengaluru, Pune, Delhi / NCR, Mumbai (All Areas)',\n",
       " 'Bangalore/Bengaluru, Noida, Hyderabad/Secunderabad, Pune, Gurgaon/Gurugram',\n",
       " 'Bangalore/Bengaluru, Noida, Hyderabad/Secunderabad, Pune, Gurgaon/Gurugram',\n",
       " 'Bangalore/Bengaluru']"
      ]
     },
     "execution_count": 464,
     "metadata": {},
     "output_type": "execute_result"
    }
   ],
   "source": [
    "# Fetching data and storing in respective list\n",
    "location=driver.find_elements(By.XPATH,'//span[@class=\"ellipsis fleft locWdth\"]')\n",
    "for i in location[0:10]:\n",
    "    job_location.append(i.text)\n",
    "job_location"
   ]
  },
  {
   "cell_type": "code",
   "execution_count": 465,
   "id": "fdacd478",
   "metadata": {},
   "outputs": [
    {
     "data": {
      "text/plain": [
       "['Deloitte',\n",
       " 'Accenture',\n",
       " 'Persistent',\n",
       " 'Walmart',\n",
       " 'Tata Consultancy Services (TCS)',\n",
       " 'Tata Consultancy Services (TCS)',\n",
       " 'Infogain',\n",
       " 'Axtria India',\n",
       " 'Axtria India',\n",
       " 'Ericsson']"
      ]
     },
     "execution_count": 465,
     "metadata": {},
     "output_type": "execute_result"
    }
   ],
   "source": [
    "# Fetching data and storing in respective list\n",
    "company=driver.find_elements(By.XPATH,'//a[@class=\"subTitle ellipsis fleft\"]')\n",
    "for i in company[0:10]:\n",
    "    company_name.append(i.text)\n",
    "company_name"
   ]
  },
  {
   "cell_type": "code",
   "execution_count": 466,
   "id": "bd6b8630",
   "metadata": {},
   "outputs": [
    {
     "data": {
      "text/plain": [
       "['9-14 Yrs',\n",
       " '6-8 Yrs',\n",
       " '5-12 Yrs',\n",
       " '6-8 Yrs',\n",
       " '4-8 Yrs',\n",
       " '4-9 Yrs',\n",
       " '3-6 Yrs',\n",
       " '10-15 Yrs',\n",
       " '8-12 Yrs',\n",
       " '5-7 Yrs']"
      ]
     },
     "execution_count": 466,
     "metadata": {},
     "output_type": "execute_result"
    }
   ],
   "source": [
    "# Fetching data and storing in respective list\n",
    "experience=driver.find_elements(By.XPATH,'//span[@class=\"ellipsis fleft expwdth\"]')\n",
    "for i in experience[0:10]:\n",
    "    experience_required.append(i.text)\n",
    "experience_required"
   ]
  },
  {
   "cell_type": "code",
   "execution_count": 467,
   "id": "38f309db",
   "metadata": {},
   "outputs": [
    {
     "name": "stdout",
     "output_type": "stream",
     "text": [
      "10 10 10 10\n"
     ]
    }
   ],
   "source": [
    "# Checking the lengths of lists\n",
    "print(len(job_title),len(job_location),len(company_name),len(experience_required))"
   ]
  },
  {
   "cell_type": "code",
   "execution_count": 468,
   "id": "0d09f798",
   "metadata": {},
   "outputs": [
    {
     "data": {
      "text/html": [
       "<div>\n",
       "<style scoped>\n",
       "    .dataframe tbody tr th:only-of-type {\n",
       "        vertical-align: middle;\n",
       "    }\n",
       "\n",
       "    .dataframe tbody tr th {\n",
       "        vertical-align: top;\n",
       "    }\n",
       "\n",
       "    .dataframe thead th {\n",
       "        text-align: right;\n",
       "    }\n",
       "</style>\n",
       "<table border=\"1\" class=\"dataframe\">\n",
       "  <thead>\n",
       "    <tr style=\"text-align: right;\">\n",
       "      <th></th>\n",
       "      <th>Job Title</th>\n",
       "      <th>Location</th>\n",
       "      <th>Company</th>\n",
       "      <th>Experience Required</th>\n",
       "    </tr>\n",
       "  </thead>\n",
       "  <tbody>\n",
       "    <tr>\n",
       "      <th>1</th>\n",
       "      <td>Permanent Opportunity - Data Scientist(Snaplog...</td>\n",
       "      <td>Hybrid - Bangalore/Bengaluru, Kolkata, Hyderab...</td>\n",
       "      <td>Deloitte</td>\n",
       "      <td>9-14 Yrs</td>\n",
       "    </tr>\n",
       "    <tr>\n",
       "      <th>2</th>\n",
       "      <td>Analystics &amp; Modeling Specialist</td>\n",
       "      <td>Bangalore/Bengaluru, Kolkata, Mumbai, Hyderaba...</td>\n",
       "      <td>Accenture</td>\n",
       "      <td>6-8 Yrs</td>\n",
       "    </tr>\n",
       "    <tr>\n",
       "      <th>3</th>\n",
       "      <td>Machine Learning (AI) Architect</td>\n",
       "      <td>Bangalore/Bengaluru, Kolkata, Mumbai, New Delh...</td>\n",
       "      <td>Persistent</td>\n",
       "      <td>5-12 Yrs</td>\n",
       "    </tr>\n",
       "    <tr>\n",
       "      <th>4</th>\n",
       "      <td>Staff Data Scientist</td>\n",
       "      <td>Bangalore/Bengaluru</td>\n",
       "      <td>Walmart</td>\n",
       "      <td>6-8 Yrs</td>\n",
       "    </tr>\n",
       "    <tr>\n",
       "      <th>5</th>\n",
       "      <td>Data Scientist</td>\n",
       "      <td>Bangalore/ Bengaluru, Karnataka</td>\n",
       "      <td>Tata Consultancy Services (TCS)</td>\n",
       "      <td>4-8 Yrs</td>\n",
       "    </tr>\n",
       "    <tr>\n",
       "      <th>6</th>\n",
       "      <td>Hiring For Data Scientist</td>\n",
       "      <td>Hybrid - Bangalore/ Bengaluru, Karnataka, Hyde...</td>\n",
       "      <td>Tata Consultancy Services (TCS)</td>\n",
       "      <td>4-9 Yrs</td>\n",
       "    </tr>\n",
       "    <tr>\n",
       "      <th>7</th>\n",
       "      <td>Data Scientist</td>\n",
       "      <td>Hybrid - Bangalore/Bengaluru, Pune, Delhi / NC...</td>\n",
       "      <td>Infogain</td>\n",
       "      <td>3-6 Yrs</td>\n",
       "    </tr>\n",
       "    <tr>\n",
       "      <th>8</th>\n",
       "      <td>Director/Senior Director - Data Science</td>\n",
       "      <td>Bangalore/Bengaluru, Noida, Hyderabad/Secunder...</td>\n",
       "      <td>Axtria India</td>\n",
       "      <td>10-15 Yrs</td>\n",
       "    </tr>\n",
       "    <tr>\n",
       "      <th>9</th>\n",
       "      <td>Manager/Senior Manager - Data Science</td>\n",
       "      <td>Bangalore/Bengaluru, Noida, Hyderabad/Secunder...</td>\n",
       "      <td>Axtria India</td>\n",
       "      <td>8-12 Yrs</td>\n",
       "    </tr>\n",
       "    <tr>\n",
       "      <th>10</th>\n",
       "      <td>Data Scientist</td>\n",
       "      <td>Bangalore/Bengaluru</td>\n",
       "      <td>Ericsson</td>\n",
       "      <td>5-7 Yrs</td>\n",
       "    </tr>\n",
       "  </tbody>\n",
       "</table>\n",
       "</div>"
      ],
      "text/plain": [
       "                                            Job Title  \\\n",
       "1   Permanent Opportunity - Data Scientist(Snaplog...   \n",
       "2                    Analystics & Modeling Specialist   \n",
       "3                     Machine Learning (AI) Architect   \n",
       "4                                Staff Data Scientist   \n",
       "5                                      Data Scientist   \n",
       "6                           Hiring For Data Scientist   \n",
       "7                                      Data Scientist   \n",
       "8             Director/Senior Director - Data Science   \n",
       "9               Manager/Senior Manager - Data Science   \n",
       "10                                     Data Scientist   \n",
       "\n",
       "                                             Location  \\\n",
       "1   Hybrid - Bangalore/Bengaluru, Kolkata, Hyderab...   \n",
       "2   Bangalore/Bengaluru, Kolkata, Mumbai, Hyderaba...   \n",
       "3   Bangalore/Bengaluru, Kolkata, Mumbai, New Delh...   \n",
       "4                                 Bangalore/Bengaluru   \n",
       "5                     Bangalore/ Bengaluru, Karnataka   \n",
       "6   Hybrid - Bangalore/ Bengaluru, Karnataka, Hyde...   \n",
       "7   Hybrid - Bangalore/Bengaluru, Pune, Delhi / NC...   \n",
       "8   Bangalore/Bengaluru, Noida, Hyderabad/Secunder...   \n",
       "9   Bangalore/Bengaluru, Noida, Hyderabad/Secunder...   \n",
       "10                                Bangalore/Bengaluru   \n",
       "\n",
       "                            Company Experience Required  \n",
       "1                          Deloitte            9-14 Yrs  \n",
       "2                         Accenture             6-8 Yrs  \n",
       "3                        Persistent            5-12 Yrs  \n",
       "4                           Walmart             6-8 Yrs  \n",
       "5   Tata Consultancy Services (TCS)             4-8 Yrs  \n",
       "6   Tata Consultancy Services (TCS)             4-9 Yrs  \n",
       "7                          Infogain             3-6 Yrs  \n",
       "8                      Axtria India           10-15 Yrs  \n",
       "9                      Axtria India            8-12 Yrs  \n",
       "10                         Ericsson             5-7 Yrs  "
      ]
     },
     "execution_count": 468,
     "metadata": {},
     "output_type": "execute_result"
    }
   ],
   "source": [
    "# Creating dataframe\n",
    "df=pd.DataFrame({'Job Title':job_title,'Location':job_location,'Company':company_name,'Experience Required':experience_required},index=range(1,11))\n",
    "\n",
    "# Displaying dataframe\n",
    "df"
   ]
  },
  {
   "cell_type": "markdown",
   "id": "913d4419",
   "metadata": {},
   "source": [
    "3. Python program to scrape the data for the first 10 jobs for “Data Scientist” Job position in “Bangalore” location with the job-title, job-location, company_name details from the webpage https://www.naukri.com/ using the location filter “Delhi/NCR” and  the salary filter “3-6” lakhs"
   ]
  },
  {
   "cell_type": "code",
   "execution_count": 469,
   "id": "5d7fc4d3",
   "metadata": {},
   "outputs": [
    {
     "data": {
      "text/plain": [
       "<Response [200]>"
      ]
     },
     "execution_count": 469,
     "metadata": {},
     "output_type": "execute_result"
    }
   ],
   "source": [
    "# Sending a request to a website for scraping data\n",
    "page=requests.get(\"https://www.naukri.com/\")\n",
    "page"
   ]
  },
  {
   "cell_type": "code",
   "execution_count": 470,
   "id": "4b8bed76",
   "metadata": {},
   "outputs": [],
   "source": [
    "# Creating WebDriver instance for controlling the Chrome browser using Selenium\n",
    "driver=webdriver.Chrome(r\"chromedriver.exe\")"
   ]
  },
  {
   "cell_type": "code",
   "execution_count": 471,
   "id": "dc3dce9a",
   "metadata": {},
   "outputs": [],
   "source": [
    "# Opening webpage in the browser window controlled by the WebDriver instance\n",
    "driver.get(\"https://www.naukri.com/\")"
   ]
  },
  {
   "cell_type": "code",
   "execution_count": 472,
   "id": "bf46094b",
   "metadata": {},
   "outputs": [],
   "source": [
    "# Filling details in respective field\n",
    "designation=driver.find_element(By.CLASS_NAME,\"suggestor-input\")\n",
    "designation.send_keys(\"Data Scientist\")\n",
    "\n",
    "# Clicking the search button\n",
    "search=driver.find_element(By.CLASS_NAME,\"qsbSubmit\")\n",
    "search.click()"
   ]
  },
  {
   "cell_type": "code",
   "execution_count": 473,
   "id": "a574665e",
   "metadata": {},
   "outputs": [],
   "source": [
    "# Applying location filter \"Delhi / NCR\"\n",
    "location_filter = driver.find_element(By.XPATH,'//span[@class=\"ellipsis fleft filterLabel\" and @title=\"Delhi / NCR\"]')\n",
    "location_filter.click()"
   ]
  },
  {
   "cell_type": "code",
   "execution_count": 474,
   "id": "eef305a3",
   "metadata": {},
   "outputs": [],
   "source": [
    "# Applying salary filter \"0-3 Lakhs\"\n",
    "salary_filter = driver.find_element(By.XPATH,'//span[@class=\"ellipsis fleft filterLabel\" and @title=\"0-3 Lakhs\"]')\n",
    "salary_filter.click()"
   ]
  },
  {
   "cell_type": "code",
   "execution_count": 475,
   "id": "997595a4",
   "metadata": {},
   "outputs": [],
   "source": [
    "# Creating lists for storing data of job title, job location, company name and experience required\n",
    "job_title=[]\n",
    "job_location=[]\n",
    "company_name=[]\n",
    "experience_required=[]"
   ]
  },
  {
   "cell_type": "code",
   "execution_count": 476,
   "id": "70051398",
   "metadata": {},
   "outputs": [
    {
     "data": {
      "text/plain": [
       "['Junior Data Scientist',\n",
       " 'Data Scientist',\n",
       " 'Intern',\n",
       " 'Data Scientist - Healthcare Domain',\n",
       " 'Modeler']"
      ]
     },
     "execution_count": 476,
     "metadata": {},
     "output_type": "execute_result"
    }
   ],
   "source": [
    "# Fetching data and storing in respective list\n",
    "job=driver.find_elements(By.XPATH,'//a[@class=\"title ellipsis\"]')\n",
    "for i in job[0:10]:\n",
    "    job_title.append(i.text)\n",
    "job_title"
   ]
  },
  {
   "cell_type": "code",
   "execution_count": null,
   "id": "8c4e67e1",
   "metadata": {},
   "outputs": [],
   "source": [
    "# Only 5 jobs are appearing for location filter \"Delhi / NCR\" and salary filter \"0-3 Lakhs\""
   ]
  },
  {
   "cell_type": "code",
   "execution_count": 477,
   "id": "ff156c93",
   "metadata": {},
   "outputs": [
    {
     "data": {
      "text/plain": [
       "['Kolkata, Mumbai, New Delhi, Hyderabad/Secunderabad, Pune, Chennai, Bangalore/Bengaluru',\n",
       " 'Delhi / NCR',\n",
       " 'Gurgaon/Gurugram',\n",
       " 'Noida, Bhubaneswar, Pune, Bangalore/Bengaluru',\n",
       " 'Noida']"
      ]
     },
     "execution_count": 477,
     "metadata": {},
     "output_type": "execute_result"
    }
   ],
   "source": [
    "# Fetching data and storing in respective list\n",
    "location=driver.find_elements(By.XPATH,'//span[@class=\"ellipsis fleft locWdth\"]')\n",
    "for i in location[0:10]:\n",
    "    job_location.append(i.text)\n",
    "job_location"
   ]
  },
  {
   "cell_type": "code",
   "execution_count": 478,
   "id": "dbabfa98",
   "metadata": {},
   "outputs": [
    {
     "data": {
      "text/plain": [
       "['Analytos',\n",
       " 'Tata Consultancy Services (TCS)',\n",
       " 'Tower Research Capital',\n",
       " 'E Solutions',\n",
       " 'Resource Access Management Solutions Pvt. Ltd.']"
      ]
     },
     "execution_count": 478,
     "metadata": {},
     "output_type": "execute_result"
    }
   ],
   "source": [
    "# Fetching data and storing in respective list\n",
    "company=driver.find_elements(By.XPATH,'//a[@class=\"subTitle ellipsis fleft\"]')\n",
    "for i in company[0:10]:\n",
    "    company_name.append(i.text)\n",
    "company_name"
   ]
  },
  {
   "cell_type": "code",
   "execution_count": 479,
   "id": "2c3e6079",
   "metadata": {},
   "outputs": [
    {
     "data": {
      "text/plain": [
       "['0-2 Yrs', '7-12 Yrs', '0-1 Yrs', '8-12 Yrs', '3-7 Yrs']"
      ]
     },
     "execution_count": 479,
     "metadata": {},
     "output_type": "execute_result"
    }
   ],
   "source": [
    "# Fetching data and storing in respective list\n",
    "experience=driver.find_elements(By.XPATH,'//span[@class=\"ellipsis fleft expwdth\"]')\n",
    "for i in experience[0:10]:\n",
    "    experience_required.append(i.text)\n",
    "experience_required"
   ]
  },
  {
   "cell_type": "code",
   "execution_count": 480,
   "id": "78d62438",
   "metadata": {},
   "outputs": [
    {
     "name": "stdout",
     "output_type": "stream",
     "text": [
      "5 5 5 5\n"
     ]
    }
   ],
   "source": [
    "# Checking lengths of lists\n",
    "print(len(job_title),len(job_location),len(company_name),len(experience_required))"
   ]
  },
  {
   "cell_type": "code",
   "execution_count": 481,
   "id": "495d27c4",
   "metadata": {},
   "outputs": [
    {
     "data": {
      "text/html": [
       "<div>\n",
       "<style scoped>\n",
       "    .dataframe tbody tr th:only-of-type {\n",
       "        vertical-align: middle;\n",
       "    }\n",
       "\n",
       "    .dataframe tbody tr th {\n",
       "        vertical-align: top;\n",
       "    }\n",
       "\n",
       "    .dataframe thead th {\n",
       "        text-align: right;\n",
       "    }\n",
       "</style>\n",
       "<table border=\"1\" class=\"dataframe\">\n",
       "  <thead>\n",
       "    <tr style=\"text-align: right;\">\n",
       "      <th></th>\n",
       "      <th>Job Title</th>\n",
       "      <th>Location</th>\n",
       "      <th>Company</th>\n",
       "      <th>Experience Required</th>\n",
       "    </tr>\n",
       "  </thead>\n",
       "  <tbody>\n",
       "    <tr>\n",
       "      <th>0</th>\n",
       "      <td>Junior Data Scientist</td>\n",
       "      <td>Kolkata, Mumbai, New Delhi, Hyderabad/Secunder...</td>\n",
       "      <td>Analytos</td>\n",
       "      <td>0-2 Yrs</td>\n",
       "    </tr>\n",
       "    <tr>\n",
       "      <th>1</th>\n",
       "      <td>Data Scientist</td>\n",
       "      <td>Delhi / NCR</td>\n",
       "      <td>Tata Consultancy Services (TCS)</td>\n",
       "      <td>7-12 Yrs</td>\n",
       "    </tr>\n",
       "    <tr>\n",
       "      <th>2</th>\n",
       "      <td>Intern</td>\n",
       "      <td>Gurgaon/Gurugram</td>\n",
       "      <td>Tower Research Capital</td>\n",
       "      <td>0-1 Yrs</td>\n",
       "    </tr>\n",
       "    <tr>\n",
       "      <th>3</th>\n",
       "      <td>Data Scientist - Healthcare Domain</td>\n",
       "      <td>Noida, Bhubaneswar, Pune, Bangalore/Bengaluru</td>\n",
       "      <td>E Solutions</td>\n",
       "      <td>8-12 Yrs</td>\n",
       "    </tr>\n",
       "    <tr>\n",
       "      <th>4</th>\n",
       "      <td>Modeler</td>\n",
       "      <td>Noida</td>\n",
       "      <td>Resource Access Management Solutions Pvt. Ltd.</td>\n",
       "      <td>3-7 Yrs</td>\n",
       "    </tr>\n",
       "  </tbody>\n",
       "</table>\n",
       "</div>"
      ],
      "text/plain": [
       "                            Job Title  \\\n",
       "0               Junior Data Scientist   \n",
       "1                      Data Scientist   \n",
       "2                              Intern   \n",
       "3  Data Scientist - Healthcare Domain   \n",
       "4                             Modeler   \n",
       "\n",
       "                                            Location  \\\n",
       "0  Kolkata, Mumbai, New Delhi, Hyderabad/Secunder...   \n",
       "1                                        Delhi / NCR   \n",
       "2                                   Gurgaon/Gurugram   \n",
       "3      Noida, Bhubaneswar, Pune, Bangalore/Bengaluru   \n",
       "4                                              Noida   \n",
       "\n",
       "                                          Company Experience Required  \n",
       "0                                        Analytos             0-2 Yrs  \n",
       "1                 Tata Consultancy Services (TCS)            7-12 Yrs  \n",
       "2                          Tower Research Capital             0-1 Yrs  \n",
       "3                                     E Solutions            8-12 Yrs  \n",
       "4  Resource Access Management Solutions Pvt. Ltd.             3-7 Yrs  "
      ]
     },
     "execution_count": 481,
     "metadata": {},
     "output_type": "execute_result"
    }
   ],
   "source": [
    "# Creating dataframe\n",
    "df=pd.DataFrame({'Job Title':job_title,'Location':job_location,'Company':company_name,'Experience Required':experience_required})\n",
    "\n",
    "# Displaying dataframe\n",
    "df"
   ]
  },
  {
   "cell_type": "markdown",
   "id": "0420c651",
   "metadata": {},
   "source": [
    "4. Python program to scrape below data of first 100 sunglasses listings on https://www.flipkart.com/ and display following below details -\n",
    "   \n",
    "   \n",
    "  1. Brand\n",
    "\n",
    "\n",
    "  2. Product Description\n",
    "\n",
    "\n",
    "  3. Price"
   ]
  },
  {
   "cell_type": "code",
   "execution_count": 482,
   "id": "b144819a",
   "metadata": {},
   "outputs": [
    {
     "data": {
      "text/plain": [
       "<Response [200]>"
      ]
     },
     "execution_count": 482,
     "metadata": {},
     "output_type": "execute_result"
    }
   ],
   "source": [
    "# Sending a request to a website for scraping data\n",
    "page=requests.get(\"https://www.flipkart.com/\")\n",
    "page"
   ]
  },
  {
   "cell_type": "code",
   "execution_count": 483,
   "id": "de8c2d7e",
   "metadata": {},
   "outputs": [],
   "source": [
    "# Creating WebDriver instance for controlling the Chrome browser using Selenium\n",
    "driver=webdriver.Chrome(r\"chromedriver.exe\")"
   ]
  },
  {
   "cell_type": "code",
   "execution_count": 484,
   "id": "b4cfcd25",
   "metadata": {},
   "outputs": [],
   "source": [
    "# Opening webpage in the browser window controlled by the WebDriver instance\n",
    "driver.get(\"https://www.flipkart.com/\")"
   ]
  },
  {
   "cell_type": "code",
   "execution_count": 485,
   "id": "1f599bb7",
   "metadata": {},
   "outputs": [],
   "source": [
    "# Cancelling login pop up\n",
    "cancel_login_popup=driver.find_element(By.XPATH,\"//button[@class='_2KpZ6l _2doB4z']\")\n",
    "cancel_login_popup.click()"
   ]
  },
  {
   "cell_type": "code",
   "execution_count": 486,
   "id": "0ac00f9a",
   "metadata": {},
   "outputs": [],
   "source": [
    "# Filling details in respective field\n",
    "product=driver.find_element(By.CLASS_NAME,\"_3704LK\")\n",
    "product.send_keys(\"sunglasses\")\n",
    "\n",
    "# Clicking the search button\n",
    "search=driver.find_element(By.CLASS_NAME,\"L0Z3Pu\")\n",
    "search.click()"
   ]
  },
  {
   "cell_type": "code",
   "execution_count": 487,
   "id": "d21c8848",
   "metadata": {},
   "outputs": [],
   "source": [
    "# Creating lists for storing data of brand, product description and price\n",
    "product_brand=[]\n",
    "product_description=[]\n",
    "product_price=[]"
   ]
  },
  {
   "cell_type": "code",
   "execution_count": 491,
   "id": "f3e26262",
   "metadata": {},
   "outputs": [],
   "source": [
    "# 1 Webpage has 40 sunglasses details therefore 3 pages will have details of 120 sunglasses out of which 100 need to be displayed"
   ]
  },
  {
   "cell_type": "code",
   "execution_count": 488,
   "id": "e4cca0aa",
   "metadata": {},
   "outputs": [],
   "source": [
    "# Fetching data from webpages and storing in respective lists\n",
    "start=0\n",
    "end=3\n",
    "for page in range(start,end):\n",
    "    \n",
    "    brand=driver.find_elements(By.XPATH,'//div[@class=\"_2WkVRV\"]')\n",
    "    for i in brand:\n",
    "        product_brand.append(i.text)\n",
    "    product_brand\n",
    "    \n",
    "    description=driver.find_elements(By.XPATH,\"//*[contains(@class,'IRpwTa') or contains(@class,'IRpwTa _2-ICcC')]\")\n",
    "    for i in description:\n",
    "        product_description.append(i.text)\n",
    "    product_description\n",
    "    \n",
    "    price=driver.find_elements(By.XPATH,\"//div[@class='_30jeq3']\")\n",
    "    for i in price:\n",
    "        product_price.append(i.text)\n",
    "    product_price\n",
    "    \n",
    "    next_page=driver.find_element(By.XPATH,\"//a[contains(@class,'_1LKTO3') and span[text()='Next']]\")\n",
    "    next_page.click()\n",
    "    time.sleep(3)"
   ]
  },
  {
   "cell_type": "code",
   "execution_count": 489,
   "id": "f31836b3",
   "metadata": {},
   "outputs": [],
   "source": [
    "# Displaying data of all lists"
   ]
  },
  {
   "cell_type": "code",
   "execution_count": 492,
   "id": "8c7571f4",
   "metadata": {
    "scrolled": true
   },
   "outputs": [
    {
     "name": "stdout",
     "output_type": "stream",
     "text": [
      "['Dervin', 'ROYAL SON', 'SRPM', 'Elligator', 'Fastrack', 'PIRASO', 'Elligator', 'LIZA ANGEL', 'SRPM', 'PIRASO', 'BKGE', 'VINCENT CHASE', 'Elligator', 'Fastrack', 'Elligator', 'AISLIN', 'Elligator', 'Fastrack', 'Fastrack', 'AISLIN', 'PIRASO', 'Fastrack', 'iCopertina', 'AISLIN', 'Fastrack', 'PIRASO', 'SUNBEE', 'AISLIN', 'Fastrack', 'Fastrack', 'Fastrack', 'AISLIN', 'like future', 'SUNBEE', 'PIRASO', 'AISLIN', 'VINCENT CHASE', 'Fastrack', 'Fastrack', 'VINCENT CHASE', 'Fastrack', 'iCopertina', 'NuVew', 'VINCENT CHASE', 'PIRASO', 'GANSTA', 'Fastrack', 'ROYAL SON', 'VINCENT CHASE', 'Elligator', 'PIRASO', 'style guru', 'PIRASO', 'SUNBEE', 'PIRASO', 'ROYAL SON', 'METRONAUT', 'Fastrack', 'DEIXELS', 'ROYAL SON', 'PIRASO', 'ROZZETTA CRAFT', 'Elligator', 'VINCENT CHASE', 'Elligator', 'ROZZETTA CRAFT', 'NuVew', 'ROYAL SON', 'VINCENT CHASE', 'NuVew', 'Fastrack', 'AISLIN', 'SRPM', 'PIRASO', 'VINCENT CHASE', 'AISLIN', 'Fastrack', 'LIZA ANGEL', 'GANSTA', 'VINCENT CHASE', 'Fastrack', 'Rich Club', 'NuVew', 'ROZIOR', 'Ray-Ban', 'PIRASO', 'PIRASO', 'ROYAL SON', 'PIRASO', 'ROZZETTA CRAFT', 'Elligator', 'AISLIN', 'Fastrack', 'GANSTA', 'kingsunglasses', 'AISLIN', 'PIRASO', 'GANSTA', 'SRPM', 'ROZZETTA CRAFT', 'ROYAL SON', 'VINCENT CHASE', 'SUNBEE', 'AISLIN', 'VINCENT CHASE', 'ROYAL SON', 'Rich Club', 'AISLIN', 'VINCENT CHASE', 'Fastrack', 'Rich Club', 'ROYAL SON', 'VINCENT CHASE', 'VINCENT CHASE', 'VINCENT CHASE', 'AISLIN', 'PIRASO', 'Fastrack', 'PIRASO', 'AISLIN']\n"
     ]
    }
   ],
   "source": [
    "print(product_brand)"
   ]
  },
  {
   "cell_type": "code",
   "execution_count": 493,
   "id": "139649cf",
   "metadata": {
    "scrolled": false
   },
   "outputs": [
    {
     "name": "stdout",
     "output_type": "stream",
     "text": [
      "['UV Protection Wayfarer Sunglasses (Free Size)', 'UV Protection Rectangular, Retro Square Sunglasses (58)', 'UV Protection Wayfarer Sunglasses (50)', 'UV Protection Cat-eye, Retro Square, Oval, Round Sungla...', 'UV Protection Rectangular Sunglasses (Free Size)', 'UV Protection Clubmaster Sunglasses (54)', 'UV Protection Aviator, Wayfarer Sunglasses (54)', 'UV Protection Sports, Sports Sunglasses (60)', 'UV Protection Wayfarer Sunglasses (50)', 'UV Protection Aviator Sunglasses (Free Size)', 'Polarized, UV Protection Retro Square Sunglasses (55)', 'by Lenskart Polarized, UV Protection Round Sunglasses (...', 'UV Protection, Mirrored Wayfarer Sunglasses (54)', 'Gradient, UV Protection Wayfarer Sunglasses (Free Size)', 'UV Protection Round Sunglasses (53)', 'Toughened Glass Lens, UV Protection Aviator, Wayfarer S...', 'UV Protection Round Sunglasses (53)', 'UV Protection Shield Sunglasses (Free Size)', 'UV Protection Wayfarer Sunglasses (Free Size)', 'Toughened Glass Lens, UV Protection Wayfarer, Rectangul...', 'UV Protection Wayfarer Sunglasses (56)', 'UV Protection Wayfarer Sunglasses (Free Size)', 'UV Protection Retro Square Sunglasses (Free Size)', 'UV Protection, Gradient Retro Square, Over-sized Sungla...', 'UV Protection Wayfarer Sunglasses (58)', 'UV Protection Over-sized Sunglasses (65)', 'UV Protection, Polarized Wayfarer Sunglasses (Free Size...', 'Toughened Glass Lens, UV Protection Wayfarer, Rectangul...', 'UV Protection Aviator Sunglasses (57)', 'UV Protection Wayfarer Sunglasses (Free Size)', 'Gradient, UV Protection Wayfarer Sunglasses (Free Size)', 'UV Protection Wayfarer, Rectangular Sunglasses (53)', 'UV Protection Rectangular Sunglasses (Free Size)', 'UV Protection, Polarized, Mirrored Retro Square Sunglas...', 'UV Protection Wayfarer Sunglasses (56)', 'UV Protection Oval Sunglasses (60)', 'by Lenskart Polarized, UV Protection Retro Square Sungl...', 'UV Protection Wayfarer Sunglasses (Free Size)', 'UV Protection Aviator Sunglasses (58)', 'by Lenskart UV Protection Clubmaster Sunglasses (55)', 'Mirrored, UV Protection Wayfarer Sunglasses (Free Size)', 'UV Protection Wayfarer Sunglasses (Free Size)', 'UV Protection Aviator Sunglasses (57)', 'by Lenskart Polarized, UV Protection Wayfarer Sunglasse...', 'UV Protection Aviator Sunglasses (58)', 'Gradient, UV Protection Aviator Sunglasses (57)', 'UV Protection Aviator Sunglasses (Free Size)', 'Polarized Rectangular Sunglasses (60)', 'Polarized, UV Protection Rectangular Sunglasses (59)', 'UV Protection Cat-eye, Retro Square, Oval, Round Sungla...', 'UV Protection Cat-eye Sunglasses (55)', 'Mirrored, Night Vision, UV Protection Wayfarer, Aviator...', 'UV Protection Rectangular Sunglasses (52)', 'UV Protection, Polarized, Mirrored Wayfarer Sunglasses ...', 'UV Protection Wayfarer Sunglasses (32)', 'UV Protection Retro Square Sunglasses (58)', 'UV Protection Sunglass', 'Gradient, UV Protection Retro Square Sunglasses (56)', 'Polarized, UV Protection, Riding Glasses Wayfarer Sungl...', 'Polarized, UV Protection Retro Square Sunglasses (62)', 'UV Protection Butterfly Sunglasses (60)', 'Polarized, Riding Glasses Sports, Wrap-around Sunglasse...', 'UV Protection Wayfarer Sunglasses (53)', 'by Lenskart Polarized, UV Protection Wayfarer Sunglasse...', 'UV Protection Round Sunglasses (54)', 'UV Protection Retro Square Sunglasses (Free Size)', 'UV Protection, Night Vision, Riding Glasses Aviator Sun...', 'Polarized, UV Protection Retro Square Sunglasses (55)', 'Polarized, UV Protection Round Sunglasses (51)', 'UV Protection, Mirrored Aviator Sunglasses (57)', 'UV Protection Aviator Sunglasses (58)', 'Toughened Glass Lens, UV Protection Wayfarer, Retro Squ...', 'Night Vision, UV Protection Round Sunglasses (54)', 'UV Protection Aviator Sunglasses (54)', 'UV Protection Wayfarer Sunglasses (62)', 'Polarized, UV Protection Aviator Sunglasses (60)', 'UV Protection Sports Sunglasses (Free Size)', 'UV Protection, Night Vision, Riding Glasses Wayfarer Su...', 'UV Protection, Gradient Wayfarer, Round Sunglasses (53)', 'UV Protection Round Sunglasses (47)', 'Polarized Wayfarer Sunglasses (55)', 'UV Protection Retro Square Sunglasses (54)', 'UV Protection, Mirrored, Night Vision, Riding Glasses S...', 'UV Protection Wayfarer Sunglasses (40)', 'UV Protection Round Sunglasses (50)', 'UV Protection Aviator Sunglasses (55)', 'UV Protection Oval Sunglasses (54)', 'Polarized, UV Protection Retro Square Sunglasses (62)', 'UV Protection Butterfly Sunglasses (60)', 'UV Protection, Gradient Rectangular Sunglasses (Free Si...', 'Others Cat-eye, Retro Square, Wayfarer Sunglasses (54)', 'UV Protection, Gradient Wayfarer, Rectangular Sunglasse...', 'UV Protection Wayfarer Sunglasses (58)', 'UV Protection, Riding Glasses Aviator Sunglasses (57)', 'UV Protection Rectangular Sunglasses (Free Size)', 'UV Protection Oval Sunglasses (60)', 'UV Protection Aviator Sunglasses (54)', 'UV Protection Retro Square, Round Sunglasses (53)', 'UV Protection Wayfarer Sunglasses (53)', 'UV Protection Wrap-around Sunglasses (Free Size)', 'Polarized, UV Protection Retro Square Sunglasses (62)', 'Polarized, UV Protection Round Sunglasses (51)', 'UV Protection Rectangular Sunglasses (Free Size)', 'Toughened Glass Lens, UV Protection Aviator Sunglasses ...', 'by Lenskart Polarized, UV Protection Aviator Sunglasses...', 'UV Protection Over-sized, Retro Square Sunglasses (61)', 'UV Protection Retro Square Sunglasses (54)', 'UV Protection Wayfarer, Rectangular Sunglasses (58)', 'by Lenskart Polarized, UV Protection Wayfarer Sunglasse...', 'UV Protection Wayfarer Sunglasses (Free Size)', 'UV Protection Round Sunglasses (50)', 'Polarized Aviator Sunglasses (56)', 'by Lenskart Polarized, UV Protection Wayfarer Sunglasse...', 'by Lenskart Polarized, UV Protection Round Sunglasses (...', 'UV Protection, Polarized Rectangular Sunglasses (55)', 'UV Protection Oval, Aviator Sunglasses (60)', 'UV Protection Over-sized Sunglasses (64)', 'UV Protection Wayfarer Sunglasses (Free Size)', 'UV Protection Butterfly Sunglasses (65)', 'UV Protection Oval, Aviator Sunglasses (63)']\n"
     ]
    }
   ],
   "source": [
    "print(product_description)"
   ]
  },
  {
   "cell_type": "code",
   "execution_count": 494,
   "id": "e0cbb734",
   "metadata": {},
   "outputs": [
    {
     "name": "stdout",
     "output_type": "stream",
     "text": [
      "['₹234', '₹471', '₹216', '₹213', '₹499', '₹239', '₹109', '₹399', '₹179', '₹268', '₹149', '₹749', '₹179', '₹569', '₹149', '₹745', '₹149', '₹569', '₹609', '₹748', '₹214', '₹566', '₹199', '₹520', '₹609', '₹415', '₹315', '₹704', '₹857', '₹609', '₹559', '₹560', '₹190', '₹259', '₹192', '₹598', '₹873', '₹519', '₹869', '₹749', '₹609', '₹197', '₹125', '₹688', '₹352', '₹311', '₹599', '₹699', '₹873', '₹129', '₹194', '₹899', '₹192', '₹293', '₹260', '₹449', '₹259', '₹539', '₹211', '₹674', '₹373', '₹449', '₹221', '₹636', '₹306', '₹489', '₹129', '₹551', '₹965', '₹125', '₹919', '₹582', '₹238', '₹212', '₹597', '₹593', '₹584', '₹249', '₹311', '₹569', '₹539', '₹258', '₹275', '₹349', '₹5,169', '₹216', '₹269', '₹674', '₹406', '₹423', '₹149', '₹537', '₹719', '₹311', '₹180', '₹560', '₹208', '₹224', '₹199', '₹539', '₹674', '₹965', '₹195', '₹704', '₹673', '₹524', '₹479', '₹525', '₹639', '₹529', '₹359', '₹899', '₹688', '₹719', '₹794', '₹701', '₹373', '₹569', '₹404', '₹995']\n"
     ]
    }
   ],
   "source": [
    "print(product_price)"
   ]
  },
  {
   "cell_type": "code",
   "execution_count": 495,
   "id": "a28a1800",
   "metadata": {
    "scrolled": true
   },
   "outputs": [
    {
     "name": "stdout",
     "output_type": "stream",
     "text": [
      "120\n",
      "120\n",
      "120\n"
     ]
    }
   ],
   "source": [
    "# Checking the lengths of lists\n",
    "print(len(product_brand))\n",
    "print(len(product_description))\n",
    "print(len(product_price))"
   ]
  },
  {
   "cell_type": "code",
   "execution_count": 496,
   "id": "0a71d757",
   "metadata": {},
   "outputs": [],
   "source": [
    "# Only 100 sunglasses details need to be displayed"
   ]
  },
  {
   "cell_type": "code",
   "execution_count": 497,
   "id": "2bb99a30",
   "metadata": {},
   "outputs": [
    {
     "data": {
      "text/html": [
       "<div>\n",
       "<style scoped>\n",
       "    .dataframe tbody tr th:only-of-type {\n",
       "        vertical-align: middle;\n",
       "    }\n",
       "\n",
       "    .dataframe tbody tr th {\n",
       "        vertical-align: top;\n",
       "    }\n",
       "\n",
       "    .dataframe thead th {\n",
       "        text-align: right;\n",
       "    }\n",
       "</style>\n",
       "<table border=\"1\" class=\"dataframe\">\n",
       "  <thead>\n",
       "    <tr style=\"text-align: right;\">\n",
       "      <th></th>\n",
       "      <th>Brand</th>\n",
       "      <th>Description</th>\n",
       "      <th>Price</th>\n",
       "    </tr>\n",
       "  </thead>\n",
       "  <tbody>\n",
       "    <tr>\n",
       "      <th>1</th>\n",
       "      <td>Dervin</td>\n",
       "      <td>UV Protection Wayfarer Sunglasses (Free Size)</td>\n",
       "      <td>₹234</td>\n",
       "    </tr>\n",
       "    <tr>\n",
       "      <th>2</th>\n",
       "      <td>ROYAL SON</td>\n",
       "      <td>UV Protection Rectangular, Retro Square Sungla...</td>\n",
       "      <td>₹471</td>\n",
       "    </tr>\n",
       "    <tr>\n",
       "      <th>3</th>\n",
       "      <td>SRPM</td>\n",
       "      <td>UV Protection Wayfarer Sunglasses (50)</td>\n",
       "      <td>₹216</td>\n",
       "    </tr>\n",
       "    <tr>\n",
       "      <th>4</th>\n",
       "      <td>Elligator</td>\n",
       "      <td>UV Protection Cat-eye, Retro Square, Oval, Rou...</td>\n",
       "      <td>₹213</td>\n",
       "    </tr>\n",
       "    <tr>\n",
       "      <th>5</th>\n",
       "      <td>Fastrack</td>\n",
       "      <td>UV Protection Rectangular Sunglasses (Free Size)</td>\n",
       "      <td>₹499</td>\n",
       "    </tr>\n",
       "    <tr>\n",
       "      <th>...</th>\n",
       "      <td>...</td>\n",
       "      <td>...</td>\n",
       "      <td>...</td>\n",
       "    </tr>\n",
       "    <tr>\n",
       "      <th>96</th>\n",
       "      <td>AISLIN</td>\n",
       "      <td>UV Protection Oval Sunglasses (60)</td>\n",
       "      <td>₹560</td>\n",
       "    </tr>\n",
       "    <tr>\n",
       "      <th>97</th>\n",
       "      <td>PIRASO</td>\n",
       "      <td>UV Protection Aviator Sunglasses (54)</td>\n",
       "      <td>₹208</td>\n",
       "    </tr>\n",
       "    <tr>\n",
       "      <th>98</th>\n",
       "      <td>GANSTA</td>\n",
       "      <td>UV Protection Retro Square, Round Sunglasses (53)</td>\n",
       "      <td>₹224</td>\n",
       "    </tr>\n",
       "    <tr>\n",
       "      <th>99</th>\n",
       "      <td>SRPM</td>\n",
       "      <td>UV Protection Wayfarer Sunglasses (53)</td>\n",
       "      <td>₹199</td>\n",
       "    </tr>\n",
       "    <tr>\n",
       "      <th>100</th>\n",
       "      <td>ROZZETTA CRAFT</td>\n",
       "      <td>UV Protection Wrap-around Sunglasses (Free Size)</td>\n",
       "      <td>₹539</td>\n",
       "    </tr>\n",
       "  </tbody>\n",
       "</table>\n",
       "<p>100 rows × 3 columns</p>\n",
       "</div>"
      ],
      "text/plain": [
       "              Brand                                        Description Price\n",
       "1            Dervin      UV Protection Wayfarer Sunglasses (Free Size)  ₹234\n",
       "2         ROYAL SON  UV Protection Rectangular, Retro Square Sungla...  ₹471\n",
       "3              SRPM             UV Protection Wayfarer Sunglasses (50)  ₹216\n",
       "4         Elligator  UV Protection Cat-eye, Retro Square, Oval, Rou...  ₹213\n",
       "5          Fastrack   UV Protection Rectangular Sunglasses (Free Size)  ₹499\n",
       "..              ...                                                ...   ...\n",
       "96           AISLIN                 UV Protection Oval Sunglasses (60)  ₹560\n",
       "97           PIRASO              UV Protection Aviator Sunglasses (54)  ₹208\n",
       "98           GANSTA  UV Protection Retro Square, Round Sunglasses (53)  ₹224\n",
       "99             SRPM             UV Protection Wayfarer Sunglasses (53)  ₹199\n",
       "100  ROZZETTA CRAFT   UV Protection Wrap-around Sunglasses (Free Size)  ₹539\n",
       "\n",
       "[100 rows x 3 columns]"
      ]
     },
     "execution_count": 497,
     "metadata": {},
     "output_type": "execute_result"
    }
   ],
   "source": [
    "# Creating dataframe\n",
    "df=pd.DataFrame({'Brand':product_brand[0:100],'Description':product_description[0:100],'Price':product_price[0:100]},index=range(1,101))\n",
    "\n",
    "# Displaying dataframe\n",
    "df"
   ]
  },
  {
   "cell_type": "markdown",
   "id": "1befb0eb",
   "metadata": {},
   "source": [
    "5. Python program to scrape 100 reviews data from flipkart.com for iphone11 phone using given link https://www.flipkart.com/apple-iphone-11-black-64-gb/productreviews/itm4e5041ba101fd?pid=MOBFWQ6BXGJCEYNY&lid=LSTMOBFWQ6BXGJCEYNYZXSHRJ&marketplace=FLIPKART and display following details -\n",
    "\n",
    "\n",
    "  1. Rating\n",
    "\n",
    "\n",
    "  2. Review summary\n",
    "  \n",
    "  \n",
    "  3. Full review"
   ]
  },
  {
   "cell_type": "code",
   "execution_count": 504,
   "id": "e05d1770",
   "metadata": {},
   "outputs": [
    {
     "data": {
      "text/plain": [
       "<Response [200]>"
      ]
     },
     "execution_count": 504,
     "metadata": {},
     "output_type": "execute_result"
    }
   ],
   "source": [
    "# Sending a request to a website for scraping data\n",
    "page=requests.get(\"https://www.flipkart.com/\")\n",
    "page"
   ]
  },
  {
   "cell_type": "code",
   "execution_count": 505,
   "id": "4c318c17",
   "metadata": {},
   "outputs": [],
   "source": [
    "# Creating WebDriver instance for controlling the Chrome browser using Selenium\n",
    "driver=webdriver.Chrome(r\"chromedriver.exe\")"
   ]
  },
  {
   "cell_type": "code",
   "execution_count": 506,
   "id": "c4c25ed9",
   "metadata": {},
   "outputs": [],
   "source": [
    "# Opening webpage in the browser window controlled by the WebDriver instance\n",
    "driver.get(\"https://www.flipkart.com/apple-iphone-11-black-64-gb/product-reviews/itm4e5041ba101fd?pid=MOBFWQ6BXGJCEYNY&lid=LSTMOBFWQ6BXGJCEYNYZXSHRJ&market\")"
   ]
  },
  {
   "cell_type": "code",
   "execution_count": 507,
   "id": "530a37e6",
   "metadata": {},
   "outputs": [],
   "source": [
    "# 1 webpage has 10 reviews therefore 10 webpages are required to dislay details of 100 reviews of iphone 11"
   ]
  },
  {
   "cell_type": "code",
   "execution_count": 508,
   "id": "3cb6a0bb",
   "metadata": {},
   "outputs": [],
   "source": [
    "# Creating lists for storing data of ratings, review summary and full review\n",
    "product_rating=[]\n",
    "product_review_summary=[]\n",
    "product_full_review=[]"
   ]
  },
  {
   "cell_type": "code",
   "execution_count": 509,
   "id": "2efb3d42",
   "metadata": {},
   "outputs": [],
   "source": [
    "# Fetching data from webpages and storing in respective lists\n",
    "start=0\n",
    "end=10\n",
    "\n",
    "for page in range(start,end):\n",
    "    \n",
    "    rating=driver.find_elements(By.XPATH,\"//*[contains(@class,'_3LWZlK _1BLPMq') or contains(@class,'_3LWZlK _1rdVr6 _1BLPMq')]\") \n",
    "    for i in rating:\n",
    "        product_rating.append(i.text)\n",
    "    product_rating\n",
    "    \n",
    "    review_summary=driver.find_elements(By.XPATH,'//p[@class=\"_2-N8zT\"]') \n",
    "    for i in review_summary:\n",
    "        product_review_summary.append(i.text)\n",
    "    product_review_summary\n",
    "    \n",
    "    full_review=driver.find_elements(By.XPATH,'//div[@class=\"t-ZTKy\"]')\n",
    "    for i in full_review:\n",
    "        product_full_review.append(i.text)\n",
    "    product_full_review\n",
    "    \n",
    "    next_page=driver.find_element(By.XPATH,\"//a[contains(@class,'_1LKTO3') and span[text()='Next']]\")\n",
    "    next_page.click()\n",
    "    time.sleep(5)"
   ]
  },
  {
   "cell_type": "code",
   "execution_count": 510,
   "id": "249ece66",
   "metadata": {},
   "outputs": [],
   "source": [
    "# Displaying lists data"
   ]
  },
  {
   "cell_type": "code",
   "execution_count": 511,
   "id": "c1f1e169",
   "metadata": {},
   "outputs": [
    {
     "name": "stdout",
     "output_type": "stream",
     "text": [
      "['5', '5', '5', '4', '5', '5', '4', '5', '5', '5', '5', '5', '5', '5', '4', '5', '5', '5', '4', '5', '5', '5', '5', '5', '5', '5', '5', '5', '5', '5', '5', '5', '5', '5', '5', '4', '5', '5', '4', '5', '5', '5', '5', '5', '5', '5', '5', '5', '5', '5', '5', '5', '5', '5', '5', '5', '4', '5', '4', '1', '5', '1', '5', '5', '5', '5', '5', '5', '5', '5', '5', '5', '5', '5', '5', '5', '5', '5', '5', '5', '5', '5', '5', '5', '5', '5', '5', '3', '5', '1', '5', '5', '5', '5', '5', '5', '4', '5', '5', '5']\n"
     ]
    }
   ],
   "source": [
    "print(product_rating)"
   ]
  },
  {
   "cell_type": "code",
   "execution_count": 512,
   "id": "070b123c",
   "metadata": {},
   "outputs": [
    {
     "name": "stdout",
     "output_type": "stream",
     "text": [
      "['Simply awesome', 'Perfect product!', 'Best in the market!', 'Value-for-money', 'Highly recommended', 'Worth every penny', 'Pretty good', 'Perfect product!', 'Highly recommended', 'Great product', 'Fabulous!', 'Classy product', 'Worth every penny', 'Perfect product!', 'Good choice', 'Perfect product!', 'Highly recommended', 'Highly recommended', 'Value-for-money', 'Perfect product!', 'Highly recommended', 'Mind-blowing purchase', 'Terrific', 'Perfect product!', 'Worth every penny', 'Must buy!', 'Super!', 'Simply awesome', 'Classy product', 'Worth every penny', 'Great product', 'Classy product', 'Worth every penny', 'Excellent', 'Just wow!', 'Good choice', 'Brilliant', 'Perfect product!', 'Nice product', 'Classy product', 'Great product', 'Must buy!', 'Fabulous!', 'Perfect product!', 'Classy product', 'Fabulous!', 'Simply awesome', 'Wonderful', 'Terrific purchase', 'Mind-blowing purchase', 'Excellent', 'Great product', 'Terrific purchase', 'Mind-blowing purchase', 'Terrific purchase', 'Mind-blowing purchase', 'Very Good', 'Simply awesome', 'Good quality product', 'Very poor', 'Perfect product!', 'Worthless', 'Fabulous!', 'Wonderful', 'Must buy!', 'Great product', 'Just wow!', 'Wonderful', 'Wonderful', 'Simply awesome', 'Super!', 'Excellent', 'Best in the market!', 'Worth every penny', 'Worth every penny', 'Worth every penny', 'Awesome', 'Excellent', 'Excellent', 'Brilliant', 'Terrific', 'Fabulous!', 'Fabulous!', 'Perfect product!', 'Perfect product!', 'Classy product', 'Awesome', 'Does the job', 'Super!', 'Hated it!', 'Brilliant', 'Must buy!', 'Awesome', 'Best in the market!', 'Brilliant', 'Terrific purchase', 'Good quality product', 'Wonderful', 'Terrific', 'Best in the market!']\n"
     ]
    }
   ],
   "source": [
    "print(product_review_summary)"
   ]
  },
  {
   "cell_type": "code",
   "execution_count": 513,
   "id": "34e6f690",
   "metadata": {},
   "outputs": [
    {
     "name": "stdout",
     "output_type": "stream",
     "text": [
      "['Really satisfied with the Product I received... It’s totally genuine and the packaging was also really good so if ur planning to buy just go for it.', 'Amazing phone with great cameras and better battery which gives you the best performance. I just love the camera .', 'Great iPhone very snappy experience as apple kind. Upgraded from iPhone 7.\\nPros\\n-Camera top class\\n- Battery top performed\\n-Chipset no need to say as apple kind\\n-Security as you expect from apple\\n- Display super bright industry leading colour\\naccuracy and super responsive\\n-Build quality as expect from apple sturdy\\npremium durable beautiful stylish.\\n-Os most stable os in smartphone industry\\n\\nCons\\n-No 5G\\n-Display is not based on OLED technology\\n-Charger headphones and 1 apple stic...\\nREAD MORE', \"I'm Really happy with the product\\nDelivery was fast as well\\n..it was a gift for my sister and she loved it so much.\", \"It's my first time to use iOS phone and I am loving my upgradation 😍😍 I love the color, I love the assebility of the phone....I need to learn more about its functionality, but as far as I have seen, it's quite easy and it has a lot of functions to work on, specially if you are a content writer or a blogger you get a lot of content creation platforms and they are really amazing.\\n\\nThis phone not only for good quality photography but a lot of other task too.😍💯\", 'Previously I was using one plus 3t it was a great phone\\nAnd then I decided to upgrade I am stuck between Samsung s10 plus or iPhone 11\\nI have seen the specs and everything were good except the display it’s somewhere between 720-1080 and it’s not even an amoled it’s an LCD display\\nBut I decided to go with iPhone because I have never used an IOS device I have Been an android user from the past 9 years I ordered IPhone 11 (128gb) product red\\nMy experience after using 3 weeks\\n1. The delivery ...\\nREAD MORE', 'I was using Iphone 6s and also Oneplus 6t. Both mobiles were perfectly alright in Photos, gaming, and smooth interface . My 6s mobile getting battery issue. thought upgrade to 11. Really like this mobile of its Internal storage (compare to 6s) , camera and its touch feeling. Its a worth buying mobile for me.', 'Value for money\\n5 star rating\\nExcellent camera\\nBattery backup full day in single charge.\\n\\nTougher and water resistant design, glossy back.\\nThe screen has excellent brightness and contrast.\\nApple A13 Bionic is the fastest smartphone chip on the planet.\\nExcellent battery life, fast charging support.\\nStereo speakers with great quality.', 'What a camera .....just awesome ..you can feel this iPhone just awesome . Good for gaming also ...try pubg in hd it’s just wow', 'Amazing Powerful and Durable Gadget.\\n\\nI’m am very happy with the camera picture quality, Amazing face id unlocked in dark room, Strong battery with perfect screen size as you can carry easily in pocket. This is my third iPhone.\\n\\nI shifted from android Samsung Note series to iPhone because of the strong build quality and peace of mind for next 3-4 years.\\n\\nDon’t think to much just go for it and I suggest you to go for minimum 128gb variant or more 256gb.\\n\\nI’ve attached my puppy pics and no fi...\\nREAD MORE', 'This is my first iOS phone. I am very happy with this product. Very much satisfied with this. I love this phone.', 'Best and amazing product.....phone looks so premium.... battary is also good as expected .... Wide angle camera is so addictive ...if you are a IOS lover....then this phone will be the best choice for you all!!💯🔥', 'i11 is worthy to buy, too much happy with the product. Thank u flipkart I received the item on time..loved it..', 'It’s a must buy who is looking for an upgrade from previous generation of iPhones. If you are using XR then still you can hold on for sometime and upgrade to 2020 model else this phone is a must buy . Camera quality is amazing and wide angle is something to count upon. Performance wise it’s amazing and feels premium while holding in hand. So a big YES for this device. Go for 128 GB variant as the 4K videos will occupy lots of space and the storage can get over very quickly. Try to buy it with...\\nREAD MORE', 'So far it’s been an AMAZING experience coming back to iOS after nearly a decade but it’s not as versatile as android though phone is sturdy dropped it accidentally a couple of times and nothing happened fortunately camera is awesome', 'Value for money❤️❤️\\nIts awesome mobile phone in the world ...\\nDisplay was very good and bright ..\\nTrust me freinds you r never regret after Buying..\\nJust go for it....\\nI love this phone and i switch to iphone x to 11', 'iphone 11 is a very good phone to buy only if you can compromise for the display. The display on this is device is pretty good but you can get other options with better displays in this price segment.\\nIf you can survive with an HD+ LCD panel with thicker bezels and a notch up top then this is a very good phone for you.\\nCameras are awesome, battery backup excellent, great performance and a decent premium look. Good job Apple !', 'Amazing camera quality as expected, battery also has very good performance. Display, body, and touch experience is the best I’ve ever had. Sound quality of speakers is more than sufficient. Apple is known for it’s customer friendly security services and I can see it how. The A13 processor is the best in its work. So I would definitely recommend it for everyone who are looking for it, just go for it without delay.\\n\\nThe most amazing thing it the delivery. Flipkart has delivered it in the span ...\\nREAD MORE', \"Just got this iphone 11\\nAnd it is most powerful mobile phone I have used ever\\n\\nSo,go for it if you want a phone with best specification like camera,battery backup,display, A13 bionic chip\\n\\nThat's my review about this phone but yours can be differ from me....\", 'It is just awesome mobile for this price from Apple,\\n\\nAfter 10 days review\\n\\nBattery enough for 1 day even 24*7 Internet will be on and mostly internet usage\\n\\nCamera is just awesome cool , android 64 MP is equal to this just 12 MP\\n\\nA13 Bionic chip will give more high performance without hanging\\n\\nAudio stereo speakers will give Dolby atoms sound with crystal clear\\n\\nVideo recording is like cinematic shots of every sec can be a 4K 60fps. Just awesome this phone\\niPhone 11 loved one', 'Thanks Flipkart For this amazing deal! I had a dream of owning a iphone since i had known about.\\nIm very happy with my purchase & it is totally worth it.\\nAmazing experience all over !!\\n\\nAnyone who’s thinking of buying it in 2021, i would simply say go for it without any second thoughts ❤️', 'Excellent camera 📸 And Display touching very Nice And Smooth and very improvement against\\nI phone 11 and new processor is very fast', 'Really worth of money. i just love it. It is the best phone ever.', \"Iphone is just awesome.. battery backup is very very nice.. continuously for 10 hours we can use it.camera is just awesome.. display is just fab.i love it alot..i had to wait 15 days for it as i pre ordered it..overalll it's worth the price..these all images are clicked by my iPhone..and i love it.\", 'Smooth like butter, camera like fantabulous, sound is crystal clear & its red color is damn attractive, i am just loving it. Must buy if you love photography.\\n\\nLucky to get it in sale, thank you Flipkart.', 'Best Apple iPhone that i have bought at a very reasonable price, camera quality is next level just awesome n of superior quality android phones not even close(RIP) to that and also battery is really good but packaging by Flipkart of iPhone was very poor of such a expensive product, firstly im bit worried about the quality of product if i purchased it through online how was the product but i think now this was mine best decision to bought it through Flipkart online because i got genuine Apple...\\nREAD MORE', 'It’s been 7 years I was waiting for an income for my first iPhone .it was like a dream to me and finally I achieved it. Why chose iPhone?? It’s a premium standard level phone maybe you could find other brands valu like this but not all those are iPhone. If you are thinking to buy an iPhone don’t think too much grab it bro. Being an an iPhone owner can give you a feeling like owning an Lamborghini in your pocket According to me a middle class family boy.\\n\\n\\nBest on camera and videography\\nSoun...\\nREAD MORE', 'Excellent camera, good performance, no lag. The lcd display is also good.. but difference come when we watch movie in prime and Netflix, the colours are not vibrant.. as we see in amoled display.. and the charger in box is of 5 watts.. takes more than 3 hours to charge from 0 to 100.. so guys be prepare to buy 18 watts charger . Finally I am an android user, it was my first Iapple phone, I promise u guys the iOS is so smooth.. overall the phone is damn good.... close eyes to buy it.. thanks t...\\nREAD MORE', 'We are on apple ecosystem for almost eight years now with couple of iPads and iPhones, including Xr.\\n\\nBought iPhone 11 as a gift to my daughter who loves it. We chose for a purple coloured one. Believe me it is gorgeous and towards the lighter shade. Dazzling and brilliant!\\n\\nThe phone is great and does excellent RAM management like any other Apple device.\\n\\nThe screen, though a LCD and lesser ppi as compared to other flagship phones of competitor brands, is a delight to watch with perfect re...\\nREAD MORE', 'Best budget Iphone till date ❤️ go for it guys without second thought. Let me explain you guys about Camera, Display, battery, and performance.\\n\\nCamera: at this price range there is no comparison of camera, you’ll love the picture quality as well as video quality. I am a Vlogger I wanted an iPhone with 4k video by front camera and I got this phone and I am more than happy 😃\\n\\nBattery: I use this phone roughly as I am active social media person and I have a youtube channel. so the battery ba...\\nREAD MORE', 'This is my first ever I phone. Before this I was using my google nexus 5. But moving from android to iOS is a great experience. It’s worth at this price. I will highly recommend it if you want to move to iOS. The best part of this phone is it’s camera and it’s battery life. This two things have won my heart. I loved it. Happy to have it in my hand. Still exploring its features. And can’t forget to mention Flipkart service. Very prompt service and fast delivery.', 'Totally in love with this ❤ the camera quality is amazing just love it 😘😘😘 itsss dammnnnnnn amazing... Must buy iPhone 11 this is my best experience ever ☀👌👌🧡🧡🧡🧡🧡 thanku apple ❤', 'It’s been almost a month since I have been using this phone. I upgraded from an iPhone 8. The main issue with my 8 was battery and this phone is just awesome when it comes to battery. It lasts a day and a half for me with my regular use , internet connected always with 4g\\nCan’t move forward without saying this. Battery of this phone is a life saver when I am traveling or at work when I don’t get the option to charge\\nCamera is superb. Front cam selfies and back cam photos are just awesome.\\n...\\nREAD MORE', 'Its a fabulous mobile look awesome performance unbeaten camera like dslr battery good i think this is a beast of mobile', 'Best in class. Battery backup is good especially when you play games like Pubg COD. But it is sort of heavy when you hold in hands. Portrait mode is best to click pictures. Stage light effect is awesome. Try to click photos outside in nature because photos inside home or room will not give you the quality in any phone even in DSLR.', 'Looking so good 👍 😍 super 👌 stylish 😎 phone\\nClean box 📦 good 👍 delivery 👌 fast delivery\\nOriginal box Original iphone 📱 👌 😍😍😍', 'I have migrated from OP 7pro... and trust me, iPhone 11 is totally worth it.. following are the reasons:-\\n1)there is ABSOLUTELY NO ISSUE WITH THE DISPLAY... its crisp, sharp and I found it to be much much better than OP7 pro. Netflix, Prime video all run crisply... you won’t miss a thing. True Tone works flawlessly...the display brightness is perfect. OP have not calibrated their screens properly.\\n2) iPhone 11 series have really good cameras... others have spoken in depth about them.\\n3) bat...\\nREAD MORE', 'Battery backup is extraordinary, camera is decent & performance offered by A13 bionic is awsome. The display is good in practical usage like the visibility of display is very good in direct sun light compare to pro models. Iam extremely satisfied for the money I spent.', 'Awesome Phone. Slightly high price but worth. Better than iPhone XR.\\nCamera is superb and wide angle camera is very clear.\\n12MP selfie camera is also very good.\\nA13 Chip gives a very good and smooth performance.', 'Superb Product !!!\\nA big and worthy upgrade from mi 3S to iphone 11 .\\nTotally loved it !', \"Again back to apple iphone after a gap of 2-3 years. It's pleasure to use iOS and the quality product by Apple. Iphone 11 still works like a beast in 2021 also. It really capable of doing day to day usage as well as hard core gaming. Battery is awesome. I'm really too much satisfied with it. Apart fto the very gorgious IPS LCD (AMOLED will be better) everything is mind boggling. Iphone💕.\", 'It’s an amazing product from apple and the camera is simply superb. Phone is faster.Night shot is simply superb and detailing and colour differentiation from camera is an added advantage\\n\\nThis review I have written from iPhone 11 only and I am glad to say outside.\\n\\nCons wise if we see HD+ display only, no battery percentage indicator as in older iPhone 8.\\nNo assistive touch control button in it\\nNo oleophobic coating on back panel glass and finger prints are visible but since I bought mint gr...\\nREAD MORE', 'awesome phone to have. it has got many smart features apart from mind blowing looks, camera, display, battery and sound. have fallen in love with this phone. must buy phone if you have got enough money. thanks to flipkart and apple of course..', 'After 1 month use I found camera quality best compared to my previous Samsung note 10+.Display not good as note 10 also charging too slow.Apple should add fast charger like 11 plus and pro.Best phone for daily use', 'Well while switching from android to iOS the first thing you need to be careful about is that you will loose all your whatsapp chat backups as both are different operating systems. Camera clarity is awesome and though being an lcd screen clarity and resolution is good. Battery backup is also good unlike previous gen iPhone. So far the experience is good will Padre after a few months of usage.\\n\\nP.S the black is more of a dark grey shade and not jet black', \"I can say I'm damn impressed with iPhone 11. As they says iPhone 11 have the toughest glass ever in the smartphone which you'll find on the front and back and it's totally smooth. The fit and finish is full apple quality - there's no sense that any cheaping out has happened in the construction. Without saying it's camera features this review won't complete. The iPhone 11 has a dual camera system, consisting of a wide angle len's that's pretty much same as found on the iPhone XR last year, but...\\nREAD MORE\", \"It's very high performances devise i am like the service of flipkart delevary very fast and packing very nice perfect phone\", 'I just directly switch from iphone 6s to iphone 11 .The best premium smartphone I recommend to everyone. Excellent quality and colors the iphone have in 11 series.\\nCamera quality is just awesome and the major feel when we hold in our hands. The sound quality and volume is also higher then the previous models.\\nI will recommend to buy iphone 11 instead of pro models , there is nothing much difference as this model contains everything which fulfill our needs.\\n\\nOnly one thing that I dislike abo...\\nREAD MORE', 'Upgraded from iphone 6 to 11 best phone for iphone users battery is much better than other iphones camera is awesome love to use it.camera is so clear in night.', 'Best Quality Product OF iPhone Series , Sound Quality & Camera quality is very awesome, Battery Life is very Sufficient for 24 hr Backup With Full Internet Access , I love this this Product too much , It is very fast & making me Very fast in all my daily Routine\\nHighlights;\\n1.Camera: 5 STAR\\n2.Video Recording: 5 star\\n3.Night mODE sHOOTING & Camera:4 star\\n4. Audio Quality: Awesome\\n5. Battery : 5 Star\\n6. Touch:5 Star\\n7. Processor: Very Fast\\nThe M...\\nREAD MORE', 'Amazing camera and feel super machine I am not describe my feeling but this is amazing Phone I am so lucky I have this', 'Well you all know the specifications . One of a kind. Best iPhone till date. Many enhancements to the camera app with many options. Love the glass body with matte finish in the lens area on the back. Lovely colours to choose from. Best battery in an iPhone till date, enough to last more than a day in normal usage. I tested my iPhone 11 battery and lasted for than 24 hours after full charge still with 30% battery charge left. Watched movies for some time. Normal usage on calls, browsing, musi...\\nREAD MORE', 'The built quality is not very premium.\\nThe battery back is great .\\nThe LCD panel is not so sharp but the brightness level is very High .\\nCamera is super duper awesome.\\nThe red colour which people think is bright is actually very soothing and excellent colour to choose from .\\nThe A13 Bionic chip is really a flagship processor and can beat any phone which even has 12 gb ram .\\nCamera module is very great and looks very stylish.', 'First thanks to Flipkart for this amazing deal and phone is outstanding. I upgraded from iPhone 7 and this is like very big upgrade. But the packaging was very basic I expected a good packaging as they only wrapped one layer of bubble wrap which I don’t think is enough to protect this expensive phone. And I recommend this phone and seller as well.\\n\\nAnd I’m posting this review after using it for 4 days.', 'Its Very awesome product working and good camera quality and all about best product and also flipkart is very great deal and offer nice price', 'This will help you more. See if you are planning to buy iPhone 11. I will say. Yes. But there are some plans I just want to disclose before you buy. 1) If you are an existing iPhone X/XS/XS Max/ XR user, better you guys do not think it to buy. You guys have more or less better gadget. 2) If you are an android user and planning to buy premium phone. I will suggest them to please buy iPhone instead of buying an Android. I bet you will never go back to android after using IOS. Now I want to shar...\\nREAD MORE', 'impressive super phone and best in class camera ,sound and face unlock is super fast just see and phone is unlock and fast in daily apps use', 'Really good actually this is my first apple product am using its really awesome performance wise excellent. Am really happy with this iphone11', 'it is very good at performance. Camera is best like before and very smooth response even in water. Don’t buy 12 mini buy iPhone 11 , it is far better than 12 mini believe me ! Have a nice day \\uf8ff ☺️', 'Reviewing again after 5 months. At the beginning the battery and performance was good but it degraded soon. Also I was facing heating issues. The mobile will heat up like a stove sometimes. You cannot even play Pubg even in low settings properly, performance is not a problem but heating is. Also if you play that game for 10 mins the brightness will be automatically down due to over heating even when the auto brightness is set to off. This will not be solved even if u manually increase the bri...\\nREAD MORE', 'In love with this iphone great performance,camera ,battery everything. Go for it have a uncompareble battery backup, no doubts in iPhone camera here You can see the picture which is shot on my iPhone In love with this iphone great performance,camera ,battery everything. Go for it have a uncompareble battery backup, no doubts in iPhone camera here You can see the picture which is shot on my iPhone In love with this iphone great performance,camera ,battery everything. Go for it have a uncompare...\\nREAD MORE', \"Phone is awesome no doubt. But Camera & Display is not great. Performance is mind blowing.\\nBut the phone is heating too much when charging or when you regularly used. It's experience after using 1 week. It's heating extrem when I play PUBG for 30 minutes.\\nGo for iPhone 11 pro or 12. Otherwise go for Android phone you will get much better phone in less price.\", 'Everything is perfect pictures come out so clearly and at first I wasn’t sure when I got it then when I started to use it and get the hang of it it was amazing!! I can’t wait to see what the next future phones will be like. The screen display on this bad boy are unbelievable they are so clear and never fail me. The performance is super cool there is a lot of cool features as well I like this phone because I feel that it is easy to use and one of my favorite things about this phone is the Face...\\nREAD MORE', 'Superfast delivery by Flipkart. Thanks.\\n\\n1. iPhone 11 is a pretty solid phone for the money you are paying.\\n2. All the bad reviews about the display is confusing. It’s not that bad.\\n3. I switched from a Oneplus 7t. I have no complaints about the display quality of iPhone. Yes, it’s not OLED, so, we are missing on the deep blacks. But that’s it. It is a very colour accurate display. Gets adequately bright and I could not find any pixelation.\\n4. Performance is one of the best, if not best, in ...\\nREAD MORE', 'I rate this product 5* as it has got amazing user experience with the best performing A13 bionic processor. The screen responds and graphics rendering is top notch. With casual gaming and internet browsing, the battery lasts for approx. 1 day. Camera is very good. You will fall in love with the portrait mode. You can call me a loyal Apple customer or whatever but I won’t stop praising the products and overall experience. That user experience matters and is worth every penny you pay.\\n\\nBelow ar...\\nREAD MORE', \"I was using android phone earlier..I was thinking apple phones are much more costy than other phones with less specifications..so why to waste money in this??..But trust me guys once if you start using ios then you won't go back to android...beleive me this phone is the best than all other...There is no other phone which can beat iphones in terms of camera..iphones gives the best real image..its very faster and smoother than android phones...if you think to switch to ios iphone 11 is the best...\\nREAD MORE\", 'The ultimate performance\\nCamera is superb\\nThe battery backup also very good i never saw iphone gives this much of battery backup\\nIf any one wana buy iphone 11 definitely i will recommend this mobile\\nIt has the better battery and powerfull processer peak performance glorious camera and the display also 100% high quality lcd display if u had money for for 12 if u dont wana invest much money on that then go for iphone 11 it has maximum same specs only main difference between the 12 and 11 is...\\nREAD MORE', 'Super and marvellous phone look very cute and nice sound. I love this phone i think white is good colur.Excellent camer 5*😍😘♥️♥️', 'Nice value for money good and best price I phone mind blowing camera processor very fast other android mobile I am happy India top selling phone 2020', 'Just awesome phone, everything works in such a smooth and refined way !!!\\nCamera - next level\\nDisplay - next level\\nPerformance - monster\\nBattery - next level\\nEverything works at the best level with A13 Bionic Chip\\nValue for money iphone\\nYou should go for this just killer performance 🔥🔥', \"It's a great phone. From camera to display everything is best for the price.\\nBest camera , best performance. I think everyone should buy it . This phone has best battery life so far in iphone series which I had used earlier. Happy to have it. Thanks Flipkart\", 'Seller - SuperComNet ( my trust in you has grown deeper. Thanks for the genuine product )\\nThe package came packed perfectly. The box was sealed which gave me a big relief.\\n\\nApple needs no introduction since its the dominant market player. I just love the way how IPhone 11 stands out so boldly. The moment I took it out from the box, I could feel the premium intensity. The body is remarkable and crafted for giving you a elite vibe.\\n\\nCamera is to die for. There is no other phone that can beat...\\nREAD MORE', 'Don’t expect much from front camera… especially who loves beauty mode and filters.. back cameras are good…video department is always plus point in iPhones… battery capacity is really surprising lasts for one day at least… performance always good and smooth… speaker’s quality is good…built quality best and haptic feedback is enjoyable…\\nNote : images are good after you edit', 'iPhone is delivered on time. Display is great u won’t feel that it’s a hd panel. Quality is excellent. Sounds is great it has stereo setup. Camera is good. iOS 14.2 comes in the box. U roughly get 113 gb free if u buy 128 gb. This is my second iPhone and i love it. Value for money.', 'Here is the thing\\n\\nThe only reason why you should buy this phone is for the camera, iOS, and if you have headaches looking at AMOLED display.\\n\\nI’m not an avid gamer but watch a lot of movies on smartphone. However, my migraine attacks increased considerably after using AMOLED Smartphone. That’s why I made a calculated decision to buy iPhone 11. It has the best LCD display and the blacks, though not as natural as an AMOLED, is better than some of the other smartphones.\\n\\nAdding to this the ste...\\nREAD MORE', \"It is better to buy iPhone 11 over iPhone 12 if you prioritize the camera,Its because the difference isn’t significantly huge except lowlight performance and Go for 128 GB variant rather than 64 GB because the system data alone contains 20 GB of data .\\nEven though it's 720p LCD display but it's better than todays Android's 1080p display. My phone was a 64GB mint green model and this one is really pretty especially in the real life. I can still get almost everything out of what i paid for at a...\\nREAD MORE\", 'Very excited to have this phone. This phone has the real power unlike the android phones having SD 855 . The battery life is very good and the camera quality is excellent as comapred to redmi and other phones except google pixel. I M enjoying every single bit of it. Would recommed only if you have the budget.', 'A perfect phone and a good battery super camera and the sound is dynamic overall the phone is perfect for upgrading from lower iPhone model to iPhone 11', '🤩🤩🤩🤩🤩🤩I loved the Phone.. Every time I pick up the phone it makes me happy... The phone is beast💪💪 and the camera is fabulous 🥰🥰🥰.. I think one of my great purchase from Flipkart.. Thank you Filpkart..', 'Excellent camera and display touching very nice and smooth very improvement against iPhone XR and new processor is very fast', \"I got this beast today. And I must say the picture quality of its camera is awesome. Both the cameras works fine.\\n\\nAs for as the processing is concerned, it runs without any lag. You can play and do whatever you want without a glitch.\\n\\nThe battery runs for a day with medium and high workload.\\n\\nThe display is good and the speakers are working fine.\\n\\nThe earphones doesn't have any base and you can use it for calling mostly.\\n\\nThe charging time is approximately for 90 minutes for full charging...\\nREAD MORE\", 'Best phone in this price segment people say that it is a IPS display but don’t judge a book with the specs sheet only I have not seen any LCD Display like this in any smartphone industry leading IPS display . Everything is awesome in this phone but sometime but apple should have been giving OLED in this price segment', 'Gift this to your loved ones fabulous product and amazing super fast delivery by flipkart', 'Awesome purchase. Amazing phone with good battery backup. It’s a top notch device. White colour looks amazing. Phone has a few extra feature than iPhone XR. Overall, this is value for money', \"In 2022 this phone is he stand of the one of the top position camera is good and battery is good only one thing is not good that is not 5G phone but it's ok\", 'Gifted my man on his 30th birthday 🎂 He loves it.. Him happy so i am more than happy 😍😘❤️🥰', 'Always love the apple products, upgraded from old iPhone 6S plus to this after having my first baby. I just love to click baby’s photos with it. Overall I just love this phone. Battery back up is okay, sound quality is good. Haven’t tested yet waterproof yet. Only one thing I hate is apple could have given charger & headphones in box.', \"phone is good but in display is 720p lcd in this price range we can get full hd OLED displays with higher refresh rate processor is very good camera is nice but looks kind of oldish in front of todays phone also there's no charging in box had to buy it seperately\", 'This is my first ever iPhone.\\nAnd I truly don’t regret switching to IOS from my Android.\\n\\nIt is easily an alternative to a DSLR camera.\\nIf you’re obsessed with photos and videos, just don’t think twice or don’t compare to other androids(Samsung S10 lite or OnePlus 8/8T), as it’s far better from them in every field.\\nComparing will only make you confused.\\n\\nI am getting an average Screen on Time of around 10 hours with 30 percent left. I haven’t let my device discharged below 30 % as it aff...\\nREAD MORE', \"I am always an android user so I though about buying I phone(because of hype) and it turned out bad decision ... Honestly it's not as good as it is hyped...I'm unhappy with camera quality if you are buying iPhone for camera then you should see this pictures (iPhone pictures are yellowish in tone which is nightmare) I phone 11 pictures vs redmi note 8 pro pictures... 1st picture is clicked using snap filter... I hope you can see yellow tone nobody's skin looks like this🤷 I'm not telling it's...\\nREAD MORE\", 'A wort full value for money decision it’s . Simply go for it in 2021 its still a good decision . Awesome camera , Super smothered performance, Heck of build quality. And Most important it protects your privacy.', 'Dear friends... I want to share my experience with you about this amazing I phone 11....this is my first iPhone and special things about this mobile is it has great camera, battery backup and awesome display.... I mean everything is perfect.loved it 👍👍👍', 'Can’t beat the software and hardware integration of apple.\\nPerforms like a beast. Great quality camera\\n6-7 hours screen on time which is good. Nothing much to complaint about the screen. Good connectivity speeds.\\nGreat buy and Flipkart’s delivery top notch as usual', \"The best all rounder iphone. Flipkart is doing a great job. They're delivery services are blazing fast. I got delivery on the same day. Genuine Apple Product. Working great. Talking about review There's no need of review for iphones. They're simply the best.\", 'Amazing phone and on great deal I received with super fast delivery by Flipkart...', 'finally an iPhone with very nice battery backup. update from iPhone 7 and happy to have it. camera is not up to the mark in low light but overall a recommended phone if your budget allows 😀', \"I'm switching this phone to oppo reno 10x zoom\\nIt's really impressive\\nRarely I'm missing smooth display touch response like oppo reno but\\nI really loved it.\\nCamera really impressive\", 'Its good.. a little heavy on my pinky but its cute ! Well m not any great photographer but putting these pictures just in case u knw…. Would help someone make any decisions', 'Simply Awesome\\n\\nI have upgraded from iPhone 7 to iPhone 11.\\n\\n3110 mah Battery is good. I am not a heavy gamer. For official purpose, this is better than 12 mini.\\n\\nTotally impressed with battery performance.', 'Damn this phone is a blast . Upgraded from android to ios and is a duperb experience. Battery backup is top notch and display also pretty good']\n"
     ]
    }
   ],
   "source": [
    "print(product_full_review)"
   ]
  },
  {
   "cell_type": "code",
   "execution_count": 514,
   "id": "611e2d1d",
   "metadata": {
    "scrolled": true
   },
   "outputs": [
    {
     "name": "stdout",
     "output_type": "stream",
     "text": [
      "100 100 100\n"
     ]
    }
   ],
   "source": [
    "# Checking the lengths of lists\n",
    "print(len(ratings),len(reviews_summary),len(full_reviews))"
   ]
  },
  {
   "cell_type": "code",
   "execution_count": 515,
   "id": "5707958a",
   "metadata": {},
   "outputs": [
    {
     "data": {
      "text/html": [
       "<div>\n",
       "<style scoped>\n",
       "    .dataframe tbody tr th:only-of-type {\n",
       "        vertical-align: middle;\n",
       "    }\n",
       "\n",
       "    .dataframe tbody tr th {\n",
       "        vertical-align: top;\n",
       "    }\n",
       "\n",
       "    .dataframe thead th {\n",
       "        text-align: right;\n",
       "    }\n",
       "</style>\n",
       "<table border=\"1\" class=\"dataframe\">\n",
       "  <thead>\n",
       "    <tr style=\"text-align: right;\">\n",
       "      <th></th>\n",
       "      <th>Rating</th>\n",
       "      <th>Review Summary</th>\n",
       "      <th>Full Review</th>\n",
       "    </tr>\n",
       "  </thead>\n",
       "  <tbody>\n",
       "    <tr>\n",
       "      <th>1</th>\n",
       "      <td>5</td>\n",
       "      <td>Simply awesome</td>\n",
       "      <td>Really satisfied with the Product I received.....</td>\n",
       "    </tr>\n",
       "    <tr>\n",
       "      <th>2</th>\n",
       "      <td>5</td>\n",
       "      <td>Perfect product!</td>\n",
       "      <td>Amazing phone with great cameras and better ba...</td>\n",
       "    </tr>\n",
       "    <tr>\n",
       "      <th>3</th>\n",
       "      <td>5</td>\n",
       "      <td>Best in the market!</td>\n",
       "      <td>Great iPhone very snappy experience as apple k...</td>\n",
       "    </tr>\n",
       "    <tr>\n",
       "      <th>4</th>\n",
       "      <td>4</td>\n",
       "      <td>Value-for-money</td>\n",
       "      <td>I'm Really happy with the product\\nDelivery wa...</td>\n",
       "    </tr>\n",
       "    <tr>\n",
       "      <th>5</th>\n",
       "      <td>5</td>\n",
       "      <td>Highly recommended</td>\n",
       "      <td>It's my first time to use iOS phone and I am l...</td>\n",
       "    </tr>\n",
       "    <tr>\n",
       "      <th>...</th>\n",
       "      <td>...</td>\n",
       "      <td>...</td>\n",
       "      <td>...</td>\n",
       "    </tr>\n",
       "    <tr>\n",
       "      <th>96</th>\n",
       "      <td>5</td>\n",
       "      <td>Terrific purchase</td>\n",
       "      <td>finally an iPhone with very nice battery backu...</td>\n",
       "    </tr>\n",
       "    <tr>\n",
       "      <th>97</th>\n",
       "      <td>4</td>\n",
       "      <td>Good quality product</td>\n",
       "      <td>I'm switching this phone to oppo reno 10x zoom...</td>\n",
       "    </tr>\n",
       "    <tr>\n",
       "      <th>98</th>\n",
       "      <td>5</td>\n",
       "      <td>Wonderful</td>\n",
       "      <td>Its good.. a little heavy on my pinky but its ...</td>\n",
       "    </tr>\n",
       "    <tr>\n",
       "      <th>99</th>\n",
       "      <td>5</td>\n",
       "      <td>Terrific</td>\n",
       "      <td>Simply Awesome\\n\\nI have upgraded from iPhone ...</td>\n",
       "    </tr>\n",
       "    <tr>\n",
       "      <th>100</th>\n",
       "      <td>5</td>\n",
       "      <td>Best in the market!</td>\n",
       "      <td>Damn this phone is a blast . Upgraded from and...</td>\n",
       "    </tr>\n",
       "  </tbody>\n",
       "</table>\n",
       "<p>100 rows × 3 columns</p>\n",
       "</div>"
      ],
      "text/plain": [
       "    Rating        Review Summary  \\\n",
       "1        5        Simply awesome   \n",
       "2        5      Perfect product!   \n",
       "3        5   Best in the market!   \n",
       "4        4       Value-for-money   \n",
       "5        5    Highly recommended   \n",
       "..     ...                   ...   \n",
       "96       5     Terrific purchase   \n",
       "97       4  Good quality product   \n",
       "98       5             Wonderful   \n",
       "99       5              Terrific   \n",
       "100      5   Best in the market!   \n",
       "\n",
       "                                           Full Review  \n",
       "1    Really satisfied with the Product I received.....  \n",
       "2    Amazing phone with great cameras and better ba...  \n",
       "3    Great iPhone very snappy experience as apple k...  \n",
       "4    I'm Really happy with the product\\nDelivery wa...  \n",
       "5    It's my first time to use iOS phone and I am l...  \n",
       "..                                                 ...  \n",
       "96   finally an iPhone with very nice battery backu...  \n",
       "97   I'm switching this phone to oppo reno 10x zoom...  \n",
       "98   Its good.. a little heavy on my pinky but its ...  \n",
       "99   Simply Awesome\\n\\nI have upgraded from iPhone ...  \n",
       "100  Damn this phone is a blast . Upgraded from and...  \n",
       "\n",
       "[100 rows x 3 columns]"
      ]
     },
     "execution_count": 515,
     "metadata": {},
     "output_type": "execute_result"
    }
   ],
   "source": [
    "# Creating dataframe\n",
    "df=pd.DataFrame({'Rating':ratings,'Review Summary':reviews_summary,'Full Review':full_reviews},index=range(1,101))\n",
    "\n",
    "# Displaying dataframe\n",
    "df"
   ]
  },
  {
   "cell_type": "markdown",
   "id": "779e69e2",
   "metadata": {},
   "source": [
    "6. Python program to scrape below data of first 100 sneakers listings on https://www.flipkart.com/ and display following below details -\n",
    "\n",
    "\n",
    "  1. Brand\n",
    "  \n",
    "  \n",
    "  2. Product Description\n",
    "  \n",
    "  \n",
    "  3. Price"
   ]
  },
  {
   "cell_type": "code",
   "execution_count": 516,
   "id": "5c6c2d21",
   "metadata": {},
   "outputs": [
    {
     "data": {
      "text/plain": [
       "<Response [200]>"
      ]
     },
     "execution_count": 516,
     "metadata": {},
     "output_type": "execute_result"
    }
   ],
   "source": [
    "# Sending a request to a website for scraping data\n",
    "page=requests.get(\"https://www.flipkart.com/\")\n",
    "page"
   ]
  },
  {
   "cell_type": "code",
   "execution_count": 517,
   "id": "205833f6",
   "metadata": {},
   "outputs": [],
   "source": [
    "# Creating WebDriver instance for controlling the Chrome browser using Selenium\n",
    "driver=webdriver.Chrome(r\"chromedriver.exe\")"
   ]
  },
  {
   "cell_type": "code",
   "execution_count": 518,
   "id": "e461ed9a",
   "metadata": {},
   "outputs": [],
   "source": [
    "# Opening webpage in the browser window controlled by the WebDriver instance\n",
    "driver.get(\"https://www.flipkart.com/\")"
   ]
  },
  {
   "cell_type": "code",
   "execution_count": 519,
   "id": "8bb3c635",
   "metadata": {},
   "outputs": [],
   "source": [
    "# Cancelling login pop up\n",
    "cancel_login_popup=driver.find_element(By.XPATH,\"//button[@class='_2KpZ6l _2doB4z']\")\n",
    "cancel_login_popup.click()"
   ]
  },
  {
   "cell_type": "code",
   "execution_count": 520,
   "id": "8af7dea4",
   "metadata": {},
   "outputs": [],
   "source": [
    "# Filling details in respective field\n",
    "product=driver.find_element(By.CLASS_NAME,\"_3704LK\")\n",
    "product.send_keys(\"sneakers\")\n",
    "\n",
    "# Clicking the search button\n",
    "search=driver.find_element(By.CLASS_NAME,\"L0Z3Pu\")\n",
    "search.click()"
   ]
  },
  {
   "cell_type": "code",
   "execution_count": 521,
   "id": "141440a4",
   "metadata": {},
   "outputs": [],
   "source": [
    "# 1 Webpage has 40 sneakers details therefore 3 pages will have details of 120 sneakers out of which 100 need to be displayed"
   ]
  },
  {
   "cell_type": "code",
   "execution_count": 522,
   "id": "618bc19f",
   "metadata": {},
   "outputs": [],
   "source": [
    "# Creating lists for storing data of brand, product description and price\n",
    "product_brand=[]\n",
    "product_description=[]\n",
    "product_price=[]"
   ]
  },
  {
   "cell_type": "code",
   "execution_count": 523,
   "id": "5dadb10b",
   "metadata": {},
   "outputs": [],
   "source": [
    "# Fetching data from webpages and storing in respective lists\n",
    "start=0\n",
    "end=3\n",
    "for page in range(start,end):\n",
    "    \n",
    "    brand=driver.find_elements(By.XPATH,'//div[@class=\"_2WkVRV\"]')\n",
    "    for i in brand:\n",
    "        product_brand.append(i.text)\n",
    "    product_brand\n",
    "    \n",
    "    description=driver.find_elements(By.XPATH,\"//*[contains(@class,'IRpwTa') or contains(@class,'IRpwTa _2-ICcC')]\")\n",
    "    for i in description:\n",
    "        product_description.append(i.text)\n",
    "    product_description\n",
    "    \n",
    "    price=driver.find_elements(By.XPATH,\"//div[@class='_30jeq3']\")\n",
    "    for i in price:\n",
    "        product_price.append(i.text)\n",
    "    product_price\n",
    "    \n",
    "    next_page=driver.find_element(By.XPATH,\"//a[contains(@class,'_1LKTO3') and span[text()='Next']]\")\n",
    "    next_page.click()\n",
    "    time.sleep(3)"
   ]
  },
  {
   "cell_type": "code",
   "execution_count": 524,
   "id": "a622fa3d",
   "metadata": {},
   "outputs": [],
   "source": [
    "# Displaying lists data"
   ]
  },
  {
   "cell_type": "code",
   "execution_count": 525,
   "id": "4f5a1e58",
   "metadata": {},
   "outputs": [
    {
     "name": "stdout",
     "output_type": "stream",
     "text": [
      "['BIRDE', 'RapidBox', 'Labbin', 'PUMA', 'PUMA', 'PUMA', 'BIRDE', 'kardam&sons', 'BIRDE', 'aadi', 'Xtoon', 'Brainer', 'BRUTON', 'Kraasa', 'PUMA', \"K' Footlance\", 'BRUTON', 'BRUTON', 'aadi', 'HRX by Hrithik Roshan', 'BRUTON', 'MEGPAR', 'Layasa', 'PUMA', 'HRX by Hrithik Roshan', 'PUMA', 'AIRBELL', 'BRUTON', 'RED TAPE', 'PUMA', 'kardam&sons', 'aadi', 'HRX by Hrithik Roshan', 'WHITE WALKERS', 'Shozie', 'HIGHLANDER', 'kardam&sons', 'RapidBox', 'aadi', 'aadi', 'BIRDE', 'SFR', 'HRX by Hrithik Roshan', 'asian', 'World Wear Footwear', 'K- FOOTLANCE', 'BIRDE', 'asian', 'PUMA', 'PUMA', 'HOTSTYLE', 'RapidBox', 'K- FOOTLANCE', 'PUMA', 'PUMA', 'PUMA', 'kardam&sons', 'BRUTON', 'U.S. POLO ASSN.', 'Labbin', 'Magnolia', 'TR', 'WHITE WALKERS', 'BRUTON', 'asian', 'LIBERTY', 'asian', 'aadi', 'HRX by Hrithik Roshan', 'HRX by Hrithik Roshan', 'RODDICK SHOES', 'Footox', 'U.S. POLO ASSN.', 'Sparx', 'PUMA', 'PUMA', 'RapidBox', 'Footox', 'HRX by Hrithik Roshan', 'BRUTON', 'SFR', 'City Soles', 'HRX by Hrithik Roshan', 'SFR', 'PUMA', 'HIGHLANDER', 'BRUTON', 'Aqualite', 'asian', 'HRX by Hrithik Roshan', 'SFR', 'CAMPUS', 'PUMA', 'Brainer', 'HOTSTYLE', 'HIGHLANDER', 'Aqualite', 'RapidBox', 'HIGHLANDER', 'HRX by Hrithik Roshan', 'kardam&sons', 'RapidBox', 'Sparx', 'BRUTON', 'HIGHLANDER', 'K- FOOTLANCE', 'RapidBox', 'Footox', 'asian', 'K- FOOTLANCE', 'Footox', 'Aqualite', 'BRUTON', 'PUMA', 'WOODLAND', 'lejano', 'Footox', 'CCICACO', 'kardam&sons', 'BIRDE']\n"
     ]
    }
   ],
   "source": [
    "print(product_brand)"
   ]
  },
  {
   "cell_type": "code",
   "execution_count": 526,
   "id": "f0c52bbc",
   "metadata": {
    "scrolled": true
   },
   "outputs": [
    {
     "name": "stdout",
     "output_type": "stream",
     "text": [
      "['Combo Pack Of 2 Casual Shoes Sneakers For Men', 'Sneakers For Men', 'Sneakers For Men', 'Buzz Sneakers For Men', 'Player Sneakers For Men', 'Hustle V2 Sneakers For Men', 'Combo Pack of 2 Casual Shoes Sneakers For Men', 'Fashionable Canvas Casual Partywear Outdoor Sneakers wh...', 'Combo Pack Of 2 Casual Shoes Sneakers For Men', 'Lightweight,Comfort,Summer,Trendy,Walking,Outdoor,Styli...', \"White casual, gym,training & Running sneakers for men's...\", 'Sneakers For Men', 'Modern Trendy Shoes Sneakers For Men', 'Sneakers For Women', 'Hustle V2 Sneakers For Men', 'Fashion and Stylish Soft Ultralight Lace Up Sneakers Ca...', '2 Combo Sneaker Shoes Sneakers For Men', 'Men Combo Pack of 2 Casual & Sneaker Shoes (Loafer Shoe...', 'Lightweight,Comfort,Summer,Trendy,Walking,Outdoor,Styli...', 'HRXLB-2B Sneakers For Men', 'Men Combo Pack of 2 Sports Shoes & Casual Sneakers For ...', 'Megpar White New Stylish Look Comfortable Casual Shoes ...', 'Sneakers For Men', 'Hustle V2 Sneakers For Men', 'HRXLB-2C Sneakers For Men', 'RS-Z Reinvention Sneakers For Men', 'Mesh Lightweight | Comfort |Premium | Trendy | Summer &...', 'Combo Pack Of 2 Casual Shoes Sneakers For Men', 'Sneakers For Men', 'Hustle V2 Sneakers For Men', 'Fashionable Canvas Casual Partywear Outdoor Sneakers wh...', 'Lightweight,Comfort,Summer,Trendy,Walking,Outdoor,Styli...', 'Sneakers For Men', 'Stylish & Trending Outdoor Walking Comfortable Sneakers...', 'Stylish Walking Partywear Sneakers Casual Shoes Sneaker...', 'Sneakers For Men', 'luxuryfashion fashionable casual sneaker shoes white Sn...', 'Sneakers For Men', 'Lightweight,Comfort,Summer,Trendy,Walking,Outdoor,Styli...', 'Sneakers For Men', 'Premium White Casual Shoes Sneakers For Men Sneakers Fo...', '2003-NAAVY-8 Sneakers For Men', 'Men White Urban Street Athleisure Shoes Sneakers For Me...', \"Men's W-05 Casual White Sneaker Shoes With Waterproof S...\", 'Latest Exclusive Affordable Collection of Trendy & Styl...', 'Sneakers For Men', 'Combo Pack of 2 Casual Shoes Sneakers For Men', 'asian Thunder-01 White Color Change Sneakers,Casuals,Lo...', 'Buzz Sneakers For Men', 'Shuffle RES Sneakers For Men', 'FAST Trendy Sneakers For Men', 'Sneakers For Men', 'Sneakers For Men', 'Harrow Wns Sneakers For Women', 'Zod Runner V3 Sneakers For Men', 'Buzz Sneakers For Men', 'kardam&sons luxury fashionable Stylish Light Weight Sne...', 'Men Combo Pack of 2 Casual & Sneaker Shoes (Loafer Shoe...', 'PANAL Sneakers For Men', 'Sneakers For Men', 'Sneakers For Men', 'Lightweight|Comfort|Summer|Trendy|Walking|Outdoor|Daily...', 'Stylish & Trending Outdoor Walking Comfortable Sneakers...', 'Lattest Sneakers Shoe Sneakers For Men', 'Thunder-01 White Canvas, Sneakers For Men', 'JUMP-02 Sneakers For Men', 'Trendy-21 White Color Change Sneakers,Casuals,Loafers S...', 'Mesh |Lightweight|Comfort|Summer|Trendy|Walking|Outdoor...', 'Men White Blue Colourblocked Chunky Sneakers Sneakers F...', 'Men Retro Basket Ball Sneakers Sneakers For Men', 'Fashion Outdoor Canvas Casual Light Weight Lace-up Even...', 'Sneaker for Mens | Casual Shoes | Men Shoes Sneakers Fo...', 'CLARKIN Sneakers For Men', 'Men White Sneakers Sneakers For Men', 'Zod Runner V3 Sneakers For Men', 'Buzz Sneakers For Men', 'Sneakers For Men', 'Sneaker for Mens | Casual Shoes | Men Shoes Sneakers Fo...', 'Men Street Athleisure Shoe Sneakers For Men', 'Combo Pack Of 4 Casual Shoes Loafer Shoes Sneakers For ...', 'Mid-Top Combo Pack of 02 Pairs Lace-ups Trainer Shoes S...', 'Canvas Shoes for Men Sneakers For Men', 'Men Street Athleisure Shoe Sneakers For Men', '2006 Trenddy Fashion Sporty Casuals Sneakers Running Sh...', 'Ferrari Neo Cat Mid Sneakers For Men', 'Sneakers For Men', 'Combo Pack Of 2 Casual Shoes Sneakers For Men', 'Running Shoes,Sports Shoes for Women|Memory Foam Insole...', \"Newton-01 Men's Lightweight Running Shoes Sneakers For ...\", 'Sneakers For Men', 'Casual Shoes For Men Sneakers For Men', 'CAMP CLINT Sneakers For Men', 'Buzz Sneakers For Men', 'Sneakers For Men', 'Combo Pack Of 2 Sneakers For Men', 'Sneakers For Men', 'Running Shoes,Sports Shoes for Women|Memory Foam Insole...', 'Sneakers For Men', 'Sneakers For Men', 'Sneakers For Men', 'Canvas Casual Partywear Outdoor Shoes For Boys Sneakers...', 'RapidBox Men Shoes Sneakers For Men', 'Stylish and Comfirtable Shoes For Mens Sneakers For Men', 'Combo Pack Of 2 Casual Shoes Sneakers For Men', 'Sneakers For Men', 'Sneakers For Men', 'Stylish & Trendy Sneakers For Men', 'Sneaker for Mens | Casual Shoes | Men Shoes Sneakers Fo...', 'SM-162 Black Walking ,Training,Sneakers,Loafers,Canvas,...', 'Sneakers For Men', \"Men's Shoes | Casual Shoes | Sports Shoes Sneakers For ...\", 'Running Shoes,Sports Shoes for Women|Memory Foam Insole...', 'Combo Pack Of 2 Casual Shoes Sneakers For Men Sneakers ...', 'UP Sneakers For Men', 'Sneakers For Men', 'Sneakers For Men', 'Sneaker for Mens | Casual Shoes | Men Shoes Sneakers Fo...', 'kardam&sons luxury fashionable casual sneaker shoes Sne...', 'kardam&sons luxury fashionable Stylish Light Weight Sne...', 'Combo Pack of 2 Sports Sneakers For Men']\n"
     ]
    }
   ],
   "source": [
    "print(product_description)"
   ]
  },
  {
   "cell_type": "code",
   "execution_count": 527,
   "id": "fad67ad5",
   "metadata": {},
   "outputs": [
    {
     "name": "stdout",
     "output_type": "stream",
     "text": [
      "['₹499', '₹549', '₹349', '₹1,149', '₹1,074', '₹1,499', '₹479', '₹339', '₹499', '₹249', '₹499', '₹299', '₹229', '₹299', '₹1,499', '₹299', '₹399', '₹369', '₹299', '₹1,109', '₹369', '₹461', '₹299', '₹1,499', '₹1,047', '₹4,421', '₹692', '₹399', '₹1,099', '₹1,499', '₹369', '₹499', '₹1,149', '₹399', '₹399', '₹398', '₹359', '₹699', '₹249', '₹349', '₹429', '₹369', '₹1,047', '₹599', '₹249', '₹299', '₹579', '₹714', '₹1,149', '₹2,199', '₹299', '₹549', '₹299', '₹1,049', '₹1,299', '₹1,124', '₹441', '₹369', '₹1,259', '₹399', '₹398', '₹299', '₹399', '₹249', '₹749', '₹329', '₹699', '₹299', '₹1,248', '₹1,224', '₹427', '₹399', '₹1,259', '₹719', '₹1,099', '₹1,124', '₹549', '₹399', '₹1,224', '₹399', '₹379', '₹710', '₹1,224', '₹279', '₹3,296', '₹239', '₹399', '₹599', '₹499', '₹1,274', '₹299', '₹1,849', '₹1,149', '₹299', '₹429', '₹597', '₹599', '₹549', '₹597', '₹1,224', '₹339', '₹699', '₹649', '₹399', '₹597', '₹299', '₹549', '₹399', '₹499', '₹299', '₹249', '₹599', '₹399', '₹2,079', '₹1,941', '₹369', '₹399', '₹699', '₹429', '₹499']\n"
     ]
    }
   ],
   "source": [
    "print(product_price)"
   ]
  },
  {
   "cell_type": "code",
   "execution_count": 528,
   "id": "51fbbc6a",
   "metadata": {},
   "outputs": [
    {
     "name": "stdout",
     "output_type": "stream",
     "text": [
      "120\n",
      "120\n",
      "120\n"
     ]
    }
   ],
   "source": [
    "# Checking the lengths of lists\n",
    "print(len(product_brand))\n",
    "print(len(product_description))\n",
    "print(len(product_price))"
   ]
  },
  {
   "cell_type": "code",
   "execution_count": 529,
   "id": "861a891f",
   "metadata": {},
   "outputs": [],
   "source": [
    "# Only 100 sneakers details need to be displayed"
   ]
  },
  {
   "cell_type": "code",
   "execution_count": 530,
   "id": "1c2b411b",
   "metadata": {
    "scrolled": false
   },
   "outputs": [
    {
     "data": {
      "text/html": [
       "<div>\n",
       "<style scoped>\n",
       "    .dataframe tbody tr th:only-of-type {\n",
       "        vertical-align: middle;\n",
       "    }\n",
       "\n",
       "    .dataframe tbody tr th {\n",
       "        vertical-align: top;\n",
       "    }\n",
       "\n",
       "    .dataframe thead th {\n",
       "        text-align: right;\n",
       "    }\n",
       "</style>\n",
       "<table border=\"1\" class=\"dataframe\">\n",
       "  <thead>\n",
       "    <tr style=\"text-align: right;\">\n",
       "      <th></th>\n",
       "      <th>Brand</th>\n",
       "      <th>Product Description</th>\n",
       "      <th>Price</th>\n",
       "    </tr>\n",
       "  </thead>\n",
       "  <tbody>\n",
       "    <tr>\n",
       "      <th>1</th>\n",
       "      <td>BIRDE</td>\n",
       "      <td>Combo Pack Of 2 Casual Shoes Sneakers For Men</td>\n",
       "      <td>₹499</td>\n",
       "    </tr>\n",
       "    <tr>\n",
       "      <th>2</th>\n",
       "      <td>RapidBox</td>\n",
       "      <td>Sneakers For Men</td>\n",
       "      <td>₹549</td>\n",
       "    </tr>\n",
       "    <tr>\n",
       "      <th>3</th>\n",
       "      <td>Labbin</td>\n",
       "      <td>Sneakers For Men</td>\n",
       "      <td>₹349</td>\n",
       "    </tr>\n",
       "    <tr>\n",
       "      <th>4</th>\n",
       "      <td>PUMA</td>\n",
       "      <td>Buzz Sneakers For Men</td>\n",
       "      <td>₹1,149</td>\n",
       "    </tr>\n",
       "    <tr>\n",
       "      <th>5</th>\n",
       "      <td>PUMA</td>\n",
       "      <td>Player Sneakers For Men</td>\n",
       "      <td>₹1,074</td>\n",
       "    </tr>\n",
       "    <tr>\n",
       "      <th>...</th>\n",
       "      <td>...</td>\n",
       "      <td>...</td>\n",
       "      <td>...</td>\n",
       "    </tr>\n",
       "    <tr>\n",
       "      <th>96</th>\n",
       "      <td>HIGHLANDER</td>\n",
       "      <td>Sneakers For Men</td>\n",
       "      <td>₹597</td>\n",
       "    </tr>\n",
       "    <tr>\n",
       "      <th>97</th>\n",
       "      <td>Aqualite</td>\n",
       "      <td>Running Shoes,Sports Shoes for Women|Memory Fo...</td>\n",
       "      <td>₹599</td>\n",
       "    </tr>\n",
       "    <tr>\n",
       "      <th>98</th>\n",
       "      <td>RapidBox</td>\n",
       "      <td>Sneakers For Men</td>\n",
       "      <td>₹549</td>\n",
       "    </tr>\n",
       "    <tr>\n",
       "      <th>99</th>\n",
       "      <td>HIGHLANDER</td>\n",
       "      <td>Sneakers For Men</td>\n",
       "      <td>₹597</td>\n",
       "    </tr>\n",
       "    <tr>\n",
       "      <th>100</th>\n",
       "      <td>HRX by Hrithik Roshan</td>\n",
       "      <td>Sneakers For Men</td>\n",
       "      <td>₹1,224</td>\n",
       "    </tr>\n",
       "  </tbody>\n",
       "</table>\n",
       "<p>100 rows × 3 columns</p>\n",
       "</div>"
      ],
      "text/plain": [
       "                     Brand                                Product Description  \\\n",
       "1                    BIRDE      Combo Pack Of 2 Casual Shoes Sneakers For Men   \n",
       "2                 RapidBox                                   Sneakers For Men   \n",
       "3                   Labbin                                   Sneakers For Men   \n",
       "4                     PUMA                              Buzz Sneakers For Men   \n",
       "5                     PUMA                            Player Sneakers For Men   \n",
       "..                     ...                                                ...   \n",
       "96              HIGHLANDER                                   Sneakers For Men   \n",
       "97                Aqualite  Running Shoes,Sports Shoes for Women|Memory Fo...   \n",
       "98                RapidBox                                   Sneakers For Men   \n",
       "99              HIGHLANDER                                   Sneakers For Men   \n",
       "100  HRX by Hrithik Roshan                                   Sneakers For Men   \n",
       "\n",
       "      Price  \n",
       "1      ₹499  \n",
       "2      ₹549  \n",
       "3      ₹349  \n",
       "4    ₹1,149  \n",
       "5    ₹1,074  \n",
       "..      ...  \n",
       "96     ₹597  \n",
       "97     ₹599  \n",
       "98     ₹549  \n",
       "99     ₹597  \n",
       "100  ₹1,224  \n",
       "\n",
       "[100 rows x 3 columns]"
      ]
     },
     "execution_count": 530,
     "metadata": {},
     "output_type": "execute_result"
    }
   ],
   "source": [
    "# Creating dataframe\n",
    "df=pd.DataFrame({'Brand':product_brand[0:100],'Product Description':product_description[0:100],'Price':product_price[0:100]},index=range(1,101))\n",
    "\n",
    "# Displaying dataframe\n",
    "df"
   ]
  },
  {
   "cell_type": "markdown",
   "id": "6766096d",
   "metadata": {},
   "source": [
    "7. Python program to scrape data of first 10 laptop from https://www.amazon.in/ by setting CPU Type “Intel Core i7” filter and display scraped data of following below attributes for each laptop\n",
    "\n",
    "\n",
    "  1. Title\n",
    "\n",
    "\n",
    "  2. Ratings\n",
    "\n",
    "\n",
    "  3. Price"
   ]
  },
  {
   "cell_type": "code",
   "execution_count": 531,
   "id": "948e7ee0",
   "metadata": {},
   "outputs": [
    {
     "data": {
      "text/plain": [
       "<Response [503]>"
      ]
     },
     "execution_count": 531,
     "metadata": {},
     "output_type": "execute_result"
    }
   ],
   "source": [
    "# Sending a request to a website for scraping data\n",
    "page=requests.get(\"https://www.amazon.in/\")\n",
    "page"
   ]
  },
  {
   "cell_type": "code",
   "execution_count": 532,
   "id": "4f0d6217",
   "metadata": {},
   "outputs": [],
   "source": [
    "# Creating WebDriver instance for controlling the Chrome browser using Selenium\n",
    "driver=webdriver.Chrome(r\"chromedriver.exe\")"
   ]
  },
  {
   "cell_type": "code",
   "execution_count": 533,
   "id": "b50c6f12",
   "metadata": {},
   "outputs": [],
   "source": [
    "# Opening webpage in the browser window controlled by the WebDriver instance\n",
    "driver.get(\"https://www.amazon.in/\")"
   ]
  },
  {
   "cell_type": "code",
   "execution_count": 534,
   "id": "110e8fd6",
   "metadata": {},
   "outputs": [],
   "source": [
    "# Filling details in respective field\n",
    "product=driver.find_element(By.ID,\"twotabsearchtextbox\")\n",
    "product.send_keys(\"Laptop\")\n",
    "\n",
    "# Clicking the search button\n",
    "search=driver.find_element(By.ID,\"nav-search-submit-button\")\n",
    "search.click()"
   ]
  },
  {
   "cell_type": "code",
   "execution_count": 535,
   "id": "cd63d93f",
   "metadata": {},
   "outputs": [],
   "source": [
    "# Applying filters\n",
    "CPU_type_filter=driver.find_element(By.XPATH,\"//span[text()='Intel Core i7']\")\n",
    "CPU_type_filter.click()"
   ]
  },
  {
   "cell_type": "code",
   "execution_count": 536,
   "id": "ed0b231b",
   "metadata": {},
   "outputs": [],
   "source": [
    "# Creating lists for storing data of title, rating and price\n",
    "product_title=[]\n",
    "product_rating=[]\n",
    "product_price=[]"
   ]
  },
  {
   "cell_type": "code",
   "execution_count": 537,
   "id": "01955e0e",
   "metadata": {
    "scrolled": true
   },
   "outputs": [
    {
     "data": {
      "text/plain": [
       "['Lenovo ThinkPad E14 Intel Core i7 12th Gen 14\" FHD IPS Thin and Light Laptop (16GB RAM/1TB SSD/Windows 11 Home/MS Office H&S 2021/Backlit Keybaord/FPR/Black/1.59 kg), 21E3S05800',\n",
       " 'HP Laptop 15s, 12th Gen Intel Core i7-1255U, 15.6 inch(39.6cm)FHD Laptop(16GB RAM,512GB SSD,Intel Iris Xe Graphics,Dual Speakers,Alexa,Numeric Keypad,Win 11,MSO 21 1.69 Kgs,Natural Silver)15s-fq5190TU',\n",
       " 'Lenovo IdeaPad Slim 5 Intel Core i7 12th Gen 15.6\" (39.62cm) FHD IPS Thin & Light Laptop (16GB/512GB SSD/Windows 11/Office 2021/Backlit/FPR/3months Game Pass/Storm Grey/1.85Kg), 82SF008WIN',\n",
       " 'Acer Predator Helios Neo 16 Gaming Laptop 13th Gen Intel Core i7 Processor (16 GB/1 TB SSD/Windows 11 Home/NVIDIA® GeForce RTX™ 4050) PHN16-71, (16\") WUXGA Display',\n",
       " 'HP Envy x360 12th Gen Intel Core i7-13.3 inch(33.8 cm) OLED Multi-Touch Gorilla Glass 2-in-1 Laptop(16GB RAM/512GB SSD/400 nits/Win 11/Intel Iris Xe Graphics/Alexa/B&O/Zenvo Pen/MSO/1.32Kg)13 bf0059TU',\n",
       " 'HP Victus Gaming Latest 12th Gen Intel Core i7 12650H 15.6 inch(39.6 cm) FHD Gaming Laptop (8GB RAM/512GB SSD/RTX 3050 4GB Graphics/144Hz/9ms Rs Time/Win 11/MSO/BL KB/B&O/Alexa/Xbox Pass),15-fa0073TX',\n",
       " 'Dell G15-5530 Gaming Laptop, Intel Core i7-13650HX/16GB/512GB SSD/NVIDIA RTX 4050, 6GB GDDR6/15.6\" (39.62Cms) FHD 120Hz 250 nits/Win 11+MSO\\'21+McAfee 15 Month/Dark Shadow Gray/2.65Kgs',\n",
       " 'HP Pavilion 14 12th Gen Intel Core i7 16GB SDRAM/1TB SSD 14 inch(35.6cm) FHD,IPS,Micro-Edge Display/Intel Iris Xe Graphics/B&O/Win 11/Alexa Built-in/Backlit KB/FPR/MSO 2021/Natural Silver,14-dv2015TU',\n",
       " 'ASUS TUF Gaming F15 (2022), 15.6\"(39.62 cms) FHD 144Hz, Intel Core i7-12700H 12th Gen, RTX 3050 Ti 4GB Graphics, Gaming Laptop (16GB/512GB SSD/90WHrs Battery/Windows 11/Gray/2.2 Kg), FX507ZE-HN038W',\n",
       " 'HP Pavilion Plus, 12th Gen Intel Core i7 16GB RAM/1TB SSD 14 inch(35.6 cm)Creator Laptop with OLED,UWVA,Eye Safe Laptop/Intel Iris Xe Graphics/Backlit KB/B&O/FPR/Win 11/Alexa Built-in/MSO,14-eh0024TU']"
      ]
     },
     "execution_count": 537,
     "metadata": {},
     "output_type": "execute_result"
    }
   ],
   "source": [
    "# Fetching data and storing in respective list\n",
    "title=driver.find_elements(By.XPATH,'//span[@class=\"a-size-medium a-color-base a-text-normal\"]')\n",
    "for i in title[0:10]:\n",
    "    product_title.append(i.text)\n",
    "product_title"
   ]
  },
  {
   "cell_type": "code",
   "execution_count": 538,
   "id": "831750d7",
   "metadata": {},
   "outputs": [
    {
     "data": {
      "text/plain": [
       "['', '', '', '', '', '', '', '', '', '']"
      ]
     },
     "execution_count": 538,
     "metadata": {},
     "output_type": "execute_result"
    }
   ],
   "source": [
    "# Fetching data and storing in respective list\n",
    "rating=driver.find_elements(By.XPATH,\"//span[@class='a-icon-alt']\" )\n",
    "for i in rating[0:10]:\n",
    "    product_rating.append(i.text)\n",
    "product_rating\n",
    "\n",
    "# rating data is not fetchable"
   ]
  },
  {
   "cell_type": "code",
   "execution_count": 539,
   "id": "eab35c9b",
   "metadata": {
    "scrolled": true
   },
   "outputs": [
    {
     "data": {
      "text/plain": [
       "['98,990',\n",
       " '70,990',\n",
       " '79,990',\n",
       " '1,29,990',\n",
       " '1,03,990',\n",
       " '90,990',\n",
       " '1,31,860',\n",
       " '84,999',\n",
       " '93,990',\n",
       " '93,990']"
      ]
     },
     "execution_count": 539,
     "metadata": {},
     "output_type": "execute_result"
    }
   ],
   "source": [
    "# Fetching data and storing in respective list\n",
    "price=driver.find_elements(By.XPATH,'//span[@class=\"a-price-whole\"]')\n",
    "for i in price[0:10]:\n",
    "    product_price.append(i.text)\n",
    "product_price"
   ]
  },
  {
   "cell_type": "code",
   "execution_count": 540,
   "id": "9b193414",
   "metadata": {
    "scrolled": true
   },
   "outputs": [
    {
     "name": "stdout",
     "output_type": "stream",
     "text": [
      "10 10\n"
     ]
    }
   ],
   "source": [
    "# Checking the lengths of lists\n",
    "print(len(product_title),len(product_price))"
   ]
  },
  {
   "cell_type": "code",
   "execution_count": 541,
   "id": "fe930e1e",
   "metadata": {},
   "outputs": [
    {
     "data": {
      "text/html": [
       "<div>\n",
       "<style scoped>\n",
       "    .dataframe tbody tr th:only-of-type {\n",
       "        vertical-align: middle;\n",
       "    }\n",
       "\n",
       "    .dataframe tbody tr th {\n",
       "        vertical-align: top;\n",
       "    }\n",
       "\n",
       "    .dataframe thead th {\n",
       "        text-align: right;\n",
       "    }\n",
       "</style>\n",
       "<table border=\"1\" class=\"dataframe\">\n",
       "  <thead>\n",
       "    <tr style=\"text-align: right;\">\n",
       "      <th></th>\n",
       "      <th>Title</th>\n",
       "      <th>Price in rupees</th>\n",
       "    </tr>\n",
       "  </thead>\n",
       "  <tbody>\n",
       "    <tr>\n",
       "      <th>1</th>\n",
       "      <td>Lenovo ThinkPad E14 Intel Core i7 12th Gen 14\"...</td>\n",
       "      <td>98,990</td>\n",
       "    </tr>\n",
       "    <tr>\n",
       "      <th>2</th>\n",
       "      <td>HP Laptop 15s, 12th Gen Intel Core i7-1255U, 1...</td>\n",
       "      <td>70,990</td>\n",
       "    </tr>\n",
       "    <tr>\n",
       "      <th>3</th>\n",
       "      <td>Lenovo IdeaPad Slim 5 Intel Core i7 12th Gen 1...</td>\n",
       "      <td>79,990</td>\n",
       "    </tr>\n",
       "    <tr>\n",
       "      <th>4</th>\n",
       "      <td>Acer Predator Helios Neo 16 Gaming Laptop 13th...</td>\n",
       "      <td>1,29,990</td>\n",
       "    </tr>\n",
       "    <tr>\n",
       "      <th>5</th>\n",
       "      <td>HP Envy x360 12th Gen Intel Core i7-13.3 inch(...</td>\n",
       "      <td>1,03,990</td>\n",
       "    </tr>\n",
       "    <tr>\n",
       "      <th>6</th>\n",
       "      <td>HP Victus Gaming Latest 12th Gen Intel Core i7...</td>\n",
       "      <td>90,990</td>\n",
       "    </tr>\n",
       "    <tr>\n",
       "      <th>7</th>\n",
       "      <td>Dell G15-5530 Gaming Laptop, Intel Core i7-136...</td>\n",
       "      <td>1,31,860</td>\n",
       "    </tr>\n",
       "    <tr>\n",
       "      <th>8</th>\n",
       "      <td>HP Pavilion 14 12th Gen Intel Core i7 16GB SDR...</td>\n",
       "      <td>84,999</td>\n",
       "    </tr>\n",
       "    <tr>\n",
       "      <th>9</th>\n",
       "      <td>ASUS TUF Gaming F15 (2022), 15.6\"(39.62 cms) F...</td>\n",
       "      <td>93,990</td>\n",
       "    </tr>\n",
       "    <tr>\n",
       "      <th>10</th>\n",
       "      <td>HP Pavilion Plus, 12th Gen Intel Core i7 16GB ...</td>\n",
       "      <td>93,990</td>\n",
       "    </tr>\n",
       "  </tbody>\n",
       "</table>\n",
       "</div>"
      ],
      "text/plain": [
       "                                                Title Price in rupees\n",
       "1   Lenovo ThinkPad E14 Intel Core i7 12th Gen 14\"...          98,990\n",
       "2   HP Laptop 15s, 12th Gen Intel Core i7-1255U, 1...          70,990\n",
       "3   Lenovo IdeaPad Slim 5 Intel Core i7 12th Gen 1...          79,990\n",
       "4   Acer Predator Helios Neo 16 Gaming Laptop 13th...        1,29,990\n",
       "5   HP Envy x360 12th Gen Intel Core i7-13.3 inch(...        1,03,990\n",
       "6   HP Victus Gaming Latest 12th Gen Intel Core i7...          90,990\n",
       "7   Dell G15-5530 Gaming Laptop, Intel Core i7-136...        1,31,860\n",
       "8   HP Pavilion 14 12th Gen Intel Core i7 16GB SDR...          84,999\n",
       "9   ASUS TUF Gaming F15 (2022), 15.6\"(39.62 cms) F...          93,990\n",
       "10  HP Pavilion Plus, 12th Gen Intel Core i7 16GB ...          93,990"
      ]
     },
     "execution_count": 541,
     "metadata": {},
     "output_type": "execute_result"
    }
   ],
   "source": [
    "# Creating dataframe\n",
    "df=pd.DataFrame({'Title':product_title[0:10],'Price in rupees':product_price[0:10]},index=range(1,11))\n",
    "\n",
    "# Displaying dataframe\n",
    "df"
   ]
  },
  {
   "cell_type": "markdown",
   "id": "02e8dae6",
   "metadata": {},
   "source": [
    "8. Python program to scrape data for Top 1000 quotes of all time from https://www.azquotes.com/ with scraped data of following attributes -\n",
    "   \n",
    "   a) Quote \n",
    "   \n",
    "   b) Author \n",
    "   \n",
    "   c) Type Of Quotes"
   ]
  },
  {
   "cell_type": "code",
   "execution_count": 582,
   "id": "144adf67",
   "metadata": {},
   "outputs": [
    {
     "data": {
      "text/plain": [
       "<Response [200]>"
      ]
     },
     "execution_count": 582,
     "metadata": {},
     "output_type": "execute_result"
    }
   ],
   "source": [
    "# Sending a request to a website for scraping data\n",
    "page=requests.get(\"https://www.azquotes.com/\")\n",
    "page"
   ]
  },
  {
   "cell_type": "code",
   "execution_count": 583,
   "id": "24478cfe",
   "metadata": {},
   "outputs": [],
   "source": [
    "# Creating WebDriver instance for controlling the Chrome browser using Selenium\n",
    "driver=webdriver.Chrome(r\"chromedriver.exe\")"
   ]
  },
  {
   "cell_type": "code",
   "execution_count": 584,
   "id": "c9a73ca4",
   "metadata": {},
   "outputs": [],
   "source": [
    "# Opening webpage in the browser window controlled by the WebDriver instance\n",
    "driver.get(\"https://www.azquotes.com/\")"
   ]
  },
  {
   "cell_type": "code",
   "execution_count": 585,
   "id": "635dbda9",
   "metadata": {},
   "outputs": [],
   "source": [
    "# Clicking the top quotes option\n",
    "top_quotes=driver.find_element(By.XPATH,\"/html/body/div[1]/div[1]/div[1]/div/div[3]/ul/li[5]\")\n",
    "top_quotes.click()"
   ]
  },
  {
   "cell_type": "code",
   "execution_count": 586,
   "id": "fda56e9c",
   "metadata": {},
   "outputs": [],
   "source": [
    "# Creating lists for storing data of quotes, authors and type of quotes\n",
    "quotes=[]\n",
    "authors=[]\n",
    "type_of_quotes=[]"
   ]
  },
  {
   "cell_type": "code",
   "execution_count": 587,
   "id": "dfc1a015",
   "metadata": {},
   "outputs": [],
   "source": [
    "# 1 webpage has 100 quotes therefore for 1000 quotes, 10 webpages need to be loaded"
   ]
  },
  {
   "cell_type": "code",
   "execution_count": null,
   "id": "edbc3651",
   "metadata": {},
   "outputs": [],
   "source": [
    "# Fetching data from webpages and storing in respective lists\n",
    "start=0\n",
    "end=10\n",
    "for page in range(start,end):\n",
    "    \n",
    "    quote=driver.find_elements(By.XPATH,'//a[@class=\"title\"]')\n",
    "    for i in quote:\n",
    "        quotes.append(i.text)\n",
    "    quotes\n",
    "    \n",
    "    author=driver.find_elements(By.XPATH,'//div[@class=\"author\"]')\n",
    "    for i in author:\n",
    "        authors.append(i.text)\n",
    "    authors\n",
    "    \n",
    "    type_of_quote=driver.find_elements(By.XPATH,'//div[@class=\"tags\"]')\n",
    "    for i in type_of_quote:\n",
    "        type_of_quotes.append(i.text)\n",
    "    type_of_quotes\n",
    "    \n",
    "\n",
    "    next_page=driver.find_element(By.XPATH,\"//li[@class='next']\")\n",
    "    next_page.click()\n",
    "    time.sleep(5)"
   ]
  },
  {
   "cell_type": "code",
   "execution_count": 589,
   "id": "7c7edc77",
   "metadata": {},
   "outputs": [],
   "source": [
    "# Displaying lists data"
   ]
  },
  {
   "cell_type": "code",
   "execution_count": 590,
   "id": "bdbcfa40",
   "metadata": {},
   "outputs": [
    {
     "name": "stdout",
     "output_type": "stream",
     "text": [
      "['The essence of strategy is choosing what not to do.', 'One cannot and must not try to erase the past merely because it does not fit the present.', 'Patriotism means to stand by the country. It does not mean to stand by the president.', 'Death is something inevitable. When a man has done what he considers to be his duty to his people and his country, he can rest in peace. I believe I have made that effort and that is, therefore, why I will sleep for the eternity.', 'You have to love a nation that celebrates its independence every July 4, not with a parade of guns, tanks, and soldiers who file by the White House in a show of strength and muscle, but with family picnics where kids throw Frisbees, the potato salad gets iffy, and the flies die from happiness. You may think you have overeaten, but it is patriotism.', 'Be more concerned with your character than your reputation, because your character is what you really are, while your reputation is merely what others think you are.', 'Weak people revenge. Strong people forgive. Intelligent People Ignore.', \"A mind is like a parachute. It doesn't work if it is not open.\", 'Never be afraid to raise your voice for honesty and truth and compassion against injustice and lying and greed. If people all over the world...would do this, it would change the earth.', 'There are three kinds of men. The one that learns by reading. The few who learn by observation. The rest of them have to pee on the electric fence for themselves.', \"A strong nation, like a strong person, can afford to be gentle, firm, thoughtful, and restrained. It can afford to extend a helping hand to others. It's a weak nation, like a weak person, that must behave with bluster and boasting and rashness and other signs of insecurity.\", 'The difference between stupidity and genius is that genius has its limits.', 'We the people are the rightful masters of both Congress and the courts, not to overthrow the Constitution but to overthrow the men who pervert the Constitution.', 'With or without religion, you would have good people doing good things and evil people doing evil things. But for good people to do evil things, that takes religion.', 'Human kindness has never weakened the stamina or softened the fiber of a free people. A nation does not have to be cruel to be tough.', 'A person who never made a mistake never tried anything new.', 'My mission in life is not merely to survive, but to thrive; and to do so with some passion, some compassion, some humor, and some style', 'Life is short, Break the Rules. Forgive quickly, Kiss slowly. Love truly. Laugh uncontrollably And never regret ANYTHING That makes you smile.', 'This country will not be a good place for any of us to live in unless we make it a good place for all of us to live in.', 'In a world filled with hate, we must still dare to hope. In a world filled with anger, we must still dare to comfort. In a world filled with despair, we must still dare to dream. And in a world filled with distrust, we must still dare to believe.', 'Darkness cannot drive out darkness; only light can do that. Hate cannot drive out hate; only love can do that.', 'To be a Christian means to forgive the inexcusable because God has forgiven the inexcusable in you.', 'A man who is good enough to shed his blood for the country is good enough to be given a square deal afterwards.', 'Kindness is the language which the deaf can hear and the blind can see.', 'Most folks are as happy as they make up their minds to be.', 'A happy marriage is the union of two good forgivers.', 'I believe in Christianity as I believe that the sun has risen: not only because I see it, but because by it I see everything else.', 'Politics is the art of looking for trouble, finding it everywhere, diagnosing it incorrectly and applying the wrong remedies.', \"I believe in everything until it's disproved. So I believe in fairies, the myths, dragons. It all exists, even if it's in your mind. Who's to say that dreams and nightmares aren't as real as the here and now?\", 'At the end of your life, you will never regret not having passed one more test, not winning one more verdict or not closing one more deal. You will regret time not spent with a husband, a friend, a child, or a parent.', 'I never think of the future - it comes soon enough.', \"Our greatest fear should not be of failure but of succeeding at things in life that don't really matter.\", 'Failure is simply the opportunity to begin again, this time more intelligently.', 'Music expresses that which cannot be put into words.', 'Good actions are a guard against the blows of adversity.', 'Positive thinking will let you do everything better than negative thinking will.', \"You have enemies? Good. That means you've stood up for something, sometime in your life.\", \"You don't have to be great to start, but you have to start to be great\", 'Let every nation know, whether it wishes us well or ill, that we shall pay any price, bear any burden, meet any hardship, support any friend, oppose any foe to assure the survival and the success of liberty.', \"If you want total security, go to prison. There you're fed, clothed, given medical care and so on. The only thing lacking... is freedom.\", 'Socialism is a philosophy of failure, the creed of ignorance, and the gospel of envy, its inherent virtue is the equal sharing of misery.', 'It is the supreme art of the teacher to awaken joy in creative expression and knowledge.', \"Once you replace negative thoughts with positive ones, you'll start having positive results.\", \"You build on failure. You use it as a stepping stone. Close the door on the past. You don't try to forget the mistakes, but you don't dwell on it. You don't let it have any of your energy, or any of your time, or any of your space.\", 'All my life through, the new sights of Nature made me rejoice like a child.', \"I've learned that people will forget what you said, people will forget what you did, but people will never forget how you made them feel.\", 'Marriage is not a ritual or an end. It is a long, intricate, intimate dance together and nothing matters more than your own sense of balance and your choice of partner.', 'When obstacles arise, you change your direction to reach your goal; you do not change your decision to get there.', 'Time you enjoy wasting, was not wasted.', 'The next time some academics tell you how important diversity is, ask how many Republicans there are in their sociology department.', 'Faith is not the belief that God will do what you want. It is the belief that God will do what is right.', \"If you can't fly then run, if you can't run then walk, if you can't walk then crawl, but whatever you do you have to keep moving forward.\", 'I say that the most liberating thing about beauty is realizing that you are the beholder.', 'It is hard to imagine a more stupid or more dangerous way of making decisions than by putting those decisions in the hands of people who pay no price for being wrong.', 'The ultimate measure of a man is not where he stands in moments of comfort and convenience, but where he stands at times of challenge and controversy.', 'The soldier, above all other people, prays for peace, for he must suffer and bear the deepest wounds and scars of war.', 'A true leader has the confidence to stand alone, the courage to make tough decisions, and the compassion to listen to the needs of others. He does not set out to be a leader, but becomes one by the equality of his actions and the integrity of his intent.', 'I am a Soldier, I fight where I am told, and I win where I fight.', \"Trying to do the Lord's work in your own strength is the most confusing, exhausting, and tedious of all work. But when you are filled with the Holy Spirit, then the ministry of Jesus just flows out of you.\", \"Sports for me is when a guy walks off the court, and you really can't tell whether he won or lost, when he carries himself with pride either way.\", 'Expect the best. Prepare for the worst. Capitalize on what comes.', 'I became insane, with long intervals of horrible sanity.', 'Failure is a detour, not a dead-end street.', 'I am not a product of my circumstances. I am a product of my decisions.', 'You can cut all the flowers but you cannot keep spring from coming.', \"Life doesn't run away from nobody. Life runs at people.\", 'In order to succeed, your desire for success should be greater than your fear of failure.', \"It's difficult to think anything but pleasant thoughts while eating a homegrown tomato.\", 'Too many of us are not living our dreams because we are living our fears.', 'If the only prayer you ever say in your entire life is thank you, it will be enough.', \"It's just a job. Grass grows, birds fly, waves pound the sand. I beat people up.\", 'A man must be big enough to admit his mistakes, smart enough to profit from them, and strong enough to correct them.', 'Our greatest weakness lies in giving up. The most certain way to succeed is always to try just one more time.', 'This is one small step for a man, one giant leap for mankind.', \"It has been said, 'time heals all wounds.' I do not agree. The wounds remain. In time, the mind, protecting its sanity, covers them with scar tissue and the pain lessens. But it is never gone.\", \"I have held many things in my hands, and I have lost them all; but whatever I have placed in God's hands, that I still possess.\", \"Welfare's purpose should be to eliminate, as far as possible, the need for its own existence.\", 'Each time, before you intercede, be quiet first, and worship God in His glory. Think of what He can do, and how He delights to hear the prayers of His redeemed people. Think of your place and privilege in Christ, and expect great things!', \"Failure is not the opposite of success; it's part of success.\", 'No one has ever become poor by giving.', 'It is not my ability, but my response to God’s ability, that counts.', 'No one is born hating another person because of the color of his skin, or his background, or his religion. People must learn to hate, and if they can learn to hate, they can be taught to love, for love comes more naturally to the human heart than its opposite.', 'No matter what people tell you, words and ideas can change the world.', 'A man should never neglect his family for business.', 'Those who dare to fail miserably can achieve greatly.', 'The two most important days in your life are the day you are born and the day you find out why.', 'We must be global Christians with a global vision because our God is a global God.', 'With everything that has happened to you, you can either feel sorry for yourself or treat what has happened as a gift. Everything is either an opportunity to grow or an obstacle to keep you from growing. You get to choose.', 'Don’t let the noise of others’ opinions drown out your own inner voice.', 'History, despite its wrenching pain, cannot be unlived, but if faced with courage, need not be lived again.', \"How old would you be if you didn't know how old you are?\", 'Leadership is a privilege to better the lives of others. It is not an opportunity to satisfy personal greed.', 'If you have good thoughts they will shine out of your face like sunbeams and you will always look lovely.', 'Never cut a tree down in the wintertime. Never make a negative decision in the low time. Never make your most important decisions when you are in your worst moods. Wait. Be patient. The storm will pass. The spring will come.', 'An optimist stays up until midnight to see the new year in. A pessimist stays up to make sure the old year leaves.', 'When the going gets weird, the weird turn pro.', \"When a train goes through a tunnel and it gets dark, you don't throw away the ticket and jump off. You sit still and trust the engineer.\", 'If you think you are too small to make a difference, try sleeping with a mosquito.', \"God doesn't require us to succeed, he only requires that you try.\", 'Change your thoughts and you change your world.', 'Can words describe the fragrance of the very breath of spring?', 'Faith is to believe what you do not see; the reward of this faith is to see what you believe.', 'When everything seems to be going against you, remember that the airplane takes off against the wind, not with it.', 'I have found that if you love life, life will love you back.', 'To disarm the people... was the best and most effectual way to enslave them.', 'Today a reader, tomorrow a leader.', \"A dream doesn't become reality through magic; it takes sweat, determination and hard work.\", 'Whoever would overthrow the liberty of a nation must begin by subduing the freeness of speech.', \"It's better to be a lion for a day than a sheep all your life.\", 'Resolution One: I will live for God. Resolution Two: If no one else does, I still will.', 'Tell me and I forget. Teach me and I remember. Involve me and I learn.', 'Fear is the main source of superstition, and one of the main sources of cruelty. To conquer fear is the beginning of wisdom.', 'Do not be embarrassed by your failures, learn from them and start again.', 'Everyone should be respected as an individual, but no one idolized.', \"Our worst days are never so bad that you are beyond the reach of God's grace. And your best days are never so good that you are beyond the need of God's grace.\", 'The more you like yourself, the less you are like anyone else, which makes you unique.', 'If there is no struggle, there is no progress.', 'If more of us valued food and cheer and song above hoarded gold, it would be a merrier world.', 'Success consists of going from failure to failure without loss of enthusiasm.', \"Don't aim for success if you want it; just do what you love and believe in, and it will come naturally.\", \"You know why there's a Second Amendment? In case the government fails to follow the first one.\", 'There are no secrets to success. It is the result of preparation, hard work, and learning from failure.', 'Nothing will work unless you do.', 'The hunger for love is much more difficult to remove than the hunger for bread.', 'Love yourself. It is important to stay positive because beauty comes from the inside out.', \"Life's most persistent and urgent question is, 'What are you doing for others?'\", 'Be faithful in small things because it is in them that your strength lies.', 'There is no greater happiness for a man than approaching a door at the end of a day knowing someone on the other side of that door is waiting for the sound of his footsteps.', 'Underlying most arguments against the free market is a lack of belief in freedom itself.', 'I hear and I forget. I see and I remember. I do and I understand.', \"It happens to everyone as they grow up. You find out who you are and what you want, and then you realize that people you've known forever don't see things the way you do. So you keep the wonderful memories, but find yourself moving on.\", 'An intelligent hell would be better than a stupid paradise.', 'I have a dream that my four little children will one day live in a nation where they will not be judged by the color of their skin, but by the content of their character.', 'Never worry about numbers. Help one person at a time and always start with the person nearest you.', 'Run when you can, walk if you have to, crawl if you must; just never give up.', 'If you want others to be happy, practice compassion. If you want to be happy, practice compassion.', \"You are responsible for your life. You can't keep blaming somebody else for your dysfunction. Life is really about moving on.\", \"Don't limit yourself. Many people limit themselves to what they think they can do. You can go as far as your mind lets you. What you believe, remember, you can achieve.\", 'When we lose one blessing, another is often most unexpectedly given in its place.', 'I only regret that I have but one life to lose for my country.', 'The only place success comes before work is in the dictionary.', 'Music was my refuge. I could crawl into the space between the notes and curl my back to loneliness.', 'The greatest enemy to human souls is the self-righteous spirit which makes men look to themselves for salvation.', 'My religion is very simple. My religion is kindness.', 'The Marines I have seen around the world have the cleanest bodies, the filthiest minds, the highest morale, and the lowest morals of any group of animals I have ever seen. Thank God for the United States Marine Corps!', 'With God in charge, I believe everything will work out for the best in the end.', 'A government that robs Peter to pay Paul can always depend on the support of Paul.', \"We can't help everyone, but everyone can help someone.\", \"Tolerance implies no lack of commitment to one's own beliefs. Rather it condemns the oppression or persecution of others.\", 'Worry does not empty tomorrow of its sorrow. It empties today of its strength.', 'Luck is predictable; the harder you work, the luckier you get.', 'Beware of false knowledge; it is more dangerous than ignorance.', 'A successful man is one who can lay a firm foundation with the bricks others have thrown at him.', 'There is no substitute for hard work.', \"When you have a dream, you've got to grab it and never let go.\", 'Whoever said the pen is mightier than the sword obviously never encountered automatic weapons.', 'He is happiest, be he king or peasant, who finds peace in his home.', 'The greatest discovery of all time is that a person can change his future by merely changing his attitude.', 'The size of your success is measured by the strength of your desire; the size of your dream; and how you handle disappointment along the way.', \"The dog is a gentleman; I hope to go to his heaven not man's.\", \"Don't judge each day by the harvest you reap but by the seeds that you plant.\", 'I can be changed by what happens to me. But I refuse to be reduced by it.', 'To acquire knowledge, one must study; but to acquire wisdom, one must observe.', 'No person is your friend who demands your silence, or denies your right to grow.', \"If you can't make it good, at least make it look good.\", 'Love begins by taking care of the closest ones - the ones at home.', 'Our death is not an end if we can live on in our children and the younger generation. For they are us; our bodies are only wilted leaves on the tree of life.', 'All great change in America begins at the dinner table.', 'Winning takes talent; to repeat takes character.', \"Humility is not thinking less of yourself, it's thinking of yourself less.\", 'You are always a student, never a master. You have to keep moving forward.', \"That's the real trouble with the world, too many people grow up.\", 'If we want to find safe alternatives to obstetrics, we must rediscover midwifery. To rediscover midwifery is the same as giving back childbirth to women. And imagine the future if surgical teams were at the service of the midwives and the women instead of controlling them.', 'Women are made to be loved, not understood.', \"Don't wait. The time will never be just right.\", 'One of the greatest diseases is to be nobody to anybody.', 'Real loss is only possible when you love something more than you love yourself.', 'Opportunity is missed by most people because it is dressed in overalls and looks like work.', \"A mother's love for her child is like nothing else in the world. It knows no law, no pity, it dares all things and crushes down remorselessly all that stands in its path.\", 'When a woman becomes her own best friend life is easier.', 'One of the most tragic things I know about human nature is that all of us tend to put off living. We are all dreaming of some magical rose garden over the horizon instead of enjoying the roses that are blooming outside our windows today.', 'If your actions inspire others to dream more, learn more, do more and become more, you are a leader.', 'Children learn more from what you are than what you teach.', 'Optimism is a happiness magnet. If you stay positive, good things and good people will be drawn to you.', \"We cannot be both the world's leading champion of peace and the world's leading supplier of the weapons of war.\", \"Life isn't about finding yourself. Life is about creating yourself.\", 'The only thing worse than being blind is having sight but no vision.', \"I'd rather attempt to do something great and fail than to attempt to do nothing and succeed.\", 'Keep your dreams alive. Understand to achieve anything requires faith and belief in yourself, vision, hard work, determination, and dedication. Remember all things are possible for those who believe.', 'Whatever you want in life, other people are going to want it too. Believe in yourself enough to accept the idea that you have an equal right to it.', 'Even if I knew that tomorrow the world would go to pieces, I would still plant my apple tree.', 'Disciplining yourself to do what you know is right and important, although difficult, is the highroad to pride, self-esteem, and personal satisfaction.', 'All great achievements require time.', 'Success is not the key to happiness. Happiness is the key to success. If you love what you are doing, you will be successful.', 'Discipline is the bridge between goals and accomplishment.', 'When one door closes, another opens; but we often look so long and so regretfully upon the closed door that we do not see the one which has opened for us.', \"Don't find fault, find a remedy.\", \"I used to think the worst thing in life was to end up all alone. It's not. The worst thing in life is to end up with people who make you feel all alone.\", \"Friends and good manners will carry you where money won't go.\", 'If you want to make a permanent change, stop focusing on the size of your problems and start focusing on the size of you!', 'Success is not final, failure is not fatal: it is the courage to continue that counts.', 'A day of worry is more exhausting than a week of work.', 'Strive not to be a success, but rather to be of value.', 'Cancer can take away all of my physical abilities. It cannot touch my mind, it cannot touch my heart, and it cannot touch my soul.', 'Honesty is the first chapter in the book of wisdom.', 'Build your own dreams, or someone else will hire you to build theirs.', 'Intense love does not measure, it just gives.', \"Try to be a rainbow in someone's cloud.\", 'A failure is not always a mistake, it may simply be the best one can do under the circumstances. The real mistake is to stop trying.', 'Whatever we plant in our subconscious mind and nourish with repetition and emotion will one day become a reality.', 'I have decided to stick with love. Hate is too great a burden to bear.', 'All of our dreams can come true...', 'If I were not a physicist, I would probably be a musician. I often think in music. I live my daydreams in music. I see my life in terms of music.', 'Your most unhappy customers are your greatest source of learning.', 'Coming together is a beginning; keeping together is progress; working together is success.', 'Never do anything against conscience even if the state demands it.', 'The future belongs to those who believe in the beauty of their dreams.', 'Baseball was, is and always will be to me the best game in the world.', 'Go for it now. The future is promised to no one.', 'Monsters are real, and ghosts are real too. They live inside us, and sometimes, they win.', 'Never, never and never again shall it be that this beautiful land will again experience the oppression of one by another.', \"When you can't make them see the light, make them feel the heat.\", 'Action may not always bring happiness; but there is no happiness without action.', 'The way to get started is to quit talking and begin doing.', 'The soul always knows what to do to heal itself. The challenge is to silence the mind', 'What can you do to promote world peace? Go home and love your family.', \"You don't have to see the whole staircase, just take the first step.\", 'Our life is what our thoughts make it.', 'Delete the negative; accentuate the positive!', 'Boys, you must strive to find your own voice, because the longer you wait to begin the less likely you are to find it at all.', \"There are two ways of exerting one's strength: one is pushing down, the other is pulling up.\", 'Great minds have purposes; others have wishes.', \"Don't waste a minute not being happy. If one window closes, run to the next window- or break down a door.\", 'A good conscience is a continual Christmas.', \"A mother's arms are more comforting than anyone else's.\", 'Before anything else, preparation is the key to success.', 'Laziness may appear attractive, but work gives satisfaction.', 'Sometimes I am two people. Johnny is the nice one. Cash causes all the trouble. They fight.', 'Yesterday is not ours to recover, but tomorrow is ours to win or lose.', 'It does not matter how slowly you go as long as you do not stop.', 'Leadership is the capacity to translate vision into reality.', 'If you take responsibility for yourself you will develop a hunger to accomplish your dreams.', 'Success is getting what you want. Happiness is wanting what you get.', 'Success is having to worry about every damn thing in the world, except money.', 'Optimism is the faith that leads to achievement. Nothing can be done without hope and confidence.', 'No one remembers who came in second.', 'The way I see it, if you want the rainbow, you gotta put up with the rain.', 'The object of war is not to die for your country but to make the other bastard die for his.', 'Formal education will make you a living; self-education will make you a fortune.', 'A warm smile is the universal language of kindness.', 'To improve is to change; to be perfect is to change often.', \"I, not events, have the power to make me happy or unhappy today. I can choose which it shall be. Yesterday is dead, tomorrow hasn't arrived yet. I have just one day, today, and I'm going to be happy in it.\", \"Don't be pushed by your problems. Be led by your dreams.\", \"Don't wait around for other people to be happy for you. Any happiness you get you've got to make yourself.\", \"Our prime purpose in this life is to help others. And if you can't help them, at least don't hurt them.\", 'The amount of good luck coming your way depends on your willingness to act.', 'How people treat you is their karma; how you react is yours.', \"Be happy in the moment, that's enough. Each moment is all we need, not more.\", 'Live without pretending, love without depending, listen without defending, speak without offending.', \"I believe that everything happens for a reason. People change so that you can learn to let go, things go wrong so that you appreciate them when they're right, you believe lies so you eventually learn to trust no one but yourself, and sometimes good things fall apart so better things can fall together.\", \"Promise me you'll always remember: You're braver than you believe, and stronger than you seem, and smarter than you think.\", \"If winning isn't everything, why do they keep score?\", 'The only person you are destined to become is the person you decide to be.', 'Happiness is not something you postpone for the future; it is something you design for the present.', 'Love is a fruit in season at all times, and within reach of every hand.', \"You may be disappointed if you fail, but you are doomed if you don't try.\", \"My home is in Heaven. I'm just traveling through this world.\", \"Opportunities are usually disguised as hard work, so most people don't recognize them.\", 'History does not long entrust the care of freedom to the weak or the timid.', 'We all have ability. The difference is how we use it.', 'Too often we underestimate the power of a touch, a smile, a kind word, a listening ear, an honest compliment, or the smallest act of caring, all of which have the potential to turn a life around.', 'You know, one day you look at the person and you see something more than you did the night before. Like a switch has been flicked somewhere. And the person who was just a friend is... suddenly the only person you can ever imagine yourself with.', \"Let others lead small lives, but not you. Let others argue over small things, but not you. Let others cry over small hurts, but not you. Let others leave their future in someone else's hands, but not you.\", \"The Marine Corps has just been called by the New York Times, 'The elite of this country.' I think it is the elite of the world.\", \"I didn't fail the test, I just found 100 ways to do it wrong.\", 'Our life is frittered away by detail... simplify, simplify.', 'Strength does not come from physical capacity. It comes from an indomitable will.', 'All successful people, men and women, are big dreamers. They imagine what their future could be, ideal in every respect, and then they work every day toward their distant vision, that goal or purpose.', \"Never limit yourself because of others' limited imagination; never limit others because of your own limited imagination.\", 'Wherever you go, go with all your heart.', \"I wasn't afraid to fail. Something good always comes out of failure.\", 'A life spent making mistakes is not only more honorable, but more useful than a life spent doing nothing.', \"I don't believe you have to be better than everybody else. I believe you have to be better than you ever thought you could be.\", 'Getting over a painful experience is much like crossing monkey bars. You have to let go at some point in order to move forward.', \"How do you tell a communist? Well, it's someone who reads Marx and Lenin. And how do you tell an anti-Communist? It's someone who understands Marx and Lenin.\", 'We can complain because rose bushes have thorns, or rejoice because thorn bushes have roses.', \"I don't know the key to success, but the key to failure is trying to please everybody.\", 'The primary cause of unhappiness is never the situation but your thoughts about it.', 'Only those who will risk going too far can possibly find out how far one can go.', 'To change a habit, make a conscious decision, then act out the new behavior.', \"Don't worry about failure; you only have to be right once.\", \"Your present circumstances don't determine where you can go; they merely determine where you start.\", 'If you are not willing to risk the unusual, you will have to settle for the ordinary.', 'Happiness is when what you think, what you say, and what you do are in harmony.', 'The past cannot be changed. The future is yet in your power.', \"Don't watch the clock; do what it does. Keep going.\", \"Don't wait for extraordinary opportunities. Seize common occasions and make them great. Weak men wait for opportunities; strong men make them.\", 'I celebrated Thanksgiving in an old-fashioned way. I invited everyone in my neighborhood to my house, we had an enormous feast, and then I killed them and took their land.', \"If you're not careful, the newspapers will have you hating the people who are being oppressed, and loving the people who are doing the oppressing.\", \"A dress should be tight enough to show you're a woman and loose enough to prove you're a lady.\", \"One of the things I learned the hard way was that it doesn't pay to get discouraged. Keeping busy and making optimism a way of life can restore your faith in yourself.\", \"Sir, my concern is not whether God is on our side; my greatest concern is to be on God's side, for God is always right.\", 'If you love what you are doing, you will be successful.', 'Patience, persistence and perspiration make an unbeatable combination for success.', 'Christmas is the season of joy, of holiday greetings exchanged, of gift-giving,and of families united.', 'Setting goals is the first step in turning the invisible into the visible.', \"Above all, we must realize that no arsenal, or no weapon in the arsenals of the world, is so formidable as the will and moral courage of free men and women. It is a weapon our adversaries in today's world do not have.\", \"Take chances, make mistakes. That's how you grow. Pain nourishes your courage. You have to fail in order to practice being brave.\", \"Define success on your own terms, achieve it by your own rules, and build a life you're proud to live.\", 'If you judge people, you have no time to love them.', 'A nation that continues year after year to spend more money on military defense than on programs of social uplift is approaching spiritual doom.', \"Take care of your body. It's the only place you have to live.\", 'Only I can change my life. No one can do it for me.', \"Don't give up at half time. Concentrate on winning the second half.\", \"The most important thing is to enjoy your life - to be happy - it's all that matters.\", 'Never let your head hang down. Never give up and sit down and grieve. Find another way.', 'If you fell down yesterday, stand up today.', 'It is not how much we have, but how much we enjoy, that makes happiness.', 'Losers live in the past. Winners learn from the past and enjoy working in the present toward the future.', \"Don't dwell on what went wrong.\\nInstead, focus on what to do next.\\nSpend your energies on moving forward\\ntoward finding the answer.\", 'We must be willing to let go of the life we have planned, so as to have the life that is waiting for us.', 'A mind that is stretched by a new experience can never go back to its old dimensions.', 'The most important thing a father can do for his children is to love their mother.', 'The starting point of all achievement is desire.', 'Pray, and let God worry.', 'Work harder on yourself than you do on your job.', 'Nothing in life is to be feared, it is only to be understood. Now is the time to understand more, so that we may fear less.', \"Set your goals high, and don't stop till you get there.\", \"What is a teacher? I'll tell you: it isn't someone who teaches something, but someone who inspires the student to give of her best in order to discover what she already knows.\", 'Like slavery and apartheid, poverty is not natural. It is man-made and it can be overcome and eradicated by the actions of human beings.', 'Success depends upon previous preparation, and without such preparation there is sure to be failure.', 'We must let go of the life we have planned, so as to accept the one that is waiting for us.', 'A leader is a dealer in hope.', \"A leader takes people where they want to go. A great leader takes people where they don't necessarily want to go, but ought to be.\", 'Belief in oneself is one of the most important bricks in building any successful venture.', \"You don't learn to walk by following rules. You learn by doing, and by falling over.\", 'Experience is simply the name we give our mistakes.', 'The meaning of life is to find your gift. The purpose of life is to give it away.', \"If you are a pop band, don't say you're a metal band. Poison and Warrant were about as metal as the Backstreet Boys.\", 'One person with passion is better than forty people merely interested.', 'Change the changeable, accept the unchangeable, and remove yourself from the unacceptable.', 'I like to see a man proud of the place in which he lives. I like to see a man live so that his place will be proud of him.', \"It's not what you look at that matters, it's what you see.\", \"Life is simple. Everything happens for you, not to you. Everything happens at exactly the right moment, neither too soon nor too late. You don't have to like it... it's just easier if you do.\", \"Hard work spotlights the character of people: some turn up their sleeves, some turn up their noses, and some don't turn up at all.\", 'A leader is one who knows the way, goes the way, and shows the way.', 'Never give up on a dream just because of the time it will take to accomplish it. The time will pass anyway.', 'It is not the employer who pays the wages. Employers only handle the money. It is the customer who pays the wages.', 'People grow through experience if they meet life honestly and courageously. This is how character is built.', 'Love is friendship that has caught fire. It is quiet understanding, mutual confidence, sharing and forgiving. It is loyalty through good and bad times. It settles for less than perfection and makes allowances for human weaknesses.', 'Extraordinary people survive under the most terrible circumstances and they become more extraordinary because of it.', 'It is in your moments of decision that your destiny is shaped.', 'Never go backward. Attempt, and do it with all your might. Determination is power.', \"Successful people are always looking for opportunities to help others. Unsuccessful people are always asking, What's in it for me?\", \"Experience is not what happens to you; it's what you do with what happens to you.\", 'I like to listen. I have learned a great deal from listening carefully. Most people never listen.', 'Defeat is not the worst of failures. Not to have tried is the true failure.', 'Courage is what it takes to stand up and speak; courage is also what it takes to sit down and listen.', 'All truth passes through three stages. First, it is ridiculed. Second, it is violently opposed. Third, it is accepted as being self-evident.', 'For over 221 years our Corps has done two things for this great Nation. We make Marines, and we win battles.', 'I have found the paradox, that if you love until it hurts, there can be no more hurt, only more love.', 'If you set goals and go after them with all the determination you can muster, your gifts will take you places that will amaze you.', 'If you smile when no one else is around, you really mean it.', 'The price of success is hard work, dedication to the job at hand, and the determination that whether we win or lose, we have applied the best of ourselves to the task at hand.', 'Trust is to human relationships what faith is to gospel living. It is the beginning place, the foundation upon which more can be built. Where trust is, love can flourish.', \"Don't go around saying the world owes you a living. The world owes you nothing. It was here first.\", 'Never apologize for showing feeling. When you do so, you apologize for the truth.', 'In the wake of 9/11, my meetings with Arab and Pakistani Americans, for example, have a more urgent quality, for the stories of detentions and FBI questioning and hard stares from neighbors have shaken their sense of security and belonging. They have been reminded that the history of immigration in this country has a dark underbelly; they need specific reassurances that their citizenship really means something, that America has learned the right lessons from the Japanese internments during World War II, and that I will stand with them should the political winds shift in an ugly direction.', 'I have nothing to offer but blood, toil, tears and sweat.', 'Correction does much, but encouragement does more.', 'You change your life by changing your heart.', \"Life is hard; it's harder if you're stupid.\", 'Lead me, follow me, or get out of my way.', 'The Constitution is the guide which I never will abandon.', 'The true secret of happiness lies in taking a genuine interest in all the details of daily life.', 'The deadliest weapon in the world is a MARINE and his rifle!', 'Failure is not fatal, but failure to change might be.', 'After climbing a great hill, one only finds that there are many more hills to climb.', 'The best preparation for good work tomorrow is to do good work today.', 'Blues is easy to play, but hard to feel.', \"I've found that luck is quite predictable. If you want more luck, take more chances. Be more active. Show up more often.\", 'Even if you are on the brink of damnation, even if you have one foot in hell, even if you have sold your soul to the devil as sorcerers do who practice black magic, and even if you are a heretic as obstinate as a devil, sooner or later you will be converted and will amend your life and will save your soul, if-and mark well what I say-if you say the Holy Rosary devoutly every day until death for the purpose of knowing the truth and obtaining contrition and pardon for your sins.', 'Success is falling nine times and getting up ten.', 'The whole purpose of education is to turn mirrors into windows.', 'The nation which forgets its defenders will be itself forgotten.', \"Don't let the fear of losing be greater than the excitement of winning.\", 'Every saint has a past, and every sinner has a future.', \"There is no pit so deep, that God's love is not deeper still.\", 'I am not afraid of storms for I am learning how to sail my ship.', 'There is only one success - to be able to spend your life in your own way.', \"It doesn't take a hero to order men into battle. It takes a hero to be one of those men who goes into battle.\", \"I have not failed. I've just found 10,000 ways that won't work.\", 'Only when we are no longer afraid do we begin to live.', 'Returning violence for violence multiplies violence, adding deeper darkness to a night already devoid of stars.', \"Be a yardstick of quality. Some people aren't used to an environment where excellence is expected.\", 'Risks must be taken because the greatest hazard in life is to risk nothing.', 'He who has never learned to obey cannot be a good commander.', 'Change before you have to.', \"I don't need a friend who changes when I change and who nods when I nod; my shadow does that much better.\", \"You don't get paid for the hour. You get paid for the value you bring to the hour.\", 'The only person who is educated is the one who has learned how to learn and change.', 'Carry out a random act of kindness, with no expectation of reward, safe in the knowledge that one day someone might do the same for you.', \"Don't be afraid to give up the good to go for the great.\", \"Honor to the soldier and sailor everywhere, who bravely bears his country's cause. Honor, also, to the citizen who cares for his brother in the field and serves, as he best can, the same cause.\", 'Character cannot be developed in ease and quiet. Only through experience of trial and suffering can the soul be strengthened, ambition inspired, and success achieved.', 'Everyone has talent. What is rare is the courage to follow the talent to the dark place where it leads.', 'My best successes came on the heels of failures.', 'A lie can travel half way around the world while the truth is putting on its shoes.', 'Most of the important things in the world have been accomplished by people who have kept on trying when there seemed to be no hope at all.', 'When we seek to discover the best in others, we somehow bring out the best in ourselves.', \"Wisdom is the reward you get for a lifetime of listening when you'd have preferred to talk.\", 'Creativity requires the courage to let go of certainties.', 'Positive anything is better than negative nothing.', \"Racism isn't born, folks, it's taught. I have a two-year-old son. You know what he hates? Naps! End of list.\", 'Spread love everywhere you go. Let no one ever come to you without leaving happier.', 'Turn your wounds into wisdom.', 'The most beautiful thing we can experience is the mysterious. It is the source of all true art and science.', 'Happiness is a direction, not a place.', 'A wise man can learn more from a foolish question than a fool can learn from a wise answer.', \"One of the greatest discoveries a man makes, one of his great surprises, is to find he can do what he was afraid he couldn't do.\", 'I learned that courage was not the absence of fear, but the triumph over it. The brave man is not he who does not feel afraid, but he who conquers that fear.', 'An appeaser is one who feeds a crocodile, hoping it will eat him last.', 'Courage - a perfect sensibility of the measure of danger, and a mental willingness to endure it.', 'If everyone is moving forward together, then success takes care of itself.', 'Time is more valuable than money. You can get more money, but you cannot get more time.', 'Money has never made man happy, nor will it, there is nothing in its nature to produce happiness. The more of it one has the more one wants.', 'The more you know the less you need to say.', \"Be miserable. Or motivate yourself. Whatever has to be done, it's always your choice.\", 'If you are carrying strong feelings about something that happened in your past, they may hinder your ability to live in the present.', \"I'm the one that's got to die when it's time for me to die, so let me live my life the way I want to.\", 'If one had but a single glance to give the world, one should gaze on Istanbul.', 'Bravery is the capacity to perform properly even when scared half to death.', \"When it is obvious that the goals cannot be reached, don't adjust the goals, adjust the action steps.\", \"Being the richest man in the cemetery doesn't matter to me ... Going to bed at night saying we've done something wonderful... that's what matters to me.\", 'Never give up, for that is just the place and time that the tide will turn.', \"And above all, watch with glittering eyes the whole world around you because the greatest secrets are always hidden in the most unlikely places. Those who don't believe in magic will never find it.\", 'Is prayer your steering wheel or your spare tire?', 'All change is not growth, as all movement is not forward.', \"Too many people spend money they haven't earned to buy things they don't want to impress people they don't like.\", 'Before marriage, a girl has to make love to a man to hold him. After marriage, she has to hold him to make love to him.', 'Some of us think holding on makes us strong; but sometimes it is letting go.', 'I would rather die of passion than of boredom.', 'Run often. Run long. But never outrun your joy of running.', 'Success is a personal standard, reaching for the highest that is in us, becoming all that we can be.', 'Happiness is not a goal; it is a by-product.', 'Destiny is no matter of chance. It is a matter of choice. It is not a thing to be waited for, it is a thing to be achieved.', 'Valor is stability, not of legs and arms, but of courage and the soul.', 'Yesterday is gone. Tomorrow has not yet come. We have only today. Let us begin.', 'The secret of getting ahead is getting started', 'If you want to lift yourself up, lift up someone else.', \"We all die. The goal isn't to live forever, the goal is to create something that will.\", 'Men have called me mad; but the question is not yet settled, whether madness is or is not the loftiest intelligence– whether much that is glorious– whether all that is profound– does not spring from disease of thought– from moods of mind exalted at the expense of the general intellect.', 'The only thing necessary for the triumph of evil is for good men to do nothing.', 'Do not let what you cannot do interfere with what you can do.', 'The greatest obstacle to discovery is not ignorance - it is the illusion of knowledge.', 'Time is what we want most, but what we use worst.', \"No matter what you've done for yourself or for humanity, if you can't look back on having given love and attention to your own family, what have you really accomplished?\", 'Imagination is more important than knowledge. Knowledge is limited. Imagination encircles the world.', 'He who avoids complaint invites happiness.', 'Sometimes the questions are complicated and the answers are simple.', 'Doing what you love is the cornerstone of having abundance in your life.', \"Do not plan for ventures before finishing what's at hand.\", 'Your life does not get better by chance, it gets better by change.', 'Overcoming poverty is not a gesture of charity. It is an act of justice. It is the protection of a fundamental human right, the right to dignity and a decent life . . .', 'Patience and time do more than strength or passion.', 'Do more than belong: participate. Do more than care: help. Do more than believe: practice. Do more than be fair: be kind. Do more than forgive: forget. Do more than dream: work.', 'If you have knowledge, let others light their candles in it.', 'Courage is resistance to fear, mastery of fear, not absence of fear.', 'Disneyland will never be completed. It will continue to grow as long as there is imagination left in the world.', 'Believe and act as if it were impossible to fail.', 'Everything we hear is an opinion, not a fact. Everything we see is a perspective, not the truth.', 'Money cannot buy peace of mind. It cannot heal ruptured relationships, or build meaning into a life that has none.', \"Don't worry that children never listen to you; worry that they are always watching you.\", 'If evolution really works, how come mothers only have two hands?', \"Don't wish it were easier, wish you were better.\", 'I have been driven many times upon my knees by the overwhelming conviction that I had no where else to go. My own wisdom and that of all about me seemed insufficient for that day.', 'A smile is the light in your window that tells others that there is a caring, sharing person inside.', 'You cannot find peace by avoiding life.', 'There are no failures - just experiences and your reactions to them', 'My message, especially to young people is to have courage to think differently, courage to invent, to travel the unexplored path, courage to discover the impossible and to conquer the problems and succeed. These are great qualities that they must work towards. This is my message to the young people.', 'Persistent people begin their success where others end in failure.', 'Imagination is more important than knowledge.', 'Love is the only force capable of transforming an enemy into friend.', \"Life is about not knowing, having to change, taking the moment and making the best of it, without knowing what's going to happen next.\", 'You cannot make progress without making decisions.', \"The grace of God means something like: Here is your life. You might never have been, but you are because the party wouldn't have been complete without you.\", 'Get mad, then get over it.', 'When the sun is shining I can do anything; no mountain is too high, no trouble too difficult to overcome.', 'Everything that is really great and inspiring is created by the individual who can labor in freedom.', 'I never learn anything talking. I only learn things when I ask questions.', \"Let our New Year's resolution be this: we will be there for one another as fellow members of humanity, in the finest sense of the word.\", 'Throughout life people will make you mad, disrespect you and treat you bad. Let God deal with the things they do, cause hate in your heart will consume you too.', \"Faith is taking the first step even when you don't see the whole staircase.\", 'Never lose sight of the fact that the most important yardstick of your success will be how you treat other people - your family, friends, and coworkers, and even strangers you meet along the way.', \"Potentially, a government is the most dangerous threat to man's rights: it holds a legal monopoly on the use of physical force against legally disarmed victims.\", \"Life isn't a matter of milestones, but of moments.\", 'Let us not seek the Republican answer or the Democratic answer, but the right answer. Let us not seek to fix the blame for the past. Let us accept our own responsibility for the future.', 'The time is always right to do what is right.', 'Whatever you want to do, do it now. There are only so many tomorrows.', \"be yourself- not your idea of what you think somebody else's idea of yourself should be.\", 'If music be the food of love, play on, Give me excess of it; that surfeiting, The appetite may sicken, and so die.', \"Marriage: If you want something to last forever, you treat it differently. You shield it and protect it. You never abuse it. You don't expose it to the elements. You don't make it common or ordinary. If it ever becomes tarnished, you lovingly polish it until it gleams like new. It becomes special because you have made it so, and it grows more beautiful and precious as time goes by.\", 'Eighty percent of success is showing up.', 'A hero is an ordinary individual who finds the strength to persevere and endure in spite of overwhelming obstacles.', 'Our dilemma is that we hate change and love it at the same time; what we really want is for things to remain the same but get better.', \"If you believe you can, you probably can. If you believe you won't, you most assuredly won't.\\nBelief is the ignition switch that gets you off the launching pad.\", \"It's easy to make a buck. It's a lot tougher to make a difference.\", \"Ever since I was a child I have had this instinctive urge for expansion and growth. To me, the function and duty of a quality human being is the sincere and honest development of one's potential.\", 'If you focus on results, you will never change. If you focus on change, you will get results.', 'To find joy in work is to discover the fountain of youth.', 'Expect great things from God, attempt great things for God.', \"The greatest day in your life and mine is when we take total responsibility for our attitudes. That's the day we truly grow up.\", 'Education is what remains after one has forgotten what one has learned in school.', \"I mean, if the relationship can't survive the long term, why on earth would it be worth my time and energy for the short term?\", 'The privilege of a lifetime is being who you are.', 'Hating people is like burning down your own house to get rid of a rat.', \"Your time is limited, so don't waste it living someone else's life.\", 'Trust yourself. Create the kind of self that you will be happy to live with all your life. Make the most of yourself by fanning the tiny, inner sparks of possibility into flames of achievement.', 'You will never reach your destination if you stop and throw stones at every dog that barks.', 'If I take care of my character, my reputation will take care of me.', \"Success is a lousy teacher. It seduces smart people into thinking they can't lose.\", 'Life can only be understood backwards; but it must be lived forwards.', 'A good friend is a connection to life - a tie to the past, a road to the future, the key to sanity in a totally insane world.', 'Speak when you are angry and you will make the best speech you will ever regret.', \"Anybody can become angry - that is easy, but to be angry with the right person and to the right degree and at the right time and for the right purpose, and in the right way - that is not within everybody's power and is not easy.\", 'Neither a wise man nor a brave man lies down on the tracks of history to wait for the train of the future to run over him.', 'Courage is grace under pressure.', 'Talent hits a target no one else can hit; Genius hits a target no one else can see.', 'Trust yourself. Create the kind of self that you will be happy to live with all your life.', 'Dream and give yourself permission to envision a You that you choose to be.', 'Live out of your imagination, not your history.', 'Love yourself first and everything else falls into line. You really have to love yourself to get anything done in this world.', 'Success is peace of mind which is a direct result of self-satisfaction in knowing you did your best to become the best you are capable of becoming.', 'Great achievement is usually born of great sacrifice, and is never the result of selfishness.', 'A nation can survive its fools, and even the ambitious. But it cannot survive treason from within. An enemy at the gates is less formidable, for he is known and carries his banner openly. But the traitor moves amongst those within the gate freely, his sly whispers rustling through all the alleys, heard in the very halls of government itself.', 'The connections between and among women are the most feared, the most problematic, and the most potentially transforming force on the planet.', \"Don't let the fear of striking out hold you back.\", 'Being ignorant is not so much a shame, as being unwilling to learn.', \"Even if you're on the right track, you'll get run over if you just sit there.\", 'There are only two options regarding commitment; you’re either in or you’re out.', 'Above all, be the heroine of your life, not the victim.', 'Think of all the beauty still left around you and be happy.', 'The entrepreneur always searches for change, responds to it, and exploits it as an opportunity.', \"If you spend your whole life waiting for the storm, you'll never enjoy the sunshine.\", 'If you want your children to improve, let them overhear the nice things you say about them to others.', 'Your success and happiness lies in you. Resolve to keep happy, and your joy and you shall form an invincible host against difficulties.', 'Start where you are, use what you have.', 'Many marriages would be better if the husband and the wife clearly understood that they are on the same side.', 'We make a living by what we get, but we make a life by what we give.', 'I would rather have a mind opened by wonder than one closed by belief.', 'Success is a state of mind. If you want success, start thinking of yourself as a success.', 'You must either modify your dreams or magnify your skills', 'You cannot escape the responsibility of tomorrow by evading it today.', 'I knew what my job was; it was to go out and meet the people and love them.', 'When we are no longer able to change a situation - we are challenged to change ourselves.', 'If you look the right way, you can see that the whole world is a garden.', 'To hell with circumstances; I create opportunities.', 'Education is for improving the lives of others and for leaving your community and world better than you found it.', 'There is no death, only a change of worlds.', 'A person who is nice to you, but rude to the waiter, is not a nice person.', 'I attribute my success to this - I never gave or took any excuse.', 'Success is nothing more than a few simple disciplines, practiced every day.', \"I have a very strict gun control policy: if there's a gun around, I want to be in control of it.\", 'If there must be trouble, let it be in my day, that my child may have peace.', \"I have learned over the years that when one's mind is made up, this diminishes fear; knowing what must be done does away with fear.\", 'The beautiful thing about learning is nobody can take it away from you.', 'I am always doing that which I cannot do, in order that I may learn how to do it.', 'Security is mostly a superstition. It does not exist in nature.', \"If you're offered a seat on a rocket ship, don't ask what seat! Just get on.\", \"Don't be distracted by criticism. Remember ~ the only taste of success some people have is when they take a bite out of you.\", \"It's not your job to like me - it's mine\", 'We gain strength, and courage, and confidence by each experience in which we really stop to look fear in the face... we must do that which we think we cannot.', 'Aging is not \"lost youth\" but a new stage of opportunity and strength.', 'Gratitude makes sense of our past, brings peace for today, and creates a vision for tomorrow.', 'The pessimist complains about the wind; the optimist expects it to change; the realist adjusts the sails.', \"I hated every minute of training, but I said, 'Don't quit. Suffer now and live the rest of your life as a champion.'\", 'Far and away the best prize that life has to offer is the chance to work hard at work worth doing.', 'It is better to look ahead and prepare than to look back and regret.', 'Perfection is not attainable, but if we chase perfection we can catch excellence.', 'Fame is a vapor, popularity an accident, and riches take wings. Only one thing endures and that is character.', 'One good thing about music, when it hits you, you feel no pain.', 'Happiness in intelligent people is the rarest thing I know.', 'Develop an attitude of gratitude, and give thanks for everything that happens to you, knowing that every step forward is a step toward achieving something bigger and better than your current situation.', \"For every failure, there's an alternative course of action. You just have to find it. When you come to a roadblock, take a detour.\", 'If you are neutral in situations of injustice, you have chosen the side of the oppressor. If an elephant has its foot on the tail of a mouse and you say that you are neutral, the mouse will not appreciate your neutrality.', 'The best way to make your dreams come true is to wake up.', 'Life is 10 percent what you make it, and 90 percent how you take it.', 'My heroes are the ones who survived doing it wrong, who made mistakes, but recovered from them.', 'Small deeds done are better than great deeds planned.', \"Tis' better to live your own life imperfectly than to imitate someone else's perfectly.\", 'You are the average of the five people you spend the most time with.', 'A loving person lives in a loving world. A hostile person lives in a hostile world.', 'Make everything as simple as possible, but not simpler.', 'The most beautiful people we have known are those who have known defeat, known suffering, known struggle, known loss, and have found their way out of those depths.', 'Successful people ask better questions, and as a result, they get better answers.', 'There are three constants in life... change, choice and principles.', 'Young people need models, not critics.', \"Advice is what we ask for when we already know the answer but wish we didn't.\", 'The great use of life is to spend it for something that will outlast it.', 'Clear thinking requires courage rather than intelligence.', 'A man is not old until regrets take the place of dreams.', 'A part of kindness consists in loving people more than they deserve.', 'When you start to develop your powers of empathy and imagination, the whole world opens up to you.', 'Judge a man by his questions rather than his answers.', 'If you make a sale, you can make a living. If you make an investment of time and good service in a customer, you can make a fortune.', 'Never let a problem to be solved become more important than a person to be loved.', 'If a free society cannot help the many who are poor, it cannot save the few who are rich.', 'Our happiest moments as tourists always seem to come when we stumble upon one thing while in pursuit of something else.', 'People might not get all they work for in this world, but they must certainly work for all they get.', 'We should regret our mistakes and learn from them, but never carry them forward into the future with us.', 'You cannot create experience. You must undergo it.', 'Do you know what my favorite part of the game is? The opportunity to play.', \"The miracle isn't that I finished. The miracle is that I had the courage to start.\", 'It is easy to sit up and take notice, What is difficult is getting up and taking action.', 'Happiness is not a destination. It is a method of life.', 'The more anger towards the past you carry in your heart, the less capable you are of loving in the present.', 'Meditation is not a way of making your mind quiet. It is a way of entering into the quiet that is already there - buried under the 50,000 thoughts the average person thinks every day', 'It takes as much energy to wish as it does to plan.', \"If you hear a voice within you say 'you cannot paint,' then by all means paint, and that voice will be silenced.\", 'The only way to get the best of an argument is to avoid it.', \"If you tell the truth, you don't have to remember anything.\", 'Our incomes are like our shoes; if too small, they gall and pinch us; but if too large, they cause us to stumble and to trip.', 'Perseverance is failing 19 times and succeeding the 20th.', \"You don't need strength to let go of something. What you really need is understanding.\", 'You never really understand a person until you consider things from his point of view.', \"Until you value yourself, you won't value your time. Until you value your time, you will not do anything with it.\", 'Goodbyes are only for those who love with their eyes. Because for those who love with heart and soul there is no such thing as separation.', 'Human behavior flows from three main sources: desire, emotion, and knowledge.', 'Courage is contagious. When a brave man takes a stand, the spines of others are often stiffened.', 'A mediocre idea that generates enthusiasm will go further than a great idea that inspires no one.', 'Death is a challenge. It tells us not to waste time... It tells us to tell each other right now that we love each other.', \"Only those who have learned the power of sincere and selfless contribution experience life's deepest joy: true fulfillment.\", 'More things are wrought by prayer than this world dreams of.', 'I learned the value of hard work by working hard.', 'A child who is allowed to be disrespectful to his parents will not have true respect for anyone.', 'An effort made for the happiness of others lifts above ourselves.', 'The kind of beauty I want most is the hard-to-get kind that comes from within - strength, courage, dignity.', 'If you want to be happy, be.', \"I can accept failure, everyone fails at something. But I can't accept not trying.\", \"It's fine to celebrate success but it is more important to heed the lessons of failure.\", 'There is little success where there is little laughter.', 'Experience is a hard teacher because she gives the test first, the lesson afterward.', 'Should I kill myself, or have a cup of coffee?', \"Life shrinks or expands in proportion to one's courage.\", 'The ultimate reason for setting goals is to entice you to become the person it takes to achieve them', 'He who learns but does not think, is lost. He who thinks but does not learn is in great danger.', 'Of the billionaires I have known, money just brings out the basic traits in them. If they were jerks before they had money, they are simply jerks with a billion dollars.', 'Christmas is the time when kids tell Santa what they want and adults pay for it. Deficits are when adults tell government what they want and their kids pay for it.', \"The key is not to prioritize what's on your schedule, but to schedule your priorities.\", 'When the Holy Rosary is said well, it gives Jesus and Mary more glory and is more meritorious than any other prayer.', \"We've begun to raise daughters more like sons... but few have the courage to raise our sons more like our daughters.\", \"A woman's perfume tells more about her than her handwriting.\", 'I am always ready to learn although I do not always like being taught.', 'Simply put, you believer that things or people make you unhappy, but this is not accurate. You make yourself unhappy.', 'A well regulated militia, composed of the body of the people, trained in arms, is the best most natural defense of a free country.', \"People won't have time for you if you are always angry or complaining.\", \"I don't believe people are looking for the meaning of life as much as they are looking for the experience of being alive.\", \"I believe that whatever doesn't kill you, simply makes you... stranger.\", \"Don't wish it was easier wish you were better. Don't wish for less problems wish for more skills. Don't wish for less challenge wish for more wisdom\", 'Excuses are the nails used to build a house of failure.', 'Everything will line up perfectly when knowing and living the truth becomes more important than looking good.', 'There is no medicine like hope, no incentive so great, and no tonic so powerful as expectation of something tomorrow.', \"The Christian life is not a constant high. I have my moments of deep discouragement. I have to go to God in prayer with tears in my eyes, and say, 'O God, forgive me,' or 'Help me.'\", 'For every minute you remain angry, you give up sixty seconds of peace of mind.', 'As long as I live, I\\'ll hear waterfalls and birds and winds sing. I\\'ll interpret the rocks, learn the language of flood, storm, and the avalanche. I\\'ll acquaint myself with the glaciers and wild gardens, and get as near the heart of the world as I can\".', 'The greatest achievement was at first and for a time a dream. The oak sleeps in the acorn, the bird waits in the egg, and in the highest vision of the soul a waking angel stirs. Dreams are the seedlings of realities.', 'Learning never exhausts the mind.', \"It's not the events of our lives that shape us, but our beliefs as to what those events mean.\", \"Victory is sweetest when you've known defeat.\", 'What we fear doing most is usually what we most need to do.', 'The body does not want you to do this. As you run, it tells you to stop but the mind must be strong. You always go too far for your body. You must handle the pain with strategy...It is not age; it is not diet. It is the will to succeed.', \"What sunshine is to flowers, smiles are to humanity. These are but trifles, to be sure; but scattered along life's pathway, the good they do is inconceivable.\", 'The way to get things done is not to mind who gets the credit for doing them.', 'You cannot change your destination overnight, but you can change your direction overnight.', 'Success is the sum of small efforts, repeated day-in and day-out.', \"You will never 'find' time for anything. If you want time, you must make it.\", 'You have succeeded in life when all you really want is only what you really need.', 'If you realized how powerful your thoughts are, you would never think a negative thought.', 'The harder you work, the harder it is to surrender.', 'Winning is great, sure, but if you are really going to do something in life, the secret is learning how to lose.', 'You must take personal responsibility. You cannot change the circumstances, the seasons, or the wind, but you can change yourself. That is something you have charge of.', 'If you only read the books that everyone else is reading, you can only think what everyone else is thinking.', 'Not everything that is faced can be changed. But nothing can be changed until it is faced.', 'In all human affairs there are efforts, and there are results, and the strength of the effort is the measure of the result.', 'It is so hard to leave—until you leave. And then it is the easiest goddamned thing in the world.', 'People who boast about their I.Q. are losers.', 'To understand the heart and mind of a person, look not at what he has already achieved, but at what he aspires to.', \"Miss a meal if you have to, but don't miss a book.\", 'It is better to be alone than in bad company.', 'Try to learn something about everything and everything about something.', 'Help others achieve their dreams and you will achieve yours.', \"You don't fight racism with racism, the best way to fight racism is with solidarity.\", 'Effort and courage are not enough without purpose and direction.', \"One doesn't discover new lands without consenting to lose sight, for a very long time, of the shore.\", 'We are what we pretend to be, so we must be careful what we pretend to be.', 'All things are difficult before they are easy.', 'People ask the difference between a leader and a boss. The leader leads, and the boss drives.', 'The thing that is really hard, and really amazing, is giving up on being perfect and beginning the work of becoming yourself.', 'Love is the ability and willingness to allow those that you care for to be what they choose for themselves without any insistence that they satisfy you.', 'Sooner or later, those who win are those who think they can.', \"Those who matter don't mind, and those who mind don't matter.\", 'You were born to win, but to be a winner, you must plan to win, prepare to win, and expect to win.', \"If you don't like something, change it. If you can't change it, change your attitude.\", 'Everyone seems to have a clear idea of how other people should lead their lives, but none about his or her own.', 'Gratitude unlocks the fullness of life. It turns what we have into enough, and more. It turns denial into acceptance, chaos to order, confusion to clarity. It can turn a meal into a feast, a house into a home, a stranger into a friend.', \"I don't go by the rule book... I lead from the heart, not the head.\", 'A hero is someone who has given his or her life to something bigger than oneself.', 'Man never made any material as resilient as the human spirit.', 'The more one judges, the less one loves.', 'The best way to find out if you can trust somebody is to trust them.', \"At the end of the day, all you can hope for is to go on. The older I get, the more I realize that just keeping on keeping on is what life's all about.\", 'I cannot always control what goes on outside. But I can always control what goes on inside.', 'Expect trouble as an inevitable part of life and when it comes, hold your head high, look it squarely in the eye and say “I will be bigger than you. You cannot defeat me.” Then repeat to yourself the most comforting of all words , “This too shall pass.”', 'I have witnessed the softening of the hardest of hearts by a simple smile.', 'When you judge another, you do not define them, you define yourself.', 'The only way to live is to accept each minute as an unrepeatable miracle, which is exactly what it is: a miracle and unrepeatable.', 'We are all here for some special reason. Stop being a prisoner of your past. Become the architect of your future.', 'He who is not everyday conquering some fear has not learned the secret of life.', \"When I do good, I feel good. When I do bad, I feel bad. That's my religion.\", \"I don't know what the future may hold, but I know who holds the future.\", 'The best way out is always through.', 'People become really quite remarkable when they start thinking that they can do things. When they believe in themselves they have the first secret of success.', 'Always walk through life as if you have something new to learn, and you will.', \"The elevator to success is out of order. You'll have to use the stairs... one step at a time.\", 'True terror is to wake up one morning and discover that your high school class is running the country.', \"Every time you don't follow your inner guidance, you feel a loss of energy, loss of power, a sense of spiritual deadness.\", 'Silence is the sleep that nourishes wisdom.', \"Believe in love. Believe in magic. Hell, believe in Santa Clause. Believe in others. Believe in yourself. Believe in your dreams. If you don't, who will?\", 'Never mistake motion for action.', 'Maxim for life: You get treated in life the way you teach people to treat you.', 'Stay committed to your decisions, but stay flexible in your approach.', 'You can tell whether a man is clever by his answers. You can tell whether a man is wise by his questions.', 'If one advances confidently in the direction of his dreams, and endeavors to live the life which he has imagined, he will meet with a success unexpected in common hours.', 'Develop success from failures. Discouragement and failure are two of the surest stepping stones to success.', \"The very purpose of Christ's coming into the world was that He might offer up His life as a sacrifice for the sins of men. He came to die. This is the heart of Christmas.\", 'You have to grow from the inside out. None can teach you, none can make you spiritual. There is no other teacher but your own soul.', 'If Tyranny and Oppression come to this land, it will be in the guise of fighting a foreign enemy.', 'God has given us two hands, one to receive with and the other to give with.', \"You can close your eyes to the things you don't want to see, but you can't close your heart to the things you don't want to feel.\", \"The most common way people give up their power is by thinking they don't have any.\", 'If you can believe it, the mind can achieve it.', \"I do believe we're all connected. I do believe in positive energy. I do believe in the power of prayer. I do believe in putting good out into the world. And I believe in taking care of each other.\", 'What we think or what we know or what we believe is in the end of little consequence. The only thing of consequence is what we do', 'Never dull your shine for somebody else.', 'It can not be emphasized too strongly or too often that this great nation was founded, not by religionists, but by Christians, not on religions, but on the gospel of Jesus Christ!', 'To give thanks in solitude is enough. Thanksgiving has wings and goes where it must go. Your prayer knows much more about it than you do.', 'The tree of liberty must be refreshed from time to time with the blood of patriots and tyrants.', \"Don't compare your life to others. You have no idea what they have been through.\", 'The minute I heard my first love story, I started looking for you.', 'Knowledge is of no value unless you put it into practice.', 'All the great things are simple, and many can be expressed in a single word: freedom, justice, honor, duty, mercy, hope.', 'Faith is the strength by which a shattered world shall emerge into the light.', 'If you are losing faith in human nature, go out and watch a marathon.', 'Today, more than ever before, life must be characterized by a sense of Universal responsibility, not only nation to nation and human to human, but also human to other forms of life.', 'From what we get, we can make a living; what we give, however, makes a life.', \"I've read the last page of the Bible. It's all going to turn out all right.\", \"Just because Fate doesn't deal you the right cards, it doesn't mean you should give up. It just means you have to play the cards you get to their maximum potential.\", \"Don't you ever let a soul in the world tell you that you can't be exactly who you are.\", 'We must overcome the notion that we must be regular... it robs you of the chance to be extraordinary and leads you to the mediocre.', 'You have not lived today until you have done something for someone who can never repay you.', \"Exercise is king. Nutrition is queen. Put them together and you've got a kingdom.\", 'Humor is by far the most significant activity of the human brain.', 'Talent is cheaper than table salt. What separates the talented individual from the successful one is a lot of hard work.', 'Watch your manner of speech if you wish to develop a peaceful state of mind. Start each day by affirming peaceful, contented and happy attitudes and your days will tend to be pleasant and successful.', 'Nothing is so permanent as a temporary government program.', 'When a person really desires something, all the universe conspires to help that person to realize his dream.', 'The brighter you are, the more you have to learn.', \"When you dance, your purpose is not to get to a certain place on the floor. It's to enjoy each step along the way.\", \"Most people ask for happiness on condition. Happiness can only be felt if you don't set any condition.\", 'The person born with a talent they are meant to use will find their greatest happiness in using it.', 'Effort only fully releases its reward after a person refuses to quit.', \"You're never as good as everyone tells you when you win, and you're never as bad as they say when you lose.\", 'I do not think much of a man who is not wiser today than he was yesterday.', 'When you arise in the morning, think of what a precious privilege it is to be alive - to breathe, to think, to enjoy, to love.', 'As the family goes, so goes the nation and so goes the whole world in which we live.', 'We should certainly count our blessings, but we should also make our blessings count.', \"Everyone has inside of him a piece of good news. The good news is that you don't know how great you can be! How much you can love! What you can accomplish! And what your potential is!\", \"If everyone is thinking alike, then somebody isn't thinking.\", 'Act as if what you do makes a difference. It does.', 'The supreme art of war is to subdue the enemy without fighting.', \"I have never met a man so ignorant that I couldn't learn something from him.\", \"When you are offended at any man's fault, turn to yourself and study your own failings. Then you will forget your anger.\", 'It is foolish and wrong to mourn the men who died. Rather we should thank God that such men lived.', 'An invincible determination can accomplish almost anything and in this lies the great distinction between great men and little men.', 'The quality of a leader is reflected in the standards they set for themselves.', \"You've got to get to the stage in life where going for it is more important than winning or losing.\", 'Can anything be sadder than work left unfinished? Yes, work never begun.', \"Don't just read the easy stuff. You may be entertained by it, but you will never grow from it.\", 'And by the way, everything in life is writable about if you have the outgoing guts to do it, and the imagination to improvise. The worst enemy to creativity is self-doubt.', \"One of the hardest things in life is having words in your heart that you can't utter.\", 'Success is not to be pursued; it is to be attracted by the person you become.', 'Never allow someone to be your priority while allowing yourself to be their option.', 'Realize that true happiness lies within you. Waste no time and effort searching for peace and contentment and joy in the world outside. Remember that there is no happiness in having or in getting, but only in giving. Reach out. Share. Smile. Hug. Happiness is a perfume you cannot pour on others without getting a few drops on yourself.', \"You can't separate peace from freedom because no one can be at peace unless he has his freedom.\", 'There is little difference in people, but that little difference makes a big difference. The little difference is attitude. The big difference is whether it is positive or negative.', 'America will never be destroyed from the outside. If we falter and lose our freedoms, it will be because we destroyed ourselves.', 'The average dog is a nicer person than the average person.', 'Faithful servants never retire. You can retire from your career, but you will never retire from serving God.', 'In matters of style, swim with the current; in matters of principle, stand like a rock.', \"Dad needs to show an incredible amount of respect and humor and friendship toward his mate so the kids understand their parents are sexy, they're fun, they do things together, they're best friends. Kids learn by example. If I respect Mom, they're going to respect Mom.\", 'We are United States Marines, and for two and a quarter centuries we have defined the standards of courage, esprit, and military prowess.', 'Patience is the companion of wisdom.', 'Peace cannot be kept by force; it can only be achieved by understanding.', 'I prefer to be true to myself, even at the hazard of incurring the ridicule of others, rather than to be false, and to incur my own abhorrence.', 'The two hardest tests on the spiritual road are the patience to wait for the right moment and the courage not to be disappointed with what we encounter.', 'The revolution is not an apple that falls when it is ripe. You have to make it fall.', \"We can always choose to perceive things differently. You can focus on what's wrong in your life, or you can focus on what's right.\", 'Always seek out the seed of triumph in every adversity.', 'Self-worth comes from one thing - thinking that you are worthy.', 'The best vision is insight.', \"You may have a fresh start any moment you choose, for this thing that we call 'failure' is not the falling down, but the staying down.\", 'Learning is the beginning of wealth. Learning is the beginning of health. Learning is the beginning of spirituality. Searching and learning is where the miracle process all begins.', 'Being entirely honest with oneself is a good exercise.', \"Take it from a guy: If you're in love with somebody, you will swim the stream, you will climb the mountain, you will slay the dragon. You're going to get to her somehow, some way.\", 'The best and most beautiful things in the world cannot be seen or even touched - they must be felt with the heart.', 'You can love someone so much...But you can never love people as much as you can miss them.', 'If you break your neck, if you have nothing to eat, if your house is on fire, then you got a problem. Everything else is inconvenience.', 'Gratitude is riches. Complaint is poverty.', 'Your attitude is like a box of crayons that color your world. Constantly color your picture gray, and your picture will always be bleak. Try adding some bright colors to the picture by including humor, and your picture begins to lighten up.', 'Miracles come in moments. Be ready and willing.', 'Stop acting as if life is a rehearsal. Live this day as if it were your last. The past is over and gone. The future is not guaranteed.', 'The harder the conflict, the more glorious the triumph.', \"It's amazing what ordinary people can do if they set out without preconceived notions.\", 'You teach best what you most need to learn.', 'All I have seen teaches me to trust the creator for all I have not seen.', 'Either you run the day or the day runs you.', 'Never forget the three powerful resources you always have available to you: love, prayer, and forgiveness.', 'It is impossible for a man to learn what he thinks he already knows.', 'My attitude is that if you push me towards something that you think is a weakness, then I will turn that perceived weakness into a strength.', 'In the beginning of a change the patriot is a scarce man, and brave, and hated and scorned. When his cause succeeds, the timid join him, for then it costs nothing to be a patriot.', 'Without leaps of imagination, or dreaming, we lose the excitement of possibilities. Dreaming, after all, is a form of planning.', 'I have just returned from visiting the Marines at the front, and there is not a finer fighting organization in the world!', 'The successful man will profit from his mistakes and try again in a different way.', 'Your family and your love must be cultivated like a garden. Time, effort, and imagination must be summoned constantly to keep any relationship flourishing and growing.', 'Being ready is not what matters. What matters is winning after you get there.', 'Let my soul smile through my heart and my heart smile through my eyes, that I may scatter rich smiles in sad hearts.', 'We should not judge people by their peak of excellence; but by the distance they have traveled from the point where they started.', 'One reason so few of us achieve what we truly want is that we never direct our focus; we never concentrate our power. Most people dabble their way through life, never deciding to master anything in particular.', 'Learning is not attained by chance, it must be sought for with ardor and diligence.', \"We've all got both light and dark inside us. What matters is the part we choose to act on. That's who we really are.\", 'Our freedom can be measured by the number of things we can walk away from.', 'The highest form of worship is the worship of unselfish Christian service. The greatest form of praise is the sound of consecrated feet seeking out the lost and helpless.', \"One isn't necessarily born with courage, but one is born with potential. Without courage, we cannot practice any other virtue with consistency. We can't be kind, true, merciful, generous, or honest.\", \"Nothing I've ever done has given me more joys and rewards than being a father to my children.\", 'What is hell? I maintain that it is the suffering of being unable to love.', 'If you can learn to love yourself and all the flaws, you can love other people so much better. And that makes you so happy.', \"There is only one corner of the universe you can be certain of improving, and that's your own self.\", 'There is not one blade of grass, there is no color in this world that is not intended to make men rejoice.', 'Stay away from what might have been, and look at what can be.', 'Success is achieved by developing our strengths, not by eliminating our weaknesses.', 'Do not seek to follow in the footsteps of the wise. Seek what they sought.', \"In three words I can sum up everything I've learned about life: it goes on.\", 'We think too much and feel too little.', 'Failure is simply a few errors in judgment, repeated every day.', \"Missions is not the ultimate goal of the church. Worship is. Missions exists because worship doesn't.\", \"It's what you learn after you know it all that counts.\", 'Great spirits have always encountered opposition from mediocre minds. The mediocre mind is incapable of understanding the man who refuses to bow blindly to conventional prejudices and chooses instead to express his opinions courageously and honestly.', 'Maturity is the ability to think, speak and act your feelings within the bounds of dignity. The measure of your maturity is how spiritual you become during the midst of your frustrations.', \"Do what you feel in your heart to be right - for you'll be criticized anyway. You'll be damned if you do, and damned if you don't.\", 'As we express our gratitude, we must never forget that the highest appreciation is not to utter words, but to live by them.', 'Human beings can alter their lives by altering their attitudes of mind.', 'I pretended to be somebody I wanted to be until finally I became that person. Or he became me.', \"The only way that I could figure they could improve upon Coca-Cola, one of life's most delightful elixirs, which studies prove will heal the sick and occasionally raise the dead, is to put bourbon in it.\", 'You must make a decision that you are going to move on. It wont happen automatically. You will have to rise up and say, ‘I don’t care how hard this is, I don’t care how disappointed I am, I’m not going to let this get the best of me. I’m moving on with my life.', 'It is not until you become a mother that your judgment slowly turns to compassion and understanding.', \"If you don't stand for something you will fall for anything.\", 'Searching and learning is where the miracle process all begins.', \"These young guys are playing checkers. I'm out there playing chess.\", \"You just can't beat the person who never gives up.\", \"I firmly believe that any man's finest hour, the greatest fulfillment of all that he holds dear, is that moment when he has worked his heart out in a good cause and lies exhausted on the field of battle - victorious.\", \"If we're growing, we're always going to be out of our comfort zone.\", \"It doesn't matter which side of the fence you get off on sometimes. What matters most is getting off. You cannot make progress without making decisions.\", 'Out of suffering have emerged the strongest souls; the most massive characters are seared with scars.', 'Greed is a bottomless pit which exhausts the person in an endless effort to satisfy the need without ever reaching satisfaction.', 'When I was 5 years old, my mother always told me that happiness was the key to life. When I went to school, they asked me what I wanted to be when I grew up. I wrote down ‘happy’. They told me I didn’t understand the assignment, and I told them they didn’t understand life.', 'Common sense is the collection of prejudices acquired by age eighteen.', 'Our attitude towards others determines their attitude towards us.', 'The happiness of your life depends upon the quality of your thoughts.', \"Be nice to people on your way up because you'll meet them on your way down.\", 'If we learn to open our hearts, anyone, including the people who drive us crazy, can be our teacher.', \"There is some good in this world, and it's worth fighting for.\", 'The cost of freedom is always high, but Americans have always paid it. And one path we shall never choose, and that is the path of surrender, or submission.', 'Carpe diem! Rejoice while you are alive; enjoy the day; live life to the fullest; make the most of what you have. It is later than you think.', \"You're mind is working at its best when you're being paranoid. You explore every avenue and possibility of your situation at high speed with total clarity.\", 'Without a sense of urgency, desire loses its value.', 'Whatever good things we build end up building us.', 'The purpose of life is to live it, to taste experience to the utmost, to reach out eagerly and without fear for newer and richer experience.', \"They're on our right, they're on our left, they're in front of us, they're behind us; they can't get away from us this time.\", \"I'm not in this world to live up to your expectations and you're not in this world to live up to mine.\", 'The major value in life is not what you get. The major value in life is what you become.', 'Give me six hours to chop down a tree and I will spend the first four sharpening the axe.', 'We have to be careful in how we use this light shined on us.', 'To solve any problem, here are three questions to ask yourself: First, what could I do? Second, what could I read? And third, who could I ask?', \"You've got to know your limitations. I don't know what your limitations are. I found out what mine were when I was twelve. I found out that there weren't too many limitations, if I did it my way.\", 'I always wonder why birds choose to stay in the same place when they can fly anywhere on the earth, then I ask myself the same question.', 'To love means loving the unlovable. To forgive means pardoning the unpardonable. Faith means believing the unbelievable. Hope means hoping when everything seems hopeless.', 'Be brave. Take risks. Nothing can substitute experience.', \"If you really want to do something, you'll find a way. If you don't, you'll find an excuse.\", 'It is neither wealth nor splendor; but tranquility and occupation which give you happiness.', 'A thousand words will not leave so deep an impression as one deed.', 'Courage is the price that life exacts for granting peace.', 'The worst evils which mankind has ever had to endure were inflicted by bad governments.', 'The moment we begin to fear the opinions of others and hesitate to tell the truth that is in us, and from motives of policy are silent when we should speak, the divine floods of light and life no longer flow into our souls.', 'Trust yourself, you know more than you think you do.', 'High achievement always takes place in the framework of high expectation.', 'Some people want it to happen, some wish it would happen, others make it happen.', 'The body is your temple. Keep it pure and clean for the soul to reside in.', 'Be like a duck. Calm on the surface, but always paddling like the dickens underneath.', 'Tears shed for self are tears of weakness, but tears shed for others are a sign of strength.', 'Success is neither magical nor mysterious. Success is the natural consequence of consistently applying the basic fundamentals.', 'It is wise to direct your anger towards problems - not people; to focus your energies on answers - not excuses.', 'If we did all the things we are capable of doing, we would literally astound ourselves.', 'I ask, sir, what is the militia? It is the whole people except for a few public officials.', \"As long as there's pasta and Chinese food in the world, I'm okay.\", 'Love is our true destiny. We do not find the meaning of life by ourselves alone - we find it with another.', 'The few who do are the envy of the many who only watch.', \"Don't brood. Get on with living and loving. You don't have forever.\", 'The Marines have landed and the situation is well in hand.', \"Tricks and treachery are the practice of fools, that don't have brains enough to be honest.\", \"Life is one big road with lots of signs,\\nSo when you riding through the ruts,\\nDon't you complicate your mind\\nFlee from hate, mischief and jealousy\\nDon't bury your thoughts; put your vision to reality.\", 'There is always some madness in love. But there is also always some reason in madness.', 'For peace of mind, we need to resign as general manager of the universe.', 'I am free, no matter what rules surround me. If I find them tolerable, I tolerate them; if I find them too obnoxious, I break them. I am free because I know that I alone am morally responsible for everything I do.', 'Only put off until tomorrow what you are willing to die having left undone.', 'The will to win, the desire to succeed, the urge to reach your full potential... these are the keys that will unlock the door to personal excellence.', \"It's very hard in the beginning to understand that the whole idea is not to beat the other runners. Eventually you learn that the competition is against the little voice inside you that wants you to quit.\", 'Difficulties are meant to rouse, not discourage. The human spirit is to grow strong by conflict.', 'A well-developed sense of humor is the pole that adds balance to your steps as you walk the tightrope of life.', 'We relish news of our heroes, forgetting that we are extraordinary to somebody too.', \"It isn't the mountain ahead that wears you out; it's the grain of sand in your shoe.\", 'It takes less time to do a thing right, than it does to explain why you did it wrong.', 'Empty your mind, be formless. Shapeless, like water. If you put water into a cup, it becomes the cup. You put water into a bottle and it becomes the bottle. You put it in a teapot it becomes the teapot. Now, water can flow or it can crash. Be water, my friend.', 'The longer we dwell on our misfortunes, the greater is their power to harm us', \"Sometimes I've believed as many as six impossible things before breakfast.\", 'Do not fear mistakes. There are none.', 'Expose yourself to your deepest fear; after that, fear has no power, and the fear of freedom shrinks and vanishes. You are free.', 'Anger is an acid that can do more harm to the vessel in which it is stored than to anything on which it is poured.', 'Failure is success if we learn from it.', 'You are here to enable the divine purpose of the Universe to unfold. That is how important you are!', 'People like us, who believe in physics, know that the distinction between past, present, and future is only a stubbornly persistent illusion.', 'I still need Marines who can shoot and salute. But I need Marines who can fix jet engines and man sophisticated radar sets, as well.', \"You can't expect to hit the jackpot if you don't put a few nickels in the machine.\", 'It is what we know already that often prevents us from learning.', 'One of the penalties for refusing to participate in politics is that you end up being governed by your inferiors.', 'The only limit to our realization of tomorrow will be our doubts of today.', \"I've learned that making a 'living' is not the same thing as 'making a life'.\", 'The spirit, the will to win, and the will to excel are the things that endure. These qualities are so much more important than the events that occur.', 'When I started counting my blessings, my whole life turned around.', 'Ninety-nine percent of the failures come from people who have the habit of making excuses.', \"What doesn't kill you makes you smaller\", 'Everything comes to us that belongs to us if we create the capacity to receive it.', 'Every time you smile at someone, it is an action of love, a gift to that person, a beautiful thing.', 'The difficulties you meet will resolve themselves as you advance. Proceed, and light will dawn, and shine with increasing clearness on your path.', \"It's not what's happening to you now or what has happened in your past that determines who you become. Rather, it's your decisions about what to focus on, what things mean to you, and what you're going to do about them that will determine your ultimate destiny.\", 'Live your life and forget your age.', 'We may not be able to prepare the future for our children, but we can at least prepare our children for the future.', 'Men occasionally stumble over the truth, but most of them pick themselves up and hurry off as if nothing had happened.', \"That's been one of my mantras - focus and simplicity. Simple can be harder than complex: You have to work hard to get your thinking clean to make it simple. But it's worth it in the end because once you get there, you can move mountains.\", 'The trouble with most of us is that we would rather be ruined by praise than saved by criticism.', 'The smallest deed is better than the greatest intention.', \"Only two things are infinite, the universe and human stupidity, and I'm not sure about the former.\", 'A nation of sheep will beget a government of wolves.', \"Nothing else can quite substitute for a few well-chosen,\\nwell-timed, sincere words of praise.\\nThey're absolutely free and worth a fortune\", \"There is nothing in a caterpillar that tells you it's going to be a butterfly.\", \"A charming woman... doesn't follow the crowd. She is herself.\", \"You don't understand anything until you learn it more than one way.\", 'Doubt yourself and you doubt everything you see. Judge yourself and you see judges everywhere. But if you listen to the sound of your own voice, you can rise above doubt and judgment. And you can see forever.', \"Find the good. It's all around you. Find it, showcase it and you'll start believing in it.\", 'Happiness in marriage is entirely a matter of chance.', 'The difference between a mountain and a molehill is your perspective.', 'It is best to act with confidence, no matter how little right you have to it.', \"People usually consider walking on water or in thin air a miracle. But I think the real miracle is not to walk either on water or in thin air, but to walk on earth. Every day we are engaged in a miracle which we don't even recognize: a blue sky, white clouds, green leaves, the black, curious eyes of a child -- our own two eyes. All is a miracle.\", 'Freedom means the opportunity to be what we never thought we would be.', 'For it was not into my ear you whispered, but into my heart. It was not my lips you kissed, but my soul.', 'I will love the light for it shows me the way, yet I will endure the darkness because it shows me the stars.', \"If you run, you are a runner. It doesn't matter how fast or how far. It doesn't matter if today is your first day or if you've been running for twenty years. There is no test to pass, no license to earn, no membership card to get. You just run.\", 'The deepest principle in human nature is the craving to be appreciated.', \"The world is a dangerous place to live; not because of the people who are evil, but because of the people who don't do anything about it.\", 'To find out what one is fitted to do, and to secure an opportunity to do it, is the key to happiness.', 'Forgiveness says you are given another chance to make a new beginning.', \"About all you can do in life is be who you are. Some people will love you for you. Most will love you for what you can do for them, and some won't like you at all.\", 'What is success? I think it is a mixture of having a flair for the thing that you are doing; knowing that it is not enough, that you have got to have hard work and a certain sense of purpose.', 'The past has no power over the present moment.', \"Do not let your fire go out, spark by irreplaceable spark in the hopeless swamps of the not-quite, the not-yet, and the not-at-all. Do not let the hero in your soul perish in lonely frustration for the life you deserved and have never been able to reach. The world you desire can be won. It exists.. it is real.. it is possible.. it's yours.\", 'No person was ever honored for what he received. Honor has been the reward for what he gave.', 'Wherever you are, and whatever you do, be in love.', 'Love yourself-accept yourself-forgive yourself-and be good to yourself, because without you the rest of us are without a source of many wonderful things.', 'Whenever you find yourself on the side of the majority, it is time to pause and reflect.', 'And those who were seen dancing were thought to be insane by those who could not hear the music.', \"I love things that age well - things that don't date, that stand the test of time and that become living examples of the absolute best.\", 'Better be wise by the misfortunes of others than by your own.', 'The person, be it gentleman or lady, who has not pleasure in a good novel, must be intolerably stupid.', 'Curiosity is one of the most permanent and certain characteristics of a vigorous intellect.', \"The opposite of love is not hate, it's indifference. The opposite of art is not ugliness, it's indifference. The opposite of faith is not heresy, it's indifference. And the opposite of life is not death, it's indifference.\", 'Leaders must be close enough to relate to others, but far enough ahead to motivate them.', 'Regret for the things we did can be tempered by time; it is regret for the things we did not do that is inconsolable.', 'America... just a nation of two hundred million used car salesmen with all the money we need to buy guns and no qualms about killing anybody else in the world who tries to make us uncomfortable.', 'For every disciplined effort there is a multiple reward.', \"The spiritual journey is individual, highly personal. It can't be organized or regulated. It isn't true that everyone should follow one path. Listen to your own truth.\", 'The mind is not a vessel to be filled but a fire to be kindled.']\n"
     ]
    }
   ],
   "source": [
    "print(quotes)"
   ]
  },
  {
   "cell_type": "code",
   "execution_count": 591,
   "id": "629a6597",
   "metadata": {},
   "outputs": [
    {
     "name": "stdout",
     "output_type": "stream",
     "text": [
      "['Michael Porter', 'Golda Meir', 'Theodore Roosevelt', 'Nelson Mandela', 'Erma Bombeck', 'John Wooden', 'Albert Einstein', 'Frank Zappa', 'William Faulkner', 'Will Rogers', 'Jimmy Carter', 'Albert Einstein', 'Abraham Lincoln', 'Steven Weinberg', 'Franklin D. Roosevelt', 'Albert Einstein', 'Maya Angelou', 'Mark Twain', 'Theodore Roosevelt', 'Michael Jackson', 'Martin Luther King, Jr.', 'C. S. Lewis', 'Theodore Roosevelt', 'Mark Twain', 'Abraham Lincoln', 'Ruth Graham', 'C. S. Lewis', 'Groucho Marx', 'John Lennon', 'Barbara Bush', 'Albert Einstein', 'Francis Chan', 'Henry Ford', 'Victor Hugo', 'Abu Bakr', 'Zig Ziglar', 'Winston Churchill', 'Zig Ziglar', 'John F. Kennedy', 'Dwight D. Eisenhower', 'Winston Churchill', 'Albert Einstein', 'Willie Nelson', 'Johnny Cash', 'Marie Curie', 'Maya Angelou', 'Amy Bloom', 'Zig Ziglar', 'John Lennon', 'Thomas Sowell', 'Max Lucado', 'Martin Luther King, Jr.', 'Salma Hayek', 'Thomas Sowell', 'Martin Luther King, Jr.', 'Douglas MacArthur', 'Douglas MacArthur', 'George S. Patton', 'Corrie Ten Boom', 'Jim Courier', 'Zig Ziglar', 'Edgar Allan Poe', 'Zig Ziglar', 'Stephen Covey', 'Pablo Neruda', 'Joe Frazier', 'Bill Cosby', 'Lewis Grizzard', 'Les Brown', 'Meister Eckhart', 'Muhammad Ali', 'John C. Maxwell', 'Thomas A. Edison', 'Neil Armstrong', 'Rose Kennedy', 'Martin Luther', 'Ronald Reagan', 'Andrew Murray', 'Arianna Huffington', 'Anne Frank', 'Corrie Ten Boom', 'Nelson Mandela', 'Robin Williams', 'Walt Disney', 'John F. Kennedy', 'Mark Twain', 'John Stott', 'Wayne Dyer', 'Steve Jobs', 'Maya Angelou', 'Satchel Paige', 'Mwai Kibaki', 'Roald Dahl', 'Robert H. Schuller', 'Bill Vaughan', 'Hunter S. Thompson', 'Corrie Ten Boom', 'Dalai Lama', 'Mother Teresa', 'Norman Vincent Peale', 'Neltje Blanchan', 'Saint Augustine', 'Henry Ford', 'Arthur Rubinstein', 'George Mason', 'Margaret Fuller', 'Colin Powell', 'Benjamin Franklin', 'Elizabeth Kenny', 'Jonathan Edwards', 'Xunzi', 'Bertrand Russell', 'Richard Branson', 'Albert Einstein', 'Jerry Bridges', 'Walt Disney', 'Frederick Douglass', 'J. R. R. Tolkien', 'Winston Churchill', 'David Frost', 'Rush Limbaugh', 'Colin Powell', 'Maya Angelou', 'Mother Teresa', 'Jenn Proske', 'Martin Luther King, Jr.', 'Mother Teresa', 'Ronald Reagan', 'Milton Friedman', 'Confucius', 'Nicholas Sparks', 'Victor Hugo', 'Martin Luther King, Jr.', 'Mother Teresa', 'Dean Karnazes', 'Dalai Lama', 'Oprah Winfrey', 'Mary Kay Ash', 'C. S. Lewis', 'Nathan Hale', 'Vince Lombardi', 'Maya Angelou', 'Charles Spurgeon', 'Dalai Lama', 'Eleanor Roosevelt', 'Henry Ford', 'George Bernard Shaw', 'Ronald Reagan', 'John F. Kennedy', 'Corrie Ten Boom', 'Brian Tracy', 'George Bernard Shaw', 'David Brinkley', 'Thomas A. Edison', 'Carol Burnett', 'Douglas MacArthur', 'Johann Wolfgang von Goethe', 'Oprah Winfrey', 'Robert Kiyosaki', 'Mark Twain', 'Robert Louis Stevenson', 'Maya Angelou', 'Marilyn vos Savant', 'Alice Walker', 'Bill Gates', 'Mother Teresa', 'Albert Einstein', 'Ronald Reagan', 'John Wooden', 'C. S. Lewis', 'Conrad Hall', 'Walt Disney', 'Michel Odent', 'Oscar Wilde', 'Napoleon Hill', 'Mother Teresa', 'Robin Williams', 'Thomas A. Edison', 'Agatha Christie', 'Diane von Furstenberg', 'Dale Carnegie', 'John Quincy Adams', 'W. E. B. Du Bois', 'Mary Lou Retton', 'Jimmy Carter', 'George Bernard Shaw', 'Helen Keller', 'Robert H. Schuller', 'Gail Devers', 'Diane Sawyer', 'Martin Luther', 'Margaret Thatcher', 'Maya Angelou', 'Albert Schweitzer', 'Jim Rohn', 'Alexander Graham Bell', 'Henry Ford', 'Robin Williams', 'Margaret Walker', 'T. Harv Eker', 'Winston Churchill', 'John Lubbock', 'Albert Einstein', 'Jim Valvano', 'Thomas Jefferson', 'Farrah Gray', 'Mother Teresa', 'Maya Angelou', 'B. F. Skinner', 'Earl Nightingale', 'Martin Luther King, Jr.', 'Walt Disney', 'Albert Einstein', 'Bill Gates', 'Henry Ford', 'Albert Einstein', 'Eleanor Roosevelt', 'Babe Ruth', 'Wayne Dyer', 'Stephen King', 'Nelson Mandela', 'Ronald Reagan', 'Benjamin Disraeli', 'Walt Disney', 'Caroline Myss', 'Mother Teresa', 'Martin Luther King, Jr.', 'Marcus Aurelius', 'Donna Karan', 'Robin Williams', 'Booker T. Washington', 'Washington Irving', 'Brooke Shields', 'Benjamin Franklin', 'Princess Diana', 'Alexander Graham Bell', 'Anne Frank', 'Johnny Cash', 'Lyndon B. Johnson', 'Confucius', 'Warren G. Bennis', 'Les Brown', 'Dale Carnegie', 'Johnny Cash', 'Helen Keller', 'Walter Hagen', 'Dolly Parton', 'George S. Patton', 'Jim Rohn', 'William Arthur Ward', 'Winston Churchill', 'Groucho Marx', 'Ralph Waldo Emerson', 'Alice Walker', 'Dalai Lama', 'Barbara Sher', 'Wayne Dyer', 'Mother Teresa', 'Drake', 'Marilyn Monroe', 'A. A. Milne', 'Vince Lombardi', 'Ralph Waldo Emerson', 'Jim Rohn', 'Mother Teresa', 'Beverly Sills', 'Billy Graham', 'Ann Landers', 'Dwight D. Eisenhower', 'Stevie Wonder', 'Leo Buscaglia', 'Gillian Anderson', 'Jim Rohn', 'William Halsey', 'Benjamin Franklin', 'Henry David Thoreau', 'Mahatma Gandhi', 'Brian Tracy', 'Mae Jemison', 'Confucius', 'Anne Baxter', 'George Bernard Shaw', 'Ken Venturi', 'C. S. Lewis', 'Ronald Reagan', 'Abraham Lincoln', 'Bill Cosby', 'Eckhart Tolle', 'T. S. Eliot', 'Maxwell Maltz', 'Drew Houston', 'Nido R Qubein', 'Jim Rohn', 'Mahatma Gandhi', 'Mary Pickford', 'Sam Levenson', 'Orison Swett Marden', 'Jon Stewart', 'Malcolm X', 'Edith Head', 'Lucille Ball', 'Abraham Lincoln', 'Albert Schweitzer', 'Napoleon Hill', 'Norman Vincent Peale', 'Tony Robbins', 'Ronald Reagan', 'Mary Tyler Moore', 'Anne Sweeney', 'Mother Teresa', 'Martin Luther King, Jr.', 'Jim Rohn', 'Carol Burnett', 'Bear Bryant', 'Audrey Hepburn', 'Satchel Paige', 'H. G. Wells', 'Charles Spurgeon', 'Denis Waitley', 'Denis Waitley', 'E. M. Forster', 'Oliver Wendell Holmes, Jr.', 'Theodore Hesburgh', 'Napoleon Hill', 'Martin Luther', 'Jim Rohn', 'Marie Curie', 'Bo Jackson', 'Paulo Coelho', 'Nelson Mandela', 'Confucius', 'Joseph Campbell', 'Napoleon Bonaparte', 'Rosalynn Carter', 'Lydia M. Child', 'Richard Branson', 'Oscar Wilde', 'Pablo Picasso', 'Geezer Butler', 'E. M. Forster', 'Denis Waitley', 'Abraham Lincoln', 'Henry David Thoreau', 'Byron Katie', 'Sam Ewing', 'John C. Maxwell', 'Earl Nightingale', 'Henry Ford', 'Eleanor Roosevelt', 'Ann Landers', 'Robertson Davies', 'Tony Robbins', 'Charles Simmons', 'Brian Tracy', 'Aldous Huxley', 'Ernest Hemingway', 'George Edward Woodberry', 'Winston Churchill', 'Arthur Schopenhauer', 'Charles C. Krulak', 'Mother Teresa', 'Les Brown', 'Andy Rooney', 'Vince Lombardi', 'Barbara Smith', 'Mark Twain', 'Benjamin Disraeli', 'Barack Obama', 'Winston Churchill', 'Johann Wolfgang von Goethe', 'Max Lucado', 'John Wayne', 'George S. Patton', 'George Washington', 'William Morris', 'John J. Pershing', 'John Wooden', 'Nelson Mandela', 'Elbert Hubbard', 'Jimi Hendrix', 'Brian Tracy', 'Louis de Montfort', 'Jon Bon Jovi', 'Sydney J. Harris', 'Calvin Coolidge', 'Robert Kiyosaki', 'Oscar Wilde', 'Corrie Ten Boom', 'Louisa May Alcott', 'Christopher Morley', 'Norman Schwarzkopf', 'Thomas A. Edison', 'Dorothy Thompson', 'Martin Luther King, Jr.', 'Steve Jobs', 'Leo Buscaglia', 'Aristotle', 'Jack Welch', 'Plutarch', 'Jim Rohn', 'Carl Rogers', 'Princess Diana', 'John D. Rockefeller', 'Abraham Lincoln', 'Helen Keller', 'Erica Jong', 'Barbara Corcoran', 'Charles Spurgeon', 'Dale Carnegie', 'William Arthur Ward', 'Doug Larson', 'Erich Fromm', 'Elbert Hubbard', 'Denis Leary', 'Mother Teresa', 'Oprah Winfrey', 'Albert Einstein', 'Sydney J. Harris', 'Bruce Lee', 'Henry Ford', 'Nelson Mandela', 'Winston Churchill', 'William Tecumseh Sherman', 'Henry Ford', 'Jim Rohn', 'Benjamin Franklin', 'Jim Rohn', 'Wayne Dyer', 'Les Brown', 'Jimi Hendrix', 'Alphonse de Lamartine', 'Omar N. Bradley', 'Confucius', 'Steve Jobs', 'Harriet Beecher Stowe', 'Roald Dahl', 'Corrie Ten Boom', 'Ellen Glasgow', 'Will Rogers', 'Marilyn Monroe', 'Hermann Hesse', 'Emile Zola', 'Julie Isphording', 'Zig Ziglar', 'Eleanor Roosevelt', 'William Jennings Bryan', 'Michel de Montaigne', 'Mother Teresa', 'Mark Twain', 'Booker T. Washington', 'Chuck Palahniuk', 'Edgar Allan Poe', 'Edmund Burke', 'John Wooden', 'Daniel J. Boorstin', 'William Penn', 'Lee Iacocca', 'Albert Einstein', 'Abu Bakr', 'Dr. Seuss', 'Wayne Dyer', 'Euripides', 'Jim Rohn', 'Nelson Mandela', 'Jean de La Fontaine', 'William Arthur Ward', 'Margaret Fuller', 'Mark Twain', 'Walt Disney', 'Charles Kettering', 'Marcus Aurelius', 'Richard DeVos', 'Robert Fulghum', 'Milton Berle', 'Jim Rohn', 'Abraham Lincoln', 'Denis Waitley', 'Virginia Woolf', 'Tom Krause', 'Abdul Kalam', 'Edward Eggleston', 'Albert Einstein', 'Martin Luther King, Jr.', 'Gilda Radner', 'Jim Rohn', 'Frederick Buechner', 'Colin Powell', 'Wilma Rudolph', 'Albert Einstein', 'Lou Holtz', 'Goran Persson', 'Will Smith', 'Martin Luther King, Jr.', 'Barbara Bush', 'Ayn Rand', 'Rose Kennedy', 'John F. Kennedy', 'Martin Luther King, Jr.', 'Michael Landon', 'Henry David Thoreau', 'William Shakespeare', 'F. Burton Howard', 'Woody Allen', 'Christopher Reeve', 'Sydney J. Harris', 'Denis Waitley', 'Tom Brokaw', 'Bruce Lee', 'Jack Dixon', 'Pearl S. Buck', 'William Carey', 'John C. Maxwell', 'Albert Einstein', 'Nicholas Sparks', 'Joseph Campbell', 'Harry Emerson Fosdick', 'Steve Jobs', 'Golda Meir', 'Winston Churchill', 'Dwight L. Moody', 'Bill Gates', 'Soren Kierkegaard', 'Lois Wyse', 'Ambrose Bierce', 'Aristotle', 'Dwight D. Eisenhower', 'Ernest Hemingway', 'Arthur Schopenhauer', 'Golda Meir', 'Joy Page', 'Stephen Covey', 'Lucille Ball', 'John Wooden', 'Napoleon Hill', 'Marcus Tullius Cicero', 'Adrienne Rich', 'Babe Ruth', 'Benjamin Franklin', 'Will Rogers', 'Pat Riley', 'Nora Ephron', 'Anne Frank', 'Peter Drucker', 'Morris West', 'Haim Ginott', 'Helen Keller', 'Arthur Ashe', 'Zig Ziglar', 'Winston Churchill', 'Gerry Spence', 'Joyce Brothers', 'Jim Rohn', 'Abraham Lincoln', 'Princess Diana', 'Viktor E. Frankl', 'Frances Hodgson Burnett', 'Bruce Lee', 'Marian Wright Edelman', 'Chief Seattle', 'Dave Barry', 'Florence Nightingale', 'Jim Rohn', 'Clint Eastwood', 'Thomas Paine', 'Rosa Parks', 'B. B. King', 'Pablo Picasso', 'Helen Keller', 'Sheryl Sandberg', 'Zig Ziglar', 'Byron Katie', 'Eleanor Roosevelt', 'Betty Friedan', 'Melody Beattie', 'William Arthur Ward', 'Muhammad Ali', 'Theodore Roosevelt', 'Jackie Joyner-Kersee', 'Vince Lombardi', 'Horace Greeley', 'Bob Marley', 'Ernest Hemingway', 'Brian Tracy', 'Mary Kay Ash', 'Desmond Tutu', 'Paul Valery', 'Irving Berlin', 'Bono', 'Peter Marshall', 'Elizabeth Gilbert', 'Jim Rohn', 'Ken Keyes Jr.', 'Albert Einstein', 'Elisabeth Kubler-Ross', 'Tony Robbins', 'Stephen Covey', 'John Wooden', 'Erica Jong', 'William James', 'Thomas Szasz', 'John Barrymore', 'Joseph Joubert', 'Susan Sarandon', 'Voltaire', 'Jim Rohn', 'Barbara Johnson', 'John F. Kennedy', 'Lawrence Block', 'Frederick Douglass', 'Lucy Maud Montgomery', 'Albert Camus', 'Mike Singletary', 'John Bingham', 'Honore de Balzac', 'Burton Hill', 'Barbara De Angelis', 'Deepak Chopra', 'Eleanor Roosevelt', 'Vincent Van Gogh', 'Dale Carnegie', 'Mark Twain', 'John Locke', 'Julie Andrews', 'Guy Finley', 'Harper Lee', 'M. Scott Peck', 'Rumi', 'Plato', 'Billy Graham', 'Mary Kay Ash', 'Leo Buscaglia', 'Tony Robbins', 'Alfred Lord Tennyson', 'Margaret Mead', 'Billy Graham', 'Lydia M. Child', 'Ruby Dee', 'Leo Tolstoy', 'Michael Jordan', 'Bill Gates', 'Andrew Carnegie', 'Vern Law', 'Albert Camus', 'Anais Nin', 'Jim Rohn', 'Confucius', 'Warren Buffett', 'Richard Lamm', 'Stephen Covey', 'Louis de Montfort', 'Gloria Steinem', 'Christian Dior', 'Winston Churchill', 'Wayne Dyer', 'James Madison', 'Stephen Hawking', 'Joseph Campbell', 'Heath Ledger', 'Jim Rohn', 'Jim Rohn', 'Alan Cohen', 'Orison Swett Marden', 'Billy Graham', 'Ralph Waldo Emerson', 'John Muir', 'James Allen', 'Leonardo da Vinci', 'Tony Robbins', 'Malcolm Forbes', 'Tim Ferriss', 'Jacqueline Gareau', 'Joseph Addison', 'Benjamin Jowett', 'Jim Rohn', 'Robert Collier', 'Charles Buxton', 'Vernon Howard', 'Peace Pilgrim', 'Vince Lombardi', 'Wilma Rudolph', 'Jim Rohn', 'Haruki Murakami', 'James A. Baldwin', 'James Allen', 'John Green', 'Stephen Hawking', 'Khalil Gibran', 'Jim Rohn', 'Unknown', 'Thomas Huxley', 'Les Brown', 'Bobby Seale', 'John F. Kennedy', 'Andre Gide', 'Kurt Vonnegut', 'Thomas Fuller', 'Theodore Roosevelt', 'Anna Quindlen', 'Wayne Dyer', 'Paul Tournier', 'Bernard Baruch', 'Zig Ziglar', 'Maya Angelou', 'Paulo Coelho', 'Melody Beattie', 'Princess Diana', 'Joseph Campbell', 'Bernard Williams', 'Honore de Balzac', 'Ernest Hemingway', 'Janis Ian', 'Wayne Dyer', 'Ann Landers', 'Goldie Hawn', 'Wayne Dyer', 'Storm Jameson', 'Robin Sharma', 'Ralph Waldo Emerson', 'Abraham Lincoln', 'Ralph Abernathy', 'Robert Frost', 'Norman Vincent Peale', 'Vernon Howard', 'Joe Girard', 'Kurt Vonnegut', 'Shakti Gawain', 'Francis Bacon', 'Jon Bon Jovi', 'Ernest Hemingway', 'Wayne Dyer', 'Tony Robbins', 'Naguib Mahfouz', 'Henry David Thoreau', 'Dale Carnegie', 'Billy Graham', 'Swami Vivekananda', 'James Madison', 'Billy Graham', 'Johnny Depp', 'Alice Walker', 'Ronnie Lott', 'Harvey Fierstein', 'John Ruskin', 'Tyra Banks', 'Unknown', 'Victor Hugo', 'Thomas Jefferson', 'Sam Cawthorn', 'Rumi', 'Anton Chekhov', 'Winston Churchill', 'Helen Keller', 'Kathrine Switzer', 'Dalai Lama', 'Arthur Ashe', 'Billy Graham', 'Les Brown', 'Lady Gaga', 'Uta Hagen', 'John Bunyan', 'Jack LaLanne', 'Edward de Bono', 'Stephen King', 'Norman Vincent Peale', 'Milton Friedman', 'Paulo Coelho', 'Don Herold', 'Wayne Dyer', 'Arthur Rubinstein', 'Johann Wolfgang von Goethe', 'Napoleon Hill', 'Lou Holtz', 'Abraham Lincoln', 'Marcus Aurelius', 'Pope John Paul II', 'Neal A. Maxwell', 'Anne Frank', 'George S. Patton', 'William James', 'Sun Tzu', 'Galileo Galilei', 'Epictetus', 'George S. Patton', 'Thomas Fuller', 'Ray Kroc', 'Arthur Ashe', 'Christina Rossetti', 'Jim Rohn', 'Sylvia Plath', 'James Earl Jones', 'Jim Rohn', 'Mark Twain', 'Og Mandino', 'Malcolm X', 'W. Clement Stone', 'Abraham Lincoln', 'Andy Rooney', 'Rick Warren', 'Thomas Jefferson', 'Tim Allen', 'James L. Jones', 'Saint Augustine', 'Albert Einstein', 'Frederick Douglass', 'Paulo Coelho', 'Che Guevara', 'Marianne Williamson', 'Og Mandino', 'Wayne Dyer', 'Malcolm Forbes', 'Mary Pickford', 'Jim Rohn', 'Sigmund Freud', 'Phil McGraw', 'Helen Keller', 'John Green', 'Robert Fulghum', 'Doris Day', 'Allen Klein', 'Wayne Dyer', 'Wayne Dyer', 'Thomas Paine', 'Ben Stein', 'Richard Bach', 'Ralph Waldo Emerson', 'Jim Rohn', 'H. Jackson Brown, Jr.', 'Epictetus', 'Michael Jordan', 'Mark Twain', 'Gloria Steinem', 'Douglas MacArthur', 'Dale Carnegie', 'Jim Rohn', 'Victor H. Krulak', 'Paramahansa Yogananda', 'Henry Ward Beecher', 'Tony Robbins', 'Abigail Adams', 'J. K. Rowling', 'Vernon Howard', 'Billy Graham', 'Maya Angelou', 'Bill Cosby', 'Fyodor Dostoevsky', 'Kristin Chenoweth', 'Aldous Huxley', 'John Calvin', 'Marsha Petrie Sue', 'Marilyn vos Savant', 'Matsuo Basho', 'Robert Frost', 'Charlie Chaplin', 'Jim Rohn', 'John Piper', 'John Wooden', 'Albert Einstein', 'Samuel Ullman', 'Eleanor Roosevelt', 'John F. Kennedy', 'William James', 'Cary Grant', 'Lewis Grizzard', 'Joel Osteen', 'Erma Bombeck', 'Malcolm X', 'Jim Rohn', 'Kobe Bryant', 'Babe Ruth', 'Vince Lombardi', 'John C. Maxwell', 'Jim Rohn', 'Khalil Gibran', 'Erich Fromm', 'John Lennon', 'Albert Einstein', 'Earl Nightingale', 'Marcus Aurelius', 'Wilson Mizner', 'Pema Chodron', 'J. R. R. Tolkien', 'John F. Kennedy', 'Horace', 'Banksy', 'Jim Rohn', 'Jim Rohn', 'Eleanor Roosevelt', 'Chesty Puller', 'Bruce Lee', 'Jim Rohn', 'Abraham Lincoln', 'Melinda Gates', 'Jim Rohn', 'Johnny Cash', 'Harun Yahya', 'Gilbert K. Chesterton', 'Paulo Coelho', 'Jim Rohn', 'Thomas Jefferson', 'Henrik Ibsen', 'Amelia Earhart', 'Ludwig von Mises', 'Elizabeth Cady Stanton', 'Benjamin Spock', 'Charles Kettering', 'Michael Jordan', 'B.K.S. Iyengar', 'Michael Caine', 'Billy Graham', 'Jim Rohn', 'William Arthur Ward', 'Thomas A. Edison', 'George Mason', 'Michael Chang', 'Thomas Merton', 'Jim Rohn', 'Leo Buscaglia', 'Richard Harding Davis', 'Benjamin Franklin', 'Bob Marley', 'Friedrich Nietzsche', 'Larry Eisenberg', 'Robert A. Heinlein', 'Pablo Picasso', 'Confucius', 'George A. Sheehan', 'William Ellery Channing', 'William Arthur Ward', 'Helen Hayes', 'Robert W. Service', 'Henry Wadsworth Longfellow', 'Bruce Lee', 'Voltaire', 'Lewis Carroll', 'Miles Davis', 'Jim Morrison', 'Mark Twain', 'Malcolm Forbes', 'Eckhart Tolle', 'Albert Einstein', 'Robert E. Cushman, Jr.', 'Flip Wilson', 'Claude Bernard', 'Plato', 'Franklin D. Roosevelt', 'Maya Angelou', 'Vince Lombardi', 'Willie Nelson', 'George Washington Carver', 'Mario', 'Rabindranath Tagore', 'Mother Teresa', 'Jim Rohn', 'Tony Robbins', 'Norman Vincent Peale', 'Franklin D. Roosevelt', 'Winston Churchill', 'Steve Jobs', 'Norman Vincent Peale', 'John Burroughs', 'Albert Einstein', 'Edward R. Murrow', 'Sam Walton', 'R. Buckminster Fuller', 'Loretta Young', 'Marvin Minsky', 'Nancy Lopez', 'Jesse Owens', 'Jane Austen', 'Al Neuharth', 'Lillian Hellman', 'Nhat Hanh', 'Daniel J. Boorstin', 'Judy Garland', 'Og Mandino', 'John Bingham', 'William James', 'Albert Einstein', 'John Dewey', 'Desmond Tutu', 'Rita Mae Brown', 'Margaret Thatcher', 'Eckhart Tolle', 'Ayn Rand', 'Calvin Coolidge', 'Rumi', 'Leo Buscaglia', 'Mark Twain', 'Friedrich Nietzsche', 'Giorgio Armani', 'Aesop', 'Jane Austen', 'Samuel Johnson', 'Elie Wiesel', 'John C. Maxwell', 'Sydney J. Harris', 'Hunter S. Thompson', 'Jim Rohn', 'Ram Dass', 'Plutarch']\n"
     ]
    }
   ],
   "source": [
    "print(authors)"
   ]
  },
  {
   "cell_type": "code",
   "execution_count": 592,
   "id": "8252ab7e",
   "metadata": {},
   "outputs": [
    {
     "name": "stdout",
     "output_type": "stream",
     "text": [
      "['Essence, Deep Thought, Transcendentalism', 'Inspiration, Past, Trying', 'Country, Peace, War', 'Inspirational, Motivational, Death', '4th Of July, Food, Patriotic', 'Inspirational, Success, Basketball', 'Strong, Revenge, Intelligent', 'Inspirational, Teacher, Religious', 'Truth, Honesty, Lying', 'Funny, Reading, Learning', 'Strong, Thoughtful, Compassion', 'Love, Funny, Life', 'Freedom, Men, Democracies Have', 'God, Religious, Atheist', 'Respect, Kindness, Character', 'Inspirational, Motivational, Change', 'Inspirational, Life, Inspiring', 'Love, Inspirational, Life', 'Inspiring, Country, 4th Of July', 'Inspirational, Dream, Hate', 'Love, Inspirational, Life', 'Forgiveness, God, Christian', 'Country, Men, Squares', 'Inspirational, Relationship, Positive', 'Inspirational, Motivational, Positive', 'Love, Friendship, Relationship', 'Faith, God, Christian', 'Art, Freedom, Political Will', 'Inspirational, Life, Faith', 'Inspirational, Life, Meaningful', 'Happiness, Time, Clever', 'Inspirational, Inspiring, Success', 'Love, Inspirational, Life', 'Music, Sound And Music, Musical Life', 'Adversity, Blow, Action', 'Positive, Thinking Of You, Attitude', 'Inspirational, Funny, Life', 'Inspirational, Life, Motivational', 'Inspirational, Memorial Day, Freedom', 'Freedom, Patriotic, Vaccines', 'Philosophy, Ignorance, Democratic Socialism', 'Inspirational, Dance, Education', 'Life, Change, Positive', 'Life, Bullying, Mistake', 'Life, Nature, Children', 'Inspirational, Life, Motivational', 'Marriage, Love You, Long', 'Inspirational, Motivational, Success', 'Love, Inspirational, Life', 'Diversity, Important, Liberty', 'Inspirational, God, Faith', 'Inspirational, Motivational, Inspiring', 'Beauty, Love Yourself, Your Beautiful', 'Business, Stupid, Government', 'Inspirational, Life, Motivational', 'Peace, Military, War', 'Inspirational, Leadership, Confidence', 'Motivational, Military, War', 'Christian, Jesus, Confusing', 'Inspirational, Success, Sports', 'Inspirational, Motivational, Success', 'Inspirational, Life, Clever', 'Inspirational, Death, Failure', 'Inspirational, Life, Motivational', 'Inspiring, Hope, Spring', 'Motivational, Running, People', 'Inspirational, Motivational, Positive', 'Summer, Food, Garden', 'Inspirational, Life, Motivational', 'Inspirational, Life, Thank You', 'Funny, Sports, Jobs', 'Being Strong, Wisdom, Stay Strong', 'Inspirational, Motivational, Positive', 'Motivational, Positive, Moon', 'Time, Pain, Get Well', 'Life, God, Christian', 'President, Needs, Purpose', 'God, Faith, Christian', 'Women, Failure, Successful', 'Inspirational, Morning, Kindness', 'Hiding Place, Ability, Baby Boom', 'Love, Inspirational, Life', 'Inspirational, Change, Philosophy', 'Inspirational, Family, Inspiring', 'Inspirational, Success, Courage', 'Inspirational, Life, Motivational', 'Christian, Vision, Missionary', 'Inspirational, Positive, Regret', 'Love, Inspirational, Life', 'Inspirational, Life, Encouragement', 'Happy Birthday, Baseball, Fun', 'Leadership, Power, Opportunity', 'Inspirational, Life, Positive', 'Inspirational, Encouraging, Patience', 'New Year, Fun, New Beginnings', 'Music, Sports, Hunting', 'Trust, Encouraging, Uplifting', 'Inspirational, Funny, Change', 'Success, God, Mother', 'Inspirational, Motivational, Change', 'Spring, April, Fragrance', 'Inspirational, Faith, Spiritual', 'Inspirational, Motivational, Positive', 'Love, Inspirational, Life', 'Strength, Peace, Gun', 'Inspirational, Happiness, Leadership', 'Motivational, Dream, Determination', 'Freedom, Independent, Science', 'Life, Being Strong, Wisdom', 'Happy, God, New Year', 'Inspiring, Leadership, Teacher', 'Inspirational, Motivational, Fear', 'Inspirational, Success, Business', 'Inspirational, Respect, Idols', 'God, Bridges, Grace', 'Inspirational, Life, Self Esteem', 'Inspirational, Change, Moving On', 'Life, Change, Happiness', 'Inspirational, Life, Motivational', 'Love, Success, Encouraging', 'Government, Gun Control, Second Amendment', 'Inspirational, Life, Motivational', 'Inspirational, Motivational, Moving On', 'Love, Life, Positive', 'Love, Loving Yourself, Stay Positive', 'Inspirational, Life, Motivational', 'Inspirational, Life, Motivational', 'Love, Marriage, Wedding', 'Freedom, Liberty, Libertarian', 'Inspirational, Motivational, Positive', 'Moving On, Growing Up, Memories', 'Art, Philosophy, Crazy', 'Dream, Kings, Children', 'Self Esteem, Helping Others, Numbers', 'Inspirational, Motivational, Sports', 'Inspirational, Happiness, Happy', 'Happiness, Moving On, Letting Go', 'Inspirational, Motivational, Success', 'Inspirational, Blessed, Blessing', 'Inspirational, Life, Country', 'Inspirational, Funny, Life', 'Inspirational, Music, Lonely', 'Men, Self, Soul', 'Inspirational, Success, God', 'Thank You, Military, Marine', 'Trust, God, Confidence', 'Inspirational, Funny, Witty', 'Inspirational, Motivational, Inspiring', 'Motivational, Commitment, Tolerance', 'Inspirational, Life, Motivational', 'Motivational, Perseverance, Work', 'Ignorance, Knowledge, Hunting', 'Inspirational, Motivational, Positive', 'Motivational, Perseverance, Morning', 'Inspirational, Success, Letting Go', 'Military, Army, Warfare', 'Happiness, Being Happy, Peace', 'Inspirational, Change, Positive', 'Strength, Inspiring, Dream', 'Dog, Men, Animal', 'Inspirational, Life, Motivational', 'Inspirational, Motivational, Change', 'Inspirational, Leadership, Wise', 'Friendship, Fake Friends, Memorable', 'Inspirational, Money, Business', 'Love, Marriage, Home', 'Life, Death, Wisdom', 'Change, America, Presidential', 'Basketball, Motivational Sports, Character', 'Inspirational, Inspiring, Christian', 'Inspirational, Education, Moving', 'Inspirational, Children, Growing Up', 'Inspiring, Children, Team', 'Love, Funny, Sarcastic', 'Inspirational, Motivational, Change', 'Inspirational, Relationship, Inspiring', 'Death, Philosophy, Real', 'Funny, Life, Motivational', 'Love, Birthday, Family', 'Life, Friendship, Best Friend', 'Inspirational, Life, Motivational', 'Inspirational, Life, Motivational', 'Teacher, Peace, Children', 'Inspirational, Life, Positive', 'Peace, War, Memorable', 'Inspirational, Life, Motivational', 'Inspirational, Women, Sight', 'Motivational, Success, Encouragement', 'Motivational, Faith, Sports', 'Positive, Inspiring, Success', 'Inspirational, Faith, Hope', 'Love, Inspirational, Motivational', 'Success, Encouraging, Patience', 'Love, Inspirational, Motivational', 'Inspirational, Life, Motivational', 'Love, Inspirational, Life', 'Inspirational, Motivational, Positive', 'Love, Life, Lonely', 'Love, Inspirational, Friendship', 'Inspirational, Change, Inspiring', 'Inspirational, Motivational, Positive', 'Motivational, Happiness, Letting Go', 'Inspirational, Motivational, Positive', 'Encouraging, Basketball, Uplifting', 'Inspirational, Positive, Wisdom', 'Inspirational, Motivational, Positive', 'Love, Wisdom, Inspiration', 'Inspirational, Relationship, Inspiring', 'Education, Perseverance, Giving Up', 'Inspirational, Motivational, Positive', 'Love, Inspirational, Inspiring', 'Inspirational, Dream, Children', 'Inspirational, Music, Spiritual', 'Leadership, Business, Motivation', 'Inspirational, Success, Leadership', 'Love, Life, God', 'Inspirational, Change, Positive', 'Baseball, Motivational Sports, Games', 'Motivational, Graduation, Dream', 'Hate, Real, Winning', 'Inspiring, Beautiful, Hair', 'Business, Light, Politics', 'Inspirational, Motivational, Positive', 'Inspirational, Motivational, Positive', 'Inspiring, Inspiration, Healing', 'Love, Family, Marriage', 'Inspirational, Positive, Faith', 'Inspirational, Life, Change', 'Positive, Fashion, Hair', 'Carpe Diem, Boys, Dead Poets Society', 'Positive, Strength, Success', 'Inspirational, Positive, Meaningful', 'Inspirational, Happy, Wise', 'Happiness, Christmas, Sarcastic', 'Mothers Day, Mom, Mother Daughter', 'Success, Stress, Congratulations', 'Motivational, Positive, Work', 'Nice, Fighting, Cash Flow', 'Inspirational, Life, Motivational', 'Inspirational, Motivational, Positive', 'Inspirational, Motivational, Leadership', 'Music, Dream, Teacher', 'Love, Inspirational, Funny', 'Money, Worry, World', 'Inspirational, Motivational, Positive', 'Memories, Remember, Second Place', 'Inspirational, Motivational, Positive', 'Country, Military, War', 'Motivational, Success, Education', 'Inspirational, Positive, Smile', 'Inspirational, Change, Inspiring', 'Inspirational, Happiness, Happy', 'Inspirational, Positive, Dream', 'Happiness, Success, Being Happy', 'Inspirational, Life, Motivational', 'Good Luck, Lucky, Way', 'Inspirational, Life, Karma', 'Inspirational, Birthday, Happiness', 'Life, Humble, Positivity', 'Love, Inspirational, Life', 'Love, Inspirational, Friendship', 'Softball, Sports, Athlete', 'Inspirational, Motivational, Positive', 'Inspirational, Positive, Happiness', 'Love, Inspirational, Life', 'Inspirational, Motivational, Positive', 'Christian, Travel, Home', 'Inspirational, Motivational, Success', 'Veterans Day, Freedom, Military', 'Inspirational, Life, Inspiring', 'Inspirational, Motivational, Positive', 'Relationship, Night, Just Friends', 'Life, Motivational, Positive', 'Country, New York, Military', 'Inspirational, Inspiring, Perseverance', 'Life, Business, Simple', 'Inspirational, Motivational, Positive', 'Inspirational, Life, Motivational', 'Inspiring, Strong Women, History', 'Inspirational, Happiness, Graduation', 'Motivational, Failure, Inspiration', 'Inspirational, Life, Motivational', 'Motivational, Get Well, Believe', 'Inspirational, Change, Inspiring', 'Business, Government, Political', 'Inspirational, Positive, Happiness', 'Inspirational, Motivational, Success', 'Inspirational, Life, Happiness', 'Inspirational, Life, Motivational', 'Change, Decision, Cybernetics', 'Inspirational, Motivational, Business', 'Inspirational, Life, Motivational', 'Inspirational, Motivational, Success', 'Inspirational, Positive, Happiness', 'Inspirational, Motivational, Positive', 'Motivational, Moving On, Success', 'Inspirational, Strength, Strong', 'Funny, Thanksgiving, Holiday', 'Hate, Lying, Media', 'Fashion, Eyebrows, Icons', 'Inspirational, Life, Positive', 'Leadership, God, Wisdom', 'Happiness, Success, Happy', 'Inspirational, Positive, Success', 'Christmas, Holiday, Giving', 'Inspirational, Motivational, Powerful', 'Courage, War, Patriotic', 'Inspirational, Positive, Courage', 'Positive, Inspiring, Success', 'Inspirational, Friendship, Positive', 'Change, Uplifting, Spiritual', 'Life, Motivational, Inspiring', 'Inspirational, Change, Attitude', 'Inspirational, Sports, Football', 'Life, Happiness, Happy', 'Inspirational, Encouraging, Sports', 'Motivational, Strength, Moving On', 'Positive, Happiness, Being Happy', 'Motivational, Past, Insightful', 'Success, Moving On, Letting Go', 'Break Up, Letting Go, Breakup', 'Inspirational, Wise, Travel', 'Love, Inspirational, Funny', 'Inspirational, Motivational, Success', 'Trust, Encouraging, Hope', 'Spiritual, Jobs, Work', 'Life, Encouraging, Being Strong', 'Inspirational, Motivational, Sports', 'Inspiring, Teacher, Teaching', 'Men, Justice, Overcoming', 'Success, Congratulations, Failure', 'Inspirational, Life, Change', 'Inspirational, Leadership, Encouraging', 'Motivational, Leadership, People', 'Inspirational, Motivational, Success', 'Inspirational, Success, Encouraging', 'Inspirational, Funny, Motivational', 'Inspirational, Life, Inspiring', 'Music, Boys, Poison', 'Football, Motivation, Passion', 'Motivational, Change, Stay Strong', 'Inspirational, Life, 4th Of July', 'Inspirational, Motivational, Positive', 'Life, Positive, Wisdom', 'Motivational, Success, Attitude', 'Inspirational, Leadership, Basketball', 'Inspirational, Motivational, Success', 'Inspirational, Loyalty, Money', 'Inspirational, Life, Motivational', 'Love, Friendship, Forgiveness', 'Courage, Adversity, Ordinary Extraordinary', 'Inspirational, Life, Motivational', 'Determination, Power, Trying', 'Inspirational, Positive, Success', 'Inspirational, Life, Motivational', 'Inspirational, Relationship, Peace', 'Inspirational, Success, Motivational Sports', 'Inspirational, Motivational, Strength', 'Inspirational, Witty, Truth', 'Military, Marine, Winning', 'Love, Positive, Marriage', 'Inspirational, Motivational, Determination', 'Love, Happiness, Smile', 'Inspirational, Motivational, Success', 'Love, Life, Trust', 'Life, Graduation, Wise', 'Inspirational, Being Yourself, Clever', 'Country, War, Mean', 'Determination, Military, War', 'Inspirational, Funny, Motivational', 'Inspirational, Change, Uplifting', 'Funny, Life, Leadership', 'Leadership, Military, Bad Ass', '4th Of July, America, Liberty', 'Inspirational, Life, Positive', 'Military, Marine, Rifles', 'Inspirational, Life, Change', 'Inspirational, Motivational, Inspiring', 'Morning, Business, Work', 'Play, Easy, Feels', 'Inspirational, Motivational, Success', 'Christian, Religious, Prayer', 'Positive, Success, Fall', 'Graduation, Education, Wall', 'Military, Army, Navy', 'Inspirational, Motivational, Success', 'Inspirational, Funny, Life', 'Inspirational, Motivational, Love Is', 'Inspirational, Confidence, Wisdom', 'Inspirational, Life, Positive', 'Inspiring, Courage, Veterans Day', 'Inspirational, Funny, Motivational', 'Love, Inspirational, Motivational', 'Kings, Stars, Hate', 'Inspirational, Motivational, Leadership', 'Inspirational, Life, Motivational', 'Inspirational, Leadership, Insperational', 'Life, Motivational, Change', 'Friendship, Change, Philosophy', 'Funny, Motivational, Positive Thinking', 'Inspirational, Motivational, Education', 'Inspirational, Motivational, Kindness', 'Inspirational, Motivational, Positive', 'Country, Veterans Day, Brother', 'Inspirational, Life, Motivational', 'Inspirational, Life, Success', 'Inspirational, Strong Women, Empowering', 'Trust, Travel, Truth', 'Inspirational, Life, Motivational', 'Inspirational, Friendship, Relationship', 'Inspirational, Wise, Wisdom', 'Letting Go, Spiritual, Courage', 'Motivational, Positive, Gratitude', 'Powerful, Hate, Son', 'Love, Positive, Happiness', 'Inspirational, Life, Positive', 'Inspirational, Life, Friendship', 'Happiness, Happy, Being Happy', 'Wise, Wisdom, Stupid', 'Inspirational, Life, Education', 'Inspirational, Inspiring, Courage', 'Nature, Educational, Humorous', 'Courage, Men, Perfect', 'Inspirational, Motivational, Success', 'Inspirational, Money, Time', 'Happiness, Witty, Money', 'Inspirational, Life, Wisdom', 'Inspirational, Motivational, Positive', 'Strong, Powerful, Past', 'Inspirational, Life, Music', 'Travel, Istanbul, Cities', 'Memorial Day, Courage, Adventure', 'Inspirational, Motivational, Change', 'Inspirational, Attitude, Yoga', 'Inspirational, Motivational, Moving On', 'Inspirational, Life, Believe', 'Faith, God, Christian', 'Change, Positive, Organization', 'Inspirational, Life, Positive', 'Love, Funny, Relationship', 'Love, Life, Strength', 'Inspirational, Life, Positive', 'Running, Long, Joy', 'Motivational, Success, Business', 'Happiness, Success, Happy', 'Inspirational, Life, Motivational', 'Veterans Day, Memorial Day, Courage', 'Life, New Year, Mother', 'Inspirational, Life, Motivational', 'Inspirational, Life, Motivational', 'Inspirational, Life, Inspiring', 'Depression, Spring, Science', 'Inspirational, Wisdom, Witty', 'Inspirational, Life, Motivational', 'Inspiring, Education, Wisdom', 'Time, Top Management, Want', 'Love, Family, Wise', 'Inspirational, Education, Knowledge', 'Complaints, Caliphs, Invites', 'Inspirational, Life, Inspiring', 'Motivational, Spiritual, Work', 'Inspirational, Wisdom, Hands', 'Inspirational, Life, Motivational', 'Justice, Overcoming, Fundamentals', 'Inspirational, Strength, Being Strong', 'Inspirational, Motivational, Dream', 'Inspirational, Positive, Education', 'Inspirational, Motivational, Positive', 'Inspirational, Positive Thinking, Long', 'Motivational, Positive, Faith', 'Truth, Intelligent, Greatness', 'Life, Relationship, Money', 'Marriage, Mother, Children', 'Funny, Mothers Day, Hilarious', 'Inspirational, Motivational, Positive', 'Motivational, Faith, Attitude', 'Love, Happiness, Smile', 'Life, Meaningful, Peace', 'Inspirational, Positive, Cheer', 'Courage, Thinking, People', 'Change, Success, Running', 'Inspirational, Positive, Leadership', 'Love, Friendship, Change', 'Life, Change, Goodbye', 'Inspirational, Decisions You Make, Progress', 'Life, God, Christian', 'Life, Moving On, Wise', 'Inspirational, Positive, Determination', 'Motivational, Education, Freedom', 'Inspirational, Volleyball, Football', 'Inspirational, New Year, Time', 'Forgiveness, Jealousy, Hater', 'Inspirational, Motivational, Change', 'Success, Congratulations, Teaching', 'Men, Rights, Use', 'Inspirational, Life, Change', '4th Of July, Responsibility, Past', 'Inspirational, Positive, Inspiring', 'Motivational, Positive, Death', 'Inspirational, Being Yourself, Real', 'Music, Food, Unrequited Love', 'Love, Family, Marriage', 'Inspirational, Positive, Inspiring', 'Inspirational, Motivational, Strength', 'Love, Funny, Change', 'Positive, Confidence, Buddhist', 'Inspirational, Appreciation, Motivation', 'Children, Greatness, Organization', 'Motivational, Change, Basketball', 'Inspirational, Monday, Work', 'Christian, Spiritual, Religion', 'Inspirational, Spiritual, Growing Up', 'Inspirational, Education, Learning', 'Relationship, Mean, Long', 'Inspirational, Being Yourself, Appreciation', 'Inspirational, Funny, Sad', 'Inspirational, Life, Motivational', 'Motivational, Happiness, Happy', 'Inspirational, Inspiring, Dog', 'Leadership, Character, Care', 'Inspirational, Success, Teacher', 'Love, Life, Positive', 'Life, Friendship, Best Friend', 'Inspirational, Cute, Sad', 'Life, Success, Wisdom', 'Life, Change, Wise', 'Inspirational, Positive, Courage', 'Inspirational, Life, Beautiful', 'Inspirational, Life, Change', 'Dream, Giving, Permission', 'Inspirational, Motivational, Courage', 'Love, Inspirational, Relationship', 'Inspirational, Motivational, Success', 'Love, Inspirational, Family', 'Moving, Tyrants, World Government', 'Inspirational, Motivational, Feminist', 'Success, Baseball, Fear', 'Inspirational, Learning, Ignorance', 'Inspirational, Funny, Life', 'Inspirational, Basketball, Sports', 'Life, Inspiring, Encouraging', 'Inspirational, Life, Positive', 'Inspirational, Motivational, Business', 'Happiness, Summer, Christian', 'Children, Nice, Self Esteem', 'Inspirational, Life, Motivational', 'Inspirational, Motivational, Positive', 'Inspirational, Funny, Life', 'Love, Inspirational, Life', 'Life, Faith, Religious', 'Positive, Success, Determination', 'Motivational, Success, Dream', 'Inspirational, Basketball, Peace', 'Jobs, Women, Princess', 'Inspirational, Change, Positive', 'Cheer Up, Positive Attitude, Garden', \"Motivation, Don't Give Up, Positivity\", 'Education, Learning, Community', 'Change, Sympathy, Native American', 'Inspirational, Motivational, Respect', 'Inspirational, Life, Motivational', 'Inspiring, Success, Life And Love', 'Funny, Gun, Want', 'Veterans Day, Time, Peace', 'Inspirational, Positive, Inspiring', 'Love, Inspirational, Life', 'Inspirational, Life, Success', 'Death, Spiritual, Courage', 'Inspirational, Life, Motivational', 'Inspirational, Motivational, Encouraging', 'Inspiring, Boyfriend, Strong Women', 'Inspirational, Life, Motivational', 'Birthday, Strength, Inspiring', 'Happiness, Thanksgiving, Thank You', 'Inspirational, Inspiring, Leadership', 'Inspirational, Motivational, Sports', 'Inspirational, Life, Motivational', 'Inspirational, Motivational, Success', 'Inspirational, Life, Motivational', 'Wisdom, Character, Wings', 'Funny, Music, Wisdom', 'Life, Happiness, Happy', 'Thankful, Gratitude, Appreciation', 'Inspiring, Success, Failure', 'Bullying, Peace, Elephants', 'Inspirational, Motivational, Positive', 'Life, Veterans Day, Attitude', 'Love, Inspirational, Motivational', 'Love, Motivational, Family', 'Life, Being Yourself, Positivity', 'Inspirational, Motivational, Success', 'Love, Inspirational, Positive', 'Inspirational, Funny, Witty', 'Inspirational, Beauty, Beautiful', 'Success, Tattoo, Business', 'Life, Change, Bad Ass', 'Basketball, Youth Of Today, Nba', 'Funny, Being Strong, Spiritual', 'Inspirational, Life, Motivational', 'Courage, Thinking, Clear', 'Love, Inspirational, Life', 'Love, Kindness, Women', 'Kindness, Power, Imagination', 'Wisdom, Clever, Men', 'Inspirational, Business, Investment', 'Love, Inspirational, Life', 'Inspirational, Success, Helping Others', 'Inspirational, Funny, Travel', 'Life, Freedom, Work', 'Regret, Mistake, Should', 'Understanding, Experience, Minimalist', 'Inspirational, Sports, Football', 'Inspirational, Softball, Sports', 'Inspirational, Motivational, Helping Others', 'Inspirational, Life, Happiness', 'Love, Letting Go, Meaningful', 'Spiritual, Yoga, Positive Thinking', 'Inspirational, Life, Motivational', 'Inspirational, Motivational, Positive', 'Sweet, Grandchildren, Way', 'Life, Cheating, Funny Inspirational', 'Funny, Money, Shoes', 'Inspirational, Positive, Success', 'Inspirational, Single, Letting Go', 'Powerful, Positivity, Sunshine', 'Inspirational, Funny, Motivational', 'Sympathy, Death, True Love', 'Plato, Desire, Three', 'Motivational, Veterans Day, Memorial Day', 'Inspirational, Success, Enthusiasm For Life', 'Love, Death, Positivity', 'Inspirational, Life, Family', 'Dream, Spiritual, Prayer', 'Uplifting, Determination, Work', 'Family, Respect, Children', 'Happiness, Happy, Helping Others', 'Strength, Inspiring, Beauty', 'Life, Birthday, Happiness', 'Inspirational, Motivational, Change', 'Inspirational, Success, Motivation', 'Motivational, Success, Encouragement', 'Inspirational, Sports, Education', 'Suicide, Coffee, Optimistic', 'Inspirational, Life, Motivational', 'Goal, Self Help, Reason', 'Education, Giving Up, Philosophical', 'Money, Business, Dollars', 'Funny, Christmas, Xmas', 'Inspirational, Inspiring, Life Changing', 'Christian, Jesus, Prayer', 'Mother Daughter, Courage, Honesty', 'Love, Fashion, Women', 'Funny, Leadership, Education', 'Motivational, Happiness, People', 'Country, People, Liberty', 'Anger, People, Always Complaining', 'Inspirational, Life, Happiness', 'Believe, Dark, Knights', 'Inspirational, Motivational, Positive', 'Motivational, Failure, House', 'Inspirational, Being Yourself, Truth', 'Hope, Powerful, Get Well Soon', 'Life, Faith, Forgiveness', 'Inspirational, Success, Forgiveness', 'Nature, Heart, Garden', 'Inspirational, Dream, Sleep', 'Inspirational, Education, Teaching', 'Life, Motivational, Spiritual', 'Positive, Success, Gymnastics', 'Inspirational, Positive, Inspiring', 'Motivational, Fitness, Running', 'Inspirational, Life, Friendship', 'Life, Positive, Business', 'Motivational, Change, Greatness', 'Inspirational, Motivational, Success', 'Inspirational, Motivational, Change', 'Life, Happiness, Success', 'Inspirational, Positive, Trust', 'Inspirational, Motivational, Basketball', 'Sports, Running, Winning', 'Inspirational, Life, Change', 'Inspirational, Book, Reading', 'Inspirational, Change, Leadership', 'Strength, Determination, Service Culture', 'Inspirational, Life, Hipster', 'Education, Science, People', 'Inspirational, Life, Dream', 'Inspirational, Missing You, Book', 'Inspirational, Friendship, Lonely', 'Graduation, Witty, Educational', 'Inspirational, Inspiring, Success', 'Fighting, Racism, Brotherhood', 'Inspirational, Leadership, Basketball', 'Inspirational, Motivational, Change', 'Life, Happiness, Wisdom', 'Inspirational, Motivational, Positive', 'Leadership, Differences, People', 'Confidence, Letting Go, Being Yourself', 'Love, Anxiety, Self Improvement', 'Positive, Sports, Confidence', 'Inspirational, Funny, Life', 'Inspirational, Life, Motivational', 'Inspirational, Motivational, Change', 'Inspirational, Life, Happiness', 'Inspirational, Life, Change', 'Women, Book, Heart', 'Life, Inspiring, Veterans Day', 'Inspirational, Positive, Inspiring', 'Love, Inspiring, Positivity', 'Relationship, Inspiring, Trust', 'The End Of The Day, Goes On, Realizing', 'Inspirational, Life, Motivational', 'Inspirational, Life, Motivational', 'Happiness, Smile, Inspiration', 'Inspirational, Leadership, Karma', 'Life, Miracle, Way To Live', 'Life, Positive, Time', 'Inspirational, Life, Fear', 'Inspirational, Positive, Religious', 'Future, Kwanzaa, African American', 'Inspirational, Motivational, Positive', 'Inspirational, Life, Motivational', 'Inspirational, Life, Inspiring', 'Inspirational, Motivational, Inspiring', 'Funny, Running, Country', 'Inspirational, Motivational, Spiritual', 'Wise, Wisdom, Clever', 'Inspiring, Christmas, Dream', 'Positive, Witty, Mistake', 'Life, Karma, People', 'Inspirational, Education, Teacher', 'Inspirational, Leadership, Wise', 'Love, Inspirational, Life', 'Inspirational, Success, Encouraging', 'Christmas, Xmas, Heart', 'Inspirational, Motivational, Spiritual', 'Inspirational, Freedom, Fear', 'Motivational, God, Religious', 'Inspirational, Relationship, Broken Heart', 'Inspirational, Motivational, Positive', 'Graduation, Sports, Football', 'Positive, Prayer, Life Changing', 'Motivational, Believe, Acceptance', 'Confidence, Being Yourself, Self Esteem', 'Bible, God, Education', 'Thanksgiving, Prayer, Wings', 'Strength, Wisdom, Veterans Day', 'Inspirational, Life, Jealousy', 'Anniversary, Marriage, Valentines Day', 'Knowledge, Technology, Practice', 'Inspirational, Hope, Freedom', 'Softball, Faith, Inspiration', 'Faith, Sports, Running', 'Peace, Nature, Inspiration', 'Inspirational, Kindness, Teaching', 'Hope, Wisdom, Godly', 'Giving Up, Powerful, Mean', 'Inspirational, Confidence, Cute Relationship', 'Life, Self Esteem, Women', 'Motivational, Success, Perseverance', 'Inspirational, Motivational, Sports', 'Funny, Wisdom, Humorous', 'Motivational, Success, Encouragement', 'Love, Motivational, Family', 'Government, Liberty, Libertarian', 'Inspirational, Motivational, Positive', 'Learning, Intelligent, Perspective', 'Inspirational, Happiness, Inspiring', 'Life, Happiness, People', 'Happiness, Teaching, Use', 'Inspirational, Perseverance, Determination', 'Motivational, Basketball, Confidence', 'Inspirational, Life, Motivational', 'Love, Inspirational, Life', 'Family, Faith, Inspiration', 'Motivational, Thanksgiving, Gratitude', 'Love, Inspirational, Motivational', 'Motivational, Business, Military', 'Inspirational, Motivational, Positive', 'Art, Crazy, War', 'Inspirational, Attitude, Learning', 'Forgiveness, Spiritual, Wisdom', 'Sympathy, Death, Wisdom', 'Inspirational, Motivational, Determination', 'Inspirational, Motivational, Leadership', 'Life, Motivation, Winning', 'Inspirational, Work, Women', 'Inspirational, Life, Motivational', 'Life, Sad, Writing', 'Love, Life, Heart', 'Inspirational, Success, Basketball', 'Life, Broken Heart, Heartbreak', 'Happiness, Smile, Happy', 'Peace, Freedom, Inspiration', 'Inspirational, Life, Positive', 'Wisdom, Religious, Freedom', 'Inspirational, Funny, Dog', 'Reality, Servant Of God, Careers', 'Inspirational, Motivational, Success', 'Friendship, Teamwork, Mom', 'Military, Marine, Two', 'Inspirational, Patience, Spiritual', 'Love, Inspirational, Life', 'Respect, Fear, Integrity', 'Love, Life, Patience', 'Fall, Revolutionary Leaders, Apples', 'Love, Forgiveness, Peace', 'Wisdom, Adversity, Triumph', 'Motivational, Spiritual, Self Esteem', 'Inspirational, Business, Imagination', 'Inspirational, Life, Motivational', 'Motivational, Success, Education', 'Inspiring, Education, Teacher', 'Determination, Dragons, Hiking', 'Love, Inspirational, Funny', 'Moving On, Break Up, I Miss You', 'Life, Positive, Encouraging', 'Thanksgiving, Thankful, Gratitude', 'Attitude, Positive Thinking, Positivity', 'Inspiration, Miracle, Preparation', 'Life, Motivational, Positive', 'Inspirational, Life, Motivational', 'Inspirational, Success, Determination', 'Education, Wisdom, Teaching', 'Trust, Faith, Spiritual', 'Inspirational, Life, Motivational', 'Love, Inspirational, Forgiveness', 'Inspirational, Change, Inspiring', 'Inspirational, Motivational, Strength', 'Change, Thank You, Memorial Day', 'Inspirational, Life, Motivational', 'Military, Fighting, Marine', 'Inspirational, Motivational, Success', 'Love, Family, Marriage', 'Motivational, Military, Marine', 'Inspirational, Change, Smile', 'Leadership, Wisdom, Distance', 'Inspirational, Funny, Life', 'Inspirational, Education, Perseverance', 'Love, Inspirational, Dark', 'Freedom, Numbers, Being Free', 'Christian, Feet, Sound', 'Inspirational, Strength, Inspiring', 'Family, Fathers Day, Children', 'Love, Life, Suffering', 'Love, Life, Happy', 'Inspirational, Motivational, Positive', 'Inspirational, Spiritual, Nature', 'New Year, New Beginnings, Might', 'Inspirational, Strength, Success', 'Inspirational, Life, Positive', 'Inspirational, Life, Motivational', 'Kindness, Thinking, Wicked World', 'Success, Greatness, Errors', 'Christian, Goal, Church', 'Motivational, Inspiring, Graduation', 'Inspirational, Life, Being Yourself', 'Inspirational, Spiritual, Time', 'Integrity, Heart, Positivity', 'Inspirational, Thank You, Thanksgiving', 'Inspirational, Positive, Success', 'Writing, Self Improvement, Self Help', 'Drinking, Sick, Way', 'Inspirational, Positive, Moving On', 'Family, Mom, Mother', 'Love, Inspirational, Life', 'Learning, Miracle, Process', 'Funny, Basketball, Sports', 'Life, Motivational, Stay Strong', 'Inspirational, Motivational, Positive', 'Change, Positive, Courage', 'Inspirational, Greatness, What Matters', 'Inspirational, Life, Motivational', 'Effort, Greed, Needs', 'Inspirational, Life, Motivational', 'Inspirational, Funny, Leadership', 'Inspirational, Positive, Determination', 'Inspirational, Life, Motivational', 'Inspirational, Success, Graduation', 'Teacher, Inspirational Love, Peace', 'Hope, Optimistic, Fighting', 'Inspirational, Memorial Day, Freedom', 'Inspirational, Life, Positive', 'Art, Creativity, Mind', 'Motivational, Good Life, Greatness', 'Self Esteem, Greatness, Goal', 'Inspirational, Life, Fear', 'War, Military, Marine', 'Inspirational, Life, Karma', 'Inspirational, Life, Fitness Motivational', 'Inspirational, Motivational, Leadership', 'Light, Use, Be Careful', 'Inspirational, Mistake, Learning', 'Twelve, Way, Found', 'Inspirational, Success, Travel', 'Love, Inspirational, Success', 'Encouraging, Courage, Inspiration', 'Inspirational, Motivational, Success', 'Life, Happiness, Work', 'Inspirational, Inspiring, Positivity', 'Inspirational, Life, Success', 'Peace, War, Government', 'Life, Strength, Courage', 'Positive, Family, Trust', 'Inspirational, Motivational, Teacher', 'Inspirational, Life, Motivational', 'Success, Spiritual, Wisdom', 'Inspiring, Encouragement, Bad Day', 'Strength, Christian, Self', 'Life, Motivational, Success', 'Inspirational, Success, Basketball', 'Inspirational, Motivational, Positive', 'Gun, People, Second Amendment', 'Long, Chinese, World', 'Love, Valentines Day, Fate', 'Inspirational, Greatness, Envy', 'Love, Inspiring, Positivity', 'Military, Marine, Hands', 'Practice, Political, Deception', 'Inspirational, Life, Motivational', 'Love, Life, Crush', 'Inspirational, Motivational, Peace', 'Inspirational, Freedom, Responsibility', 'Inspirational, Life, Motivational', 'Inspirational, Positive, Success', 'Motivational, Running, Ideas', 'Inspirational, God, Stay Strong', 'Inspirational, Life, Happiness', 'Sports, Hero, News', 'Anger, Adversity, Climbing', 'Inspirational, Funny, Positive', 'Inspirational, Inspiring, Friends', 'Motivational, Inspiration, Adversity', 'Children, Creativity, Ignorance', 'Life, Music, Beautiful', 'Inspirational, Positive, Freedom', 'Inspirational, Life, Bullying', 'Inspirational, Motivational, Success', 'Inspirational, Inspiring, Beauty', 'Witty, Attitude, Freedom', 'Military, Marine, Men', 'Motivational, Success, Positivity', 'Inspirational, Educational, Learning', 'Plato, War, Government', 'Inspirational, Motivational, Success', 'Inspirational, Life, Second Chance', 'Motivational, Sports, Football', 'Thanksgiving, Thankful, Gratitude', 'Inspirational, Motivational, Badass', 'Funny, Humorous, Character', 'Life, Inspiring, Encouragement', 'Love, Happiness, Smile', 'Moving On, Famous Inspirational, Greatness', 'Motivational, Happiness, Mean', 'Life, Birthday, Inspiring', 'Children, Educational, Future', 'Inspirational, Funny, Life', 'Change, Inspiring, Life Changing', 'Inspirational, Integrity, Yoga', 'Inspirational, Positive, Wisdom', 'Funny, Hilarious, Education', 'Sheep, Government, Political', 'Leadership, Appreciation, Team Building', 'Inspirational, Change, Success', 'Empowerment, Crowds, Empowering Women', 'Education, Learning, Knowledge', 'Fear, Positivity, Doubting Everything', 'Inspirational, Motivational, Sports', 'Happiness, Inspiring, Happy', 'Funny, Attitude, Climbing', 'Confidence, Littles, Matter', 'Motivational, Buddhist, Children', 'Mean, Opportunity, Nerd', 'Love, Funny, Romantic', 'Inspirational, Positive, Stars', 'Running, Years, Tests', 'Inspirational, Motivational, Relationship', 'Peace, Integrity, Patriotic', 'Happiness, Work, Opportunity', 'Inspiring, Forgiveness, New Beginnings', 'Love, Life, Being Yourself', 'Motivational, Success, Work', 'Positive, Wisdom, Philosophical', 'Inspirational, Life, Motivational', 'Life, Leadership, Motivational Sports', 'Spiritual, Sufi, Wherever You Are', 'Love, Confidence, Forgiving', 'Inspirational, Motivational, Change', 'Inspirational, Life, Music', 'Artist, Age, Example', 'Inspirational, Motivational, Wise', 'Inspirational, Funny, Stupid', 'Education, Curiosity, Genius', 'Love, Inspirational, Life', 'Motivational, Inspiring, Leadership', 'Love, Inspirational, Motivational', 'Gun, Two, Qualms About', 'Inspirational, Greatness, Best Effort', 'Spiritual, Truth, Yoga', 'Inspirational, Leadership, Education']\n"
     ]
    }
   ],
   "source": [
    "print(type_of_quotes)"
   ]
  },
  {
   "cell_type": "code",
   "execution_count": 593,
   "id": "6f6a5684",
   "metadata": {},
   "outputs": [
    {
     "name": "stdout",
     "output_type": "stream",
     "text": [
      "1000 1000 1000\n"
     ]
    }
   ],
   "source": [
    "# Checking the lengths of lists\n",
    "print(len(quotes),len(authors),len(type_of_quotes))"
   ]
  },
  {
   "cell_type": "code",
   "execution_count": 594,
   "id": "73668de1",
   "metadata": {
    "scrolled": true
   },
   "outputs": [
    {
     "name": "stdout",
     "output_type": "stream",
     "text": [
      "List of Top 1000 quotes of all time\n"
     ]
    },
    {
     "data": {
      "text/html": [
       "<div>\n",
       "<style scoped>\n",
       "    .dataframe tbody tr th:only-of-type {\n",
       "        vertical-align: middle;\n",
       "    }\n",
       "\n",
       "    .dataframe tbody tr th {\n",
       "        vertical-align: top;\n",
       "    }\n",
       "\n",
       "    .dataframe thead th {\n",
       "        text-align: right;\n",
       "    }\n",
       "</style>\n",
       "<table border=\"1\" class=\"dataframe\">\n",
       "  <thead>\n",
       "    <tr style=\"text-align: right;\">\n",
       "      <th></th>\n",
       "      <th>Quote</th>\n",
       "      <th>Author</th>\n",
       "      <th>Type of Quote</th>\n",
       "    </tr>\n",
       "  </thead>\n",
       "  <tbody>\n",
       "    <tr>\n",
       "      <th>1</th>\n",
       "      <td>The essence of strategy is choosing what not t...</td>\n",
       "      <td>Michael Porter</td>\n",
       "      <td>Essence, Deep Thought, Transcendentalism</td>\n",
       "    </tr>\n",
       "    <tr>\n",
       "      <th>2</th>\n",
       "      <td>One cannot and must not try to erase the past ...</td>\n",
       "      <td>Golda Meir</td>\n",
       "      <td>Inspiration, Past, Trying</td>\n",
       "    </tr>\n",
       "    <tr>\n",
       "      <th>3</th>\n",
       "      <td>Patriotism means to stand by the country. It d...</td>\n",
       "      <td>Theodore Roosevelt</td>\n",
       "      <td>Country, Peace, War</td>\n",
       "    </tr>\n",
       "    <tr>\n",
       "      <th>4</th>\n",
       "      <td>Death is something inevitable. When a man has ...</td>\n",
       "      <td>Nelson Mandela</td>\n",
       "      <td>Inspirational, Motivational, Death</td>\n",
       "    </tr>\n",
       "    <tr>\n",
       "      <th>5</th>\n",
       "      <td>You have to love a nation that celebrates its ...</td>\n",
       "      <td>Erma Bombeck</td>\n",
       "      <td>4th Of July, Food, Patriotic</td>\n",
       "    </tr>\n",
       "    <tr>\n",
       "      <th>...</th>\n",
       "      <td>...</td>\n",
       "      <td>...</td>\n",
       "      <td>...</td>\n",
       "    </tr>\n",
       "    <tr>\n",
       "      <th>996</th>\n",
       "      <td>Regret for the things we did can be tempered b...</td>\n",
       "      <td>Sydney J. Harris</td>\n",
       "      <td>Love, Inspirational, Motivational</td>\n",
       "    </tr>\n",
       "    <tr>\n",
       "      <th>997</th>\n",
       "      <td>America... just a nation of two hundred millio...</td>\n",
       "      <td>Hunter S. Thompson</td>\n",
       "      <td>Gun, Two, Qualms About</td>\n",
       "    </tr>\n",
       "    <tr>\n",
       "      <th>998</th>\n",
       "      <td>For every disciplined effort there is a multip...</td>\n",
       "      <td>Jim Rohn</td>\n",
       "      <td>Inspirational, Greatness, Best Effort</td>\n",
       "    </tr>\n",
       "    <tr>\n",
       "      <th>999</th>\n",
       "      <td>The spiritual journey is individual, highly pe...</td>\n",
       "      <td>Ram Dass</td>\n",
       "      <td>Spiritual, Truth, Yoga</td>\n",
       "    </tr>\n",
       "    <tr>\n",
       "      <th>1000</th>\n",
       "      <td>The mind is not a vessel to be filled but a fi...</td>\n",
       "      <td>Plutarch</td>\n",
       "      <td>Inspirational, Leadership, Education</td>\n",
       "    </tr>\n",
       "  </tbody>\n",
       "</table>\n",
       "<p>1000 rows × 3 columns</p>\n",
       "</div>"
      ],
      "text/plain": [
       "                                                  Quote              Author  \\\n",
       "1     The essence of strategy is choosing what not t...      Michael Porter   \n",
       "2     One cannot and must not try to erase the past ...          Golda Meir   \n",
       "3     Patriotism means to stand by the country. It d...  Theodore Roosevelt   \n",
       "4     Death is something inevitable. When a man has ...      Nelson Mandela   \n",
       "5     You have to love a nation that celebrates its ...        Erma Bombeck   \n",
       "...                                                 ...                 ...   \n",
       "996   Regret for the things we did can be tempered b...    Sydney J. Harris   \n",
       "997   America... just a nation of two hundred millio...  Hunter S. Thompson   \n",
       "998   For every disciplined effort there is a multip...            Jim Rohn   \n",
       "999   The spiritual journey is individual, highly pe...            Ram Dass   \n",
       "1000  The mind is not a vessel to be filled but a fi...            Plutarch   \n",
       "\n",
       "                                 Type of Quote  \n",
       "1     Essence, Deep Thought, Transcendentalism  \n",
       "2                    Inspiration, Past, Trying  \n",
       "3                          Country, Peace, War  \n",
       "4           Inspirational, Motivational, Death  \n",
       "5                 4th Of July, Food, Patriotic  \n",
       "...                                        ...  \n",
       "996          Love, Inspirational, Motivational  \n",
       "997                     Gun, Two, Qualms About  \n",
       "998      Inspirational, Greatness, Best Effort  \n",
       "999                     Spiritual, Truth, Yoga  \n",
       "1000      Inspirational, Leadership, Education  \n",
       "\n",
       "[1000 rows x 3 columns]"
      ]
     },
     "execution_count": 594,
     "metadata": {},
     "output_type": "execute_result"
    }
   ],
   "source": [
    "# Creating dataframe\n",
    "df=pd.DataFrame({'Quote':quotes,'Author':authors,'Type of Quote':type_of_quotes},index=range(1,1001))\n",
    "\n",
    "# Displaying dataframe\n",
    "print(\"List of Top 1000 quotes of all time\")\n",
    "df"
   ]
  },
  {
   "cell_type": "markdown",
   "id": "d9dea3ea",
   "metadata": {},
   "source": [
    "9. Python program to display list of respected former Prime Ministers of India from https://www.jagranjosh.com/ with following details\n",
    "    \n",
    "    a) Name\n",
    "   \n",
    "    b) Born-Dead\n",
    "   \n",
    "    c) Term of office\n",
    "   \n",
    "    d) Remarks "
   ]
  },
  {
   "cell_type": "code",
   "execution_count": 362,
   "id": "89075ac4",
   "metadata": {},
   "outputs": [
    {
     "data": {
      "text/plain": [
       "<Response [200]>"
      ]
     },
     "execution_count": 362,
     "metadata": {},
     "output_type": "execute_result"
    }
   ],
   "source": [
    "# Sending a request to a website for scraping data\n",
    "page=requests.get(\"https://www.jagranjosh.com/\")\n",
    "page"
   ]
  },
  {
   "cell_type": "code",
   "execution_count": 363,
   "id": "961e8e82",
   "metadata": {},
   "outputs": [],
   "source": [
    "# Creating WebDriver instance for controlling the Chrome browser using Selenium\n",
    "driver=webdriver.Chrome(r\"chromedriver.exe\")"
   ]
  },
  {
   "cell_type": "code",
   "execution_count": 364,
   "id": "0ea715dc",
   "metadata": {},
   "outputs": [],
   "source": [
    "# Opening webpage in the browser window controlled by the WebDriver instance\n",
    "driver.get(\"https://www.jagranjosh.com/\")"
   ]
  },
  {
   "cell_type": "code",
   "execution_count": 365,
   "id": "b0f27b7e",
   "metadata": {},
   "outputs": [],
   "source": [
    "# Clicking on the GK option\n",
    "GK=driver.find_element(By.XPATH,\"//a[text()='GK']\")\n",
    "GK.click()"
   ]
  },
  {
   "cell_type": "code",
   "execution_count": 369,
   "id": "c0d66638",
   "metadata": {},
   "outputs": [],
   "source": [
    "# Clicking on the List of all Prime Ministers of India option\n",
    "list_of_PMs=driver.find_element(By.XPATH,\"//a[text()='List of all Prime Ministers of India']\")\n",
    "list_of_PMs.click()"
   ]
  },
  {
   "cell_type": "code",
   "execution_count": 370,
   "id": "9b4b617f",
   "metadata": {
    "scrolled": true
   },
   "outputs": [],
   "source": [
    "# Fetching data from Prime Ministers table\n",
    "table=driver.find_element(By.XPATH,\"//div[@class='table-box']\") \n",
    "rows=table.find_elements(By.TAG_NAME,\"tr\")"
   ]
  },
  {
   "cell_type": "code",
   "execution_count": 372,
   "id": "7fc29b06",
   "metadata": {
    "scrolled": true
   },
   "outputs": [
    {
     "name": "stdout",
     "output_type": "stream",
     "text": [
      "['S.N._Name_Born-Dead_Term of office_Remark', '1._Jawahar Lal Nehru_(1889–1964)_15 August 1947 to 27 May 1964_16 years, 286 days_The first prime minister of India and the longest-serving PM of India, the first to die in office.', '2._Gulzarilal Nanda (Acting)_(1898-1998)_27 May 1964 to 9 June 1964,_13 days_First acting PM of India', \"3._Lal Bahadur Shastri_(1904–1966)_9 June 1964 to 11 January 1966_1 year, 216 days_He has given the slogan of 'Jai Jawan Jai Kisan' during the Indo-Pak war of 1965\", '4. _Gulzari Lal Nanda  (Acting)_(1898-1998)_11 January 1966 to 24 January 1966_13 days_-', '5._Indira Gandhi_(1917–1984)_24 January 1966 to 24 March 1977_11 years, 59 days_First female Prime Minister of India', '6._Morarji Desai_(1896–1995)_24 March 1977 to  28 July 1979 _2 year, 126 days_Oldest to become PM (81 years old) and first to resign from office', '7._Charan Singh_(1902–1987)_28 July 1979 to 14 January 1980_170 days_Only PM who did not face the Parliament', '8._Indira Gandhi_(1917–1984)_14 January 1980 to 31 October 1984_4 years, 291 days_The first lady who served as PM for the second term', '9._Rajiv Gandhi_(1944–1991)_31 October 1984 to 2 December 1989_5 years, 32 days_Youngest to become PM (40 years old)', '10._V. P. Singh_(1931–2008)_2 December 1989 to 10 November 1990_343 days_First PM to step down after a vote of no confidence', '11._Chandra Shekhar_(1927–2007)_10 November 1990 to 21 June 1991_223 days_He belongs to  Samajwadi Janata Party', '12._P. V. Narasimha Rao_(1921–2004)_21 June 1991 to 16 May 1996_4 years, 330 days_First PM from South India', '13._Atal Bihari Vajpayee_(1924- 2018)_16 May 1996 to 1 June 1996_16 days_PM for shortest tenure', '14._H. D. Deve Gowda_(born 1933)_1 June 1996 to 21 April 1997_324 days_He belongs to  Janata Dal', '15._Inder Kumar Gujral_(1919–2012)_21 April 1997 to 19 March 1998 _332 days_------', '16._Atal Bihari Vajpayee_(1924-2018)_19 March 1998 to 22 May 2004 _6 years, 64 days_ The first non-congress PM who completed a full term as PM', '17._Manmohan Singh_(born 1932)_22 May 2004 to 26 May 2014   _10 years, 4 days_ First Sikh PM', '18._Narendra Modi_(born 1950)_26 May 2014 - 2019_4th Prime Minister of India who served two consecutive tenures', '19._Narendra Modi_(born 1950)_30 May 2019- Incumbent_First non-congress PM with two consecutive tenures']\n",
      "20\n"
     ]
    }
   ],
   "source": [
    "# Storing Prime Ministers data in list\n",
    "pms=[]\n",
    "for i in rows:\n",
    "    pms.append(i.text.replace('\\n','_'))\n",
    "print(pms)\n",
    "print(len(pms))"
   ]
  },
  {
   "cell_type": "code",
   "execution_count": 373,
   "id": "b2a3a01b",
   "metadata": {},
   "outputs": [],
   "source": [
    "# Creating lists for storing data of name, born-dead, term of office and remark of all the prime ministers of India\n",
    "name=[]\n",
    "born_dead=[]\n",
    "term_of_office=[]\n",
    "remark=[]"
   ]
  },
  {
   "cell_type": "code",
   "execution_count": 374,
   "id": "e6e41475",
   "metadata": {
    "scrolled": true
   },
   "outputs": [
    {
     "name": "stdout",
     "output_type": "stream",
     "text": [
      "['Jawahar Lal Nehru', 'Gulzarilal Nanda (Acting)', 'Lal Bahadur Shastri', 'Gulzari Lal Nanda  (Acting)', 'Indira Gandhi', 'Morarji Desai', 'Charan Singh', 'Indira Gandhi', 'Rajiv Gandhi', 'V. P. Singh', 'Chandra Shekhar', 'P. V. Narasimha Rao', 'Atal Bihari Vajpayee', 'H. D. Deve Gowda', 'Inder Kumar Gujral', 'Atal Bihari Vajpayee', 'Manmohan Singh', 'Narendra Modi', 'Narendra Modi']\n"
     ]
    }
   ],
   "source": [
    "# Storing Prime Ministers names in list\n",
    "for i in range(0,20):\n",
    "    name.append(pms[i].split('_')[1])\n",
    "print(name[1:])"
   ]
  },
  {
   "cell_type": "code",
   "execution_count": 375,
   "id": "05f8b173",
   "metadata": {
    "scrolled": true
   },
   "outputs": [
    {
     "name": "stdout",
     "output_type": "stream",
     "text": [
      "['(1889–1964)', '(1898-1998)', '(1904–1966)', '(1898-1998)', '(1917–1984)', '(1896–1995)', '(1902–1987)', '(1917–1984)', '(1944–1991)', '(1931–2008)', '(1927–2007)', '(1921–2004)', '(1924- 2018)', '(born 1933)', '(1919–2012)', '(1924-2018)', '(born 1932)', '(born 1950)', '(born 1950)']\n"
     ]
    }
   ],
   "source": [
    "# Storing Prime Ministers born-dead details in list\n",
    "for i in range(0,20):\n",
    "    born_dead.append(pms[i].split('_')[2])\n",
    "print(born_dead[1:])"
   ]
  },
  {
   "cell_type": "code",
   "execution_count": 376,
   "id": "b5c61b30",
   "metadata": {},
   "outputs": [
    {
     "name": "stdout",
     "output_type": "stream",
     "text": [
      "['15 August 1947 to 27 May 1964, 16 years, 286 days', '27 May 1964 to 9 June 1964,, 13 days', '9 June 1964 to 11 January 1966, 1 year, 216 days', '11 January 1966 to 24 January 1966, 13 days', '24 January 1966 to 24 March 1977, 11 years, 59 days', '24 March 1977 to  28 July 1979 , 2 year, 126 days', '28 July 1979 to 14 January 1980, 170 days', '14 January 1980 to 31 October 1984, 4 years, 291 days', '31 October 1984 to 2 December 1989, 5 years, 32 days', '2 December 1989 to 10 November 1990, 343 days', '10 November 1990 to 21 June 1991, 223 days', '21 June 1991 to 16 May 1996, 4 years, 330 days', '16 May 1996 to 1 June 1996, 16 days', '1 June 1996 to 21 April 1997, 324 days', '21 April 1997 to 19 March 1998 , 332 days', '19 March 1998 to 22 May 2004 , 6 years, 64 days', '22 May 2004 to 26 May 2014   , 10 years, 4 days', '26 May 2014 - 2019', '30 May 2019- Incumbent']\n"
     ]
    }
   ],
   "source": [
    "# Storing Prime Ministers term of office details in list\n",
    "for i in range(0,20):\n",
    "    if i<18:\n",
    "        term_of_office.append(pms[i].split('_')[3]+', '+pms[i].split('_')[4])\n",
    "    else:\n",
    "        term_of_office.append(pms[i].split('_')[3])\n",
    "print(term_of_office[1:])"
   ]
  },
  {
   "cell_type": "code",
   "execution_count": 377,
   "id": "01ed8da6",
   "metadata": {},
   "outputs": [
    {
     "data": {
      "text/plain": [
       "['The first prime minister of India and the longest-serving PM of India, the first to die in office.',\n",
       " 'First acting PM of India',\n",
       " \"He has given the slogan of 'Jai Jawan Jai Kisan' during the Indo-Pak war of 1965\",\n",
       " '-',\n",
       " 'First female Prime Minister of India',\n",
       " 'Oldest to become PM (81 years old) and first to resign from office',\n",
       " 'Only PM who did not face the Parliament',\n",
       " 'The first lady who served as PM for the second term',\n",
       " 'Youngest to become PM (40 years old)',\n",
       " 'First PM to step down after a vote of no confidence',\n",
       " 'He belongs to  Samajwadi Janata Party',\n",
       " 'First PM from South India',\n",
       " 'PM for shortest tenure',\n",
       " 'He belongs to  Janata Dal',\n",
       " '------',\n",
       " ' The first non-congress PM who completed a full term as PM',\n",
       " ' First Sikh PM',\n",
       " '4th Prime Minister of India who served two consecutive tenures',\n",
       " 'First non-congress PM with two consecutive tenures']"
      ]
     },
     "execution_count": 377,
     "metadata": {},
     "output_type": "execute_result"
    }
   ],
   "source": [
    "# Storing Prime Ministers remark details in list\n",
    "for i in range(1,20):\n",
    "    if i<18:\n",
    "        remark.append(pms[i].split('_')[5])\n",
    "    else:\n",
    "        remark.append(pms[i].split('_')[4])\n",
    "remark"
   ]
  },
  {
   "cell_type": "code",
   "execution_count": 378,
   "id": "b440e500",
   "metadata": {},
   "outputs": [
    {
     "name": "stdout",
     "output_type": "stream",
     "text": [
      "19 19 19 19\n"
     ]
    }
   ],
   "source": [
    "# Ckeking the lengths of lists\n",
    "print(len(name[1:]),len(born_dead[1:]),len(term_of_office[1:]),len(remark))"
   ]
  },
  {
   "cell_type": "code",
   "execution_count": 379,
   "id": "abac9d5e",
   "metadata": {},
   "outputs": [
    {
     "data": {
      "text/html": [
       "<div>\n",
       "<style scoped>\n",
       "    .dataframe tbody tr th:only-of-type {\n",
       "        vertical-align: middle;\n",
       "    }\n",
       "\n",
       "    .dataframe tbody tr th {\n",
       "        vertical-align: top;\n",
       "    }\n",
       "\n",
       "    .dataframe thead th {\n",
       "        text-align: right;\n",
       "    }\n",
       "</style>\n",
       "<table border=\"1\" class=\"dataframe\">\n",
       "  <thead>\n",
       "    <tr style=\"text-align: right;\">\n",
       "      <th></th>\n",
       "      <th>Name</th>\n",
       "      <th>Born-Dead</th>\n",
       "      <th>Term of Office</th>\n",
       "      <th>Remark</th>\n",
       "    </tr>\n",
       "  </thead>\n",
       "  <tbody>\n",
       "    <tr>\n",
       "      <th>1</th>\n",
       "      <td>Jawahar Lal Nehru</td>\n",
       "      <td>(1889–1964)</td>\n",
       "      <td>15 August 1947 to 27 May 1964, 16 years, 286 days</td>\n",
       "      <td>The first prime minister of India and the long...</td>\n",
       "    </tr>\n",
       "    <tr>\n",
       "      <th>2</th>\n",
       "      <td>Gulzarilal Nanda (Acting)</td>\n",
       "      <td>(1898-1998)</td>\n",
       "      <td>27 May 1964 to 9 June 1964,, 13 days</td>\n",
       "      <td>First acting PM of India</td>\n",
       "    </tr>\n",
       "    <tr>\n",
       "      <th>3</th>\n",
       "      <td>Lal Bahadur Shastri</td>\n",
       "      <td>(1904–1966)</td>\n",
       "      <td>9 June 1964 to 11 January 1966, 1 year, 216 days</td>\n",
       "      <td>He has given the slogan of 'Jai Jawan Jai Kisa...</td>\n",
       "    </tr>\n",
       "    <tr>\n",
       "      <th>4</th>\n",
       "      <td>Gulzari Lal Nanda  (Acting)</td>\n",
       "      <td>(1898-1998)</td>\n",
       "      <td>11 January 1966 to 24 January 1966, 13 days</td>\n",
       "      <td>-</td>\n",
       "    </tr>\n",
       "    <tr>\n",
       "      <th>5</th>\n",
       "      <td>Indira Gandhi</td>\n",
       "      <td>(1917–1984)</td>\n",
       "      <td>24 January 1966 to 24 March 1977, 11 years, 59...</td>\n",
       "      <td>First female Prime Minister of India</td>\n",
       "    </tr>\n",
       "    <tr>\n",
       "      <th>6</th>\n",
       "      <td>Morarji Desai</td>\n",
       "      <td>(1896–1995)</td>\n",
       "      <td>24 March 1977 to  28 July 1979 , 2 year, 126 days</td>\n",
       "      <td>Oldest to become PM (81 years old) and first t...</td>\n",
       "    </tr>\n",
       "    <tr>\n",
       "      <th>7</th>\n",
       "      <td>Charan Singh</td>\n",
       "      <td>(1902–1987)</td>\n",
       "      <td>28 July 1979 to 14 January 1980, 170 days</td>\n",
       "      <td>Only PM who did not face the Parliament</td>\n",
       "    </tr>\n",
       "    <tr>\n",
       "      <th>8</th>\n",
       "      <td>Indira Gandhi</td>\n",
       "      <td>(1917–1984)</td>\n",
       "      <td>14 January 1980 to 31 October 1984, 4 years, 2...</td>\n",
       "      <td>The first lady who served as PM for the second...</td>\n",
       "    </tr>\n",
       "    <tr>\n",
       "      <th>9</th>\n",
       "      <td>Rajiv Gandhi</td>\n",
       "      <td>(1944–1991)</td>\n",
       "      <td>31 October 1984 to 2 December 1989, 5 years, 3...</td>\n",
       "      <td>Youngest to become PM (40 years old)</td>\n",
       "    </tr>\n",
       "    <tr>\n",
       "      <th>10</th>\n",
       "      <td>V. P. Singh</td>\n",
       "      <td>(1931–2008)</td>\n",
       "      <td>2 December 1989 to 10 November 1990, 343 days</td>\n",
       "      <td>First PM to step down after a vote of no confi...</td>\n",
       "    </tr>\n",
       "    <tr>\n",
       "      <th>11</th>\n",
       "      <td>Chandra Shekhar</td>\n",
       "      <td>(1927–2007)</td>\n",
       "      <td>10 November 1990 to 21 June 1991, 223 days</td>\n",
       "      <td>He belongs to  Samajwadi Janata Party</td>\n",
       "    </tr>\n",
       "    <tr>\n",
       "      <th>12</th>\n",
       "      <td>P. V. Narasimha Rao</td>\n",
       "      <td>(1921–2004)</td>\n",
       "      <td>21 June 1991 to 16 May 1996, 4 years, 330 days</td>\n",
       "      <td>First PM from South India</td>\n",
       "    </tr>\n",
       "    <tr>\n",
       "      <th>13</th>\n",
       "      <td>Atal Bihari Vajpayee</td>\n",
       "      <td>(1924- 2018)</td>\n",
       "      <td>16 May 1996 to 1 June 1996, 16 days</td>\n",
       "      <td>PM for shortest tenure</td>\n",
       "    </tr>\n",
       "    <tr>\n",
       "      <th>14</th>\n",
       "      <td>H. D. Deve Gowda</td>\n",
       "      <td>(born 1933)</td>\n",
       "      <td>1 June 1996 to 21 April 1997, 324 days</td>\n",
       "      <td>He belongs to  Janata Dal</td>\n",
       "    </tr>\n",
       "    <tr>\n",
       "      <th>15</th>\n",
       "      <td>Inder Kumar Gujral</td>\n",
       "      <td>(1919–2012)</td>\n",
       "      <td>21 April 1997 to 19 March 1998 , 332 days</td>\n",
       "      <td>------</td>\n",
       "    </tr>\n",
       "    <tr>\n",
       "      <th>16</th>\n",
       "      <td>Atal Bihari Vajpayee</td>\n",
       "      <td>(1924-2018)</td>\n",
       "      <td>19 March 1998 to 22 May 2004 , 6 years, 64 days</td>\n",
       "      <td>The first non-congress PM who completed a ful...</td>\n",
       "    </tr>\n",
       "    <tr>\n",
       "      <th>17</th>\n",
       "      <td>Manmohan Singh</td>\n",
       "      <td>(born 1932)</td>\n",
       "      <td>22 May 2004 to 26 May 2014   , 10 years, 4 days</td>\n",
       "      <td>First Sikh PM</td>\n",
       "    </tr>\n",
       "    <tr>\n",
       "      <th>18</th>\n",
       "      <td>Narendra Modi</td>\n",
       "      <td>(born 1950)</td>\n",
       "      <td>26 May 2014 - 2019</td>\n",
       "      <td>4th Prime Minister of India who served two con...</td>\n",
       "    </tr>\n",
       "    <tr>\n",
       "      <th>19</th>\n",
       "      <td>Narendra Modi</td>\n",
       "      <td>(born 1950)</td>\n",
       "      <td>30 May 2019- Incumbent</td>\n",
       "      <td>First non-congress PM with two consecutive ten...</td>\n",
       "    </tr>\n",
       "  </tbody>\n",
       "</table>\n",
       "</div>"
      ],
      "text/plain": [
       "                           Name     Born-Dead  \\\n",
       "1             Jawahar Lal Nehru   (1889–1964)   \n",
       "2     Gulzarilal Nanda (Acting)   (1898-1998)   \n",
       "3           Lal Bahadur Shastri   (1904–1966)   \n",
       "4   Gulzari Lal Nanda  (Acting)   (1898-1998)   \n",
       "5                 Indira Gandhi   (1917–1984)   \n",
       "6                 Morarji Desai   (1896–1995)   \n",
       "7                  Charan Singh   (1902–1987)   \n",
       "8                 Indira Gandhi   (1917–1984)   \n",
       "9                  Rajiv Gandhi   (1944–1991)   \n",
       "10                  V. P. Singh   (1931–2008)   \n",
       "11              Chandra Shekhar   (1927–2007)   \n",
       "12          P. V. Narasimha Rao   (1921–2004)   \n",
       "13         Atal Bihari Vajpayee  (1924- 2018)   \n",
       "14             H. D. Deve Gowda   (born 1933)   \n",
       "15           Inder Kumar Gujral   (1919–2012)   \n",
       "16         Atal Bihari Vajpayee   (1924-2018)   \n",
       "17               Manmohan Singh   (born 1932)   \n",
       "18                Narendra Modi   (born 1950)   \n",
       "19                Narendra Modi   (born 1950)   \n",
       "\n",
       "                                       Term of Office  \\\n",
       "1   15 August 1947 to 27 May 1964, 16 years, 286 days   \n",
       "2                27 May 1964 to 9 June 1964,, 13 days   \n",
       "3    9 June 1964 to 11 January 1966, 1 year, 216 days   \n",
       "4         11 January 1966 to 24 January 1966, 13 days   \n",
       "5   24 January 1966 to 24 March 1977, 11 years, 59...   \n",
       "6   24 March 1977 to  28 July 1979 , 2 year, 126 days   \n",
       "7           28 July 1979 to 14 January 1980, 170 days   \n",
       "8   14 January 1980 to 31 October 1984, 4 years, 2...   \n",
       "9   31 October 1984 to 2 December 1989, 5 years, 3...   \n",
       "10      2 December 1989 to 10 November 1990, 343 days   \n",
       "11         10 November 1990 to 21 June 1991, 223 days   \n",
       "12     21 June 1991 to 16 May 1996, 4 years, 330 days   \n",
       "13                16 May 1996 to 1 June 1996, 16 days   \n",
       "14             1 June 1996 to 21 April 1997, 324 days   \n",
       "15          21 April 1997 to 19 March 1998 , 332 days   \n",
       "16    19 March 1998 to 22 May 2004 , 6 years, 64 days   \n",
       "17    22 May 2004 to 26 May 2014   , 10 years, 4 days   \n",
       "18                                 26 May 2014 - 2019   \n",
       "19                             30 May 2019- Incumbent   \n",
       "\n",
       "                                               Remark  \n",
       "1   The first prime minister of India and the long...  \n",
       "2                            First acting PM of India  \n",
       "3   He has given the slogan of 'Jai Jawan Jai Kisa...  \n",
       "4                                                   -  \n",
       "5                First female Prime Minister of India  \n",
       "6   Oldest to become PM (81 years old) and first t...  \n",
       "7             Only PM who did not face the Parliament  \n",
       "8   The first lady who served as PM for the second...  \n",
       "9                Youngest to become PM (40 years old)  \n",
       "10  First PM to step down after a vote of no confi...  \n",
       "11              He belongs to  Samajwadi Janata Party  \n",
       "12                          First PM from South India  \n",
       "13                             PM for shortest tenure  \n",
       "14                          He belongs to  Janata Dal  \n",
       "15                                             ------  \n",
       "16   The first non-congress PM who completed a ful...  \n",
       "17                                      First Sikh PM  \n",
       "18  4th Prime Minister of India who served two con...  \n",
       "19  First non-congress PM with two consecutive ten...  "
      ]
     },
     "execution_count": 379,
     "metadata": {},
     "output_type": "execute_result"
    }
   ],
   "source": [
    "# Creating dataframe\n",
    "df=pd.DataFrame({'Name':name[1:],'Born-Dead':born_dead[1:],'Term of Office':term_of_office[1:],'Remark':remark},index=range(1,20))\n",
    "\n",
    "# Displaying dataframe\n",
    "print(\"List of all Prime Ministers of India\")\n",
    "df"
   ]
  },
  {
   "cell_type": "markdown",
   "id": "87ed8c17",
   "metadata": {},
   "source": [
    "10. Python program to display list of 50 Most expensive cars in the world from https://www.motor1.com/\n",
    "    with follwing details - \n",
    "    \n",
    "     a) Car name \n",
    "    \n",
    "     b) Price"
   ]
  },
  {
   "cell_type": "code",
   "execution_count": 595,
   "id": "1e7c274e",
   "metadata": {},
   "outputs": [
    {
     "data": {
      "text/plain": [
       "<Response [200]>"
      ]
     },
     "execution_count": 595,
     "metadata": {},
     "output_type": "execute_result"
    }
   ],
   "source": [
    "# Sending a request to a website for scraping data\n",
    "page=requests.get(\"https://www.motor1.com/\")\n",
    "page"
   ]
  },
  {
   "cell_type": "code",
   "execution_count": 596,
   "id": "333c6176",
   "metadata": {},
   "outputs": [],
   "source": [
    "# Creating WebDriver instance for controlling the Chrome browser using Selenium\n",
    "driver=webdriver.Chrome(r\"chromedriver.exe\")"
   ]
  },
  {
   "cell_type": "code",
   "execution_count": 597,
   "id": "8c2f5ecb",
   "metadata": {},
   "outputs": [],
   "source": [
    "# Opening webpage in the browser window controlled by the WebDriver instance\n",
    "driver.get(\"https://www.motor1.com/\")"
   ]
  },
  {
   "cell_type": "code",
   "execution_count": 598,
   "id": "cd222686",
   "metadata": {},
   "outputs": [],
   "source": [
    "# Clicking the search bar option for entering details\n",
    "search=driver.find_element(By.ID,\"search_input\")\n",
    "search.click()\n",
    "\n",
    "# Submitting entered details\n",
    "search.send_keys(\"50 most expensive cars\")\n",
    "search.submit()"
   ]
  },
  {
   "cell_type": "code",
   "execution_count": 599,
   "id": "1b96801c",
   "metadata": {
    "scrolled": true
   },
   "outputs": [],
   "source": [
    "# Clicking on top 5O cars option\n",
    "top_50_cars=driver.find_element(By.XPATH,\"//a[text()='50 Most Expensive Cars In The World']\")\n",
    "top_50_cars.click()"
   ]
  },
  {
   "cell_type": "code",
   "execution_count": 600,
   "id": "7c723dc3",
   "metadata": {},
   "outputs": [],
   "source": [
    "# Creating lists for storing data of name and price of top 50 cars in the world\n",
    "car=[]\n",
    "price=[]"
   ]
  },
  {
   "cell_type": "code",
   "execution_count": 601,
   "id": "249bd5cf",
   "metadata": {},
   "outputs": [
    {
     "data": {
      "text/plain": [
       "['Drako GTE   ',\n",
       " 'DeTomaso P72  ',\n",
       " 'Ferrari LaFerrari   ',\n",
       " 'Pagani Huayra   ',\n",
       " 'Czinger 21C   ',\n",
       " 'Ferrari Monza   ',\n",
       " 'Gordon Murray T.33   ',\n",
       " 'Koenigsegg Gemera   ',\n",
       " 'McLaren Elva   ',\n",
       " 'Zenvo TSR S   ',\n",
       " 'Hennessey Venom F5   ',\n",
       " 'Bentley Bacalar   ',\n",
       " 'Hispano Suiza Carmen Boulogne  ',\n",
       " 'Bentley Mulliner Batur  ',\n",
       " 'Deus Vayanne  ',\n",
       " 'SSC Tuatara   ',\n",
       " 'Lotus Evija   ',\n",
       " 'Aston Martin Vulcan   ',\n",
       " 'Delage D12  ',\n",
       " 'McLaren Speedtail   ',\n",
       " 'Rimac Nevera   ',\n",
       " 'Pagani Utopia  ',\n",
       " 'Pininfarina Battista   ',\n",
       " 'Ferrari FXX K Evo   ',\n",
       " 'Gordon Murray T.50   ',\n",
       " 'Lamborghini Countach   ',\n",
       " 'Mercedes AMG Project One   ',\n",
       " 'Aston Martin Victor   ',\n",
       " 'Hennessey Venom F5 Roadster  ',\n",
       " 'Koenigsegg Jesko   ',\n",
       " 'Aston Martin Valkyrie   ',\n",
       " 'W Motors Lykan Hypersport   ',\n",
       " 'McLaren Solus  ',\n",
       " 'Pagani Huayra Roadster BC   ',\n",
       " 'Bugatti Chiron Pur Sport   ',\n",
       " 'Lamborghini Sian   ',\n",
       " 'Koenigsegg CC850  ',\n",
       " 'Bugatti Chiron Super Sport 300+   ',\n",
       " 'Lamborghini Veneno   ',\n",
       " 'Bugatti Bolide   ',\n",
       " 'Bugatti Mistral  ',\n",
       " 'Pagani Huayra Imola  ',\n",
       " 'Bugatti Divo   ',\n",
       " 'SP Automotive Chaos   ',\n",
       " 'Pagani Codalunga  ',\n",
       " 'Mercedes Maybach Exelero   ',\n",
       " 'Bugatti Centodieci   ',\n",
       " 'Rolls Royce Sweptail   ',\n",
       " 'Bugatti La Voiture Noire   ',\n",
       " 'Rolls Royce Boat Tail   ']"
      ]
     },
     "execution_count": 601,
     "metadata": {},
     "output_type": "execute_result"
    }
   ],
   "source": [
    "# Fetching data of names of top 50 most expensive cars in the world and storing it in list\n",
    "Cars=driver.find_elements(By.XPATH,'//div[@class=\"postBody description e-content\"]//ul//li')\n",
    "for i in Cars:\n",
    "    car.append(i.text.replace(':','-').replace('-',' ').split('$')[0])\n",
    "car"
   ]
  },
  {
   "cell_type": "code",
   "execution_count": 602,
   "id": "626ef12d",
   "metadata": {
    "scrolled": true
   },
   "outputs": [
    {
     "data": {
      "text/plain": [
       "['1.2 Million',\n",
       " '1.3 Million',\n",
       " '1.4 Million',\n",
       " '1.4 Million',\n",
       " '1.7 Million',\n",
       " '1.7 Million',\n",
       " '1.7 Million',\n",
       " '1.7 Million',\n",
       " '1.7 Million',\n",
       " '1.7 Million',\n",
       " '1.8 Million',\n",
       " '1.9 Million',\n",
       " '1.9 Million',\n",
       " '2.0 Million',\n",
       " '2.0 Million',\n",
       " '2.0 Million*',\n",
       " '2.1 Million',\n",
       " '2.3 Million',\n",
       " '2.3 Million',\n",
       " '2.3 Million',\n",
       " '2.4 Million',\n",
       " '2.5 Million',\n",
       " '2.5 Million',\n",
       " '2.6 Million',\n",
       " '2.6 Million',\n",
       " '2.6 Million',\n",
       " '2.7 Million',\n",
       " '3.0 Million',\n",
       " '3.0 Million',\n",
       " '3.0 Million',\n",
       " '3.2 Million',\n",
       " '3.4 Million',\n",
       " '3.5 Million',\n",
       " '3.5 Million',\n",
       " '3.6 Million',\n",
       " '3.6 million',\n",
       " '3.7 Million',\n",
       " '3.9 Million',\n",
       " '4.5 Million',\n",
       " '4.7 Million',\n",
       " '5.0 Million',\n",
       " '5.4 Million',\n",
       " '5.8 Million',\n",
       " '6.4 Million',\n",
       " '7.4 Million',\n",
       " '8.0 Million',\n",
       " '9.0 Million',\n",
       " '12.8 Million',\n",
       " '13.4 Million',\n",
       " '28.0 Million*']"
      ]
     },
     "execution_count": 602,
     "metadata": {},
     "output_type": "execute_result"
    }
   ],
   "source": [
    "# Fetching data of prices of top 50 most expensive cars in the world and storing it in list\n",
    "for i in Cars:\n",
    "    price.append(i.text.replace(':','-').replace('-',' ').split('$')[1])\n",
    "price"
   ]
  },
  {
   "cell_type": "code",
   "execution_count": 603,
   "id": "37f07996",
   "metadata": {},
   "outputs": [
    {
     "name": "stdout",
     "output_type": "stream",
     "text": [
      "50 50\n"
     ]
    }
   ],
   "source": [
    "# Checking the lengths of lists\n",
    "print(len(top_50_Cars),len(top_50_Cars_prices))"
   ]
  },
  {
   "cell_type": "code",
   "execution_count": 604,
   "id": "313f03d0",
   "metadata": {},
   "outputs": [
    {
     "name": "stdout",
     "output_type": "stream",
     "text": [
      "List of top 50 most expensive cars in the world\n"
     ]
    },
    {
     "data": {
      "text/html": [
       "<div>\n",
       "<style scoped>\n",
       "    .dataframe tbody tr th:only-of-type {\n",
       "        vertical-align: middle;\n",
       "    }\n",
       "\n",
       "    .dataframe tbody tr th {\n",
       "        vertical-align: top;\n",
       "    }\n",
       "\n",
       "    .dataframe thead th {\n",
       "        text-align: right;\n",
       "    }\n",
       "</style>\n",
       "<table border=\"1\" class=\"dataframe\">\n",
       "  <thead>\n",
       "    <tr style=\"text-align: right;\">\n",
       "      <th></th>\n",
       "      <th>Car</th>\n",
       "      <th>Price in Dollars</th>\n",
       "    </tr>\n",
       "  </thead>\n",
       "  <tbody>\n",
       "    <tr>\n",
       "      <th>1</th>\n",
       "      <td>Drako GTE</td>\n",
       "      <td>1.2 Million</td>\n",
       "    </tr>\n",
       "    <tr>\n",
       "      <th>2</th>\n",
       "      <td>DeTomaso P72</td>\n",
       "      <td>1.3 Million</td>\n",
       "    </tr>\n",
       "    <tr>\n",
       "      <th>3</th>\n",
       "      <td>Ferrari LaFerrari</td>\n",
       "      <td>1.4 Million</td>\n",
       "    </tr>\n",
       "    <tr>\n",
       "      <th>4</th>\n",
       "      <td>Pagani Huayra</td>\n",
       "      <td>1.4 Million</td>\n",
       "    </tr>\n",
       "    <tr>\n",
       "      <th>5</th>\n",
       "      <td>Czinger 21C</td>\n",
       "      <td>1.7 Million</td>\n",
       "    </tr>\n",
       "    <tr>\n",
       "      <th>6</th>\n",
       "      <td>Ferrari Monza</td>\n",
       "      <td>1.7 Million</td>\n",
       "    </tr>\n",
       "    <tr>\n",
       "      <th>7</th>\n",
       "      <td>Gordon Murray T.33</td>\n",
       "      <td>1.7 Million</td>\n",
       "    </tr>\n",
       "    <tr>\n",
       "      <th>8</th>\n",
       "      <td>Koenigsegg Gemera</td>\n",
       "      <td>1.7 Million</td>\n",
       "    </tr>\n",
       "    <tr>\n",
       "      <th>9</th>\n",
       "      <td>McLaren Elva</td>\n",
       "      <td>1.7 Million</td>\n",
       "    </tr>\n",
       "    <tr>\n",
       "      <th>10</th>\n",
       "      <td>Zenvo TSR S</td>\n",
       "      <td>1.7 Million</td>\n",
       "    </tr>\n",
       "    <tr>\n",
       "      <th>11</th>\n",
       "      <td>Hennessey Venom F5</td>\n",
       "      <td>1.8 Million</td>\n",
       "    </tr>\n",
       "    <tr>\n",
       "      <th>12</th>\n",
       "      <td>Bentley Bacalar</td>\n",
       "      <td>1.9 Million</td>\n",
       "    </tr>\n",
       "    <tr>\n",
       "      <th>13</th>\n",
       "      <td>Hispano Suiza Carmen Boulogne</td>\n",
       "      <td>1.9 Million</td>\n",
       "    </tr>\n",
       "    <tr>\n",
       "      <th>14</th>\n",
       "      <td>Bentley Mulliner Batur</td>\n",
       "      <td>2.0 Million</td>\n",
       "    </tr>\n",
       "    <tr>\n",
       "      <th>15</th>\n",
       "      <td>Deus Vayanne</td>\n",
       "      <td>2.0 Million</td>\n",
       "    </tr>\n",
       "    <tr>\n",
       "      <th>16</th>\n",
       "      <td>SSC Tuatara</td>\n",
       "      <td>2.0 Million*</td>\n",
       "    </tr>\n",
       "    <tr>\n",
       "      <th>17</th>\n",
       "      <td>Lotus Evija</td>\n",
       "      <td>2.1 Million</td>\n",
       "    </tr>\n",
       "    <tr>\n",
       "      <th>18</th>\n",
       "      <td>Aston Martin Vulcan</td>\n",
       "      <td>2.3 Million</td>\n",
       "    </tr>\n",
       "    <tr>\n",
       "      <th>19</th>\n",
       "      <td>Delage D12</td>\n",
       "      <td>2.3 Million</td>\n",
       "    </tr>\n",
       "    <tr>\n",
       "      <th>20</th>\n",
       "      <td>McLaren Speedtail</td>\n",
       "      <td>2.3 Million</td>\n",
       "    </tr>\n",
       "    <tr>\n",
       "      <th>21</th>\n",
       "      <td>Rimac Nevera</td>\n",
       "      <td>2.4 Million</td>\n",
       "    </tr>\n",
       "    <tr>\n",
       "      <th>22</th>\n",
       "      <td>Pagani Utopia</td>\n",
       "      <td>2.5 Million</td>\n",
       "    </tr>\n",
       "    <tr>\n",
       "      <th>23</th>\n",
       "      <td>Pininfarina Battista</td>\n",
       "      <td>2.5 Million</td>\n",
       "    </tr>\n",
       "    <tr>\n",
       "      <th>24</th>\n",
       "      <td>Ferrari FXX K Evo</td>\n",
       "      <td>2.6 Million</td>\n",
       "    </tr>\n",
       "    <tr>\n",
       "      <th>25</th>\n",
       "      <td>Gordon Murray T.50</td>\n",
       "      <td>2.6 Million</td>\n",
       "    </tr>\n",
       "    <tr>\n",
       "      <th>26</th>\n",
       "      <td>Lamborghini Countach</td>\n",
       "      <td>2.6 Million</td>\n",
       "    </tr>\n",
       "    <tr>\n",
       "      <th>27</th>\n",
       "      <td>Mercedes AMG Project One</td>\n",
       "      <td>2.7 Million</td>\n",
       "    </tr>\n",
       "    <tr>\n",
       "      <th>28</th>\n",
       "      <td>Aston Martin Victor</td>\n",
       "      <td>3.0 Million</td>\n",
       "    </tr>\n",
       "    <tr>\n",
       "      <th>29</th>\n",
       "      <td>Hennessey Venom F5 Roadster</td>\n",
       "      <td>3.0 Million</td>\n",
       "    </tr>\n",
       "    <tr>\n",
       "      <th>30</th>\n",
       "      <td>Koenigsegg Jesko</td>\n",
       "      <td>3.0 Million</td>\n",
       "    </tr>\n",
       "    <tr>\n",
       "      <th>31</th>\n",
       "      <td>Aston Martin Valkyrie</td>\n",
       "      <td>3.2 Million</td>\n",
       "    </tr>\n",
       "    <tr>\n",
       "      <th>32</th>\n",
       "      <td>W Motors Lykan Hypersport</td>\n",
       "      <td>3.4 Million</td>\n",
       "    </tr>\n",
       "    <tr>\n",
       "      <th>33</th>\n",
       "      <td>McLaren Solus</td>\n",
       "      <td>3.5 Million</td>\n",
       "    </tr>\n",
       "    <tr>\n",
       "      <th>34</th>\n",
       "      <td>Pagani Huayra Roadster BC</td>\n",
       "      <td>3.5 Million</td>\n",
       "    </tr>\n",
       "    <tr>\n",
       "      <th>35</th>\n",
       "      <td>Bugatti Chiron Pur Sport</td>\n",
       "      <td>3.6 Million</td>\n",
       "    </tr>\n",
       "    <tr>\n",
       "      <th>36</th>\n",
       "      <td>Lamborghini Sian</td>\n",
       "      <td>3.6 million</td>\n",
       "    </tr>\n",
       "    <tr>\n",
       "      <th>37</th>\n",
       "      <td>Koenigsegg CC850</td>\n",
       "      <td>3.7 Million</td>\n",
       "    </tr>\n",
       "    <tr>\n",
       "      <th>38</th>\n",
       "      <td>Bugatti Chiron Super Sport 300+</td>\n",
       "      <td>3.9 Million</td>\n",
       "    </tr>\n",
       "    <tr>\n",
       "      <th>39</th>\n",
       "      <td>Lamborghini Veneno</td>\n",
       "      <td>4.5 Million</td>\n",
       "    </tr>\n",
       "    <tr>\n",
       "      <th>40</th>\n",
       "      <td>Bugatti Bolide</td>\n",
       "      <td>4.7 Million</td>\n",
       "    </tr>\n",
       "    <tr>\n",
       "      <th>41</th>\n",
       "      <td>Bugatti Mistral</td>\n",
       "      <td>5.0 Million</td>\n",
       "    </tr>\n",
       "    <tr>\n",
       "      <th>42</th>\n",
       "      <td>Pagani Huayra Imola</td>\n",
       "      <td>5.4 Million</td>\n",
       "    </tr>\n",
       "    <tr>\n",
       "      <th>43</th>\n",
       "      <td>Bugatti Divo</td>\n",
       "      <td>5.8 Million</td>\n",
       "    </tr>\n",
       "    <tr>\n",
       "      <th>44</th>\n",
       "      <td>SP Automotive Chaos</td>\n",
       "      <td>6.4 Million</td>\n",
       "    </tr>\n",
       "    <tr>\n",
       "      <th>45</th>\n",
       "      <td>Pagani Codalunga</td>\n",
       "      <td>7.4 Million</td>\n",
       "    </tr>\n",
       "    <tr>\n",
       "      <th>46</th>\n",
       "      <td>Mercedes Maybach Exelero</td>\n",
       "      <td>8.0 Million</td>\n",
       "    </tr>\n",
       "    <tr>\n",
       "      <th>47</th>\n",
       "      <td>Bugatti Centodieci</td>\n",
       "      <td>9.0 Million</td>\n",
       "    </tr>\n",
       "    <tr>\n",
       "      <th>48</th>\n",
       "      <td>Rolls Royce Sweptail</td>\n",
       "      <td>12.8 Million</td>\n",
       "    </tr>\n",
       "    <tr>\n",
       "      <th>49</th>\n",
       "      <td>Bugatti La Voiture Noire</td>\n",
       "      <td>13.4 Million</td>\n",
       "    </tr>\n",
       "    <tr>\n",
       "      <th>50</th>\n",
       "      <td>Rolls Royce Boat Tail</td>\n",
       "      <td>28.0 Million*</td>\n",
       "    </tr>\n",
       "  </tbody>\n",
       "</table>\n",
       "</div>"
      ],
      "text/plain": [
       "                                   Car Price in Dollars\n",
       "1                         Drako GTE         1.2 Million\n",
       "2                       DeTomaso P72        1.3 Million\n",
       "3                 Ferrari LaFerrari         1.4 Million\n",
       "4                     Pagani Huayra         1.4 Million\n",
       "5                       Czinger 21C         1.7 Million\n",
       "6                     Ferrari Monza         1.7 Million\n",
       "7                Gordon Murray T.33         1.7 Million\n",
       "8                 Koenigsegg Gemera         1.7 Million\n",
       "9                      McLaren Elva         1.7 Million\n",
       "10                      Zenvo TSR S         1.7 Million\n",
       "11               Hennessey Venom F5         1.8 Million\n",
       "12                  Bentley Bacalar         1.9 Million\n",
       "13     Hispano Suiza Carmen Boulogne        1.9 Million\n",
       "14            Bentley Mulliner Batur        2.0 Million\n",
       "15                      Deus Vayanne        2.0 Million\n",
       "16                      SSC Tuatara        2.0 Million*\n",
       "17                      Lotus Evija         2.1 Million\n",
       "18              Aston Martin Vulcan         2.3 Million\n",
       "19                        Delage D12        2.3 Million\n",
       "20                McLaren Speedtail         2.3 Million\n",
       "21                     Rimac Nevera         2.4 Million\n",
       "22                     Pagani Utopia        2.5 Million\n",
       "23             Pininfarina Battista         2.5 Million\n",
       "24                Ferrari FXX K Evo         2.6 Million\n",
       "25               Gordon Murray T.50         2.6 Million\n",
       "26             Lamborghini Countach         2.6 Million\n",
       "27         Mercedes AMG Project One         2.7 Million\n",
       "28              Aston Martin Victor         3.0 Million\n",
       "29       Hennessey Venom F5 Roadster        3.0 Million\n",
       "30                 Koenigsegg Jesko         3.0 Million\n",
       "31            Aston Martin Valkyrie         3.2 Million\n",
       "32        W Motors Lykan Hypersport         3.4 Million\n",
       "33                     McLaren Solus        3.5 Million\n",
       "34        Pagani Huayra Roadster BC         3.5 Million\n",
       "35         Bugatti Chiron Pur Sport         3.6 Million\n",
       "36                 Lamborghini Sian         3.6 million\n",
       "37                  Koenigsegg CC850        3.7 Million\n",
       "38  Bugatti Chiron Super Sport 300+         3.9 Million\n",
       "39               Lamborghini Veneno         4.5 Million\n",
       "40                   Bugatti Bolide         4.7 Million\n",
       "41                   Bugatti Mistral        5.0 Million\n",
       "42               Pagani Huayra Imola        5.4 Million\n",
       "43                     Bugatti Divo         5.8 Million\n",
       "44              SP Automotive Chaos         6.4 Million\n",
       "45                  Pagani Codalunga        7.4 Million\n",
       "46         Mercedes Maybach Exelero         8.0 Million\n",
       "47               Bugatti Centodieci         9.0 Million\n",
       "48             Rolls Royce Sweptail        12.8 Million\n",
       "49         Bugatti La Voiture Noire        13.4 Million\n",
       "50            Rolls Royce Boat Tail       28.0 Million*"
      ]
     },
     "execution_count": 604,
     "metadata": {},
     "output_type": "execute_result"
    }
   ],
   "source": [
    "# Creating dataframe\n",
    "df=pd.DataFrame({'Car':car,'Price in Dollars':price},index=range(1,51))\n",
    "\n",
    "# Displaying dataframe\n",
    "print(\"List of top 50 most expensive cars in the world\")\n",
    "df"
   ]
  }
 ],
 "metadata": {
  "kernelspec": {
   "display_name": "Python 3 (ipykernel)",
   "language": "python",
   "name": "python3"
  },
  "language_info": {
   "codemirror_mode": {
    "name": "ipython",
    "version": 3
   },
   "file_extension": ".py",
   "mimetype": "text/x-python",
   "name": "python",
   "nbconvert_exporter": "python",
   "pygments_lexer": "ipython3",
   "version": "3.9.13"
  }
 },
 "nbformat": 4,
 "nbformat_minor": 5
}
