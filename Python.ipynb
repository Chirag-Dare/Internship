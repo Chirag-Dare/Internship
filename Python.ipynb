{
 "cells": [
  {
   "cell_type": "markdown",
   "id": "6386eb0b",
   "metadata": {},
   "source": [
    "# Heading"
   ]
  },
  {
   "cell_type": "code",
   "execution_count": null,
   "id": "30a9271d",
   "metadata": {},
   "outputs": [],
   "source": [
    "fdfdfdfdfdfdsfjk;lsdfjdsfd"
   ]
  },
  {
   "cell_type": "code",
   "execution_count": null,
   "id": "d8ac2457",
   "metadata": {},
   "outputs": [],
   "source": [
    "dfsdafdfdsfdf"
   ]
  },
  {
   "cell_type": "code",
   "execution_count": null,
   "id": "b0d84120",
   "metadata": {},
   "outputs": [],
   "source": [
    "dfsadfdfdfdsfdfews"
   ]
  },
  {
   "cell_type": "code",
   "execution_count": null,
   "id": "12cd5697",
   "metadata": {},
   "outputs": [],
   "source": [
    "dsfsdafdsfdsfdsfdfdfdsfsdfds"
   ]
  }
 ],
 "metadata": {
  "kernelspec": {
   "display_name": "Python 3 (ipykernel)",
   "language": "python",
   "name": "python3"
  },
  "language_info": {
   "codemirror_mode": {
    "name": "ipython",
    "version": 3
   },
   "file_extension": ".py",
   "mimetype": "text/x-python",
   "name": "python",
   "nbconvert_exporter": "python",
   "pygments_lexer": "ipython3",
   "version": "3.9.13"
  }
 },
 "nbformat": 4,
 "nbformat_minor": 5
}
