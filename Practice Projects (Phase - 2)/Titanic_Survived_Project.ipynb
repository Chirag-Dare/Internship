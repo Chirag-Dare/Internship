{
 "cells": [
  {
   "cell_type": "markdown",
   "id": "f6be1de1",
   "metadata": {},
   "source": [
    "# Titanic Survived Project"
   ]
  },
  {
   "cell_type": "markdown",
   "id": "cf7df4c1",
   "metadata": {},
   "source": [
    "#### Importing Libraries"
   ]
  },
  {
   "cell_type": "code",
   "execution_count": 1,
   "id": "40ea7004",
   "metadata": {},
   "outputs": [],
   "source": [
    "# Numerical computation and data manipulation \n",
    "import numpy as np\n",
    "import pandas as pd\n",
    "\n",
    "# Data visualization\n",
    "import matplotlib.pyplot as plt\n",
    "import seaborn as sns\n",
    "\n",
    "# Data preprocessing\n",
    "from sklearn.preprocessing import LabelEncoder\n",
    "from sklearn.preprocessing import StandardScaler\n",
    "\n",
    "# Z-score normalization and Box-Cox transformation\n",
    "from scipy.stats import zscore, boxcox\n",
    "\n",
    "# Suppress warnings\n",
    "import warnings \n",
    "warnings.filterwarnings('ignore')\n",
    "\n",
    "# SMOTE for class imbalance problem\n",
    "from imblearn.over_sampling import SMOTE\n",
    "\n",
    "# VIF calculation\n",
    "from statsmodels.stats.outliers_influence import variance_inflation_factor\n",
    "\n",
    "# Logistic Regression\n",
    "from sklearn.linear_model import LogisticRegression\n",
    "\n",
    "# K-Nearest Neighbors Classifier\n",
    "from sklearn.neighbors import KNeighborsClassifier\n",
    "\n",
    "# Gausian Naive Bayes Classifier\n",
    "from sklearn.naive_bayes import GaussianNB\n",
    "\n",
    "# Support Vector Classifier\n",
    "from sklearn.svm import SVC\n",
    "\n",
    "# Extra Trees Classifier\n",
    "from sklearn.ensemble import ExtraTreesClassifier\n",
    "\n",
    "# DecisionTreeClassifier\n",
    "from sklearn.tree import DecisionTreeClassifier\n",
    "\n",
    "# Ensemble algorithms\n",
    "from sklearn.ensemble import RandomForestClassifier, GradientBoostingClassifier, ExtraTreesClassifier, AdaBoostClassifier, BaggingClassifier\n",
    "\n",
    "# XGBoost for boosting\n",
    "import xgboost as xgb\n",
    "\n",
    "# Metrics for checking the performance of models\n",
    "from sklearn.metrics import accuracy_score, confusion_matrix, classification_report\n",
    "from sklearn.metrics import auc, roc_curve, RocCurveDisplay\n",
    "\n",
    "# Data splitting and validation\n",
    "from sklearn.model_selection import train_test_split\n",
    "from sklearn.model_selection import cross_val_score, GridSearchCV\n",
    "\n",
    "# Saving and loading models\n",
    "import joblib"
   ]
  },
  {
   "cell_type": "code",
   "execution_count": 2,
   "id": "e1292e64",
   "metadata": {},
   "outputs": [],
   "source": [
    "# Load data from CSV into DataFrame\n",
    "titanic_data = pd.read_csv('Titanic_Dataset.csv')"
   ]
  },
  {
   "cell_type": "code",
   "execution_count": 3,
   "id": "cdfb5bd1",
   "metadata": {},
   "outputs": [
    {
     "data": {
      "text/html": [
       "<div>\n",
       "<style scoped>\n",
       "    .dataframe tbody tr th:only-of-type {\n",
       "        vertical-align: middle;\n",
       "    }\n",
       "\n",
       "    .dataframe tbody tr th {\n",
       "        vertical-align: top;\n",
       "    }\n",
       "\n",
       "    .dataframe thead th {\n",
       "        text-align: right;\n",
       "    }\n",
       "</style>\n",
       "<table border=\"1\" class=\"dataframe\">\n",
       "  <thead>\n",
       "    <tr style=\"text-align: right;\">\n",
       "      <th></th>\n",
       "      <th>PassengerId</th>\n",
       "      <th>Survived</th>\n",
       "      <th>Pclass</th>\n",
       "      <th>Name</th>\n",
       "      <th>Sex</th>\n",
       "      <th>Age</th>\n",
       "      <th>SibSp</th>\n",
       "      <th>Parch</th>\n",
       "      <th>Ticket</th>\n",
       "      <th>Fare</th>\n",
       "      <th>Cabin</th>\n",
       "      <th>Embarked</th>\n",
       "    </tr>\n",
       "  </thead>\n",
       "  <tbody>\n",
       "    <tr>\n",
       "      <th>0</th>\n",
       "      <td>1</td>\n",
       "      <td>0</td>\n",
       "      <td>3</td>\n",
       "      <td>Braund, Mr. Owen Harris</td>\n",
       "      <td>male</td>\n",
       "      <td>22.0</td>\n",
       "      <td>1</td>\n",
       "      <td>0</td>\n",
       "      <td>A/5 21171</td>\n",
       "      <td>7.2500</td>\n",
       "      <td>NaN</td>\n",
       "      <td>S</td>\n",
       "    </tr>\n",
       "    <tr>\n",
       "      <th>1</th>\n",
       "      <td>2</td>\n",
       "      <td>1</td>\n",
       "      <td>1</td>\n",
       "      <td>Cumings, Mrs. John Bradley (Florence Briggs Th...</td>\n",
       "      <td>female</td>\n",
       "      <td>38.0</td>\n",
       "      <td>1</td>\n",
       "      <td>0</td>\n",
       "      <td>PC 17599</td>\n",
       "      <td>71.2833</td>\n",
       "      <td>C85</td>\n",
       "      <td>C</td>\n",
       "    </tr>\n",
       "    <tr>\n",
       "      <th>2</th>\n",
       "      <td>3</td>\n",
       "      <td>1</td>\n",
       "      <td>3</td>\n",
       "      <td>Heikkinen, Miss. Laina</td>\n",
       "      <td>female</td>\n",
       "      <td>26.0</td>\n",
       "      <td>0</td>\n",
       "      <td>0</td>\n",
       "      <td>STON/O2. 3101282</td>\n",
       "      <td>7.9250</td>\n",
       "      <td>NaN</td>\n",
       "      <td>S</td>\n",
       "    </tr>\n",
       "    <tr>\n",
       "      <th>3</th>\n",
       "      <td>4</td>\n",
       "      <td>1</td>\n",
       "      <td>1</td>\n",
       "      <td>Futrelle, Mrs. Jacques Heath (Lily May Peel)</td>\n",
       "      <td>female</td>\n",
       "      <td>35.0</td>\n",
       "      <td>1</td>\n",
       "      <td>0</td>\n",
       "      <td>113803</td>\n",
       "      <td>53.1000</td>\n",
       "      <td>C123</td>\n",
       "      <td>S</td>\n",
       "    </tr>\n",
       "    <tr>\n",
       "      <th>4</th>\n",
       "      <td>5</td>\n",
       "      <td>0</td>\n",
       "      <td>3</td>\n",
       "      <td>Allen, Mr. William Henry</td>\n",
       "      <td>male</td>\n",
       "      <td>35.0</td>\n",
       "      <td>0</td>\n",
       "      <td>0</td>\n",
       "      <td>373450</td>\n",
       "      <td>8.0500</td>\n",
       "      <td>NaN</td>\n",
       "      <td>S</td>\n",
       "    </tr>\n",
       "  </tbody>\n",
       "</table>\n",
       "</div>"
      ],
      "text/plain": [
       "   PassengerId  Survived  Pclass  \\\n",
       "0            1         0       3   \n",
       "1            2         1       1   \n",
       "2            3         1       3   \n",
       "3            4         1       1   \n",
       "4            5         0       3   \n",
       "\n",
       "                                                Name     Sex   Age  SibSp  \\\n",
       "0                            Braund, Mr. Owen Harris    male  22.0      1   \n",
       "1  Cumings, Mrs. John Bradley (Florence Briggs Th...  female  38.0      1   \n",
       "2                             Heikkinen, Miss. Laina  female  26.0      0   \n",
       "3       Futrelle, Mrs. Jacques Heath (Lily May Peel)  female  35.0      1   \n",
       "4                           Allen, Mr. William Henry    male  35.0      0   \n",
       "\n",
       "   Parch            Ticket     Fare Cabin Embarked  \n",
       "0      0         A/5 21171   7.2500   NaN        S  \n",
       "1      0          PC 17599  71.2833   C85        C  \n",
       "2      0  STON/O2. 3101282   7.9250   NaN        S  \n",
       "3      0            113803  53.1000  C123        S  \n",
       "4      0            373450   8.0500   NaN        S  "
      ]
     },
     "execution_count": 3,
     "metadata": {},
     "output_type": "execute_result"
    }
   ],
   "source": [
    "# Display first 5 rows of the dataframe\n",
    "titanic_data.head()"
   ]
  },
  {
   "cell_type": "code",
   "execution_count": 4,
   "id": "75928cff",
   "metadata": {},
   "outputs": [
    {
     "data": {
      "text/html": [
       "<div>\n",
       "<style scoped>\n",
       "    .dataframe tbody tr th:only-of-type {\n",
       "        vertical-align: middle;\n",
       "    }\n",
       "\n",
       "    .dataframe tbody tr th {\n",
       "        vertical-align: top;\n",
       "    }\n",
       "\n",
       "    .dataframe thead th {\n",
       "        text-align: right;\n",
       "    }\n",
       "</style>\n",
       "<table border=\"1\" class=\"dataframe\">\n",
       "  <thead>\n",
       "    <tr style=\"text-align: right;\">\n",
       "      <th></th>\n",
       "      <th>PassengerId</th>\n",
       "      <th>Survived</th>\n",
       "      <th>Pclass</th>\n",
       "      <th>Name</th>\n",
       "      <th>Sex</th>\n",
       "      <th>Age</th>\n",
       "      <th>SibSp</th>\n",
       "      <th>Parch</th>\n",
       "      <th>Ticket</th>\n",
       "      <th>Fare</th>\n",
       "      <th>Cabin</th>\n",
       "      <th>Embarked</th>\n",
       "    </tr>\n",
       "  </thead>\n",
       "  <tbody>\n",
       "    <tr>\n",
       "      <th>886</th>\n",
       "      <td>887</td>\n",
       "      <td>0</td>\n",
       "      <td>2</td>\n",
       "      <td>Montvila, Rev. Juozas</td>\n",
       "      <td>male</td>\n",
       "      <td>27.0</td>\n",
       "      <td>0</td>\n",
       "      <td>0</td>\n",
       "      <td>211536</td>\n",
       "      <td>13.00</td>\n",
       "      <td>NaN</td>\n",
       "      <td>S</td>\n",
       "    </tr>\n",
       "    <tr>\n",
       "      <th>887</th>\n",
       "      <td>888</td>\n",
       "      <td>1</td>\n",
       "      <td>1</td>\n",
       "      <td>Graham, Miss. Margaret Edith</td>\n",
       "      <td>female</td>\n",
       "      <td>19.0</td>\n",
       "      <td>0</td>\n",
       "      <td>0</td>\n",
       "      <td>112053</td>\n",
       "      <td>30.00</td>\n",
       "      <td>B42</td>\n",
       "      <td>S</td>\n",
       "    </tr>\n",
       "    <tr>\n",
       "      <th>888</th>\n",
       "      <td>889</td>\n",
       "      <td>0</td>\n",
       "      <td>3</td>\n",
       "      <td>Johnston, Miss. Catherine Helen \"Carrie\"</td>\n",
       "      <td>female</td>\n",
       "      <td>NaN</td>\n",
       "      <td>1</td>\n",
       "      <td>2</td>\n",
       "      <td>W./C. 6607</td>\n",
       "      <td>23.45</td>\n",
       "      <td>NaN</td>\n",
       "      <td>S</td>\n",
       "    </tr>\n",
       "    <tr>\n",
       "      <th>889</th>\n",
       "      <td>890</td>\n",
       "      <td>1</td>\n",
       "      <td>1</td>\n",
       "      <td>Behr, Mr. Karl Howell</td>\n",
       "      <td>male</td>\n",
       "      <td>26.0</td>\n",
       "      <td>0</td>\n",
       "      <td>0</td>\n",
       "      <td>111369</td>\n",
       "      <td>30.00</td>\n",
       "      <td>C148</td>\n",
       "      <td>C</td>\n",
       "    </tr>\n",
       "    <tr>\n",
       "      <th>890</th>\n",
       "      <td>891</td>\n",
       "      <td>0</td>\n",
       "      <td>3</td>\n",
       "      <td>Dooley, Mr. Patrick</td>\n",
       "      <td>male</td>\n",
       "      <td>32.0</td>\n",
       "      <td>0</td>\n",
       "      <td>0</td>\n",
       "      <td>370376</td>\n",
       "      <td>7.75</td>\n",
       "      <td>NaN</td>\n",
       "      <td>Q</td>\n",
       "    </tr>\n",
       "  </tbody>\n",
       "</table>\n",
       "</div>"
      ],
      "text/plain": [
       "     PassengerId  Survived  Pclass                                      Name  \\\n",
       "886          887         0       2                     Montvila, Rev. Juozas   \n",
       "887          888         1       1              Graham, Miss. Margaret Edith   \n",
       "888          889         0       3  Johnston, Miss. Catherine Helen \"Carrie\"   \n",
       "889          890         1       1                     Behr, Mr. Karl Howell   \n",
       "890          891         0       3                       Dooley, Mr. Patrick   \n",
       "\n",
       "        Sex   Age  SibSp  Parch      Ticket   Fare Cabin Embarked  \n",
       "886    male  27.0      0      0      211536  13.00   NaN        S  \n",
       "887  female  19.0      0      0      112053  30.00   B42        S  \n",
       "888  female   NaN      1      2  W./C. 6607  23.45   NaN        S  \n",
       "889    male  26.0      0      0      111369  30.00  C148        C  \n",
       "890    male  32.0      0      0      370376   7.75   NaN        Q  "
      ]
     },
     "execution_count": 4,
     "metadata": {},
     "output_type": "execute_result"
    }
   ],
   "source": [
    "# Display last 5 rows of the dataframe\n",
    "titanic_data.tail()"
   ]
  },
  {
   "cell_type": "code",
   "execution_count": 5,
   "id": "1a3d8b80",
   "metadata": {},
   "outputs": [
    {
     "data": {
      "text/plain": [
       "(891, 12)"
      ]
     },
     "execution_count": 5,
     "metadata": {},
     "output_type": "execute_result"
    }
   ],
   "source": [
    "# Display shape of the dataframe\n",
    "titanic_data.shape"
   ]
  },
  {
   "cell_type": "code",
   "execution_count": 6,
   "id": "8ea05555",
   "metadata": {
    "scrolled": true
   },
   "outputs": [
    {
     "data": {
      "text/plain": [
       "Index(['PassengerId', 'Survived', 'Pclass', 'Name', 'Sex', 'Age', 'SibSp',\n",
       "       'Parch', 'Ticket', 'Fare', 'Cabin', 'Embarked'],\n",
       "      dtype='object')"
      ]
     },
     "execution_count": 6,
     "metadata": {},
     "output_type": "execute_result"
    }
   ],
   "source": [
    "# Display the names of the columns \n",
    "titanic_data.columns"
   ]
  },
  {
   "cell_type": "code",
   "execution_count": 7,
   "id": "97e42ea2",
   "metadata": {},
   "outputs": [
    {
     "data": {
      "text/plain": [
       "PassengerId      0\n",
       "Survived         0\n",
       "Pclass           0\n",
       "Name             0\n",
       "Sex              0\n",
       "Age            177\n",
       "SibSp            0\n",
       "Parch            0\n",
       "Ticket           0\n",
       "Fare             0\n",
       "Cabin          687\n",
       "Embarked         2\n",
       "dtype: int64"
      ]
     },
     "execution_count": 7,
     "metadata": {},
     "output_type": "execute_result"
    }
   ],
   "source": [
    "# Checking for the null values \n",
    "titanic_data.isnull().sum()"
   ]
  },
  {
   "cell_type": "code",
   "execution_count": 8,
   "id": "38bf8a7e",
   "metadata": {},
   "outputs": [
    {
     "name": "stdout",
     "output_type": "stream",
     "text": [
      "<class 'pandas.core.frame.DataFrame'>\n",
      "RangeIndex: 891 entries, 0 to 890\n",
      "Data columns (total 12 columns):\n",
      " #   Column       Non-Null Count  Dtype  \n",
      "---  ------       --------------  -----  \n",
      " 0   PassengerId  891 non-null    int64  \n",
      " 1   Survived     891 non-null    int64  \n",
      " 2   Pclass       891 non-null    int64  \n",
      " 3   Name         891 non-null    object \n",
      " 4   Sex          891 non-null    object \n",
      " 5   Age          714 non-null    float64\n",
      " 6   SibSp        891 non-null    int64  \n",
      " 7   Parch        891 non-null    int64  \n",
      " 8   Ticket       891 non-null    object \n",
      " 9   Fare         891 non-null    float64\n",
      " 10  Cabin        204 non-null    object \n",
      " 11  Embarked     889 non-null    object \n",
      "dtypes: float64(2), int64(5), object(5)\n",
      "memory usage: 83.7+ KB\n"
     ]
    }
   ],
   "source": [
    "# Display dataframe's details, such as column data types and missing values\n",
    "titanic_data.info()"
   ]
  },
  {
   "cell_type": "code",
   "execution_count": 9,
   "id": "4d34ce66",
   "metadata": {
    "scrolled": true
   },
   "outputs": [
    {
     "data": {
      "text/html": [
       "<div>\n",
       "<style scoped>\n",
       "    .dataframe tbody tr th:only-of-type {\n",
       "        vertical-align: middle;\n",
       "    }\n",
       "\n",
       "    .dataframe tbody tr th {\n",
       "        vertical-align: top;\n",
       "    }\n",
       "\n",
       "    .dataframe thead th {\n",
       "        text-align: right;\n",
       "    }\n",
       "</style>\n",
       "<table border=\"1\" class=\"dataframe\">\n",
       "  <thead>\n",
       "    <tr style=\"text-align: right;\">\n",
       "      <th></th>\n",
       "      <th>PassengerId</th>\n",
       "      <th>Survived</th>\n",
       "      <th>Pclass</th>\n",
       "      <th>Age</th>\n",
       "      <th>SibSp</th>\n",
       "      <th>Parch</th>\n",
       "      <th>Fare</th>\n",
       "    </tr>\n",
       "  </thead>\n",
       "  <tbody>\n",
       "    <tr>\n",
       "      <th>count</th>\n",
       "      <td>891.000000</td>\n",
       "      <td>891.000000</td>\n",
       "      <td>891.000000</td>\n",
       "      <td>714.000000</td>\n",
       "      <td>891.000000</td>\n",
       "      <td>891.000000</td>\n",
       "      <td>891.000000</td>\n",
       "    </tr>\n",
       "    <tr>\n",
       "      <th>mean</th>\n",
       "      <td>446.000000</td>\n",
       "      <td>0.383838</td>\n",
       "      <td>2.308642</td>\n",
       "      <td>29.699118</td>\n",
       "      <td>0.523008</td>\n",
       "      <td>0.381594</td>\n",
       "      <td>32.204208</td>\n",
       "    </tr>\n",
       "    <tr>\n",
       "      <th>std</th>\n",
       "      <td>257.353842</td>\n",
       "      <td>0.486592</td>\n",
       "      <td>0.836071</td>\n",
       "      <td>14.526497</td>\n",
       "      <td>1.102743</td>\n",
       "      <td>0.806057</td>\n",
       "      <td>49.693429</td>\n",
       "    </tr>\n",
       "    <tr>\n",
       "      <th>min</th>\n",
       "      <td>1.000000</td>\n",
       "      <td>0.000000</td>\n",
       "      <td>1.000000</td>\n",
       "      <td>0.420000</td>\n",
       "      <td>0.000000</td>\n",
       "      <td>0.000000</td>\n",
       "      <td>0.000000</td>\n",
       "    </tr>\n",
       "    <tr>\n",
       "      <th>25%</th>\n",
       "      <td>223.500000</td>\n",
       "      <td>0.000000</td>\n",
       "      <td>2.000000</td>\n",
       "      <td>20.125000</td>\n",
       "      <td>0.000000</td>\n",
       "      <td>0.000000</td>\n",
       "      <td>7.910400</td>\n",
       "    </tr>\n",
       "    <tr>\n",
       "      <th>50%</th>\n",
       "      <td>446.000000</td>\n",
       "      <td>0.000000</td>\n",
       "      <td>3.000000</td>\n",
       "      <td>28.000000</td>\n",
       "      <td>0.000000</td>\n",
       "      <td>0.000000</td>\n",
       "      <td>14.454200</td>\n",
       "    </tr>\n",
       "    <tr>\n",
       "      <th>75%</th>\n",
       "      <td>668.500000</td>\n",
       "      <td>1.000000</td>\n",
       "      <td>3.000000</td>\n",
       "      <td>38.000000</td>\n",
       "      <td>1.000000</td>\n",
       "      <td>0.000000</td>\n",
       "      <td>31.000000</td>\n",
       "    </tr>\n",
       "    <tr>\n",
       "      <th>max</th>\n",
       "      <td>891.000000</td>\n",
       "      <td>1.000000</td>\n",
       "      <td>3.000000</td>\n",
       "      <td>80.000000</td>\n",
       "      <td>8.000000</td>\n",
       "      <td>6.000000</td>\n",
       "      <td>512.329200</td>\n",
       "    </tr>\n",
       "  </tbody>\n",
       "</table>\n",
       "</div>"
      ],
      "text/plain": [
       "       PassengerId    Survived      Pclass         Age       SibSp  \\\n",
       "count   891.000000  891.000000  891.000000  714.000000  891.000000   \n",
       "mean    446.000000    0.383838    2.308642   29.699118    0.523008   \n",
       "std     257.353842    0.486592    0.836071   14.526497    1.102743   \n",
       "min       1.000000    0.000000    1.000000    0.420000    0.000000   \n",
       "25%     223.500000    0.000000    2.000000   20.125000    0.000000   \n",
       "50%     446.000000    0.000000    3.000000   28.000000    0.000000   \n",
       "75%     668.500000    1.000000    3.000000   38.000000    1.000000   \n",
       "max     891.000000    1.000000    3.000000   80.000000    8.000000   \n",
       "\n",
       "            Parch        Fare  \n",
       "count  891.000000  891.000000  \n",
       "mean     0.381594   32.204208  \n",
       "std      0.806057   49.693429  \n",
       "min      0.000000    0.000000  \n",
       "25%      0.000000    7.910400  \n",
       "50%      0.000000   14.454200  \n",
       "75%      0.000000   31.000000  \n",
       "max      6.000000  512.329200  "
      ]
     },
     "execution_count": 9,
     "metadata": {},
     "output_type": "execute_result"
    }
   ],
   "source": [
    "# Display summary statistics of the dataframe\n",
    "titanic_data.describe()"
   ]
  },
  {
   "cell_type": "markdown",
   "id": "9adb34f5",
   "metadata": {},
   "source": [
    "#### Data Visualization"
   ]
  },
  {
   "cell_type": "code",
   "execution_count": 10,
   "id": "66cb88e0",
   "metadata": {},
   "outputs": [],
   "source": [
    "sns.set(style = 'whitegrid')"
   ]
  },
  {
   "cell_type": "markdown",
   "id": "a527e990",
   "metadata": {},
   "source": [
    "Univariate analysis"
   ]
  },
  {
   "cell_type": "code",
   "execution_count": 11,
   "id": "3df71029",
   "metadata": {},
   "outputs": [
    {
     "data": {
      "image/png": "[encoded data removed]",
      "text/plain": [
       "<Figure size 640x480 with 1 Axes>"
      ]
     },
     "metadata": {},
     "output_type": "display_data"
    }
   ],
   "source": [
    "sns.countplot(x = 'Survived', data = titanic_data)\n",
    "plt.show()"
   ]
  },
  {
   "cell_type": "code",
   "execution_count": 12,
   "id": "3e9dfe66",
   "metadata": {},
   "outputs": [
    {
     "data": {
      "image/png": "[encoded data removed]",
      "text/plain": [
       "<Figure size 640x480 with 1 Axes>"
      ]
     },
     "metadata": {},
     "output_type": "display_data"
    }
   ],
   "source": [
    "sns.countplot(x = 'Sex', data = titanic_data)\n",
    "plt.show()"
   ]
  },
  {
   "cell_type": "code",
   "execution_count": 13,
   "id": "49b6f15c",
   "metadata": {
    "scrolled": false
   },
   "outputs": [
    {
     "data": {
      "image/png": "[encoded data removed]",
      "text/plain": [
       "<Figure size 640x480 with 1 Axes>"
      ]
     },
     "metadata": {},
     "output_type": "display_data"
    }
   ],
   "source": [
    "sns.histplot(data = titanic_data, x = 'Age', bins = 20, kde = True)\n",
    "plt.show()"
   ]
  },
  {
   "cell_type": "code",
   "execution_count": 14,
   "id": "af9e75da",
   "metadata": {},
   "outputs": [
    {
     "data": {
      "image/png": "[encoded data removed]",
      "text/plain": [
       "<Figure size 640x480 with 1 Axes>"
      ]
     },
     "metadata": {},
     "output_type": "display_data"
    }
   ],
   "source": [
    "sns.histplot(data = titanic_data, x = 'Fare', bins = 20, kde = True)\n",
    "plt.show()"
   ]
  },
  {
   "cell_type": "markdown",
   "id": "4835eaf3",
   "metadata": {},
   "source": [
    " Bivariate Analysis"
   ]
  },
  {
   "cell_type": "code",
   "execution_count": 15,
   "id": "85190b25",
   "metadata": {},
   "outputs": [
    {
     "data": {
      "image/png": "[encoded data removed]",
      "text/plain": [
       "<Figure size 640x480 with 1 Axes>"
      ]
     },
     "metadata": {},
     "output_type": "display_data"
    }
   ],
   "source": [
    "# Count plot of survival based on gender\n",
    "sns.countplot(x = 'Survived', hue = 'Sex', data = titanic_data)\n",
    "plt.show()"
   ]
  },
  {
   "cell_type": "code",
   "execution_count": 16,
   "id": "d003614a",
   "metadata": {
    "scrolled": false
   },
   "outputs": [
    {
     "data": {
      "text/plain": [
       "<AxesSubplot:xlabel='Survived', ylabel='count'>"
      ]
     },
     "execution_count": 16,
     "metadata": {},
     "output_type": "execute_result"
    },
    {
     "data": {
      "image/png": "[encoded data removed]",
      "text/plain": [
       "<Figure size 640x480 with 1 Axes>"
      ]
     },
     "metadata": {},
     "output_type": "display_data"
    }
   ],
   "source": [
    "# Bar plot of survival based on passenger class\n",
    "sns.countplot(x = 'Survived', hue = 'Pclass', data = titanic_data)"
   ]
  },
  {
   "cell_type": "markdown",
   "id": "19867fb9",
   "metadata": {},
   "source": [
    "#### Data Cleaning"
   ]
  },
  {
   "cell_type": "markdown",
   "id": "d0ca1be4",
   "metadata": {},
   "source": [
    "Features such as 'PassengerId,' 'Name,' 'Ticket,' 'Cabin,' and 'Embarked' are typically considered less significant for predicting survival in the context of the Titanic dataset. These features are often not directly related to a passenger's survival outcome and may not provide meaningful information for the prediction task."
   ]
  },
  {
   "cell_type": "code",
   "execution_count": 17,
   "id": "a243a025",
   "metadata": {
    "scrolled": true
   },
   "outputs": [
    {
     "data": {
      "text/html": [
       "<div>\n",
       "<style scoped>\n",
       "    .dataframe tbody tr th:only-of-type {\n",
       "        vertical-align: middle;\n",
       "    }\n",
       "\n",
       "    .dataframe tbody tr th {\n",
       "        vertical-align: top;\n",
       "    }\n",
       "\n",
       "    .dataframe thead th {\n",
       "        text-align: right;\n",
       "    }\n",
       "</style>\n",
       "<table border=\"1\" class=\"dataframe\">\n",
       "  <thead>\n",
       "    <tr style=\"text-align: right;\">\n",
       "      <th></th>\n",
       "      <th>Survived</th>\n",
       "      <th>Pclass</th>\n",
       "      <th>Sex</th>\n",
       "      <th>Age</th>\n",
       "      <th>SibSp</th>\n",
       "      <th>Parch</th>\n",
       "      <th>Fare</th>\n",
       "    </tr>\n",
       "  </thead>\n",
       "  <tbody>\n",
       "    <tr>\n",
       "      <th>0</th>\n",
       "      <td>0</td>\n",
       "      <td>3</td>\n",
       "      <td>male</td>\n",
       "      <td>22.0</td>\n",
       "      <td>1</td>\n",
       "      <td>0</td>\n",
       "      <td>7.2500</td>\n",
       "    </tr>\n",
       "    <tr>\n",
       "      <th>1</th>\n",
       "      <td>1</td>\n",
       "      <td>1</td>\n",
       "      <td>female</td>\n",
       "      <td>38.0</td>\n",
       "      <td>1</td>\n",
       "      <td>0</td>\n",
       "      <td>71.2833</td>\n",
       "    </tr>\n",
       "    <tr>\n",
       "      <th>2</th>\n",
       "      <td>1</td>\n",
       "      <td>3</td>\n",
       "      <td>female</td>\n",
       "      <td>26.0</td>\n",
       "      <td>0</td>\n",
       "      <td>0</td>\n",
       "      <td>7.9250</td>\n",
       "    </tr>\n",
       "    <tr>\n",
       "      <th>3</th>\n",
       "      <td>1</td>\n",
       "      <td>1</td>\n",
       "      <td>female</td>\n",
       "      <td>35.0</td>\n",
       "      <td>1</td>\n",
       "      <td>0</td>\n",
       "      <td>53.1000</td>\n",
       "    </tr>\n",
       "    <tr>\n",
       "      <th>4</th>\n",
       "      <td>0</td>\n",
       "      <td>3</td>\n",
       "      <td>male</td>\n",
       "      <td>35.0</td>\n",
       "      <td>0</td>\n",
       "      <td>0</td>\n",
       "      <td>8.0500</td>\n",
       "    </tr>\n",
       "  </tbody>\n",
       "</table>\n",
       "</div>"
      ],
      "text/plain": [
       "   Survived  Pclass     Sex   Age  SibSp  Parch     Fare\n",
       "0         0       3    male  22.0      1      0   7.2500\n",
       "1         1       1  female  38.0      1      0  71.2833\n",
       "2         1       3  female  26.0      0      0   7.9250\n",
       "3         1       1  female  35.0      1      0  53.1000\n",
       "4         0       3    male  35.0      0      0   8.0500"
      ]
     },
     "execution_count": 17,
     "metadata": {},
     "output_type": "execute_result"
    }
   ],
   "source": [
    "titanic_data.drop(columns=['PassengerId', 'Name', 'Ticket', 'Cabin', 'Embarked'], inplace = True)\n",
    "titanic_data.head()"
   ]
  },
  {
   "cell_type": "code",
   "execution_count": 18,
   "id": "bf3b888b",
   "metadata": {},
   "outputs": [
    {
     "data": {
      "text/plain": [
       "Survived      0\n",
       "Pclass        0\n",
       "Sex           0\n",
       "Age         177\n",
       "SibSp         0\n",
       "Parch         0\n",
       "Fare          0\n",
       "dtype: int64"
      ]
     },
     "execution_count": 18,
     "metadata": {},
     "output_type": "execute_result"
    }
   ],
   "source": [
    "# Checking for the null values after dropping above columns\n",
    "titanic_data.isnull().sum()"
   ]
  },
  {
   "cell_type": "markdown",
   "id": "a524f8f2",
   "metadata": {},
   "source": [
    "In 'Age' column, null values are present."
   ]
  },
  {
   "cell_type": "code",
   "execution_count": 19,
   "id": "c5b963a0",
   "metadata": {},
   "outputs": [
    {
     "data": {
      "text/plain": [
       "Survived    0\n",
       "Pclass      0\n",
       "Sex         0\n",
       "Age         0\n",
       "SibSp       0\n",
       "Parch       0\n",
       "Fare        0\n",
       "dtype: int64"
      ]
     },
     "execution_count": 19,
     "metadata": {},
     "output_type": "execute_result"
    }
   ],
   "source": [
    "titanic_data['Age'].fillna(titanic_data['Age'].mean(), inplace= True)\n",
    "titanic_data.isnull().sum()"
   ]
  },
  {
   "cell_type": "code",
   "execution_count": 20,
   "id": "9dd68d8e",
   "metadata": {},
   "outputs": [],
   "source": [
    "# Converting categorical columns into numeric columns\n",
    "encoder = LabelEncoder()\n",
    "titanic_data['Sex'] = encoder.fit_transform(titanic_data['Sex'])"
   ]
  },
  {
   "cell_type": "code",
   "execution_count": 21,
   "id": "6efffd93",
   "metadata": {
    "scrolled": true
   },
   "outputs": [
    {
     "data": {
      "text/html": [
       "<div>\n",
       "<style scoped>\n",
       "    .dataframe tbody tr th:only-of-type {\n",
       "        vertical-align: middle;\n",
       "    }\n",
       "\n",
       "    .dataframe tbody tr th {\n",
       "        vertical-align: top;\n",
       "    }\n",
       "\n",
       "    .dataframe thead th {\n",
       "        text-align: right;\n",
       "    }\n",
       "</style>\n",
       "<table border=\"1\" class=\"dataframe\">\n",
       "  <thead>\n",
       "    <tr style=\"text-align: right;\">\n",
       "      <th></th>\n",
       "      <th>Survived</th>\n",
       "      <th>Pclass</th>\n",
       "      <th>Sex</th>\n",
       "      <th>Age</th>\n",
       "      <th>SibSp</th>\n",
       "      <th>Parch</th>\n",
       "      <th>Fare</th>\n",
       "    </tr>\n",
       "  </thead>\n",
       "  <tbody>\n",
       "    <tr>\n",
       "      <th>0</th>\n",
       "      <td>0</td>\n",
       "      <td>3</td>\n",
       "      <td>1</td>\n",
       "      <td>22.0</td>\n",
       "      <td>1</td>\n",
       "      <td>0</td>\n",
       "      <td>7.2500</td>\n",
       "    </tr>\n",
       "    <tr>\n",
       "      <th>1</th>\n",
       "      <td>1</td>\n",
       "      <td>1</td>\n",
       "      <td>0</td>\n",
       "      <td>38.0</td>\n",
       "      <td>1</td>\n",
       "      <td>0</td>\n",
       "      <td>71.2833</td>\n",
       "    </tr>\n",
       "    <tr>\n",
       "      <th>2</th>\n",
       "      <td>1</td>\n",
       "      <td>3</td>\n",
       "      <td>0</td>\n",
       "      <td>26.0</td>\n",
       "      <td>0</td>\n",
       "      <td>0</td>\n",
       "      <td>7.9250</td>\n",
       "    </tr>\n",
       "    <tr>\n",
       "      <th>3</th>\n",
       "      <td>1</td>\n",
       "      <td>1</td>\n",
       "      <td>0</td>\n",
       "      <td>35.0</td>\n",
       "      <td>1</td>\n",
       "      <td>0</td>\n",
       "      <td>53.1000</td>\n",
       "    </tr>\n",
       "    <tr>\n",
       "      <th>4</th>\n",
       "      <td>0</td>\n",
       "      <td>3</td>\n",
       "      <td>1</td>\n",
       "      <td>35.0</td>\n",
       "      <td>0</td>\n",
       "      <td>0</td>\n",
       "      <td>8.0500</td>\n",
       "    </tr>\n",
       "  </tbody>\n",
       "</table>\n",
       "</div>"
      ],
      "text/plain": [
       "   Survived  Pclass  Sex   Age  SibSp  Parch     Fare\n",
       "0         0       3    1  22.0      1      0   7.2500\n",
       "1         1       1    0  38.0      1      0  71.2833\n",
       "2         1       3    0  26.0      0      0   7.9250\n",
       "3         1       1    0  35.0      1      0  53.1000\n",
       "4         0       3    1  35.0      0      0   8.0500"
      ]
     },
     "execution_count": 21,
     "metadata": {},
     "output_type": "execute_result"
    }
   ],
   "source": [
    "titanic_data.head()"
   ]
  },
  {
   "cell_type": "code",
   "execution_count": 22,
   "id": "c4859ad6",
   "metadata": {},
   "outputs": [
    {
     "data": {
      "image/png": "[encoded data removed]",
      "text/plain": [
       "<Figure size 640x480 with 1 Axes>"
      ]
     },
     "metadata": {},
     "output_type": "display_data"
    }
   ],
   "source": [
    "# Cheking for the outliers\n",
    "\n",
    "# Using boxplot\n",
    "titanic_data['Age'].plot(kind = 'box')\n",
    "plt.show()"
   ]
  },
  {
   "cell_type": "code",
   "execution_count": 23,
   "id": "97d1c275",
   "metadata": {
    "scrolled": false
   },
   "outputs": [
    {
     "data": {
      "image/png": "[encoded data removed]",
      "text/plain": [
       "<Figure size 640x480 with 1 Axes>"
      ]
     },
     "metadata": {},
     "output_type": "display_data"
    }
   ],
   "source": [
    "titanic_data['Fare'].plot(kind = 'box')\n",
    "plt.show()"
   ]
  },
  {
   "cell_type": "code",
   "execution_count": 24,
   "id": "3b9be691",
   "metadata": {},
   "outputs": [
    {
     "data": {
      "text/html": [
       "<div>\n",
       "<style scoped>\n",
       "    .dataframe tbody tr th:only-of-type {\n",
       "        vertical-align: middle;\n",
       "    }\n",
       "\n",
       "    .dataframe tbody tr th {\n",
       "        vertical-align: top;\n",
       "    }\n",
       "\n",
       "    .dataframe thead th {\n",
       "        text-align: right;\n",
       "    }\n",
       "</style>\n",
       "<table border=\"1\" class=\"dataframe\">\n",
       "  <thead>\n",
       "    <tr style=\"text-align: right;\">\n",
       "      <th></th>\n",
       "      <th>Survived</th>\n",
       "      <th>Pclass</th>\n",
       "      <th>Sex</th>\n",
       "      <th>Age</th>\n",
       "      <th>SibSp</th>\n",
       "      <th>Parch</th>\n",
       "      <th>Fare</th>\n",
       "    </tr>\n",
       "  </thead>\n",
       "  <tbody>\n",
       "    <tr>\n",
       "      <th>0</th>\n",
       "      <td>0.789272</td>\n",
       "      <td>0.827377</td>\n",
       "      <td>0.737695</td>\n",
       "      <td>0.592481</td>\n",
       "      <td>0.432793</td>\n",
       "      <td>0.473674</td>\n",
       "      <td>0.502445</td>\n",
       "    </tr>\n",
       "    <tr>\n",
       "      <th>1</th>\n",
       "      <td>1.266990</td>\n",
       "      <td>1.566107</td>\n",
       "      <td>1.355574</td>\n",
       "      <td>0.638789</td>\n",
       "      <td>0.432793</td>\n",
       "      <td>0.473674</td>\n",
       "      <td>0.786845</td>\n",
       "    </tr>\n",
       "    <tr>\n",
       "      <th>2</th>\n",
       "      <td>1.266990</td>\n",
       "      <td>0.827377</td>\n",
       "      <td>1.355574</td>\n",
       "      <td>0.284663</td>\n",
       "      <td>0.474545</td>\n",
       "      <td>0.473674</td>\n",
       "      <td>0.488854</td>\n",
       "    </tr>\n",
       "    <tr>\n",
       "      <th>3</th>\n",
       "      <td>1.266990</td>\n",
       "      <td>1.566107</td>\n",
       "      <td>1.355574</td>\n",
       "      <td>0.407926</td>\n",
       "      <td>0.432793</td>\n",
       "      <td>0.473674</td>\n",
       "      <td>0.420730</td>\n",
       "    </tr>\n",
       "    <tr>\n",
       "      <th>4</th>\n",
       "      <td>0.789272</td>\n",
       "      <td>0.827377</td>\n",
       "      <td>0.737695</td>\n",
       "      <td>0.407926</td>\n",
       "      <td>0.474545</td>\n",
       "      <td>0.473674</td>\n",
       "      <td>0.486337</td>\n",
       "    </tr>\n",
       "    <tr>\n",
       "      <th>...</th>\n",
       "      <td>...</td>\n",
       "      <td>...</td>\n",
       "      <td>...</td>\n",
       "      <td>...</td>\n",
       "      <td>...</td>\n",
       "      <td>...</td>\n",
       "      <td>...</td>\n",
       "    </tr>\n",
       "    <tr>\n",
       "      <th>886</th>\n",
       "      <td>0.789272</td>\n",
       "      <td>0.369365</td>\n",
       "      <td>0.737695</td>\n",
       "      <td>0.207709</td>\n",
       "      <td>0.474545</td>\n",
       "      <td>0.473674</td>\n",
       "      <td>0.386671</td>\n",
       "    </tr>\n",
       "    <tr>\n",
       "      <th>887</th>\n",
       "      <td>1.266990</td>\n",
       "      <td>1.566107</td>\n",
       "      <td>1.355574</td>\n",
       "      <td>0.823344</td>\n",
       "      <td>0.474545</td>\n",
       "      <td>0.473674</td>\n",
       "      <td>0.044381</td>\n",
       "    </tr>\n",
       "    <tr>\n",
       "      <th>888</th>\n",
       "      <td>0.789272</td>\n",
       "      <td>0.827377</td>\n",
       "      <td>1.355574</td>\n",
       "      <td>0.000000</td>\n",
       "      <td>0.432793</td>\n",
       "      <td>2.008933</td>\n",
       "      <td>0.176263</td>\n",
       "    </tr>\n",
       "    <tr>\n",
       "      <th>889</th>\n",
       "      <td>1.266990</td>\n",
       "      <td>1.566107</td>\n",
       "      <td>0.737695</td>\n",
       "      <td>0.284663</td>\n",
       "      <td>0.474545</td>\n",
       "      <td>0.473674</td>\n",
       "      <td>0.044381</td>\n",
       "    </tr>\n",
       "    <tr>\n",
       "      <th>890</th>\n",
       "      <td>0.789272</td>\n",
       "      <td>0.827377</td>\n",
       "      <td>0.737695</td>\n",
       "      <td>0.177063</td>\n",
       "      <td>0.474545</td>\n",
       "      <td>0.473674</td>\n",
       "      <td>0.492378</td>\n",
       "    </tr>\n",
       "  </tbody>\n",
       "</table>\n",
       "<p>891 rows × 7 columns</p>\n",
       "</div>"
      ],
      "text/plain": [
       "     Survived    Pclass       Sex       Age     SibSp     Parch      Fare\n",
       "0    0.789272  0.827377  0.737695  0.592481  0.432793  0.473674  0.502445\n",
       "1    1.266990  1.566107  1.355574  0.638789  0.432793  0.473674  0.786845\n",
       "2    1.266990  0.827377  1.355574  0.284663  0.474545  0.473674  0.488854\n",
       "3    1.266990  1.566107  1.355574  0.407926  0.432793  0.473674  0.420730\n",
       "4    0.789272  0.827377  0.737695  0.407926  0.474545  0.473674  0.486337\n",
       "..        ...       ...       ...       ...       ...       ...       ...\n",
       "886  0.789272  0.369365  0.737695  0.207709  0.474545  0.473674  0.386671\n",
       "887  1.266990  1.566107  1.355574  0.823344  0.474545  0.473674  0.044381\n",
       "888  0.789272  0.827377  1.355574  0.000000  0.432793  2.008933  0.176263\n",
       "889  1.266990  1.566107  0.737695  0.284663  0.474545  0.473674  0.044381\n",
       "890  0.789272  0.827377  0.737695  0.177063  0.474545  0.473674  0.492378\n",
       "\n",
       "[891 rows x 7 columns]"
      ]
     },
     "execution_count": 24,
     "metadata": {},
     "output_type": "execute_result"
    }
   ],
   "source": [
    "# Using Z-Score\n",
    "z_score = abs(zscore(titanic_data))\n",
    "z_score"
   ]
  },
  {
   "cell_type": "markdown",
   "id": "41dba3c1",
   "metadata": {},
   "source": [
    "Outlier are peresent in the dataset."
   ]
  },
  {
   "cell_type": "code",
   "execution_count": 25,
   "id": "16cbeb5b",
   "metadata": {},
   "outputs": [
    {
     "data": {
      "text/html": [
       "<div>\n",
       "<style scoped>\n",
       "    .dataframe tbody tr th:only-of-type {\n",
       "        vertical-align: middle;\n",
       "    }\n",
       "\n",
       "    .dataframe tbody tr th {\n",
       "        vertical-align: top;\n",
       "    }\n",
       "\n",
       "    .dataframe thead th {\n",
       "        text-align: right;\n",
       "    }\n",
       "</style>\n",
       "<table border=\"1\" class=\"dataframe\">\n",
       "  <thead>\n",
       "    <tr style=\"text-align: right;\">\n",
       "      <th></th>\n",
       "      <th>Survived</th>\n",
       "      <th>Pclass</th>\n",
       "      <th>Sex</th>\n",
       "      <th>Age</th>\n",
       "      <th>SibSp</th>\n",
       "      <th>Parch</th>\n",
       "      <th>Fare</th>\n",
       "    </tr>\n",
       "  </thead>\n",
       "  <tbody>\n",
       "    <tr>\n",
       "      <th>0</th>\n",
       "      <td>0</td>\n",
       "      <td>3</td>\n",
       "      <td>1</td>\n",
       "      <td>22.0</td>\n",
       "      <td>1</td>\n",
       "      <td>0</td>\n",
       "      <td>7.2500</td>\n",
       "    </tr>\n",
       "    <tr>\n",
       "      <th>1</th>\n",
       "      <td>1</td>\n",
       "      <td>1</td>\n",
       "      <td>0</td>\n",
       "      <td>38.0</td>\n",
       "      <td>1</td>\n",
       "      <td>0</td>\n",
       "      <td>71.2833</td>\n",
       "    </tr>\n",
       "    <tr>\n",
       "      <th>2</th>\n",
       "      <td>1</td>\n",
       "      <td>3</td>\n",
       "      <td>0</td>\n",
       "      <td>26.0</td>\n",
       "      <td>0</td>\n",
       "      <td>0</td>\n",
       "      <td>7.9250</td>\n",
       "    </tr>\n",
       "    <tr>\n",
       "      <th>3</th>\n",
       "      <td>1</td>\n",
       "      <td>1</td>\n",
       "      <td>0</td>\n",
       "      <td>35.0</td>\n",
       "      <td>1</td>\n",
       "      <td>0</td>\n",
       "      <td>53.1000</td>\n",
       "    </tr>\n",
       "    <tr>\n",
       "      <th>4</th>\n",
       "      <td>0</td>\n",
       "      <td>3</td>\n",
       "      <td>1</td>\n",
       "      <td>35.0</td>\n",
       "      <td>0</td>\n",
       "      <td>0</td>\n",
       "      <td>8.0500</td>\n",
       "    </tr>\n",
       "  </tbody>\n",
       "</table>\n",
       "</div>"
      ],
      "text/plain": [
       "   Survived  Pclass  Sex   Age  SibSp  Parch     Fare\n",
       "0         0       3    1  22.0      1      0   7.2500\n",
       "1         1       1    0  38.0      1      0  71.2833\n",
       "2         1       3    0  26.0      0      0   7.9250\n",
       "3         1       1    0  35.0      1      0  53.1000\n",
       "4         0       3    1  35.0      0      0   8.0500"
      ]
     },
     "execution_count": 25,
     "metadata": {},
     "output_type": "execute_result"
    }
   ],
   "source": [
    "# Removing Outliers\n",
    "z = 3\n",
    "titanic_data1= titanic_data[(z_score < z).all(axis = 1)]\n",
    "titanic_data1.head()"
   ]
  },
  {
   "cell_type": "code",
   "execution_count": 26,
   "id": "c33ea6fb",
   "metadata": {},
   "outputs": [
    {
     "data": {
      "text/plain": [
       "(820, 7)"
      ]
     },
     "execution_count": 26,
     "metadata": {},
     "output_type": "execute_result"
    }
   ],
   "source": [
    "titanic_data1.shape"
   ]
  },
  {
   "cell_type": "code",
   "execution_count": 27,
   "id": "e654fc5e",
   "metadata": {},
   "outputs": [
    {
     "data": {
      "image/png": "[encoded data removed]",
      "text/plain": [
       "<Figure size 640x480 with 1 Axes>"
      ]
     },
     "metadata": {},
     "output_type": "display_data"
    }
   ],
   "source": [
    "# Checking for the skewness\n",
    "\n",
    "# Using distplot\n",
    "\n",
    "sns.distplot(titanic_data1['Age'])\n",
    "plt.show()"
   ]
  },
  {
   "cell_type": "code",
   "execution_count": 28,
   "id": "4c556ca3",
   "metadata": {},
   "outputs": [
    {
     "data": {
      "image/png": "[encoded data removed]",
      "text/plain": [
       "<Figure size 640x480 with 1 Axes>"
      ]
     },
     "metadata": {},
     "output_type": "display_data"
    }
   ],
   "source": [
    "sns.distplot(titanic_data1['Fare'])\n",
    "plt.show()"
   ]
  },
  {
   "cell_type": "code",
   "execution_count": 29,
   "id": "42546658",
   "metadata": {
    "scrolled": true
   },
   "outputs": [
    {
     "data": {
      "text/plain": [
       "Survived    0.450825\n",
       "Pclass     -0.632242\n",
       "Sex        -0.664152\n",
       "Age         0.318314\n",
       "SibSp       1.979577\n",
       "Parch       2.122629\n",
       "Fare        2.318761\n",
       "dtype: float64"
      ]
     },
     "execution_count": 29,
     "metadata": {},
     "output_type": "execute_result"
    }
   ],
   "source": [
    "titanic_data1.skew()"
   ]
  },
  {
   "cell_type": "markdown",
   "id": "982a60a2",
   "metadata": {},
   "source": [
    "SibSp (Positive skewness)\n",
    "\n",
    "Parch (Positive skewness)\n",
    "\n",
    "Fare (Positive skewness)\n",
    "\n",
    "These columns exhibit positive skewness. However, it's important to note that the 'SibSp' and 'Parch' columns, while containing integer values, are more appropriately considered as discrete numerical variables rather than categorical data. On the other hand, the 'Fare' column contains continuous numeric data. Due to its positive skewness, there is a need to reduce the skewness of the 'Fare' column to enhance the distribution's symmetry and improve the performance of model."
   ]
  },
  {
   "cell_type": "code",
   "execution_count": 30,
   "id": "50ac382c",
   "metadata": {},
   "outputs": [],
   "source": [
    "# Reducing skewness\n",
    "transformed_titanic_data1 = titanic_data1.copy()\n",
    "transformed_titanic_data2 = titanic_data1.copy()\n",
    "transformed_titanic_data3 = titanic_data1.copy()\n",
    "transformed_titanic_data4 = titanic_data1.copy()\n",
    "transformed_titanic_data5 = titanic_data1.copy()\n",
    "transformed_titanic_data6 = titanic_data1.copy()\n",
    "transformed_titanic_data7 = titanic_data1.copy()\n",
    "\n",
    "# Apply different transformations\n",
    "\n",
    "# Log Transformation\n",
    "transformed_titanic_data1['Fare'] = np.log1p(titanic_data1['Fare'])\n",
    "\n",
    "# Square Root Transformation\n",
    "transformed_titanic_data2['Fare'] = np.sqrt(titanic_data1['Fare'])\n",
    "\n",
    "# Box-Cox Transformation\n",
    "transformed_titanic_data3['Fare'], lambda_value = boxcox(titanic_data1['Fare'] + 1)  # Adding 1 to handle zero and negative values\n",
    "\n",
    "# Reciprocal Transformation\n",
    "transformed_titanic_data4['Fare'] = 1 / (titanic_data1['Fare'] + 1)  # Adding 1 to handle zero values\n",
    "\n",
    "# Exponential Transformation\n",
    "transformed_titanic_data5['Fare'] = np.exp(titanic_data1['Fare'])\n",
    "\n",
    "# Power Transformation\n",
    "transformed_titanic_data6['Fare'] = titanic_data1['Fare'] ** 2\n",
    "transformed_titanic_data7['Fare'] = titanic_data1['Fare'] ** 3"
   ]
  },
  {
   "cell_type": "code",
   "execution_count": 31,
   "id": "917ca400",
   "metadata": {},
   "outputs": [
    {
     "data": {
      "text/plain": [
       "0.19636409783591077"
      ]
     },
     "execution_count": 31,
     "metadata": {},
     "output_type": "execute_result"
    }
   ],
   "source": [
    "# Checking skewness after after applying transformations\n",
    "transformed_titanic_data1['Fare'].skew()"
   ]
  },
  {
   "cell_type": "code",
   "execution_count": 32,
   "id": "7cdf66fa",
   "metadata": {},
   "outputs": [
    {
     "data": {
      "text/plain": [
       "1.350428111936211"
      ]
     },
     "execution_count": 32,
     "metadata": {},
     "output_type": "execute_result"
    }
   ],
   "source": [
    "transformed_titanic_data2['Fare'].skew()"
   ]
  },
  {
   "cell_type": "code",
   "execution_count": 33,
   "id": "7f480415",
   "metadata": {
    "scrolled": true
   },
   "outputs": [
    {
     "data": {
      "text/plain": [
       "-0.01860152470412214"
      ]
     },
     "execution_count": 33,
     "metadata": {},
     "output_type": "execute_result"
    }
   ],
   "source": [
    "transformed_titanic_data3['Fare'].skew()"
   ]
  },
  {
   "cell_type": "code",
   "execution_count": 34,
   "id": "75c31191",
   "metadata": {},
   "outputs": [
    {
     "data": {
      "text/plain": [
       "6.18585500758757"
      ]
     },
     "execution_count": 34,
     "metadata": {},
     "output_type": "execute_result"
    }
   ],
   "source": [
    "transformed_titanic_data4['Fare'].skew()"
   ]
  },
  {
   "cell_type": "code",
   "execution_count": 35,
   "id": "e533ee0b",
   "metadata": {},
   "outputs": [
    {
     "data": {
      "text/plain": [
       "20.21129227137613"
      ]
     },
     "execution_count": 35,
     "metadata": {},
     "output_type": "execute_result"
    }
   ],
   "source": [
    "transformed_titanic_data5['Fare'].skew()"
   ]
  },
  {
   "cell_type": "code",
   "execution_count": 36,
   "id": "21d9ef93",
   "metadata": {},
   "outputs": [
    {
     "data": {
      "text/plain": [
       "3.9758650311044335"
      ]
     },
     "execution_count": 36,
     "metadata": {},
     "output_type": "execute_result"
    }
   ],
   "source": [
    "transformed_titanic_data6['Fare'].skew()"
   ]
  },
  {
   "cell_type": "code",
   "execution_count": 37,
   "id": "8c819f8e",
   "metadata": {
    "scrolled": true
   },
   "outputs": [
    {
     "data": {
      "text/plain": [
       "5.329892846869378"
      ]
     },
     "execution_count": 37,
     "metadata": {},
     "output_type": "execute_result"
    }
   ],
   "source": [
    "transformed_titanic_data7['Fare'].skew()"
   ]
  },
  {
   "cell_type": "markdown",
   "id": "07f8b60a",
   "metadata": {},
   "source": [
    "Boxcox transformation reduced the skewness to the maximum extent therefore, the columns in transformed_df3 exhibit reduced skewness."
   ]
  },
  {
   "cell_type": "code",
   "execution_count": 38,
   "id": "d68c5f31",
   "metadata": {},
   "outputs": [
    {
     "data": {
      "text/html": [
       "<div>\n",
       "<style scoped>\n",
       "    .dataframe tbody tr th:only-of-type {\n",
       "        vertical-align: middle;\n",
       "    }\n",
       "\n",
       "    .dataframe tbody tr th {\n",
       "        vertical-align: top;\n",
       "    }\n",
       "\n",
       "    .dataframe thead th {\n",
       "        text-align: right;\n",
       "    }\n",
       "</style>\n",
       "<table border=\"1\" class=\"dataframe\">\n",
       "  <thead>\n",
       "    <tr style=\"text-align: right;\">\n",
       "      <th></th>\n",
       "      <th>Survived</th>\n",
       "      <th>Pclass</th>\n",
       "      <th>Sex</th>\n",
       "      <th>Age</th>\n",
       "      <th>SibSp</th>\n",
       "      <th>Parch</th>\n",
       "      <th>Fare</th>\n",
       "    </tr>\n",
       "  </thead>\n",
       "  <tbody>\n",
       "    <tr>\n",
       "      <th>0</th>\n",
       "      <td>0</td>\n",
       "      <td>3</td>\n",
       "      <td>1</td>\n",
       "      <td>22.0</td>\n",
       "      <td>1</td>\n",
       "      <td>0</td>\n",
       "      <td>1.997271</td>\n",
       "    </tr>\n",
       "    <tr>\n",
       "      <th>1</th>\n",
       "      <td>1</td>\n",
       "      <td>1</td>\n",
       "      <td>0</td>\n",
       "      <td>38.0</td>\n",
       "      <td>1</td>\n",
       "      <td>0</td>\n",
       "      <td>3.832738</td>\n",
       "    </tr>\n",
       "    <tr>\n",
       "      <th>2</th>\n",
       "      <td>1</td>\n",
       "      <td>3</td>\n",
       "      <td>0</td>\n",
       "      <td>26.0</td>\n",
       "      <td>0</td>\n",
       "      <td>0</td>\n",
       "      <td>2.067503</td>\n",
       "    </tr>\n",
       "    <tr>\n",
       "      <th>3</th>\n",
       "      <td>1</td>\n",
       "      <td>1</td>\n",
       "      <td>0</td>\n",
       "      <td>35.0</td>\n",
       "      <td>1</td>\n",
       "      <td>0</td>\n",
       "      <td>3.599646</td>\n",
       "    </tr>\n",
       "    <tr>\n",
       "      <th>4</th>\n",
       "      <td>0</td>\n",
       "      <td>3</td>\n",
       "      <td>1</td>\n",
       "      <td>35.0</td>\n",
       "      <td>0</td>\n",
       "      <td>0</td>\n",
       "      <td>2.079894</td>\n",
       "    </tr>\n",
       "  </tbody>\n",
       "</table>\n",
       "</div>"
      ],
      "text/plain": [
       "   Survived  Pclass  Sex   Age  SibSp  Parch      Fare\n",
       "0         0       3    1  22.0      1      0  1.997271\n",
       "1         1       1    0  38.0      1      0  3.832738\n",
       "2         1       3    0  26.0      0      0  2.067503\n",
       "3         1       1    0  35.0      1      0  3.599646\n",
       "4         0       3    1  35.0      0      0  2.079894"
      ]
     },
     "execution_count": 38,
     "metadata": {},
     "output_type": "execute_result"
    }
   ],
   "source": [
    "titanic_data2 = transformed_titanic_data3\n",
    "titanic_data2.head()"
   ]
  },
  {
   "cell_type": "code",
   "execution_count": 39,
   "id": "bf042632",
   "metadata": {},
   "outputs": [
    {
     "data": {
      "text/html": [
       "<div>\n",
       "<style scoped>\n",
       "    .dataframe tbody tr th:only-of-type {\n",
       "        vertical-align: middle;\n",
       "    }\n",
       "\n",
       "    .dataframe tbody tr th {\n",
       "        vertical-align: top;\n",
       "    }\n",
       "\n",
       "    .dataframe thead th {\n",
       "        text-align: right;\n",
       "    }\n",
       "</style>\n",
       "<table border=\"1\" class=\"dataframe\">\n",
       "  <thead>\n",
       "    <tr style=\"text-align: right;\">\n",
       "      <th></th>\n",
       "      <th>Survived</th>\n",
       "      <th>Pclass</th>\n",
       "      <th>Sex</th>\n",
       "      <th>Age</th>\n",
       "      <th>SibSp</th>\n",
       "      <th>Parch</th>\n",
       "      <th>Fare</th>\n",
       "    </tr>\n",
       "  </thead>\n",
       "  <tbody>\n",
       "    <tr>\n",
       "      <th>Survived</th>\n",
       "      <td>1.000000</td>\n",
       "      <td>-0.322306</td>\n",
       "      <td>-0.554888</td>\n",
       "      <td>-0.090926</td>\n",
       "      <td>0.094459</td>\n",
       "      <td>0.201071</td>\n",
       "      <td>0.364889</td>\n",
       "    </tr>\n",
       "    <tr>\n",
       "      <th>Pclass</th>\n",
       "      <td>-0.322306</td>\n",
       "      <td>1.000000</td>\n",
       "      <td>0.138041</td>\n",
       "      <td>-0.327522</td>\n",
       "      <td>-0.052312</td>\n",
       "      <td>-0.078366</td>\n",
       "      <td>-0.681196</td>\n",
       "    </tr>\n",
       "    <tr>\n",
       "      <th>Sex</th>\n",
       "      <td>-0.554888</td>\n",
       "      <td>0.138041</td>\n",
       "      <td>1.000000</td>\n",
       "      <td>0.094544</td>\n",
       "      <td>-0.199204</td>\n",
       "      <td>-0.251872</td>\n",
       "      <td>-0.271353</td>\n",
       "    </tr>\n",
       "    <tr>\n",
       "      <th>Age</th>\n",
       "      <td>-0.090926</td>\n",
       "      <td>-0.327522</td>\n",
       "      <td>0.094544</td>\n",
       "      <td>1.000000</td>\n",
       "      <td>-0.148196</td>\n",
       "      <td>-0.259724</td>\n",
       "      <td>0.138016</td>\n",
       "    </tr>\n",
       "    <tr>\n",
       "      <th>SibSp</th>\n",
       "      <td>0.094459</td>\n",
       "      <td>-0.052312</td>\n",
       "      <td>-0.199204</td>\n",
       "      <td>-0.148196</td>\n",
       "      <td>1.000000</td>\n",
       "      <td>0.307210</td>\n",
       "      <td>0.344134</td>\n",
       "    </tr>\n",
       "    <tr>\n",
       "      <th>Parch</th>\n",
       "      <td>0.201071</td>\n",
       "      <td>-0.078366</td>\n",
       "      <td>-0.251872</td>\n",
       "      <td>-0.259724</td>\n",
       "      <td>0.307210</td>\n",
       "      <td>1.000000</td>\n",
       "      <td>0.311227</td>\n",
       "    </tr>\n",
       "    <tr>\n",
       "      <th>Fare</th>\n",
       "      <td>0.364889</td>\n",
       "      <td>-0.681196</td>\n",
       "      <td>-0.271353</td>\n",
       "      <td>0.138016</td>\n",
       "      <td>0.344134</td>\n",
       "      <td>0.311227</td>\n",
       "      <td>1.000000</td>\n",
       "    </tr>\n",
       "  </tbody>\n",
       "</table>\n",
       "</div>"
      ],
      "text/plain": [
       "          Survived    Pclass       Sex       Age     SibSp     Parch      Fare\n",
       "Survived  1.000000 -0.322306 -0.554888 -0.090926  0.094459  0.201071  0.364889\n",
       "Pclass   -0.322306  1.000000  0.138041 -0.327522 -0.052312 -0.078366 -0.681196\n",
       "Sex      -0.554888  0.138041  1.000000  0.094544 -0.199204 -0.251872 -0.271353\n",
       "Age      -0.090926 -0.327522  0.094544  1.000000 -0.148196 -0.259724  0.138016\n",
       "SibSp     0.094459 -0.052312 -0.199204 -0.148196  1.000000  0.307210  0.344134\n",
       "Parch     0.201071 -0.078366 -0.251872 -0.259724  0.307210  1.000000  0.311227\n",
       "Fare      0.364889 -0.681196 -0.271353  0.138016  0.344134  0.311227  1.000000"
      ]
     },
     "execution_count": 39,
     "metadata": {},
     "output_type": "execute_result"
    }
   ],
   "source": [
    "# Checking the correalation coefficient matrix\n",
    "correlation_coefficient = titanic_data2.corr()\n",
    "correlation_coefficient"
   ]
  },
  {
   "cell_type": "code",
   "execution_count": 40,
   "id": "593bf9a6",
   "metadata": {},
   "outputs": [
    {
     "data": {
      "image/png": "[encoded data removed]",
      "text/plain": [
       "<Figure size 700x700 with 2 Axes>"
      ]
     },
     "metadata": {},
     "output_type": "display_data"
    }
   ],
   "source": [
    "# Plotting the heatmap for correlation coefficient matrix\n",
    "plt.figure(figsize = (7, 7))\n",
    "sns.heatmap(correlation_coefficient, annot = True, cmap = 'coolwarm', fmt = '.2f')\n",
    "plt.title(\"Correlation Heatmap\")\n",
    "plt.show()"
   ]
  },
  {
   "cell_type": "code",
   "execution_count": 41,
   "id": "65d9ebed",
   "metadata": {
    "scrolled": true
   },
   "outputs": [],
   "source": [
    "# Extracting features and target from dataset\n",
    "features = titanic_data2.drop(columns = ['Survived'])\n",
    "target = titanic_data2['Survived']"
   ]
  },
  {
   "cell_type": "code",
   "execution_count": 42,
   "id": "79a8128f",
   "metadata": {},
   "outputs": [],
   "source": [
    "# Performing standard scaling on the features\n",
    "scaler = StandardScaler()\n",
    "scaled_titanic_data = scaler.fit_transform(features)"
   ]
  },
  {
   "cell_type": "code",
   "execution_count": 43,
   "id": "9955235a",
   "metadata": {},
   "outputs": [
    {
     "data": {
      "text/html": [
       "<div>\n",
       "<style scoped>\n",
       "    .dataframe tbody tr th:only-of-type {\n",
       "        vertical-align: middle;\n",
       "    }\n",
       "\n",
       "    .dataframe tbody tr th {\n",
       "        vertical-align: top;\n",
       "    }\n",
       "\n",
       "    .dataframe thead th {\n",
       "        text-align: right;\n",
       "    }\n",
       "</style>\n",
       "<table border=\"1\" class=\"dataframe\">\n",
       "  <thead>\n",
       "    <tr style=\"text-align: right;\">\n",
       "      <th></th>\n",
       "      <th>Pclass</th>\n",
       "      <th>Sex</th>\n",
       "      <th>Age</th>\n",
       "      <th>SibSp</th>\n",
       "      <th>Parch</th>\n",
       "      <th>Fare</th>\n",
       "    </tr>\n",
       "  </thead>\n",
       "  <tbody>\n",
       "    <tr>\n",
       "      <th>0</th>\n",
       "      <td>0.833995</td>\n",
       "      <td>0.722036</td>\n",
       "      <td>-0.641702</td>\n",
       "      <td>1.051956</td>\n",
       "      <td>-0.451141</td>\n",
       "      <td>-0.834702</td>\n",
       "    </tr>\n",
       "    <tr>\n",
       "      <th>1</th>\n",
       "      <td>-1.586804</td>\n",
       "      <td>-1.384973</td>\n",
       "      <td>0.675821</td>\n",
       "      <td>1.051956</td>\n",
       "      <td>-0.451141</td>\n",
       "      <td>1.553645</td>\n",
       "    </tr>\n",
       "    <tr>\n",
       "      <th>2</th>\n",
       "      <td>0.833995</td>\n",
       "      <td>-1.384973</td>\n",
       "      <td>-0.312321</td>\n",
       "      <td>-0.563407</td>\n",
       "      <td>-0.451141</td>\n",
       "      <td>-0.743314</td>\n",
       "    </tr>\n",
       "    <tr>\n",
       "      <th>3</th>\n",
       "      <td>-1.586804</td>\n",
       "      <td>-1.384973</td>\n",
       "      <td>0.428785</td>\n",
       "      <td>1.051956</td>\n",
       "      <td>-0.451141</td>\n",
       "      <td>1.250341</td>\n",
       "    </tr>\n",
       "    <tr>\n",
       "      <th>4</th>\n",
       "      <td>0.833995</td>\n",
       "      <td>0.722036</td>\n",
       "      <td>0.428785</td>\n",
       "      <td>-0.563407</td>\n",
       "      <td>-0.451141</td>\n",
       "      <td>-0.727191</td>\n",
       "    </tr>\n",
       "  </tbody>\n",
       "</table>\n",
       "</div>"
      ],
      "text/plain": [
       "     Pclass       Sex       Age     SibSp     Parch      Fare\n",
       "0  0.833995  0.722036 -0.641702  1.051956 -0.451141 -0.834702\n",
       "1 -1.586804 -1.384973  0.675821  1.051956 -0.451141  1.553645\n",
       "2  0.833995 -1.384973 -0.312321 -0.563407 -0.451141 -0.743314\n",
       "3 -1.586804 -1.384973  0.428785  1.051956 -0.451141  1.250341\n",
       "4  0.833995  0.722036  0.428785 -0.563407 -0.451141 -0.727191"
      ]
     },
     "execution_count": 43,
     "metadata": {},
     "output_type": "execute_result"
    }
   ],
   "source": [
    "titanic_data3 = pd.DataFrame(scaled_titanic_data, columns = features.columns[:])\n",
    "titanic_data3.head()"
   ]
  },
  {
   "cell_type": "markdown",
   "id": "e8044d2a",
   "metadata": {},
   "source": [
    "#### Checking the Variance Inflation Factor"
   ]
  },
  {
   "cell_type": "code",
   "execution_count": 44,
   "id": "bcab8b8d",
   "metadata": {},
   "outputs": [
    {
     "name": "stdout",
     "output_type": "stream",
     "text": [
      "  Features       VIF\n",
      "0   Pclass  2.189947\n",
      "1      Sex  1.130318\n",
      "2      Age  1.250818\n",
      "3    SibSp  1.278632\n",
      "4    Parch  1.300402\n",
      "5     Fare  2.484379\n"
     ]
    }
   ],
   "source": [
    "# Calculate VIF for each column\n",
    "vif_data = pd.DataFrame()\n",
    "vif_data[\"Features\"] = titanic_data3.columns\n",
    "vif_data[\"VIF\"] = [variance_inflation_factor(titanic_data3.values, i) for i in range(titanic_data3.shape[1])]\n",
    "\n",
    "# Print the VIF data\n",
    "print(vif_data)"
   ]
  },
  {
   "cell_type": "markdown",
   "id": "1c882c44",
   "metadata": {},
   "source": [
    "There is no need to drop any feature as there isn't much multicollinearity between the features."
   ]
  },
  {
   "cell_type": "code",
   "execution_count": 45,
   "id": "06cce907",
   "metadata": {},
   "outputs": [],
   "source": [
    "# Storing features and target in X and y\n",
    "X = titanic_data3\n",
    "y = target"
   ]
  },
  {
   "cell_type": "markdown",
   "id": "570aac5e",
   "metadata": {},
   "source": [
    "#### Finding the best random state"
   ]
  },
  {
   "cell_type": "code",
   "execution_count": 46,
   "id": "7dd8620c",
   "metadata": {},
   "outputs": [
    {
     "name": "stdout",
     "output_type": "stream",
     "text": [
      "Best Accuracy score is 0.8577235772357723 at random state 118\n"
     ]
    }
   ],
   "source": [
    "# Finding best random state\n",
    "max_accuracy = 0\n",
    "max_random_state = 0\n",
    "for i in range(1, 200):\n",
    "    X_train, X_test, y_train, y_test = train_test_split(X, y, test_size = 0.30, random_state = i)\n",
    "    rfc = RandomForestClassifier(random_state = i)\n",
    "    rfc.fit(X_train, y_train)\n",
    "    pred = rfc.predict(X_test)\n",
    "    accuracy = accuracy_score(y_test, pred)\n",
    "    if accuracy > max_accuracy:\n",
    "        max_accuracy = accuracy\n",
    "        max_random_state = i \n",
    "print(\"Best Accuracy score is\", max_accuracy, \"at random state\", max_random_state)"
   ]
  },
  {
   "cell_type": "markdown",
   "id": "6e2ff8a8",
   "metadata": {},
   "source": [
    "#### Splitting the dataset into training and testing sets"
   ]
  },
  {
   "cell_type": "code",
   "execution_count": 47,
   "id": "97657084",
   "metadata": {
    "scrolled": true
   },
   "outputs": [],
   "source": [
    "# Split data into training and testing sets\n",
    "X_train, X_test, y_train, y_test = train_test_split(X, y, test_size = 0.30, random_state = max_random_state)"
   ]
  },
  {
   "cell_type": "markdown",
   "id": "58ccddbf",
   "metadata": {},
   "source": [
    "#### Different Models for predicting Survival of a passenger"
   ]
  },
  {
   "cell_type": "code",
   "execution_count": 48,
   "id": "eda35e2e",
   "metadata": {
    "scrolled": true
   },
   "outputs": [
    {
     "name": "stdout",
     "output_type": "stream",
     "text": [
      "Accuracy score: 0.8048780487804879\n",
      "Classifiction report:               precision    recall  f1-score   support\n",
      "\n",
      "           0       0.83      0.87      0.85       153\n",
      "           1       0.76      0.70      0.73        93\n",
      "\n",
      "    accuracy                           0.80       246\n",
      "   macro avg       0.80      0.78      0.79       246\n",
      "weighted avg       0.80      0.80      0.80       246\n",
      "\n",
      "Confusion matrix: [[133  20]\n",
      " [ 28  65]]\n"
     ]
    }
   ],
   "source": [
    "# Using different classification models for predicting survival of a passenger\n",
    "\n",
    "# Logistic Regression\n",
    "lr_model = LogisticRegression()\n",
    "lr_model.fit(X_train, y_train)\n",
    "y_pred_lr = lr_model.predict(X_test)\n",
    "\n",
    "print(\"Accuracy score:\", accuracy_score(y_test, y_pred_lr))\n",
    "print(\"Classifiction report:\", classification_report(y_test, y_pred_lr))\n",
    "print(\"Confusion matrix:\", confusion_matrix(y_test, y_pred_lr))"
   ]
  },
  {
   "cell_type": "code",
   "execution_count": 49,
   "id": "95372c09",
   "metadata": {
    "scrolled": true
   },
   "outputs": [
    {
     "name": "stdout",
     "output_type": "stream",
     "text": [
      "Accuracy score: 0.8252032520325203\n",
      "Classifiction report:               precision    recall  f1-score   support\n",
      "\n",
      "           0       0.84      0.88      0.86       153\n",
      "           1       0.79      0.73      0.76        93\n",
      "\n",
      "    accuracy                           0.83       246\n",
      "   macro avg       0.82      0.81      0.81       246\n",
      "weighted avg       0.82      0.83      0.82       246\n",
      "\n",
      "Confusion matrix: [[135  18]\n",
      " [ 25  68]]\n"
     ]
    }
   ],
   "source": [
    "# K-Nearest Neighbors\n",
    "knc_model = KNeighborsClassifier(n_neighbors = 3)\n",
    "knc_model.fit(X_train, y_train)\n",
    "y_pred_knc = knc_model.predict(X_test)\n",
    "\n",
    "print(\"Accuracy score:\", accuracy_score(y_test, y_pred_knc))\n",
    "print(\"Classifiction report:\", classification_report(y_test, y_pred_knc))\n",
    "print(\"Confusion matrix:\", confusion_matrix(y_test, y_pred_knc))"
   ]
  },
  {
   "cell_type": "code",
   "execution_count": 50,
   "id": "226ed57d",
   "metadata": {},
   "outputs": [
    {
     "name": "stdout",
     "output_type": "stream",
     "text": [
      "Accuracy score: 0.7276422764227642\n",
      "Classifiction report:               precision    recall  f1-score   support\n",
      "\n",
      "           0       0.77      0.81      0.79       153\n",
      "           1       0.65      0.59      0.62        93\n",
      "\n",
      "    accuracy                           0.73       246\n",
      "   macro avg       0.71      0.70      0.70       246\n",
      "weighted avg       0.72      0.73      0.72       246\n",
      "\n",
      "Confusion matrix: [[124  29]\n",
      " [ 38  55]]\n"
     ]
    }
   ],
   "source": [
    "# Gaussian Naive Bayes\n",
    "gnb_model = GaussianNB()\n",
    "gnb_model.fit(X_train, y_train)\n",
    "y_pred_gnb = gnb_model.predict(X_test)\n",
    "\n",
    "print(\"Accuracy score:\", accuracy_score(y_test, y_pred_gnb))\n",
    "print(\"Classifiction report:\", classification_report(y_test, y_pred_gnb))\n",
    "print(\"Confusion matrix:\", confusion_matrix(y_test, y_pred_gnb))"
   ]
  },
  {
   "cell_type": "code",
   "execution_count": 51,
   "id": "89787744",
   "metadata": {},
   "outputs": [
    {
     "name": "stdout",
     "output_type": "stream",
     "text": [
      "Accuracy score: 0.8455284552845529\n",
      "Classifiction report:               precision    recall  f1-score   support\n",
      "\n",
      "           0       0.85      0.91      0.88       153\n",
      "           1       0.83      0.74      0.78        93\n",
      "\n",
      "    accuracy                           0.85       246\n",
      "   macro avg       0.84      0.83      0.83       246\n",
      "weighted avg       0.84      0.85      0.84       246\n",
      "\n",
      "Confusion matrix: [[139  14]\n",
      " [ 24  69]]\n"
     ]
    }
   ],
   "source": [
    "# Support Vector Classifier\n",
    "svc_model = SVC()\n",
    "svc_model.fit(X_train, y_train)\n",
    "y_pred_svc = svc_model.predict(X_test)\n",
    "\n",
    "print(\"Accuracy score:\", accuracy_score(y_test, y_pred_svc))\n",
    "print(\"Classifiction report:\", classification_report(y_test, y_pred_svc))\n",
    "print(\"Confusion matrix:\", confusion_matrix(y_test, y_pred_svc))"
   ]
  },
  {
   "cell_type": "code",
   "execution_count": 52,
   "id": "bd21b808",
   "metadata": {},
   "outputs": [
    {
     "name": "stdout",
     "output_type": "stream",
     "text": [
      "Accuracy score: 0.7764227642276422\n",
      "Classifiction report:               precision    recall  f1-score   support\n",
      "\n",
      "           0       0.83      0.81      0.82       153\n",
      "           1       0.70      0.72      0.71        93\n",
      "\n",
      "    accuracy                           0.78       246\n",
      "   macro avg       0.76      0.77      0.76       246\n",
      "weighted avg       0.78      0.78      0.78       246\n",
      "\n",
      "Confusion matrix: [[124  29]\n",
      " [ 26  67]]\n"
     ]
    }
   ],
   "source": [
    "# Decision Tree Classifier\n",
    "dtc_model = DecisionTreeClassifier(criterion = 'entropy', random_state = 7)\n",
    "dtc_model.fit(X_train, y_train)\n",
    "y_pred_dtc = dtc_model.predict(X_test)\n",
    "\n",
    "print(\"Accuracy score:\", accuracy_score(y_test, y_pred_dtc))\n",
    "print(\"Classifiction report:\", classification_report(y_test, y_pred_dtc))\n",
    "print(\"Confusion matrix:\", confusion_matrix(y_test, y_pred_dtc))"
   ]
  },
  {
   "cell_type": "code",
   "execution_count": 53,
   "id": "76b558a1",
   "metadata": {},
   "outputs": [
    {
     "name": "stdout",
     "output_type": "stream",
     "text": [
      "Accuracy score: 0.8292682926829268\n",
      "Classifiction report:               precision    recall  f1-score   support\n",
      "\n",
      "           0       0.85      0.88      0.86       153\n",
      "           1       0.79      0.75      0.77        93\n",
      "\n",
      "    accuracy                           0.83       246\n",
      "   macro avg       0.82      0.81      0.82       246\n",
      "weighted avg       0.83      0.83      0.83       246\n",
      "\n",
      "Confusion matrix: [[134  19]\n",
      " [ 23  70]]\n"
     ]
    }
   ],
   "source": [
    "# Random Forest Classifier \n",
    "rfc_model = RandomForestClassifier(random_state = 1)\n",
    "rfc_model.fit(X_train, y_train)\n",
    "y_pred_rfc = rfc_model.predict(X_test)\n",
    "\n",
    "print(\"Accuracy score:\", accuracy_score(y_test, y_pred_rfc))\n",
    "print(\"Classifiction report:\", classification_report(y_test, y_pred_rfc))\n",
    "print(\"Confusion matrix:\", confusion_matrix(y_test, y_pred_rfc))"
   ]
  },
  {
   "cell_type": "code",
   "execution_count": 54,
   "id": "6802f60b",
   "metadata": {
    "scrolled": false
   },
   "outputs": [
    {
     "name": "stdout",
     "output_type": "stream",
     "text": [
      "Accuracy score: 0.8333333333333334\n",
      "Classifiction report:               precision    recall  f1-score   support\n",
      "\n",
      "           0       0.85      0.88      0.87       153\n",
      "           1       0.80      0.75      0.77        93\n",
      "\n",
      "    accuracy                           0.83       246\n",
      "   macro avg       0.82      0.82      0.82       246\n",
      "weighted avg       0.83      0.83      0.83       246\n",
      "\n",
      "Confusion matrix: [[135  18]\n",
      " [ 23  70]]\n"
     ]
    }
   ],
   "source": [
    "# Extra Trees Classifier\n",
    "etc_model = ExtraTreesClassifier()\n",
    "etc_model.fit(X_train, y_train)\n",
    "y_pred_etc = etc_model.predict(X_test)\n",
    "\n",
    "print(\"Accuracy score:\", accuracy_score(y_test, y_pred_etc))\n",
    "print(\"Classifiction report:\", classification_report(y_test, y_pred_etc))\n",
    "print(\"Confusion matrix:\", confusion_matrix(y_test, y_pred_etc))"
   ]
  },
  {
   "cell_type": "code",
   "execution_count": 55,
   "id": "41ec92bf",
   "metadata": {},
   "outputs": [
    {
     "name": "stdout",
     "output_type": "stream",
     "text": [
      "Accuracy score: 0.8089430894308943\n",
      "Classifiction report:               precision    recall  f1-score   support\n",
      "\n",
      "           0       0.84      0.86      0.85       153\n",
      "           1       0.76      0.72      0.74        93\n",
      "\n",
      "    accuracy                           0.81       246\n",
      "   macro avg       0.80      0.79      0.79       246\n",
      "weighted avg       0.81      0.81      0.81       246\n",
      "\n",
      "Confusion matrix: [[132  21]\n",
      " [ 26  67]]\n"
     ]
    }
   ],
   "source": [
    "# AdaBoost Classifier\n",
    "abc_model = AdaBoostClassifier()\n",
    "abc_model.fit(X_train, y_train)\n",
    "y_pred_abc = abc_model.predict(X_test)\n",
    "\n",
    "print(\"Accuracy score:\", accuracy_score(y_test, y_pred_abc))\n",
    "print(\"Classifiction report:\", classification_report(y_test, y_pred_abc))\n",
    "print(\"Confusion matrix:\", confusion_matrix(y_test, y_pred_abc))"
   ]
  },
  {
   "cell_type": "code",
   "execution_count": 56,
   "id": "50c88642",
   "metadata": {},
   "outputs": [
    {
     "name": "stdout",
     "output_type": "stream",
     "text": [
      "Accuracy score: 0.8170731707317073\n",
      "Classifiction report:               precision    recall  f1-score   support\n",
      "\n",
      "           0       0.82      0.91      0.86       153\n",
      "           1       0.82      0.67      0.73        93\n",
      "\n",
      "    accuracy                           0.82       246\n",
      "   macro avg       0.82      0.79      0.80       246\n",
      "weighted avg       0.82      0.82      0.81       246\n",
      "\n",
      "Confusion matrix: [[139  14]\n",
      " [ 31  62]]\n"
     ]
    }
   ],
   "source": [
    "# Gradient Boosting Classifier\n",
    "gbc_model = GradientBoostingClassifier(random_state = 1)\n",
    "gbc_model.fit(X_train, y_train)\n",
    "y_pred_gbc = gbc_model.predict(X_test)\n",
    "\n",
    "print(\"Accuracy score:\", accuracy_score(y_test, y_pred_gbc))\n",
    "print(\"Classifiction report:\", classification_report(y_test, y_pred_gbc))\n",
    "print(\"Confusion matrix:\", confusion_matrix(y_test, y_pred_gbc))"
   ]
  },
  {
   "cell_type": "code",
   "execution_count": 57,
   "id": "728498f8",
   "metadata": {},
   "outputs": [
    {
     "name": "stdout",
     "output_type": "stream",
     "text": [
      "Accuracy score: 0.7967479674796748\n",
      "Classifiction report:               precision    recall  f1-score   support\n",
      "\n",
      "           0       0.82      0.86      0.84       153\n",
      "           1       0.75      0.70      0.72        93\n",
      "\n",
      "    accuracy                           0.80       246\n",
      "   macro avg       0.79      0.78      0.78       246\n",
      "weighted avg       0.79      0.80      0.80       246\n",
      "\n",
      "Confusion matrix: [[131  22]\n",
      " [ 28  65]]\n"
     ]
    }
   ],
   "source": [
    "# XGBoost Classifier\n",
    "xgbc_model = xgb.XGBClassifier(random_state = 1)\n",
    "xgbc_model.fit(X_train, y_train)\n",
    "y_pred_xgbc = xgbc_model.predict(X_test)\n",
    "\n",
    "print(\"Accuracy score:\", accuracy_score(y_test, y_pred_xgbc))\n",
    "print(\"Classifiction report:\", classification_report(y_test, y_pred_xgbc))\n",
    "print(\"Confusion matrix:\", confusion_matrix(y_test, y_pred_xgbc))"
   ]
  },
  {
   "cell_type": "code",
   "execution_count": 58,
   "id": "8137dd43",
   "metadata": {},
   "outputs": [
    {
     "name": "stdout",
     "output_type": "stream",
     "text": [
      "Accuracy score: 0.8252032520325203\n",
      "Classifiction report:               precision    recall  f1-score   support\n",
      "\n",
      "           0       0.84      0.88      0.86       153\n",
      "           1       0.79      0.73      0.76        93\n",
      "\n",
      "    accuracy                           0.83       246\n",
      "   macro avg       0.82      0.81      0.81       246\n",
      "weighted avg       0.82      0.83      0.82       246\n",
      "\n",
      "Confusion matrix: [[135  18]\n",
      " [ 25  68]]\n"
     ]
    }
   ],
   "source": [
    "# Bagging Classifier\n",
    "bc_model = BaggingClassifier()\n",
    "bc_model.fit(X_train, y_train)\n",
    "y_pred_bc = bc_model.predict(X_test)\n",
    "\n",
    "print(\"Accuracy score:\", accuracy_score(y_test, y_pred_bc))\n",
    "print(\"Classifiction report:\", classification_report(y_test, y_pred_bc))\n",
    "print(\"Confusion matrix:\", confusion_matrix(y_test, y_pred_bc))"
   ]
  },
  {
   "cell_type": "markdown",
   "id": "0f2152c3",
   "metadata": {},
   "source": [
    "#### Cross Validation"
   ]
  },
  {
   "cell_type": "code",
   "execution_count": 59,
   "id": "2599496a",
   "metadata": {},
   "outputs": [
    {
     "name": "stdout",
     "output_type": "stream",
     "text": [
      "[0.79878049 0.77439024 0.76829268 0.79878049 0.79878049]\n",
      "0.7878048780487805\n",
      "Difference between accuracy score and cross validation score: 0.017073170731707332\n"
     ]
    }
   ],
   "source": [
    "# Applying Cross Validation Methods on each model\n",
    "\n",
    "# For Logistic Regression\n",
    "cv_score = cross_val_score(lr_model, X, y)\n",
    "print(cv_score)\n",
    "print(cv_score.mean())\n",
    "print(\"Difference between accuracy score and cross validation score:\", accuracy_score(y_test, y_pred_lr) - cv_score.mean())"
   ]
  },
  {
   "cell_type": "code",
   "execution_count": 60,
   "id": "507cf72e",
   "metadata": {},
   "outputs": [
    {
     "name": "stdout",
     "output_type": "stream",
     "text": [
      "[0.78658537 0.77439024 0.84756098 0.77439024 0.83536585]\n",
      "0.8036585365853659\n",
      "Difference between accuracy score and cross validation score: 0.021544715447154417\n"
     ]
    }
   ],
   "source": [
    "# For K-Nearest Neighbors\n",
    "cv_score = cross_val_score(knc_model, X, y)\n",
    "print(cv_score)\n",
    "print(cv_score.mean())\n",
    "print(\"Difference between accuracy score and cross validation score:\", accuracy_score(y_test, y_pred_knc) - cv_score.mean())"
   ]
  },
  {
   "cell_type": "code",
   "execution_count": 61,
   "id": "ded652a7",
   "metadata": {},
   "outputs": [
    {
     "name": "stdout",
     "output_type": "stream",
     "text": [
      "[0.67682927 0.77439024 0.7804878  0.79268293 0.81097561]\n",
      "0.7670731707317073\n",
      "Difference between accuracy score and cross validation score: -0.03943089430894309\n"
     ]
    }
   ],
   "source": [
    "# For Gaussian Naive Bayes\n",
    "cv_score = cross_val_score(gnb_model, X, y)\n",
    "print(cv_score)\n",
    "print(cv_score.mean())\n",
    "print(\"Difference between accuracy score and cross validation score:\", accuracy_score(y_test, y_pred_gnb) - cv_score.mean())"
   ]
  },
  {
   "cell_type": "code",
   "execution_count": 62,
   "id": "8ded9eaf",
   "metadata": {},
   "outputs": [
    {
     "name": "stdout",
     "output_type": "stream",
     "text": [
      "[0.82926829 0.81097561 0.80487805 0.81097561 0.84756098]\n",
      "0.8207317073170731\n",
      "Difference between accuracy score and cross validation score: 0.02479674796747977\n"
     ]
    }
   ],
   "source": [
    "# For Support Vector Classifier\n",
    "cv_score = cross_val_score(svc_model, X, y)\n",
    "print(cv_score)\n",
    "print(cv_score.mean())\n",
    "print(\"Difference between accuracy score and cross validation score:\", accuracy_score(y_test, y_pred_svc) - cv_score.mean())"
   ]
  },
  {
   "cell_type": "code",
   "execution_count": 63,
   "id": "7f07ba17",
   "metadata": {},
   "outputs": [
    {
     "name": "stdout",
     "output_type": "stream",
     "text": [
      "[0.70121951 0.78658537 0.80487805 0.7804878  0.80487805]\n",
      "0.775609756097561\n",
      "Difference between accuracy score and cross validation score: 0.0008130081300812275\n"
     ]
    }
   ],
   "source": [
    "# For Decision Tree Classifier\n",
    "cv_score = cross_val_score(dtc_model, X, y)\n",
    "print(cv_score)\n",
    "print(cv_score.mean())\n",
    "print(\"Difference between accuracy score and cross validation score:\", accuracy_score(y_test, y_pred_dtc) - cv_score.mean())"
   ]
  },
  {
   "cell_type": "code",
   "execution_count": 64,
   "id": "8361cb3a",
   "metadata": {},
   "outputs": [
    {
     "name": "stdout",
     "output_type": "stream",
     "text": [
      "[0.75       0.81097561 0.84756098 0.77439024 0.83536585]\n",
      "0.8036585365853659\n",
      "Difference between accuracy score and cross validation score: 0.025609756097560887\n"
     ]
    }
   ],
   "source": [
    "# For Random Forest Classifier\n",
    "cv_score = cross_val_score(rfc_model, X, y)\n",
    "print(cv_score)\n",
    "print(cv_score.mean())\n",
    "print(\"Difference between accuracy score and cross validation score:\", accuracy_score(y_test, y_pred_rfc) - cv_score.mean())"
   ]
  },
  {
   "cell_type": "code",
   "execution_count": 65,
   "id": "f73d16e5",
   "metadata": {},
   "outputs": [
    {
     "name": "stdout",
     "output_type": "stream",
     "text": [
      "[0.73170732 0.78658537 0.8597561  0.77439024 0.79878049]\n",
      "0.7902439024390244\n",
      "Difference between accuracy score and cross validation score: 0.043089430894308944\n"
     ]
    }
   ],
   "source": [
    "# For Extra Trees Classifier\n",
    "cv_score = cross_val_score(etc_model, X, y)\n",
    "print(cv_score)\n",
    "print(cv_score.mean())\n",
    "print(\"Difference between accuracy score and cross validation score:\", accuracy_score(y_test, y_pred_etc) - cv_score.mean())"
   ]
  },
  {
   "cell_type": "code",
   "execution_count": 66,
   "id": "91fe599d",
   "metadata": {
    "scrolled": true
   },
   "outputs": [
    {
     "name": "stdout",
     "output_type": "stream",
     "text": [
      "[0.81097561 0.82317073 0.83536585 0.79268293 0.82317073]\n",
      "0.8170731707317074\n",
      "Difference between accuracy score and cross validation score: -1.1102230246251565e-16\n"
     ]
    }
   ],
   "source": [
    "# For Gradient Boosting Classifier\n",
    "cv_score = cross_val_score(gbc_model, X, y)\n",
    "print(cv_score)\n",
    "print(cv_score.mean())\n",
    "print(\"Difference between accuracy score and cross validation score:\", accuracy_score(y_test, y_pred_gbc) - cv_score.mean())"
   ]
  },
  {
   "cell_type": "code",
   "execution_count": 67,
   "id": "1297aad7",
   "metadata": {
    "scrolled": true
   },
   "outputs": [
    {
     "name": "stdout",
     "output_type": "stream",
     "text": [
      "[0.76829268 0.78658537 0.79878049 0.79268293 0.84756098]\n",
      "0.7987804878048781\n",
      "Difference between accuracy score and cross validation score: 0.010162601626016232\n"
     ]
    }
   ],
   "source": [
    "# For AdaBoost Classifier\n",
    "cv_score = cross_val_score(abc_model, X, y)\n",
    "print(cv_score)\n",
    "print(cv_score.mean())\n",
    "print(\"Difference between accuracy score and cross validation score:\", accuracy_score(y_test, y_pred_abc) - cv_score.mean())"
   ]
  },
  {
   "cell_type": "code",
   "execution_count": 68,
   "id": "d4b0a3e4",
   "metadata": {},
   "outputs": [
    {
     "name": "stdout",
     "output_type": "stream",
     "text": [
      "[0.73780488 0.81707317 0.86585366 0.76829268 0.81097561]\n",
      "0.7999999999999999\n",
      "Difference between accuracy score and cross validation score: -0.003252032520325132\n"
     ]
    }
   ],
   "source": [
    "# For XGBoost Classifier\n",
    "cv_score = cross_val_score(xgbc_model, X, y)\n",
    "print(cv_score)\n",
    "print(cv_score.mean())\n",
    "print(\"Difference between accuracy score and cross validation score:\", accuracy_score(y_test, y_pred_xgbc) - cv_score.mean())"
   ]
  },
  {
   "cell_type": "code",
   "execution_count": 69,
   "id": "021fe9e2",
   "metadata": {},
   "outputs": [
    {
     "name": "stdout",
     "output_type": "stream",
     "text": [
      "[0.7804878  0.76829268 0.84756098 0.78658537 0.81097561]\n",
      "0.7987804878048781\n",
      "Difference between accuracy score and cross validation score: 0.026422764227642226\n"
     ]
    }
   ],
   "source": [
    "# For Bagging Classifier\n",
    "cv_score = cross_val_score(bc_model, X, y)\n",
    "print(cv_score)\n",
    "print(cv_score.mean())\n",
    "print(\"Difference between accuracy score and cross validation score:\", accuracy_score(y_test, y_pred_bc) - cv_score.mean())"
   ]
  },
  {
   "cell_type": "markdown",
   "id": "95261957",
   "metadata": {},
   "source": [
    "Gradient Boosting Classifier has given least difference between accuracy score and cross validation score that is -1.1102230246251565e-16\n",
    "\n",
    "Gradient Boosting Classifier model is the best model"
   ]
  },
  {
   "cell_type": "markdown",
   "id": "375ed2cd",
   "metadata": {},
   "source": [
    "#### Hyper Parameter Tuning"
   ]
  },
  {
   "cell_type": "code",
   "execution_count": 70,
   "id": "3bbc26d4",
   "metadata": {},
   "outputs": [],
   "source": [
    "# Hyper parameter tuning\n",
    "\n",
    "# Define the hyperparameter grid for tuning\n",
    "param_grid = {\n",
    "    'n_estimators': [50, 100],  # Number of boosting stages\n",
    "    'learning_rate': [0.1, 0.2],  # Step size for each iteration\n",
    "    'max_depth': [3, 4],  # Maximum depth of individual trees\n",
    "    'min_samples_split': [2, 4],  # Minimum number of samples required to split an internal node\n",
    "    'min_samples_leaf': [1, 2],  # Minimum number of samples required to be at a leaf node\n",
    "    'subsample': [0.8, 1.0],  # Fraction of samples used for fitting individual trees\n",
    "    'max_features': ['auto', 'sqrt', 'log2'],  # Number of features to consider at each split\n",
    "}"
   ]
  },
  {
   "cell_type": "code",
   "execution_count": 71,
   "id": "ee191010",
   "metadata": {},
   "outputs": [
    {
     "data": {
      "text/plain": [
       "GridSearchCV(cv=5, estimator=GradientBoostingClassifier(),\n",
       "             param_grid={'learning_rate': [0.1, 0.2], 'max_depth': [3, 4],\n",
       "                         'max_features': ['auto', 'sqrt', 'log2'],\n",
       "                         'min_samples_leaf': [1, 2],\n",
       "                         'min_samples_split': [2, 4], 'n_estimators': [50, 100],\n",
       "                         'subsample': [0.8, 1.0]})"
      ]
     },
     "execution_count": 71,
     "metadata": {},
     "output_type": "execute_result"
    }
   ],
   "source": [
    "# Perform Grid Search Cross-Validation\n",
    "grid_search = GridSearchCV(GradientBoostingClassifier(), param_grid = param_grid, cv = 5)\n",
    "grid_search.fit(X_train, y_train)"
   ]
  },
  {
   "cell_type": "code",
   "execution_count": 72,
   "id": "db094fc8",
   "metadata": {},
   "outputs": [
    {
     "data": {
      "text/plain": [
       "{'learning_rate': 0.2,\n",
       " 'max_depth': 4,\n",
       " 'max_features': 'log2',\n",
       " 'min_samples_leaf': 2,\n",
       " 'min_samples_split': 2,\n",
       " 'n_estimators': 50,\n",
       " 'subsample': 0.8}"
      ]
     },
     "execution_count": 72,
     "metadata": {},
     "output_type": "execute_result"
    }
   ],
   "source": [
    "grid_search.best_params_"
   ]
  },
  {
   "cell_type": "code",
   "execution_count": 73,
   "id": "5a46677a",
   "metadata": {},
   "outputs": [
    {
     "name": "stdout",
     "output_type": "stream",
     "text": [
      "82.52032520325203\n"
     ]
    }
   ],
   "source": [
    "# Creating final model\n",
    "final_model = GradientBoostingClassifier(learning_rate = 0.2 , max_depth = 4, max_features = 'log2', min_samples_leaf = 2, min_samples_split = 2, n_estimators = 50, subsample = 0.8)\n",
    "final_model.fit(X_train, y_train)\n",
    "pred_values = final_model.predict(X_test)\n",
    "accu_score = accuracy_score(y_test, pred_values)\n",
    "print(accu_score * 100)"
   ]
  },
  {
   "cell_type": "markdown",
   "id": "28726820",
   "metadata": {},
   "source": [
    "#### Plotting AUC-ROC Curve"
   ]
  },
  {
   "cell_type": "code",
   "execution_count": 74,
   "id": "a947ae28",
   "metadata": {
    "scrolled": false
   },
   "outputs": [
    {
     "data": {
      "image/png": "[encoded data removed]",
      "text/plain": [
       "<Figure size 640x480 with 1 Axes>"
      ]
     },
     "metadata": {},
     "output_type": "display_data"
    }
   ],
   "source": [
    "fpr, tpr, thresolds = roc_curve(y_test, pred_values)\n",
    "roc_auc = auc(fpr, tpr)\n",
    "display = RocCurveDisplay(fpr = fpr, tpr = tpr, roc_auc = roc_auc, estimator_name = final_model)\n",
    "display.plot()\n",
    "plt.show()"
   ]
  },
  {
   "cell_type": "code",
   "execution_count": 75,
   "id": "162124e6",
   "metadata": {},
   "outputs": [
    {
     "data": {
      "text/plain": [
       "['Titanic_Survived_Project.pkl']"
      ]
     },
     "execution_count": 75,
     "metadata": {},
     "output_type": "execute_result"
    }
   ],
   "source": [
    "# Saving the model \n",
    "joblib.dump(final_model, \"Titanic_Survived_Project.pkl\")"
   ]
  },
  {
   "cell_type": "code",
   "execution_count": 76,
   "id": "dfa41af5",
   "metadata": {},
   "outputs": [],
   "source": [
    "# Loading the saved model\n",
    "model = joblib.load(\"Titanic_Survived_Project.pkl\")\n",
    "\n",
    "# Predicting values\n",
    "predicted_values = model.predict(X_test)"
   ]
  },
  {
   "cell_type": "code",
   "execution_count": 77,
   "id": "827300d9",
   "metadata": {},
   "outputs": [
    {
     "data": {
      "text/html": [
       "<div>\n",
       "<style scoped>\n",
       "    .dataframe tbody tr th:only-of-type {\n",
       "        vertical-align: middle;\n",
       "    }\n",
       "\n",
       "    .dataframe tbody tr th {\n",
       "        vertical-align: top;\n",
       "    }\n",
       "\n",
       "    .dataframe thead th {\n",
       "        text-align: right;\n",
       "    }\n",
       "</style>\n",
       "<table border=\"1\" class=\"dataframe\">\n",
       "  <thead>\n",
       "    <tr style=\"text-align: right;\">\n",
       "      <th></th>\n",
       "      <th>Actual Values</th>\n",
       "      <th>Predicted Values</th>\n",
       "    </tr>\n",
       "  </thead>\n",
       "  <tbody>\n",
       "    <tr>\n",
       "      <th>0</th>\n",
       "      <td>1</td>\n",
       "      <td>1</td>\n",
       "    </tr>\n",
       "    <tr>\n",
       "      <th>1</th>\n",
       "      <td>1</td>\n",
       "      <td>1</td>\n",
       "    </tr>\n",
       "    <tr>\n",
       "      <th>2</th>\n",
       "      <td>0</td>\n",
       "      <td>0</td>\n",
       "    </tr>\n",
       "    <tr>\n",
       "      <th>3</th>\n",
       "      <td>1</td>\n",
       "      <td>1</td>\n",
       "    </tr>\n",
       "    <tr>\n",
       "      <th>4</th>\n",
       "      <td>0</td>\n",
       "      <td>1</td>\n",
       "    </tr>\n",
       "    <tr>\n",
       "      <th>...</th>\n",
       "      <td>...</td>\n",
       "      <td>...</td>\n",
       "    </tr>\n",
       "    <tr>\n",
       "      <th>241</th>\n",
       "      <td>0</td>\n",
       "      <td>0</td>\n",
       "    </tr>\n",
       "    <tr>\n",
       "      <th>242</th>\n",
       "      <td>1</td>\n",
       "      <td>0</td>\n",
       "    </tr>\n",
       "    <tr>\n",
       "      <th>243</th>\n",
       "      <td>0</td>\n",
       "      <td>0</td>\n",
       "    </tr>\n",
       "    <tr>\n",
       "      <th>244</th>\n",
       "      <td>0</td>\n",
       "      <td>0</td>\n",
       "    </tr>\n",
       "    <tr>\n",
       "      <th>245</th>\n",
       "      <td>0</td>\n",
       "      <td>0</td>\n",
       "    </tr>\n",
       "  </tbody>\n",
       "</table>\n",
       "<p>246 rows × 2 columns</p>\n",
       "</div>"
      ],
      "text/plain": [
       "     Actual Values  Predicted Values\n",
       "0                1                 1\n",
       "1                1                 1\n",
       "2                0                 0\n",
       "3                1                 1\n",
       "4                0                 1\n",
       "..             ...               ...\n",
       "241              0                 0\n",
       "242              1                 0\n",
       "243              0                 0\n",
       "244              0                 0\n",
       "245              0                 0\n",
       "\n",
       "[246 rows x 2 columns]"
      ]
     },
     "execution_count": 77,
     "metadata": {},
     "output_type": "execute_result"
    }
   ],
   "source": [
    "# Compairing actual and predicted values\n",
    "actual_values = np.array(y_test)\n",
    "df = pd.DataFrame()\n",
    "df['Actual Values'] = actual_values\n",
    "df['Predicted Values'] = predicted_values\n",
    "df"
   ]
  },
  {
   "cell_type": "code",
   "execution_count": 78,
   "id": "1eb534fb",
   "metadata": {},
   "outputs": [
    {
     "name": "stdout",
     "output_type": "stream",
     "text": [
      "The model predicts that the person will not survive.\n"
     ]
    }
   ],
   "source": [
    "# Testing the model\n",
    "passenger_details = pd.DataFrame({\n",
    "    'Pclass': [3],       # Passenger class (1st, 2nd, or 3rd)\n",
    "    'Age': [25],         # Age of the person\n",
    "    'SibSp': [1],        # Number of siblings/spouses aboard\n",
    "    'Parch': [0],        # Number of parents/children aboard\n",
    "    'Fare': [20.5],      # Fare paid by the person\n",
    "    'Sex': [0],          # 1 if female, 0 if male     \n",
    "})\n",
    "\n",
    "# Use the trained model to predict survival\n",
    "prediction = final_model.predict(passenger_details)\n",
    "\n",
    "if prediction[0] == 1:\n",
    "    print(\"The model predicts that the person will survive.\")\n",
    "else:\n",
    "    print(\"The model predicts that the person will not survive.\")"
   ]
  }
 ],
 "metadata": {
  "kernelspec": {
   "display_name": "Python 3 (ipykernel)",
   "language": "python",
   "name": "python3"
  },
  "language_info": {
   "codemirror_mode": {
    "name": "ipython",
    "version": 3
   },
   "file_extension": ".py",
   "mimetype": "text/x-python",
   "name": "python",
   "nbconvert_exporter": "python",
   "pygments_lexer": "ipython3",
   "version": "3.9.13"
  }
 },
 "nbformat": 4,
 "nbformat_minor": 5
}
