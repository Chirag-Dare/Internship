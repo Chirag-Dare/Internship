{
 "cells": [
  {
   "cell_type": "markdown",
   "id": "2edd0583",
   "metadata": {},
   "source": [
    "11. Program to find a factorial of the number"
   ]
  },
  {
   "cell_type": "code",
   "execution_count": 7,
   "id": "ae944a3a",
   "metadata": {},
   "outputs": [
    {
     "name": "stdout",
     "output_type": "stream",
     "text": [
      "Please enter a number:5\n",
      "Factorial of 5 is 120\n"
     ]
    }
   ],
   "source": [
    "n=int(input(\"Please enter a number:\"))\n",
    "fact=1\n",
    "\n",
    "for i in range(1,n+1):\n",
    "    fact=fact*i\n",
    "    i+=1\n",
    "print(\"Factorial of\",n,\"is\",fact)"
   ]
  },
  {
   "cell_type": "markdown",
   "id": "5a160b3a",
   "metadata": {},
   "source": [
    "12. Program to find  program to find whether a number is prime or composite"
   ]
  },
  {
   "cell_type": "code",
   "execution_count": 8,
   "id": "9be6731a",
   "metadata": {},
   "outputs": [
    {
     "name": "stdout",
     "output_type": "stream",
     "text": [
      "Please enter a number:6\n",
      "6 is a composite number\n"
     ]
    }
   ],
   "source": [
    "n=int(input(\"Please enter a number:\")) \n",
    "\n",
    "if n>1:\n",
    "    for i in range(2,n):\n",
    "        if n%i==0:\n",
    "            print(n,\"is a composite number\")\n",
    "            break\n",
    "    else:\n",
    "        print(n,\"is a prime number\")\n",
    "else:\n",
    "     print(n,\"is neither a prime number nor a composite number\")"
   ]
  },
  {
   "cell_type": "markdown",
   "id": "5f62ef2a",
   "metadata": {},
   "source": [
    "13. Program to check to check whether a given string is palindrome or not"
   ]
  },
  {
   "cell_type": "code",
   "execution_count": 9,
   "id": "d7461612",
   "metadata": {},
   "outputs": [
    {
     "name": "stdout",
     "output_type": "stream",
     "text": [
      "Please enter string:Level\n",
      "Given string is palindrome\n"
     ]
    }
   ],
   "source": [
    "s=input(\"Please enter string:\")\n",
    "s1=s.lower() # Converting given string into lowercase letters and storing it in s1 variable\n",
    "reverse_s='' # reverse_s variable will store reversed string of given string, initially it will be empty\n",
    "\n",
    "for i in s1:\n",
    "    reverse_s=i+reverse_s\n",
    "\n",
    "if s1==reverse_s: # Checking whether actula string is equal to reversed string\n",
    "    print(\"Given string is palindrome\")\n",
    "else:\n",
    "    print(\"Given string is not palindrome\")"
   ]
  },
  {
   "cell_type": "markdown",
   "id": "3a216a26",
   "metadata": {},
   "source": [
    "14. Program to get the third side of right-angled triangle from two given sides"
   ]
  },
  {
   "cell_type": "code",
   "execution_count": 10,
   "id": "296ce102",
   "metadata": {},
   "outputs": [
    {
     "name": "stdout",
     "output_type": "stream",
     "text": [
      "What do you want to calculate in right angled triangle?\n",
      "Press 1 for calculating hypotenuse\n",
      "Press 2 for calculating base\n",
      "Press 3 for calculating perpendicular\n",
      "1\n",
      "Please enter the value of perpendicular:3\n",
      "Please enter the value of base:4\n",
      "Hypotenuse: 5.0\n"
     ]
    }
   ],
   "source": [
    "import math\n",
    "print(\"What do you want to calculate in right angled triangle?\")\n",
    "n=int(input(\"Press 1 for calculating hypotenuse\\nPress 2 for calculating base\\nPress 3 for calculating perpendicular\\n\"))\n",
    "\n",
    "if n==1:\n",
    "    p=float(input(\"Please enter the value of perpendicular:\"))\n",
    "    b=float(input(\"Please enter the value of base:\"))\n",
    "    h=math.sqrt(p**2+b**2)\n",
    "    print(\"Hypotenuse:\",h)\n",
    "elif n==2:\n",
    "    p=float(input(\"Please enter the value of perpendicular:\"))\n",
    "    h=float(input(\"Please enter the value of hypotenuse:\"))\n",
    "    b=math.sqrt(h**2-p**2)\n",
    "    print(\"Base:\",b)\n",
    "elif n==3:\n",
    "    b=float(input(\"Please enter the value of base:\"))\n",
    "    h=float(input(\"Please enter the value of hypotenuse:\"))\n",
    "    p=math.sqrt(h**2-b**2)\n",
    "    print(\"Perpedicular:\",p)\n",
    "else:\n",
    "    print(\"You have entered wrong number\")"
   ]
  },
  {
   "cell_type": "markdown",
   "id": "ea75b127",
   "metadata": {},
   "source": [
    "15. Program to print the frequency of each of the characters present in a given string"
   ]
  },
  {
   "cell_type": "code",
   "execution_count": 11,
   "id": "b32fb211",
   "metadata": {},
   "outputs": [
    {
     "name": "stdout",
     "output_type": "stream",
     "text": [
      "Enter a string: Programming\n",
      "P : 1\n",
      "r : 2\n",
      "o : 1\n",
      "g : 2\n",
      "a : 1\n",
      "m : 2\n",
      "i : 1\n",
      "n : 1\n"
     ]
    }
   ],
   "source": [
    "string = input(\"Enter a string: \")\n",
    "frequencies = {} # Empty disctiony for storing frequecies of letter \n",
    "\n",
    "for char in string:     # Iterate over each character in the string\n",
    "    if char in frequencies:\n",
    "        frequencies[char] += 1\n",
    "    else:\n",
    "        frequencies[char] = 1\n",
    "        \n",
    "for letter, frequency in frequencies.items():  # Print the frequencies of letter\n",
    "    print(letter, \":\", frequency)"
   ]
  }
 ],
 "metadata": {
  "kernelspec": {
   "display_name": "Python 3 (ipykernel)",
   "language": "python",
   "name": "python3"
  },
  "language_info": {
   "codemirror_mode": {
    "name": "ipython",
    "version": 3
   },
   "file_extension": ".py",
   "mimetype": "text/x-python",
   "name": "python",
   "nbconvert_exporter": "python",
   "pygments_lexer": "ipython3",
   "version": "3.9.13"
  }
 },
 "nbformat": 4,
 "nbformat_minor": 5
}
